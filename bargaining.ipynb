{
 "cells": [
  {
   "cell_type": "code",
   "execution_count": 39,
   "metadata": {},
   "outputs": [
    {
     "name": "stderr",
     "output_type": "stream",
     "text": [
      "┌ Info: Precompiling Optim [429524aa-4258-5aef-a3af-852621145aeb]\n",
      "└ @ Base loading.jl:1278\n"
     ]
    },
    {
     "data": {
      "text/plain": [
       "Plots.GRBackend()"
      ]
     },
     "execution_count": 39,
     "metadata": {},
     "output_type": "execute_result"
    }
   ],
   "source": [
    "using DataFrames\n",
    "using Underscores\n",
    "using Pkg\n",
    "using Chain\n",
    "using Optim\n",
    "\n",
    "\n",
    "using Plots\n",
    "gr()"
   ]
  },
  {
   "cell_type": "code",
   "execution_count": 40,
   "metadata": {},
   "outputs": [
    {
     "data": {
      "text/plain": [
       "rosenbrock (generic function with 1 method)"
      ]
     },
     "execution_count": 40,
     "metadata": {},
     "output_type": "execute_result"
    }
   ],
   "source": [
    "# Scratch - delete\n",
    "rosenbrock(x) = (1.0 - x[1])^2 + 100.0 * (x[2] - x[1]^2)^2\n",
    "\n"
   ]
  },
  {
   "cell_type": "code",
   "execution_count": 42,
   "metadata": {},
   "outputs": [
    {
     "data": {
      "text/plain": [
       " * Status: success\n",
       "\n",
       " * Candidate solution\n",
       "    Final objective value:     3.525527e-09\n",
       "\n",
       " * Found with\n",
       "    Algorithm:     Nelder-Mead\n",
       "\n",
       " * Convergence measures\n",
       "    √(Σ(yᵢ-ȳ)²)/n ≤ 1.0e-08\n",
       "\n",
       " * Work counters\n",
       "    Seconds run:   0  (vs limit Inf)\n",
       "    Iterations:    60\n",
       "    f(x) calls:    117\n"
      ]
     },
     "execution_count": 42,
     "metadata": {},
     "output_type": "execute_result"
    }
   ],
   "source": [
    "a = optimize(rosenbrock, [0.0, 0.0])"
   ]
  },
  {
   "cell_type": "code",
   "execution_count": 49,
   "metadata": {},
   "outputs": [
    {
     "data": {
      "text/plain": [
       "2-element Array{Float64,1}:\n",
       " 0.9999634355313174\n",
       " 0.9999315506115275"
      ]
     },
     "execution_count": 49,
     "metadata": {},
     "output_type": "execute_result"
    }
   ],
   "source": [
    "Optim.minimizer(a)"
   ]
  },
  {
   "cell_type": "code",
   "execution_count": 4,
   "metadata": {},
   "outputs": [],
   "source": [
    "abstract type Team end\n",
    "struct Aligned <: Team end\n",
    "struct Unaligned <: Team end"
   ]
  },
  {
   "cell_type": "code",
   "execution_count": 5,
   "metadata": {},
   "outputs": [
    {
     "data": {
      "text/plain": [
       "Unaligned()"
      ]
     },
     "execution_count": 5,
     "metadata": {},
     "output_type": "execute_result"
    }
   ],
   "source": [
    "aligned = Aligned()\n",
    "unaligned = Unaligned()"
   ]
  },
  {
   "cell_type": "code",
   "execution_count": 6,
   "metadata": {},
   "outputs": [
    {
     "data": {
      "text/plain": [
       "2"
      ]
     },
     "execution_count": 6,
     "metadata": {},
     "output_type": "execute_result"
    }
   ],
   "source": [
    "world1 = 1\n",
    "world2 = 2"
   ]
  },
  {
   "cell_type": "code",
   "execution_count": 7,
   "metadata": {},
   "outputs": [
    {
     "data": {
      "text/plain": [
       "2-element Array{Int64,1}:\n",
       " 1\n",
       " 2"
      ]
     },
     "execution_count": 7,
     "metadata": {},
     "output_type": "execute_result"
    }
   ],
   "source": [
    "worlds = [world1, world2]"
   ]
  },
  {
   "cell_type": "code",
   "execution_count": 8,
   "metadata": {},
   "outputs": [
    {
     "data": {
      "text/plain": [
       "2-element Array{Team,1}:\n",
       " Aligned()\n",
       " Unaligned()"
      ]
     },
     "execution_count": 8,
     "metadata": {},
     "output_type": "execute_result"
    }
   ],
   "source": [
    "teams = [aligned, unaligned]"
   ]
  },
  {
   "cell_type": "code",
   "execution_count": 52,
   "metadata": {},
   "outputs": [
    {
     "data": {
      "text/plain": [
       "make_rows (generic function with 1 method)"
      ]
     },
     "execution_count": 52,
     "metadata": {},
     "output_type": "execute_result"
    }
   ],
   "source": [
    "function make_rows(teams, worlds, aligned_measure, starting_resources)\n",
    "    rows = []\n",
    "    for i in eachindex(teams), j in eachindex(worlds)\n",
    "        team = teams[i]\n",
    "        world = worlds[j]\n",
    "        if world == worlds[1]\n",
    "            measure = aligned_measure\n",
    "        else\n",
    "            measure = 1.0\n",
    "        end\n",
    "        if i == j\n",
    "            resource = starting_resources\n",
    "        else\n",
    "            resource = 0.0\n",
    "        end\n",
    "        \n",
    "        row = (team = team, world = world, measure = measure, resource = resource)\n",
    "        push!(rows, row)\n",
    "    end\n",
    "    return rows\n",
    "end\n",
    "                \n"
   ]
  },
  {
   "cell_type": "code",
   "execution_count": 53,
   "metadata": {},
   "outputs": [
    {
     "data": {
      "text/html": [
       "<table class=\"data-frame\"><thead><tr><th></th><th>team</th><th>world</th><th>measure</th><th>resource</th></tr><tr><th></th><th>Team</th><th>Int64</th><th>Float64</th><th>Float64</th></tr></thead><tbody><p>4 rows × 4 columns</p><tr><th>1</th><td>Aligned()</td><td>1</td><td>0.1</td><td>1.0e22</td></tr><tr><th>2</th><td>Aligned()</td><td>2</td><td>1.0</td><td>0.0</td></tr><tr><th>3</th><td>Unaligned()</td><td>1</td><td>0.1</td><td>0.0</td></tr><tr><th>4</th><td>Unaligned()</td><td>2</td><td>1.0</td><td>1.0e22</td></tr></tbody></table>"
      ],
      "text/latex": [
       "\\begin{tabular}{r|cccc}\n",
       "\t& team & world & measure & resource\\\\\n",
       "\t\\hline\n",
       "\t& Team & Int64 & Float64 & Float64\\\\\n",
       "\t\\hline\n",
       "\t1 & Aligned() & 1 & 0.1 & 1.0e22 \\\\\n",
       "\t2 & Aligned() & 2 & 1.0 & 0.0 \\\\\n",
       "\t3 & Unaligned() & 1 & 0.1 & 0.0 \\\\\n",
       "\t4 & Unaligned() & 2 & 1.0 & 1.0e22 \\\\\n",
       "\\end{tabular}\n"
      ],
      "text/plain": [
       "4×4 DataFrame\n",
       "│ Row │ team        │ world │ measure │ resource │\n",
       "│     │ \u001b[90mTeam\u001b[39m        │ \u001b[90mInt64\u001b[39m │ \u001b[90mFloat64\u001b[39m │ \u001b[90mFloat64\u001b[39m  │\n",
       "├─────┼─────────────┼───────┼─────────┼──────────┤\n",
       "│ 1   │ Aligned()   │ 1     │ 0.1     │ 1.0e22   │\n",
       "│ 2   │ Aligned()   │ 2     │ 1.0     │ 0.0      │\n",
       "│ 3   │ Unaligned() │ 1     │ 0.1     │ 0.0      │\n",
       "│ 4   │ Unaligned() │ 2     │ 1.0     │ 1.0e22   │"
      ]
     },
     "execution_count": 53,
     "metadata": {},
     "output_type": "execute_result"
    }
   ],
   "source": [
    "test_data = DataFrame(make_rows(teams, worlds, .1, 10.0^22))"
   ]
  },
  {
   "cell_type": "code",
   "execution_count": 54,
   "metadata": {},
   "outputs": [
    {
     "data": {
      "text/plain": [
       "get_utility (generic function with 1 method)"
      ]
     },
     "execution_count": 54,
     "metadata": {},
     "output_type": "execute_result"
    }
   ],
   "source": [
    "function get_utility(data; resource_col = \"resource\")\n",
    "    return data.measure .* log10.(data[!, resource_col] .+ 1.0)\n",
    "end"
   ]
  },
  {
   "cell_type": "code",
   "execution_count": 56,
   "metadata": {},
   "outputs": [
    {
     "data": {
      "text/plain": [
       "4-element Array{Float64,1}:\n",
       "  2.2\n",
       "  0.0\n",
       "  0.0\n",
       " 22.0"
      ]
     },
     "execution_count": 56,
     "metadata": {},
     "output_type": "execute_result"
    }
   ],
   "source": [
    "test_data[\"utility\"] = get_utility(test_data)"
   ]
  },
  {
   "cell_type": "code",
   "execution_count": 57,
   "metadata": {},
   "outputs": [
    {
     "data": {
      "text/html": [
       "<table class=\"data-frame\"><thead><tr><th></th><th>team</th><th>world</th><th>measure</th><th>resource</th><th>utility</th></tr><tr><th></th><th>Team</th><th>Int64</th><th>Float64</th><th>Float64</th><th>Float64</th></tr></thead><tbody><p>4 rows × 5 columns</p><tr><th>1</th><td>Aligned()</td><td>1</td><td>0.1</td><td>1.0e22</td><td>2.2</td></tr><tr><th>2</th><td>Aligned()</td><td>2</td><td>1.0</td><td>0.0</td><td>0.0</td></tr><tr><th>3</th><td>Unaligned()</td><td>1</td><td>0.1</td><td>0.0</td><td>0.0</td></tr><tr><th>4</th><td>Unaligned()</td><td>2</td><td>1.0</td><td>1.0e22</td><td>22.0</td></tr></tbody></table>"
      ],
      "text/latex": [
       "\\begin{tabular}{r|ccccc}\n",
       "\t& team & world & measure & resource & utility\\\\\n",
       "\t\\hline\n",
       "\t& Team & Int64 & Float64 & Float64 & Float64\\\\\n",
       "\t\\hline\n",
       "\t1 & Aligned() & 1 & 0.1 & 1.0e22 & 2.2 \\\\\n",
       "\t2 & Aligned() & 2 & 1.0 & 0.0 & 0.0 \\\\\n",
       "\t3 & Unaligned() & 1 & 0.1 & 0.0 & 0.0 \\\\\n",
       "\t4 & Unaligned() & 2 & 1.0 & 1.0e22 & 22.0 \\\\\n",
       "\\end{tabular}\n"
      ],
      "text/plain": [
       "4×5 DataFrame\n",
       "│ Row │ team        │ world │ measure │ resource │ utility │\n",
       "│     │ \u001b[90mTeam\u001b[39m        │ \u001b[90mInt64\u001b[39m │ \u001b[90mFloat64\u001b[39m │ \u001b[90mFloat64\u001b[39m  │ \u001b[90mFloat64\u001b[39m │\n",
       "├─────┼─────────────┼───────┼─────────┼──────────┼─────────┤\n",
       "│ 1   │ Aligned()   │ 1     │ 0.1     │ 1.0e22   │ 2.2     │\n",
       "│ 2   │ Aligned()   │ 2     │ 1.0     │ 0.0      │ 0.0     │\n",
       "│ 3   │ Unaligned() │ 1     │ 0.1     │ 0.0      │ 0.0     │\n",
       "│ 4   │ Unaligned() │ 2     │ 1.0     │ 1.0e22   │ 22.0    │"
      ]
     },
     "execution_count": 57,
     "metadata": {},
     "output_type": "execute_result"
    }
   ],
   "source": [
    "test_data"
   ]
  },
  {
   "cell_type": "code",
   "execution_count": 51,
   "metadata": {},
   "outputs": [
    {
     "data": {
      "text/plain": [
       "equal_split_bargaining_strategy (generic function with 1 method)"
      ]
     },
     "execution_count": 51,
     "metadata": {},
     "output_type": "execute_result"
    }
   ],
   "source": [
    "function equal_split_bargaining_strategy(data)\n",
    "    # A simple bargaining strategy where we assume a successful negotiation\n",
    "    # results in splitting resources evenly across each world. \n",
    "    resources_df = @chain data begin\n",
    "    groupby(_, :world)\n",
    "    combine(_, :resource => sum)\n",
    "    end\n",
    "    \n",
    "    num_teams = length(unique(data.team))\n",
    "    resources_df.resource_sum /= 2\n",
    "    rename!(resources_df, (\"resource_sum\" => \"bargain_resource\")) \n",
    "    return innerjoin(data, resources_df, on=:world)\n",
    "end\n",
    "    \n",
    "    \n",
    "    \n",
    "    \n",
    "   "
   ]
  },
  {
   "cell_type": "code",
   "execution_count": null,
   "metadata": {},
   "outputs": [],
   "source": []
  },
  {
   "cell_type": "code",
   "execution_count": 190,
   "metadata": {},
   "outputs": [
    {
     "data": {
      "text/plain": [
       "get_proportional_resource_split (generic function with 2 methods)"
      ]
     },
     "execution_count": 190,
     "metadata": {},
     "output_type": "execute_result"
    }
   ],
   "source": [
    "\"\"\" data is a DataFrame containing (at least) world and resource columns\n",
    "team_proportions is a DataFrame containing team, world, and proportion columns\n",
    "\"\"\"\n",
    "function get_proportional_resource_split(data::DataFrame, team_proportions::DataFrame)\n",
    "    resources_by_world = @chain data begin\n",
    "    groupby(_, :world)\n",
    "    combine(_, :resource => sum => :total_world_resource)\n",
    "    end\n",
    "    \n",
    "    joint_data = innerjoin(team_proportions, resources_by_world, on=:world, makeunique=true)\n",
    "    joint_data[!, \"resource_after_split\"] = joint_data.total_world_resource .* joint_data.proportion\n",
    "    \n",
    "    return joint_data\n",
    "end\n",
    "\n",
    "function get_proportional_resource_split(data::DataFrame, team_proportions::Array)\n",
    "    team_proportions_df = copy(data)\n",
    "    team_proportions_df[!, \"proportion\"] = team_proportions\n",
    "    return get_proportional_resource_split(data, team_proportions_df)\n",
    "end"
   ]
  },
  {
   "cell_type": "code",
   "execution_count": 191,
   "metadata": {},
   "outputs": [
    {
     "data": {
      "text/plain": [
       "4-element Array{Float64,1}:\n",
       " 0.5\n",
       " 0.5\n",
       " 0.5\n",
       " 0.5"
      ]
     },
     "execution_count": 191,
     "metadata": {},
     "output_type": "execute_result"
    }
   ],
   "source": [
    "test_team_proportions = test_data[:, [\"team\", \"world\"]]\n",
    "test_team_proportions[!, \"proportion\"] .= .5"
   ]
  },
  {
   "cell_type": "code",
   "execution_count": 192,
   "metadata": {},
   "outputs": [
    {
     "data": {
      "text/html": [
       "<table class=\"data-frame\"><thead><tr><th></th><th>team</th><th>world</th><th>proportion</th><th>total_world_resource</th><th>resource_after_split</th></tr><tr><th></th><th>Team</th><th>Int64</th><th>Float64</th><th>Float64</th><th>Float64</th></tr></thead><tbody><p>4 rows × 5 columns</p><tr><th>1</th><td>Aligned()</td><td>1</td><td>0.5</td><td>1.0e22</td><td>5.0e21</td></tr><tr><th>2</th><td>Aligned()</td><td>2</td><td>0.5</td><td>1.0e22</td><td>5.0e21</td></tr><tr><th>3</th><td>Unaligned()</td><td>1</td><td>0.5</td><td>1.0e22</td><td>5.0e21</td></tr><tr><th>4</th><td>Unaligned()</td><td>2</td><td>0.5</td><td>1.0e22</td><td>5.0e21</td></tr></tbody></table>"
      ],
      "text/latex": [
       "\\begin{tabular}{r|ccccc}\n",
       "\t& team & world & proportion & total\\_world\\_resource & resource\\_after\\_split\\\\\n",
       "\t\\hline\n",
       "\t& Team & Int64 & Float64 & Float64 & Float64\\\\\n",
       "\t\\hline\n",
       "\t1 & Aligned() & 1 & 0.5 & 1.0e22 & 5.0e21 \\\\\n",
       "\t2 & Aligned() & 2 & 0.5 & 1.0e22 & 5.0e21 \\\\\n",
       "\t3 & Unaligned() & 1 & 0.5 & 1.0e22 & 5.0e21 \\\\\n",
       "\t4 & Unaligned() & 2 & 0.5 & 1.0e22 & 5.0e21 \\\\\n",
       "\\end{tabular}\n"
      ],
      "text/plain": [
       "4×5 DataFrame. Omitted printing of 1 columns\n",
       "│ Row │ team        │ world │ proportion │ total_world_resource │\n",
       "│     │ \u001b[90mTeam\u001b[39m        │ \u001b[90mInt64\u001b[39m │ \u001b[90mFloat64\u001b[39m    │ \u001b[90mFloat64\u001b[39m              │\n",
       "├─────┼─────────────┼───────┼────────────┼──────────────────────┤\n",
       "│ 1   │ Aligned()   │ 1     │ 0.5        │ 1.0e22               │\n",
       "│ 2   │ Aligned()   │ 2     │ 0.5        │ 1.0e22               │\n",
       "│ 3   │ Unaligned() │ 1     │ 0.5        │ 1.0e22               │\n",
       "│ 4   │ Unaligned() │ 2     │ 0.5        │ 1.0e22               │"
      ]
     },
     "execution_count": 192,
     "metadata": {},
     "output_type": "execute_result"
    }
   ],
   "source": [
    "get_proportional_resource_split(test_data, test_team_proportions)"
   ]
  },
  {
   "cell_type": "code",
   "execution_count": 193,
   "metadata": {},
   "outputs": [
    {
     "data": {
      "text/html": [
       "<table class=\"data-frame\"><thead><tr><th></th><th>team</th><th>world</th><th>measure</th><th>resource</th><th>utility</th><th>gains</th></tr><tr><th></th><th>Team</th><th>Int64</th><th>Float64</th><th>Float64</th><th>Float64</th><th>Float64</th></tr></thead><tbody><p>4 rows × 6 columns</p><tr><th>1</th><td>Aligned()</td><td>1</td><td>0.1</td><td>1.0e22</td><td>2.2</td><td>0.0</td></tr><tr><th>2</th><td>Aligned()</td><td>2</td><td>1.0</td><td>0.0</td><td>0.0</td><td>-22.0</td></tr><tr><th>3</th><td>Unaligned()</td><td>1</td><td>0.1</td><td>0.0</td><td>0.0</td><td>-2.2</td></tr><tr><th>4</th><td>Unaligned()</td><td>2</td><td>1.0</td><td>1.0e22</td><td>22.0</td><td>0.0</td></tr></tbody></table>"
      ],
      "text/latex": [
       "\\begin{tabular}{r|cccccc}\n",
       "\t& team & world & measure & resource & utility & gains\\\\\n",
       "\t\\hline\n",
       "\t& Team & Int64 & Float64 & Float64 & Float64 & Float64\\\\\n",
       "\t\\hline\n",
       "\t1 & Aligned() & 1 & 0.1 & 1.0e22 & 2.2 & 0.0 \\\\\n",
       "\t2 & Aligned() & 2 & 1.0 & 0.0 & 0.0 & -22.0 \\\\\n",
       "\t3 & Unaligned() & 1 & 0.1 & 0.0 & 0.0 & -2.2 \\\\\n",
       "\t4 & Unaligned() & 2 & 1.0 & 1.0e22 & 22.0 & 0.0 \\\\\n",
       "\\end{tabular}\n"
      ],
      "text/plain": [
       "4×6 DataFrame\n",
       "│ Row │ team        │ world │ measure │ resource │ utility │ gains   │\n",
       "│     │ \u001b[90mTeam\u001b[39m        │ \u001b[90mInt64\u001b[39m │ \u001b[90mFloat64\u001b[39m │ \u001b[90mFloat64\u001b[39m  │ \u001b[90mFloat64\u001b[39m │ \u001b[90mFloat64\u001b[39m │\n",
       "├─────┼─────────────┼───────┼─────────┼──────────┼─────────┼─────────┤\n",
       "│ 1   │ Aligned()   │ 1     │ 0.1     │ 1.0e22   │ 2.2     │ 0.0     │\n",
       "│ 2   │ Aligned()   │ 2     │ 1.0     │ 0.0      │ 0.0     │ -22.0   │\n",
       "│ 3   │ Unaligned() │ 1     │ 0.1     │ 0.0      │ 0.0     │ -2.2    │\n",
       "│ 4   │ Unaligned() │ 2     │ 1.0     │ 1.0e22   │ 22.0    │ 0.0     │"
      ]
     },
     "execution_count": 193,
     "metadata": {},
     "output_type": "execute_result"
    }
   ],
   "source": [
    "test_data"
   ]
  },
  {
   "cell_type": "code",
   "execution_count": 220,
   "metadata": {},
   "outputs": [
    {
     "data": {
      "text/plain": [
       "get_gains_df (generic function with 1 method)"
      ]
     },
     "execution_count": 220,
     "metadata": {},
     "output_type": "execute_result"
    }
   ],
   "source": [
    "\"\"\" Calculate the Nash Bargaining Solution\n",
    "per https://en.wikipedia.org/wiki/Cooperative_bargaining#The_Nash_bargaining_solution\n",
    "The NBS is the source distribution that maximizes the product of each teams gains\n",
    "relative to the utility they gain on disagreement\n",
    "(u(x) - u(d))(v(x) - v(d))\n",
    "\"\"\"\n",
    "function NBS(data, utility_fn, disagreement_strategy)\n",
    "    \n",
    "    \"\"\" Set up the function to be maximized\n",
    "        as input, take team aligned's share of resources for each\n",
    "        world. \"\"\"\n",
    "\n",
    "    \n",
    "    \"\"\" Optimization libraries assume we're trying to minimize a functionrather than\n",
    "    maximize, so we just multiply by -1\"\"\"\n",
    "    function loss(aligned_resources) \n",
    "        return -1 * get_gains(aligned_resources, data, utility_fn, disagreement_strategy)\n",
    "    end\n",
    "    \n",
    "    inner_optimizer = NelderMead()\n",
    "    results = optimize(loss, [0.0, 0.0], [1.0, 1.0], [0.5, 0.5], Fminbox(inner_optimizer))\n",
    "    return results\n",
    "end\n",
    "    \n",
    " function get_gains(aligned_resources::Array, data, utility_fn, disagreement_strategy)\n",
    "    gains_by_team = get_gains_df(aligned_resources, data, utility_fn, disagreement_strategy)\n",
    "\n",
    "    objective = prod(gains_by_team.gains)\n",
    "    return objective\n",
    "end       \n",
    "    \n",
    "function get_gains_df(aligned_resources::Array, data, utility_fn, disagreement_strategy)\n",
    "    unaligned_resources = 1.0 .- aligned_resources\n",
    "    all_resources = vcat(aligned_resources, unaligned_resources)\n",
    "    split_resources = get_proportional_resource_split(data, all_resources)\n",
    "    proposed_utilities = utility_fn(split_resources, resource_col=\"resource_after_split\")\n",
    "    disagreement_utilities = disagreement_strategy(split_resources, resource_col=\"resource\") \n",
    "\n",
    "    data[!, \"gains\"] .= proposed_utilities .- disagreement_utilities\n",
    "    gains_by_team = @chain data begin \n",
    "        groupby(_, :team)\n",
    "        combine(_, :gains => sum => :gains)\n",
    "    end\n",
    "    return gains_by_team\n",
    "end   "
   ]
  },
  {
   "cell_type": "code",
   "execution_count": 221,
   "metadata": {},
   "outputs": [
    {
     "data": {
      "text/plain": [
       "1-element Array{Float64,1}:\n",
       " 22.0"
      ]
     },
     "execution_count": 221,
     "metadata": {},
     "output_type": "execute_result"
    }
   ],
   "source": [
    "# Check world 2 utility\n",
    "@chain test_data begin\n",
    "    filter(:world => ==(world2), _)\n",
    "    combine(_, :resource => sum => :resource, :measure => maximum => :measure)\n",
    "    get_utility\n",
    "end\n",
    "    "
   ]
  },
  {
   "cell_type": "code",
   "execution_count": 222,
   "metadata": {},
   "outputs": [
    {
     "data": {
      "text/html": [
       "<table class=\"data-frame\"><thead><tr><th></th><th>team</th><th>gains</th></tr><tr><th></th><th>Team</th><th>Float64</th></tr></thead><tbody><p>2 rows × 2 columns</p><tr><th>1</th><td>Aligned()</td><td>22.0</td></tr><tr><th>2</th><td>Unaligned()</td><td>-22.0</td></tr></tbody></table>"
      ],
      "text/latex": [
       "\\begin{tabular}{r|cc}\n",
       "\t& team & gains\\\\\n",
       "\t\\hline\n",
       "\t& Team & Float64\\\\\n",
       "\t\\hline\n",
       "\t1 & Aligned() & 22.0 \\\\\n",
       "\t2 & Unaligned() & -22.0 \\\\\n",
       "\\end{tabular}\n"
      ],
      "text/plain": [
       "2×2 DataFrame\n",
       "│ Row │ team        │ gains   │\n",
       "│     │ \u001b[90mTeam\u001b[39m        │ \u001b[90mFloat64\u001b[39m │\n",
       "├─────┼─────────────┼─────────┤\n",
       "│ 1   │ Aligned()   │ 22.0    │\n",
       "│ 2   │ Unaligned() │ -22.0   │"
      ]
     },
     "execution_count": 222,
     "metadata": {},
     "output_type": "execute_result"
    }
   ],
   "source": [
    "# Assigning all the resources in world 2 to team aligned should increase its\n",
    "# utility by the above amount (since it starts at 0), and decrease\n",
    "# team unaligned's utility by the same amount\n",
    "get_gains_df([1.0, 1.00], test_data, get_utility, get_utility)"
   ]
  },
  {
   "cell_type": "code",
   "execution_count": 233,
   "metadata": {
    "scrolled": false
   },
   "outputs": [
    {
     "data": {
      "text/plain": [
       " * Status: success\n",
       "\n",
       " * Candidate solution\n",
       "    Final objective value:     -4.493076e+01\n",
       "\n",
       " * Found with\n",
       "    Algorithm:     Fminbox with Nelder-Mead\n",
       "\n",
       " * Convergence measures\n",
       "    |x - x'|               = 0.00e+00 ≤ 0.0e+00\n",
       "    |x - x'|/|x'|          = 0.00e+00 ≤ 0.0e+00\n",
       "    |f(x) - f(x')|         = 0.00e+00 ≤ 0.0e+00\n",
       "    |f(x) - f(x')|/|f(x')| = 0.00e+00 ≤ 0.0e+00\n",
       "    |g(x)|                 = 9.35e-02 ≰ 1.0e-08\n",
       "\n",
       " * Work counters\n",
       "    Seconds run:   0  (vs limit Inf)\n",
       "    Iterations:    3\n",
       "    f(x) calls:    165\n",
       "    ∇f(x) calls:   1\n"
      ]
     },
     "execution_count": 233,
     "metadata": {},
     "output_type": "execute_result"
    }
   ],
   "source": [
    "test_NBS = NBS(test_data, get_utility, get_utility)"
   ]
  },
  {
   "cell_type": "code",
   "execution_count": 235,
   "metadata": {},
   "outputs": [
    {
     "data": {
      "text/plain": [
       "2-element Array{Float64,1}:\n",
       " 0.09351900737980039\n",
       " 0.09352568445050669"
      ]
     },
     "execution_count": 235,
     "metadata": {},
     "output_type": "execute_result"
    }
   ],
   "source": [
    "test_NBS.minimizer"
   ]
  },
  {
   "cell_type": "code",
   "execution_count": 267,
   "metadata": {},
   "outputs": [
    {
     "data": {
      "text/html": [
       "<table class=\"data-frame\"><thead><tr><th></th><th>team</th><th>world</th><th>measure</th><th>resource</th><th>utility</th><th>gains</th><th>proportion</th><th>total_world_resource</th></tr><tr><th></th><th>Team</th><th>Int64</th><th>Float64</th><th>Float64</th><th>Float64</th><th>Float64</th><th>Float64</th><th>Float64</th></tr></thead><tbody><p>4 rows × 9 columns (omitted printing of 1 columns)</p><tr><th>1</th><td>Aligned()</td><td>1</td><td>0.1</td><td>1.0e22</td><td>2.2</td><td>-0.10291</td><td>0.093519</td><td>1.0e22</td></tr><tr><th>2</th><td>Aligned()</td><td>2</td><td>1.0</td><td>0.0</td><td>0.0</td><td>20.9709</td><td>0.0935257</td><td>1.0e22</td></tr><tr><th>3</th><td>Unaligned()</td><td>1</td><td>0.1</td><td>0.0</td><td>0.0</td><td>2.19574</td><td>0.906481</td><td>1.0e22</td></tr><tr><th>4</th><td>Unaligned()</td><td>2</td><td>1.0</td><td>1.0e22</td><td>22.0</td><td>-0.0426445</td><td>0.906474</td><td>1.0e22</td></tr></tbody></table>"
      ],
      "text/latex": [
       "\\begin{tabular}{r|ccccccccc}\n",
       "\t& team & world & measure & resource & utility & gains & proportion & total\\_world\\_resource & \\\\\n",
       "\t\\hline\n",
       "\t& Team & Int64 & Float64 & Float64 & Float64 & Float64 & Float64 & Float64 & \\\\\n",
       "\t\\hline\n",
       "\t1 & Aligned() & 1 & 0.1 & 1.0e22 & 2.2 & -0.10291 & 0.093519 & 1.0e22 & $\\dots$ \\\\\n",
       "\t2 & Aligned() & 2 & 1.0 & 0.0 & 0.0 & 20.9709 & 0.0935257 & 1.0e22 & $\\dots$ \\\\\n",
       "\t3 & Unaligned() & 1 & 0.1 & 0.0 & 0.0 & 2.19574 & 0.906481 & 1.0e22 & $\\dots$ \\\\\n",
       "\t4 & Unaligned() & 2 & 1.0 & 1.0e22 & 22.0 & -0.0426445 & 0.906474 & 1.0e22 & $\\dots$ \\\\\n",
       "\\end{tabular}\n"
      ],
      "text/plain": [
       "4×9 DataFrame. Omitted printing of 3 columns\n",
       "│ Row │ team        │ world │ measure │ resource │ utility │ gains      │\n",
       "│     │ \u001b[90mTeam\u001b[39m        │ \u001b[90mInt64\u001b[39m │ \u001b[90mFloat64\u001b[39m │ \u001b[90mFloat64\u001b[39m  │ \u001b[90mFloat64\u001b[39m │ \u001b[90mFloat64\u001b[39m    │\n",
       "├─────┼─────────────┼───────┼─────────┼──────────┼─────────┼────────────┤\n",
       "│ 1   │ Aligned()   │ 1     │ 0.1     │ 1.0e22   │ 2.2     │ -0.10291   │\n",
       "│ 2   │ Aligned()   │ 2     │ 1.0     │ 0.0      │ 0.0     │ 20.9709    │\n",
       "│ 3   │ Unaligned() │ 1     │ 0.1     │ 0.0      │ 0.0     │ 2.19574    │\n",
       "│ 4   │ Unaligned() │ 2     │ 1.0     │ 1.0e22   │ 22.0    │ -0.0426445 │"
      ]
     },
     "execution_count": 267,
     "metadata": {},
     "output_type": "execute_result"
    }
   ],
   "source": [
    "get_proportional_resource_split(test_data, vcat(test_NBS.minimizer, 1 .- test_NBS.minimizer)) "
   ]
  },
  {
   "cell_type": "code",
   "execution_count": 237,
   "metadata": {},
   "outputs": [
    {
     "data": {
      "text/plain": [
       "standard_failure (generic function with 1 method)"
      ]
     },
     "execution_count": 237,
     "metadata": {},
     "output_type": "execute_result"
    }
   ],
   "source": [
    "function standard_failure(data)\n",
    "    return get_utility(data, resource_col=\"resource\")\n",
    "end"
   ]
  },
  {
   "cell_type": "code",
   "execution_count": 242,
   "metadata": {},
   "outputs": [
    {
     "data": {
      "text/plain": [
       "expected_utilities (generic function with 1 method)"
      ]
     },
     "execution_count": 242,
     "metadata": {},
     "output_type": "execute_result"
    }
   ],
   "source": [
    "function expected_utilities(data, utility_fn, bargaining_strategy, bargain_failure_utility, p_bargaining_success)\n",
    "    # Get expected utility grouped by team, based on the utility, bargaining strategy, and probability\n",
    "    # that bargaining succeeds\n",
    "    aligned_resource_bargained = bargaining_strategy(data, utility_fn, bargain_failure_utility).minimizer\n",
    "    data_with_bargain_resources::DataFrame = get_proportional_resource_split(data, vcat(aligned_resource_bargained, 1 .- aligned_resource_bargained))\n",
    "    bargain_success_utility = utility_fn(data_with_bargain_resources, resource_col=\"resource_after_split\")\n",
    "    bargain_fail_utility = bargain_failure_utility(data_with_bargain_resources)\n",
    "    data_with_bargain_resources[!, \"expected_utility\"] = p_bargaining_success .* bargain_success_utility + (1 - p_bargaining_success) .* bargain_fail_utility\n",
    "    return data_with_bargain_resources\n",
    "end\n",
    "    \n",
    "    "
   ]
  },
  {
   "cell_type": "code",
   "execution_count": 243,
   "metadata": {},
   "outputs": [
    {
     "data": {
      "text/plain": [
       "aligned_utility (generic function with 1 method)"
      ]
     },
     "execution_count": 243,
     "metadata": {},
     "output_type": "execute_result"
    }
   ],
   "source": [
    "function aligned_utility(teams, worlds, get_utility, bargaining_strategy, bargain_failure_utility, p_bargaining_success, aligned_measure, initial_resource)\n",
    "    df = make_rows(teams, worlds, aligned_measure, initial_resource) |> DataFrame\n",
    "    eu = expected_utilities(df, get_utility, bargaining_strategy, bargain_failure_utility, p_bargaining_success)\n",
    "    return @_ eu |> filter(_.team == aligned, __) |> sum(__.expected_utility)\n",
    "end"
   ]
  },
  {
   "cell_type": "code",
   "execution_count": 244,
   "metadata": {},
   "outputs": [
    {
     "data": {
      "text/plain": [
       "4.486742806735734"
      ]
     },
     "execution_count": 244,
     "metadata": {},
     "output_type": "execute_result"
    }
   ],
   "source": [
    "aligned_utility(teams, worlds, get_utility, NBS, get_utility, .1, .1, 10e22)"
   ]
  },
  {
   "cell_type": "code",
   "execution_count": 257,
   "metadata": {},
   "outputs": [
    {
     "data": {
      "text/plain": [
       "24-element Array{Float64,1}:\n",
       "      1.0e-10\n",
       "      7.405684692262443e-10\n",
       "      5.484416576121026e-9\n",
       "      4.061585988376988e-8\n",
       "      3.007882518043102e-7\n",
       "      2.2275429519995564e-6\n",
       "      1.649648074098024e-5\n",
       "      0.00012216773489967932\n",
       "      0.0009047357242349284\n",
       "      0.006700187503509584\n",
       "      0.04961947603002898\n",
       "      0.3674661940736688\n",
       "      2.7213387683753085\n",
       "     20.153376859417268\n",
       "    149.24955450518323\n",
       "   1105.2951411260233\n",
       "   8185.4673070690205\n",
       "  60618.98993497548\n",
       " 448925.12582186074\n",
       "      3.324597932270938e6\n",
       "      2.4620924014946204e7\n",
       "      1.8233480008684385e8\n",
       "      1.350314037869872e9\n",
       "      1.0e10"
      ]
     },
     "execution_count": 257,
     "metadata": {},
     "output_type": "execute_result"
    }
   ],
   "source": [
    "measures = [10.0^n for n in LinRange(-10, 10, 25)]"
   ]
  },
  {
   "cell_type": "code",
   "execution_count": 256,
   "metadata": {},
   "outputs": [
    {
     "data": {
      "text/plain": [
       "5-element LinRange{Float64}:\n",
       " 0.001,0.2505,0.5,0.7495,0.999"
      ]
     },
     "execution_count": 256,
     "metadata": {},
     "output_type": "execute_result"
    }
   ],
   "source": [
    "probabilities = LinRange(1e-3, 1 - 1e-3, 5)"
   ]
  },
  {
   "cell_type": "code",
   "execution_count": null,
   "metadata": {},
   "outputs": [],
   "source": []
  },
  {
   "cell_type": "code",
   "execution_count": 251,
   "metadata": {},
   "outputs": [
    {
     "data": {
      "text/plain": [
       "utility_from_measure_and_probability (generic function with 1 method)"
      ]
     },
     "execution_count": 251,
     "metadata": {},
     "output_type": "execute_result"
    }
   ],
   "source": [
    "function utility_from_measure_and_probability((probability, measure))\n",
    "    return aligned_utility(teams, worlds, get_utility, NBS, get_utility, probability, measure, 1e22)\n",
    "end"
   ]
  },
  {
   "cell_type": "code",
   "execution_count": 252,
   "metadata": {},
   "outputs": [
    {
     "data": {
      "text/plain": [
       "aligned_gain_ratio (generic function with 1 method)"
      ]
     },
     "execution_count": 252,
     "metadata": {},
     "output_type": "execute_result"
    }
   ],
   "source": [
    "function aligned_gain_ratio((probability, measure); step_size = 1.01)\n",
    "    default = utility_from_measure_and_probability((probability, measure))\n",
    "    gain_from_increased_measure = utility_from_measure_and_probability((probability, measure * step_size))\n",
    "    gain_from_increased_bargaining = utility_from_measure_and_probability((probability * step_size, measure))\n",
    "    \n",
    "    return ((gain_from_increased_measure - gain_from_increased_bargaining) / default)\n",
    "end\n",
    "    "
   ]
  },
  {
   "cell_type": "code",
   "execution_count": 258,
   "metadata": {},
   "outputs": [
    {
     "data": {
      "text/plain": [
       "5×24 Array{Tuple{Float64,Float64},2}:\n",
       " (0.001, 1.0e-10)   (0.001, 7.40568e-10)   …  (0.001, 1.0e10)\n",
       " (0.2505, 1.0e-10)  (0.2505, 7.40568e-10)     (0.2505, 1.0e10)\n",
       " (0.5, 1.0e-10)     (0.5, 7.40568e-10)        (0.5, 1.0e10)\n",
       " (0.7495, 1.0e-10)  (0.7495, 7.40568e-10)     (0.7495, 1.0e10)\n",
       " (0.999, 1.0e-10)   (0.999, 7.40568e-10)      (0.999, 1.0e10)"
      ]
     },
     "execution_count": 258,
     "metadata": {},
     "output_type": "execute_result"
    }
   ],
   "source": [
    "probabilities_and_measures = Base.product(probabilities, measures) |> collect"
   ]
  },
  {
   "cell_type": "code",
   "execution_count": 259,
   "metadata": {},
   "outputs": [
    {
     "data": {
      "text/plain": [
       "5×24 Array{Float64,2}:\n",
       "  0.0125668   0.013566   0.013905  …  4.01137e9  2.97069e10  2.2e11\n",
       "  3.14797     3.39827    3.48318      4.01137e9  2.97069e10  2.2e11\n",
       "  6.28338     6.78297    6.95246      4.01137e9  2.97069e10  2.2e11\n",
       "  9.41879    10.1677    10.4217       4.01137e9  2.97069e10  2.2e11\n",
       " 12.5542     13.5524    13.891        4.01137e9  2.97069e10  2.2e11"
      ]
     },
     "execution_count": 259,
     "metadata": {},
     "output_type": "execute_result"
    }
   ],
   "source": [
    "utilities_grid = map(utility_from_measure_and_probability, probabilities_and_measures)"
   ]
  },
  {
   "cell_type": "code",
   "execution_count": 260,
   "metadata": {},
   "outputs": [
    {
     "data": {
      "text/plain": [
       "5×24 Array{Float64,2}:\n",
       " -0.01  -0.00999998  -0.00999983  …  0.01        0.01  0.01  0.01  0.01\n",
       " -0.01  -0.01        -0.01           0.01        0.01  0.01  0.01  0.01\n",
       " -0.01  -0.01        -0.01           0.01        0.01  0.01  0.01  0.01\n",
       " -0.01  -0.01        -0.01           0.01        0.01  0.01  0.01  0.01\n",
       " -0.01  -0.01        -0.01           0.00999999  0.01  0.01  0.01  0.01"
      ]
     },
     "execution_count": 260,
     "metadata": {},
     "output_type": "execute_result"
    }
   ],
   "source": [
    "gains_grid = map(aligned_gain_ratio, probabilities_and_measures)"
   ]
  },
  {
   "cell_type": "code",
   "execution_count": 265,
   "metadata": {},
   "outputs": [
    {
     "data": {
      "image/svg+xml": [
       "<?xml version=\"1.0\" encoding=\"utf-8\"?>\n",
       "<svg xmlns=\"http://www.w3.org/2000/svg\" xmlns:xlink=\"http://www.w3.org/1999/xlink\" width=\"600\" height=\"400\" viewBox=\"0 0 2400 1600\">\n",
       "<defs>\n",
       "  <clipPath id=\"clip2900\">\n",
       "    <rect x=\"0\" y=\"0\" width=\"2400\" height=\"1600\"/>\n",
       "  </clipPath>\n",
       "</defs>\n",
       "<path clip-path=\"url(#clip2900)\" d=\"\n",
       "M0 1600 L2400 1600 L2400 0 L0 0  Z\n",
       "  \" fill=\"#ffffff\" fill-rule=\"evenodd\" fill-opacity=\"1\"/>\n",
       "<defs>\n",
       "  <clipPath id=\"clip2901\">\n",
       "    <rect x=\"480\" y=\"0\" width=\"1681\" height=\"1600\"/>\n",
       "  </clipPath>\n",
       "</defs>\n",
       "<path clip-path=\"url(#clip2900)\" d=\"\n",
       "M238.13 1423.18 L2112.76 1423.18 L2112.76 47.2441 L238.13 47.2441  Z\n",
       "  \" fill=\"#ffffff\" fill-rule=\"evenodd\" fill-opacity=\"1\"/>\n",
       "<defs>\n",
       "  <clipPath id=\"clip2902\">\n",
       "    <rect x=\"238\" y=\"47\" width=\"1876\" height=\"1377\"/>\n",
       "  </clipPath>\n",
       "</defs>\n",
       "<polyline clip-path=\"url(#clip2902)\" style=\"stroke:#000000; stroke-width:2; stroke-opacity:0.1; fill:none\" points=\"\n",
       "  277.185,1423.18 277.185,47.2441 \n",
       "  \"/>\n",
       "<polyline clip-path=\"url(#clip2902)\" style=\"stroke:#000000; stroke-width:2; stroke-opacity:0.1; fill:none\" points=\"\n",
       "  726.314,1423.18 726.314,47.2441 \n",
       "  \"/>\n",
       "<polyline clip-path=\"url(#clip2902)\" style=\"stroke:#000000; stroke-width:2; stroke-opacity:0.1; fill:none\" points=\"\n",
       "  1175.44,1423.18 1175.44,47.2441 \n",
       "  \"/>\n",
       "<polyline clip-path=\"url(#clip2902)\" style=\"stroke:#000000; stroke-width:2; stroke-opacity:0.1; fill:none\" points=\"\n",
       "  1624.57,1423.18 1624.57,47.2441 \n",
       "  \"/>\n",
       "<polyline clip-path=\"url(#clip2902)\" style=\"stroke:#000000; stroke-width:2; stroke-opacity:0.1; fill:none\" points=\"\n",
       "  2073.7,1423.18 2073.7,47.2441 \n",
       "  \"/>\n",
       "<polyline clip-path=\"url(#clip2902)\" style=\"stroke:#000000; stroke-width:2; stroke-opacity:0.1; fill:none\" points=\"\n",
       "  238.13,1286.69 2112.76,1286.69 \n",
       "  \"/>\n",
       "<polyline clip-path=\"url(#clip2902)\" style=\"stroke:#000000; stroke-width:2; stroke-opacity:0.1; fill:none\" points=\"\n",
       "  238.13,1010.95 2112.76,1010.95 \n",
       "  \"/>\n",
       "<polyline clip-path=\"url(#clip2902)\" style=\"stroke:#000000; stroke-width:2; stroke-opacity:0.1; fill:none\" points=\"\n",
       "  238.13,735.212 2112.76,735.212 \n",
       "  \"/>\n",
       "<polyline clip-path=\"url(#clip2902)\" style=\"stroke:#000000; stroke-width:2; stroke-opacity:0.1; fill:none\" points=\"\n",
       "  238.13,459.473 2112.76,459.473 \n",
       "  \"/>\n",
       "<polyline clip-path=\"url(#clip2902)\" style=\"stroke:#000000; stroke-width:2; stroke-opacity:0.1; fill:none\" points=\"\n",
       "  238.13,183.735 2112.76,183.735 \n",
       "  \"/>\n",
       "<polyline clip-path=\"url(#clip2900)\" style=\"stroke:#000000; stroke-width:4; stroke-opacity:1; fill:none\" points=\"\n",
       "  238.13,1423.18 2112.76,1423.18 \n",
       "  \"/>\n",
       "<polyline clip-path=\"url(#clip2900)\" style=\"stroke:#000000; stroke-width:4; stroke-opacity:1; fill:none\" points=\"\n",
       "  238.13,1423.18 238.13,47.2441 \n",
       "  \"/>\n",
       "<polyline clip-path=\"url(#clip2900)\" style=\"stroke:#000000; stroke-width:4; stroke-opacity:1; fill:none\" points=\"\n",
       "  277.185,1423.18 277.185,1406.67 \n",
       "  \"/>\n",
       "<polyline clip-path=\"url(#clip2900)\" style=\"stroke:#000000; stroke-width:4; stroke-opacity:1; fill:none\" points=\"\n",
       "  726.314,1423.18 726.314,1406.67 \n",
       "  \"/>\n",
       "<polyline clip-path=\"url(#clip2900)\" style=\"stroke:#000000; stroke-width:4; stroke-opacity:1; fill:none\" points=\"\n",
       "  1175.44,1423.18 1175.44,1406.67 \n",
       "  \"/>\n",
       "<polyline clip-path=\"url(#clip2900)\" style=\"stroke:#000000; stroke-width:4; stroke-opacity:1; fill:none\" points=\"\n",
       "  1624.57,1423.18 1624.57,1406.67 \n",
       "  \"/>\n",
       "<polyline clip-path=\"url(#clip2900)\" style=\"stroke:#000000; stroke-width:4; stroke-opacity:1; fill:none\" points=\"\n",
       "  2073.7,1423.18 2073.7,1406.67 \n",
       "  \"/>\n",
       "<polyline clip-path=\"url(#clip2900)\" style=\"stroke:#000000; stroke-width:4; stroke-opacity:1; fill:none\" points=\"\n",
       "  238.13,1286.69 260.626,1286.69 \n",
       "  \"/>\n",
       "<polyline clip-path=\"url(#clip2900)\" style=\"stroke:#000000; stroke-width:4; stroke-opacity:1; fill:none\" points=\"\n",
       "  238.13,1010.95 260.626,1010.95 \n",
       "  \"/>\n",
       "<polyline clip-path=\"url(#clip2900)\" style=\"stroke:#000000; stroke-width:4; stroke-opacity:1; fill:none\" points=\"\n",
       "  238.13,735.212 260.626,735.212 \n",
       "  \"/>\n",
       "<polyline clip-path=\"url(#clip2900)\" style=\"stroke:#000000; stroke-width:4; stroke-opacity:1; fill:none\" points=\"\n",
       "  238.13,459.473 260.626,459.473 \n",
       "  \"/>\n",
       "<polyline clip-path=\"url(#clip2900)\" style=\"stroke:#000000; stroke-width:4; stroke-opacity:1; fill:none\" points=\"\n",
       "  238.13,183.735 260.626,183.735 \n",
       "  \"/>\n",
       "<path clip-path=\"url(#clip2900)\" d=\"M 0 0 M222.67 1494.25 L230.309 1494.25 L230.309 1467.89 L221.998 1469.55 L221.998 1465.29 L230.262 1463.63 L234.938 1463.63 L234.938 1494.25 L242.577 1494.25 L242.577 1498.19 L222.67 1498.19 L222.67 1494.25 Z\" fill=\"#000000\" fill-rule=\"evenodd\" fill-opacity=\"1\" /><path clip-path=\"url(#clip2900)\" d=\"M 0 0 M257.646 1466.71 Q254.035 1466.71 252.207 1470.27 Q250.401 1473.81 250.401 1480.94 Q250.401 1488.05 252.207 1491.61 Q254.035 1495.15 257.646 1495.15 Q261.281 1495.15 263.086 1491.61 Q264.915 1488.05 264.915 1480.94 Q264.915 1473.81 263.086 1470.27 Q261.281 1466.71 257.646 1466.71 M257.646 1463 Q263.457 1463 266.512 1467.61 Q269.591 1472.19 269.591 1480.94 Q269.591 1489.67 266.512 1494.28 Q263.457 1498.86 257.646 1498.86 Q251.836 1498.86 248.758 1494.28 Q245.702 1489.67 245.702 1480.94 Q245.702 1472.19 248.758 1467.61 Q251.836 1463 257.646 1463 Z\" fill=\"#000000\" fill-rule=\"evenodd\" fill-opacity=\"1\" /><path clip-path=\"url(#clip2900)\" d=\"M 0 0 M269.591 1458.68 L279.728 1458.68 L279.728 1461.77 L269.591 1461.77 L269.591 1458.68 Z\" fill=\"#000000\" fill-rule=\"evenodd\" fill-opacity=\"1\" /><path clip-path=\"url(#clip2900)\" d=\"M 0 0 M294.248 1467.58 L300.454 1467.58 L300.454 1446.16 L293.702 1447.51 L293.702 1444.05 L300.417 1442.7 L304.216 1442.7 L304.216 1467.58 L310.422 1467.58 L310.422 1470.78 L294.248 1470.78 L294.248 1467.58 Z\" fill=\"#000000\" fill-rule=\"evenodd\" fill-opacity=\"1\" /><path clip-path=\"url(#clip2900)\" d=\"M 0 0 M322.666 1445.2 Q319.732 1445.2 318.246 1448.09 Q316.779 1450.97 316.779 1456.76 Q316.779 1462.54 318.246 1465.44 Q319.732 1468.31 322.666 1468.31 Q325.619 1468.31 327.086 1465.44 Q328.572 1462.54 328.572 1456.76 Q328.572 1450.97 327.086 1448.09 Q325.619 1445.2 322.666 1445.2 M322.666 1442.19 Q327.387 1442.19 329.87 1445.93 Q332.371 1449.66 332.371 1456.76 Q332.371 1463.86 329.87 1467.6 Q327.387 1471.32 322.666 1471.32 Q317.946 1471.32 315.444 1467.6 Q312.961 1463.86 312.961 1456.76 Q312.961 1449.66 315.444 1445.93 Q317.946 1442.19 322.666 1442.19 Z\" fill=\"#000000\" fill-rule=\"evenodd\" fill-opacity=\"1\" /><path clip-path=\"url(#clip2900)\" d=\"M 0 0 M682.049 1494.25 L689.688 1494.25 L689.688 1467.89 L681.378 1469.55 L681.378 1465.29 L689.642 1463.63 L694.318 1463.63 L694.318 1494.25 L701.956 1494.25 L701.956 1498.19 L682.049 1498.19 L682.049 1494.25 Z\" fill=\"#000000\" fill-rule=\"evenodd\" fill-opacity=\"1\" /><path clip-path=\"url(#clip2900)\" d=\"M 0 0 M717.026 1466.71 Q713.415 1466.71 711.586 1470.27 Q709.78 1473.81 709.78 1480.94 Q709.78 1488.05 711.586 1491.61 Q713.415 1495.15 717.026 1495.15 Q720.66 1495.15 722.466 1491.61 Q724.294 1488.05 724.294 1480.94 Q724.294 1473.81 722.466 1470.27 Q720.66 1466.71 717.026 1466.71 M717.026 1463 Q722.836 1463 725.891 1467.61 Q728.97 1472.19 728.97 1480.94 Q728.97 1489.67 725.891 1494.28 Q722.836 1498.86 717.026 1498.86 Q711.216 1498.86 708.137 1494.28 Q705.081 1489.67 705.081 1480.94 Q705.081 1472.19 708.137 1467.61 Q711.216 1463 717.026 1463 Z\" fill=\"#000000\" fill-rule=\"evenodd\" fill-opacity=\"1\" /><path clip-path=\"url(#clip2900)\" d=\"M 0 0 M728.97 1458.68 L739.107 1458.68 L739.107 1461.77 L728.97 1461.77 L728.97 1458.68 Z\" fill=\"#000000\" fill-rule=\"evenodd\" fill-opacity=\"1\" /><path clip-path=\"url(#clip2900)\" d=\"M 0 0 M754.267 1442.7 L769.181 1442.7 L769.181 1445.89 L757.746 1445.89 L757.746 1452.78 Q758.574 1452.5 759.401 1452.36 Q760.229 1452.21 761.056 1452.21 Q765.758 1452.21 768.504 1454.79 Q771.25 1457.37 771.25 1461.77 Q771.25 1466.3 768.429 1468.82 Q765.608 1471.32 760.473 1471.32 Q758.705 1471.32 756.862 1471.02 Q755.038 1470.72 753.082 1470.12 L753.082 1466.3 Q754.774 1467.22 756.58 1467.67 Q758.385 1468.12 760.398 1468.12 Q763.652 1468.12 765.551 1466.41 Q767.451 1464.7 767.451 1461.77 Q767.451 1458.83 765.551 1457.12 Q763.652 1455.41 760.398 1455.41 Q758.874 1455.41 757.351 1455.75 Q755.846 1456.09 754.267 1456.8 L754.267 1442.7 Z\" fill=\"#000000\" fill-rule=\"evenodd\" fill-opacity=\"1\" /><path clip-path=\"url(#clip2900)\" d=\"M 0 0 M1142.61 1494.25 L1150.25 1494.25 L1150.25 1467.89 L1141.94 1469.55 L1141.94 1465.29 L1150.21 1463.63 L1154.88 1463.63 L1154.88 1494.25 L1162.52 1494.25 L1162.52 1498.19 L1142.61 1498.19 L1142.61 1494.25 Z\" fill=\"#000000\" fill-rule=\"evenodd\" fill-opacity=\"1\" /><path clip-path=\"url(#clip2900)\" d=\"M 0 0 M1177.59 1466.71 Q1173.98 1466.71 1172.15 1470.27 Q1170.34 1473.81 1170.34 1480.94 Q1170.34 1488.05 1172.15 1491.61 Q1173.98 1495.15 1177.59 1495.15 Q1181.22 1495.15 1183.03 1491.61 Q1184.86 1488.05 1184.86 1480.94 Q1184.86 1473.81 1183.03 1470.27 Q1181.22 1466.71 1177.59 1466.71 M1177.59 1463 Q1183.4 1463 1186.46 1467.61 Q1189.53 1472.19 1189.53 1480.94 Q1189.53 1489.67 1186.46 1494.28 Q1183.4 1498.86 1177.59 1498.86 Q1171.78 1498.86 1168.7 1494.28 Q1165.65 1489.67 1165.65 1480.94 Q1165.65 1472.19 1168.7 1467.61 Q1171.78 1463 1177.59 1463 Z\" fill=\"#000000\" fill-rule=\"evenodd\" fill-opacity=\"1\" /><path clip-path=\"url(#clip2900)\" d=\"M 0 0 M1199.24 1445.2 Q1196.31 1445.2 1194.82 1448.09 Q1193.35 1450.97 1193.35 1456.76 Q1193.35 1462.54 1194.82 1465.44 Q1196.31 1468.31 1199.24 1468.31 Q1202.19 1468.31 1203.66 1465.44 Q1205.14 1462.54 1205.14 1456.76 Q1205.14 1450.97 1203.66 1448.09 Q1202.19 1445.2 1199.24 1445.2 M1199.24 1442.19 Q1203.96 1442.19 1206.44 1445.93 Q1208.94 1449.66 1208.94 1456.76 Q1208.94 1463.86 1206.44 1467.6 Q1203.96 1471.32 1199.24 1471.32 Q1194.52 1471.32 1192.02 1467.6 Q1189.53 1463.86 1189.53 1456.76 Q1189.53 1449.66 1192.02 1445.93 Q1194.52 1442.19 1199.24 1442.19 Z\" fill=\"#000000\" fill-rule=\"evenodd\" fill-opacity=\"1\" /><path clip-path=\"url(#clip2900)\" d=\"M 0 0 M1592.36 1494.25 L1600 1494.25 L1600 1467.89 L1591.69 1469.55 L1591.69 1465.29 L1599.96 1463.63 L1604.63 1463.63 L1604.63 1494.25 L1612.27 1494.25 L1612.27 1498.19 L1592.36 1498.19 L1592.36 1494.25 Z\" fill=\"#000000\" fill-rule=\"evenodd\" fill-opacity=\"1\" /><path clip-path=\"url(#clip2900)\" d=\"M 0 0 M1627.34 1466.71 Q1623.73 1466.71 1621.9 1470.27 Q1620.09 1473.81 1620.09 1480.94 Q1620.09 1488.05 1621.9 1491.61 Q1623.73 1495.15 1627.34 1495.15 Q1630.97 1495.15 1632.78 1491.61 Q1634.61 1488.05 1634.61 1480.94 Q1634.61 1473.81 1632.78 1470.27 Q1630.97 1466.71 1627.34 1466.71 M1627.34 1463 Q1633.15 1463 1636.21 1467.61 Q1639.28 1472.19 1639.28 1480.94 Q1639.28 1489.67 1636.21 1494.28 Q1633.15 1498.86 1627.34 1498.86 Q1621.53 1498.86 1618.45 1494.28 Q1615.4 1489.67 1615.4 1480.94 Q1615.4 1472.19 1618.45 1467.61 Q1621.53 1463 1627.34 1463 Z\" fill=\"#000000\" fill-rule=\"evenodd\" fill-opacity=\"1\" /><path clip-path=\"url(#clip2900)\" d=\"M 0 0 M1640.47 1442.7 L1655.38 1442.7 L1655.38 1445.89 L1643.95 1445.89 L1643.95 1452.78 Q1644.78 1452.5 1645.6 1452.36 Q1646.43 1452.21 1647.26 1452.21 Q1651.96 1452.21 1654.71 1454.79 Q1657.45 1457.37 1657.45 1461.77 Q1657.45 1466.3 1654.63 1468.82 Q1651.81 1471.32 1646.68 1471.32 Q1644.91 1471.32 1643.06 1471.02 Q1641.24 1470.72 1639.28 1470.12 L1639.28 1466.3 Q1640.98 1467.22 1642.78 1467.67 Q1644.59 1468.12 1646.6 1468.12 Q1649.85 1468.12 1651.75 1466.41 Q1653.65 1464.7 1653.65 1461.77 Q1653.65 1458.83 1651.75 1457.12 Q1649.85 1455.41 1646.6 1455.41 Q1645.08 1455.41 1643.55 1455.75 Q1642.05 1456.09 1640.47 1456.8 L1640.47 1442.7 Z\" fill=\"#000000\" fill-rule=\"evenodd\" fill-opacity=\"1\" /><path clip-path=\"url(#clip2900)\" d=\"M 0 0 M2031.24 1494.25 L2038.88 1494.25 L2038.88 1467.89 L2030.57 1469.55 L2030.57 1465.29 L2038.83 1463.63 L2043.51 1463.63 L2043.51 1494.25 L2051.15 1494.25 L2051.15 1498.19 L2031.24 1498.19 L2031.24 1494.25 Z\" fill=\"#000000\" fill-rule=\"evenodd\" fill-opacity=\"1\" /><path clip-path=\"url(#clip2900)\" d=\"M 0 0 M2066.22 1466.71 Q2062.61 1466.71 2060.78 1470.27 Q2058.97 1473.81 2058.97 1480.94 Q2058.97 1488.05 2060.78 1491.61 Q2062.61 1495.15 2066.22 1495.15 Q2069.85 1495.15 2071.66 1491.61 Q2073.49 1488.05 2073.49 1480.94 Q2073.49 1473.81 2071.66 1470.27 Q2069.85 1466.71 2066.22 1466.71 M2066.22 1463 Q2072.03 1463 2075.08 1467.61 Q2078.16 1472.19 2078.16 1480.94 Q2078.16 1489.67 2075.08 1494.28 Q2072.03 1498.86 2066.22 1498.86 Q2060.41 1498.86 2057.33 1494.28 Q2054.27 1489.67 2054.27 1480.94 Q2054.27 1472.19 2057.33 1467.61 Q2060.41 1463 2066.22 1463 Z\" fill=\"#000000\" fill-rule=\"evenodd\" fill-opacity=\"1\" /><path clip-path=\"url(#clip2900)\" d=\"M 0 0 M2078.71 1467.58 L2084.91 1467.58 L2084.91 1446.16 L2078.16 1447.51 L2078.16 1444.05 L2084.88 1442.7 L2088.68 1442.7 L2088.68 1467.58 L2094.88 1467.58 L2094.88 1470.78 L2078.71 1470.78 L2078.71 1467.58 Z\" fill=\"#000000\" fill-rule=\"evenodd\" fill-opacity=\"1\" /><path clip-path=\"url(#clip2900)\" d=\"M 0 0 M2107.13 1445.2 Q2104.19 1445.2 2102.71 1448.09 Q2101.24 1450.97 2101.24 1456.76 Q2101.24 1462.54 2102.71 1465.44 Q2104.19 1468.31 2107.13 1468.31 Q2110.08 1468.31 2111.55 1465.44 Q2113.03 1462.54 2113.03 1456.76 Q2113.03 1450.97 2111.55 1448.09 Q2110.08 1445.2 2107.13 1445.2 M2107.13 1442.19 Q2111.85 1442.19 2114.33 1445.93 Q2116.83 1449.66 2116.83 1456.76 Q2116.83 1463.86 2114.33 1467.6 Q2111.85 1471.32 2107.13 1471.32 Q2102.41 1471.32 2099.9 1467.6 Q2097.42 1463.86 2097.42 1456.76 Q2097.42 1449.66 2099.9 1445.93 Q2102.41 1442.19 2107.13 1442.19 Z\" fill=\"#000000\" fill-rule=\"evenodd\" fill-opacity=\"1\" /><path clip-path=\"url(#clip2900)\" d=\"M 0 0 M138.205 1272.49 Q134.593 1272.49 132.765 1276.05 Q130.959 1279.59 130.959 1286.72 Q130.959 1293.83 132.765 1297.4 Q134.593 1300.94 138.205 1300.94 Q141.839 1300.94 143.644 1297.4 Q145.473 1293.83 145.473 1286.72 Q145.473 1279.59 143.644 1276.05 Q141.839 1272.49 138.205 1272.49 M138.205 1268.78 Q144.015 1268.78 147.07 1273.39 Q150.149 1277.97 150.149 1286.72 Q150.149 1295.45 147.07 1300.06 Q144.015 1304.64 138.205 1304.64 Q132.394 1304.64 129.316 1300.06 Q126.26 1295.45 126.26 1286.72 Q126.26 1277.97 129.316 1273.39 Q132.394 1268.78 138.205 1268.78 Z\" fill=\"#000000\" fill-rule=\"evenodd\" fill-opacity=\"1\" /><path clip-path=\"url(#clip2900)\" d=\"M 0 0 M155.218 1298.09 L160.103 1298.09 L160.103 1303.97 L155.218 1303.97 L155.218 1298.09 Z\" fill=\"#000000\" fill-rule=\"evenodd\" fill-opacity=\"1\" /><path clip-path=\"url(#clip2900)\" d=\"M 0 0 M175.172 1272.49 Q171.561 1272.49 169.732 1276.05 Q167.927 1279.59 167.927 1286.72 Q167.927 1293.83 169.732 1297.4 Q171.561 1300.94 175.172 1300.94 Q178.806 1300.94 180.612 1297.4 Q182.44 1293.83 182.44 1286.72 Q182.44 1279.59 180.612 1276.05 Q178.806 1272.49 175.172 1272.49 M175.172 1268.78 Q180.982 1268.78 184.038 1273.39 Q187.116 1277.97 187.116 1286.72 Q187.116 1295.45 184.038 1300.06 Q180.982 1304.64 175.172 1304.64 Q169.362 1304.64 166.283 1300.06 Q163.228 1295.45 163.228 1286.72 Q163.228 1277.97 166.283 1273.39 Q169.362 1268.78 175.172 1268.78 Z\" fill=\"#000000\" fill-rule=\"evenodd\" fill-opacity=\"1\" /><path clip-path=\"url(#clip2900)\" d=\"M 0 0 M202.186 1272.49 Q198.575 1272.49 196.746 1276.05 Q194.94 1279.59 194.94 1286.72 Q194.94 1293.83 196.746 1297.4 Q198.575 1300.94 202.186 1300.94 Q205.82 1300.94 207.625 1297.4 Q209.454 1293.83 209.454 1286.72 Q209.454 1279.59 207.625 1276.05 Q205.82 1272.49 202.186 1272.49 M202.186 1268.78 Q207.996 1268.78 211.051 1273.39 Q214.13 1277.97 214.13 1286.72 Q214.13 1295.45 211.051 1300.06 Q207.996 1304.64 202.186 1304.64 Q196.376 1304.64 193.297 1300.06 Q190.241 1295.45 190.241 1286.72 Q190.241 1277.97 193.297 1273.39 Q196.376 1268.78 202.186 1268.78 Z\" fill=\"#000000\" fill-rule=\"evenodd\" fill-opacity=\"1\" /><path clip-path=\"url(#clip2900)\" d=\"M 0 0 M140.797 996.749 Q137.186 996.749 135.357 1000.31 Q133.552 1003.86 133.552 1010.99 Q133.552 1018.09 135.357 1021.66 Q137.186 1025.2 140.797 1025.2 Q144.431 1025.2 146.237 1021.66 Q148.066 1018.09 148.066 1010.99 Q148.066 1003.86 146.237 1000.31 Q144.431 996.749 140.797 996.749 M140.797 993.046 Q146.607 993.046 149.663 997.652 Q152.741 1002.24 152.741 1010.99 Q152.741 1019.71 149.663 1024.32 Q146.607 1028.9 140.797 1028.9 Q134.987 1028.9 131.908 1024.32 Q128.853 1019.71 128.853 1010.99 Q128.853 1002.24 131.908 997.652 Q134.987 993.046 140.797 993.046 Z\" fill=\"#000000\" fill-rule=\"evenodd\" fill-opacity=\"1\" /><path clip-path=\"url(#clip2900)\" d=\"M 0 0 M157.811 1022.35 L162.695 1022.35 L162.695 1028.23 L157.811 1028.23 L157.811 1022.35 Z\" fill=\"#000000\" fill-rule=\"evenodd\" fill-opacity=\"1\" /><path clip-path=\"url(#clip2900)\" d=\"M 0 0 M171.792 1024.3 L188.112 1024.3 L188.112 1028.23 L166.167 1028.23 L166.167 1024.3 Q168.829 1021.54 173.413 1016.91 Q178.019 1012.26 179.2 1010.92 Q181.445 1008.39 182.325 1006.66 Q183.227 1004.9 183.227 1003.21 Q183.227 1000.45 181.283 998.717 Q179.362 996.981 176.26 996.981 Q174.061 996.981 171.607 997.745 Q169.177 998.509 166.399 1000.06 L166.399 995.337 Q169.223 994.203 171.677 993.624 Q174.13 993.046 176.167 993.046 Q181.538 993.046 184.732 995.731 Q187.926 998.416 187.926 1002.91 Q187.926 1005.04 187.116 1006.96 Q186.329 1008.86 184.223 1011.45 Q183.644 1012.12 180.542 1015.34 Q177.44 1018.53 171.792 1024.3 Z\" fill=\"#000000\" fill-rule=\"evenodd\" fill-opacity=\"1\" /><path clip-path=\"url(#clip2900)\" d=\"M 0 0 M193.227 993.671 L211.584 993.671 L211.584 997.606 L197.51 997.606 L197.51 1006.08 Q198.528 1005.73 199.547 1005.57 Q200.565 1005.38 201.584 1005.38 Q207.371 1005.38 210.75 1008.55 Q214.13 1011.73 214.13 1017.14 Q214.13 1022.72 210.658 1025.82 Q207.186 1028.9 200.866 1028.9 Q198.69 1028.9 196.422 1028.53 Q194.176 1028.16 191.769 1027.42 L191.769 1022.72 Q193.852 1023.86 196.075 1024.41 Q198.297 1024.97 200.774 1024.97 Q204.778 1024.97 207.116 1022.86 Q209.454 1020.75 209.454 1017.14 Q209.454 1013.53 207.116 1011.43 Q204.778 1009.32 200.774 1009.32 Q198.899 1009.32 197.024 1009.74 Q195.172 1010.15 193.227 1011.03 L193.227 993.671 Z\" fill=\"#000000\" fill-rule=\"evenodd\" fill-opacity=\"1\" /><path clip-path=\"url(#clip2900)\" d=\"M 0 0 M139.2 721.011 Q135.589 721.011 133.76 724.575 Q131.955 728.117 131.955 735.247 Q131.955 742.353 133.76 745.918 Q135.589 749.46 139.2 749.46 Q142.834 749.46 144.64 745.918 Q146.468 742.353 146.468 735.247 Q146.468 728.117 144.64 724.575 Q142.834 721.011 139.2 721.011 M139.2 717.307 Q145.01 717.307 148.066 721.913 Q151.144 726.497 151.144 735.247 Q151.144 743.973 148.066 748.58 Q145.01 753.163 139.2 753.163 Q133.39 753.163 130.311 748.58 Q127.256 743.973 127.256 735.247 Q127.256 726.497 130.311 721.913 Q133.39 717.307 139.2 717.307 Z\" fill=\"#000000\" fill-rule=\"evenodd\" fill-opacity=\"1\" /><path clip-path=\"url(#clip2900)\" d=\"M 0 0 M156.214 746.612 L161.098 746.612 L161.098 752.492 L156.214 752.492 L156.214 746.612 Z\" fill=\"#000000\" fill-rule=\"evenodd\" fill-opacity=\"1\" /><path clip-path=\"url(#clip2900)\" d=\"M 0 0 M166.214 717.932 L184.57 717.932 L184.57 721.867 L170.496 721.867 L170.496 730.339 Q171.515 729.992 172.533 729.83 Q173.552 729.645 174.57 729.645 Q180.357 729.645 183.737 732.816 Q187.116 735.987 187.116 741.404 Q187.116 746.983 183.644 750.085 Q180.172 753.163 173.852 753.163 Q171.677 753.163 169.408 752.793 Q167.163 752.423 164.755 751.682 L164.755 746.983 Q166.839 748.117 169.061 748.673 Q171.283 749.228 173.76 749.228 Q177.765 749.228 180.102 747.122 Q182.44 745.015 182.44 741.404 Q182.44 737.793 180.102 735.687 Q177.765 733.58 173.76 733.58 Q171.885 733.58 170.01 733.997 Q168.158 734.413 166.214 735.293 L166.214 717.932 Z\" fill=\"#000000\" fill-rule=\"evenodd\" fill-opacity=\"1\" /><path clip-path=\"url(#clip2900)\" d=\"M 0 0 M202.186 721.011 Q198.575 721.011 196.746 724.575 Q194.94 728.117 194.94 735.247 Q194.94 742.353 196.746 745.918 Q198.575 749.46 202.186 749.46 Q205.82 749.46 207.625 745.918 Q209.454 742.353 209.454 735.247 Q209.454 728.117 207.625 724.575 Q205.82 721.011 202.186 721.011 M202.186 717.307 Q207.996 717.307 211.051 721.913 Q214.13 726.497 214.13 735.247 Q214.13 743.973 211.051 748.58 Q207.996 753.163 202.186 753.163 Q196.376 753.163 193.297 748.58 Q190.241 743.973 190.241 735.247 Q190.241 726.497 193.297 721.913 Q196.376 717.307 202.186 717.307 Z\" fill=\"#000000\" fill-rule=\"evenodd\" fill-opacity=\"1\" /><path clip-path=\"url(#clip2900)\" d=\"M 0 0 M140.103 445.272 Q136.492 445.272 134.663 448.837 Q132.857 452.378 132.857 459.508 Q132.857 466.615 134.663 470.179 Q136.492 473.721 140.103 473.721 Q143.737 473.721 145.542 470.179 Q147.371 466.615 147.371 459.508 Q147.371 452.378 145.542 448.837 Q143.737 445.272 140.103 445.272 M140.103 441.568 Q145.913 441.568 148.968 446.175 Q152.047 450.758 152.047 459.508 Q152.047 468.235 148.968 472.841 Q145.913 477.425 140.103 477.425 Q134.293 477.425 131.214 472.841 Q128.158 468.235 128.158 459.508 Q128.158 450.758 131.214 446.175 Q134.293 441.568 140.103 441.568 Z\" fill=\"#000000\" fill-rule=\"evenodd\" fill-opacity=\"1\" /><path clip-path=\"url(#clip2900)\" d=\"M 0 0 M157.116 470.874 L162.001 470.874 L162.001 476.753 L157.116 476.753 L157.116 470.874 Z\" fill=\"#000000\" fill-rule=\"evenodd\" fill-opacity=\"1\" /><path clip-path=\"url(#clip2900)\" d=\"M 0 0 M165.89 442.193 L188.112 442.193 L188.112 444.184 L175.565 476.753 L170.681 476.753 L182.487 446.129 L165.89 446.129 L165.89 442.193 Z\" fill=\"#000000\" fill-rule=\"evenodd\" fill-opacity=\"1\" /><path clip-path=\"url(#clip2900)\" d=\"M 0 0 M193.227 442.193 L211.584 442.193 L211.584 446.129 L197.51 446.129 L197.51 454.601 Q198.528 454.253 199.547 454.091 Q200.565 453.906 201.584 453.906 Q207.371 453.906 210.75 457.078 Q214.13 460.249 214.13 465.665 Q214.13 471.244 210.658 474.346 Q207.186 477.425 200.866 477.425 Q198.69 477.425 196.422 477.054 Q194.176 476.684 191.769 475.943 L191.769 471.244 Q193.852 472.378 196.075 472.934 Q198.297 473.489 200.774 473.489 Q204.778 473.489 207.116 471.383 Q209.454 469.277 209.454 465.665 Q209.454 462.054 207.116 459.948 Q204.778 457.841 200.774 457.841 Q198.899 457.841 197.024 458.258 Q195.172 458.675 193.227 459.554 L193.227 442.193 Z\" fill=\"#000000\" fill-rule=\"evenodd\" fill-opacity=\"1\" /><path clip-path=\"url(#clip2900)\" d=\"M 0 0 M130.242 197.08 L137.88 197.08 L137.88 170.714 L129.57 172.381 L129.57 168.121 L137.834 166.455 L142.51 166.455 L142.51 197.08 L150.149 197.08 L150.149 201.015 L130.242 201.015 L130.242 197.08 Z\" fill=\"#000000\" fill-rule=\"evenodd\" fill-opacity=\"1\" /><path clip-path=\"url(#clip2900)\" d=\"M 0 0 M155.218 195.135 L160.103 195.135 L160.103 201.015 L155.218 201.015 L155.218 195.135 Z\" fill=\"#000000\" fill-rule=\"evenodd\" fill-opacity=\"1\" /><path clip-path=\"url(#clip2900)\" d=\"M 0 0 M175.172 169.533 Q171.561 169.533 169.732 173.098 Q167.927 176.64 167.927 183.769 Q167.927 190.876 169.732 194.441 Q171.561 197.982 175.172 197.982 Q178.806 197.982 180.612 194.441 Q182.44 190.876 182.44 183.769 Q182.44 176.64 180.612 173.098 Q178.806 169.533 175.172 169.533 M175.172 165.83 Q180.982 165.83 184.038 170.436 Q187.116 175.019 187.116 183.769 Q187.116 192.496 184.038 197.103 Q180.982 201.686 175.172 201.686 Q169.362 201.686 166.283 197.103 Q163.228 192.496 163.228 183.769 Q163.228 175.019 166.283 170.436 Q169.362 165.83 175.172 165.83 Z\" fill=\"#000000\" fill-rule=\"evenodd\" fill-opacity=\"1\" /><path clip-path=\"url(#clip2900)\" d=\"M 0 0 M202.186 169.533 Q198.575 169.533 196.746 173.098 Q194.94 176.64 194.94 183.769 Q194.94 190.876 196.746 194.441 Q198.575 197.982 202.186 197.982 Q205.82 197.982 207.625 194.441 Q209.454 190.876 209.454 183.769 Q209.454 176.64 207.625 173.098 Q205.82 169.533 202.186 169.533 M202.186 165.83 Q207.996 165.83 211.051 170.436 Q214.13 175.019 214.13 183.769 Q214.13 192.496 211.051 197.103 Q207.996 201.686 202.186 201.686 Q196.376 201.686 193.297 197.103 Q190.241 192.496 190.241 183.769 Q190.241 175.019 193.297 170.436 Q196.376 165.83 202.186 165.83 Z\" fill=\"#000000\" fill-rule=\"evenodd\" fill-opacity=\"1\" /><path clip-path=\"url(#clip2900)\" d=\"M 0 0 M1077.98 1527.24 Q1080.18 1523.29 1083.24 1521.41 Q1086.29 1519.54 1090.43 1519.54 Q1096 1519.54 1099.02 1523.45 Q1102.05 1527.33 1102.05 1534.53 L1102.05 1556.04 L1096.16 1556.04 L1096.16 1534.72 Q1096.16 1529.59 1094.34 1527.11 Q1092.53 1524.63 1088.81 1524.63 Q1084.25 1524.63 1081.61 1527.65 Q1078.97 1530.68 1078.97 1535.9 L1078.97 1556.04 L1073.08 1556.04 L1073.08 1534.72 Q1073.08 1529.56 1071.27 1527.11 Q1069.45 1524.63 1065.67 1524.63 Q1061.18 1524.63 1058.54 1527.68 Q1055.9 1530.71 1055.9 1535.9 L1055.9 1556.04 L1050.01 1556.04 L1050.01 1520.4 L1055.9 1520.4 L1055.9 1525.93 Q1057.9 1522.66 1060.7 1521.1 Q1063.5 1519.54 1067.35 1519.54 Q1071.24 1519.54 1073.94 1521.51 Q1076.68 1523.48 1077.98 1527.24 Z\" fill=\"#000000\" fill-rule=\"evenodd\" fill-opacity=\"1\" /><path clip-path=\"url(#clip2900)\" d=\"M 0 0 M1138.68 1536.76 L1138.68 1539.62 L1111.75 1539.62 Q1112.14 1545.67 1115.38 1548.85 Q1118.66 1552 1124.49 1552 Q1127.86 1552 1131.01 1551.17 Q1134.19 1550.35 1137.31 1548.69 L1137.31 1554.23 Q1134.16 1555.57 1130.85 1556.27 Q1127.54 1556.97 1124.14 1556.97 Q1115.61 1556.97 1110.61 1552 Q1105.64 1547.04 1105.64 1538.57 Q1105.64 1529.82 1110.35 1524.69 Q1115.1 1519.54 1123.12 1519.54 Q1130.31 1519.54 1134.48 1524.18 Q1138.68 1528.8 1138.68 1536.76 M1132.82 1535.04 Q1132.76 1530.23 1130.12 1527.37 Q1127.51 1524.5 1123.18 1524.5 Q1118.28 1524.5 1115.32 1527.27 Q1112.39 1530.04 1111.95 1535.07 L1132.82 1535.04 Z\" fill=\"#000000\" fill-rule=\"evenodd\" fill-opacity=\"1\" /><path clip-path=\"url(#clip2900)\" d=\"M 0 0 M1161.02 1538.12 Q1153.93 1538.12 1151.19 1539.75 Q1148.45 1541.37 1148.45 1545.29 Q1148.45 1548.4 1150.49 1550.25 Q1152.56 1552.07 1156.09 1552.07 Q1160.96 1552.07 1163.89 1548.63 Q1166.85 1545.16 1166.85 1539.43 L1166.85 1538.12 L1161.02 1538.12 M1172.71 1535.71 L1172.71 1556.04 L1166.85 1556.04 L1166.85 1550.63 Q1164.84 1553.88 1161.85 1555.44 Q1158.86 1556.97 1154.53 1556.97 Q1149.06 1556.97 1145.81 1553.91 Q1142.6 1550.82 1142.6 1545.67 Q1142.6 1539.65 1146.61 1536.6 Q1150.65 1533.54 1158.64 1533.54 L1166.85 1533.54 L1166.85 1532.97 Q1166.85 1528.93 1164.18 1526.73 Q1161.53 1524.5 1156.73 1524.5 Q1153.67 1524.5 1150.78 1525.23 Q1147.88 1525.97 1145.21 1527.43 L1145.21 1522.02 Q1148.42 1520.78 1151.44 1520.17 Q1154.47 1519.54 1157.33 1519.54 Q1165.07 1519.54 1168.89 1523.55 Q1172.71 1527.56 1172.71 1535.71 Z\" fill=\"#000000\" fill-rule=\"evenodd\" fill-opacity=\"1\" /><path clip-path=\"url(#clip2900)\" d=\"M 0 0 M1201.57 1521.45 L1201.57 1526.98 Q1199.09 1525.71 1196.42 1525.07 Q1193.74 1524.44 1190.88 1524.44 Q1186.52 1524.44 1184.32 1525.77 Q1182.16 1527.11 1182.16 1529.79 Q1182.16 1531.82 1183.72 1533 Q1185.28 1534.15 1189.99 1535.2 L1191.99 1535.64 Q1198.23 1536.98 1200.84 1539.43 Q1203.48 1541.85 1203.48 1546.21 Q1203.48 1551.17 1199.54 1554.07 Q1195.62 1556.97 1188.75 1556.97 Q1185.88 1556.97 1182.76 1556.39 Q1179.68 1555.85 1176.24 1554.74 L1176.24 1548.69 Q1179.49 1550.38 1182.64 1551.24 Q1185.79 1552.07 1188.87 1552.07 Q1193.01 1552.07 1195.24 1550.66 Q1197.47 1549.23 1197.47 1546.65 Q1197.47 1544.27 1195.85 1542.99 Q1194.25 1541.72 1188.81 1540.54 L1186.77 1540.07 Q1181.33 1538.92 1178.91 1536.56 Q1176.49 1534.18 1176.49 1530.04 Q1176.49 1525.01 1180.06 1522.27 Q1183.62 1519.54 1190.18 1519.54 Q1193.43 1519.54 1196.29 1520.01 Q1199.16 1520.49 1201.57 1521.45 Z\" fill=\"#000000\" fill-rule=\"evenodd\" fill-opacity=\"1\" /><path clip-path=\"url(#clip2900)\" d=\"M 0 0 M1209.02 1541.98 L1209.02 1520.4 L1214.88 1520.4 L1214.88 1541.75 Q1214.88 1546.81 1216.85 1549.36 Q1218.83 1551.87 1222.77 1551.87 Q1227.51 1551.87 1230.25 1548.85 Q1233.02 1545.83 1233.02 1540.61 L1233.02 1520.4 L1238.88 1520.4 L1238.88 1556.04 L1233.02 1556.04 L1233.02 1550.57 Q1230.89 1553.82 1228.06 1555.41 Q1225.25 1556.97 1221.53 1556.97 Q1215.39 1556.97 1212.2 1553.15 Q1209.02 1549.33 1209.02 1541.98 M1223.76 1519.54 L1223.76 1519.54 Z\" fill=\"#000000\" fill-rule=\"evenodd\" fill-opacity=\"1\" /><path clip-path=\"url(#clip2900)\" d=\"M 0 0 M1265.68 1525.87 Q1264.69 1525.3 1263.51 1525.04 Q1262.37 1524.76 1260.97 1524.76 Q1256 1524.76 1253.33 1528 Q1250.69 1531.22 1250.69 1537.27 L1250.69 1556.04 L1244.8 1556.04 L1244.8 1520.4 L1250.69 1520.4 L1250.69 1525.93 Q1252.53 1522.69 1255.49 1521.13 Q1258.45 1519.54 1262.68 1519.54 Q1263.29 1519.54 1264.02 1519.63 Q1264.75 1519.7 1265.65 1519.85 L1265.68 1525.87 Z\" fill=\"#000000\" fill-rule=\"evenodd\" fill-opacity=\"1\" /><path clip-path=\"url(#clip2900)\" d=\"M 0 0 M1300.88 1536.76 L1300.88 1539.62 L1273.95 1539.62 Q1274.33 1545.67 1277.58 1548.85 Q1280.86 1552 1286.68 1552 Q1290.06 1552 1293.21 1551.17 Q1296.39 1550.35 1299.51 1548.69 L1299.51 1554.23 Q1296.36 1555.57 1293.05 1556.27 Q1289.74 1556.97 1286.33 1556.97 Q1277.8 1556.97 1272.81 1552 Q1267.84 1547.04 1267.84 1538.57 Q1267.84 1529.82 1272.55 1524.69 Q1277.29 1519.54 1285.32 1519.54 Q1292.51 1519.54 1296.68 1524.18 Q1300.88 1528.8 1300.88 1536.76 M1295.02 1535.04 Q1294.96 1530.23 1292.32 1527.37 Q1289.71 1524.5 1285.38 1524.5 Q1280.48 1524.5 1277.52 1527.27 Q1274.59 1530.04 1274.14 1535.07 L1295.02 1535.04 Z\" fill=\"#000000\" fill-rule=\"evenodd\" fill-opacity=\"1\" /><path clip-path=\"url(#clip2900)\" d=\"M 0 0 M82.657 879.252 L101.563 879.252 L101.563 885.14 L52.3562 885.14 L52.3562 879.252 L57.7671 879.252 Q54.5842 877.406 53.0564 874.605 Q51.4968 871.772 51.4968 867.857 Q51.4968 861.364 56.6531 857.322 Q61.8093 853.248 70.212 853.248 Q78.6147 853.248 83.771 857.322 Q88.9272 861.364 88.9272 867.857 Q88.9272 871.772 87.3994 874.605 Q85.8398 877.406 82.657 879.252 M70.212 859.327 Q63.7508 859.327 60.0905 862.001 Q56.3984 864.643 56.3984 869.29 Q56.3984 873.937 60.0905 876.61 Q63.7508 879.252 70.212 879.252 Q76.6732 879.252 80.3653 876.61 Q84.0256 873.937 84.0256 869.29 Q84.0256 864.643 80.3653 862.001 Q76.6732 859.327 70.212 859.327 Z\" fill=\"#000000\" fill-rule=\"evenodd\" fill-opacity=\"1\" /><path clip-path=\"url(#clip2900)\" d=\"M 0 0 M57.8307 826.448 Q57.2578 827.435 57.0032 828.613 Q56.7167 829.759 56.7167 831.159 Q56.7167 836.124 59.9632 838.798 Q63.1779 841.44 69.2253 841.44 L88.0042 841.44 L88.0042 847.328 L52.3562 847.328 L52.3562 841.44 L57.8944 841.44 Q54.6479 839.594 53.0883 836.634 Q51.4968 833.674 51.4968 829.44 Q51.4968 828.836 51.5923 828.104 Q51.656 827.371 51.8151 826.48 L57.8307 826.448 Z\" fill=\"#000000\" fill-rule=\"evenodd\" fill-opacity=\"1\" /><path clip-path=\"url(#clip2900)\" d=\"M 0 0 M56.4621 807.924 Q56.4621 812.635 60.1542 815.372 Q63.8145 818.109 70.212 818.109 Q76.6095 818.109 80.3017 815.404 Q83.9619 812.667 83.9619 807.924 Q83.9619 803.245 80.2698 800.508 Q76.5777 797.771 70.212 797.771 Q63.8781 797.771 60.186 800.508 Q56.4621 803.245 56.4621 807.924 M51.4968 807.924 Q51.4968 800.285 56.4621 795.925 Q61.4273 791.564 70.212 791.564 Q78.9649 791.564 83.9619 795.925 Q88.9272 800.285 88.9272 807.924 Q88.9272 815.595 83.9619 819.955 Q78.9649 824.284 70.212 824.284 Q61.4273 824.284 56.4621 819.955 Q51.4968 815.595 51.4968 807.924 Z\" fill=\"#000000\" fill-rule=\"evenodd\" fill-opacity=\"1\" /><path clip-path=\"url(#clip2900)\" d=\"M 0 0 M70.212 759.831 Q63.7508 759.831 60.0905 762.505 Q56.3984 765.147 56.3984 769.794 Q56.3984 774.441 60.0905 777.114 Q63.7508 779.756 70.212 779.756 Q76.6732 779.756 80.3653 777.114 Q84.0256 774.441 84.0256 769.794 Q84.0256 765.147 80.3653 762.505 Q76.6732 759.831 70.212 759.831 M57.7671 779.756 Q54.5842 777.91 53.0564 775.109 Q51.4968 772.276 51.4968 768.361 Q51.4968 761.868 56.6531 757.826 Q61.8093 753.752 70.212 753.752 Q78.6147 753.752 83.771 757.826 Q88.9272 761.868 88.9272 768.361 Q88.9272 772.276 87.3994 775.109 Q85.8398 777.91 82.657 779.756 L88.0042 779.756 L88.0042 785.644 L38.479 785.644 L38.479 779.756 L57.7671 779.756 Z\" fill=\"#000000\" fill-rule=\"evenodd\" fill-opacity=\"1\" /><path clip-path=\"url(#clip2900)\" d=\"M 0 0 M70.0847 731.408 Q70.0847 738.506 71.7079 741.243 Q73.3312 743.981 77.2461 743.981 Q80.3653 743.981 82.2114 741.944 Q84.0256 739.875 84.0256 736.342 Q84.0256 731.472 80.5881 728.544 Q77.1188 725.584 71.3897 725.584 L70.0847 725.584 L70.0847 731.408 M67.6657 719.727 L88.0042 719.727 L88.0042 725.584 L82.5933 725.584 Q85.8398 727.589 87.3994 730.581 Q88.9272 733.573 88.9272 737.901 Q88.9272 743.376 85.8716 746.622 Q82.7843 749.837 77.6281 749.837 Q71.6125 749.837 68.5569 745.827 Q65.5014 741.785 65.5014 733.796 L65.5014 725.584 L64.9285 725.584 Q60.8862 725.584 58.6901 728.257 Q56.4621 730.899 56.4621 735.705 Q56.4621 738.761 57.1941 741.657 Q57.9262 744.554 59.3903 747.227 L53.9795 747.227 Q52.7381 744.013 52.1334 740.989 Q51.4968 737.965 51.4968 735.101 Q51.4968 727.366 55.5072 723.547 Q59.5176 719.727 67.6657 719.727 Z\" fill=\"#000000\" fill-rule=\"evenodd\" fill-opacity=\"1\" /><path clip-path=\"url(#clip2900)\" d=\"M 0 0 M70.212 687.994 Q63.7508 687.994 60.0905 690.668 Q56.3984 693.31 56.3984 697.957 Q56.3984 702.604 60.0905 705.277 Q63.7508 707.919 70.212 707.919 Q76.6732 707.919 80.3653 705.277 Q84.0256 702.604 84.0256 697.957 Q84.0256 693.31 80.3653 690.668 Q76.6732 687.994 70.212 687.994 M57.7671 707.919 Q54.5842 706.073 53.0564 703.272 Q51.4968 700.439 51.4968 696.524 Q51.4968 690.031 56.6531 685.989 Q61.8093 681.915 70.212 681.915 Q78.6147 681.915 83.771 685.989 Q88.9272 690.031 88.9272 696.524 Q88.9272 700.439 87.3994 703.272 Q85.8398 706.073 82.657 707.919 L88.0042 707.919 L88.0042 713.807 L38.479 713.807 L38.479 707.919 L57.7671 707.919 Z\" fill=\"#000000\" fill-rule=\"evenodd\" fill-opacity=\"1\" /><path clip-path=\"url(#clip2900)\" d=\"M 0 0 M52.3562 675.772 L52.3562 669.916 L88.0042 669.916 L88.0042 675.772 L52.3562 675.772 M38.479 675.772 L38.479 669.916 L45.895 669.916 L45.895 675.772 L38.479 675.772 Z\" fill=\"#000000\" fill-rule=\"evenodd\" fill-opacity=\"1\" /><path clip-path=\"url(#clip2900)\" d=\"M 0 0 M38.479 663.773 L38.479 657.916 L88.0042 657.916 L88.0042 663.773 L38.479 663.773 Z\" fill=\"#000000\" fill-rule=\"evenodd\" fill-opacity=\"1\" /><path clip-path=\"url(#clip2900)\" d=\"M 0 0 M52.3562 651.773 L52.3562 645.917 L88.0042 645.917 L88.0042 651.773 L52.3562 651.773 M38.479 651.773 L38.479 645.917 L45.895 645.917 L45.895 651.773 L38.479 651.773 Z\" fill=\"#000000\" fill-rule=\"evenodd\" fill-opacity=\"1\" /><path clip-path=\"url(#clip2900)\" d=\"M 0 0 M42.2347 633.981 L52.3562 633.981 L52.3562 621.918 L56.9077 621.918 L56.9077 633.981 L76.2594 633.981 Q80.6199 633.981 81.8613 632.804 Q83.1026 631.594 83.1026 627.934 L83.1026 621.918 L88.0042 621.918 L88.0042 627.934 Q88.0042 634.713 85.4897 637.291 Q82.9434 639.87 76.2594 639.87 L56.9077 639.87 L56.9077 644.166 L52.3562 644.166 L52.3562 639.87 L42.2347 639.87 L42.2347 633.981 Z\" fill=\"#000000\" fill-rule=\"evenodd\" fill-opacity=\"1\" /><path clip-path=\"url(#clip2900)\" d=\"M 0 0 M91.3143 600.943 Q97.68 603.426 99.6216 605.781 Q101.563 608.137 101.563 612.083 L101.563 616.762 L96.6615 616.762 L96.6615 613.325 Q96.6615 610.906 95.5157 609.569 Q94.3699 608.232 90.1048 606.609 L87.4312 605.558 L52.3562 619.977 L52.3562 613.77 L80.238 602.63 L52.3562 591.49 L52.3562 585.284 L91.3143 600.943 Z\" fill=\"#000000\" fill-rule=\"evenodd\" fill-opacity=\"1\" /><g clip-path=\"url(#clip2902)\">\n",
       "<image width=\"1875\" height=\"1376\" xlink:href=\"data:image/png;base64,\n",
       "iVBORw0KGgoAAAANSUhEUgAAB1MAAAVgCAYAAAAaX3QnAAAgAElEQVR4nOzZsQ2AQBDAsAex/wwM\n",
       "ivQsEOqjsCdIn2Otay8AAAAAAIABz76nEwA+ndMBAAAAAAAAAH9kpgIAAAAAAAAEMxUAAAAAAAAg\n",
       "mKkAAAAAAAAAwUwFAAAAAAAACGYqAAAAAAAAQDBTAQAAAAAAAIKZCgAAAAAAABDMVAAAAAAAAIBg\n",
       "pgIAAAAAAAAEMxUAAAAAAAAgmKkAAAAAAAAAwUwFAAAAAAAACGYqAAAAAAAAQDBTAQAAAAAAAIKZ\n",
       "CgAAAAAAABDMVAAAAAAAAIBgpgIAAAAAAAAEMxUAAAAAAAAgmKkAAAAAAAAAwUwFAAAAAAAACGYq\n",
       "AAAAAAAAQDBTAQAAAAAAAIKZCgAAAAAAABDMVAAAAAAAAIBgpgIAAAAAAAAEMxUAAAAAAAAgmKkA\n",
       "AAAAAAAAwUwFAAAAAAAACGYqAAAAAAAAQDBTAQAAAAAAAIKZCgAAAAAAABDMVAAAAAAAAIBgpgIA\n",
       "AAAAAAAEMxUAAAAAAAAgmKkAAAAAAAAAwUwFAAAAAAAACGYqAAAAAAAAQDBTAQAAAAAAAIKZCgAA\n",
       "AAAAABDMVAAAAAAAAIBgpgIAAAAAAAAEMxUAAAAAAAAgmKkAAAAAAAAAwUwFAAAAAAAACGYqAAAA\n",
       "AAAAQDBTAQAAAAAAAIKZCgAAAAAAABDMVAAAAAAAAIBgpgIAAAAAAAAEMxUAAAAAAAAgmKkAAAAA\n",
       "AAAAwUwFAAAAAAAACGYqAAAAAAAAQDBTAQAAAAAAAIKZCgAAAAAAABDMVAAAAAAAAIBgpgIAAAAA\n",
       "AAAEMxUAAAAAAAAgmKkAAAAAAAAAwUwFAAAAAAAACGYqAAAAAAAAQDBTAQAAAAAAAIKZCgAAAAAA\n",
       "ABDMVAAAAAAAAIBgpgIAAAAAAAAEMxUAAAAAAAAgmKkAAAAAAAAAwUwFAAAAAAAACGYqAAAAAAAA\n",
       "QDBTAQAAAAAAAIKZCgAAAAAAABDMVAAAAAAAAIBgpgIAAAAAAAAEMxUAAAAAAAAgmKkAAAAAAAAA\n",
       "wUwFAAAAAAAACGYqAAAAAAAAQDBTAQAAAAAAAIKZCgAAAAAAABDMVAAAAAAAAIBgpgIAAAAAAAAE\n",
       "MxUAAAAAAAAgmKkAAAAAAAAAwUwFAAAAAAAACGYqAAAAAAAAQDBTAQAAAAAAAIKZCgAAAAAAABDM\n",
       "VAAAAAAAAIBgpgIAAAAAAAAEMxUAAAAAAAAgmKkAAAAAAAAAwUwFAAAAAAAACGYqAAAAAAAAQDBT\n",
       "AQAAAAAAAIKZCgAAAAAAABDMVAAAAAAAAIBgpgIAAAAAAAAEMxUAAAAAAAAgmKkAAAAAAAAAwUwF\n",
       "AAAAAAAACGYqAAAAAAAAQDBTAQAAAAAAAIKZCgAAAAAAABDMVAAAAAAAAIBgpgIAAAAAAAAEMxUA\n",
       "AAAAAAAgmKkAAAAAAAAAwUwFAAAAAAAACGYqAAAAAAAAQDBTAQAAAAAAAIKZCgAAAAAAABDMVAAA\n",
       "AAAAAIBgpgIAAAAAAAAEMxUAAAAAAAAgmKkAAAAAAAAAwUwFAAAAAAAACGYqAAAAAAAAQDBTAQAA\n",
       "AAAAAIKZCgAAAAAAABDMVAAAAAAAAIBgpgIAAAAAAAAEMxUAAAAAAAAgmKkAAAAAAAAAwUwFAAAA\n",
       "AAAACGYqAAAAAAAAQDBTAQAAAAAAAIKZCgAAAAAAABDMVAAAAAAAAIBgpgIAAAAAAAAEMxUAAAAA\n",
       "AAAgmKkAAAAAAAAAwUwFAAAAAAAACGYqAAAAAAAAQDBTAQAAAAAAAIKZCgAAAAAAABDMVAAAAAAA\n",
       "AIBgpgIAAAAAAAAEMxUAAAAAAAAgmKkAAAAAAAAAwUwFAAAAAAAACGYqAAAAAAAAQDBTAQAAAAAA\n",
       "AIKZCgAAAAAAABDMVAAAAAAAAIBgpgIAAAAAAAAEMxUAAAAAAAAgmKkAAAAAAAAAwUwFAAAAAAAA\n",
       "CGYqAAAAAAAAQDBTAQAAAAAAAIKZCgAAAAAAABDMVAAAAAAAAIBgpgIAAAAAAAAEMxUAAAAAAAAg\n",
       "mKkAAAAAAAAAwUwFAAAAAAAACGYqAAAAAAAAQDBTAQAAAAAAAIKZCgAAAAAAABDMVAAAAAAAAIBg\n",
       "pgIAAAAAAAAEMxUAAAAAAAAgmKkAAAAAAAAAwUwFAAAAAAAACGYqAAAAAAAAQDBTAQAAAAAAAIKZ\n",
       "CgAAAAAAABDMVAAAAAAAAIBgpgIAAAAAAAAEMxUAAAAAAAAgmKkAAAAAAAAAwUwFAAAAAAAACGYq\n",
       "AAAAAAAAQDBTAQAAAAAAAIKZCgAAAAAAABDMVAAAAAAAAIBgpgIAAAAAAAAEMxUAAAAAAAAgmKkA\n",
       "AAAAAAAAwUwFAAAAAAAACGYqAAAAAAAAQDBTAQAAAAAAAIKZCgAAAAAAABDMVAAAAAAAAIBgpgIA\n",
       "AAAAAAAEMxUAAAAAAAAgmKkAAAAAAAAAwUwFAAAAAAAACGYqAAAAAAAAQDBTAQAAAAAAAIKZCgAA\n",
       "AAAAABDMVAAAAAAAAIBgpgIAAAAAAAAEMxUAAAAAAAAgmKkAAAAAAAAAwUwFAAAAAAAACGYqAAAA\n",
       "AAAAQDBTAQAAAAAAAIKZCgAAAAAAABDMVAAAAAAAAIBgpgIAAAAAAAAEMxUAAAAAAAAgmKkAAAAA\n",
       "AAAAwUwFAAAAAAAACGYqAAAAAAAAQDBTAQAAAAAAAIKZCgAAAAAAABDMVAAAAAAAAIBgpgIAAAAA\n",
       "AAAEMxUAAAAAAAAgmKkAAAAAAAAAwUwFAAAAAAAACGYqAAAAAAAAQDBTAQAAAAAAAIKZCgAAAAAA\n",
       "ABDMVAAAAAAAAIBgpgIAAAAAAAAEMxUAAAAAAAAgmKkAAAAAAAAAwUwFAAAAAAAACGYqAAAAAAAA\n",
       "QDBTAQAAAAAAAIKZCgAAAAAAABDMVAAAAAAAAIBgpgIAAAAAAAAEMxUAAAAAAAAgmKkAAAAAAAAA\n",
       "wUwFAAAAAAAACGYqAAAAAAAAQDBTAQAAAAAAAIKZCgAAAAAAABDMVAAAAAAAAIBgpgIAAAAAAAAE\n",
       "MxUAAAAAAAAgmKkAAAAAAAAAwUwFAAAAAAAACGYqAAAAAAAAQDBTAQAAAAAAAIKZCgAAAAAAABDM\n",
       "VAAAAAAAAIBgpgIAAAAAAAAEMxUAAAAAAAAgmKkAAAAAAAAAwUwFAAAAAAAACGYqAAAAAAAAQDBT\n",
       "AQAAAAAAAIKZCgAAAAAAABDMVAAAAAAAAIBgpgIAAAAAAAAEMxUAAAAAAAAgmKkAAAAAAAAAwUwF\n",
       "AAAAAAAACGYqAAAAAAAAQDBTAQAAAAAAAIKZCgAAAAAAABDMVAAAAAAAAIBgpgIAAAAAAAAEMxUA\n",
       "AAAAAAAgmKkAAAAAAAAAwUwFAAAAAAAACGYqAAAAAAAAQDBTAQAAAAAAAIKZCgAAAAAAABDMVAAA\n",
       "AAAAAIBgpgIAAAAAAAAEMxUAAAAAAAAgmKkAAAAAAAAAwUwFAAAAAAAACGYqAAAAAAAAQDBTAQAA\n",
       "AAAAAIKZCgAAAAAAABDMVAAAAAAAAIBgpgIAAAAAAAAEMxUAAAAAAAAgmKkAAAAAAAAAwUwFAAAA\n",
       "AAAACGYqAAAAAAAAQDBTAQAAAAAAAIKZCgAAAAAAABDMVAAAAAAAAIBgpgIAAAAAAAAEMxUAAAAA\n",
       "AAAgmKkAAAAAAAAAwUwFAAAAAAAACGYqAAAAAAAAQDBTAQAAAAAAAIKZCgAAAAAAABDMVAAAAAAA\n",
       "AIBgpgIAAAAAAAAEMxUAAAAAAAAgmKkAAAAAAAAAwUwFAAAAAAAACGYqAAAAAAAAQDBTAQAAAAAA\n",
       "AIKZCgAAAAAAABDMVAAAAAAAAIBgpgIAAAAAAAAEMxUAAAAAAAAgmKkAAAAAAAAAwUwFAAAAAAAA\n",
       "CGYqAAAAAAAAQDBTAQAAAAAAAIKZCgAAAAAAABDMVAAAAAAAAIBgpgIAAAAAAAAEMxUAAAAAAAAg\n",
       "mKkAAAAAAAAAwUwFAAAAAAAACGYqAAAAAAAAQDBTAQAAAAAAAIKZCgAAAAAAABDMVAAAAAAAAIBg\n",
       "pgIAAAAAAAAEMxUAAAAAAAAgmKkAAAAAAAAAwUwFAAAAAAAACGYqAAAAAAAAQDBTAQAAAAAAAIKZ\n",
       "CgAAAAAAABDMVAAAAAAAAIBgpgIAAAAAAAAEMxUAAAAAAAAgmKkAAAAAAAAAwUwFAAAAAAAACGYq\n",
       "AAAAAAAAQDBTAQAAAAAAAIKZCgAAAAAAABDMVAAAAAAAAIBgpgIAAAAAAAAEMxUAAAAAAAAgmKkA\n",
       "AAAAAAAAwUwFAAAAAAAACGYqAAAAAAAAQDBTAQAAAAAAAIKZCgAAAAAAABDMVAAAAAAAAIBgpgIA\n",
       "AAAAAAAEMxUAAAAAAAAgmKkAAAAAAAAAwUwFAAAAAAAACGYqAAAAAAAAQDBTAQAAAAAAAIKZCgAA\n",
       "AAAAABDMVAAAAAAAAIBgpgIAAAAAAAAEMxUAAAAAAAAgmKkAAAAAAAAAwUwFAAAAAAAACGYqAAAA\n",
       "AAAAQDBTAQAAAAAAAIKZCgAAAAAAABDMVAAAAAAAAIBgpgIAAAAAAAAEMxUAAAAAAAAgmKkAAAAA\n",
       "AAAAwUwFAAAAAAAACGYqAAAAAAAAQDBTAQAAAAAAAIKZCgAAAAAAABDMVAAAAAAAAIBgpgIAAAAA\n",
       "AAAEMxUAAAAAAAAgmKkAAAAAAAAAwUwFAAAAAAAACGYqAAAAAAAAQDBTAQAAAAAAAIKZCgAAAAAA\n",
       "ABDMVAAAAAAAAIBgpgIAAAAAAAAEMxUAAAAAAAAgmKkAAAAAAAAAwUwFAAAAAAAACGYqAAAAAAAA\n",
       "QDBTAQAAAAAAAIKZCgAAAAAAABDMVAAAAAAAAIBgpgIAAAAAAAAEMxUAAAAAAAAgmKkAAAAAAAAA\n",
       "wUwFAAAAAAAACGYqAAAAAAAAQDBTAQAAAAAAAIKZCgAAAAAAABDMVAAAAAAAAIBgpgIAAAAAAAAE\n",
       "MxUAAAAAAAAgmKkAAAAAAAAAwUwFAAAAAAAACGYqAAAAAAAAQDBTAQAAAAAAAIKZCgAAAAAAABDM\n",
       "VAAAAAAAAIBgpgIAAAAAAAAEMxUAAAAAAAAgmKkAAAAAAAAAwUwFAAAAAAAACGYqAAAAAAAAQDBT\n",
       "AQAAAAAAAIKZCgAAAAAAABDMVAAAAAAAAIBgpgIAAAAAAAAEMxUAAAAAAAAgmKkAAAAAAAAAwUwF\n",
       "AAAAAAAACGYqAAAAAAAAQDBTAQAAAAAAAIKZCgAAAAAAABDMVAAAAAAAAIBgpgIAAAAAAAAEMxUA\n",
       "AAAAAAAgmKkAAAAAAAAAwUwFAAAAAAAACGYqAAAAAAAAQDBTAQAAAAAAAIKZCgAAAAAAABDMVAAA\n",
       "AAAAAIBgpgIAAAAAAAAEMxUAAAAAAAAgmKkAAAAAAAAAwUwFAAAAAAAACGYqAAAAAAAAQDBTAQAA\n",
       "AAAAAIKZCgAAAAAAABDMVAAAAAAAAIBgpgIAAAAAAAAEMxUAAAAAAAAgmKkAAAAAAAAAwUwFAAAA\n",
       "AAAACGYqAAAAAAAAQDBTAQAAAAAAAIKZCgAAAAAAABDMVAAAAAAAAIBgpgIAAAAAAAAEMxUAAAAA\n",
       "AAAgmKkAAAAAAAAAwUwFAAAAAAAACGYqAAAAAAAAQDBTAQAAAAAAAIKZCgAAAAAAABDMVAAAAAAA\n",
       "AIBgpgIAAAAAAAAEMxUAAAAAAAAgmKkAAAAAAAAAwUwFAAAAAAAACGYqAAAAAAAAQDBTAQAAAAAA\n",
       "AIKZCgAAAAAAABDMVAAAAAAAAIBgpgIAAAAAAAAEMxUAAAAAAAAgmKkAAAAAAAAAwUwFAAAAAAAA\n",
       "CGYqAAAAAAAAQDBTAQAAAAAAAIKZCgAAAAAAABDMVAAAAAAAAIBgpgIAAAAAAAAEMxUAAAAAAAAg\n",
       "mKkAAAAAAAAAwUwFAAAAAAAACGYqAAAAAAAAQDBTAQAAAAAAAIKZCgAAAAAAABDMVAAAAAAAAIBg\n",
       "pgIAAAAAAAAEMxUAAAAAAAAgmKkAAAAAAAAAwUwFAAAAAAAACGYqAAAAAAAAQDBTAQAAAAAAAIKZ\n",
       "CgAAAAAAABDMVAAAAAAAAIBgpgIAAAAAAAAEMxUAAAAAAAAgmKkAAAAAAAAAwUwFAAAAAAAACGYq\n",
       "AAAAAAAAQDBTAQAAAAAAAIKZCgAAAAAAABDMVAAAAAAAAIBgpgIAAAAAAAAEMxUAAAAAAAAgmKkA\n",
       "AAAAAAAAwUwFAAAAAAAACGYqAAAAAAAAQDBTAQAAAAAAAIKZCgAAAAAAABDMVAAAAAAAAIBgpgIA\n",
       "AAAAAAAEMxUAAAAAAAAgmKkAAAAAAAAAwUwFAAAAAAAACGYqAAAAAAAAQDBTAQAAAAAAAIKZCgAA\n",
       "AAAAABDMVAAAAAAAAIBgpgIAAAAAAAAEMxUAAAAAAAAgmKkAAAAAAAAAwUwFAAAAAAAACGYqAAAA\n",
       "AAAAQDBTAQAAAAAAAIKZCgAAAAAAABDMVAAAAAAAAIBgpgIAAAAAAAAEMxUAAAAAAAAgmKkAAAAA\n",
       "AAAAwUwFAAAAAAAACGYqAAAAAAAAQDBTAQAAAAAAAIKZCgAAAAAAABDMVAAAAAAAAIBgpgIAAAAA\n",
       "AAAEMxUAAAAAAAAgmKkAAAAAAAAAwUwFAAAAAAAACGYqAAAAAAAAQDBTAQAAAAAAAIKZCgAAAAAA\n",
       "ABDMVAAAAAAAAIBgpgIAAAAAAAAEMxUAAAAAAAAgmKkAAAAAAAAAwUwFAAAAAAAACGYqAAAAAAAA\n",
       "QDBTAQAAAAAAAIKZCgAAAAAAABDMVAAAAAAAAIBgpgIAAAAAAAAEMxUAAAAAAAAgmKkAAAAAAAAA\n",
       "wUwFAAAAAAAACGYqAAAAAAAAQDBTAQAAAAAAAIKZCgAAAAAAABDMVAAAAAAAAIBgpgIAAAAAAAAE\n",
       "MxUAAAAAAAAgmKkAAAAAAAAAwUwFAAAAAAAACGYqAAAAAAAAQDBTAQAAAAAAAIKZCgAAAAAAABDM\n",
       "VAAAAAAAXvbsQAAAAABAkL/1AiOURgDAkKkAAAAAAAAAQ6YCAAAAAAAADJkKAAAAAAAAMGQqAAAA\n",
       "AAAAwJCpAAAAAAAAAEOmAgAAAAAAAAyZCgAAAAAAADBkKgAAAAAAAMCQqQAAAAAAAABDpgIAAAAA\n",
       "AAAMmQoAAAAAAAAwZCoAAAAAAADAkKkAAAAAAAAAQ6YCAAAAAAAADJkKAAAAAAAAMGQqAAAAAAAA\n",
       "wJCpAAAAAAAAAEOmAgAAAAAAAAyZCgAAAAAAADBkKgAAAAAAAMCQqQAAAAAAAABDpgIAAAAAAAAM\n",
       "mQoAAAAAAAAwZCoAAAAAAADAkKkAAAAAAAAAQ6YCAAAAAAAADJkKAAAAAAAAMGQqAAAAAAAAwJCp\n",
       "AAAAAAAAAEOmAgAAAAAAAAyZCgAAAAAAADBkKgAAAAAAAMCQqQAAAAAAAABDpgIAAAAAAAAMmQoA\n",
       "AAAAAAAwZCoAAAAAAADAkKkAAAAAAAAAQ6YCAAAAAAAADJkKAAAAAAAAMGQqAAAAAAAAwJCpAAAA\n",
       "AAAAAEOmAgAAAAAAAAyZCgAAAAAAADBkKgAAAAAAAMCQqQAAAAAAAABDpgIAAAAAAAAMmQoAAAAA\n",
       "AAAwZCoAAAAAAADAkKkAAAAAAAAAQ6YCAAAAAAAADJkKAAAAAAAAMGQqAAAAAAAAwJCpAAAAAAAA\n",
       "AEOmAgAAAAAAAAyZCgAAAAAAADBkKgAAAAAAAMCQqQAAAAAAAABDpgIAAAAAAAAMmQoAAAAAAAAw\n",
       "ZCoAAAAAAADAkKkAAAAAAAAAQ6YCAAAAAAAADJkKAAAAAAAAMGQqAAAAAAAAwJCpAAAAAAAAAEOm\n",
       "AgAAAAAAAAyZCgAAAAAAADBkKgAAAAAAAMCQqQAAAAAAAABDpgIAAAAAAAAMmQoAAAAAAAAwZCoA\n",
       "AAAAAADAkKkAAAAAAAAAQ6YCAAAAAAAADJkKAAAAAAAAMGQqAAAAAAAAwJCpAAAAAAAAAEOmAgAA\n",
       "AAAAAAyZCgAAAAAAADBkKgAAAAAAAMCQqQAAAAAAAABDpgIAAAAAAAAMmQoAAAAAAAAwZCoAAAAA\n",
       "AADAkKkAAAAAAAAAQ6YCAAAAAAAADJkKAAAAAAAAMGQqAAAAAAAAwJCpAAAAAAAAAEOmAgAAAAAA\n",
       "AAyZCgAAAAAAADBkKgAAAAAAAMCQqQAAAAAAAABDpgIAAAAAAAAMmQoAAAAAAAAwZCoAAAAAAADA\n",
       "kKkAAAAAAAAAQ6YCAAAAAAAADJkKAAAAAAAAMGQqAAAAAAAAwJCpAAAAAAAAAEOmAgAAAAAAAAyZ\n",
       "CgAAAAAAADBkKgAAAAAAAMCQqQAAAAAAAABDpgIAAAAAAAAMmQoAAAAAAAAwZCoAAAAAAADAkKkA\n",
       "AAAAAAAAQ6YCAAAAAAAADJkKAAAAAAAAMGQqAAAAAAAAwJCpAAAAAAAAAEOmAgAAAAAAAAyZCgAA\n",
       "AAAAADBkKgAAAAAAAMCQqQAAAAAAAABDpgIAAAAAAAAMmQoAAAAAAAAwZCoAAAAAAADAkKkAAAAA\n",
       "AAAAQ6YCAAAAAAAADJkKAAAAAAAAMGQqAAAAAAAAwJCpAAAAAAAAAEOmAgAAAAAAAAyZCgAAAAAA\n",
       "ADBkKgAAAAAAAMCQqQAAAAAAAABDpgIAAAAAAAAMmQoAAAAAAAAwZCoAAAAAAADAkKkAAAAAAAAA\n",
       "Q6YCAAAAAAAADJkKAAAAAAAAMGQqAAAAAAAAwJCpAAAAAAAAAEOmAgAAAAAAAAyZCgAAAAAAADBk\n",
       "KgAAAAAAAMCQqQAAAAAAAABDpgIAAAAAAAAMmQoAAAAAAAAwZCoAAAAAAADAkKkAAAAAAAAAQ6YC\n",
       "AAAAAAAADJkKAAAAAAAAMGQqAAAAAAAAwJCpAAAAAAAAAEOmAgAAAAAAAAyZCgAAAAAAADBkKgAA\n",
       "AAAAAMCQqQAAAAAAAABDpgIAAAAAAAAMmQoAAAAAAAAwZCoAAAAAAADAkKkAAAAAAAAAQ6YCAAAA\n",
       "AAAADJkKAAAAAAAAMGQqAAAAAAAAwJCpAAAAAAAAAEOmAgAAAAAAAAyZCgAAAAAAADBkKgAAAAAA\n",
       "AMCQqQAAAAAAAABDpgIAAAAAAAAMmQoAAAAAAAAwZCoAAAAAAADAkKkAAAAAAAAAQ6YCAAAAAAAA\n",
       "DJkKAAAAAAAAMGQqAAAAAAAAwJCpAAAAAAAAAEOmAgAAAAAAAAyZCgAAAAAAADBkKgAAAAAAAMCQ\n",
       "qQAAAAAAAABDpgIAAAAAAAAMmQoAAAAAAAAwZCoAAAAAAADAkKkAAAAAAAAAQ6YCAAAAAAAADJkK\n",
       "AAAAAAAAMGQqAAAAAAAAwJCpAAAAAAAAAEOmAgAAAAAAAAyZCgAAAAAAADBkKgAAAAAAAMCQqQAA\n",
       "AAAAAABDpgIAAAAAAAAMmQoAAAAAAAAwZCoAAAAAAADAkKkAAAAAAAAAQ6YCAAAAAAAADJkKAAAA\n",
       "AAAAMGQqAAAAAAAAwJCpAAAAAAAAAEOmAgAAAAAAAAyZCgAAAAAAADBkKgAAAAAAAMCQqQAAAAAA\n",
       "AABDpgIAAAAAAAAMmQoAAAAAAAAwZCoAAAAAAADAkKkAAAAAAAAAQ6YCAAAAAAAADJkKAAAAAAAA\n",
       "MGQqAAAAAAAAwJCpAAAAAAAAAEOmAgAAAAAAAAyZCgAAAAAAADBkKgAAAAAAAMCQqQAAAAAAAABD\n",
       "pgIAAAAAAAAMmQoAAAAAAAAwZCoAAAAAAADAkKkAAAAAAAAAQ6YCAAAAAAAADJkKAAAAAAAAMGQq\n",
       "AAAAAAAAwJCpAAAAAAAAAEOmAgAAAAAAAAyZCgAAAAAAADBkKgAAAAAAAMCQqQAAAAAAAABDpgIA\n",
       "AAAAAAAMmQoAAAAAAAAwZCoAAAAAAADAkKkAAAAAAAAAQ6YCAAAAAAAADJkKAAAAAAAAMGQqAAAA\n",
       "AAAAwJCpAAAAAAAAAEOmAgAAAAAAAAyZCgAAAAAAADBkKgAAAAAAAMCQqQAAAAAAAABDpgIAAAAA\n",
       "AAAMmQoAAAAAAAAwZCoAAAAAAADAkKkAAAAAAAAAQ6YCAAAAAAAADJkKAAAAAAAAMGQqAAAAAAAA\n",
       "wJCpAAAAAAAAAEOmAgAAAAAAAAyZCgAAAAAAADBkKgAAAAAAAMCQqQAAAAAAAABDpgIAAAAAAAAM\n",
       "mQoAAAAAAAAwZCoAAAAAAADAkKkAAAAAAAAAQ6YCAAAAAAAADJkKAAAAAAAAMGQqAAAAAAAAwJCp\n",
       "AAAAAAAAAEOmAgAAAAAAAAyZCgAAAAAAADBkKgAAAAAAAMCQqQAAAAAAAABDpgIAAAAAAAAMmQoA\n",
       "AAAAAAAwZCoAAAAAAADAkKkAAAAAAAAAQ6YCAAAAAAAADJkKAAAAAAAAMGQqAAAAAAAAwJCpAAAA\n",
       "AAAAAEOmAgAAAAAAAAyZCgAAAAAAADBkKgAAAAAAAMCQqQAAAAAAAABDpgIAAAAAAAAMmQoAAAAA\n",
       "AAAwZCoAAAAAAADAkKkAAAAAAAAAQ6YCAAAAAAAADJkKAAAAAAAAMGQqAAAAAAAAwJCpAAAAAAAA\n",
       "AEOmAgAAAAAAAAyZCgAAAAAAADBkKgAAAAAAAMCQqQAAAAAAAABDpgIAAAAAAAAMmQoAAAAAAAAw\n",
       "ZCoAAAAAAADAkKkAAAAAAAAAQ6YCAAAAAAAADJkKAAAAAAAAMGQqAAAAAAAAwJCpAAAAAAAAAEOm\n",
       "AgAAAAAAAAyZCgAAAAAAADBkKgAAAAAAAMCQqQAAAAAAAABDpgIAAAAAAAAMmQoAAAAAAAAwZCoA\n",
       "AAAAAADAkKkAAAAAAAAAQ6YCAAAAAAAADJkKAAAAAAAAMGQqAAAAAAAAwJCpAAAAAAAAAEOmAgAA\n",
       "AAAAAAyZCgAAAAAAADBkKgAAAAAAAMCQqQAAAAAAAABDpgIAAAAAAAAMmQoAAAAAAAAwZCoAAAAA\n",
       "AADAkKkAAAAAAAAAQ6YCAAAAAAAADJkKAAAAAAAAMGQqAAAAAAAAwJCpAAAAAAAAAEOmAgAAAAAA\n",
       "AAyZCgAAAAAAADBkKgAAAAAAAMCQqQAAAAAAAABDpgIAAAAAAAAMmQoAAAAAAAAwZCoAAAAAAADA\n",
       "kKkAAAAAAAAAQ6YCAAAAAAAADJkKAAAAAD1yVu4AABJESURBVAAAMGQqAAAAAAAAwJCpAAAAAAAA\n",
       "AEOmAgAAAAAAAAyZCgAAAAAAADBkKgAAAAAAAMCQqQAAAAAAAABDpgIAAAAAAAAMmQoAAAAAAAAw\n",
       "ZCoAAAAAAADAkKkAAAAAAAAAQ6YCAAAAAAAADJkKAAAAAAAAMGQqAAAAAAAAwJCpAAAAAAAAAEOm\n",
       "AgAAAAAAAAyZCgAAAAAAADBkKgAAAAAAAMCQqQAAAAAAAABDpgIAAAAAAAAMmQoAAAAAAAAwZCoA\n",
       "AAAAAADAkKkAAAAAAAAAQ6YCAAAAAAAADJkKAAAAAAAAMGQqAAAAAAAAwJCpAAAAAAAAAEOmAgAA\n",
       "AAAAAAyZCgAAAAAAADBkKgAAAAAAAMCQqQAAAAAAAABDpgIAAAAAAAAMmQoAAAAAAAAwZCoAAAAA\n",
       "AADAkKkAAAAAAAAAQ6YCAAAAAAAADJkKAAAAAAAAMGQqAAAAAAAAwJCpAAAAAAAAAEOmAgAAAAAA\n",
       "AAyZCgAAAAAAADBkKgAAAAAAAMCQqQAAAAAAAABDpgIAAAAAAAAMmQoAAAAAAAAwZCoAAAAAAADA\n",
       "kKkAAAAAAAAAQ6YCAAAAAAAADJkKAAAAAAAAMGQqAAAAAAAAwJCpAAAAAAAAAEOmAgAAAAAAAAyZ\n",
       "CgAAAAAAADBkKgAAAAAAAMCQqQAAAAAAAABDpgIAAAAAAAAMmQoAAAAAAAAwZCoAAAAAAADAkKkA\n",
       "AAAAAAAAQ6YCAAAAAAAADJkKAAAAAAAAMGQqAAAAAAAAwJCpAAAAAAAAAEOmAgAAAAAAAAyZCgAA\n",
       "AAAAADBkKgAAAAAAAMCQqQAAAAAAAABDpgIAAAAAAAAMmQoAAAAAAAAwZCoAAAAAAADAkKkAAAAA\n",
       "AAAAQ6YCAAAAAAAADJkKAAAAAAAAMGQqAAAAAAAAwJCpAAAAAAAAAEOmAgAAAAAAAAyZCgAAAAAA\n",
       "ADBkKgAAAAAAAMCQqQAAAAAAAABDpgIAAAAAAAAMmQoAAAAAAAAwZCoAAAAAAADAkKkAAAAAAAAA\n",
       "Q6YCAAAAAAAADJkKAAAAAAAAMGQqAAAAAAAAwJCpAAAAAAAAAEOmAgAAAAAAAAyZCgAAAAAAADBk\n",
       "KgAAAAAAAMCQqQAAAAAAAABDpgIAAAAAAAAMmQoAAAAAAAAwZCoAAAAAAADAkKkAAAAAAAAAQ6YC\n",
       "AAAAAAAADJkKAAAAAAAAMGQqAAAAAAAAwJCpAAAAAAAAAEOmAgAAAAAAAAyZCgAAAAAAADBkKgAA\n",
       "AAAAAMCQqQAAAAAAAABDpgIAAAAAAAAMmQoAAAAAAAAwZCoAAAAAAADAkKkAAAAAAAAAQ6YCAAAA\n",
       "AAAADJkKAAAAAAAAMGQqAAAAAAAAwJCpAAAAAAAAAEOmAgAAAAAAAAyZCgAAAAAAADBkKgAAAAAA\n",
       "AMCQqQAAAAAAAABDpgIAAAAAAAAMmQoAAAAAAAAwZCoAAAAAAADAkKkAAAAAAAAAQ6YCAAAAAAAA\n",
       "DJkKAAAAAAAAMGQqAAAAAAAAwJCpAAAAAAAAAEOmAgAAAAAAAAyZCgAAAAAAADBkKgAAAAAAAMCQ\n",
       "qQAAAAAAAABDpgIAAAAAAAAMmQoAAAAAAAAwZCoAAAAAAADAkKkAAAAAAAAAQ6YCAAAAAAAADJkK\n",
       "AAAAAAAAMGQqAAAAAAAAwJCpAAAAAAAAAEOmAgAAAAAAAAyZCgAAAAAAADBkKgAAAAAAAMCQqQAA\n",
       "AAAAAABDpgIAAAAAAAAMmQoAAAAAAAAwZCoAAAAAAADAkKkAAAAAAAAAQ6YCAAAAAAAADJkKAAAA\n",
       "AAAAMGQqAAAAAAAAwJCpAAAAAAAAAEOmAgAAAAAAAAyZCgAAAAAAADBkKgAAAAAAAMCQqQAAAAAA\n",
       "AABDpgIAAAAAAAAMmQoAAAAAAAAwZCoAAAAAAADAkKkAAAAAAAAAQ6YCAAAAAAAADJkKAAAAAAAA\n",
       "MGQqAAAAAAAAwJCpAAAAAAAAAEOmAgAAAAAAAAyZCgAAAAAAADBkKgAAAAAAAMCQqQAAAAAAAABD\n",
       "pgIAAAAAAAAMmQoAAAAAAAAwZCoAAAAAAADAkKkAAAAAAAAAQ6YCAAAAAAAADJkKAAAAAAAAMGQq\n",
       "AAAAAAAAwJCpAAAAAAAAAEOmAgAAAAAAAAyZCgAAAAAAADBkKgAAAAAAAMCQqQAAAAAAAABDpgIA\n",
       "AAAAAAAMmQoAAAAAAAAwZCoAAAAAAADAkKkAAAAAAAAAQ6YCAAAAAAAADJkKAAAAAAAAMGQqAAAA\n",
       "AAAAwJCpAAAAAAAAAEOmAgAAAAAAAAyZCgAAAAAAADBkKgAAAAAAAMCQqQAAAAAAAABDpgIAAAAA\n",
       "AAAMmQoAAAAAAAAwZCoAAAAAAADAkKkAAAAAAAAAQ6YCAAAAAAAADJkKAAAAAAAAMGQqAAAAAAAA\n",
       "wJCpAAAAAAAAAEOmAgAAAAAAAAyZCgAAAAAAADBkKgAAAAAAAMCQqQAAAAAAAABDpgIAAAAAAAAM\n",
       "mQoAAAAAAAAwZCoAAAAAAADAkKkAAAAAAAAAQ6YCAAAAAAAADJkKAAAAAAAAMGQqAAAAAAAAwJCp\n",
       "AAAAAAAAAEOmAgAAAAAAAAyZCgAAAAAAADBkKgAAAAAAAMCQqQAAAAAAAABDpgIAAAAAAAAMmQoA\n",
       "AAAAAAAwZCoAAAAAAADAkKkAAAAAAAAAQ6YCAAAAAAAADJkKAAAAAAAAMGQqAAAAAAAAwJCpAAAA\n",
       "AAAAAEOmAgAAAAAA1J4dCAAAAAAI8rdeYITSCGDIVAAAAAAAAIAhUwEAAAAAAACGTAUAAAAAAAAY\n",
       "MhUAAAAAAABgyFQAAAAAAACAIVMBAAAAAAAAhkwFAAAAAAAAGDIVAAAAAAAAYMhUAAAAAAAAgCFT\n",
       "AQAAAAAAAIZMBQAAAAAAABgyFQAAAAAAAGDIVAAAAAAAAIAhUwEAAAAAAACGTAUAAAAAAAAYMhUA\n",
       "AAAAAABgyFQAAAAAAACAIVMBAAAAAAAAhkwFAAAAAAAAGDIVAAAAAAAAYMhUAAAAAAAAgCFTAQAA\n",
       "AAAAAIZMBQAAAAAAABgyFQAAAAAAAGDIVAAAAAAAAIAhUwEAAAAAAACGTAUAAAAAAAAYMhUAAAAA\n",
       "AABgyFQAAAAAAACAIVMBAAAAAAAAhkwFAAAAAAAAGDIVAAAAAAAAYMhUAAAAAAAAgCFTAQAAAAAA\n",
       "AIZMBQAAAAAAABgyFQAAAAAAAGDIVAAAAAAAAIAhUwEAAAAAAACGTAUAAAAAAAAYMhUAAAAAAABg\n",
       "yFQAAAAAAACAIVMBAAAAAAAAhkwFAAAAAAAAGDIVAAAAAAAAYMhUAAAAAAAAgCFTAQAAAAAAAIZM\n",
       "BQAAAAAAABgyFQAAAAAAAGDIVAAAAAAAAIAhUwEAAAAAAACGTAUAAAAAAAAYMhUAAAAAAABgyFQA\n",
       "AAAAAACAIVMBAAAAAAAAhkwFAAAAAAAAGDIVAAAAAAAAYMhUAAAAAAAAgCFTAQAAAAAAAIZMBQAA\n",
       "AAAAABgyFQAAAAAAAGDIVAAAAAAAAIAhUwEAAAAAAACGTAUAAAAAAAAYMhUAAAAAAABgyFQAAAAA\n",
       "AACAIVMBAAAAAAAAhkwFAAAAAAAAGDIVAAAAAAAAYMhUAAAAAAAAgCFTAQAAAAAAAIZMBQAAAAAA\n",
       "ABgyFQAAAAAAAGDIVAAAAAAAAIAhUwEAAAAAAACGTAUAAAAAAAAYMhUAAAAAAABgyFQAAAAAAACA\n",
       "IVMBAAAAAAAAhkwFAAAAAAAAGDIVAAAAAAAAYMhUAAAAAAAAgCFTAQAAAAAAAIZMBQAAAAAAABgy\n",
       "FQAAAAAAAGDIVAAAAAAAAIAhUwEAAAAAAACGTAUAAAAAAAAYMhUAAAAAAABgyFQAAAAAAACAIVMB\n",
       "AAAAAAAAhkwFAAAAAAAAGDIVAAAAAAAAYMhUAAAAAAAAgCFTAQAAAAAAAIZMBQAAAAAAABgyFQAA\n",
       "AAAAAGDIVAAAAAAAAIAhUwEAAAAAAACGTAUAAAAAAAAYMhUAAAAAAABgyFQAAAAAAACAIVMBAAAA\n",
       "AAAAhkwFAAAAAAAAGDIVAAAAAAAAYMhUAAAAAAAAgCFTAQAAAAAAAIZMBQAAAAAAABgyFQAAAAAA\n",
       "AGDIVAAAAAAAAIAhUwEAAAAAAACGTAUAAAAAAAAYMhUAAAAAAABgyFQAAAAAAACAIVMBAAAAAAAA\n",
       "hkwFAAAAAAAAGDIVAAAAAAAAYMhUAAAAAAAAgCFTAQAAAAAAAIZMBQAAAAAAABgyFQAAAAAAAGDI\n",
       "VAAAAAAAAIAhUwEAAAAAAACGTAUAAAAAAAAYMhUAAAAAAABgyFQAAAAAAACAIVMBAAAAAAAAhkwF\n",
       "AAAAAAAAGDIVAAAAAAAAYMhUAAAAAAAAgCFTAQAAAAAAAIZMBQAAAAAAABgyFQAAAAAAAGDIVAAA\n",
       "AAAAAIAhUwEAAAAAAACGTAUAAAAAAAAYMhUAAAAAAABgyFQAAAAAAACAIVMBAAAAAAAAhkwFAAAA\n",
       "AAAAGDIVAAAAAAAAYMhUAAAAAAAAgCFTAQAAAAAAAIZMBQAAAAAAABgyFQAAAAAAAGDIVAAAAAAA\n",
       "AIAhUwEAAAAAAACGTAUAAAAAAAAYMhUAAAAAAABgyFQAAAAAAACAIVMBAAAAAAAAhkwFAAAAAAAA\n",
       "GDIVAAAAAAAAYMhUAAAAAAAAgCFTAQAAAAAAAIZMBQAAAAAAABgyFQAAAAAAAGDIVAAAAAAAAIAh\n",
       "UwEAAAAAAACGTAUAAAAAAAAYMhUAAAAAAABgyFQAAAAAAACAIVMBAAAAAAAAhkwFAAAAAAAAGDIV\n",
       "AAAAAAAAYMhUAAAAAAAAgCFTAQAAAAAAAIZMBQAAAAAAABgyFQAAAAAAAGDIVAAAAAAAAIAhUwEA\n",
       "AAAAAACGTAUAAAAAAAAYMhUAAAAAAABgyFQAAAAAAACAIVMBAAAAAAAAhkwFAAAAAAAAGDIVAAAA\n",
       "AAAAYMhUAAAAAAAAgCFTAQAAAAAAAIZMBQAAAAAAABgyFQAAAAAAAGDIVAAAAAAAAIAhUwEAAAAA\n",
       "AACGTAUAAAAAAAAYMhUAAAAAAABgyFQAAAAAAACAIVMBAAAAAAAAhkwFAAAAAAAAGDIVAAAAAAAA\n",
       "YMhUAAAAAAAAgCFTAQAAAAAAAIZMBQAAAAAAABgyFQAAAAAAAGDIVAAAAAAAAIAhUwEAAAAAAACG\n",
       "TAUAAAAAAAAYMhUAAAAAAABgyFQAAAAAAACAIVMBAAAAAAAAhkwFAAAAAAAAGDIVAAAAAAAAYMhU\n",
       "AAAAAAAAgCFTAQAAAAAAAIZMBQAAAAAAABgyFQAAAAAAAGDIVAAAAAAAAIAhUwEAAAAAAACGTAUA\n",
       "AAAAAAAYMhUAAAAAAABgyFQAAAAAAACAIVMBAAAAAAAAhkwFAAAAAAAAGDIVAAAAAAAAYMhUAAAA\n",
       "AAAAgCFTAQAAAAAAAIZMBQAAAAAAABgyFQAAAAAAAGDIVAAAAAAAAIAhUwEAAAAAAACGTAUAAAAA\n",
       "AAAYMhUAAAAAAABgyFQAAAAAAACAIVMBAAAAAAAAhkwFAAAAAAAAGDIVAAAAAAAAYMhUAAAAAAAA\n",
       "gCFTAQAAAAAAAIZMBQAAAAAAABgyFQAAAAAAAGDIVAAAAAAAAIAhUwEAAAAAAACGTAUAAAAAAAAY\n",
       "MhUAAAAAAABgyFQAAAAAAACAIVMBAAAAAAAAhkwFAAAAAAAAGDIVAAAAAAAAYMhUAAAAAAAAgCFT\n",
       "AQAAAAAAAIZMBQAAAAAAABgyFQAAAAAAAGDIVAAAAAAAAIAhUwEAAAAAAACGTAUAAAAAAAAYMhUA\n",
       "AAAAAABgyFQAAAAAAACAIVMBAAAAAAAAhkwFAAAAAAAAGDIVAAAAAAAAYMhUAAAAAAAAgCFTAQAA\n",
       "AAAAAIZMBQAAAAAAABgyFQAAAAAAAGDIVAAAAAAAAIAhUwEAAAAAAACGTAUAAAAAAAAYMhUAAAAA\n",
       "AABgyFQAAAAAAACAIVMBAAAAAAAAhkwFAAAAAAAAGDIVAAAAAAAAYMhUAAAAAAAAgCFTAQAAAAAA\n",
       "AIZMBQAAAAAAABgyFQAAAAAAAGDIVAAAAAAAAIAhUwEAAAAAAACGTAUAAAAAAAAYMhUAAAAAAABg\n",
       "yFQAAAAAAACAIVMBAAAAAAAAhkwFAAAAAAAAGDIVAAAAAAAAYMhUAAAAAAAAgCFTAQAAAAAAAIZM\n",
       "BQAAAAAAABgyFQAAAAAAAGDIVAAAAAAAAIAhUwEAAAAAAACGTAUAAAAAAAAYMhUAAAAAAABgyFQA\n",
       "AAAAAACAIVMBAAAAAAAAhkwFAAAAAAAAGDIVAAAAAAAAYAQgxA5evG8AswAAAABJRU5ErkJggg==\n",
       "\" transform=\"translate(238, 47)\"/>\n",
       "</g>\n",
       "<defs>\n",
       "  <clipPath id=\"clip2903\">\n",
       "    <rect x=\"2160\" y=\"47\" width=\"73\" height=\"1377\"/>\n",
       "  </clipPath>\n",
       "</defs>\n",
       "<g clip-path=\"url(#clip2903)\">\n",
       "<image width=\"72\" height=\"1376\" xlink:href=\"data:image/png;base64,\n",
       "iVBORw0KGgoAAAANSUhEUgAAAEgAAAVgCAYAAADsKhu7AAAL3UlEQVR4nO3dwXErRxAFwYWi/bdC\n",
       "Xkp/Rhao67h7yLSAUfFigRmA5O/f8/d9+F9/vf0DfJ1AQaAgUBAozLn/vv0zfJoFBYGCQEGgMNdD\n",
       "emVBQaAgUBAoCBTmHq9iGwsKAgWBgkDBUSNYUBAoCBQECh7SwYKCQEGgIFAQKHgVCxYUBAoCBYGC\n",
       "S/tgQUGgIFAQKHgnHSwoCBQECgIFgYJXsWBBQaAgUBAozOM+aGVBQaAgUBAoCBS8igULCgIFgYJA\n",
       "YR73QSsLCgIFgYJAwTvpYEFBoCBQECgIFLyKBQsKAgWBgkBhnvPP2z/Dp1lQECgIFAQKLu2DBQWB\n",
       "gkBBoCBQcB8ULCgIFAQKAgUP6WBBQaAgUBAoCBTmd/+8/TN8mgUFgYJAQaAwz/GQ3lhQECgIFAQK\n",
       "8/OQXllQECgIFAQKAgVHjWBBQaAgUBAozOPSfmVBQaAgUBAouA8KFhQECgIFgYJAwX1QsKAgUBAo\n",
       "CBQcNYIFBYGCQEGgIFBw1AgWFAQKAgWBwvzOeftn+DQLCgIFgYJAwTvpYEFBoCBQECgIFLyKBQsK\n",
       "AgWBgkDBR8/BgoJAQaAgUJjHpf3KgoJAQaAgUBAoOGoECwoCBYGCQMGlfbCgIFAQKAgUBApexYIF\n",
       "BYGCQEGg4FcRggUFgYJAQaDgo+dgQUGgIFAQKAgU3AcFCwoCBYGCQMFRI1hQECgIFAQKHtLBgoJA\n",
       "QaAgUBAo+Og5WFAQKAgUBAou7YMFBYGCQEGgIFBwYRYsKAgUBAoCBQ/pYEFBoCBQECh4SAcLCgIF\n",
       "gYJAQaAwz7lv/wyfZkFBoCBQECjMcx01NhYUBAoCBYGC+6BgQUGgIFAQKAgU3AcFCwoCBYGCQMFR\n",
       "I1hQECgIFAQKAgWvYsGCgkBBoCBQcB8ULCgIFAQKAgXvpIMFBYGCQEGgIFCYx4vYyoKCQEGgIFDw\n",
       "kA4WFAQKAgWBwvh1sZ0FBYGCQEGgIFBw1AgWFAQKAgWBgod0sKAgUBAoCBQECl7FggUFgYJAQaAw\n",
       "j99EWFlQECgIFAQKc8/v7Z/h0ywoCBQECgIFgYL7oGBBQaAgUBAozOOosbKgIFAQKAgU5l4P6Y0F\n",
       "BYGCQEGgIFBw1AgWFAQKAgWBgod0sKAgUBAoCBQECi7MggUFgYJAQaDgqBEsKAgUBAoChXmORht1\n",
       "gkBBoCBQECi4DwoWFAQKAgWBgvugYEFBoCBQECj40xTBgoJAQaAgUBAozHM12qgTBAoCBYGCo0aw\n",
       "oCBQECgIFAQKXsWCBQWBgkBBoOBbrkGdIFAQKAgUfIkzWFAQKAgUBAoCBd9yDRYUBAoCBYHCXPdB\n",
       "K3WCQEGgIFBwHxQsKAgUBAoCBYGC+6BgQUGgIFAQKLgPCuoEgYJAQaAgUHBhFiwoCBQECgIFvy8W\n",
       "LCgIFAQKAoW5/n7QSp0gUBAoCBQECj56DhYUBAoCBYGC+6BgQUGgIFAQKPhkNVhQECgIFAQKAgXf\n",
       "cg3qBIGCQEGg4KgRLCgIFAQKAgWBgk81ggUFgYJAQaDgqBEsKAgUBAoCBZf2QZ0gUBAoCBQECo4a\n",
       "wYKCQEGgIFBwaR8sKAgUBAoCBe+kgwUFgYJAQaAgUPCpRlAnCBQECgIFR41gQUGgIFAQKAgUvIoF\n",
       "CwoCBYGCQMFDOlhQECgIFAQKvh8ULCgIFAQKAgWBwhz/22elThAoCBQECu6DggUFgYJAQaDgPihY\n",
       "UBAoCBQECgIFR41gQUGgIFAQKHhIBwsKAgWBgkBBoOBVLFhQECgIFAQKHtLBgoJAQaAgUJjjIb2y\n",
       "oCBQECgIFAQKjhrBgoJAQaAgUPCQDhYUBAoCBYGCh3SwoCBQECgIFAQKXsWCBQWBgkBBoOAhHSwo\n",
       "CBQECgIFgYIvUAULCgIFgYJAwVEjWFAQKAgUBAoe0sGCgkBBoCBQECj4rwhBnSBQECgIFBw1ggUF\n",
       "gYJAQaDgk9VgQUGgIFAQKAgUHDWCBQWBgkBBoOCoESwoCBQECgIFgYKjRrCgIFAQKAgUPKSDBQWB\n",
       "gkBBoOA+KFhQECgIFAQKAoW5j1exjQUFgYJAQaDgqBEsKAgUBAoCBZf2wYKCQEGgIFAQKMy5b/8I\n",
       "32ZBQaAgUBAoOGoECwoCBYGCQEGg4FONYEFBoCBQECjM8f2glQUFgYJAQaDgPihYUBAoCBQECgIF\n",
       "90HBgoJAQaAgUHDUCBYUBAoCBYHCnLd/go+zoCBQECgIFAQKjhrBgoJAQaAgUHBpHywoCBQECgIF\n",
       "gYK/ghcsKAgUBAoCBUeNYEFBoCBQECj4+0HBgoJAQaAgUBAouA8KFhQECgIFgYLvBwULCgIFgYJA\n",
       "wa8iBAsKAgWBgkBBoOCoESwoCBQECgIFR41gQUGgIFAQKAgUHDWCBQWBgkBBoOBXEYIFBYGCQEGg\n",
       "MH4TYWdBQaAgUBAoCBQcNYIFBYGCQEGg4KgRLCgIFAQKAgXvpIMFBYGCQEGgIFBw1AgWFAQKAgWB\n",
       "gqNGsKAgUBAoCBQECv6Wa7CgIFAQKAgU/KnSYEFBoCBQECh4Jx0sKAgUBAoCBYHCHEeNlQUFgYJA\n",
       "QaAw11FjZUFBoCBQECj4flCwoCBQECgIFAQKfhUhWFAQKAgUBAo+eg4WFAQKAgWBgkDBR8/BgoJA\n",
       "QaAgUPDRc7CgIFAQKAgU/JfMYEFBoCBQECgIFHyBKlhQECgIFAQK7oOCBQWBgkBBoOA+KFhQECgI\n",
       "FAQKAgVHjWBBQaAgUBAo+BJnsKAgUBAoCBQECn6hLlhQECgIFAQK/jRFsKAgUBAoCBS8kw4WFAQK\n",
       "AgWBgkDBq1iwoCBQECgIFPyXzGBBQaAgUBAoeCcdLCgIFAQKAgWBgo+egwUFgYJAQaDgqBEsKAgU\n",
       "BAoCBYGCV7FgQUGgIFAQKLgPChYUBAoCBYGCd9LBgoJAQaAgUBAo+FuuwYKCQEGgIFDwp0qDBQWB\n",
       "gkBBoOA+KFhQECgIFAQKAgUfPQcLCgIFgYJAwVEjWFAQKAgUBAoChbmPl7GNBQWBgkBBoOCoESwo\n",
       "CBQECgIFl/bBgoJAQaAgUBAoOGoECwoCBYGCQMFRI1hQECgIFAQK3kkHCwoCBYGCQEGg4LeegwUF\n",
       "gYJAQaAwx5c4VxYUBAoCBYGCQMFRI1hQECgIFAQKjhrBgoJAQaAgUPD3pIMFBYGCQEGgIFCY60Jo\n",
       "ZUFBoCBQECg4agQLCgIFgYJAwa8iBAsKAgWBgkBBoOBPlQYLCgIFgYJAwVEjWFAQKAgUBAoCBd9y\n",
       "DRYUBAoCBYGC+6BgQUGgIFAQKHgnHSwoCBQECgIFgYJXsWBBQaAgUBAozPH7YisLCgIFgYJAwaV9\n",
       "sKAgUBAoCBQECu6DggUFgYJAQaDgIR0sKAgUBAoCBYGCV7FgQUGgIFAQKMx9/B28jQUFgYJAQaDg\n",
       "nXSwoCBQECgIFAQKc36OGhsLCgIFgYJAYY77oJUFBYGCQEGg4CEdLCgIFAQKAgWBgo+egwUFgYJA\n",
       "QaAw5+ej540FBYGCQEGgIFBwYRYsKAgUBAoCBQ/pYEFBoCBQECi4tA8WFAQKAgWBgkBhzvPn7Z/h\n",
       "0ywoCBQECgIF90HBgoJAQaAgUJjrnfTKgoJAQaAgUBAoOGoECwoCBYGCQMFDOlhQECgIFAQKAgUX\n",
       "ZsGCgkBBoCBQcNQIFhQECgIFgYJ30sGCgkBBoCBQECj4hbpgQUGgIFAQKMy5HtIbCwoCBYGCQME7\n",
       "6WBBQaAgUBAoCBTmOmqsLCgIFAQKAgVHjWBBQaAgUBAoCBR8gSpYUBAoCBQECj56DhYUBAoCBYGC\n",
       "+6BgQUGgIFAQKAgUfPQcLCgIFAQKAgWX9sGCgkBBoCBQ8E46WFAQKAgUBAoCBZ9qBAsKAgWBgkDB\n",
       "USNYUBAoCBQECgIFn2oECwoCBYGCQMFRI1hQECgIFAQKLu2DBQWBgkBBoCBQmHvdB20sKAgUBAoC\n",
       "BUeNYEFBoCBQECjMc+/bP8OnWVAQKAgUBAoChXkcNVYWFAQKAgWBgu8HBQsKAgWBgkBBoOCoESwo\n",
       "CBQECgIFHz0HCwoCBYGCQGEe90ErCwoCBYGCQEGg4KgRLCgIFAQKAgWX9sGCgkBBoCBQ+A+xBu/P\n",
       "hn95lgAAAABJRU5ErkJggg==\n",
       "\" transform=\"translate(2161, 47)\"/>\n",
       "</g>\n",
       "<path clip-path=\"url(#clip2900)\" d=\"M 0 0 M2268.76 1248.01 L2298.43 1248.01 L2298.43 1251.95 L2268.76 1251.95 L2268.76 1248.01 Z\" fill=\"#000000\" fill-rule=\"evenodd\" fill-opacity=\"1\" /><path clip-path=\"url(#clip2900)\" d=\"M 0 0 M2313.5 1233.36 Q2309.89 1233.36 2308.06 1236.92 Q2306.26 1240.46 2306.26 1247.59 Q2306.26 1254.7 2308.06 1258.27 Q2309.89 1261.81 2313.5 1261.81 Q2317.14 1261.81 2318.94 1258.27 Q2320.77 1254.7 2320.77 1247.59 Q2320.77 1240.46 2318.94 1236.92 Q2317.14 1233.36 2313.5 1233.36 M2313.5 1229.65 Q2319.31 1229.65 2322.37 1234.26 Q2325.45 1238.84 2325.45 1247.59 Q2325.45 1256.32 2322.37 1260.93 Q2319.31 1265.51 2313.5 1265.51 Q2307.69 1265.51 2304.61 1260.93 Q2301.56 1256.32 2301.56 1247.59 Q2301.56 1238.84 2304.61 1234.26 Q2307.69 1229.65 2313.5 1229.65 Z\" fill=\"#000000\" fill-rule=\"evenodd\" fill-opacity=\"1\" /><path clip-path=\"url(#clip2900)\" d=\"M 0 0 M2330.51 1258.96 L2335.4 1258.96 L2335.4 1264.84 L2330.51 1264.84 L2330.51 1258.96 Z\" fill=\"#000000\" fill-rule=\"evenodd\" fill-opacity=\"1\" /><path clip-path=\"url(#clip2900)\" d=\"M 0 0 M2350.47 1233.36 Q2346.86 1233.36 2345.03 1236.92 Q2343.22 1240.46 2343.22 1247.59 Q2343.22 1254.7 2345.03 1258.27 Q2346.86 1261.81 2350.47 1261.81 Q2354.1 1261.81 2355.91 1258.27 Q2357.74 1254.7 2357.74 1247.59 Q2357.74 1240.46 2355.91 1236.92 Q2354.1 1233.36 2350.47 1233.36 M2350.47 1229.65 Q2356.28 1229.65 2359.33 1234.26 Q2362.41 1238.84 2362.41 1247.59 Q2362.41 1256.32 2359.33 1260.93 Q2356.28 1265.51 2350.47 1265.51 Q2344.66 1265.51 2341.58 1260.93 Q2338.52 1256.32 2338.52 1247.59 Q2338.52 1238.84 2341.58 1234.26 Q2344.66 1229.65 2350.47 1229.65 Z\" fill=\"#000000\" fill-rule=\"evenodd\" fill-opacity=\"1\" /><path clip-path=\"url(#clip2900)\" d=\"M 0 0 M2377.48 1233.36 Q2373.87 1233.36 2372.04 1236.92 Q2370.24 1240.46 2370.24 1247.59 Q2370.24 1254.7 2372.04 1258.27 Q2373.87 1261.81 2377.48 1261.81 Q2381.12 1261.81 2382.92 1258.27 Q2384.75 1254.7 2384.75 1247.59 Q2384.75 1240.46 2382.92 1236.92 Q2381.12 1233.36 2377.48 1233.36 M2377.48 1229.65 Q2383.29 1229.65 2386.35 1234.26 Q2389.43 1238.84 2389.43 1247.59 Q2389.43 1256.32 2386.35 1260.93 Q2383.29 1265.51 2377.48 1265.51 Q2371.67 1265.51 2368.59 1260.93 Q2365.54 1256.32 2365.54 1247.59 Q2365.54 1238.84 2368.59 1234.26 Q2371.67 1229.65 2377.48 1229.65 Z\" fill=\"#000000\" fill-rule=\"evenodd\" fill-opacity=\"1\" /><path clip-path=\"url(#clip2900)\" d=\"M 0 0 M2393.32 1230.28 L2415.54 1230.28 L2415.54 1232.27 L2402.99 1264.84 L2398.11 1264.84 L2409.91 1234.21 L2393.32 1234.21 L2393.32 1230.28 Z\" fill=\"#000000\" fill-rule=\"evenodd\" fill-opacity=\"1\" /><path clip-path=\"url(#clip2900)\" d=\"M 0 0 M2420.65 1230.28 L2439.01 1230.28 L2439.01 1234.21 L2424.94 1234.21 L2424.94 1242.69 Q2425.95 1242.34 2426.97 1242.18 Q2427.99 1241.99 2429.01 1241.99 Q2434.8 1241.99 2438.18 1245.16 Q2441.56 1248.33 2441.56 1253.75 Q2441.56 1259.33 2438.08 1262.43 Q2434.61 1265.51 2428.29 1265.51 Q2426.12 1265.51 2423.85 1265.14 Q2421.6 1264.77 2419.19 1264.03 L2419.19 1259.33 Q2421.28 1260.46 2423.5 1261.02 Q2425.72 1261.58 2428.2 1261.58 Q2432.2 1261.58 2434.54 1259.47 Q2436.88 1257.36 2436.88 1253.75 Q2436.88 1250.14 2434.54 1248.03 Q2432.2 1245.93 2428.2 1245.93 Q2426.32 1245.93 2424.45 1246.34 Q2422.6 1246.76 2420.65 1247.64 L2420.65 1230.28 Z\" fill=\"#000000\" fill-rule=\"evenodd\" fill-opacity=\"1\" /><path clip-path=\"url(#clip2900)\" d=\"M 0 0 M2268.76 1076.02 L2298.43 1076.02 L2298.43 1079.95 L2268.76 1079.95 L2268.76 1076.02 Z\" fill=\"#000000\" fill-rule=\"evenodd\" fill-opacity=\"1\" /><path clip-path=\"url(#clip2900)\" d=\"M 0 0 M2313.5 1061.37 Q2309.89 1061.37 2308.06 1064.93 Q2306.26 1068.47 2306.26 1075.6 Q2306.26 1082.71 2308.06 1086.27 Q2309.89 1089.81 2313.5 1089.81 Q2317.14 1089.81 2318.94 1086.27 Q2320.77 1082.71 2320.77 1075.6 Q2320.77 1068.47 2318.94 1064.93 Q2317.14 1061.37 2313.5 1061.37 M2313.5 1057.66 Q2319.31 1057.66 2322.37 1062.27 Q2325.45 1066.85 2325.45 1075.6 Q2325.45 1084.33 2322.37 1088.94 Q2319.31 1093.52 2313.5 1093.52 Q2307.69 1093.52 2304.61 1088.94 Q2301.56 1084.33 2301.56 1075.6 Q2301.56 1066.85 2304.61 1062.27 Q2307.69 1057.66 2313.5 1057.66 Z\" fill=\"#000000\" fill-rule=\"evenodd\" fill-opacity=\"1\" /><path clip-path=\"url(#clip2900)\" d=\"M 0 0 M2330.51 1086.97 L2335.4 1086.97 L2335.4 1092.85 L2330.51 1092.85 L2330.51 1086.97 Z\" fill=\"#000000\" fill-rule=\"evenodd\" fill-opacity=\"1\" /><path clip-path=\"url(#clip2900)\" d=\"M 0 0 M2350.47 1061.37 Q2346.86 1061.37 2345.03 1064.93 Q2343.22 1068.47 2343.22 1075.6 Q2343.22 1082.71 2345.03 1086.27 Q2346.86 1089.81 2350.47 1089.81 Q2354.1 1089.81 2355.91 1086.27 Q2357.74 1082.71 2357.74 1075.6 Q2357.74 1068.47 2355.91 1064.93 Q2354.1 1061.37 2350.47 1061.37 M2350.47 1057.66 Q2356.28 1057.66 2359.33 1062.27 Q2362.41 1066.85 2362.41 1075.6 Q2362.41 1084.33 2359.33 1088.94 Q2356.28 1093.52 2350.47 1093.52 Q2344.66 1093.52 2341.58 1088.94 Q2338.52 1084.33 2338.52 1075.6 Q2338.52 1066.85 2341.58 1062.27 Q2344.66 1057.66 2350.47 1057.66 Z\" fill=\"#000000\" fill-rule=\"evenodd\" fill-opacity=\"1\" /><path clip-path=\"url(#clip2900)\" d=\"M 0 0 M2377.48 1061.37 Q2373.87 1061.37 2372.04 1064.93 Q2370.24 1068.47 2370.24 1075.6 Q2370.24 1082.71 2372.04 1086.27 Q2373.87 1089.81 2377.48 1089.81 Q2381.12 1089.81 2382.92 1086.27 Q2384.75 1082.71 2384.75 1075.6 Q2384.75 1068.47 2382.92 1064.93 Q2381.12 1061.37 2377.48 1061.37 M2377.48 1057.66 Q2383.29 1057.66 2386.35 1062.27 Q2389.43 1066.85 2389.43 1075.6 Q2389.43 1084.33 2386.35 1088.94 Q2383.29 1093.52 2377.48 1093.52 Q2371.67 1093.52 2368.59 1088.94 Q2365.54 1084.33 2365.54 1075.6 Q2365.54 1066.85 2368.59 1062.27 Q2371.67 1057.66 2377.48 1057.66 Z\" fill=\"#000000\" fill-rule=\"evenodd\" fill-opacity=\"1\" /><path clip-path=\"url(#clip2900)\" d=\"M 0 0 M2394.54 1058.29 L2412.9 1058.29 L2412.9 1062.22 L2398.82 1062.22 L2398.82 1070.69 Q2399.84 1070.35 2400.86 1070.19 Q2401.88 1070 2402.9 1070 Q2408.69 1070 2412.07 1073.17 Q2415.44 1076.34 2415.44 1081.76 Q2415.44 1087.34 2411.97 1090.44 Q2408.5 1093.52 2402.18 1093.52 Q2400.01 1093.52 2397.74 1093.15 Q2395.49 1092.78 2393.08 1092.04 L2393.08 1087.34 Q2395.17 1088.47 2397.39 1089.03 Q2399.61 1089.58 2402.09 1089.58 Q2406.09 1089.58 2408.43 1087.48 Q2410.77 1085.37 2410.77 1081.76 Q2410.77 1078.15 2408.43 1076.04 Q2406.09 1073.94 2402.09 1073.94 Q2400.21 1073.94 2398.34 1074.35 Q2396.49 1074.77 2394.54 1075.65 L2394.54 1058.29 Z\" fill=\"#000000\" fill-rule=\"evenodd\" fill-opacity=\"1\" /><path clip-path=\"url(#clip2900)\" d=\"M 0 0 M2430.51 1061.37 Q2426.9 1061.37 2425.07 1064.93 Q2423.27 1068.47 2423.27 1075.6 Q2423.27 1082.71 2425.07 1086.27 Q2426.9 1089.81 2430.51 1089.81 Q2434.15 1089.81 2435.95 1086.27 Q2437.78 1082.71 2437.78 1075.6 Q2437.78 1068.47 2435.95 1064.93 Q2434.15 1061.37 2430.51 1061.37 M2430.51 1057.66 Q2436.32 1057.66 2439.38 1062.27 Q2442.46 1066.85 2442.46 1075.6 Q2442.46 1084.33 2439.38 1088.94 Q2436.32 1093.52 2430.51 1093.52 Q2424.7 1093.52 2421.63 1088.94 Q2418.57 1084.33 2418.57 1075.6 Q2418.57 1066.85 2421.63 1062.27 Q2424.7 1057.66 2430.51 1057.66 Z\" fill=\"#000000\" fill-rule=\"evenodd\" fill-opacity=\"1\" /><path clip-path=\"url(#clip2900)\" d=\"M 0 0 M2268.76 904.027 L2298.43 904.027 L2298.43 907.962 L2268.76 907.962 L2268.76 904.027 Z\" fill=\"#000000\" fill-rule=\"evenodd\" fill-opacity=\"1\" /><path clip-path=\"url(#clip2900)\" d=\"M 0 0 M2313.5 889.374 Q2309.89 889.374 2308.06 892.939 Q2306.26 896.48 2306.26 903.61 Q2306.26 910.716 2308.06 914.281 Q2309.89 917.823 2313.5 917.823 Q2317.14 917.823 2318.94 914.281 Q2320.77 910.716 2320.77 903.61 Q2320.77 896.48 2318.94 892.939 Q2317.14 889.374 2313.5 889.374 M2313.5 885.67 Q2319.31 885.67 2322.37 890.277 Q2325.45 894.86 2325.45 903.61 Q2325.45 912.337 2322.37 916.943 Q2319.31 921.526 2313.5 921.526 Q2307.69 921.526 2304.61 916.943 Q2301.56 912.337 2301.56 903.61 Q2301.56 894.86 2304.61 890.277 Q2307.69 885.67 2313.5 885.67 Z\" fill=\"#000000\" fill-rule=\"evenodd\" fill-opacity=\"1\" /><path clip-path=\"url(#clip2900)\" d=\"M 0 0 M2330.51 914.976 L2335.4 914.976 L2335.4 920.855 L2330.51 920.855 L2330.51 914.976 Z\" fill=\"#000000\" fill-rule=\"evenodd\" fill-opacity=\"1\" /><path clip-path=\"url(#clip2900)\" d=\"M 0 0 M2350.47 889.374 Q2346.86 889.374 2345.03 892.939 Q2343.22 896.48 2343.22 903.61 Q2343.22 910.716 2345.03 914.281 Q2346.86 917.823 2350.47 917.823 Q2354.1 917.823 2355.91 914.281 Q2357.74 910.716 2357.74 903.61 Q2357.74 896.48 2355.91 892.939 Q2354.1 889.374 2350.47 889.374 M2350.47 885.67 Q2356.28 885.67 2359.33 890.277 Q2362.41 894.86 2362.41 903.61 Q2362.41 912.337 2359.33 916.943 Q2356.28 921.526 2350.47 921.526 Q2344.66 921.526 2341.58 916.943 Q2338.52 912.337 2338.52 903.61 Q2338.52 894.86 2341.58 890.277 Q2344.66 885.67 2350.47 885.67 Z\" fill=\"#000000\" fill-rule=\"evenodd\" fill-opacity=\"1\" /><path clip-path=\"url(#clip2900)\" d=\"M 0 0 M2377.48 889.374 Q2373.87 889.374 2372.04 892.939 Q2370.24 896.48 2370.24 903.61 Q2370.24 910.716 2372.04 914.281 Q2373.87 917.823 2377.48 917.823 Q2381.12 917.823 2382.92 914.281 Q2384.75 910.716 2384.75 903.61 Q2384.75 896.48 2382.92 892.939 Q2381.12 889.374 2377.48 889.374 M2377.48 885.67 Q2383.29 885.67 2386.35 890.277 Q2389.43 894.86 2389.43 903.61 Q2389.43 912.337 2386.35 916.943 Q2383.29 921.526 2377.48 921.526 Q2371.67 921.526 2368.59 916.943 Q2365.54 912.337 2365.54 903.61 Q2365.54 894.86 2368.59 890.277 Q2371.67 885.67 2377.48 885.67 Z\" fill=\"#000000\" fill-rule=\"evenodd\" fill-opacity=\"1\" /><path clip-path=\"url(#clip2900)\" d=\"M 0 0 M2398.52 916.92 L2414.84 916.92 L2414.84 920.855 L2392.9 920.855 L2392.9 916.92 Q2395.56 914.165 2400.14 909.536 Q2404.75 904.883 2405.93 903.54 Q2408.18 901.017 2409.06 899.281 Q2409.96 897.522 2409.96 895.832 Q2409.96 893.078 2408.01 891.341 Q2406.09 889.605 2402.99 889.605 Q2400.79 889.605 2398.34 890.369 Q2395.91 891.133 2393.13 892.684 L2393.13 887.962 Q2395.95 886.828 2398.41 886.249 Q2400.86 885.67 2402.9 885.67 Q2408.27 885.67 2411.46 888.355 Q2414.66 891.04 2414.66 895.531 Q2414.66 897.661 2413.85 899.582 Q2413.06 901.48 2410.95 904.073 Q2410.38 904.744 2407.27 907.962 Q2404.17 911.156 2398.52 916.92 Z\" fill=\"#000000\" fill-rule=\"evenodd\" fill-opacity=\"1\" /><path clip-path=\"url(#clip2900)\" d=\"M 0 0 M2419.96 886.295 L2438.32 886.295 L2438.32 890.23 L2424.24 890.23 L2424.24 898.702 Q2425.26 898.355 2426.28 898.193 Q2427.3 898.008 2428.32 898.008 Q2434.1 898.008 2437.48 901.179 Q2440.86 904.351 2440.86 909.767 Q2440.86 915.346 2437.39 918.448 Q2433.92 921.526 2427.6 921.526 Q2425.42 921.526 2423.15 921.156 Q2420.91 920.786 2418.5 920.045 L2418.5 915.346 Q2420.58 916.48 2422.81 917.036 Q2425.03 917.591 2427.51 917.591 Q2431.51 917.591 2433.85 915.485 Q2436.19 913.378 2436.19 909.767 Q2436.19 906.156 2433.85 904.05 Q2431.51 901.943 2427.51 901.943 Q2425.63 901.943 2423.76 902.36 Q2421.9 902.777 2419.96 903.656 L2419.96 886.295 Z\" fill=\"#000000\" fill-rule=\"evenodd\" fill-opacity=\"1\" /><path clip-path=\"url(#clip2900)\" d=\"M 0 0 M2280.7 717.382 Q2277.09 717.382 2275.26 720.947 Q2273.45 724.488 2273.45 731.618 Q2273.45 738.724 2275.26 742.289 Q2277.09 745.831 2280.7 745.831 Q2284.33 745.831 2286.14 742.289 Q2287.97 738.724 2287.97 731.618 Q2287.97 724.488 2286.14 720.947 Q2284.33 717.382 2280.7 717.382 M2280.7 713.678 Q2286.51 713.678 2289.57 718.285 Q2292.64 722.868 2292.64 731.618 Q2292.64 740.345 2289.57 744.951 Q2286.51 749.534 2280.7 749.534 Q2274.89 749.534 2271.81 744.951 Q2268.76 740.345 2268.76 731.618 Q2268.76 722.868 2271.81 718.285 Q2274.89 713.678 2280.7 713.678 Z\" fill=\"#000000\" fill-rule=\"evenodd\" fill-opacity=\"1\" /><path clip-path=\"url(#clip2900)\" d=\"M 0 0 M2280.7 545.39 Q2277.09 545.39 2275.26 548.955 Q2273.45 552.496 2273.45 559.626 Q2273.45 566.732 2275.26 570.297 Q2277.09 573.839 2280.7 573.839 Q2284.33 573.839 2286.14 570.297 Q2287.97 566.732 2287.97 559.626 Q2287.97 552.496 2286.14 548.955 Q2284.33 545.39 2280.7 545.39 M2280.7 541.686 Q2286.51 541.686 2289.57 546.293 Q2292.64 550.876 2292.64 559.626 Q2292.64 568.353 2289.57 572.959 Q2286.51 577.542 2280.7 577.542 Q2274.89 577.542 2271.81 572.959 Q2268.76 568.353 2268.76 559.626 Q2268.76 550.876 2271.81 546.293 Q2274.89 541.686 2280.7 541.686 Z\" fill=\"#000000\" fill-rule=\"evenodd\" fill-opacity=\"1\" /><path clip-path=\"url(#clip2900)\" d=\"M 0 0 M2297.71 570.992 L2302.6 570.992 L2302.6 576.871 L2297.71 576.871 L2297.71 570.992 Z\" fill=\"#000000\" fill-rule=\"evenodd\" fill-opacity=\"1\" /><path clip-path=\"url(#clip2900)\" d=\"M 0 0 M2317.67 545.39 Q2314.06 545.39 2312.23 548.955 Q2310.42 552.496 2310.42 559.626 Q2310.42 566.732 2312.23 570.297 Q2314.06 573.839 2317.67 573.839 Q2321.3 573.839 2323.11 570.297 Q2324.94 566.732 2324.94 559.626 Q2324.94 552.496 2323.11 548.955 Q2321.3 545.39 2317.67 545.39 M2317.67 541.686 Q2323.48 541.686 2326.53 546.293 Q2329.61 550.876 2329.61 559.626 Q2329.61 568.353 2326.53 572.959 Q2323.48 577.542 2317.67 577.542 Q2311.86 577.542 2308.78 572.959 Q2305.72 568.353 2305.72 559.626 Q2305.72 550.876 2308.78 546.293 Q2311.86 541.686 2317.67 541.686 Z\" fill=\"#000000\" fill-rule=\"evenodd\" fill-opacity=\"1\" /><path clip-path=\"url(#clip2900)\" d=\"M 0 0 M2344.68 545.39 Q2341.07 545.39 2339.24 548.955 Q2337.44 552.496 2337.44 559.626 Q2337.44 566.732 2339.24 570.297 Q2341.07 573.839 2344.68 573.839 Q2348.32 573.839 2350.12 570.297 Q2351.95 566.732 2351.95 559.626 Q2351.95 552.496 2350.12 548.955 Q2348.32 545.39 2344.68 545.39 M2344.68 541.686 Q2350.49 541.686 2353.55 546.293 Q2356.63 550.876 2356.63 559.626 Q2356.63 568.353 2353.55 572.959 Q2350.49 577.542 2344.68 577.542 Q2338.87 577.542 2335.79 572.959 Q2332.74 568.353 2332.74 559.626 Q2332.74 550.876 2335.79 546.293 Q2338.87 541.686 2344.68 541.686 Z\" fill=\"#000000\" fill-rule=\"evenodd\" fill-opacity=\"1\" /><path clip-path=\"url(#clip2900)\" d=\"M 0 0 M2365.72 572.936 L2382.04 572.936 L2382.04 576.871 L2360.1 576.871 L2360.1 572.936 Q2362.76 570.181 2367.34 565.552 Q2371.95 560.899 2373.13 559.556 Q2375.38 557.033 2376.26 555.297 Q2377.16 553.538 2377.16 551.848 Q2377.16 549.094 2375.21 547.357 Q2373.29 545.621 2370.19 545.621 Q2367.99 545.621 2365.54 546.385 Q2363.11 547.149 2360.33 548.7 L2360.33 543.978 Q2363.15 542.844 2365.61 542.265 Q2368.06 541.686 2370.1 541.686 Q2375.47 541.686 2378.66 544.371 Q2381.86 547.057 2381.86 551.547 Q2381.86 553.677 2381.05 555.598 Q2380.26 557.496 2378.15 560.089 Q2377.57 560.76 2374.47 563.978 Q2371.37 567.172 2365.72 572.936 Z\" fill=\"#000000\" fill-rule=\"evenodd\" fill-opacity=\"1\" /><path clip-path=\"url(#clip2900)\" d=\"M 0 0 M2387.16 542.311 L2405.51 542.311 L2405.51 546.246 L2391.44 546.246 L2391.44 554.719 Q2392.46 554.371 2393.48 554.209 Q2394.5 554.024 2395.51 554.024 Q2401.3 554.024 2404.68 557.195 Q2408.06 560.367 2408.06 565.783 Q2408.06 571.362 2404.59 574.464 Q2401.12 577.542 2394.8 577.542 Q2392.62 577.542 2390.35 577.172 Q2388.11 576.802 2385.7 576.061 L2385.7 571.362 Q2387.78 572.496 2390.01 573.052 Q2392.23 573.607 2394.7 573.607 Q2398.71 573.607 2401.05 571.501 Q2403.38 569.394 2403.38 565.783 Q2403.38 562.172 2401.05 560.066 Q2398.71 557.959 2394.7 557.959 Q2392.83 557.959 2390.95 558.376 Q2389.1 558.793 2387.16 559.672 L2387.16 542.311 Z\" fill=\"#000000\" fill-rule=\"evenodd\" fill-opacity=\"1\" /><path clip-path=\"url(#clip2900)\" d=\"M 0 0 M2280.7 373.398 Q2277.09 373.398 2275.26 376.963 Q2273.45 380.504 2273.45 387.634 Q2273.45 394.74 2275.26 398.305 Q2277.09 401.847 2280.7 401.847 Q2284.33 401.847 2286.14 398.305 Q2287.97 394.74 2287.97 387.634 Q2287.97 380.504 2286.14 376.963 Q2284.33 373.398 2280.7 373.398 M2280.7 369.694 Q2286.51 369.694 2289.57 374.301 Q2292.64 378.884 2292.64 387.634 Q2292.64 396.361 2289.57 400.967 Q2286.51 405.551 2280.7 405.551 Q2274.89 405.551 2271.81 400.967 Q2268.76 396.361 2268.76 387.634 Q2268.76 378.884 2271.81 374.301 Q2274.89 369.694 2280.7 369.694 Z\" fill=\"#000000\" fill-rule=\"evenodd\" fill-opacity=\"1\" /><path clip-path=\"url(#clip2900)\" d=\"M 0 0 M2297.71 399 L2302.6 399 L2302.6 404.879 L2297.71 404.879 L2297.71 399 Z\" fill=\"#000000\" fill-rule=\"evenodd\" fill-opacity=\"1\" /><path clip-path=\"url(#clip2900)\" d=\"M 0 0 M2317.67 373.398 Q2314.06 373.398 2312.23 376.963 Q2310.42 380.504 2310.42 387.634 Q2310.42 394.74 2312.23 398.305 Q2314.06 401.847 2317.67 401.847 Q2321.3 401.847 2323.11 398.305 Q2324.94 394.74 2324.94 387.634 Q2324.94 380.504 2323.11 376.963 Q2321.3 373.398 2317.67 373.398 M2317.67 369.694 Q2323.48 369.694 2326.53 374.301 Q2329.61 378.884 2329.61 387.634 Q2329.61 396.361 2326.53 400.967 Q2323.48 405.551 2317.67 405.551 Q2311.86 405.551 2308.78 400.967 Q2305.72 396.361 2305.72 387.634 Q2305.72 378.884 2308.78 374.301 Q2311.86 369.694 2317.67 369.694 Z\" fill=\"#000000\" fill-rule=\"evenodd\" fill-opacity=\"1\" /><path clip-path=\"url(#clip2900)\" d=\"M 0 0 M2344.68 373.398 Q2341.07 373.398 2339.24 376.963 Q2337.44 380.504 2337.44 387.634 Q2337.44 394.74 2339.24 398.305 Q2341.07 401.847 2344.68 401.847 Q2348.32 401.847 2350.12 398.305 Q2351.95 394.74 2351.95 387.634 Q2351.95 380.504 2350.12 376.963 Q2348.32 373.398 2344.68 373.398 M2344.68 369.694 Q2350.49 369.694 2353.55 374.301 Q2356.63 378.884 2356.63 387.634 Q2356.63 396.361 2353.55 400.967 Q2350.49 405.551 2344.68 405.551 Q2338.87 405.551 2335.79 400.967 Q2332.74 396.361 2332.74 387.634 Q2332.74 378.884 2335.79 374.301 Q2338.87 369.694 2344.68 369.694 Z\" fill=\"#000000\" fill-rule=\"evenodd\" fill-opacity=\"1\" /><path clip-path=\"url(#clip2900)\" d=\"M 0 0 M2361.74 370.319 L2380.1 370.319 L2380.1 374.254 L2366.02 374.254 L2366.02 382.727 Q2367.04 382.379 2368.06 382.217 Q2369.08 382.032 2370.1 382.032 Q2375.88 382.032 2379.26 385.203 Q2382.64 388.375 2382.64 393.791 Q2382.64 399.37 2379.17 402.472 Q2375.7 405.551 2369.38 405.551 Q2367.2 405.551 2364.94 405.18 Q2362.69 404.81 2360.28 404.069 L2360.28 399.37 Q2362.37 400.504 2364.59 401.06 Q2366.81 401.615 2369.29 401.615 Q2373.29 401.615 2375.63 399.509 Q2377.97 397.402 2377.97 393.791 Q2377.97 390.18 2375.63 388.074 Q2373.29 385.967 2369.29 385.967 Q2367.41 385.967 2365.54 386.384 Q2363.69 386.801 2361.74 387.68 L2361.74 370.319 Z\" fill=\"#000000\" fill-rule=\"evenodd\" fill-opacity=\"1\" /><path clip-path=\"url(#clip2900)\" d=\"M 0 0 M2397.71 373.398 Q2394.1 373.398 2392.27 376.963 Q2390.47 380.504 2390.47 387.634 Q2390.47 394.74 2392.27 398.305 Q2394.1 401.847 2397.71 401.847 Q2401.35 401.847 2403.15 398.305 Q2404.98 394.74 2404.98 387.634 Q2404.98 380.504 2403.15 376.963 Q2401.35 373.398 2397.71 373.398 M2397.71 369.694 Q2403.52 369.694 2406.58 374.301 Q2409.66 378.884 2409.66 387.634 Q2409.66 396.361 2406.58 400.967 Q2403.52 405.551 2397.71 405.551 Q2391.9 405.551 2388.82 400.967 Q2385.77 396.361 2385.77 387.634 Q2385.77 378.884 2388.82 374.301 Q2391.9 369.694 2397.71 369.694 Z\" fill=\"#000000\" fill-rule=\"evenodd\" fill-opacity=\"1\" /><path clip-path=\"url(#clip2900)\" d=\"M 0 0 M2280.7 201.406 Q2277.09 201.406 2275.26 204.971 Q2273.45 208.512 2273.45 215.642 Q2273.45 222.748 2275.26 226.313 Q2277.09 229.855 2280.7 229.855 Q2284.33 229.855 2286.14 226.313 Q2287.97 222.748 2287.97 215.642 Q2287.97 208.512 2286.14 204.971 Q2284.33 201.406 2280.7 201.406 M2280.7 197.702 Q2286.51 197.702 2289.57 202.309 Q2292.64 206.892 2292.64 215.642 Q2292.64 224.369 2289.57 228.975 Q2286.51 233.559 2280.7 233.559 Q2274.89 233.559 2271.81 228.975 Q2268.76 224.369 2268.76 215.642 Q2268.76 206.892 2271.81 202.309 Q2274.89 197.702 2280.7 197.702 Z\" fill=\"#000000\" fill-rule=\"evenodd\" fill-opacity=\"1\" /><path clip-path=\"url(#clip2900)\" d=\"M 0 0 M2297.71 227.008 L2302.6 227.008 L2302.6 232.887 L2297.71 232.887 L2297.71 227.008 Z\" fill=\"#000000\" fill-rule=\"evenodd\" fill-opacity=\"1\" /><path clip-path=\"url(#clip2900)\" d=\"M 0 0 M2317.67 201.406 Q2314.06 201.406 2312.23 204.971 Q2310.42 208.512 2310.42 215.642 Q2310.42 222.748 2312.23 226.313 Q2314.06 229.855 2317.67 229.855 Q2321.3 229.855 2323.11 226.313 Q2324.94 222.748 2324.94 215.642 Q2324.94 208.512 2323.11 204.971 Q2321.3 201.406 2317.67 201.406 M2317.67 197.702 Q2323.48 197.702 2326.53 202.309 Q2329.61 206.892 2329.61 215.642 Q2329.61 224.369 2326.53 228.975 Q2323.48 233.559 2317.67 233.559 Q2311.86 233.559 2308.78 228.975 Q2305.72 224.369 2305.72 215.642 Q2305.72 206.892 2308.78 202.309 Q2311.86 197.702 2317.67 197.702 Z\" fill=\"#000000\" fill-rule=\"evenodd\" fill-opacity=\"1\" /><path clip-path=\"url(#clip2900)\" d=\"M 0 0 M2344.68 201.406 Q2341.07 201.406 2339.24 204.971 Q2337.44 208.512 2337.44 215.642 Q2337.44 222.748 2339.24 226.313 Q2341.07 229.855 2344.68 229.855 Q2348.32 229.855 2350.12 226.313 Q2351.95 222.748 2351.95 215.642 Q2351.95 208.512 2350.12 204.971 Q2348.32 201.406 2344.68 201.406 M2344.68 197.702 Q2350.49 197.702 2353.55 202.309 Q2356.63 206.892 2356.63 215.642 Q2356.63 224.369 2353.55 228.975 Q2350.49 233.559 2344.68 233.559 Q2338.87 233.559 2335.79 228.975 Q2332.74 224.369 2332.74 215.642 Q2332.74 206.892 2335.79 202.309 Q2338.87 197.702 2344.68 197.702 Z\" fill=\"#000000\" fill-rule=\"evenodd\" fill-opacity=\"1\" /><path clip-path=\"url(#clip2900)\" d=\"M 0 0 M2360.51 198.327 L2382.74 198.327 L2382.74 200.318 L2370.19 232.887 L2365.31 232.887 L2377.11 202.262 L2360.51 202.262 L2360.51 198.327 Z\" fill=\"#000000\" fill-rule=\"evenodd\" fill-opacity=\"1\" /><path clip-path=\"url(#clip2900)\" d=\"M 0 0 M2387.85 198.327 L2406.21 198.327 L2406.21 202.262 L2392.13 202.262 L2392.13 210.735 Q2393.15 210.387 2394.17 210.225 Q2395.19 210.04 2396.21 210.04 Q2402 210.04 2405.38 213.211 Q2408.76 216.383 2408.76 221.799 Q2408.76 227.378 2405.28 230.48 Q2401.81 233.559 2395.49 233.559 Q2393.32 233.559 2391.05 233.188 Q2388.8 232.818 2386.39 232.077 L2386.39 227.378 Q2388.48 228.512 2390.7 229.068 Q2392.92 229.623 2395.4 229.623 Q2399.4 229.623 2401.74 227.517 Q2404.08 225.41 2404.08 221.799 Q2404.08 218.188 2401.74 216.082 Q2399.4 213.975 2395.4 213.975 Q2393.52 213.975 2391.65 214.392 Q2389.8 214.809 2387.85 215.688 L2387.85 198.327 Z\" fill=\"#000000\" fill-rule=\"evenodd\" fill-opacity=\"1\" /><path clip-path=\"url(#clip2900)\" d=\"M 0 0 M2280.7 29.414 Q2277.09 29.414 2275.26 32.9788 Q2273.45 36.5204 2273.45 43.65 Q2273.45 50.7565 2275.26 54.3213 Q2277.09 57.8629 2280.7 57.8629 Q2284.33 57.8629 2286.14 54.3213 Q2287.97 50.7565 2287.97 43.65 Q2287.97 36.5204 2286.14 32.9788 Q2284.33 29.414 2280.7 29.414 M2280.7 25.7103 Q2286.51 25.7103 2289.57 30.3168 Q2292.64 34.9001 2292.64 43.65 Q2292.64 52.3768 2289.57 56.9833 Q2286.51 61.5666 2280.7 61.5666 Q2274.89 61.5666 2271.81 56.9833 Q2268.76 52.3768 2268.76 43.65 Q2268.76 34.9001 2271.81 30.3168 Q2274.89 25.7103 2280.7 25.7103 Z\" fill=\"#000000\" fill-rule=\"evenodd\" fill-opacity=\"1\" /><path clip-path=\"url(#clip2900)\" d=\"M 0 0 M2297.71 55.0157 L2302.6 55.0157 L2302.6 60.8953 L2297.71 60.8953 L2297.71 55.0157 Z\" fill=\"#000000\" fill-rule=\"evenodd\" fill-opacity=\"1\" /><path clip-path=\"url(#clip2900)\" d=\"M 0 0 M2317.67 29.414 Q2314.06 29.414 2312.23 32.9788 Q2310.42 36.5204 2310.42 43.65 Q2310.42 50.7565 2312.23 54.3213 Q2314.06 57.8629 2317.67 57.8629 Q2321.3 57.8629 2323.11 54.3213 Q2324.94 50.7565 2324.94 43.65 Q2324.94 36.5204 2323.11 32.9788 Q2321.3 29.414 2317.67 29.414 M2317.67 25.7103 Q2323.48 25.7103 2326.53 30.3168 Q2329.61 34.9001 2329.61 43.65 Q2329.61 52.3768 2326.53 56.9833 Q2323.48 61.5666 2317.67 61.5666 Q2311.86 61.5666 2308.78 56.9833 Q2305.72 52.3768 2305.72 43.65 Q2305.72 34.9001 2308.78 30.3168 Q2311.86 25.7103 2317.67 25.7103 Z\" fill=\"#000000\" fill-rule=\"evenodd\" fill-opacity=\"1\" /><path clip-path=\"url(#clip2900)\" d=\"M 0 0 M2335.49 56.9601 L2343.13 56.9601 L2343.13 30.5945 L2334.82 32.2612 L2334.82 28.002 L2343.08 26.3353 L2347.76 26.3353 L2347.76 56.9601 L2355.4 56.9601 L2355.4 60.8953 L2335.49 60.8953 L2335.49 56.9601 Z\" fill=\"#000000\" fill-rule=\"evenodd\" fill-opacity=\"1\" /><path clip-path=\"url(#clip2900)\" d=\"M 0 0 M2370.47 29.414 Q2366.86 29.414 2365.03 32.9788 Q2363.22 36.5204 2363.22 43.65 Q2363.22 50.7565 2365.03 54.3213 Q2366.86 57.8629 2370.47 57.8629 Q2374.1 57.8629 2375.91 54.3213 Q2377.74 50.7565 2377.74 43.65 Q2377.74 36.5204 2375.91 32.9788 Q2374.1 29.414 2370.47 29.414 M2370.47 25.7103 Q2376.28 25.7103 2379.33 30.3168 Q2382.41 34.9001 2382.41 43.65 Q2382.41 52.3768 2379.33 56.9833 Q2376.28 61.5666 2370.47 61.5666 Q2364.66 61.5666 2361.58 56.9833 Q2358.52 52.3768 2358.52 43.65 Q2358.52 34.9001 2361.58 30.3168 Q2364.66 25.7103 2370.47 25.7103 Z\" fill=\"#000000\" fill-rule=\"evenodd\" fill-opacity=\"1\" /><path clip-path=\"url(#clip2900)\" d=\"M 0 0 M2397.48 29.414 Q2393.87 29.414 2392.04 32.9788 Q2390.24 36.5204 2390.24 43.65 Q2390.24 50.7565 2392.04 54.3213 Q2393.87 57.8629 2397.48 57.8629 Q2401.12 57.8629 2402.92 54.3213 Q2404.75 50.7565 2404.75 43.65 Q2404.75 36.5204 2402.92 32.9788 Q2401.12 29.414 2397.48 29.414 M2397.48 25.7103 Q2403.29 25.7103 2406.35 30.3168 Q2409.43 34.9001 2409.43 43.65 Q2409.43 52.3768 2406.35 56.9833 Q2403.29 61.5666 2397.48 61.5666 Q2391.67 61.5666 2388.59 56.9833 Q2385.54 52.3768 2385.54 43.65 Q2385.54 34.9001 2388.59 30.3168 Q2391.67 25.7103 2397.48 25.7103 Z\" fill=\"#000000\" fill-rule=\"evenodd\" fill-opacity=\"1\" /><polyline clip-path=\"url(#clip2900)\" style=\"stroke:#000000; stroke-width:4; stroke-opacity:1; fill:none\" points=\"\n",
       "  2232.76,1423.18 2232.76,1251.19 2256.76,1251.19 2232.76,1251.19 2232.76,1079.2 2256.76,1079.2 2232.76,1079.2 2232.76,907.204 2256.76,907.204 2232.76,907.204 \n",
       "  2232.76,735.212 2256.76,735.212 2232.76,735.212 2232.76,563.22 2256.76,563.22 2232.76,563.22 2232.76,391.228 2256.76,391.228 2232.76,391.228 2232.76,219.236 \n",
       "  2256.76,219.236 2232.76,219.236 2232.76,47.2441 2256.76,47.2441 2232.76,47.2441 2232.76,47.2441 \n",
       "  \"/>\n",
       "</svg>\n"
      ]
     },
     "execution_count": 265,
     "metadata": {},
     "output_type": "execute_result"
    }
   ],
   "source": [
    "heatmap1 = heatmap(measures, probabilities, gains_grid, xaxis = :log, xlabel = \"measure\", ylabel = \"probability\")"
   ]
  },
  {
   "cell_type": "code",
   "execution_count": null,
   "metadata": {},
   "outputs": [],
   "source": []
  },
  {
   "cell_type": "code",
   "execution_count": 266,
   "metadata": {},
   "outputs": [
    {
     "data": {
      "image/svg+xml": [
       "<?xml version=\"1.0\" encoding=\"utf-8\"?>\n",
       "<svg xmlns=\"http://www.w3.org/2000/svg\" xmlns:xlink=\"http://www.w3.org/1999/xlink\" width=\"600\" height=\"400\" viewBox=\"0 0 2400 1600\">\n",
       "<defs>\n",
       "  <clipPath id=\"clip3300\">\n",
       "    <rect x=\"0\" y=\"0\" width=\"2400\" height=\"1600\"/>\n",
       "  </clipPath>\n",
       "</defs>\n",
       "<path clip-path=\"url(#clip3300)\" d=\"\n",
       "M0 1600 L2400 1600 L2400 0 L0 0  Z\n",
       "  \" fill=\"#ffffff\" fill-rule=\"evenodd\" fill-opacity=\"1\"/>\n",
       "<defs>\n",
       "  <clipPath id=\"clip3301\">\n",
       "    <rect x=\"480\" y=\"0\" width=\"1681\" height=\"1600\"/>\n",
       "  </clipPath>\n",
       "</defs>\n",
       "<path clip-path=\"url(#clip3300)\" d=\"\n",
       "M211.575 1486.45 L2112.76 1486.45 L2112.76 47.2441 L211.575 47.2441  Z\n",
       "  \" fill=\"#ffffff\" fill-rule=\"evenodd\" fill-opacity=\"1\"/>\n",
       "<defs>\n",
       "  <clipPath id=\"clip3302\">\n",
       "    <rect x=\"211\" y=\"47\" width=\"1902\" height=\"1440\"/>\n",
       "  </clipPath>\n",
       "</defs>\n",
       "<polyline clip-path=\"url(#clip3302)\" style=\"stroke:#000000; stroke-width:2; stroke-opacity:0.1; fill:none\" points=\"\n",
       "  251.183,1486.45 251.183,47.2441 \n",
       "  \"/>\n",
       "<polyline clip-path=\"url(#clip3302)\" style=\"stroke:#000000; stroke-width:2; stroke-opacity:0.1; fill:none\" points=\"\n",
       "  706.674,1486.45 706.674,47.2441 \n",
       "  \"/>\n",
       "<polyline clip-path=\"url(#clip3302)\" style=\"stroke:#000000; stroke-width:2; stroke-opacity:0.1; fill:none\" points=\"\n",
       "  1162.17,1486.45 1162.17,47.2441 \n",
       "  \"/>\n",
       "<polyline clip-path=\"url(#clip3302)\" style=\"stroke:#000000; stroke-width:2; stroke-opacity:0.1; fill:none\" points=\"\n",
       "  1617.66,1486.45 1617.66,47.2441 \n",
       "  \"/>\n",
       "<polyline clip-path=\"url(#clip3302)\" style=\"stroke:#000000; stroke-width:2; stroke-opacity:0.1; fill:none\" points=\"\n",
       "  2073.15,1486.45 2073.15,47.2441 \n",
       "  \"/>\n",
       "<polyline clip-path=\"url(#clip3302)\" style=\"stroke:#000000; stroke-width:2; stroke-opacity:0.1; fill:none\" points=\"\n",
       "  211.575,1419.1 2112.76,1419.1 \n",
       "  \"/>\n",
       "<polyline clip-path=\"url(#clip3302)\" style=\"stroke:#000000; stroke-width:2; stroke-opacity:0.1; fill:none\" points=\"\n",
       "  211.575,1081.37 2112.76,1081.37 \n",
       "  \"/>\n",
       "<polyline clip-path=\"url(#clip3302)\" style=\"stroke:#000000; stroke-width:2; stroke-opacity:0.1; fill:none\" points=\"\n",
       "  211.575,743.637 2112.76,743.637 \n",
       "  \"/>\n",
       "<polyline clip-path=\"url(#clip3302)\" style=\"stroke:#000000; stroke-width:2; stroke-opacity:0.1; fill:none\" points=\"\n",
       "  211.575,405.904 2112.76,405.904 \n",
       "  \"/>\n",
       "<polyline clip-path=\"url(#clip3302)\" style=\"stroke:#000000; stroke-width:2; stroke-opacity:0.1; fill:none\" points=\"\n",
       "  211.575,68.1708 2112.76,68.1708 \n",
       "  \"/>\n",
       "<polyline clip-path=\"url(#clip3300)\" style=\"stroke:#000000; stroke-width:4; stroke-opacity:1; fill:none\" points=\"\n",
       "  211.575,1486.45 2112.76,1486.45 \n",
       "  \"/>\n",
       "<polyline clip-path=\"url(#clip3300)\" style=\"stroke:#000000; stroke-width:4; stroke-opacity:1; fill:none\" points=\"\n",
       "  211.575,1486.45 211.575,47.2441 \n",
       "  \"/>\n",
       "<polyline clip-path=\"url(#clip3300)\" style=\"stroke:#000000; stroke-width:4; stroke-opacity:1; fill:none\" points=\"\n",
       "  251.183,1486.45 251.183,1469.18 \n",
       "  \"/>\n",
       "<polyline clip-path=\"url(#clip3300)\" style=\"stroke:#000000; stroke-width:4; stroke-opacity:1; fill:none\" points=\"\n",
       "  706.674,1486.45 706.674,1469.18 \n",
       "  \"/>\n",
       "<polyline clip-path=\"url(#clip3300)\" style=\"stroke:#000000; stroke-width:4; stroke-opacity:1; fill:none\" points=\"\n",
       "  1162.17,1486.45 1162.17,1469.18 \n",
       "  \"/>\n",
       "<polyline clip-path=\"url(#clip3300)\" style=\"stroke:#000000; stroke-width:4; stroke-opacity:1; fill:none\" points=\"\n",
       "  1617.66,1486.45 1617.66,1469.18 \n",
       "  \"/>\n",
       "<polyline clip-path=\"url(#clip3300)\" style=\"stroke:#000000; stroke-width:4; stroke-opacity:1; fill:none\" points=\"\n",
       "  2073.15,1486.45 2073.15,1469.18 \n",
       "  \"/>\n",
       "<polyline clip-path=\"url(#clip3300)\" style=\"stroke:#000000; stroke-width:4; stroke-opacity:1; fill:none\" points=\"\n",
       "  211.575,1419.1 234.389,1419.1 \n",
       "  \"/>\n",
       "<polyline clip-path=\"url(#clip3300)\" style=\"stroke:#000000; stroke-width:4; stroke-opacity:1; fill:none\" points=\"\n",
       "  211.575,1081.37 234.389,1081.37 \n",
       "  \"/>\n",
       "<polyline clip-path=\"url(#clip3300)\" style=\"stroke:#000000; stroke-width:4; stroke-opacity:1; fill:none\" points=\"\n",
       "  211.575,743.637 234.389,743.637 \n",
       "  \"/>\n",
       "<polyline clip-path=\"url(#clip3300)\" style=\"stroke:#000000; stroke-width:4; stroke-opacity:1; fill:none\" points=\"\n",
       "  211.575,405.904 234.389,405.904 \n",
       "  \"/>\n",
       "<polyline clip-path=\"url(#clip3300)\" style=\"stroke:#000000; stroke-width:4; stroke-opacity:1; fill:none\" points=\"\n",
       "  211.575,68.1708 234.389,68.1708 \n",
       "  \"/>\n",
       "<path clip-path=\"url(#clip3300)\" d=\"M 0 0 M196.668 1557.52 L204.307 1557.52 L204.307 1531.15 L195.996 1532.82 L195.996 1528.56 L204.26 1526.9 L208.936 1526.9 L208.936 1557.52 L216.575 1557.52 L216.575 1561.46 L196.668 1561.46 L196.668 1557.52 Z\" fill=\"#000000\" fill-rule=\"evenodd\" fill-opacity=\"1\" /><path clip-path=\"url(#clip3300)\" d=\"M 0 0 M231.644 1529.97 Q228.033 1529.97 226.205 1533.54 Q224.399 1537.08 224.399 1544.21 Q224.399 1551.32 226.205 1554.88 Q228.033 1558.42 231.644 1558.42 Q235.279 1558.42 237.084 1554.88 Q238.913 1551.32 238.913 1544.21 Q238.913 1537.08 237.084 1533.54 Q235.279 1529.97 231.644 1529.97 M231.644 1526.27 Q237.455 1526.27 240.51 1530.88 Q243.589 1535.46 243.589 1544.21 Q243.589 1552.94 240.51 1557.54 Q237.455 1562.13 231.644 1562.13 Q225.834 1562.13 222.756 1557.54 Q219.7 1552.94 219.7 1544.21 Q219.7 1535.46 222.756 1530.88 Q225.834 1526.27 231.644 1526.27 Z\" fill=\"#000000\" fill-rule=\"evenodd\" fill-opacity=\"1\" /><path clip-path=\"url(#clip3300)\" d=\"M 0 0 M243.589 1521.95 L253.726 1521.95 L253.726 1525.04 L243.589 1525.04 L243.589 1521.95 Z\" fill=\"#000000\" fill-rule=\"evenodd\" fill-opacity=\"1\" /><path clip-path=\"url(#clip3300)\" d=\"M 0 0 M268.246 1530.85 L274.452 1530.85 L274.452 1509.43 L267.7 1510.78 L267.7 1507.32 L274.415 1505.96 L278.214 1505.96 L278.214 1530.85 L284.42 1530.85 L284.42 1534.04 L268.246 1534.04 L268.246 1530.85 Z\" fill=\"#000000\" fill-rule=\"evenodd\" fill-opacity=\"1\" /><path clip-path=\"url(#clip3300)\" d=\"M 0 0 M296.664 1508.47 Q293.73 1508.47 292.244 1511.36 Q290.777 1514.24 290.777 1520.03 Q290.777 1525.81 292.244 1528.7 Q293.73 1531.58 296.664 1531.58 Q299.617 1531.58 301.084 1528.7 Q302.57 1525.81 302.57 1520.03 Q302.57 1514.24 301.084 1511.36 Q299.617 1508.47 296.664 1508.47 M296.664 1505.46 Q301.385 1505.46 303.868 1509.2 Q306.369 1512.92 306.369 1520.03 Q306.369 1527.12 303.868 1530.87 Q301.385 1534.59 296.664 1534.59 Q291.944 1534.59 289.442 1530.87 Q286.959 1527.12 286.959 1520.03 Q286.959 1512.92 289.442 1509.2 Q291.944 1505.46 296.664 1505.46 Z\" fill=\"#000000\" fill-rule=\"evenodd\" fill-opacity=\"1\" /><path clip-path=\"url(#clip3300)\" d=\"M 0 0 M662.409 1557.52 L670.048 1557.52 L670.048 1531.15 L661.738 1532.82 L661.738 1528.56 L670.002 1526.9 L674.678 1526.9 L674.678 1557.52 L682.317 1557.52 L682.317 1561.46 L662.409 1561.46 L662.409 1557.52 Z\" fill=\"#000000\" fill-rule=\"evenodd\" fill-opacity=\"1\" /><path clip-path=\"url(#clip3300)\" d=\"M 0 0 M697.386 1529.97 Q693.775 1529.97 691.946 1533.54 Q690.141 1537.08 690.141 1544.21 Q690.141 1551.32 691.946 1554.88 Q693.775 1558.42 697.386 1558.42 Q701.02 1558.42 702.826 1554.88 Q704.654 1551.32 704.654 1544.21 Q704.654 1537.08 702.826 1533.54 Q701.02 1529.97 697.386 1529.97 M697.386 1526.27 Q703.196 1526.27 706.252 1530.88 Q709.33 1535.46 709.33 1544.21 Q709.33 1552.94 706.252 1557.54 Q703.196 1562.13 697.386 1562.13 Q691.576 1562.13 688.497 1557.54 Q685.442 1552.94 685.442 1544.21 Q685.442 1535.46 688.497 1530.88 Q691.576 1526.27 697.386 1526.27 Z\" fill=\"#000000\" fill-rule=\"evenodd\" fill-opacity=\"1\" /><path clip-path=\"url(#clip3300)\" d=\"M 0 0 M709.33 1521.95 L719.468 1521.95 L719.468 1525.04 L709.33 1525.04 L709.33 1521.95 Z\" fill=\"#000000\" fill-rule=\"evenodd\" fill-opacity=\"1\" /><path clip-path=\"url(#clip3300)\" d=\"M 0 0 M734.627 1505.96 L749.541 1505.96 L749.541 1509.16 L738.106 1509.16 L738.106 1516.05 Q738.934 1515.76 739.761 1515.63 Q740.589 1515.48 741.416 1515.48 Q746.118 1515.48 748.864 1518.06 Q751.61 1520.63 751.61 1525.04 Q751.61 1529.57 748.789 1532.09 Q745.968 1534.59 740.833 1534.59 Q739.065 1534.59 737.222 1534.29 Q735.398 1533.99 733.442 1533.39 L733.442 1529.57 Q735.135 1530.49 736.94 1530.94 Q738.746 1531.39 740.758 1531.39 Q744.012 1531.39 745.911 1529.68 Q747.811 1527.97 747.811 1525.04 Q747.811 1522.1 745.911 1520.39 Q744.012 1518.68 740.758 1518.68 Q739.235 1518.68 737.711 1519.02 Q736.207 1519.36 734.627 1520.07 L734.627 1505.96 Z\" fill=\"#000000\" fill-rule=\"evenodd\" fill-opacity=\"1\" /><path clip-path=\"url(#clip3300)\" d=\"M 0 0 M1129.34 1557.52 L1136.97 1557.52 L1136.97 1531.15 L1128.66 1532.82 L1128.66 1528.56 L1136.93 1526.9 L1141.6 1526.9 L1141.6 1557.52 L1149.24 1557.52 L1149.24 1561.46 L1129.34 1561.46 L1129.34 1557.52 Z\" fill=\"#000000\" fill-rule=\"evenodd\" fill-opacity=\"1\" /><path clip-path=\"url(#clip3300)\" d=\"M 0 0 M1164.31 1529.97 Q1160.7 1529.97 1158.87 1533.54 Q1157.07 1537.08 1157.07 1544.21 Q1157.07 1551.32 1158.87 1554.88 Q1160.7 1558.42 1164.31 1558.42 Q1167.95 1558.42 1169.75 1554.88 Q1171.58 1551.32 1171.58 1544.21 Q1171.58 1537.08 1169.75 1533.54 Q1167.95 1529.97 1164.31 1529.97 M1164.31 1526.27 Q1170.12 1526.27 1173.18 1530.88 Q1176.26 1535.46 1176.26 1544.21 Q1176.26 1552.94 1173.18 1557.54 Q1170.12 1562.13 1164.31 1562.13 Q1158.5 1562.13 1155.42 1557.54 Q1152.37 1552.94 1152.37 1544.21 Q1152.37 1535.46 1155.42 1530.88 Q1158.5 1526.27 1164.31 1526.27 Z\" fill=\"#000000\" fill-rule=\"evenodd\" fill-opacity=\"1\" /><path clip-path=\"url(#clip3300)\" d=\"M 0 0 M1185.96 1508.47 Q1183.03 1508.47 1181.54 1511.36 Q1180.07 1514.24 1180.07 1520.03 Q1180.07 1525.81 1181.54 1528.7 Q1183.03 1531.58 1185.96 1531.58 Q1188.91 1531.58 1190.38 1528.7 Q1191.87 1525.81 1191.87 1520.03 Q1191.87 1514.24 1190.38 1511.36 Q1188.91 1508.47 1185.96 1508.47 M1185.96 1505.46 Q1190.68 1505.46 1193.16 1509.2 Q1195.67 1512.92 1195.67 1520.03 Q1195.67 1527.12 1193.16 1530.87 Q1190.68 1534.59 1185.96 1534.59 Q1181.24 1534.59 1178.74 1530.87 Q1176.26 1527.12 1176.26 1520.03 Q1176.26 1512.92 1178.74 1509.2 Q1181.24 1505.46 1185.96 1505.46 Z\" fill=\"#000000\" fill-rule=\"evenodd\" fill-opacity=\"1\" /><path clip-path=\"url(#clip3300)\" d=\"M 0 0 M1585.45 1557.52 L1593.09 1557.52 L1593.09 1531.15 L1584.78 1532.82 L1584.78 1528.56 L1593.04 1526.9 L1597.72 1526.9 L1597.72 1557.52 L1605.35 1557.52 L1605.35 1561.46 L1585.45 1561.46 L1585.45 1557.52 Z\" fill=\"#000000\" fill-rule=\"evenodd\" fill-opacity=\"1\" /><path clip-path=\"url(#clip3300)\" d=\"M 0 0 M1620.42 1529.97 Q1616.81 1529.97 1614.98 1533.54 Q1613.18 1537.08 1613.18 1544.21 Q1613.18 1551.32 1614.98 1554.88 Q1616.81 1558.42 1620.42 1558.42 Q1624.06 1558.42 1625.86 1554.88 Q1627.69 1551.32 1627.69 1544.21 Q1627.69 1537.08 1625.86 1533.54 Q1624.06 1529.97 1620.42 1529.97 M1620.42 1526.27 Q1626.23 1526.27 1629.29 1530.88 Q1632.37 1535.46 1632.37 1544.21 Q1632.37 1552.94 1629.29 1557.54 Q1626.23 1562.13 1620.42 1562.13 Q1614.61 1562.13 1611.54 1557.54 Q1608.48 1552.94 1608.48 1544.21 Q1608.48 1535.46 1611.54 1530.88 Q1614.61 1526.27 1620.42 1526.27 Z\" fill=\"#000000\" fill-rule=\"evenodd\" fill-opacity=\"1\" /><path clip-path=\"url(#clip3300)\" d=\"M 0 0 M1633.55 1505.96 L1648.47 1505.96 L1648.47 1509.16 L1637.03 1509.16 L1637.03 1516.05 Q1637.86 1515.76 1638.69 1515.63 Q1639.52 1515.48 1640.34 1515.48 Q1645.05 1515.48 1647.79 1518.06 Q1650.54 1520.63 1650.54 1525.04 Q1650.54 1529.57 1647.72 1532.09 Q1644.89 1534.59 1639.76 1534.59 Q1637.99 1534.59 1636.15 1534.29 Q1634.32 1533.99 1632.37 1533.39 L1632.37 1529.57 Q1634.06 1530.49 1635.87 1530.94 Q1637.67 1531.39 1639.68 1531.39 Q1642.94 1531.39 1644.84 1529.68 Q1646.74 1527.97 1646.74 1525.04 Q1646.74 1522.1 1644.84 1520.39 Q1642.94 1518.68 1639.68 1518.68 Q1638.16 1518.68 1636.64 1519.02 Q1635.13 1519.36 1633.55 1520.07 L1633.55 1505.96 Z\" fill=\"#000000\" fill-rule=\"evenodd\" fill-opacity=\"1\" /><path clip-path=\"url(#clip3300)\" d=\"M 0 0 M2030.69 1557.52 L2038.33 1557.52 L2038.33 1531.15 L2030.02 1532.82 L2030.02 1528.56 L2038.28 1526.9 L2042.96 1526.9 L2042.96 1557.52 L2050.6 1557.52 L2050.6 1561.46 L2030.69 1561.46 L2030.69 1557.52 Z\" fill=\"#000000\" fill-rule=\"evenodd\" fill-opacity=\"1\" /><path clip-path=\"url(#clip3300)\" d=\"M 0 0 M2065.67 1529.97 Q2062.05 1529.97 2060.23 1533.54 Q2058.42 1537.08 2058.42 1544.21 Q2058.42 1551.32 2060.23 1554.88 Q2062.05 1558.42 2065.67 1558.42 Q2069.3 1558.42 2071.11 1554.88 Q2072.93 1551.32 2072.93 1544.21 Q2072.93 1537.08 2071.11 1533.54 Q2069.3 1529.97 2065.67 1529.97 M2065.67 1526.27 Q2071.48 1526.27 2074.53 1530.88 Q2077.61 1535.46 2077.61 1544.21 Q2077.61 1552.94 2074.53 1557.54 Q2071.48 1562.13 2065.67 1562.13 Q2059.86 1562.13 2056.78 1557.54 Q2053.72 1552.94 2053.72 1544.21 Q2053.72 1535.46 2056.78 1530.88 Q2059.86 1526.27 2065.67 1526.27 Z\" fill=\"#000000\" fill-rule=\"evenodd\" fill-opacity=\"1\" /><path clip-path=\"url(#clip3300)\" d=\"M 0 0 M2078.16 1530.85 L2084.36 1530.85 L2084.36 1509.43 L2077.61 1510.78 L2077.61 1507.32 L2084.32 1505.96 L2088.12 1505.96 L2088.12 1530.85 L2094.33 1530.85 L2094.33 1534.04 L2078.16 1534.04 L2078.16 1530.85 Z\" fill=\"#000000\" fill-rule=\"evenodd\" fill-opacity=\"1\" /><path clip-path=\"url(#clip3300)\" d=\"M 0 0 M2106.57 1508.47 Q2103.64 1508.47 2102.15 1511.36 Q2100.69 1514.24 2100.69 1520.03 Q2100.69 1525.81 2102.15 1528.7 Q2103.64 1531.58 2106.57 1531.58 Q2109.53 1531.58 2110.99 1528.7 Q2112.48 1525.81 2112.48 1520.03 Q2112.48 1514.24 2110.99 1511.36 Q2109.53 1508.47 2106.57 1508.47 M2106.57 1505.46 Q2111.29 1505.46 2113.78 1509.2 Q2116.28 1512.92 2116.28 1520.03 Q2116.28 1527.12 2113.78 1530.87 Q2111.29 1534.59 2106.57 1534.59 Q2101.85 1534.59 2099.35 1530.87 Q2096.87 1527.12 2096.87 1520.03 Q2096.87 1512.92 2099.35 1509.2 Q2101.85 1505.46 2106.57 1505.46 Z\" fill=\"#000000\" fill-rule=\"evenodd\" fill-opacity=\"1\" /><path clip-path=\"url(#clip3300)\" d=\"M 0 0 M96.0793 1438.9 L103.718 1438.9 L103.718 1412.53 L95.408 1414.2 L95.408 1409.94 L103.672 1408.27 L108.348 1408.27 L108.348 1438.9 L115.987 1438.9 L115.987 1442.83 L96.0793 1442.83 L96.0793 1438.9 Z\" fill=\"#000000\" fill-rule=\"evenodd\" fill-opacity=\"1\" /><path clip-path=\"url(#clip3300)\" d=\"M 0 0 M131.056 1411.35 Q127.445 1411.35 125.616 1414.91 Q123.811 1418.46 123.811 1425.58 Q123.811 1432.69 125.616 1436.26 Q127.445 1439.8 131.056 1439.8 Q134.69 1439.8 136.496 1436.26 Q138.324 1432.69 138.324 1425.58 Q138.324 1418.46 136.496 1414.91 Q134.69 1411.35 131.056 1411.35 M131.056 1407.65 Q136.866 1407.65 139.922 1412.25 Q143 1416.83 143 1425.58 Q143 1434.31 139.922 1438.92 Q136.866 1443.5 131.056 1443.5 Q125.246 1443.5 122.167 1438.92 Q119.112 1434.31 119.112 1425.58 Q119.112 1416.83 122.167 1412.25 Q125.246 1407.65 131.056 1407.65 Z\" fill=\"#000000\" fill-rule=\"evenodd\" fill-opacity=\"1\" /><path clip-path=\"url(#clip3300)\" d=\"M 0 0 M143 1403.33 L153.138 1403.33 L153.138 1406.41 L143 1406.41 L143 1403.33 Z\" fill=\"#000000\" fill-rule=\"evenodd\" fill-opacity=\"1\" /><path clip-path=\"url(#clip3300)\" d=\"M 0 0 M179.788 1390.65 L170.196 1405.64 L179.788 1405.64 L179.788 1390.65 M178.792 1387.34 L183.569 1387.34 L183.569 1405.64 L187.575 1405.64 L187.575 1408.8 L183.569 1408.8 L183.569 1415.42 L179.788 1415.42 L179.788 1408.8 L167.112 1408.8 L167.112 1405.13 L178.792 1387.34 Z\" fill=\"#000000\" fill-rule=\"evenodd\" fill-opacity=\"1\" /><path clip-path=\"url(#clip3300)\" d=\"M 0 0 M98.0541 1101.16 L105.693 1101.16 L105.693 1074.8 L97.3829 1076.46 L97.3829 1072.2 L105.647 1070.54 L110.323 1070.54 L110.323 1101.16 L117.961 1101.16 L117.961 1105.1 L98.0541 1105.1 L98.0541 1101.16 Z\" fill=\"#000000\" fill-rule=\"evenodd\" fill-opacity=\"1\" /><path clip-path=\"url(#clip3300)\" d=\"M 0 0 M133.031 1073.62 Q129.42 1073.62 127.591 1077.18 Q125.785 1080.72 125.785 1087.85 Q125.785 1094.96 127.591 1098.52 Q129.42 1102.06 133.031 1102.06 Q136.665 1102.06 138.471 1098.52 Q140.299 1094.96 140.299 1087.85 Q140.299 1080.72 138.471 1077.18 Q136.665 1073.62 133.031 1073.62 M133.031 1069.91 Q138.841 1069.91 141.897 1074.52 Q144.975 1079.1 144.975 1087.85 Q144.975 1096.58 141.897 1101.19 Q138.841 1105.77 133.031 1105.77 Q127.221 1105.77 124.142 1101.19 Q121.086 1096.58 121.086 1087.85 Q121.086 1079.1 124.142 1074.52 Q127.221 1069.91 133.031 1069.91 Z\" fill=\"#000000\" fill-rule=\"evenodd\" fill-opacity=\"1\" /><path clip-path=\"url(#clip3300)\" d=\"M 0 0 M144.975 1065.59 L155.113 1065.59 L155.113 1068.68 L144.975 1068.68 L144.975 1065.59 Z\" fill=\"#000000\" fill-rule=\"evenodd\" fill-opacity=\"1\" /><path clip-path=\"url(#clip3300)\" d=\"M 0 0 M181.782 1062.55 Q184.509 1063.13 186.033 1064.97 Q187.575 1066.82 187.575 1069.52 Q187.575 1073.68 184.716 1075.96 Q181.857 1078.23 176.591 1078.23 Q174.823 1078.23 172.942 1077.87 Q171.08 1077.54 169.087 1076.84 L169.087 1073.17 Q170.667 1074.09 172.547 1074.56 Q174.428 1075.03 176.478 1075.03 Q180.052 1075.03 181.914 1073.62 Q183.794 1072.21 183.794 1069.52 Q183.794 1067.04 182.045 1065.65 Q180.315 1064.24 177.212 1064.24 L173.939 1064.24 L173.939 1061.12 L177.362 1061.12 Q180.165 1061.12 181.65 1060.01 Q183.136 1058.88 183.136 1056.77 Q183.136 1054.61 181.594 1053.46 Q180.07 1052.3 177.212 1052.3 Q175.651 1052.3 173.864 1052.63 Q172.077 1052.97 169.933 1053.69 L169.933 1050.3 Q172.096 1049.7 173.977 1049.4 Q175.876 1049.1 177.55 1049.1 Q181.876 1049.1 184.396 1051.07 Q186.917 1053.03 186.917 1056.38 Q186.917 1058.71 185.581 1060.33 Q184.246 1061.93 181.782 1062.55 Z\" fill=\"#000000\" fill-rule=\"evenodd\" fill-opacity=\"1\" /><path clip-path=\"url(#clip3300)\" d=\"M 0 0 M98.7124 763.429 L106.351 763.429 L106.351 737.064 L98.0411 738.73 L98.0411 734.471 L106.305 732.804 L110.981 732.804 L110.981 763.429 L118.62 763.429 L118.62 767.364 L98.7124 767.364 L98.7124 763.429 Z\" fill=\"#000000\" fill-rule=\"evenodd\" fill-opacity=\"1\" /><path clip-path=\"url(#clip3300)\" d=\"M 0 0 M133.689 735.883 Q130.078 735.883 128.249 739.448 Q126.444 742.989 126.444 750.119 Q126.444 757.225 128.249 760.79 Q130.078 764.332 133.689 764.332 Q137.323 764.332 139.129 760.79 Q140.958 757.225 140.958 750.119 Q140.958 742.989 139.129 739.448 Q137.323 735.883 133.689 735.883 M133.689 732.179 Q139.499 732.179 142.555 736.786 Q145.633 741.369 145.633 750.119 Q145.633 758.846 142.555 763.452 Q139.499 768.036 133.689 768.036 Q127.879 768.036 124.8 763.452 Q121.745 758.846 121.745 750.119 Q121.745 741.369 124.8 736.786 Q127.879 732.179 133.689 732.179 Z\" fill=\"#000000\" fill-rule=\"evenodd\" fill-opacity=\"1\" /><path clip-path=\"url(#clip3300)\" d=\"M 0 0 M145.633 727.861 L155.771 727.861 L155.771 730.945 L145.633 730.945 L145.633 727.861 Z\" fill=\"#000000\" fill-rule=\"evenodd\" fill-opacity=\"1\" /><path clip-path=\"url(#clip3300)\" d=\"M 0 0 M174.315 736.757 L187.575 736.757 L187.575 739.954 L169.745 739.954 L169.745 736.757 Q171.908 734.518 175.632 730.757 Q179.375 726.977 180.334 725.886 Q182.158 723.836 182.873 722.425 Q183.606 720.996 183.606 719.623 Q183.606 717.385 182.026 715.974 Q180.465 714.563 177.945 714.563 Q176.158 714.563 174.165 715.184 Q172.19 715.805 169.933 717.065 L169.933 713.228 Q172.228 712.307 174.221 711.836 Q176.215 711.366 177.87 711.366 Q182.233 711.366 184.829 713.548 Q187.424 715.73 187.424 719.378 Q187.424 721.109 186.766 722.67 Q186.127 724.212 184.415 726.318 Q183.945 726.864 181.425 729.478 Q178.904 732.073 174.315 736.757 Z\" fill=\"#000000\" fill-rule=\"evenodd\" fill-opacity=\"1\" /><path clip-path=\"url(#clip3300)\" d=\"M 0 0 M99.8221 425.696 L107.461 425.696 L107.461 399.331 L99.1508 400.997 L99.1508 396.738 L107.415 395.071 L112.091 395.071 L112.091 425.696 L119.729 425.696 L119.729 429.631 L99.8221 429.631 L99.8221 425.696 Z\" fill=\"#000000\" fill-rule=\"evenodd\" fill-opacity=\"1\" /><path clip-path=\"url(#clip3300)\" d=\"M 0 0 M134.799 398.15 Q131.188 398.15 129.359 401.715 Q127.553 405.257 127.553 412.386 Q127.553 419.493 129.359 423.057 Q131.188 426.599 134.799 426.599 Q138.433 426.599 140.239 423.057 Q142.067 419.493 142.067 412.386 Q142.067 405.257 140.239 401.715 Q138.433 398.15 134.799 398.15 M134.799 394.446 Q140.609 394.446 143.664 399.053 Q146.743 403.636 146.743 412.386 Q146.743 421.113 143.664 425.719 Q140.609 430.303 134.799 430.303 Q128.989 430.303 125.91 425.719 Q122.854 421.113 122.854 412.386 Q122.854 403.636 125.91 399.053 Q128.989 394.446 134.799 394.446 Z\" fill=\"#000000\" fill-rule=\"evenodd\" fill-opacity=\"1\" /><path clip-path=\"url(#clip3300)\" d=\"M 0 0 M146.743 390.128 L156.881 390.128 L156.881 393.212 L146.743 393.212 L146.743 390.128 Z\" fill=\"#000000\" fill-rule=\"evenodd\" fill-opacity=\"1\" /><path clip-path=\"url(#clip3300)\" d=\"M 0 0 M171.4 399.024 L177.607 399.024 L177.607 377.602 L170.855 378.956 L170.855 375.495 L177.569 374.141 L181.368 374.141 L181.368 399.024 L187.575 399.024 L187.575 402.221 L171.4 402.221 L171.4 399.024 Z\" fill=\"#000000\" fill-rule=\"evenodd\" fill-opacity=\"1\" /><path clip-path=\"url(#clip3300)\" d=\"M 0 0 M121.244 87.9633 L128.883 87.9633 L128.883 61.5977 L120.573 63.2643 L120.573 59.0051 L128.837 57.3384 L133.513 57.3384 L133.513 87.9633 L141.151 87.9633 L141.151 91.8984 L121.244 91.8984 L121.244 87.9633 Z\" fill=\"#000000\" fill-rule=\"evenodd\" fill-opacity=\"1\" /><path clip-path=\"url(#clip3300)\" d=\"M 0 0 M156.221 60.4171 Q152.61 60.4171 150.781 63.9819 Q148.975 67.5236 148.975 74.6532 Q148.975 81.7596 150.781 85.3244 Q152.61 88.8661 156.221 88.8661 Q159.855 88.8661 161.661 85.3244 Q163.489 81.7596 163.489 74.6532 Q163.489 67.5236 161.661 63.9819 Q159.855 60.4171 156.221 60.4171 M156.221 56.7134 Q162.031 56.7134 165.086 61.3199 Q168.165 65.9032 168.165 74.6532 Q168.165 83.38 165.086 87.9864 Q162.031 92.5697 156.221 92.5697 Q150.411 92.5697 147.332 87.9864 Q144.276 83.38 144.276 74.6532 Q144.276 65.9032 147.332 61.3199 Q150.411 56.7134 156.221 56.7134 Z\" fill=\"#000000\" fill-rule=\"evenodd\" fill-opacity=\"1\" /><path clip-path=\"url(#clip3300)\" d=\"M 0 0 M177.87 38.9095 Q174.936 38.9095 173.45 41.8059 Q171.983 44.6835 171.983 50.4763 Q171.983 56.2502 173.45 59.1466 Q174.936 62.0242 177.87 62.0242 Q180.823 62.0242 182.29 59.1466 Q183.776 56.2502 183.776 50.4763 Q183.776 44.6835 182.29 41.8059 Q180.823 38.9095 177.87 38.9095 M177.87 35.9002 Q182.591 35.9002 185.073 39.643 Q187.575 43.3669 187.575 50.4763 Q187.575 57.5668 185.073 61.3095 Q182.591 65.0335 177.87 65.0335 Q173.149 65.0335 170.648 61.3095 Q168.165 57.5668 168.165 50.4763 Q168.165 43.3669 170.648 39.643 Q173.149 35.9002 177.87 35.9002 Z\" fill=\"#000000\" fill-rule=\"evenodd\" fill-opacity=\"1\" /><g clip-path=\"url(#clip3302)\">\n",
       "<image width=\"1901\" height=\"1439\" xlink:href=\"data:image/png;base64,\n",
       "iVBORw0KGgoAAAANSUhEUgAAB20AAAWfCAYAAACIoW1gAAAgAElEQVR4nOzbsREBAQBEUcwlAgVI\n",
       "BEYBihBrREVCDehO4oZTxp9z71Ww+Z9dX3e3aQUAAAAAAPBHnvdHPSH1OZ7qCbP2PpzrCbO03V/q\n",
       "CbO1qQcAAAAAAAAALJloCwAAAAAAABASbQEAAAAAAABCoi0AAAAAAABASLQFAAAAAAAACIm2AAAA\n",
       "AAAAACHRFgAAAAAAACAk2gIAAAAAAACERFsAAAAAAACAkGgLAAAAAAAAEBJtAQAAAAAAAEKiLQAA\n",
       "AAAAAEBItAUAAAAAAAAIibYAAAAAAAAAIdEWAAAAAAAAICTaAgAAAAAAAIREWwAAAAAAAICQaAsA\n",
       "AAAAAAAQEm0BAAAAAAAAQqItAAAAAAAAQEi0BQAAAAAAAAiJtgAAAAAAAAAh0RYAAAAAAAAgJNoC\n",
       "AAAAAAAAhERbAAAAAAAAgJBoCwAAAAAAABASbQEAAAAAAABCoi0AAAAAAABASLQFAAAAAAAACIm2\n",
       "AAAAAAAAACHRFgAAAAAAACAk2gIAAAAAAACERFsAAAAAAACAkGgLAAAAAAAAEBJtAQAAAAAAAEKi\n",
       "LQAAAAAAAEBItAUAAAAAAAAIibYAAAAAAAAAIdEWAAAAAAAAICTaAgAAAAAAAIREWwAAAAAAAICQ\n",
       "aAsAAAAAAAAQGsZpqjcAAAAAAAAALJanLQAAAAAAAEBItAUAAAAAAAAIibYAAAAAAAAAIdEWAAAA\n",
       "AAAAICTaAgAAAAAAAIREWwAAAAAAAICQaAsAAAAAAAAQEm0BAAAAAAAAQqItAAAAAAAAQEi0BQAA\n",
       "AAAAAAiJtgAAAAAAAAAh0RYAAAAAAAAgJNoCAAAAAAAAhERbAAAAAAAAgJBoCwAAAAAAABASbQEA\n",
       "AAAAAABCoi0AAAAAAABASLQFAAAAAAAACIm2AAAAAAAAACHRFgAAAAAAACAk2gIAAAAAAACERFsA\n",
       "AAAAAACAkGgLAAAAAAAAEBJtAQAAAAAAAEKiLQAAAAAAAEBItAUAAAAAAAAIibYAAAAAAAAAIdEW\n",
       "AAAAAAAAICTaAgAAAAAAAIREWwAAAAAAAICQaAsAAAAAAAAQEm0BAAAAAAAAQqItAAAAAAAAQEi0\n",
       "BQAAAAAAAAiJtgAAAAAAAAAh0RYAAAAAAAAgJNoCAAAAAAAAhERbAAAAAAAAgJBoCwAAAAAAABAS\n",
       "bQEAAAAAAABCoi0AAAAAAABASLQFAAAAAAAACIm2AAAAAAAAACHRFgAAAAAAACAk2gIAAAAAAACE\n",
       "RFsAAAAAAACAkGgLAAAAAAAAEBJtAQAAAAAAAEKiLQAAAAAAAEBoGL/fegMAAAAAAADAYnnaAgAA\n",
       "AAAAAIREWwAAAAAAAICQaAsAAAAAAAAQEm0BAAAAAAAAQqItAAAAAAAAQEi0BQAAAAAAAAiJtgAA\n",
       "AAAAAAAh0RYAAAAAAAAgJNoCAAAAAAAAhERbAAAAAAAAgJBoCwAAAAAAABASbQEAAAAAAABCoi0A\n",
       "AAAAAABASLQFAAAAAAAACIm2AAAAAAAAACHRFgAAAAAAACAk2gIAAAAAAACERFsAAAAAAACAkGgL\n",
       "AAAAAAAAEBJtAQAAAAAAAEKiLQAAAAAAAEBItAUAAAAAAAAIibYAAAAAAAAAIdEWAAAAAAAAICTa\n",
       "AgAAAAAAAIREWwAAAAAAAICQaAsAAAAAAAAQEm0BAAAAAAAAQqItAAAAAAAAQEi0BQAAAAAAAAiJ\n",
       "tgAAAAAAAAAh0RYAAAAAAAAgJNoCAAAAAAAAhERbAAAAAAAAgJBoCwAAAAAAABASbQEAAAAAAABC\n",
       "oi0AAAAAAABASLQFAAAAAAAACIm2AAAAAAAAACHRFgAAAAAAACAk2gIAAAAAAACERFsAAAAAAACA\n",
       "kGgLAAAAAAAAEBJtAQAAAAAAAEKiLQAAAAAAAEBItAUAAAAAAAAIibYAAAAAAAAAIdEWAAAAAAAA\n",
       "ICTaAgAAAAAAAIREWwAAAAAAAICQaAsAAAAAAAAQEm0BAAAAAAAAQqItAAAAAAAAQEi0BQAAAAAA\n",
       "AAiJtgAAAAAAAAAh0RYAAAAAAAAgJNoCAAAAAAAAhERbAAAAAAAAgJBoCwAAAAAAABASbQEAAAAA\n",
       "AABCoi0AAAAAAABASLQFAAAAAAAACIm2AAAAAAAAACHRFgAAAAAAACAk2gIAAAAAAACERFsAAAAA\n",
       "AACAkGgLAAAAAAAAEBJtAQAAAAAAAEKiLQAAAAAAAEBItAUAAAAAAAAIibYAAAAAAAAAIdEWAAAA\n",
       "AAAAICTaAgAAAAAAAIREWwAAAAAAAICQaAsAAAAAAAAQEm0BAAAAAAAAQqItAAAAAAAAQEi0BQAA\n",
       "AAAAAAiJtgAAAAAAAAAh0RYAAAAAAAAgNLxWY70BAAAAAAAAYLE8bQEAAAAAAABCoi0AAAAAAABA\n",
       "SLQFAAAAAAAACIm2AAAAAAAAACHRFgAAAAAAACAk2gIAAAAAAACERFsAAAAAAACAkGgLAAAAAAAA\n",
       "EBJtAQAAAAAAAEKiLQAAAAAAAEBItAUAAAAAAAAIibYAAAAAAAAAIdEWAAAAAAAAICTaAgAAAAAA\n",
       "AIREWwAAAAAAAICQaAsAAAAAAAAQEm0BAAAAAAAAQqItAAAAAAAAQEi0BQAAAAAAAAiJtgAAAAAA\n",
       "AAAh0RYAAAAAAAAgJNoCAAAAAAAAhERbAAAAAAAAgJBoCwAAAAAAABASbQEAAAAAAABCoi0AAAAA\n",
       "AABASLQFAAAAAAAACIm2AAAAAAAAACHRFgAAAAAAACAk2gIAAAAAAACERFsAAAAAAACAkGgLAAAA\n",
       "AAAAEBJtAQAAAAAAAEKiLQAAAAAAAEBItAUAAAAAAAAIibYAAAAAAAAAIdEWAAAAAAAAICTaAgAA\n",
       "AAAAAIREWwAAAAAAAICQaAsAAAAAAAAQEm0BAAAAAAAAQqItAAAAAAAAQEi0BQAAAAAAAAiJtgAA\n",
       "AAAAAAAh0RYAAAAAAAAgJNoCAAAAAAAAhERbAAAAAAAAgJBoCwAAAAAAABASbQEAAAAAAABCoi0A\n",
       "AAAAAABASLQFAAAAAAAACIm2AAAAAAAAACHRFgAAAAAAACAk2gIAAAAAAACERFsAAAAAAACAkGgL\n",
       "AAAAAAAAEBJtAQAAAAAAAEKiLQAAAAAAAEBItAUAAAAAAAAIibYAAAAAAAAAIdEWAAAAAAAAICTa\n",
       "AgAAAAAAAIREWwAAAAAAAICQaAsAAAAAAAAQEm0BAAAAAAAAQqItAAAAAAAAQEi0BQAAAAAAAAiJ\n",
       "tgAAAAAAAAAh0RYAAAAAAAAgJNoCAAAAAAAAhERbAAAAAAAAgJBoCwAAAAAAABASbQEAAAAAAABC\n",
       "oi0AAAAAAABASLQFAAAAAAAACIm2AAAAAAAAACHRFgAAAAAAACAk2gIAAAAAAACERFsAAAAAAACA\n",
       "kGgLAAAAAAAAEBJtAQAAAAAAAEKiLQAAAAAAAEBItAUAAAAAAAAIibYAAAAAAAAAIdEWAAAAAAAA\n",
       "ICTaAgAAAAAAAIREWwAAAAAAAICQaAsAAAAAAAAQEm0BAAAAAAAAQqItAAAAAAAAQEi0BQAAAAAA\n",
       "AAiJtgAAAAAAAAAh0RYAAAAAAAAgJNoCAAAAAAAAhERbAAAAAAAAgJBoCwAAAAAAABASbQEAAAAA\n",
       "AABCoi0AAAAAAABASLQFAAAAAAAACIm2AAAAAAAAACHRFgAAAAAAACAk2gIAAAAAAACERFsAAAAA\n",
       "AACAkGgLAAAAAAAAEBJtAQAAAAAAAEKiLQAAAAAAAEBItAUAAAAAAAAIibYAAAAAAAAAIdEWAAAA\n",
       "AAAAICTaAgAAAAAAAIREWwAAAAAAAICQaAsAAAAAAAAQEm0BAAAAAAAAQqItAAAAAAAAQEi0BQAA\n",
       "AAAAAAiJtgAAAAAAAAAh0RYAAAAAAAAgJNoCAAAAAAAAhERbAAAAAAAAgJBoCwAAAAAAABASbQEA\n",
       "AAAAAABCoi0AAAAAAABASLQFAAAAAAAACIm2AAAAAAAAACHRFgAAAAAAACAk2gIAAAAAAACERFsA\n",
       "AAAAAACAkGgLAAAAAAAAEBJtAQAAAAAAAEKiLQAAAAAAAEBItAUAAAAAAAAIibYAAAAAAAAAIdEW\n",
       "AAAAAAAAICTaAgAAAAAAAIREWwAAAAAAAICQaAsAAAAAAAAQEm0BAAAAAAAAQqItAAAAAAAAQEi0\n",
       "BQAAAAAAAAiJtgAAAAAAAAAh0RYAAAAAAAAgJNoCAAAAAAAAhERbAAAAAAAAgJBoCwAAAAAAABAS\n",
       "bQEAAAAAAABCoi0AAAAAAABASLQFAAAAAAAACIm2AAAAAAAAACHRFgAAAAAAACAk2gIAAAAAAACE\n",
       "RFsAAAAAAACAkGgLAAAAAAAAEBJtAQAAAAAAAEKiLQAAAAAAAEBItAUAAAAAAAAIibYAAAAAAAAA\n",
       "IdEWAAAAAAAAICTaAgAAAAAAAIREWwAAAAAAAICQaAsAAAAAAAAQEm0BAAAAAAAAQqItAAAAAAAA\n",
       "QEi0BQAAAAAAAAiJtgAAAAAAAAAh0RYAAAAAAAAgJNoCAAAAAAAAhERbAAAAAAAAgJBoCwAAAAAA\n",
       "ABASbQEAAAAAAABCoi0AAAAAAABASLQFAAAAAAAACIm2AAAAAAAAACHRFgAAAAAAACAk2gIAAAAA\n",
       "AACERFsAAAAAAACAkGgLAAAAAAAAEBJtAQAAAAAAAEKiLQAAAAAAAEBItAUAAAAAAAAIibYAAAAA\n",
       "AAAAIdEWAAAAAAAAICTaAgAAAAAAAIREWwAAAAAAAICQaAsAAAAAAAAQEm0BAAAAAAAAQqItAAAA\n",
       "AAAAQEi0BQAAAAAAAAiJtgAAAAAAAAAh0RYAAAAAAAAgJNoCAAAAAAAAhERbAAAAAAAAgJBoCwAA\n",
       "AAAAABASbQEAAAAAAABCoi0AAAAAAABASLQFAAAAAAAACIm2AAAAAAAAACHRFgAAAAAAACAk2gIA\n",
       "AAAAAACERFsAAAAAAACAkGgLAAAAAAAAEBJtAQAAAAAAAEKiLQAAAAAAAEBItAUAAAAAAAAIibYA\n",
       "AAAAAAAAIdEWAAAAAAAAICTaAgAAAAAAAIREWwAAAAAAAICQaAsAAAAAAAAQEm0BAAAAAAAAQqIt\n",
       "AAAAAAAAQEi0BQAAAAAAAAiJtgAAAAAAAAAh0RYAAAAAAAAgJNoCAAAAAAAAhERbAAAAAAAAgJBo\n",
       "CwAAAAAAABASbQEAAAAAAABCoi0AAAAAAABASLQFAAAAAAAACIm2AAAAAAAAACHRFgAAAAAAACAk\n",
       "2gIAAAAAAACERFsAAAAAAACAkGgLAAAAAAAAEBJtAQAAAAAAAEKiLQAAAAAAAEBItAUAAAAAAAAI\n",
       "ibYAAAAAAAAAIdEWAAAAAAAAICTaAgAAAAAAAIREWwAAAAAAAICQaAsAAAAAAAAQEm0BAAAAAAAA\n",
       "QqItAAAAAAAAQEi0BQAAAAAAAAiJtgAAAAAAAAAh0RYAAAAAAAAgJNoCAAAAAAAAhERbAAAAAAAA\n",
       "gJBoCwAAAAAAABASbQEAAAAAAABCoi0AAAAAAABASLQFAAAAAAAACIm2AAAAAAAAACHRFgAAAAAA\n",
       "ACAk2gIAAAAAAACERFsAAAAAAACAkGgLAAAAAAAAEBJtAQAAAAAAAEKiLQAAAAAAAEBItAUAAAAA\n",
       "AAAIibYAAAAAAAAAIdEWAAAAAAAAICTaAgAAAAAAAIREWwAAAAAAAICQaAsAAAAAAAAQEm0BAAAA\n",
       "AAAAQqItAAAAAAAAQEi0BQAAAAAAAAiJtgAAAAAAAAAh0RYAAAAAAAAgJNoCAAAAAAAAhERbAAAA\n",
       "AAAAgJBoCwAAAAAAABASbQEAAAAAAABCoi0AAAAAAABASLQFAAAAAAAACIm2AAAAAAAAACHRFgAA\n",
       "AAAAACAk2gIAAAAAAACERFsAAAAAAACAkGgLAAAAAAAAEBJtAQAAAAAAAEKiLQAAAAAAAEBItAUA\n",
       "AAAAAAAIibYAAAAAAAAAIdEWAAAAAAAAICTaAgAAAAAAAIREWwAAAAAAAICQaAsAAAAAAAAQEm0B\n",
       "AAAAAAAAQqItAAAAAAAAQEi0BQAAAAAAAAiJtgAAAAAAAAAh0RYAAAAAAAAgJNoCAAAAAAAAhERb\n",
       "AAAAAAAAgJBoCwAAAAAAABASbQEAAAAAAABCoi0AAAAAAABASLQFAAAAAAAACIm2AAAAAAAAACHR\n",
       "FgAAAAAAACAk2gIAAAAAAACERFsAAAAAAACAkGgLAAAAAAAAEBJtAQAAAAAAAEKiLQAAAAAAAEBI\n",
       "tAUAAAAAAAAIibYAAAAAAAAAIdEWAAAAAAAAICTaAgAAAAAAAIREWwAAAAAAAICQaAsAAAAAAAAQ\n",
       "Em0BAAAAAAAAQqItAAAAAAAAQEi0BQAAAAAAAAiJtgAAAAAAAAAh0RYAAAAAAAAgJNoCAAAAAAAA\n",
       "hERbAAAAAAAAgJBoCwAAAAAAABASbQEAAAAAAABCoi0AAAAAAABASLQFAAAAAAAACIm2AAAAAAAA\n",
       "ACHRFgAAAAAAACAk2gIAAAAAAACERFsAAAAAAACAkGgLAAAAAAAAEBJtAQAAAAAAAEKiLQAAAAAA\n",
       "AEBItAUAAAAAAAAIibYAAAAAAAAAIdEWAAAAAAAAICTaAgAAAAAAAIREWwAAAAAAAICQaAsAAAAA\n",
       "AAAQEm0BAAAAAAAAQqItAAAAAAAAQEi0BQAAAAAAAAiJtgAAAAAAAAAh0RYAAAAAAAAgJNoCAAAA\n",
       "AAAAhERbAAAAAAAAgJBoCwAAAAAAABASbQEAAAAAAABCoi0AAAAAAABASLQFAAAAAAAACIm2AAAA\n",
       "AAAAACHRFgAAAAAAACAk2gIAAAAAAACERFsAAAAAAACAkGgLAAAAAAAAEBJtAQAAAAAAAEKiLQAA\n",
       "AAAAAEBItAUAAAAAAAAIibYAAAAAAAAAIdEWAAAAAAAAICTaAgAAAAAAAIREWwAAAAAAAICQaAsA\n",
       "AAAAAAAQEm0BAAAAAAAAQqItAAAAAAAAQEi0BQAAAAAAAAiJtgAAAAAAAAAh0RYAAAAAAAAgJNoC\n",
       "AAAAAAAAhERbAAAAAAAAgJBoCwAAAAAAABASbQEAAAAAAABCoi0AAAAAAABASLQFAAAAAAAACIm2\n",
       "AAAAAAAAACHRFgAAAAAAACAk2gIAAAAAAACERFsAAAAAAACAkGgLAAAAAAAAEBJtAQAAAAAAAEKi\n",
       "LQAAAAAAAMCPfTskAgAEgCBoEPRvQBoaoamAYObMboL3Nx8SbQEAAAAAAABCoi0AAAAAAABASLQF\n",
       "AAAAAAAACIm2AAAAAAAAACHRFgAAAAAAACAk2gIAAAAAAACERFsAAAAAAACAkGgLAAAAAAAAEBJt\n",
       "AQAAAAAAAEKiLQAAAAAAAEBItAUAAAAAAAAIibYAAAAAAAAAIdEWAAAAAAAAICTaAgAAAAAAAIRE\n",
       "WwAAAAAAAICQaAsAAAAAAAAQEm0BAAAAAAAAQqItAAAAAAAAQEi0BQAAAAAAAAiJtgAAAAAAAAAh\n",
       "0RYAAAAAAAAgJNoCAAAAAAAAhERbAAAAAAAAgJBoCwAAAAAAABASbQEAAAAAAABCoi0AAAAAAABA\n",
       "SLQFAAAAAAAACIm2AAAAAAAAACHRFgAAAAAAACAk2gIAAAAAAACERFsAAAAAAACAkGgLAAAAAAAA\n",
       "EBJtAQAAAAAAAEKiLQAAAAAAAEBItAUAAAAAAAAIibYAAAAAAAAAIdEWAAAAAAAAICTaAgAAAAAA\n",
       "AIREWwAAAAAAAICQaAsAAAAAAAAQEm0BAAAAAAAAQqItAAAAAAAAQEi0BQAAAAAAAAiJtgAAAAAA\n",
       "AAAh0RYAAAAAAAAgJNoCAAAAAAAAhERbAAAAAAAAgJBoCwAAAAAAABASbQEAAAAAAABCoi0AAAAA\n",
       "AABASLQFAAAAAAAACIm2AAAAAAAAACHRFgAAAAAAACAk2gIAAAAAAACERFsAAAAAAACAkGgLAAAA\n",
       "AAAAEBJtAQAAAAAAAEKiLQAAAAAAAEBItAUAAAAAAAAIibYAAAAAAAAAIdEWAAAAAAAAICTaAgAA\n",
       "AAAAAIREWwAAAAAAAICQaAsAAAAAAAAQEm0BAAAAAAAAQqItAAAAAAAAQEi0BQAAAAAAAAiJtgAA\n",
       "AAAAAAAh0RYAAAAAAAAgJNoCAAAAAAAAhERbAAAAAAAAgJBoCwAAAAAAABASbQEAAAAAAABCoi0A\n",
       "AAAAAABASLQFAAAAAAAACIm2AAAAAAAAACHRFgAAAAAAACAk2gIAAAAAAACERFsAAAAAAACAkGgL\n",
       "AAAAAAAAEBJtAQAAAAAAAEJjn1VvAAAAAAAA+GzWAwCeedoCAAAAAAAAhERbAAAAAAAAgJBoCwAA\n",
       "AAAAABASbQEAAAAAAABCoi0AAAAAAABASLQFAAAAAAAACIm2AAAAAAAAACHRFgAAAAAAACAk2gIA\n",
       "AAAAAACERFsAAAAAAACAkGgLAAAAAAAAEBJtAQAAAAAAAEKiLQAAAAAAAEBItAUAAAAAAAAIibYA\n",
       "AAAAAAAAIdEWAAAAAAAAICTaAgAAAAAAAIREWwAAAAAAAICQaAsAAAAAAAAQEm0BAAAAAAAAQqIt\n",
       "AAAAAAAAQEi0BQAAAAAAAAiJtgAAAAAAAAAh0RYAAAAAAAAgJNoCAAAAAAAAhERbAAAAAAAAgJBo\n",
       "CwAAAAAAABASbQEAAAAAAABCoi0AAAAAAABASLQFAAAAAAAACIm2AAAAAAAAACHRFgAAAAAAACAk\n",
       "2gIAAAAAAACERFsAAAAAAACAkGgLAAAAAAAAEBJtAQAAAAAAAEKiLQAAAAAAAEBItAUAAAAAAAAI\n",
       "ibYAAAAAAAAAIdEWAAAAAAAAICTaAgAAAAAAAIREWwAAAAAAAICQaAsAAAAAAAAQEm0BAAAAAAAA\n",
       "QqItAAAAAAAAQEi0BQAAAAAAAAiJtgAAAAAAAAAh0RYAAAAAAAAgJNoCAAAAAAAAhERbAAAAAAAA\n",
       "gJBoCwAAAAAAABASbQEAAAAAAABCoi0AAAAAAABASLQFAAAAAAAACIm2AAAAAAAAACHRFgAAAAAA\n",
       "ACAk2gIAAAAAAACERFsAAAAAAACAkGgLAAAAAAAAEBJtAQAAAAAAAEKiLQAAAAAAAEBItAUAAAAA\n",
       "AAAIibYAAAAAAAAAIdEWAAAAAAAAICTaAgAAAAAAAIREWwAAAAAAAICQaAsAAAAAAAAQEm0BAAAA\n",
       "AAAAQqItAAAAAAAAQEi0BQAAAAAAAAiJtgAAAAAAAAAh0RYAAAAAAAAgJNoCAAAAAAAAhERbAAAA\n",
       "AAAAgJBoCwAAAAAAABASbQEAAAAAAABCoi0AAAAAAABASLQFAAAAAAAACIm2AAAAAAAAACHRFgAA\n",
       "AAAAACAk2gIAAAAAAACERFsAAAAAAACAkGgLAAAAAAAAEBJtAQAAAAAAAEKiLQAAAAAAAEBItAUA\n",
       "AAAAAAAIibYAAAAAAAAAIdEWAAAAAAAAICTaAgAAAAAAAIREWwAAAAAAAICQaAsAAAAAAAAQEm0B\n",
       "AAAAAAAAQqItAAAAAAAAQEi0BQAAAAAAAAiJtgAAAAAAAAAh0RYAAAAAAAAgJNoCAAAAAAAAhERb\n",
       "AAAAAAAAgJBoCwAAAAAAABASbQEAAAAAAABCoi0AAAAAAABASLQFAAAAAAAACIm2AAAAAAAAACHR\n",
       "FgAAAAAAACAk2gIAAAAAAACERFsAAAAAAACAkGgLAAAAAAAAEBJtAQAAAAAAAEKiLQAAAAAAAEBI\n",
       "tAUAAAAAAAAIibYAAAAAAAAAIdEWAAAAAAAAICTaAgAAAAAAAIREWwAAAAAAAICQaAsAAAAAAAAQ\n",
       "Em0BAAAAAAAAQqItAAAAAAAAQEi0BQAAAAAAAAiJtgAAAAAAAAAh0RYAAAAAAAAgJNoCAAAAAAAA\n",
       "hERbAAAAAAAAgJBoCwAAAAAAABASbQEAAAAAAABCoi0AAAAAAABASLQFAAAAAAAACIm2AAAAAAAA\n",
       "ACHRFgAAAAAAACAk2gIAAAAAAACERFsAAAAAAACAkGgLAAAAAAAAEBJtAQAAAAAAAEKiLQAAAAAA\n",
       "AEBItAUAAAAAAAAIibYAAAAAAAAAIdEWAAAAAAAAICTaAgAAAAAAAIREWwAAAAAAAICQaAsAAAAA\n",
       "AAAQEm0BAAAAAAAAQqItAAAAAAAAQEi0BQAAAAAAAAiJtgAAAAAAAAAh0RYAAAAAAAAgJNoCAAAA\n",
       "AAAAhERbAAAAAAAAgJBoCwAAAAAAABASbQEAAAAAAABCoi0AAAAAAABASLQFAAAAAAAACIm2AAAA\n",
       "AAAAACHRFgAAAAAAACAk2gIAAAAAAACERFsAAAAAAACAkGgLAAAAAAAAEBJtAQAAAAAAAEKiLQAA\n",
       "AAAAAEBItAUAAAAAAAAIibYAAAAAAAAAIdEWAAAAAAAAICTaAgAAAAAAAIREWwAAAAAAAICQaAsA\n",
       "AAAAAAAQEm0BAAAAAAAAQqItAAAAAAAAQEi0BQAAAAAAAAiJtgAAAAAAAAAh0RYAAAAAAAAgJNoC\n",
       "AAAAAAAAhERbAAAAAAAAgJBoCwAAAAAAABASbQEAAAAAAABCoi0AAAAAAABASLQFAAAAAAAACIm2\n",
       "AAAAAAAAACHRFgAAAAAAACAk2gIAAAAAAACERFsAAAAAAACAkGgLAAAAAAAAEBJtAQAAAAAAAEKi\n",
       "LQAAAAAAAEBItAUAAAAAAAAIibYAAAAAAAAAIdEWAAAAAAAAICTaAgAAAAAAAIREWwAAAAAAAICQ\n",
       "aAsAAAAAAAAQEm0BAAAAAAAAQqItAAAAAAAAQEi0BQAAAAAAAAiJtgAAAAAAAAAh0RYAAAAAAAAg\n",
       "JNoCAAAAAAAAhERbAAAAAAAAgJBoCwAAAAAAABASbQEAAAAAAABCoi0AAAAAAABASLQFAAAAAAAA\n",
       "CIm2AAAAAAAAACHRFgAAAAAAACAk2gIAAAAAAACERFsAAAAAAACAkGgLAAAAAAAAEBJtAQAAAAAA\n",
       "AEKiLQAAAAAAAEBItAUAAAAAAAAIibYAAAAAAAAAIdEWAAAAAAAAICTaAgAAAAAAAIREWwAAAAAA\n",
       "AICQaAsAAAAAAAAQEm0BAAAAAAAAQqItAPL30TAAABZ1SURBVAAAAAAAQEi0BQAAAAAAAAiJtgAA\n",
       "AAAAAAAh0RYAAAAAAAAgJNoCAAAAAAAAhERbAAAAAAAAgJBoCwAAAAAAABASbQEAAAAAAABCoi0A\n",
       "AAAAAABASLQFAAAAAAAACIm2AAAAAAAAACHRFgAAAAAAACAk2gIAAAAAAACERFsAAAAAAACAkGgL\n",
       "AAAAAAAAEBJtAQAAAAAAAEKiLQAAAAAAAEBItAUAAAAAAAAIibYAAAAAAAAAIdEWAAAAAAAAICTa\n",
       "AgAAAAAAAIREWwAAAAAAAICQaAsAAAAAAAAQEm0BAAAAAAAAQqItAAAAAAAAQEi0BQAAAAAAAAiJ\n",
       "tgAAAAAAAAAh0RYAAAAAAAAgJNoCAAAAAAAAhERbAAAAAAAAgJBoCwAAAAAAABASbQEAAAAAAABC\n",
       "oi0AAAAAAABASLQFAAAAAAAACIm2AAAAAAAAACHRFgAAAAAAACAk2gIAAAAAAACERFsAAAAAAACA\n",
       "kGgLAAAAAAAAEBJtAQAAAAAAAEKiLQAAAAAAAEBItAUAAAAAAAAIibYAAAAAAAAAIdEWAAAAAAAA\n",
       "ICTaAgAAAAAAAIREWwAAAAAAAICQaAsAAAAAAAAQEm0BAAAAAAAAQqItAAAAAAAAQEi0BQAAAAAA\n",
       "AAiJtgAAAAAAAAAh0RYAAAAAAAAgJNoCAAAAAAAAhERbAAAAAAAAgJBoCwAAAAAAABASbQEAAAAA\n",
       "AABCoi0AAAAAAABASLQFAAAAAAAACIm2AAAAAAAAACHRFgAAAAAAACAk2gIAAAAAAACERFsAAAAA\n",
       "AACAkGgLAAAAAAAAEBJtAQAAAAAAAEKiLQAAAAAAAEBItAUAAAAAAAAIibYAAAAAAAAAIdEWAAAA\n",
       "AAAAICTaAgAAAAAAAIREWwAAAAAAAICQaAsAAAAAAAAQEm0BAAAAAAAAQqItAAAAAAAAQEi0BQAA\n",
       "AAAAAAiJtgAAAAAAAAAh0RYAAAAAAAAgJNoCAAAAAAAAhERbAAAAAAAAgJBoCwAAAAAAABASbQEA\n",
       "AAAAAABCoi0AAAAAAABASLQFAAAAAAAACIm2AAAAAAAAACHRFgAAAAAAACAk2gIAAAAAAACERFsA\n",
       "AAAAAACAkGgLAAAAAAAAEBJtAQAAAAAAAEKiLQAAAAAAAEBItAUAAAAAAAAIibYAAAAAAAAAIdEW\n",
       "AAAAAAAAICTaAgAAAAAAAIREWwAAAAAAAICQaAsAAAAAAAAQEm0BAAAAAAAAQqItAAAAAAAAQEi0\n",
       "BQAAAAAAAAiJtgAAAAAAAAAh0RYAAAAAAAAgJNoCAAAAAAAAhERbAAAAAAAAgJBoCwAAAAAAABAS\n",
       "bQEAAAAAAABCoi0AAAAAAABASLQFAAAAAAAACIm2AAAAAAAAACHRFgAAAAAAACAk2gIAAAAAAACE\n",
       "RFsAAAAAAACAkGgLAAAAAAAAEBJtAQAAAAAAAEKiLQAAAAAAAEBItAUAAAAAAAAIibYAAAAAAAAA\n",
       "IdEWAAAAAAAAICTaAgAAAAAAAIREWwAAAAAAAICQaAsAAAAAAAAQEm0BAAAAAAAAQqItAAAAAAAA\n",
       "QEi0BQAAAAAAAAiJtgAAAAAAAAAh0RYAAAAAAAAgJNoCAAAAAAAAhERbAAAAAAAAgJBoCwAAAAAA\n",
       "ABASbQEAAAAAAABCoi0AAAAAAABASLQFAAAAAAAACIm2AAAAAAAAACHRFgAAAAAAACAk2gIAAAAA\n",
       "AACERFsAAAAAAACAkGgLAAAAAAAAEBJtAQAAAAAAAEKiLQAAAAAAAEBItAUAAAAAAAAIibYAAAAA\n",
       "AAAAIdEWAAAAAAAAICTaAgAAAAAAAIREWwAAAAAAAICQaAsAAAAAAAAQEm0BAAAAAAAAQqItAAAA\n",
       "AAAAQEi0BQAAAAAAAAiJtgAAAAAAAAAh0RYAAAAAAAAgJNoCAAAAAAAAhERbAAAAAAAAgJBoCwAA\n",
       "AAAAABASbQEAAAAAAABCoi0AAAAAAABASLQFAAAAAAAACIm2AAAAAAAAACHRFgAAAAAAACAk2gIA\n",
       "AAAAAACERFsAAAAAAACAkGgLAAAAAAAAEBJtAQAAAAAAAEKiLQAAAAAAAEBItAUAAAAAAAAIibYA\n",
       "AAAAAAAAIdEWAAAAAAAAICTaAgAAAAAAAIREWwAAAAAAAICQaAsAAAAAAAAQEm0BAAAAAAAAQqIt\n",
       "AAAAAAAAQEi0BQAAAAAAAAiJtgAAAAAAAAAh0RYAAAAAAAAgJNoCAAAAAAAAhERbAAAAAAAAgJBo\n",
       "CwAAAAAAABASbQEAAAAAAABCoi0AAAAAAABASLQFAAAAAAAACIm2AAAAAAAAACHRFgAAAAAAACAk\n",
       "2gIAAAAAAACERFsAAAAAAACAkGgLAAAAAAAAEBJtAQAAAAAAAEKiLQAAAAAAAEBItAUAAAAAAAAI\n",
       "ibYAAAAAAAAAIdEWAAAAAAAAICTaAgAAAAAAAIREWwAAAAAAAICQaAsAAAAAAAAQEm0BAAAAAAAA\n",
       "QqItAAAAAAAAQEi0BQAAAAAAAAiJtgAAAAAAAAAh0RYAAAAAAAAgJNoCAAAAAAAAhERbAAAAAAAA\n",
       "gJBoCwAAAAAAABASbQEAAAAAAABCoi0AAAAAAABASLQFAAAAAAAACIm2AAAAAAAAACHRFgAAAAAA\n",
       "ACAk2gIAAAAAAACERFsAAAAAAACAkGgLAAAAAAAAEBJtAQAAAAAAAEKiLQAAAAAAAEBItAUAAAAA\n",
       "AAAIibYAAAAAAAAAIdEWAAAAAAAAICTaAgAAAAAAAIREWwAAAAAAAICQaAsAAAAAAAAQEm0BAAAA\n",
       "AAAAQqItAAAAAAAAQEi0BQAAAAAAAAiJtgAAAAAAAAAh0RYAAAAAAAAgJNoCAAAAAAAAhERbAAAA\n",
       "AAAAgJBoCwAAAAAAABASbQEAAAAAAABCoi0AAAAAAABASLQFAAAAAAAACIm2AAAAAAAAACHRFgAA\n",
       "AAAAACAk2gIAAAAAAACERFsAAAAAAACAkGgLAAAAAAAAEBJtAQAAAAAAAEKiLQAAAAAAAEBItAUA\n",
       "AAAAAAAIibYAAAAAAAAAIdEWAAAAAAAAICTaAgAAAAAAAIREWwAAAAAAAICQaAsAAAAAAAAQEm0B\n",
       "AAAAAAAAQqItAAAAAAAAQEi0BQAAAAAAAAiJtgAAAAAAAAAh0RYAAAAAAAAgJNoCAAAAAAAAhERb\n",
       "AAAAAAAAgJBoCwAAAAAAABASbQEAAAAAAABCoi0AAAAAAABASLQFAAAAAAAACIm2AAAAAAAAACHR\n",
       "FgAAAAAA4LZnxwIAAAAAg/yth7GnNAIYSVsAAAAAAACAkbQFAAAAAAAAGElbAAAAAAAAgJG0BQAA\n",
       "AAAAABhJWwAAAAAAAICRtAUAAAAAAAAYSVsAAAAAAACAkbQFAAAAAAAAGElbAAAAAAAAgJG0BQAA\n",
       "AAAAABhJWwAAAAAAAICRtAUAAAAAAAAYSVsAAAAAAACAkbQFAAAAAAAAGElbAAAAAAAAgJG0BQAA\n",
       "AAAAABhJWwAAAAAAAICRtAUAAAAAAAAYSVsAAAAAAACAkbQFAAAAAAAAGElbAAAAAAAAgJG0BQAA\n",
       "AAAAABhJWwAAAAAAAICRtAUAAAAAAAAYSVsAAAAAAACAkbQFAAAAAAAAGElbAAAAAAAAgJG0BQAA\n",
       "AAAAABhJWwAAAAAAAICRtAUAAAAAAAAYSVsAAAAAAACAkbQFAAAAAAAAGElbAAAAAAAAgJG0BQAA\n",
       "AAAAABhJWwAAAAAAAICRtAUAAAAAAAAYSVsAAAAAAACAkbQFAAAAAAAAGElbAAAAAAAAgJG0BQAA\n",
       "AAAAABhJWwAAAAAAAICRtAUAAAAAAAAYSVsAAAAAAACAkbQFAAAAAAAAGElbAAAAAAAAgJG0BQAA\n",
       "AAAAABhJWwAAAAAAAICRtAUAAAAAAAAYSVsAAAAAAACAkbQFAAAAAAAAGElbAAAAAAAAgJG0BQAA\n",
       "AAAAABhJWwAAAAAAAICRtAUAAAAAAAAYSVsAAAAAAACAkbQFAAAAAAAAGElbAAAAAAAAgJG0BQAA\n",
       "AAAAABhJWwAAAAAAAICRtAUAAAAAAAAYSVsAAAAAAACAkbQFAAAAAAAAGElbAAAAAAAAgJG0BQAA\n",
       "AAAAABhJWwAAAAAAAICRtAUAAAAAAAAYSVsAAAAAAACAkbQFAAAAAAAAGElbAAAAAAAAgJG0BQAA\n",
       "AAAAABhJWwAAAAAAAICRtAUAAAAAAAAYSVsAAAAAAACAkbQFAAAAAAAAGElbAAAAAAAAgJG0BQAA\n",
       "AAAAABhJWwAAAAAAAICRtAUAAAAAAAAYSVsAAAAAAACAkbQFAAAAAAAAGElbAAAAAAAAgJG0BQAA\n",
       "AAAAABhJWwAAAAAAAICRtAUAAAAAAAAYSVsAAAAAAACAkbQFAAAAAAAAGElbAAAAAAAAgJG0BQAA\n",
       "AAAAABhJWwAAAAAAAICRtAUAAAAAAAAYSVsAAAAAAACAkbQFAAAAAAAAGElbAAAAAAAAgJG0BQAA\n",
       "AAAAABhJWwAAAAAAAICRtAUAAAAAAAAYSVsAAAAAAACAkbQFAAAAAAAAGElbAAAAAAAAgJG0BQAA\n",
       "AAAAABhJWwAAAAAAAICRtAUAAAAAAAAYSVsAAAAAAACAkbQFAAAAAAAAGElbAAAAAAAAgJG0BQAA\n",
       "AAAAABhJWwAAAAAAAICRtAUAAAAAAAAYSVsAAAAAAACAkbQFAAAAAAAAGElbAAAAAAAAgJG0BQAA\n",
       "AAAAABhJWwAAAAAAAICRtAUAAAAAAAAYSVsAAAAAAACAkbQFAAAAAAAAGElbAAAAAAAAgJG0BQAA\n",
       "AAAAABhJWwAAAAAAAICRtAUAAAAAAAAYSVsAAAAAAACAkbQFAAAAAAAAGElbAAAAAAAAgJG0BQAA\n",
       "AAAAABhJWwAAAAAAAICRtAUAAAAAAAAYSVsAAAAAAACAkbQFAAAAAAAAGElbAAAAAAAAgJG0BQAA\n",
       "AAAAABhJWwAAAAAAAICRtAUAAAAAAAAYSVsAAAAAAACAkbQFAAAAAAAAGElbAAAAAAAAgJG0BQAA\n",
       "AAAAABhJWwAAAAAAAICRtAUAAAAAAAAYSVsAAAAAAACAkbQFAAAAAAAAGElbAAAAAAAAgJG0BQAA\n",
       "AAAAABhJWwAAAAAAAICRtAUAAAAAAAAYSVsAAAAAAACAkbQFAAAAAAAAGElbAAAAAAAAgJG0BQAA\n",
       "AAAAABhJWwAAAAAAAICRtAUAAAAAAAAYSVsAAAAAAACAkbQFAAAAAAAAGElbAAAAAAAAgJG0BQAA\n",
       "AAAAABhJWwAAAAAAAICRtAUAAAAAAAAYSVsAAAAAAACAkbQFAAAAAAAAGElbAAAAAAAAgJG0BQAA\n",
       "AAAAABhJWwAAAAAAAICRtAUAAAAAAAAYSVsAAAAAAACAkbQFAAAAAAAAGElbAAAAAAAAgJG0BQAA\n",
       "AAAAABhJWwAAAAAAAICRtAUAAAAAAAAYSVsAAAAAAACAkbQFAAAAAAAAGElbAAAAAAAAgJG0BQAA\n",
       "AAAAABhJWwAAAAAAAICRtAUAAAAAAAAYSVsAAAAAAACAkbQFAAAAAAAAGElbAAAAAAAAgJG0BQAA\n",
       "AAAAABhJWwAAAAAAAICRtAUAAAAAAAAYSVsAAAAAAACAkbQFAAAAAAAAGElbAAAAAAAAgJG0BQAA\n",
       "AAAAABhJWwAAAAAAAICRtAUAAAAAAAAYSVsAAAAAAACAkbQFAAAAAAAAGElbAAAAAAAAgJG0BQAA\n",
       "AAAAABhJWwAAAAAAAICRtAUAAAAAAAAYSVsAAAAAAACAkbQFAAAAAAAAGElbAAAAAAAAgJG0BQAA\n",
       "AAAAABhJWwAAAAAAAICRtAUAAAAAAAAYSVsAAAAAAACAkbQFAAAAAAAAGElbAAAAAAAAgJG0BQAA\n",
       "AAAAABhJWwAAAAAAAICRtAUAAAAAAAAYSVsAAAAAAACAkbQFAAAAAAAAGElbAAAAAAAAgJG0BQAA\n",
       "AAAAABhJWwAAAAAAAICRtAUAAAAAAAAYSVsAAAAAAACAkbQFAAAAAAAAGElbAAAAAAAAgJG0BQAA\n",
       "AAAAABhJWwAAAAAAAICRtAUAAAAAAAAYSVsAAAAAAACAkbQFAAAAAAAAGElbAAAAAAAAgJG0BQAA\n",
       "AAAAABhJWwAAAAAAAICRtAUAAAAAAAAYSVsAAAAAAACAkbQFAAAAAAAAGElbAAAAAAAAgJG0BQAA\n",
       "AAAAABhJWwAAAAAAAICRtAUAAAAAAAAYSVsAAAAAAACAkbQFAAAAAAAAGElbAAAAAAAAgJG0BQAA\n",
       "AAAAABhJWwAAAAAAAICRtAUAAAAAAAAYSVsAAAAAAACAkbQFAAAAAAAAGElbAAAAAAAAgJG0BQAA\n",
       "AAAAABhJWwAAAAAAAICRtAUAAAAAAAAYSVsAAAAAAACAkbQFAAAAAAAAGElbAAAAAAAAgJG0BQAA\n",
       "AAAAABhJWwAAAAAAAICRtAUAAAAAAAAYSVsAAAAAAACAkbQFAAAAAAAAGElbAAAAAAAAgJG0BQAA\n",
       "AAAAABhJWwAAAAAAAICRtAUAAAAAAAAYSVsAAAAAAACAkbQFAAAAAAAAGElbAAAAAAAAgJG0BQAA\n",
       "AAAAABhJWwAAAAAAAICRtAUAAAAAAAAYSVsAAAAAAACAkbQFAAAAAAAAGElbAAAAAAAAgJG0BQAA\n",
       "AAAAABhJWwAAAAAAAICRtAUAAAAAAAAYSVsAAAAAAACAkbQFAAAAAAAAGElbAAAAAAAAgJG0BQAA\n",
       "AAAAABhJWwAAAAAAAICRtAUAAAAAAAAYSVsAAAAAAACAkbQFAAAAAAAAGElbAAAAAAAAgJG0BQAA\n",
       "AAAAABhJWwAAAAAAAICRtAUAAAAAAAAYSVsAAAAAAACAkbQFAAAAAAAAGElbAAAAAAAAgJG0BQAA\n",
       "AAAAABhJWwAAAAAAAICRtAUAAAAAAAAYSVsAAAAAAACAkbQFAAAAAAAAGElbAAAAAAAAgJG0BQAA\n",
       "AAAAABhJWwAAAAAAAICRtAUAAAAAAAAYSVsAAAAAAACAkbQFAAAAAAAAGElbAAAAAAAAgJG0BQAA\n",
       "AAAAABhJWwAAAAAAAICRtAUAAAAAAAAYSVsAAAAAAACAkbQFAAAAAAAAGElbAAAAAAAAgJG0BQAA\n",
       "AAAAABhJWwAAAAAAAICRtAUAAAAAAAAYSVsAAAAAAACAkbQFAAAAAAAAGElbAAAAAAAAgJG0BQAA\n",
       "AAAAABhJWwAAAAAAAICRtAUAAAAAAAAYSVsAAAAAAACAkbQFAAAAAAAAGElbAAAAAAAAgJG0BQAA\n",
       "AAAAABhJWwAAAAAAAICRtAUAAAAAAAAYSVsAAAAAAACAkbQFAAAAAAAAGElbAAAAAAAAgJG0BQAA\n",
       "AAAAABhJWwAAAAAAAICRtAUAAAAAAAAYSVsAAAAAAACAkbQFAAAAAAAAGElbAAAAAAAAgJG0BQAA\n",
       "AAAAABhJWwAAAAAAAICRtAUAAAAAAAAYSVsAAAAAAACAkbQFAAAAAAAAGElbAAAAAAAAgJG0BQAA\n",
       "AAAAABhJWwAAAAAAAICRtAUAAAAAAAAYSVsAAAAAAACAkbQFAAAAAAAAGElbAAAAAAAAgJG0BQAA\n",
       "AAAAABhJWwAAAAAAAICRtAUAAAAAAAAYSVsAAAAAAACAkbQFAAAAAAAAGElbAAAAAAAAgJG0BQAA\n",
       "AAAAABhJWwAAAAAAAICRtAUAAAAAAAAYSVsAAAAAAACAkbQFAAAAAAAAGElbAAAAAAAAgJG0BQAA\n",
       "AAAAABhJWwAAAAAAAICRtAUAAAAAAAAYBYSsHCq9FpmrAAAAAElFTkSuQmCC\n",
       "\" transform=\"translate(212, 47)\"/>\n",
       "</g>\n",
       "<defs>\n",
       "  <clipPath id=\"clip3303\">\n",
       "    <rect x=\"2160\" y=\"47\" width=\"73\" height=\"1440\"/>\n",
       "  </clipPath>\n",
       "</defs>\n",
       "<g clip-path=\"url(#clip3303)\">\n",
       "<image width=\"72\" height=\"1439\" xlink:href=\"data:image/png;base64,\n",
       "iVBORw0KGgoAAAANSUhEUgAAAEgAAAWfCAYAAAAI7rB3AAAMTUlEQVR4nO3dwY3sRhAFQY5Q/lsh\n",
       "L6XfLQtUeSQPERYsEg8kmpyZ/f17/r4P/+uvt/+ArxMoCBQECgKFOffft/+GT7OgIFAQKAgUBApz\n",
       "3cVWFhQECgIFgcLc4yK9saAgUBAoCBQECo4awYKCQEGgIFAQKLiLBQsKAgWBgkDBRTpYUBAoCBQE\n",
       "CgIFr32CBQWBgkBBoOCoESwoCBQECgIFgYK7WLCgIFAQKAgUBArzeGC2sqAgUBAoCBRcpIMFBYGC\n",
       "QEGgIFCYxwOzlQUFgYJAQaAgUHAWCxYUBAoCBYGCi3SwoCBQECgIFAQK85x/3v4bPs2CgkBBoCBQ\n",
       "8FYjWFAQKAgUBAoCBQ/MggUFgYJAQaAgUHAXCxYUBAoCBYHC/O6ft/+GT7OgIFAQKAgUBArzHHex\n",
       "jQUFgYJAQaAgUJifu9jKgoJAQaAgUHDUCBYUBAoCBYGCQGEer31WFhQECgIFgYLnQcGCgkBBoCBQ\n",
       "ECh4YBYsKAgUBAoCBYGCs1iwoCBQECgIFBw1ggUFgYJAQaAgUJjfOW//DZ9mQUGgIFAQKAgUnMWC\n",
       "BQWBgkBBoOAiHSwoCBQECgIFgYJ388GCgkBBoCBQmMdbjZUFBYGCQEGgIFBw1AgWFAQKAgWBgkDB\n",
       "a59gQUGgIFAQKLhIBwsKAgWBgkBBoODLLMGCgkBBoCBQ8G4+WFAQKAgUBAoCBQ/MggUFgYJAQaAg\n",
       "UHAWCxYUBAoCBYGCi3SwoCBQECgIFAQK3s0HCwoCBYGCQEGg4LVPsKAgUBAoCBQ8MAsWFAQKAgWB\n",
       "gkDBXSxYUBAoCBQECi7SwYKCQEGgIFAQKMxz7tt/w6dZUBAoCBQECgKFea6z2MaCgkBBoCBQ8MAs\n",
       "WFAQKAgUBAoCBQ/MggUFgYJAQaAgUHAWCxYUBAoCBYGCi3SwoCBQECgIFAQKHpgFCwoCBYGCQMFR\n",
       "I1hQECgIFAQKAoV53MRWFhQECgIFgYJAwV0sWFAQKAgUBArjC4c7CwoCBYGCQEGg4KgRLCgIFAQK\n",
       "AgWBgrtYsKAgUBAoCBRcpIMFBYGCQEGgIFCYx3dZVhYUBAoCBYHC3PN7+2/4NAsKAgWBgkBBoOCB\n",
       "WbCgIFAQKAgUBArzOIutLCgIFAQKAoW510V6Y0FBoCBQECgIFBw1ggUFgYJAQaDgIh0sKAgUBAoC\n",
       "BYGCB2bBgoJAQaAgUBAoOIsFCwoCBYGCQGGeo9FGnSBQECgIFAQKHpgFCwoCBYGCQEGg4IFZsKAg\n",
       "UBAoCBT8+kuwoCBQECgIFAQK81yNNuoEgYJAQaDgqBEsKAgUBAoCBYGCu1iwoCBQECgIFAQKPicd\n",
       "1AkCBYGCQMHHgIMFBYGCQEGgIFDwMeBgQUGgIFAQKAgU5npgtlInCBQECgIFD8yCBQWBgkBBoCBQ\n",
       "8MAsWFAQKAgUBAqeBwV1gkBBoCBQECh4YBYsKAgUBAoCBYGCr2QGCwoCBYGCQGGun+haqRMECgIF\n",
       "gYJAwbv5YEFBoCBQECgIFDwwCxYUBAoCBYGCd/PBgoJAQaAgUBAo+Jx0UCcIFAQKAgVHjWBBQaAg\n",
       "UBAoCBS81QgWFAQKAgWBgkDBWSxYUBAoCBQECt5qBHWCQEGgIFAQKDhqBAsKAgWBgkBBoOC1T7Cg\n",
       "IFAQKAgUHDWCBQWBgkBBoCBQ8NonqBMECgIFgYKjRrCgIFAQKAgUBAruYsGCgkBBoCBQECi4iwUL\n",
       "CgIFgYJAwQeoggUFgYJAQaAgUJjj/4ut1AkCBYGCQMHzoGBBQaAgUBAoCBQ8MAsWFAQKAgWBgkDB\n",
       "WSxYUBAoCBQECi7SwYKCQEGgIFAQKLiLBQsKAgWBgkBBoOAuFiwoCBQECgKFOS7SKwsKAgWBgkBB\n",
       "oOCoESwoCBQECgIFF+lgQUGgIFAQKAgU3MWCBQWBgkBBoCBQcBcLFhQECgIFgYKLdLCgIFAQKAgU\n",
       "BAo+YRYsKAgUBAoCBYGCs1iwoCBQECgIFFykgwUFgYJAQaAgUPCfWYI6QaAgUBAoOGoECwoCBYGC\n",
       "QEGg4N18sKAgUBAoCBQECs5iwYKCQEGgIFBw1AgWFAQKAgWBgkDBUSNYUBAoCBQECgIFd7FgQUGg\n",
       "IFAQKHhgFiwoCBQECgIFgcLcx11sY0FBoCBQECg4agQLCgIFgYJAQaDgrUawoCBQECgIFAQKc+7b\n",
       "f8K3WVAQKAgUBAqOGsGCgkBBoCBQECh47RMsKAgUBAoChTk+QLWyoCBQECgIFAQKHpgFCwoCBYGC\n",
       "QEGg4IFZsKAgUBAoCBQcNYIFBYGCQEGgIFCY8/Zf8HEWFAQKAgWBgkDBWSxYUBAoCBQECt5qBAsK\n",
       "AgWBgkBBoOCHJoMFBYGCQEGg4KgRLCgIFAQKAgWBgp/oChYUBAoCBYGCQMEDs2BBQaAgUBAo+ABV\n",
       "sKAgUBAoCBQECr7MEiwoCBQECgIFgYKzWLCgIFAQKAgUHDWCBQWBgkBBoCBQcNQIFhQECgIFgYIv\n",
       "swQLCgIFgYJAQaAwvsuys6AgUBAoCBQECs5iwYKCQEGgIFBw1AgWFAQKAgWBgkDBUSNYUBAoCBQE\n",
       "CgIFZ7FgQUGgIFAQKDhqBAsKAgWBgkBBoODnkoMFBYGCQEGg4NeAgwUFgYJAQaAgUHDUCBYUBAoC\n",
       "BYGCQGGOs9jKgoJAQaAgUJjrqLGyoCBQECgIFAQKPmEWLCgIFAQKAgXf1QgWFAQKAgWBgkDBu/lg\n",
       "QUGgIFAQKAgUvJsPFhQECgIFgYJ388GCgkBBoCBQECj4V8bBgoJAQaAgUBAo+IRZsKAgUBAoCBQ8\n",
       "MAsWFAQKAgWBgkDBA7NgQUGgIFAQKDhqBAsKAgWBgkBBoOBjwMGCgkBBoCBQECj4SmawoCBQECgI\n",
       "FPz6S7CgIFAQKAgUBAqOGsGCgkBBoCBQECi4iwULCgIFgYJAwb8yDhYUBAoCBYGCQMFRI1hQECgI\n",
       "FAQK3s0HCwoCBYGCQEGg4KgRLCgIFAQKAgWBgrtYsKAgUBAoCBQ8MAsWFAQKAgWBgkDBUSNYUBAo\n",
       "CBQECgIFP5ccLCgIFAQKAgU/lxwsKAgUBAoCBYGCB2bBgoJAQaAgUPBuPlhQECgIFAQKAgVHjWBB\n",
       "QaAgUBAoCBTmPm5jGwsKAgWBgkDBUSNYUBAoCBQECgIFr32CBQWBgkBBoCBQcBYLFhQECgIFgYKj\n",
       "RrCgIFAQKAgUBAqOGsGCgkBBoCBQ8L35YEFBoCBQECgIFOb4GPDKgoJAQaAgUBAoOIsFCwoCBYGC\n",
       "QMFRI1hQECgIFAQKAgW/aR8sKAgUBAoChbkeCK0sKAgUBAoCBYGCo0awoCBQECgIFAQKvswSLCgI\n",
       "FAQKAgW/BhwsKAgUBAoCBYGCo0awoCBQECgIFAQKPicdLCgIFAQKAgUPzIIFBYGCQEGgIFBw1AgW\n",
       "FAQKAgWBgot0sKAgUBAoCBQECnN8JXNlQUGgIFAQKAgUvPYJFhQECgIFgYIHZsGCgkBBoCBQECi4\n",
       "iwULCgIFgYJAQaDgLhYsKAgUBAoChbmPn5rcWFAQKAgUBAoCBUeNYEFBoCBQECjM+TlqbCwoCBQE\n",
       "CgIFgcIcD8xWFhQECgIFgYJAwV0sWFAQKAgUBArezQcLCgIFgYJAQaAw5+fd/MaCgkBBoCBQECh4\n",
       "YBYsKAgUBAoCBRfpYEFBoCBQECgIFLz2CRYUBAoCBYHCnOfP23/Dp1lQECgIFAQKAgUPzIIFBYGC\n",
       "QEGgIFCY6yy2sqAgUBAoCBQcNYIFBYGCQEGgIFBwFwsWFAQKAgWBgudBwYKCQEGgIFAQKDhqBAsK\n",
       "AgWBgkBBoOAsFiwoCBQECgIF3zgMFhQECgIFgYJAYc51F9tYUBAoCBQECgIFZ7FgQUGgIFAQKMx1\n",
       "1FhZUBAoCBQECgIFR41gQUGgIFAQKPgAVbCgIFAQKAgUBArezQcLCgIFgYJAQaDggVmwoCBQECgI\n",
       "FLybDxYUBAoCBYGCQMFrn2BBQaAgUBAoCBScxYIFBYGCQEGg4K1GsKAgUBAoCBQECo4awYKCQEGg\n",
       "IFDwViNYUBAoCBQECgIFR41gQUGgIFAQKAgUvPYJFhQECgIFgcLc64HZxoKCQEGgIFAQKDhqBAsK\n",
       "AgWBgkBBoDDPvW//DZ9mQUGgIFAQKMzjqLGyoCBQECgIFAQKPmEWLCgIFAQKAgVHjWBBQaAgUBAo\n",
       "CBS8mw8WFAQKAgWBgkBhHg/MVhYUBAoCBYGCo0awoCBQECgIFAQKXvsECwoCBYGCQOE/A73wTbrr\n",
       "u5UAAAAASUVORK5CYII=\n",
       "\" transform=\"translate(2161, 47)\"/>\n",
       "</g>\n",
       "<path clip-path=\"url(#clip3300)\" d=\"M 0 0 M2280.7 1262.05 Q2277.09 1262.05 2275.26 1265.62 Q2273.45 1269.16 2273.45 1276.29 Q2273.45 1283.39 2275.26 1286.96 Q2277.09 1290.5 2280.7 1290.5 Q2284.33 1290.5 2286.14 1286.96 Q2287.97 1283.39 2287.97 1276.29 Q2287.97 1269.16 2286.14 1265.62 Q2284.33 1262.05 2280.7 1262.05 M2280.7 1258.35 Q2286.51 1258.35 2289.57 1262.95 Q2292.64 1267.54 2292.64 1276.29 Q2292.64 1285.01 2289.57 1289.62 Q2286.51 1294.2 2280.7 1294.2 Q2274.89 1294.2 2271.81 1289.62 Q2268.76 1285.01 2268.76 1276.29 Q2268.76 1267.54 2271.81 1262.95 Q2274.89 1258.35 2280.7 1258.35 Z\" fill=\"#000000\" fill-rule=\"evenodd\" fill-opacity=\"1\" /><path clip-path=\"url(#clip3300)\" d=\"M 0 0 M2270.21 1022.99 L2288.57 1022.99 L2288.57 1026.92 L2274.5 1026.92 L2274.5 1035.4 Q2275.52 1035.05 2276.53 1034.89 Q2277.55 1034.7 2278.57 1034.7 Q2284.36 1034.7 2287.74 1037.87 Q2291.12 1041.04 2291.12 1046.46 Q2291.12 1052.04 2287.64 1055.14 Q2284.17 1058.22 2277.85 1058.22 Q2275.68 1058.22 2273.41 1057.85 Q2271.16 1057.48 2268.76 1056.74 L2268.76 1052.04 Q2270.84 1053.17 2273.06 1053.73 Q2275.28 1054.28 2277.76 1054.28 Q2281.77 1054.28 2284.1 1052.18 Q2286.44 1050.07 2286.44 1046.46 Q2286.44 1042.85 2284.1 1040.74 Q2281.77 1038.64 2277.76 1038.64 Q2275.89 1038.64 2274.01 1039.05 Q2272.16 1039.47 2270.21 1040.35 L2270.21 1022.99 Z\" fill=\"#000000\" fill-rule=\"evenodd\" fill-opacity=\"1\" /><path clip-path=\"url(#clip3300)\" d=\"M 0 0 M2269.43 817.628 L2277.07 817.628 L2277.07 791.262 L2268.76 792.929 L2268.76 788.67 L2277.02 787.003 L2281.7 787.003 L2281.7 817.628 L2289.33 817.628 L2289.33 821.563 L2269.43 821.563 L2269.43 817.628 Z\" fill=\"#000000\" fill-rule=\"evenodd\" fill-opacity=\"1\" /><path clip-path=\"url(#clip3300)\" d=\"M 0 0 M2304.4 790.082 Q2300.79 790.082 2298.96 793.647 Q2297.16 797.188 2297.16 804.318 Q2297.16 811.424 2298.96 814.989 Q2300.79 818.531 2304.4 818.531 Q2308.04 818.531 2309.84 814.989 Q2311.67 811.424 2311.67 804.318 Q2311.67 797.188 2309.84 793.647 Q2308.04 790.082 2304.4 790.082 M2304.4 786.378 Q2310.21 786.378 2313.27 790.985 Q2316.35 795.568 2316.35 804.318 Q2316.35 813.045 2313.27 817.651 Q2310.21 822.234 2304.4 822.234 Q2298.59 822.234 2295.52 817.651 Q2292.46 813.045 2292.46 804.318 Q2292.46 795.568 2295.52 790.985 Q2298.59 786.378 2304.4 786.378 Z\" fill=\"#000000\" fill-rule=\"evenodd\" fill-opacity=\"1\" /><path clip-path=\"url(#clip3300)\" d=\"M 0 0 M2269.43 581.643 L2277.07 581.643 L2277.07 555.278 L2268.76 556.944 L2268.76 552.685 L2277.02 551.018 L2281.7 551.018 L2281.7 581.643 L2289.33 581.643 L2289.33 585.578 L2269.43 585.578 L2269.43 581.643 Z\" fill=\"#000000\" fill-rule=\"evenodd\" fill-opacity=\"1\" /><path clip-path=\"url(#clip3300)\" d=\"M 0 0 M2294.45 551.018 L2312.81 551.018 L2312.81 554.954 L2298.73 554.954 L2298.73 563.426 Q2299.75 563.079 2300.77 562.917 Q2301.79 562.731 2302.81 562.731 Q2308.59 562.731 2311.97 565.903 Q2315.35 569.074 2315.35 574.491 Q2315.35 580.069 2311.88 583.171 Q2308.41 586.25 2302.09 586.25 Q2299.91 586.25 2297.64 585.879 Q2295.4 585.509 2292.99 584.768 L2292.99 580.069 Q2295.08 581.203 2297.3 581.759 Q2299.52 582.315 2302 582.315 Q2306 582.315 2308.34 580.208 Q2310.68 578.102 2310.68 574.491 Q2310.68 570.879 2308.34 568.773 Q2306 566.667 2302 566.667 Q2300.12 566.667 2298.25 567.083 Q2296.39 567.5 2294.45 568.379 L2294.45 551.018 Z\" fill=\"#000000\" fill-rule=\"evenodd\" fill-opacity=\"1\" /><path clip-path=\"url(#clip3300)\" d=\"M 0 0 M2274.38 345.659 L2290.7 345.659 L2290.7 349.594 L2268.76 349.594 L2268.76 345.659 Q2271.42 342.904 2276 338.274 Q2280.61 333.622 2281.79 332.279 Q2284.03 329.756 2284.91 328.02 Q2285.82 326.261 2285.82 324.571 Q2285.82 321.816 2283.87 320.08 Q2281.95 318.344 2278.85 318.344 Q2276.65 318.344 2274.2 319.108 Q2271.77 319.872 2268.99 321.423 L2268.99 316.701 Q2271.81 315.566 2274.27 314.988 Q2276.72 314.409 2278.76 314.409 Q2284.13 314.409 2287.32 317.094 Q2290.52 319.779 2290.52 324.27 Q2290.52 326.4 2289.7 328.321 Q2288.92 330.219 2286.81 332.812 Q2286.23 333.483 2283.13 336.7 Q2280.03 339.895 2274.38 345.659 Z\" fill=\"#000000\" fill-rule=\"evenodd\" fill-opacity=\"1\" /><path clip-path=\"url(#clip3300)\" d=\"M 0 0 M2305.77 318.113 Q2302.16 318.113 2300.33 321.677 Q2298.52 325.219 2298.52 332.349 Q2298.52 339.455 2300.33 343.02 Q2302.16 346.561 2305.77 346.561 Q2309.4 346.561 2311.21 343.02 Q2313.04 339.455 2313.04 332.349 Q2313.04 325.219 2311.21 321.677 Q2309.4 318.113 2305.77 318.113 M2305.77 314.409 Q2311.58 314.409 2314.64 319.015 Q2317.71 323.599 2317.71 332.349 Q2317.71 341.075 2314.64 345.682 Q2311.58 350.265 2305.77 350.265 Q2299.96 350.265 2296.88 345.682 Q2293.83 341.075 2293.83 332.349 Q2293.83 323.599 2296.88 319.015 Q2299.96 314.409 2305.77 314.409 Z\" fill=\"#000000\" fill-rule=\"evenodd\" fill-opacity=\"1\" /><path clip-path=\"url(#clip3300)\" d=\"M 0 0 M2274.38 109.674 L2290.7 109.674 L2290.7 113.609 L2268.76 113.609 L2268.76 109.674 Q2271.42 106.919 2276 102.29 Q2280.61 97.6371 2281.79 96.2945 Q2284.03 93.7714 2284.91 92.0353 Q2285.82 90.276 2285.82 88.5862 Q2285.82 85.8316 2283.87 84.0955 Q2281.95 82.3594 2278.85 82.3594 Q2276.65 82.3594 2274.2 83.1233 Q2271.77 83.8872 2268.99 85.4381 L2268.99 80.7159 Q2271.81 79.5816 2274.27 79.0029 Q2276.72 78.4242 2278.76 78.4242 Q2284.13 78.4242 2287.32 81.1094 Q2290.52 83.7946 2290.52 88.2853 Q2290.52 90.4149 2289.7 92.3362 Q2288.92 94.2343 2286.81 96.8269 Q2286.23 97.4982 2283.13 100.716 Q2280.03 103.91 2274.38 109.674 Z\" fill=\"#000000\" fill-rule=\"evenodd\" fill-opacity=\"1\" /><path clip-path=\"url(#clip3300)\" d=\"M 0 0 M2295.82 79.0492 L2314.17 79.0492 L2314.17 82.9844 L2300.1 82.9844 L2300.1 91.4566 Q2301.12 91.1093 2302.14 90.9473 Q2303.15 90.7621 2304.17 90.7621 Q2309.96 90.7621 2313.34 93.9334 Q2316.72 97.1047 2316.72 102.521 Q2316.72 108.1 2313.25 111.202 Q2309.77 114.281 2303.45 114.281 Q2301.28 114.281 2299.01 113.91 Q2296.77 113.54 2294.36 112.799 L2294.36 108.1 Q2296.44 109.234 2298.66 109.79 Q2300.89 110.345 2303.36 110.345 Q2307.37 110.345 2309.7 108.239 Q2312.04 106.132 2312.04 102.521 Q2312.04 98.9102 2309.7 96.8038 Q2307.37 94.6973 2303.36 94.6973 Q2301.49 94.6973 2299.61 95.114 Q2297.76 95.5306 2295.82 96.4102 L2295.82 79.0492 Z\" fill=\"#000000\" fill-rule=\"evenodd\" fill-opacity=\"1\" /><polyline clip-path=\"url(#clip3300)\" style=\"stroke:#000000; stroke-width:4; stroke-opacity:1; fill:none\" points=\"\n",
       "  2232.76,1486.45 2232.76,1279.88 2256.76,1279.88 2232.76,1279.88 2232.76,1043.9 2256.76,1043.9 2232.76,1043.9 2232.76,807.912 2256.76,807.912 2232.76,807.912 \n",
       "  2232.76,571.927 2256.76,571.927 2232.76,571.927 2232.76,335.943 2256.76,335.943 2232.76,335.943 2232.76,99.958 2256.76,99.958 2232.76,99.958 2232.76,47.2441 \n",
       "  \n",
       "  \"/>\n",
       "</svg>\n"
      ]
     },
     "execution_count": 266,
     "metadata": {},
     "output_type": "execute_result"
    }
   ],
   "source": [
    "heatmap2 = heatmap(measures, probabilities, log.(utilities_grid), yaxis = :log10, xaxis = :log10, zscale = :log10)"
   ]
  },
  {
   "cell_type": "code",
   "execution_count": null,
   "metadata": {},
   "outputs": [],
   "source": []
  },
  {
   "cell_type": "code",
   "execution_count": null,
   "metadata": {},
   "outputs": [],
   "source": []
  }
 ],
 "metadata": {
  "kernelspec": {
   "display_name": "Julia 1.5.3",
   "language": "julia",
   "name": "julia-1.5"
  },
  "language_info": {
   "file_extension": ".jl",
   "mimetype": "application/julia",
   "name": "julia",
   "version": "1.5.3"
  }
 },
 "nbformat": 4,
 "nbformat_minor": 4
}

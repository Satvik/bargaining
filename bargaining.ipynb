{
 "cells": [
  {
   "cell_type": "code",
   "execution_count": 1,
   "metadata": {},
   "outputs": [
    {
     "data": {
      "text/plain": [
       "Plots.GRBackend()"
      ]
     },
     "execution_count": 1,
     "metadata": {},
     "output_type": "execute_result"
    }
   ],
   "source": [
    "using DataFrames\n",
    "using Underscores\n",
    "using Pkg\n",
    "using Chain\n",
    "using Optim\n",
    "\n",
    "\n",
    "using Plots\n",
    "gr()"
   ]
  },
  {
   "cell_type": "code",
   "execution_count": 2,
   "metadata": {},
   "outputs": [],
   "source": [
    "abstract type Team end\n",
    "struct Aligned <: Team end\n",
    "struct Unaligned <: Team end"
   ]
  },
  {
   "cell_type": "code",
   "execution_count": 3,
   "metadata": {},
   "outputs": [
    {
     "data": {
      "text/plain": [
       "Unaligned()"
      ]
     },
     "execution_count": 3,
     "metadata": {},
     "output_type": "execute_result"
    }
   ],
   "source": [
    "aligned = Aligned()\n",
    "unaligned = Unaligned()"
   ]
  },
  {
   "cell_type": "code",
   "execution_count": 4,
   "metadata": {},
   "outputs": [
    {
     "data": {
      "text/plain": [
       "2"
      ]
     },
     "execution_count": 4,
     "metadata": {},
     "output_type": "execute_result"
    }
   ],
   "source": [
    "world1 = 1\n",
    "world2 = 2"
   ]
  },
  {
   "cell_type": "code",
   "execution_count": 5,
   "metadata": {},
   "outputs": [
    {
     "data": {
      "text/plain": [
       "2-element Array{Int64,1}:\n",
       " 1\n",
       " 2"
      ]
     },
     "execution_count": 5,
     "metadata": {},
     "output_type": "execute_result"
    }
   ],
   "source": [
    "worlds = [world1, world2]"
   ]
  },
  {
   "cell_type": "code",
   "execution_count": 6,
   "metadata": {},
   "outputs": [
    {
     "data": {
      "text/plain": [
       "2-element Array{Team,1}:\n",
       " Aligned()\n",
       " Unaligned()"
      ]
     },
     "execution_count": 6,
     "metadata": {},
     "output_type": "execute_result"
    }
   ],
   "source": [
    "teams = [aligned, unaligned]"
   ]
  },
  {
   "cell_type": "code",
   "execution_count": 7,
   "metadata": {},
   "outputs": [
    {
     "data": {
      "text/plain": [
       "make_rows (generic function with 1 method)"
      ]
     },
     "execution_count": 7,
     "metadata": {},
     "output_type": "execute_result"
    }
   ],
   "source": [
    "function make_rows(teams, worlds, aligned_measure, starting_resources)\n",
    "    rows = []\n",
    "    for i in eachindex(teams), j in eachindex(worlds)\n",
    "        team = teams[i]\n",
    "        world = worlds[j]\n",
    "        if world == worlds[1]\n",
    "            measure = aligned_measure\n",
    "        else\n",
    "            measure = 1.0\n",
    "        end\n",
    "        if i == j\n",
    "            resource = starting_resources\n",
    "        else\n",
    "            resource = 0.0\n",
    "        end\n",
    "        \n",
    "        row = (team = team, world = world, measure = measure, resource = resource)\n",
    "        push!(rows, row)\n",
    "    end\n",
    "    return rows\n",
    "end\n",
    "                \n"
   ]
  },
  {
   "cell_type": "code",
   "execution_count": 8,
   "metadata": {},
   "outputs": [
    {
     "data": {
      "text/html": [
       "<table class=\"data-frame\"><thead><tr><th></th><th>team</th><th>world</th><th>measure</th><th>resource</th></tr><tr><th></th><th>Team</th><th>Int64</th><th>Float64</th><th>Float64</th></tr></thead><tbody><p>4 rows × 4 columns</p><tr><th>1</th><td>Aligned()</td><td>1</td><td>0.1</td><td>1.0e22</td></tr><tr><th>2</th><td>Aligned()</td><td>2</td><td>1.0</td><td>0.0</td></tr><tr><th>3</th><td>Unaligned()</td><td>1</td><td>0.1</td><td>0.0</td></tr><tr><th>4</th><td>Unaligned()</td><td>2</td><td>1.0</td><td>1.0e22</td></tr></tbody></table>"
      ],
      "text/latex": [
       "\\begin{tabular}{r|cccc}\n",
       "\t& team & world & measure & resource\\\\\n",
       "\t\\hline\n",
       "\t& Team & Int64 & Float64 & Float64\\\\\n",
       "\t\\hline\n",
       "\t1 & Aligned() & 1 & 0.1 & 1.0e22 \\\\\n",
       "\t2 & Aligned() & 2 & 1.0 & 0.0 \\\\\n",
       "\t3 & Unaligned() & 1 & 0.1 & 0.0 \\\\\n",
       "\t4 & Unaligned() & 2 & 1.0 & 1.0e22 \\\\\n",
       "\\end{tabular}\n"
      ],
      "text/plain": [
       "4×4 DataFrame\n",
       "│ Row │ team        │ world │ measure │ resource │\n",
       "│     │ \u001b[90mTeam\u001b[39m        │ \u001b[90mInt64\u001b[39m │ \u001b[90mFloat64\u001b[39m │ \u001b[90mFloat64\u001b[39m  │\n",
       "├─────┼─────────────┼───────┼─────────┼──────────┤\n",
       "│ 1   │ Aligned()   │ 1     │ 0.1     │ 1.0e22   │\n",
       "│ 2   │ Aligned()   │ 2     │ 1.0     │ 0.0      │\n",
       "│ 3   │ Unaligned() │ 1     │ 0.1     │ 0.0      │\n",
       "│ 4   │ Unaligned() │ 2     │ 1.0     │ 1.0e22   │"
      ]
     },
     "execution_count": 8,
     "metadata": {},
     "output_type": "execute_result"
    }
   ],
   "source": [
    "test_data = DataFrame(make_rows(teams, worlds, .1, 10.0^22))"
   ]
  },
  {
   "cell_type": "code",
   "execution_count": 106,
   "metadata": {},
   "outputs": [
    {
     "data": {
      "text/plain": [
       "log_measure (generic function with 1 method)"
      ]
     },
     "execution_count": 106,
     "metadata": {},
     "output_type": "execute_result"
    }
   ],
   "source": [
    "# Utility functions\n",
    "\n",
    "function get_utility(data; resource_col = \"resource\")\n",
    "    return data.measure .* log10.(data[!, resource_col] .+ 1.0)\n",
    "end\n",
    "\n",
    "\n",
    "function log_measure(data; resource_col = \"resource\")\n",
    "    return log10.(data.measure) .* log10.(data[!, resource_col] .+ 1.0)\n",
    "end"
   ]
  },
  {
   "cell_type": "code",
   "execution_count": 107,
   "metadata": {},
   "outputs": [
    {
     "data": {
      "text/plain": [
       "4-element Array{Float64,1}:\n",
       "  2.2\n",
       "  0.0\n",
       "  0.0\n",
       " 22.0"
      ]
     },
     "execution_count": 107,
     "metadata": {},
     "output_type": "execute_result"
    }
   ],
   "source": [
    "test_data[\"utility\"] = get_utility(test_data)"
   ]
  },
  {
   "cell_type": "code",
   "execution_count": 108,
   "metadata": {},
   "outputs": [
    {
     "data": {
      "text/html": [
       "<table class=\"data-frame\"><thead><tr><th></th><th>team</th><th>world</th><th>measure</th><th>resource</th><th>utility</th><th>gains</th></tr><tr><th></th><th>Team</th><th>Int64</th><th>Float64</th><th>Float64</th><th>Float64</th><th>Float64</th></tr></thead><tbody><p>4 rows × 6 columns</p><tr><th>1</th><td>Aligned()</td><td>1</td><td>0.1</td><td>1.0e22</td><td>2.2</td><td>-0.10291</td></tr><tr><th>2</th><td>Aligned()</td><td>2</td><td>1.0</td><td>0.0</td><td>0.0</td><td>20.9709</td></tr><tr><th>3</th><td>Unaligned()</td><td>1</td><td>0.1</td><td>0.0</td><td>0.0</td><td>2.19574</td></tr><tr><th>4</th><td>Unaligned()</td><td>2</td><td>1.0</td><td>1.0e22</td><td>22.0</td><td>-0.0426445</td></tr></tbody></table>"
      ],
      "text/latex": [
       "\\begin{tabular}{r|cccccc}\n",
       "\t& team & world & measure & resource & utility & gains\\\\\n",
       "\t\\hline\n",
       "\t& Team & Int64 & Float64 & Float64 & Float64 & Float64\\\\\n",
       "\t\\hline\n",
       "\t1 & Aligned() & 1 & 0.1 & 1.0e22 & 2.2 & -0.10291 \\\\\n",
       "\t2 & Aligned() & 2 & 1.0 & 0.0 & 0.0 & 20.9709 \\\\\n",
       "\t3 & Unaligned() & 1 & 0.1 & 0.0 & 0.0 & 2.19574 \\\\\n",
       "\t4 & Unaligned() & 2 & 1.0 & 1.0e22 & 22.0 & -0.0426445 \\\\\n",
       "\\end{tabular}\n"
      ],
      "text/plain": [
       "4×6 DataFrame\n",
       "│ Row │ team        │ world │ measure │ resource │ utility │ gains      │\n",
       "│     │ \u001b[90mTeam\u001b[39m        │ \u001b[90mInt64\u001b[39m │ \u001b[90mFloat64\u001b[39m │ \u001b[90mFloat64\u001b[39m  │ \u001b[90mFloat64\u001b[39m │ \u001b[90mFloat64\u001b[39m    │\n",
       "├─────┼─────────────┼───────┼─────────┼──────────┼─────────┼────────────┤\n",
       "│ 1   │ Aligned()   │ 1     │ 0.1     │ 1.0e22   │ 2.2     │ -0.10291   │\n",
       "│ 2   │ Aligned()   │ 2     │ 1.0     │ 0.0      │ 0.0     │ 20.9709    │\n",
       "│ 3   │ Unaligned() │ 1     │ 0.1     │ 0.0      │ 0.0     │ 2.19574    │\n",
       "│ 4   │ Unaligned() │ 2     │ 1.0     │ 1.0e22   │ 22.0    │ -0.0426445 │"
      ]
     },
     "execution_count": 108,
     "metadata": {},
     "output_type": "execute_result"
    }
   ],
   "source": [
    "test_data"
   ]
  },
  {
   "cell_type": "code",
   "execution_count": 109,
   "metadata": {},
   "outputs": [
    {
     "data": {
      "text/plain": [
       "equal_split_bargaining_strategy (generic function with 1 method)"
      ]
     },
     "execution_count": 109,
     "metadata": {},
     "output_type": "execute_result"
    }
   ],
   "source": [
    "function equal_split_bargaining_strategy(data)\n",
    "    # A simple bargaining strategy where we assume a successful negotiation\n",
    "    # results in splitting resources evenly across each world. \n",
    "    resources_df = @chain data begin\n",
    "    groupby(_, :world)\n",
    "    combine(_, :resource => sum)\n",
    "    end\n",
    "    \n",
    "    num_teams = length(unique(data.team))\n",
    "    resources_df.resource_sum /= 2\n",
    "    rename!(resources_df, (\"resource_sum\" => \"bargain_resource\")) \n",
    "    return innerjoin(data, resources_df, on=:world)\n",
    "end\n",
    "    \n",
    "    \n",
    "    \n",
    "    \n",
    "   "
   ]
  },
  {
   "cell_type": "code",
   "execution_count": null,
   "metadata": {},
   "outputs": [],
   "source": []
  },
  {
   "cell_type": "code",
   "execution_count": 110,
   "metadata": {},
   "outputs": [
    {
     "data": {
      "text/plain": [
       "get_proportional_resource_split (generic function with 2 methods)"
      ]
     },
     "execution_count": 110,
     "metadata": {},
     "output_type": "execute_result"
    }
   ],
   "source": [
    "\"\"\" data is a DataFrame containing (at least) world and resource columns\n",
    "team_proportions is a DataFrame containing team, world, and proportion columns\n",
    "\"\"\"\n",
    "function get_proportional_resource_split(data::DataFrame, team_proportions::DataFrame)\n",
    "    resources_by_world = @chain data begin\n",
    "    groupby(_, :world)\n",
    "    combine(_, :resource => sum => :total_world_resource)\n",
    "    end\n",
    "    \n",
    "    joint_data = innerjoin(team_proportions, resources_by_world, on=:world, makeunique=true)\n",
    "    joint_data[!, \"resource_after_split\"] = joint_data.total_world_resource .* joint_data.proportion\n",
    "    \n",
    "    return joint_data\n",
    "end\n",
    "\n",
    "function get_proportional_resource_split(data::DataFrame, team_proportions::Array)\n",
    "    team_proportions_df = copy(data)\n",
    "    team_proportions_df[!, \"proportion\"] = team_proportions\n",
    "    return get_proportional_resource_split(data, team_proportions_df)\n",
    "end"
   ]
  },
  {
   "cell_type": "code",
   "execution_count": 111,
   "metadata": {},
   "outputs": [
    {
     "data": {
      "text/plain": [
       "4-element Array{Float64,1}:\n",
       " 0.5\n",
       " 0.5\n",
       " 0.5\n",
       " 0.5"
      ]
     },
     "execution_count": 111,
     "metadata": {},
     "output_type": "execute_result"
    }
   ],
   "source": [
    "test_team_proportions = test_data[:, [\"team\", \"world\"]]\n",
    "test_team_proportions[!, \"proportion\"] .= .5"
   ]
  },
  {
   "cell_type": "code",
   "execution_count": 112,
   "metadata": {},
   "outputs": [
    {
     "data": {
      "text/html": [
       "<table class=\"data-frame\"><thead><tr><th></th><th>team</th><th>world</th><th>proportion</th><th>total_world_resource</th><th>resource_after_split</th></tr><tr><th></th><th>Team</th><th>Int64</th><th>Float64</th><th>Float64</th><th>Float64</th></tr></thead><tbody><p>4 rows × 5 columns</p><tr><th>1</th><td>Aligned()</td><td>1</td><td>0.5</td><td>1.0e22</td><td>5.0e21</td></tr><tr><th>2</th><td>Aligned()</td><td>2</td><td>0.5</td><td>1.0e22</td><td>5.0e21</td></tr><tr><th>3</th><td>Unaligned()</td><td>1</td><td>0.5</td><td>1.0e22</td><td>5.0e21</td></tr><tr><th>4</th><td>Unaligned()</td><td>2</td><td>0.5</td><td>1.0e22</td><td>5.0e21</td></tr></tbody></table>"
      ],
      "text/latex": [
       "\\begin{tabular}{r|ccccc}\n",
       "\t& team & world & proportion & total\\_world\\_resource & resource\\_after\\_split\\\\\n",
       "\t\\hline\n",
       "\t& Team & Int64 & Float64 & Float64 & Float64\\\\\n",
       "\t\\hline\n",
       "\t1 & Aligned() & 1 & 0.5 & 1.0e22 & 5.0e21 \\\\\n",
       "\t2 & Aligned() & 2 & 0.5 & 1.0e22 & 5.0e21 \\\\\n",
       "\t3 & Unaligned() & 1 & 0.5 & 1.0e22 & 5.0e21 \\\\\n",
       "\t4 & Unaligned() & 2 & 0.5 & 1.0e22 & 5.0e21 \\\\\n",
       "\\end{tabular}\n"
      ],
      "text/plain": [
       "4×5 DataFrame. Omitted printing of 1 columns\n",
       "│ Row │ team        │ world │ proportion │ total_world_resource │\n",
       "│     │ \u001b[90mTeam\u001b[39m        │ \u001b[90mInt64\u001b[39m │ \u001b[90mFloat64\u001b[39m    │ \u001b[90mFloat64\u001b[39m              │\n",
       "├─────┼─────────────┼───────┼────────────┼──────────────────────┤\n",
       "│ 1   │ Aligned()   │ 1     │ 0.5        │ 1.0e22               │\n",
       "│ 2   │ Aligned()   │ 2     │ 0.5        │ 1.0e22               │\n",
       "│ 3   │ Unaligned() │ 1     │ 0.5        │ 1.0e22               │\n",
       "│ 4   │ Unaligned() │ 2     │ 0.5        │ 1.0e22               │"
      ]
     },
     "execution_count": 112,
     "metadata": {},
     "output_type": "execute_result"
    }
   ],
   "source": [
    "get_proportional_resource_split(test_data, test_team_proportions)"
   ]
  },
  {
   "cell_type": "code",
   "execution_count": 113,
   "metadata": {},
   "outputs": [
    {
     "data": {
      "text/html": [
       "<table class=\"data-frame\"><thead><tr><th></th><th>team</th><th>world</th><th>measure</th><th>resource</th><th>utility</th><th>gains</th></tr><tr><th></th><th>Team</th><th>Int64</th><th>Float64</th><th>Float64</th><th>Float64</th><th>Float64</th></tr></thead><tbody><p>4 rows × 6 columns</p><tr><th>1</th><td>Aligned()</td><td>1</td><td>0.1</td><td>1.0e22</td><td>2.2</td><td>-0.10291</td></tr><tr><th>2</th><td>Aligned()</td><td>2</td><td>1.0</td><td>0.0</td><td>0.0</td><td>20.9709</td></tr><tr><th>3</th><td>Unaligned()</td><td>1</td><td>0.1</td><td>0.0</td><td>0.0</td><td>2.19574</td></tr><tr><th>4</th><td>Unaligned()</td><td>2</td><td>1.0</td><td>1.0e22</td><td>22.0</td><td>-0.0426445</td></tr></tbody></table>"
      ],
      "text/latex": [
       "\\begin{tabular}{r|cccccc}\n",
       "\t& team & world & measure & resource & utility & gains\\\\\n",
       "\t\\hline\n",
       "\t& Team & Int64 & Float64 & Float64 & Float64 & Float64\\\\\n",
       "\t\\hline\n",
       "\t1 & Aligned() & 1 & 0.1 & 1.0e22 & 2.2 & -0.10291 \\\\\n",
       "\t2 & Aligned() & 2 & 1.0 & 0.0 & 0.0 & 20.9709 \\\\\n",
       "\t3 & Unaligned() & 1 & 0.1 & 0.0 & 0.0 & 2.19574 \\\\\n",
       "\t4 & Unaligned() & 2 & 1.0 & 1.0e22 & 22.0 & -0.0426445 \\\\\n",
       "\\end{tabular}\n"
      ],
      "text/plain": [
       "4×6 DataFrame\n",
       "│ Row │ team        │ world │ measure │ resource │ utility │ gains      │\n",
       "│     │ \u001b[90mTeam\u001b[39m        │ \u001b[90mInt64\u001b[39m │ \u001b[90mFloat64\u001b[39m │ \u001b[90mFloat64\u001b[39m  │ \u001b[90mFloat64\u001b[39m │ \u001b[90mFloat64\u001b[39m    │\n",
       "├─────┼─────────────┼───────┼─────────┼──────────┼─────────┼────────────┤\n",
       "│ 1   │ Aligned()   │ 1     │ 0.1     │ 1.0e22   │ 2.2     │ -0.10291   │\n",
       "│ 2   │ Aligned()   │ 2     │ 1.0     │ 0.0      │ 0.0     │ 20.9709    │\n",
       "│ 3   │ Unaligned() │ 1     │ 0.1     │ 0.0      │ 0.0     │ 2.19574    │\n",
       "│ 4   │ Unaligned() │ 2     │ 1.0     │ 1.0e22   │ 22.0    │ -0.0426445 │"
      ]
     },
     "execution_count": 113,
     "metadata": {},
     "output_type": "execute_result"
    }
   ],
   "source": [
    "test_data"
   ]
  },
  {
   "cell_type": "code",
   "execution_count": 114,
   "metadata": {},
   "outputs": [
    {
     "data": {
      "text/plain": [
       "get_gains_df (generic function with 1 method)"
      ]
     },
     "execution_count": 114,
     "metadata": {},
     "output_type": "execute_result"
    }
   ],
   "source": [
    "\"\"\" Calculate the Nash Bargaining Solution\n",
    "per https://en.wikipedia.org/wiki/Cooperative_bargaining#The_Nash_bargaining_solution\n",
    "The NBS is the source distribution that maximizes the product of each teams gains\n",
    "relative to the utility they gain on disagreement\n",
    "(u(x) - u(d))(v(x) - v(d))\n",
    "\"\"\"\n",
    "function NBS(data, utility_fn, disagreement_strategy; optimizer=NelderMead)\n",
    "    \n",
    "    \"\"\" Set up the function to be maximized\n",
    "        as input, take team aligned's share of resources for each\n",
    "        world. \"\"\"\n",
    "\n",
    "    \n",
    "    \"\"\" Optimization libraries assume we're trying to minimize a functionrather than\n",
    "    maximize, so we just multiply by -1\"\"\"\n",
    "    function loss(aligned_resources) \n",
    "        return -1 * get_gains(aligned_resources, data, utility_fn, disagreement_strategy)\n",
    "    end\n",
    "    \n",
    "    inner_optimizer = optimizer()\n",
    "    results = optimize(loss, [0.0, 0.0], [1.0, 1.0], [0.5, 0.5], Fminbox(inner_optimizer), Optim.Options(time_limit = 2.0))\n",
    "    return results\n",
    "end\n",
    "    \n",
    " function get_gains(aligned_resources::Array, data, utility_fn, disagreement_strategy)\n",
    "    gains_by_team = get_gains_df(aligned_resources, data, utility_fn, disagreement_strategy)\n",
    "\n",
    "    objective = prod(gains_by_team.gains)\n",
    "    return objective\n",
    "end       \n",
    "    \n",
    "function get_gains_df(aligned_resources::Array, data, utility_fn, disagreement_strategy)\n",
    "    unaligned_resources = 1.0 .- aligned_resources\n",
    "    all_resources = vcat(aligned_resources, unaligned_resources)\n",
    "    split_resources = get_proportional_resource_split(data, all_resources)\n",
    "    proposed_utilities = utility_fn(split_resources, resource_col=\"resource_after_split\")\n",
    "    disagreement_utilities = disagreement_strategy(split_resources, resource_col=\"resource\") \n",
    "\n",
    "    data[!, \"gains\"] .= proposed_utilities .- disagreement_utilities\n",
    "    gains_by_team = @chain data begin \n",
    "        groupby(_, :team)\n",
    "        combine(_, :gains => sum => :gains)\n",
    "    end\n",
    "    return gains_by_team\n",
    "end   "
   ]
  },
  {
   "cell_type": "code",
   "execution_count": 115,
   "metadata": {},
   "outputs": [
    {
     "data": {
      "text/plain": [
       "1-element Array{Float64,1}:\n",
       " 22.0"
      ]
     },
     "execution_count": 115,
     "metadata": {},
     "output_type": "execute_result"
    }
   ],
   "source": [
    "# Check world 2 utility\n",
    "@chain test_data begin\n",
    "    filter(:world => ==(world2), _)\n",
    "    combine(_, :resource => sum => :resource, :measure => maximum => :measure)\n",
    "    get_utility\n",
    "end\n",
    "    "
   ]
  },
  {
   "cell_type": "code",
   "execution_count": 116,
   "metadata": {},
   "outputs": [
    {
     "data": {
      "text/html": [
       "<table class=\"data-frame\"><thead><tr><th></th><th>team</th><th>gains</th></tr><tr><th></th><th>Team</th><th>Float64</th></tr></thead><tbody><p>2 rows × 2 columns</p><tr><th>1</th><td>Aligned()</td><td>22.0</td></tr><tr><th>2</th><td>Unaligned()</td><td>-22.0</td></tr></tbody></table>"
      ],
      "text/latex": [
       "\\begin{tabular}{r|cc}\n",
       "\t& team & gains\\\\\n",
       "\t\\hline\n",
       "\t& Team & Float64\\\\\n",
       "\t\\hline\n",
       "\t1 & Aligned() & 22.0 \\\\\n",
       "\t2 & Unaligned() & -22.0 \\\\\n",
       "\\end{tabular}\n"
      ],
      "text/plain": [
       "2×2 DataFrame\n",
       "│ Row │ team        │ gains   │\n",
       "│     │ \u001b[90mTeam\u001b[39m        │ \u001b[90mFloat64\u001b[39m │\n",
       "├─────┼─────────────┼─────────┤\n",
       "│ 1   │ Aligned()   │ 22.0    │\n",
       "│ 2   │ Unaligned() │ -22.0   │"
      ]
     },
     "execution_count": 116,
     "metadata": {},
     "output_type": "execute_result"
    }
   ],
   "source": [
    "# Assigning all the resources in world 2 to team aligned should increase its\n",
    "# utility by the above amount (since it starts at 0), and decrease\n",
    "# team unaligned's utility by the same amount\n",
    "get_gains_df([1.0, 1.00], test_data, get_utility, get_utility)"
   ]
  },
  {
   "cell_type": "code",
   "execution_count": 117,
   "metadata": {
    "scrolled": false
   },
   "outputs": [
    {
     "name": "stdout",
     "output_type": "stream",
     "text": [
      "  0.195205 seconds (652.87 k allocations: 38.644 MiB)\n"
     ]
    },
    {
     "data": {
      "text/plain": [
       " * Status: success\n",
       "\n",
       " * Candidate solution\n",
       "    Final objective value:     -4.493076e+01\n",
       "\n",
       " * Found with\n",
       "    Algorithm:     Fminbox with Nelder-Mead\n",
       "\n",
       " * Convergence measures\n",
       "    |x - x'|               = 0.00e+00 ≤ 0.0e+00\n",
       "    |x - x'|/|x'|          = 0.00e+00 ≤ 0.0e+00\n",
       "    |f(x) - f(x')|         = 0.00e+00 ≤ 0.0e+00\n",
       "    |f(x) - f(x')|/|f(x')| = 0.00e+00 ≤ 0.0e+00\n",
       "    |g(x)|                 = 9.35e-02 ≰ 1.0e-08\n",
       "\n",
       " * Work counters\n",
       "    Seconds run:   0  (vs limit 2)\n",
       "    Iterations:    3\n",
       "    f(x) calls:    165\n",
       "    ∇f(x) calls:   1\n"
      ]
     },
     "execution_count": 117,
     "metadata": {},
     "output_type": "execute_result"
    }
   ],
   "source": [
    "@time test_NBS = NBS(test_data, get_utility, get_utility; optimizer=NelderMead)"
   ]
  },
  {
   "cell_type": "code",
   "execution_count": 118,
   "metadata": {},
   "outputs": [
    {
     "data": {
      "text/plain": [
       "2-element Array{Float64,1}:\n",
       " 0.09351900737980039\n",
       " 0.09352568445050669"
      ]
     },
     "execution_count": 118,
     "metadata": {},
     "output_type": "execute_result"
    }
   ],
   "source": [
    "test_NBS.minimizer"
   ]
  },
  {
   "cell_type": "code",
   "execution_count": 119,
   "metadata": {},
   "outputs": [
    {
     "data": {
      "text/html": [
       "<table class=\"data-frame\"><thead><tr><th></th><th>team</th><th>world</th><th>measure</th><th>resource</th><th>utility</th><th>gains</th><th>proportion</th><th>total_world_resource</th></tr><tr><th></th><th>Team</th><th>Int64</th><th>Float64</th><th>Float64</th><th>Float64</th><th>Float64</th><th>Float64</th><th>Float64</th></tr></thead><tbody><p>4 rows × 9 columns (omitted printing of 1 columns)</p><tr><th>1</th><td>Aligned()</td><td>1</td><td>0.1</td><td>1.0e22</td><td>2.2</td><td>-0.10291</td><td>0.093519</td><td>1.0e22</td></tr><tr><th>2</th><td>Aligned()</td><td>2</td><td>1.0</td><td>0.0</td><td>0.0</td><td>20.9709</td><td>0.0935257</td><td>1.0e22</td></tr><tr><th>3</th><td>Unaligned()</td><td>1</td><td>0.1</td><td>0.0</td><td>0.0</td><td>2.19574</td><td>0.906481</td><td>1.0e22</td></tr><tr><th>4</th><td>Unaligned()</td><td>2</td><td>1.0</td><td>1.0e22</td><td>22.0</td><td>-0.0426445</td><td>0.906474</td><td>1.0e22</td></tr></tbody></table>"
      ],
      "text/latex": [
       "\\begin{tabular}{r|ccccccccc}\n",
       "\t& team & world & measure & resource & utility & gains & proportion & total\\_world\\_resource & \\\\\n",
       "\t\\hline\n",
       "\t& Team & Int64 & Float64 & Float64 & Float64 & Float64 & Float64 & Float64 & \\\\\n",
       "\t\\hline\n",
       "\t1 & Aligned() & 1 & 0.1 & 1.0e22 & 2.2 & -0.10291 & 0.093519 & 1.0e22 & $\\dots$ \\\\\n",
       "\t2 & Aligned() & 2 & 1.0 & 0.0 & 0.0 & 20.9709 & 0.0935257 & 1.0e22 & $\\dots$ \\\\\n",
       "\t3 & Unaligned() & 1 & 0.1 & 0.0 & 0.0 & 2.19574 & 0.906481 & 1.0e22 & $\\dots$ \\\\\n",
       "\t4 & Unaligned() & 2 & 1.0 & 1.0e22 & 22.0 & -0.0426445 & 0.906474 & 1.0e22 & $\\dots$ \\\\\n",
       "\\end{tabular}\n"
      ],
      "text/plain": [
       "4×9 DataFrame. Omitted printing of 3 columns\n",
       "│ Row │ team        │ world │ measure │ resource │ utility │ gains      │\n",
       "│     │ \u001b[90mTeam\u001b[39m        │ \u001b[90mInt64\u001b[39m │ \u001b[90mFloat64\u001b[39m │ \u001b[90mFloat64\u001b[39m  │ \u001b[90mFloat64\u001b[39m │ \u001b[90mFloat64\u001b[39m    │\n",
       "├─────┼─────────────┼───────┼─────────┼──────────┼─────────┼────────────┤\n",
       "│ 1   │ Aligned()   │ 1     │ 0.1     │ 1.0e22   │ 2.2     │ -0.10291   │\n",
       "│ 2   │ Aligned()   │ 2     │ 1.0     │ 0.0      │ 0.0     │ 20.9709    │\n",
       "│ 3   │ Unaligned() │ 1     │ 0.1     │ 0.0      │ 0.0     │ 2.19574    │\n",
       "│ 4   │ Unaligned() │ 2     │ 1.0     │ 1.0e22   │ 22.0    │ -0.0426445 │"
      ]
     },
     "execution_count": 119,
     "metadata": {},
     "output_type": "execute_result"
    }
   ],
   "source": [
    "get_proportional_resource_split(test_data, vcat(test_NBS.minimizer, 1 .- test_NBS.minimizer)) "
   ]
  },
  {
   "cell_type": "code",
   "execution_count": 120,
   "metadata": {},
   "outputs": [
    {
     "data": {
      "text/plain": [
       "standard_failure (generic function with 1 method)"
      ]
     },
     "execution_count": 120,
     "metadata": {},
     "output_type": "execute_result"
    }
   ],
   "source": [
    "function standard_failure(data)\n",
    "    return get_utility(data, resource_col=\"resource\")\n",
    "end"
   ]
  },
  {
   "cell_type": "code",
   "execution_count": 121,
   "metadata": {},
   "outputs": [
    {
     "data": {
      "text/plain": [
       "probability_from_odds (generic function with 1 method)"
      ]
     },
     "execution_count": 121,
     "metadata": {},
     "output_type": "execute_result"
    }
   ],
   "source": [
    "function probability_from_odds(odds)\n",
    "    return odds / (odds + 1.0)\n",
    "end"
   ]
  },
  {
   "cell_type": "code",
   "execution_count": 122,
   "metadata": {},
   "outputs": [
    {
     "data": {
      "text/plain": [
       "odds_from_probability (generic function with 1 method)"
      ]
     },
     "execution_count": 122,
     "metadata": {},
     "output_type": "execute_result"
    }
   ],
   "source": [
    "function odds_from_probability(probability)\n",
    "    return probability / (1.0 - probability)\n",
    "end"
   ]
  },
  {
   "cell_type": "code",
   "execution_count": 123,
   "metadata": {},
   "outputs": [
    {
     "data": {
      "text/plain": [
       "0.9"
      ]
     },
     "execution_count": 123,
     "metadata": {},
     "output_type": "execute_result"
    }
   ],
   "source": [
    "9 |> probability_from_odds"
   ]
  },
  {
   "cell_type": "code",
   "execution_count": 124,
   "metadata": {},
   "outputs": [
    {
     "data": {
      "text/plain": [
       "9.000000000000002"
      ]
     },
     "execution_count": 124,
     "metadata": {},
     "output_type": "execute_result"
    }
   ],
   "source": [
    ".9 |> odds_from_probability"
   ]
  },
  {
   "cell_type": "code",
   "execution_count": 125,
   "metadata": {},
   "outputs": [
    {
     "data": {
      "text/plain": [
       "expected_utilities (generic function with 1 method)"
      ]
     },
     "execution_count": 125,
     "metadata": {},
     "output_type": "execute_result"
    }
   ],
   "source": [
    "function expected_utilities(data, utility_fn, bargaining_strategy, bargain_failure_utility, odds_bargaining_success)\n",
    "    # Get expected utility grouped by team, based on the utility, bargaining strategy, and probability\n",
    "    # that bargaining succeeds\n",
    "    aligned_resource_bargained = bargaining_strategy(data, utility_fn, bargain_failure_utility).minimizer\n",
    "    data_with_bargain_resources::DataFrame = get_proportional_resource_split(data, vcat(aligned_resource_bargained, 1 .- aligned_resource_bargained))\n",
    "    bargain_success_utility = utility_fn(data_with_bargain_resources, resource_col=\"resource_after_split\")\n",
    "    bargain_fail_utility = bargain_failure_utility(data_with_bargain_resources)\n",
    "    p = probability_from_odds(odds_bargaining_success)\n",
    "    data_with_bargain_resources[!, \"expected_utility\"] = p .* bargain_success_utility + (1 - p) .* bargain_fail_utility\n",
    "    return data_with_bargain_resources\n",
    "end\n",
    "    \n",
    "    "
   ]
  },
  {
   "cell_type": "code",
   "execution_count": 126,
   "metadata": {},
   "outputs": [
    {
     "data": {
      "text/plain": [
       "ExperimentParameters2"
      ]
     },
     "execution_count": 126,
     "metadata": {},
     "output_type": "execute_result"
    }
   ],
   "source": [
    "import Base.@kwdef\n",
    "\n",
    "@kwdef struct ExperimentParameters\n",
    "    teams::Array{Team}\n",
    "    worlds::Array{Int}\n",
    "    utility_fn::Function\n",
    "    bargaining_strategy::Function\n",
    "    bargain_failure_strategy::Function\n",
    "    initial_resource::Float64\n",
    "end"
   ]
  },
  {
   "cell_type": "code",
   "execution_count": 127,
   "metadata": {},
   "outputs": [
    {
     "data": {
      "text/plain": [
       "ExperimentParameters2(Team[Aligned(), Unaligned()], [1, 2], get_utility, NBS, get_utility, 1.0e22)"
      ]
     },
     "execution_count": 127,
     "metadata": {},
     "output_type": "execute_result"
    }
   ],
   "source": [
    "baseline_parameters = ExperimentParameters(\n",
    "    teams=teams,\n",
    "    worlds=worlds,\n",
    "    utility_fn=get_utility,\n",
    "    bargaining_strategy=NBS,\n",
    "    bargain_failure_strategy=get_utility,\n",
    "    initial_resource=1e22)"
   ]
  },
  {
   "cell_type": "code",
   "execution_count": 128,
   "metadata": {},
   "outputs": [
    {
     "data": {
      "text/plain": [
       "ExperimentParameters2(Team[Aligned(), Unaligned()], [1, 2], log_measure, NBS, get_utility, 1.0e22)"
      ]
     },
     "execution_count": 128,
     "metadata": {},
     "output_type": "execute_result"
    }
   ],
   "source": [
    "log_measure_parameters = ExperimentParameters(\n",
    "    teams=teams,\n",
    "    worlds=worlds,\n",
    "    utility_fn=log_measure,\n",
    "    bargaining_strategy=NBS,\n",
    "    bargain_failure_strategy=get_utility,\n",
    "    initial_resource=1e22)"
   ]
  },
  {
   "cell_type": "code",
   "execution_count": 129,
   "metadata": {},
   "outputs": [
    {
     "data": {
      "text/plain": [
       "aligned_utility (generic function with 2 methods)"
      ]
     },
     "execution_count": 129,
     "metadata": {},
     "output_type": "execute_result"
    }
   ],
   "source": [
    "function aligned_utility(params::ExperimentParameters, odds_bargaining_success, aligned_measure)\n",
    "    df = make_rows(params.teams, params.worlds, aligned_measure, params.initial_resource) |> DataFrame\n",
    "    eu = expected_utilities(df, params.utility_fn, params.bargaining_strategy, params.bargain_failure_strategy, odds_bargaining_success)\n",
    "    return @_ eu |> filter(_.team == aligned, __) |> sum(__.expected_utility)\n",
    "end"
   ]
  },
  {
   "cell_type": "code",
   "execution_count": 130,
   "metadata": {},
   "outputs": [
    {
     "data": {
      "text/plain": [
       "ExperimentParameters2(Team[Aligned(), Unaligned()], [1, 2], log_measure, NBS, get_utility, 1.0e22)"
      ]
     },
     "execution_count": 130,
     "metadata": {},
     "output_type": "execute_result"
    }
   ],
   "source": [
    "# Change this before running the cells below + graphs\n",
    "params_to_display = log_measure_parameters"
   ]
  },
  {
   "cell_type": "code",
   "execution_count": 131,
   "metadata": {},
   "outputs": [
    {
     "data": {
      "text/plain": [
       "2004.0"
      ]
     },
     "execution_count": 131,
     "metadata": {},
     "output_type": "execute_result"
    }
   ],
   "source": [
    "aligned_utility(params_to_display, .1, 100)"
   ]
  },
  {
   "cell_type": "code",
   "execution_count": null,
   "metadata": {},
   "outputs": [],
   "source": []
  },
  {
   "cell_type": "code",
   "execution_count": 132,
   "metadata": {},
   "outputs": [
    {
     "data": {
      "text/plain": [
       "aligned_gain_ratio (generic function with 2 methods)"
      ]
     },
     "execution_count": 132,
     "metadata": {},
     "output_type": "execute_result"
    }
   ],
   "source": [
    "function aligned_gain_ratio(params::ExperimentParameters2, odds, measure; step_size = 1.01)\n",
    "    default = aligned_utility(params, odds, measure)\n",
    "    gain_from_increased_measure = aligned_utility(params, odds, measure * step_size)\n",
    "    gain_from_increased_bargaining = aligned_utility(params, odds * step_size, measure)\n",
    "    \n",
    "    return ((gain_from_increased_measure - gain_from_increased_bargaining) / default)\n",
    "end\n",
    "    "
   ]
  },
  {
   "cell_type": "code",
   "execution_count": 133,
   "metadata": {},
   "outputs": [
    {
     "data": {
      "text/plain": [
       "25"
      ]
     },
     "execution_count": 133,
     "metadata": {},
     "output_type": "execute_result"
    }
   ],
   "source": [
    "number_of_points = 25"
   ]
  },
  {
   "cell_type": "code",
   "execution_count": 134,
   "metadata": {},
   "outputs": [
    {
     "data": {
      "text/plain": [
       "25-element Array{Float64,1}:\n",
       "    0.001\n",
       "    0.0017782794100389228\n",
       "    0.0031622776601683794\n",
       "    0.005623413251903491\n",
       "    0.01\n",
       "    0.01778279410038923\n",
       "    0.03162277660168379\n",
       "    0.05623413251903491\n",
       "    0.1\n",
       "    0.1778279410038923\n",
       "    0.3162277660168381\n",
       "    0.5623413251903487\n",
       "    1.0\n",
       "    1.7782794100389228\n",
       "    3.1622776601683795\n",
       "    5.623413251903491\n",
       "   10.0\n",
       "   17.78279410038923\n",
       "   31.622776601683793\n",
       "   56.23413251903491\n",
       "  100.0\n",
       "  177.82794100389228\n",
       "  316.22776601683796\n",
       "  562.341325190349\n",
       " 1000.0"
      ]
     },
     "execution_count": 134,
     "metadata": {},
     "output_type": "execute_result"
    }
   ],
   "source": [
    "measures = [10.0^n for n in LinRange(-3, 3, number_of_points)]"
   ]
  },
  {
   "cell_type": "code",
   "execution_count": 135,
   "metadata": {},
   "outputs": [
    {
     "data": {
      "text/plain": [
       "25-element Array{Float64,1}:\n",
       "   0.01\n",
       "   0.01467799267622069\n",
       "   0.021544346900318846\n",
       "   0.03162277660168379\n",
       "   0.046415888336127774\n",
       "   0.06812920690579616\n",
       "   0.1\n",
       "   0.14677992676220702\n",
       "   0.21544346900318828\n",
       "   0.31622776601683794\n",
       "   0.4641588833612781\n",
       "   0.681292069057961\n",
       "   1.0\n",
       "   1.467799267622069\n",
       "   2.1544346900318843\n",
       "   3.1622776601683795\n",
       "   4.6415888336127775\n",
       "   6.812920690579615\n",
       "  10.0\n",
       "  14.67799267622069\n",
       "  21.544346900318846\n",
       "  31.622776601683793\n",
       "  46.41588833612777\n",
       "  68.12920690579615\n",
       " 100.0"
      ]
     },
     "execution_count": 135,
     "metadata": {},
     "output_type": "execute_result"
    }
   ],
   "source": [
    "odds = [10.0^n for n in LinRange(-2, 2, number_of_points)]"
   ]
  },
  {
   "cell_type": "code",
   "execution_count": 136,
   "metadata": {},
   "outputs": [
    {
     "data": {
      "text/plain": [
       "25×25 Array{Tuple{Float64,Float64},2}:\n",
       " (0.01, 0.001)       (0.01, 0.00177828)       …  (0.01, 1000.0)\n",
       " (0.014678, 0.001)   (0.014678, 0.00177828)      (0.014678, 1000.0)\n",
       " (0.0215443, 0.001)  (0.0215443, 0.00177828)     (0.0215443, 1000.0)\n",
       " (0.0316228, 0.001)  (0.0316228, 0.00177828)     (0.0316228, 1000.0)\n",
       " (0.0464159, 0.001)  (0.0464159, 0.00177828)     (0.0464159, 1000.0)\n",
       " (0.0681292, 0.001)  (0.0681292, 0.00177828)  …  (0.0681292, 1000.0)\n",
       " (0.1, 0.001)        (0.1, 0.00177828)           (0.1, 1000.0)\n",
       " (0.14678, 0.001)    (0.14678, 0.00177828)       (0.14678, 1000.0)\n",
       " (0.215443, 0.001)   (0.215443, 0.00177828)      (0.215443, 1000.0)\n",
       " (0.316228, 0.001)   (0.316228, 0.00177828)      (0.316228, 1000.0)\n",
       " (0.464159, 0.001)   (0.464159, 0.00177828)   …  (0.464159, 1000.0)\n",
       " (0.681292, 0.001)   (0.681292, 0.00177828)      (0.681292, 1000.0)\n",
       " (1.0, 0.001)        (1.0, 0.00177828)           (1.0, 1000.0)\n",
       " (1.4678, 0.001)     (1.4678, 0.00177828)        (1.4678, 1000.0)\n",
       " (2.15443, 0.001)    (2.15443, 0.00177828)       (2.15443, 1000.0)\n",
       " (3.16228, 0.001)    (3.16228, 0.00177828)    …  (3.16228, 1000.0)\n",
       " (4.64159, 0.001)    (4.64159, 0.00177828)       (4.64159, 1000.0)\n",
       " (6.81292, 0.001)    (6.81292, 0.00177828)       (6.81292, 1000.0)\n",
       " (10.0, 0.001)       (10.0, 0.00177828)          (10.0, 1000.0)\n",
       " (14.678, 0.001)     (14.678, 0.00177828)        (14.678, 1000.0)\n",
       " (21.5443, 0.001)    (21.5443, 0.00177828)    …  (21.5443, 1000.0)\n",
       " (31.6228, 0.001)    (31.6228, 0.00177828)       (31.6228, 1000.0)\n",
       " (46.4159, 0.001)    (46.4159, 0.00177828)       (46.4159, 1000.0)\n",
       " (68.1292, 0.001)    (68.1292, 0.00177828)       (68.1292, 1000.0)\n",
       " (100.0, 0.001)      (100.0, 0.00177828)         (100.0, 1000.0)"
      ]
     },
     "execution_count": 136,
     "metadata": {},
     "output_type": "execute_result"
    }
   ],
   "source": [
    "odds_and_measures = Base.product(odds, measures) |> collect"
   ]
  },
  {
   "cell_type": "code",
   "execution_count": null,
   "metadata": {},
   "outputs": [],
   "source": [
    "utilities_grid = map(x -> aligned_utility(params_to_display, x...), odds_and_measures)"
   ]
  },
  {
   "cell_type": "code",
   "execution_count": 144,
   "metadata": {},
   "outputs": [
    {
     "ename": "LoadError",
     "evalue": "InterruptException:",
     "output_type": "error",
     "traceback": [
      "InterruptException:",
      "",
      "Stacktrace:",
      " [1] Array at ./boot.jl:406 [inlined]",
      " [2] Dict{Symbol,Nothing}() at ./dict.jl:90",
      " [3] Set at ./set.jl:6 [inlined]",
      " [4] _combine_prepare(::GroupedDataFrame{DataFrame}, ::Union{Colon, typeof(nrow), Regex, AbstractString, Signed, Symbol, Unsigned, Pair, AbstractArray{T,1} where T, All, Between, InvertedIndex}; keepkeys::Bool, ungroup::Bool, copycols::Bool, keeprows::Bool) at /Users/satvikberi/.julia/packages/DataFrames/GtZ1l/src/groupeddataframe/splitapplycombine.jl:517",
      " [5] #combine#378 at /Users/satvikberi/.julia/packages/DataFrames/GtZ1l/src/groupeddataframe/splitapplycombine.jl:474 [inlined]",
      " [6] combine at /Users/satvikberi/.julia/packages/DataFrames/GtZ1l/src/groupeddataframe/splitapplycombine.jl:474 [inlined]",
      " [7] get_gains_df(::Array{Float64,1}, ::DataFrame, ::Function, ::Function) at ./In[114]:42",
      " [8] get_gains(::Array{Float64,1}, ::DataFrame, ::Function, ::Function) at ./In[114]:26",
      " [9] (::var\"#loss#86\"{DataFrame,typeof(log_measure),typeof(get_utility)})(::Array{Float64,1}) at ./In[114]:17",
      " [10] value(::OnceDifferentiable{Float64,Array{Float64,1},Array{Float64,1}}, ::Array{Float64,1}) at /Users/satvikberi/.julia/packages/NLSolversBase/QPnui/src/interface.jl:19",
      " [11] value(::Optim.BarrierWrapper{OnceDifferentiable{Float64,Array{Float64,1},Array{Float64,1}},Optim.BoxBarrier{Array{Float64,1},Array{Float64,1}},Float64,Float64,Array{Float64,1}}, ::Array{Float64,1}) at /Users/satvikberi/.julia/packages/Optim/onG5j/src/multivariate/solvers/constrained/fminbox.jl:113",
      " [12] update_state!(::Optim.BarrierWrapper{OnceDifferentiable{Float64,Array{Float64,1},Array{Float64,1}},Optim.BoxBarrier{Array{Float64,1},Array{Float64,1}},Float64,Float64,Array{Float64,1}}, ::Optim.NelderMeadState{Array{Float64,1},Float64,Array{Float64,1}}, ::NelderMead{Optim.AffineSimplexer,Optim.AdaptiveParameters}) at /Users/satvikberi/.julia/packages/Optim/onG5j/src/multivariate/solvers/zeroth_order/nelder_mead.jl:287",
      " [13] optimize(::Optim.BarrierWrapper{OnceDifferentiable{Float64,Array{Float64,1},Array{Float64,1}},Optim.BoxBarrier{Array{Float64,1},Array{Float64,1}},Float64,Float64,Array{Float64,1}}, ::Array{Float64,1}, ::NelderMead{Optim.AffineSimplexer,Optim.AdaptiveParameters}, ::Optim.Options{Float64,Nothing}, ::Optim.NelderMeadState{Array{Float64,1},Float64,Array{Float64,1}}) at /Users/satvikberi/.julia/packages/Optim/onG5j/src/multivariate/optimize/optimize.jl:57",
      " [14] optimize(::OnceDifferentiable{Float64,Array{Float64,1},Array{Float64,1}}, ::Array{Float64,1}, ::Array{Float64,1}, ::Array{Float64,1}, ::Fminbox{NelderMead{Optim.AffineSimplexer,Optim.AdaptiveParameters},Float64,Optim.var\"#47#49\"}, ::Optim.Options{Float64,Nothing}) at /Users/satvikberi/.julia/packages/Optim/onG5j/src/multivariate/solvers/constrained/fminbox.jl:390",
      " [15] #optimize#63 at /Users/satvikberi/.julia/packages/Optim/onG5j/src/multivariate/solvers/constrained/fminbox.jl:269 [inlined]",
      " [16] optimize(::Function, ::Array{Float64,1}, ::Array{Float64,1}, ::Array{Float64,1}, ::Fminbox{NelderMead{Optim.AffineSimplexer,Optim.AdaptiveParameters},Float64,Optim.var\"#47#49\"}, ::Optim.Options{Float64,Nothing}) at /Users/satvikberi/.julia/packages/Optim/onG5j/src/multivariate/solvers/constrained/fminbox.jl:265",
      " [17] NBS(::DataFrame, ::Function, ::Function; optimizer::Type{T} where T) at ./In[114]:21",
      " [18] NBS at ./In[114]:9 [inlined]",
      " [19] expected_utilities(::DataFrame, ::Function, ::typeof(NBS), ::typeof(get_utility), ::Float64) at ./In[125]:4",
      " [20] aligned_utility(::ExperimentParameters2, ::Float64, ::Float64) at ./In[129]:3",
      " [21] aligned_gain_ratio(::ExperimentParameters2, ::Float64, ::Float64; step_size::Float64) at ./In[132]:4",
      " [22] aligned_gain_ratio at ./In[132]:2 [inlined]",
      " [23] (::var\"#103#104\")(::Tuple{Float64,Float64}) at ./In[144]:1",
      " [24] iterate at ./generator.jl:47 [inlined]",
      " [25] collect_to!(::Array{Float64,2}, ::Base.Generator{Array{Tuple{Float64,Float64},2},var\"#103#104\"}, ::Int64, ::Int64) at ./array.jl:732",
      " [26] collect_to_with_first!(::Array{Float64,2}, ::Float64, ::Base.Generator{Array{Tuple{Float64,Float64},2},var\"#103#104\"}, ::Int64) at ./array.jl:710",
      " [27] _collect(::Array{Tuple{Float64,Float64},2}, ::Base.Generator{Array{Tuple{Float64,Float64},2},var\"#103#104\"}, ::Base.EltypeUnknown, ::Base.HasShape{2}) at ./array.jl:704",
      " [28] collect_similar(::Array{Tuple{Float64,Float64},2}, ::Base.Generator{Array{Tuple{Float64,Float64},2},var\"#103#104\"}) at ./array.jl:628",
      " [29] map(::Function, ::Array{Tuple{Float64,Float64},2}) at ./abstractarray.jl:2162",
      " [30] top-level scope at In[144]:1",
      " [31] include_string(::Function, ::Module, ::String, ::String) at ./loading.jl:1091"
     ]
    }
   ],
   "source": [
    "gains_grid = map(x -> aligned_gain_ratio(params_to_display, x...), odds_and_measures)"
   ]
  },
  {
   "cell_type": "code",
   "execution_count": 141,
   "metadata": {},
   "outputs": [
    {
     "data": {
      "image/svg+xml": [
       "<?xml version=\"1.0\" encoding=\"utf-8\"?>\n",
       "<svg xmlns=\"http://www.w3.org/2000/svg\" xmlns:xlink=\"http://www.w3.org/1999/xlink\" width=\"600\" height=\"400\" viewBox=\"0 0 2400 1600\">\n",
       "<defs>\n",
       "  <clipPath id=\"clip7200\">\n",
       "    <rect x=\"0\" y=\"0\" width=\"2400\" height=\"1600\"/>\n",
       "  </clipPath>\n",
       "</defs>\n",
       "<path clip-path=\"url(#clip7200)\" d=\"\n",
       "M0 1600 L2400 1600 L2400 0 L0 0  Z\n",
       "  \" fill=\"#ffffff\" fill-rule=\"evenodd\" fill-opacity=\"1\"/>\n",
       "<defs>\n",
       "  <clipPath id=\"clip7201\">\n",
       "    <rect x=\"480\" y=\"0\" width=\"1681\" height=\"1600\"/>\n",
       "  </clipPath>\n",
       "</defs>\n",
       "<path clip-path=\"url(#clip7200)\" d=\"\n",
       "M273.13 1423.18 L2112.76 1423.18 L2112.76 47.2441 L273.13 47.2441  Z\n",
       "  \" fill=\"#ffffff\" fill-rule=\"evenodd\" fill-opacity=\"1\"/>\n",
       "<defs>\n",
       "  <clipPath id=\"clip7202\">\n",
       "    <rect x=\"273\" y=\"47\" width=\"1841\" height=\"1377\"/>\n",
       "  </clipPath>\n",
       "</defs>\n",
       "<polyline clip-path=\"url(#clip7202)\" style=\"stroke:#000000; stroke-width:2; stroke-opacity:0.1; fill:none\" points=\"\n",
       "  309.922,1423.18 309.922,47.2441 \n",
       "  \"/>\n",
       "<polyline clip-path=\"url(#clip7202)\" style=\"stroke:#000000; stroke-width:2; stroke-opacity:0.1; fill:none\" points=\"\n",
       "  604.263,1423.18 604.263,47.2441 \n",
       "  \"/>\n",
       "<polyline clip-path=\"url(#clip7202)\" style=\"stroke:#000000; stroke-width:2; stroke-opacity:0.1; fill:none\" points=\"\n",
       "  898.603,1423.18 898.603,47.2441 \n",
       "  \"/>\n",
       "<polyline clip-path=\"url(#clip7202)\" style=\"stroke:#000000; stroke-width:2; stroke-opacity:0.1; fill:none\" points=\"\n",
       "  1192.94,1423.18 1192.94,47.2441 \n",
       "  \"/>\n",
       "<polyline clip-path=\"url(#clip7202)\" style=\"stroke:#000000; stroke-width:2; stroke-opacity:0.1; fill:none\" points=\"\n",
       "  1487.28,1423.18 1487.28,47.2441 \n",
       "  \"/>\n",
       "<polyline clip-path=\"url(#clip7202)\" style=\"stroke:#000000; stroke-width:2; stroke-opacity:0.1; fill:none\" points=\"\n",
       "  1781.62,1423.18 1781.62,47.2441 \n",
       "  \"/>\n",
       "<polyline clip-path=\"url(#clip7202)\" style=\"stroke:#000000; stroke-width:2; stroke-opacity:0.1; fill:none\" points=\"\n",
       "  2075.96,1423.18 2075.96,47.2441 \n",
       "  \"/>\n",
       "<polyline clip-path=\"url(#clip7202)\" style=\"stroke:#000000; stroke-width:2; stroke-opacity:0.1; fill:none\" points=\"\n",
       "  273.13,1395.66 2112.76,1395.66 \n",
       "  \"/>\n",
       "<polyline clip-path=\"url(#clip7202)\" style=\"stroke:#000000; stroke-width:2; stroke-opacity:0.1; fill:none\" points=\"\n",
       "  273.13,1065.44 2112.76,1065.44 \n",
       "  \"/>\n",
       "<polyline clip-path=\"url(#clip7202)\" style=\"stroke:#000000; stroke-width:2; stroke-opacity:0.1; fill:none\" points=\"\n",
       "  273.13,735.212 2112.76,735.212 \n",
       "  \"/>\n",
       "<polyline clip-path=\"url(#clip7202)\" style=\"stroke:#000000; stroke-width:2; stroke-opacity:0.1; fill:none\" points=\"\n",
       "  273.13,404.987 2112.76,404.987 \n",
       "  \"/>\n",
       "<polyline clip-path=\"url(#clip7202)\" style=\"stroke:#000000; stroke-width:2; stroke-opacity:0.1; fill:none\" points=\"\n",
       "  273.13,74.7628 2112.76,74.7628 \n",
       "  \"/>\n",
       "<polyline clip-path=\"url(#clip7200)\" style=\"stroke:#000000; stroke-width:4; stroke-opacity:1; fill:none\" points=\"\n",
       "  273.13,1423.18 2112.76,1423.18 \n",
       "  \"/>\n",
       "<polyline clip-path=\"url(#clip7200)\" style=\"stroke:#000000; stroke-width:4; stroke-opacity:1; fill:none\" points=\"\n",
       "  273.13,1423.18 273.13,47.2441 \n",
       "  \"/>\n",
       "<polyline clip-path=\"url(#clip7200)\" style=\"stroke:#000000; stroke-width:4; stroke-opacity:1; fill:none\" points=\"\n",
       "  309.922,1423.18 309.922,1406.67 \n",
       "  \"/>\n",
       "<polyline clip-path=\"url(#clip7200)\" style=\"stroke:#000000; stroke-width:4; stroke-opacity:1; fill:none\" points=\"\n",
       "  604.263,1423.18 604.263,1406.67 \n",
       "  \"/>\n",
       "<polyline clip-path=\"url(#clip7200)\" style=\"stroke:#000000; stroke-width:4; stroke-opacity:1; fill:none\" points=\"\n",
       "  898.603,1423.18 898.603,1406.67 \n",
       "  \"/>\n",
       "<polyline clip-path=\"url(#clip7200)\" style=\"stroke:#000000; stroke-width:4; stroke-opacity:1; fill:none\" points=\"\n",
       "  1192.94,1423.18 1192.94,1406.67 \n",
       "  \"/>\n",
       "<polyline clip-path=\"url(#clip7200)\" style=\"stroke:#000000; stroke-width:4; stroke-opacity:1; fill:none\" points=\"\n",
       "  1487.28,1423.18 1487.28,1406.67 \n",
       "  \"/>\n",
       "<polyline clip-path=\"url(#clip7200)\" style=\"stroke:#000000; stroke-width:4; stroke-opacity:1; fill:none\" points=\"\n",
       "  1781.62,1423.18 1781.62,1406.67 \n",
       "  \"/>\n",
       "<polyline clip-path=\"url(#clip7200)\" style=\"stroke:#000000; stroke-width:4; stroke-opacity:1; fill:none\" points=\"\n",
       "  2075.96,1423.18 2075.96,1406.67 \n",
       "  \"/>\n",
       "<polyline clip-path=\"url(#clip7200)\" style=\"stroke:#000000; stroke-width:4; stroke-opacity:1; fill:none\" points=\"\n",
       "  273.13,1395.66 295.205,1395.66 \n",
       "  \"/>\n",
       "<polyline clip-path=\"url(#clip7200)\" style=\"stroke:#000000; stroke-width:4; stroke-opacity:1; fill:none\" points=\"\n",
       "  273.13,1065.44 295.205,1065.44 \n",
       "  \"/>\n",
       "<polyline clip-path=\"url(#clip7200)\" style=\"stroke:#000000; stroke-width:4; stroke-opacity:1; fill:none\" points=\"\n",
       "  273.13,735.212 295.205,735.212 \n",
       "  \"/>\n",
       "<polyline clip-path=\"url(#clip7200)\" style=\"stroke:#000000; stroke-width:4; stroke-opacity:1; fill:none\" points=\"\n",
       "  273.13,404.987 295.205,404.987 \n",
       "  \"/>\n",
       "<polyline clip-path=\"url(#clip7200)\" style=\"stroke:#000000; stroke-width:4; stroke-opacity:1; fill:none\" points=\"\n",
       "  273.13,74.7628 295.205,74.7628 \n",
       "  \"/>\n",
       "<path clip-path=\"url(#clip7200)\" d=\"M 0 0 M265.498 1494.25 L273.137 1494.25 L273.137 1467.89 L264.826 1469.55 L264.826 1465.29 L273.09 1463.63 L277.766 1463.63 L277.766 1494.25 L285.405 1494.25 L285.405 1498.19 L265.498 1498.19 L265.498 1494.25 Z\" fill=\"#000000\" fill-rule=\"evenodd\" fill-opacity=\"1\" /><path clip-path=\"url(#clip7200)\" d=\"M 0 0 M300.474 1466.71 Q296.863 1466.71 295.035 1470.27 Q293.229 1473.81 293.229 1480.94 Q293.229 1488.05 295.035 1491.61 Q296.863 1495.15 300.474 1495.15 Q304.109 1495.15 305.914 1491.61 Q307.743 1488.05 307.743 1480.94 Q307.743 1473.81 305.914 1470.27 Q304.109 1466.71 300.474 1466.71 M300.474 1463 Q306.285 1463 309.34 1467.61 Q312.419 1472.19 312.419 1480.94 Q312.419 1489.67 309.34 1494.28 Q306.285 1498.86 300.474 1498.86 Q294.664 1498.86 291.586 1494.28 Q288.53 1489.67 288.53 1480.94 Q288.53 1472.19 291.586 1467.61 Q294.664 1463 300.474 1463 Z\" fill=\"#000000\" fill-rule=\"evenodd\" fill-opacity=\"1\" /><path clip-path=\"url(#clip7200)\" d=\"M 0 0 M312.419 1458.68 L322.556 1458.68 L322.556 1461.77 L312.419 1461.77 L312.419 1458.68 Z\" fill=\"#000000\" fill-rule=\"evenodd\" fill-opacity=\"1\" /><path clip-path=\"url(#clip7200)\" d=\"M 0 0 M349.226 1455.64 Q351.953 1456.22 353.476 1458.06 Q355.018 1459.91 355.018 1462.61 Q355.018 1466.77 352.16 1469.05 Q349.301 1471.32 344.035 1471.32 Q342.267 1471.32 340.386 1470.96 Q338.524 1470.63 336.53 1469.93 L336.53 1466.26 Q338.11 1467.18 339.991 1467.65 Q341.872 1468.12 343.922 1468.12 Q347.495 1468.12 349.357 1466.71 Q351.238 1465.3 351.238 1462.61 Q351.238 1460.13 349.489 1458.74 Q347.759 1457.33 344.655 1457.33 L341.383 1457.33 L341.383 1454.21 L344.806 1454.21 Q347.608 1454.21 349.094 1453.1 Q350.58 1451.97 350.58 1449.86 Q350.58 1447.7 349.037 1446.55 Q347.514 1445.39 344.655 1445.39 Q343.094 1445.39 341.307 1445.72 Q339.521 1446.06 337.377 1446.78 L337.377 1443.39 Q339.54 1442.79 341.42 1442.49 Q343.32 1442.19 344.994 1442.19 Q349.32 1442.19 351.84 1444.16 Q354.36 1446.12 354.36 1449.47 Q354.36 1451.8 353.025 1453.42 Q351.689 1455.02 349.226 1455.64 Z\" fill=\"#000000\" fill-rule=\"evenodd\" fill-opacity=\"1\" /><path clip-path=\"url(#clip7200)\" d=\"M 0 0 M560.167 1494.25 L567.806 1494.25 L567.806 1467.89 L559.496 1469.55 L559.496 1465.29 L567.76 1463.63 L572.435 1463.63 L572.435 1494.25 L580.074 1494.25 L580.074 1498.19 L560.167 1498.19 L560.167 1494.25 Z\" fill=\"#000000\" fill-rule=\"evenodd\" fill-opacity=\"1\" /><path clip-path=\"url(#clip7200)\" d=\"M 0 0 M595.144 1466.71 Q591.533 1466.71 589.704 1470.27 Q587.898 1473.81 587.898 1480.94 Q587.898 1488.05 589.704 1491.61 Q591.533 1495.15 595.144 1495.15 Q598.778 1495.15 600.583 1491.61 Q602.412 1488.05 602.412 1480.94 Q602.412 1473.81 600.583 1470.27 Q598.778 1466.71 595.144 1466.71 M595.144 1463 Q600.954 1463 604.009 1467.61 Q607.088 1472.19 607.088 1480.94 Q607.088 1489.67 604.009 1494.28 Q600.954 1498.86 595.144 1498.86 Q589.334 1498.86 586.255 1494.28 Q583.199 1489.67 583.199 1480.94 Q583.199 1472.19 586.255 1467.61 Q589.334 1463 595.144 1463 Z\" fill=\"#000000\" fill-rule=\"evenodd\" fill-opacity=\"1\" /><path clip-path=\"url(#clip7200)\" d=\"M 0 0 M607.088 1458.68 L617.225 1458.68 L617.225 1461.77 L607.088 1461.77 L607.088 1458.68 Z\" fill=\"#000000\" fill-rule=\"evenodd\" fill-opacity=\"1\" /><path clip-path=\"url(#clip7200)\" d=\"M 0 0 M635.77 1467.58 L649.029 1467.58 L649.029 1470.78 L631.2 1470.78 L631.2 1467.58 Q633.363 1465.34 637.086 1461.58 Q640.829 1457.8 641.788 1456.71 Q643.613 1454.66 644.327 1453.25 Q645.061 1451.82 645.061 1450.45 Q645.061 1448.21 643.481 1446.8 Q641.92 1445.39 639.4 1445.39 Q637.613 1445.39 635.619 1446.01 Q633.645 1446.63 631.388 1447.89 L631.388 1444.05 Q633.682 1443.13 635.676 1442.66 Q637.669 1442.19 639.325 1442.19 Q643.688 1442.19 646.283 1444.37 Q648.879 1446.55 648.879 1450.2 Q648.879 1451.93 648.221 1453.49 Q647.581 1455.03 645.87 1457.14 Q645.399 1457.69 642.879 1460.3 Q640.359 1462.9 635.77 1467.58 Z\" fill=\"#000000\" fill-rule=\"evenodd\" fill-opacity=\"1\" /><path clip-path=\"url(#clip7200)\" d=\"M 0 0 M855.062 1494.25 L862.701 1494.25 L862.701 1467.89 L854.391 1469.55 L854.391 1465.29 L862.655 1463.63 L867.33 1463.63 L867.33 1494.25 L874.969 1494.25 L874.969 1498.19 L855.062 1498.19 L855.062 1494.25 Z\" fill=\"#000000\" fill-rule=\"evenodd\" fill-opacity=\"1\" /><path clip-path=\"url(#clip7200)\" d=\"M 0 0 M890.039 1466.71 Q886.428 1466.71 884.599 1470.27 Q882.793 1473.81 882.793 1480.94 Q882.793 1488.05 884.599 1491.61 Q886.428 1495.15 890.039 1495.15 Q893.673 1495.15 895.478 1491.61 Q897.307 1488.05 897.307 1480.94 Q897.307 1473.81 895.478 1470.27 Q893.673 1466.71 890.039 1466.71 M890.039 1463 Q895.849 1463 898.904 1467.61 Q901.983 1472.19 901.983 1480.94 Q901.983 1489.67 898.904 1494.28 Q895.849 1498.86 890.039 1498.86 Q884.229 1498.86 881.15 1494.28 Q878.094 1489.67 878.094 1480.94 Q878.094 1472.19 881.15 1467.61 Q884.229 1463 890.039 1463 Z\" fill=\"#000000\" fill-rule=\"evenodd\" fill-opacity=\"1\" /><path clip-path=\"url(#clip7200)\" d=\"M 0 0 M901.983 1458.68 L912.12 1458.68 L912.12 1461.77 L901.983 1461.77 L901.983 1458.68 Z\" fill=\"#000000\" fill-rule=\"evenodd\" fill-opacity=\"1\" /><path clip-path=\"url(#clip7200)\" d=\"M 0 0 M926.64 1467.58 L932.847 1467.58 L932.847 1446.16 L926.095 1447.51 L926.095 1444.05 L932.809 1442.7 L936.608 1442.7 L936.608 1467.58 L942.815 1467.58 L942.815 1470.78 L926.64 1470.78 L926.64 1467.58 Z\" fill=\"#000000\" fill-rule=\"evenodd\" fill-opacity=\"1\" /><path clip-path=\"url(#clip7200)\" d=\"M 0 0 M1160.11 1494.25 L1167.75 1494.25 L1167.75 1467.89 L1159.44 1469.55 L1159.44 1465.29 L1167.71 1463.63 L1172.38 1463.63 L1172.38 1494.25 L1180.02 1494.25 L1180.02 1498.19 L1160.11 1498.19 L1160.11 1494.25 Z\" fill=\"#000000\" fill-rule=\"evenodd\" fill-opacity=\"1\" /><path clip-path=\"url(#clip7200)\" d=\"M 0 0 M1195.09 1466.71 Q1191.48 1466.71 1189.65 1470.27 Q1187.84 1473.81 1187.84 1480.94 Q1187.84 1488.05 1189.65 1491.61 Q1191.48 1495.15 1195.09 1495.15 Q1198.72 1495.15 1200.53 1491.61 Q1202.36 1488.05 1202.36 1480.94 Q1202.36 1473.81 1200.53 1470.27 Q1198.72 1466.71 1195.09 1466.71 M1195.09 1463 Q1200.9 1463 1203.96 1467.61 Q1207.03 1472.19 1207.03 1480.94 Q1207.03 1489.67 1203.96 1494.28 Q1200.9 1498.86 1195.09 1498.86 Q1189.28 1498.86 1186.2 1494.28 Q1183.15 1489.67 1183.15 1480.94 Q1183.15 1472.19 1186.2 1467.61 Q1189.28 1463 1195.09 1463 Z\" fill=\"#000000\" fill-rule=\"evenodd\" fill-opacity=\"1\" /><path clip-path=\"url(#clip7200)\" d=\"M 0 0 M1216.74 1445.2 Q1213.81 1445.2 1212.32 1448.09 Q1210.85 1450.97 1210.85 1456.76 Q1210.85 1462.54 1212.32 1465.44 Q1213.81 1468.31 1216.74 1468.31 Q1219.69 1468.31 1221.16 1465.44 Q1222.64 1462.54 1222.64 1456.76 Q1222.64 1450.97 1221.16 1448.09 Q1219.69 1445.2 1216.74 1445.2 M1216.74 1442.19 Q1221.46 1442.19 1223.94 1445.93 Q1226.44 1449.66 1226.44 1456.76 Q1226.44 1463.86 1223.94 1467.6 Q1221.46 1471.32 1216.74 1471.32 Q1212.02 1471.32 1209.52 1467.6 Q1207.03 1463.86 1207.03 1456.76 Q1207.03 1449.66 1209.52 1445.93 Q1212.02 1442.19 1216.74 1442.19 Z\" fill=\"#000000\" fill-rule=\"evenodd\" fill-opacity=\"1\" /><path clip-path=\"url(#clip7200)\" d=\"M 0 0 M1455.8 1494.25 L1463.44 1494.25 L1463.44 1467.89 L1455.13 1469.55 L1455.13 1465.29 L1463.39 1463.63 L1468.07 1463.63 L1468.07 1494.25 L1475.71 1494.25 L1475.71 1498.19 L1455.8 1498.19 L1455.8 1494.25 Z\" fill=\"#000000\" fill-rule=\"evenodd\" fill-opacity=\"1\" /><path clip-path=\"url(#clip7200)\" d=\"M 0 0 M1490.77 1466.71 Q1487.16 1466.71 1485.34 1470.27 Q1483.53 1473.81 1483.53 1480.94 Q1483.53 1488.05 1485.34 1491.61 Q1487.16 1495.15 1490.77 1495.15 Q1494.41 1495.15 1496.21 1491.61 Q1498.04 1488.05 1498.04 1480.94 Q1498.04 1473.81 1496.21 1470.27 Q1494.41 1466.71 1490.77 1466.71 M1490.77 1463 Q1496.58 1463 1499.64 1467.61 Q1502.72 1472.19 1502.72 1480.94 Q1502.72 1489.67 1499.64 1494.28 Q1496.58 1498.86 1490.77 1498.86 Q1484.96 1498.86 1481.89 1494.28 Q1478.83 1489.67 1478.83 1480.94 Q1478.83 1472.19 1481.89 1467.61 Q1484.96 1463 1490.77 1463 Z\" fill=\"#000000\" fill-rule=\"evenodd\" fill-opacity=\"1\" /><path clip-path=\"url(#clip7200)\" d=\"M 0 0 M1503.26 1467.58 L1509.47 1467.58 L1509.47 1446.16 L1502.72 1447.51 L1502.72 1444.05 L1509.43 1442.7 L1513.23 1442.7 L1513.23 1467.58 L1519.44 1467.58 L1519.44 1470.78 L1503.26 1470.78 L1503.26 1467.58 Z\" fill=\"#000000\" fill-rule=\"evenodd\" fill-opacity=\"1\" /><path clip-path=\"url(#clip7200)\" d=\"M 0 0 M1749.58 1494.25 L1757.22 1494.25 L1757.22 1467.89 L1748.91 1469.55 L1748.91 1465.29 L1757.18 1463.63 L1761.85 1463.63 L1761.85 1494.25 L1769.49 1494.25 L1769.49 1498.19 L1749.58 1498.19 L1749.58 1494.25 Z\" fill=\"#000000\" fill-rule=\"evenodd\" fill-opacity=\"1\" /><path clip-path=\"url(#clip7200)\" d=\"M 0 0 M1784.56 1466.71 Q1780.95 1466.71 1779.12 1470.27 Q1777.31 1473.81 1777.31 1480.94 Q1777.31 1488.05 1779.12 1491.61 Q1780.95 1495.15 1784.56 1495.15 Q1788.19 1495.15 1790 1491.61 Q1791.83 1488.05 1791.83 1480.94 Q1791.83 1473.81 1790 1470.27 Q1788.19 1466.71 1784.56 1466.71 M1784.56 1463 Q1790.37 1463 1793.43 1467.61 Q1796.5 1472.19 1796.5 1480.94 Q1796.5 1489.67 1793.43 1494.28 Q1790.37 1498.86 1784.56 1498.86 Q1778.75 1498.86 1775.67 1494.28 Q1772.62 1489.67 1772.62 1480.94 Q1772.62 1472.19 1775.67 1467.61 Q1778.75 1463 1784.56 1463 Z\" fill=\"#000000\" fill-rule=\"evenodd\" fill-opacity=\"1\" /><path clip-path=\"url(#clip7200)\" d=\"M 0 0 M1801.07 1467.58 L1814.33 1467.58 L1814.33 1470.78 L1796.5 1470.78 L1796.5 1467.58 Q1798.67 1465.34 1802.39 1461.58 Q1806.13 1457.8 1807.09 1456.71 Q1808.92 1454.66 1809.63 1453.25 Q1810.37 1451.82 1810.37 1450.45 Q1810.37 1448.21 1808.79 1446.8 Q1807.22 1445.39 1804.7 1445.39 Q1802.92 1445.39 1800.92 1446.01 Q1798.95 1446.63 1796.69 1447.89 L1796.69 1444.05 Q1798.99 1443.13 1800.98 1442.66 Q1802.97 1442.19 1804.63 1442.19 Q1808.99 1442.19 1811.59 1444.37 Q1814.18 1446.55 1814.18 1450.2 Q1814.18 1451.93 1813.53 1453.49 Q1812.89 1455.03 1811.17 1457.14 Q1810.7 1457.69 1808.18 1460.3 Q1805.66 1462.9 1801.07 1467.58 Z\" fill=\"#000000\" fill-rule=\"evenodd\" fill-opacity=\"1\" /><path clip-path=\"url(#clip7200)\" d=\"M 0 0 M2043.59 1494.25 L2051.23 1494.25 L2051.23 1467.89 L2042.92 1469.55 L2042.92 1465.29 L2051.19 1463.63 L2055.86 1463.63 L2055.86 1494.25 L2063.5 1494.25 L2063.5 1498.19 L2043.59 1498.19 L2043.59 1494.25 Z\" fill=\"#000000\" fill-rule=\"evenodd\" fill-opacity=\"1\" /><path clip-path=\"url(#clip7200)\" d=\"M 0 0 M2078.57 1466.71 Q2074.96 1466.71 2073.13 1470.27 Q2071.33 1473.81 2071.33 1480.94 Q2071.33 1488.05 2073.13 1491.61 Q2074.96 1495.15 2078.57 1495.15 Q2082.21 1495.15 2084.01 1491.61 Q2085.84 1488.05 2085.84 1480.94 Q2085.84 1473.81 2084.01 1470.27 Q2082.21 1466.71 2078.57 1466.71 M2078.57 1463 Q2084.38 1463 2087.44 1467.61 Q2090.52 1472.19 2090.52 1480.94 Q2090.52 1489.67 2087.44 1494.28 Q2084.38 1498.86 2078.57 1498.86 Q2072.76 1498.86 2069.68 1494.28 Q2066.63 1489.67 2066.63 1480.94 Q2066.63 1472.19 2069.68 1467.61 Q2072.76 1463 2078.57 1463 Z\" fill=\"#000000\" fill-rule=\"evenodd\" fill-opacity=\"1\" /><path clip-path=\"url(#clip7200)\" d=\"M 0 0 M2103.21 1455.64 Q2105.94 1456.22 2107.46 1458.06 Q2109 1459.91 2109 1462.61 Q2109 1466.77 2106.14 1469.05 Q2103.29 1471.32 2098.02 1471.32 Q2096.25 1471.32 2094.37 1470.96 Q2092.51 1470.63 2090.52 1469.93 L2090.52 1466.26 Q2092.1 1467.18 2093.98 1467.65 Q2095.86 1468.12 2097.91 1468.12 Q2101.48 1468.12 2103.34 1466.71 Q2105.22 1465.3 2105.22 1462.61 Q2105.22 1460.13 2103.47 1458.74 Q2101.74 1457.33 2098.64 1457.33 L2095.37 1457.33 L2095.37 1454.21 L2098.79 1454.21 Q2101.59 1454.21 2103.08 1453.1 Q2104.56 1451.97 2104.56 1449.86 Q2104.56 1447.7 2103.02 1446.55 Q2101.5 1445.39 2098.64 1445.39 Q2097.08 1445.39 2095.29 1445.72 Q2093.51 1446.06 2091.36 1446.78 L2091.36 1443.39 Q2093.52 1442.79 2095.41 1442.49 Q2097.31 1442.19 2098.98 1442.19 Q2103.3 1442.19 2105.83 1444.16 Q2108.35 1446.12 2108.35 1449.47 Q2108.35 1451.8 2107.01 1453.42 Q2105.67 1455.02 2103.21 1455.64 Z\" fill=\"#000000\" fill-rule=\"evenodd\" fill-opacity=\"1\" /><path clip-path=\"url(#clip7200)\" d=\"M 0 0 M160.267 1415.45 L167.906 1415.45 L167.906 1389.09 L159.596 1390.75 L159.596 1386.5 L167.86 1384.83 L172.536 1384.83 L172.536 1415.45 L180.175 1415.45 L180.175 1419.39 L160.267 1419.39 L160.267 1415.45 Z\" fill=\"#000000\" fill-rule=\"evenodd\" fill-opacity=\"1\" /><path clip-path=\"url(#clip7200)\" d=\"M 0 0 M195.244 1387.91 Q191.633 1387.91 189.804 1391.47 Q187.999 1395.01 187.999 1402.14 Q187.999 1409.25 189.804 1412.81 Q191.633 1416.36 195.244 1416.36 Q198.878 1416.36 200.684 1412.81 Q202.513 1409.25 202.513 1402.14 Q202.513 1395.01 200.684 1391.47 Q198.878 1387.91 195.244 1387.91 M195.244 1384.2 Q201.054 1384.2 204.11 1388.81 Q207.189 1393.39 207.189 1402.14 Q207.189 1410.87 204.11 1415.48 Q201.054 1420.06 195.244 1420.06 Q189.434 1420.06 186.355 1415.48 Q183.3 1410.87 183.3 1402.14 Q183.3 1393.39 186.355 1388.81 Q189.434 1384.2 195.244 1384.2 Z\" fill=\"#000000\" fill-rule=\"evenodd\" fill-opacity=\"1\" /><path clip-path=\"url(#clip7200)\" d=\"M 0 0 M207.189 1379.88 L217.326 1379.88 L217.326 1382.97 L207.189 1382.97 L207.189 1379.88 Z\" fill=\"#000000\" fill-rule=\"evenodd\" fill-opacity=\"1\" /><path clip-path=\"url(#clip7200)\" d=\"M 0 0 M235.87 1388.78 L249.13 1388.78 L249.13 1391.98 L231.3 1391.98 L231.3 1388.78 Q233.463 1386.54 237.187 1382.78 Q240.93 1379 241.889 1377.91 Q243.713 1375.86 244.428 1374.45 Q245.161 1373.02 245.161 1371.65 Q245.161 1369.41 243.582 1368 Q242.021 1366.59 239.5 1366.59 Q237.714 1366.59 235.72 1367.21 Q233.745 1367.83 231.488 1369.09 L231.488 1365.25 Q233.783 1364.33 235.776 1363.86 Q237.77 1363.39 239.425 1363.39 Q243.788 1363.39 246.384 1365.57 Q248.979 1367.75 248.979 1371.4 Q248.979 1373.13 248.321 1374.69 Q247.682 1376.24 245.97 1378.34 Q245.5 1378.89 242.98 1381.5 Q240.459 1384.1 235.87 1388.78 Z\" fill=\"#000000\" fill-rule=\"evenodd\" fill-opacity=\"1\" /><path clip-path=\"url(#clip7200)\" d=\"M 0 0 M161.377 1085.23 L169.016 1085.23 L169.016 1058.86 L160.706 1060.53 L160.706 1056.27 L168.97 1054.6 L173.646 1054.6 L173.646 1085.23 L181.284 1085.23 L181.284 1089.16 L161.377 1089.16 L161.377 1085.23 Z\" fill=\"#000000\" fill-rule=\"evenodd\" fill-opacity=\"1\" /><path clip-path=\"url(#clip7200)\" d=\"M 0 0 M196.354 1057.68 Q192.743 1057.68 190.914 1061.25 Q189.108 1064.79 189.108 1071.92 Q189.108 1079.03 190.914 1082.59 Q192.743 1086.13 196.354 1086.13 Q199.988 1086.13 201.794 1082.59 Q203.622 1079.03 203.622 1071.92 Q203.622 1064.79 201.794 1061.25 Q199.988 1057.68 196.354 1057.68 M196.354 1053.98 Q202.164 1053.98 205.22 1058.59 Q208.298 1063.17 208.298 1071.92 Q208.298 1080.65 205.22 1085.25 Q202.164 1089.84 196.354 1089.84 Q190.544 1089.84 187.465 1085.25 Q184.409 1080.65 184.409 1071.92 Q184.409 1063.17 187.465 1058.59 Q190.544 1053.98 196.354 1053.98 Z\" fill=\"#000000\" fill-rule=\"evenodd\" fill-opacity=\"1\" /><path clip-path=\"url(#clip7200)\" d=\"M 0 0 M208.298 1049.66 L218.436 1049.66 L218.436 1052.74 L208.298 1052.74 L208.298 1049.66 Z\" fill=\"#000000\" fill-rule=\"evenodd\" fill-opacity=\"1\" /><path clip-path=\"url(#clip7200)\" d=\"M 0 0 M232.955 1058.56 L239.162 1058.56 L239.162 1037.13 L232.41 1038.49 L232.41 1035.03 L239.124 1033.67 L242.923 1033.67 L242.923 1058.56 L249.13 1058.56 L249.13 1061.75 L232.955 1061.75 L232.955 1058.56 Z\" fill=\"#000000\" fill-rule=\"evenodd\" fill-opacity=\"1\" /><path clip-path=\"url(#clip7200)\" d=\"M 0 0 M182.799 755.004 L190.438 755.004 L190.438 728.639 L182.128 730.305 L182.128 726.046 L190.392 724.38 L195.068 724.38 L195.068 755.004 L202.707 755.004 L202.707 758.94 L182.799 758.94 L182.799 755.004 Z\" fill=\"#000000\" fill-rule=\"evenodd\" fill-opacity=\"1\" /><path clip-path=\"url(#clip7200)\" d=\"M 0 0 M217.776 727.458 Q214.165 727.458 212.336 731.023 Q210.531 734.565 210.531 741.694 Q210.531 748.801 212.336 752.366 Q214.165 755.907 217.776 755.907 Q221.41 755.907 223.216 752.366 Q225.044 748.801 225.044 741.694 Q225.044 734.565 223.216 731.023 Q221.41 727.458 217.776 727.458 M217.776 723.755 Q223.586 723.755 226.642 728.361 Q229.72 732.944 229.72 741.694 Q229.72 750.421 226.642 755.028 Q223.586 759.611 217.776 759.611 Q211.966 759.611 208.887 755.028 Q205.831 750.421 205.831 741.694 Q205.831 732.944 208.887 728.361 Q211.966 723.755 217.776 723.755 Z\" fill=\"#000000\" fill-rule=\"evenodd\" fill-opacity=\"1\" /><path clip-path=\"url(#clip7200)\" d=\"M 0 0 M239.425 705.951 Q236.491 705.951 235.005 708.847 Q233.538 711.725 233.538 717.517 Q233.538 723.291 235.005 726.188 Q236.491 729.065 239.425 729.065 Q242.378 729.065 243.845 726.188 Q245.331 723.291 245.331 717.517 Q245.331 711.725 243.845 708.847 Q242.378 705.951 239.425 705.951 M239.425 702.941 Q244.146 702.941 246.628 706.684 Q249.13 710.408 249.13 717.517 Q249.13 724.608 246.628 728.351 Q244.146 732.075 239.425 732.075 Q234.704 732.075 232.203 728.351 Q229.72 724.608 229.72 717.517 Q229.72 710.408 232.203 706.684 Q234.704 702.941 239.425 702.941 Z\" fill=\"#000000\" fill-rule=\"evenodd\" fill-opacity=\"1\" /><path clip-path=\"url(#clip7200)\" d=\"M 0 0 M185.489 424.78 L193.128 424.78 L193.128 398.414 L184.817 400.081 L184.817 395.822 L193.081 394.155 L197.757 394.155 L197.757 424.78 L205.396 424.78 L205.396 428.715 L185.489 428.715 L185.489 424.78 Z\" fill=\"#000000\" fill-rule=\"evenodd\" fill-opacity=\"1\" /><path clip-path=\"url(#clip7200)\" d=\"M 0 0 M220.465 397.234 Q216.854 397.234 215.026 400.798 Q213.22 404.34 213.22 411.47 Q213.22 418.576 215.026 422.141 Q216.854 425.683 220.465 425.683 Q224.1 425.683 225.905 422.141 Q227.734 418.576 227.734 411.47 Q227.734 404.34 225.905 400.798 Q224.1 397.234 220.465 397.234 M220.465 393.53 Q226.276 393.53 229.331 398.136 Q232.41 402.72 232.41 411.47 Q232.41 420.197 229.331 424.803 Q226.276 429.386 220.465 429.386 Q214.655 429.386 211.577 424.803 Q208.521 420.197 208.521 411.47 Q208.521 402.72 211.577 398.136 Q214.655 393.53 220.465 393.53 Z\" fill=\"#000000\" fill-rule=\"evenodd\" fill-opacity=\"1\" /><path clip-path=\"url(#clip7200)\" d=\"M 0 0 M232.955 398.107 L239.162 398.107 L239.162 376.685 L232.41 378.039 L232.41 374.579 L239.124 373.225 L242.923 373.225 L242.923 398.107 L249.13 398.107 L249.13 401.305 L232.955 401.305 L232.955 398.107 Z\" fill=\"#000000\" fill-rule=\"evenodd\" fill-opacity=\"1\" /><path clip-path=\"url(#clip7200)\" d=\"M 0 0 M184.379 94.5552 L192.018 94.5552 L192.018 68.1896 L183.708 69.8563 L183.708 65.5971 L191.972 63.9304 L196.648 63.9304 L196.648 94.5552 L204.286 94.5552 L204.286 98.4904 L184.379 98.4904 L184.379 94.5552 Z\" fill=\"#000000\" fill-rule=\"evenodd\" fill-opacity=\"1\" /><path clip-path=\"url(#clip7200)\" d=\"M 0 0 M219.356 67.0091 Q215.745 67.0091 213.916 70.5739 Q212.11 74.1155 212.11 81.2451 Q212.11 88.3516 213.916 91.9164 Q215.745 95.458 219.356 95.458 Q222.99 95.458 224.796 91.9164 Q226.624 88.3516 226.624 81.2451 Q226.624 74.1155 224.796 70.5739 Q222.99 67.0091 219.356 67.0091 M219.356 63.3054 Q225.166 63.3054 228.221 67.9119 Q231.3 72.4952 231.3 81.2451 Q231.3 89.9719 228.221 94.5784 Q225.166 99.1617 219.356 99.1617 Q213.546 99.1617 210.467 94.5784 Q207.411 89.9719 207.411 81.2451 Q207.411 72.4952 210.467 67.9119 Q213.546 63.3054 219.356 63.3054 Z\" fill=\"#000000\" fill-rule=\"evenodd\" fill-opacity=\"1\" /><path clip-path=\"url(#clip7200)\" d=\"M 0 0 M235.87 67.8827 L249.13 67.8827 L249.13 71.08 L231.3 71.08 L231.3 67.8827 Q233.463 65.6446 237.187 61.883 Q240.93 58.1026 241.889 57.0118 Q243.713 54.9618 244.428 53.5512 Q245.161 52.1218 245.161 50.7488 Q245.161 48.5107 243.582 47.1001 Q242.021 45.6895 239.5 45.6895 Q237.714 45.6895 235.72 46.3102 Q233.745 46.9308 231.488 48.191 L231.488 44.3542 Q233.783 43.4326 235.776 42.9624 Q237.77 42.4922 239.425 42.4922 Q243.788 42.4922 246.384 44.6739 Q248.979 46.8556 248.979 50.5043 Q248.979 52.2346 248.321 53.7957 Q247.682 55.3379 245.97 57.4444 Q245.5 57.9898 242.98 60.6041 Q240.459 63.1996 235.87 67.8827 Z\" fill=\"#000000\" fill-rule=\"evenodd\" fill-opacity=\"1\" /><path clip-path=\"url(#clip7200)\" d=\"M 0 0 M1095.48 1527.24 Q1097.68 1523.29 1100.74 1521.41 Q1103.79 1519.54 1107.93 1519.54 Q1113.5 1519.54 1116.52 1523.45 Q1119.55 1527.33 1119.55 1534.53 L1119.55 1556.04 L1113.66 1556.04 L1113.66 1534.72 Q1113.66 1529.59 1111.84 1527.11 Q1110.03 1524.63 1106.31 1524.63 Q1101.75 1524.63 1099.11 1527.65 Q1096.47 1530.68 1096.47 1535.9 L1096.47 1556.04 L1090.58 1556.04 L1090.58 1534.72 Q1090.58 1529.56 1088.77 1527.11 Q1086.95 1524.63 1083.17 1524.63 Q1078.68 1524.63 1076.04 1527.68 Q1073.39 1530.71 1073.39 1535.9 L1073.39 1556.04 L1067.51 1556.04 L1067.51 1520.4 L1073.39 1520.4 L1073.39 1525.93 Q1075.4 1522.66 1078.2 1521.1 Q1081 1519.54 1084.85 1519.54 Q1088.74 1519.54 1091.44 1521.51 Q1094.18 1523.48 1095.48 1527.24 Z\" fill=\"#000000\" fill-rule=\"evenodd\" fill-opacity=\"1\" /><path clip-path=\"url(#clip7200)\" d=\"M 0 0 M1156.18 1536.76 L1156.18 1539.62 L1129.25 1539.62 Q1129.64 1545.67 1132.88 1548.85 Q1136.16 1552 1141.99 1552 Q1145.36 1552 1148.51 1551.17 Q1151.69 1550.35 1154.81 1548.69 L1154.81 1554.23 Q1151.66 1555.57 1148.35 1556.27 Q1145.04 1556.97 1141.64 1556.97 Q1133.11 1556.97 1128.11 1552 Q1123.14 1547.04 1123.14 1538.57 Q1123.14 1529.82 1127.85 1524.69 Q1132.6 1519.54 1140.62 1519.54 Q1147.81 1519.54 1151.98 1524.18 Q1156.18 1528.8 1156.18 1536.76 M1150.32 1535.04 Q1150.26 1530.23 1147.62 1527.37 Q1145.01 1524.5 1140.68 1524.5 Q1135.78 1524.5 1132.82 1527.27 Q1129.89 1530.04 1129.44 1535.07 L1150.32 1535.04 Z\" fill=\"#000000\" fill-rule=\"evenodd\" fill-opacity=\"1\" /><path clip-path=\"url(#clip7200)\" d=\"M 0 0 M1178.52 1538.12 Q1171.43 1538.12 1168.69 1539.75 Q1165.95 1541.37 1165.95 1545.29 Q1165.95 1548.4 1167.99 1550.25 Q1170.06 1552.07 1173.59 1552.07 Q1178.46 1552.07 1181.39 1548.63 Q1184.35 1545.16 1184.35 1539.43 L1184.35 1538.12 L1178.52 1538.12 M1190.21 1535.71 L1190.21 1556.04 L1184.35 1556.04 L1184.35 1550.63 Q1182.34 1553.88 1179.35 1555.44 Q1176.36 1556.97 1172.03 1556.97 Q1166.56 1556.97 1163.31 1553.91 Q1160.1 1550.82 1160.1 1545.67 Q1160.1 1539.65 1164.11 1536.6 Q1168.15 1533.54 1176.14 1533.54 L1184.35 1533.54 L1184.35 1532.97 Q1184.35 1528.93 1181.68 1526.73 Q1179.03 1524.5 1174.23 1524.5 Q1171.17 1524.5 1168.28 1525.23 Q1165.38 1525.97 1162.71 1527.43 L1162.71 1522.02 Q1165.92 1520.78 1168.94 1520.17 Q1171.97 1519.54 1174.83 1519.54 Q1182.57 1519.54 1186.39 1523.55 Q1190.21 1527.56 1190.21 1535.71 Z\" fill=\"#000000\" fill-rule=\"evenodd\" fill-opacity=\"1\" /><path clip-path=\"url(#clip7200)\" d=\"M 0 0 M1219.07 1521.45 L1219.07 1526.98 Q1216.59 1525.71 1213.92 1525.07 Q1211.24 1524.44 1208.38 1524.44 Q1204.02 1524.44 1201.82 1525.77 Q1199.66 1527.11 1199.66 1529.79 Q1199.66 1531.82 1201.22 1533 Q1202.78 1534.15 1207.49 1535.2 L1209.49 1535.64 Q1215.73 1536.98 1218.34 1539.43 Q1220.98 1541.85 1220.98 1546.21 Q1220.98 1551.17 1217.04 1554.07 Q1213.12 1556.97 1206.25 1556.97 Q1203.38 1556.97 1200.26 1556.39 Q1197.18 1555.85 1193.74 1554.74 L1193.74 1548.69 Q1196.99 1550.38 1200.14 1551.24 Q1203.29 1552.07 1206.37 1552.07 Q1210.51 1552.07 1212.74 1550.66 Q1214.97 1549.23 1214.97 1546.65 Q1214.97 1544.27 1213.34 1542.99 Q1211.75 1541.72 1206.31 1540.54 L1204.27 1540.07 Q1198.83 1538.92 1196.41 1536.56 Q1193.99 1534.18 1193.99 1530.04 Q1193.99 1525.01 1197.56 1522.27 Q1201.12 1519.54 1207.68 1519.54 Q1210.93 1519.54 1213.79 1520.01 Q1216.66 1520.49 1219.07 1521.45 Z\" fill=\"#000000\" fill-rule=\"evenodd\" fill-opacity=\"1\" /><path clip-path=\"url(#clip7200)\" d=\"M 0 0 M1226.52 1541.98 L1226.52 1520.4 L1232.38 1520.4 L1232.38 1541.75 Q1232.38 1546.81 1234.35 1549.36 Q1236.33 1551.87 1240.27 1551.87 Q1245.01 1551.87 1247.75 1548.85 Q1250.52 1545.83 1250.52 1540.61 L1250.52 1520.4 L1256.38 1520.4 L1256.38 1556.04 L1250.52 1556.04 L1250.52 1550.57 Q1248.39 1553.82 1245.56 1555.41 Q1242.75 1556.97 1239.03 1556.97 Q1232.89 1556.97 1229.7 1553.15 Q1226.52 1549.33 1226.52 1541.98 M1241.26 1519.54 L1241.26 1519.54 Z\" fill=\"#000000\" fill-rule=\"evenodd\" fill-opacity=\"1\" /><path clip-path=\"url(#clip7200)\" d=\"M 0 0 M1283.18 1525.87 Q1282.19 1525.3 1281.01 1525.04 Q1279.87 1524.76 1278.47 1524.76 Q1273.5 1524.76 1270.83 1528 Q1268.19 1531.22 1268.19 1537.27 L1268.19 1556.04 L1262.3 1556.04 L1262.3 1520.4 L1268.19 1520.4 L1268.19 1525.93 Q1270.03 1522.69 1272.99 1521.13 Q1275.95 1519.54 1280.18 1519.54 Q1280.79 1519.54 1281.52 1519.63 Q1282.25 1519.7 1283.14 1519.85 L1283.18 1525.87 Z\" fill=\"#000000\" fill-rule=\"evenodd\" fill-opacity=\"1\" /><path clip-path=\"url(#clip7200)\" d=\"M 0 0 M1318.38 1536.76 L1318.38 1539.62 L1291.45 1539.62 Q1291.83 1545.67 1295.08 1548.85 Q1298.36 1552 1304.18 1552 Q1307.56 1552 1310.71 1551.17 Q1313.89 1550.35 1317.01 1548.69 L1317.01 1554.23 Q1313.86 1555.57 1310.55 1556.27 Q1307.24 1556.97 1303.83 1556.97 Q1295.3 1556.97 1290.31 1552 Q1285.34 1547.04 1285.34 1538.57 Q1285.34 1529.82 1290.05 1524.69 Q1294.79 1519.54 1302.81 1519.54 Q1310.01 1519.54 1314.18 1524.18 Q1318.38 1528.8 1318.38 1536.76 M1312.52 1535.04 Q1312.46 1530.23 1309.82 1527.37 Q1307.21 1524.5 1302.88 1524.5 Q1297.98 1524.5 1295.02 1527.27 Q1292.09 1530.04 1291.64 1535.07 L1312.52 1535.04 Z\" fill=\"#000000\" fill-rule=\"evenodd\" fill-opacity=\"1\" /><path clip-path=\"url(#clip7200)\" d=\"M 0 0 M56.4621 786.058 Q56.4621 790.769 60.1542 793.506 Q63.8145 796.243 70.212 796.243 Q76.6095 796.243 80.3017 793.538 Q83.9619 790.801 83.9619 786.058 Q83.9619 781.379 80.2698 778.642 Q76.5777 775.905 70.212 775.905 Q63.8781 775.905 60.186 778.642 Q56.4621 781.379 56.4621 786.058 M51.4968 786.058 Q51.4968 778.419 56.4621 774.059 Q61.4273 769.698 70.212 769.698 Q78.9649 769.698 83.9619 774.059 Q88.9272 778.419 88.9272 786.058 Q88.9272 793.729 83.9619 798.089 Q78.9649 802.418 70.212 802.418 Q61.4273 802.418 56.4621 798.089 Q51.4968 793.729 51.4968 786.058 Z\" fill=\"#000000\" fill-rule=\"evenodd\" fill-opacity=\"1\" /><path clip-path=\"url(#clip7200)\" d=\"M 0 0 M57.7671 740.098 L38.479 740.098 L38.479 734.241 L88.0042 734.241 L88.0042 740.098 L82.657 740.098 Q85.8398 741.944 87.3994 744.776 Q88.9272 747.577 88.9272 751.524 Q88.9272 757.985 83.771 762.059 Q78.6147 766.102 70.212 766.102 Q61.8093 766.102 56.6531 762.059 Q51.4968 757.985 51.4968 751.524 Q51.4968 747.577 53.0564 744.776 Q54.5842 741.944 57.7671 740.098 M70.212 760.054 Q76.6732 760.054 80.3653 757.412 Q84.0256 754.739 84.0256 750.092 Q84.0256 745.445 80.3653 742.771 Q76.6732 740.098 70.212 740.098 Q63.7508 740.098 60.0905 742.771 Q56.3984 745.445 56.3984 750.092 Q56.3984 754.739 60.0905 757.412 Q63.7508 760.054 70.212 760.054 Z\" fill=\"#000000\" fill-rule=\"evenodd\" fill-opacity=\"1\" /><path clip-path=\"url(#clip7200)\" d=\"M 0 0 M57.7671 704.641 L38.479 704.641 L38.479 698.784 L88.0042 698.784 L88.0042 704.641 L82.657 704.641 Q85.8398 706.487 87.3994 709.319 Q88.9272 712.12 88.9272 716.067 Q88.9272 722.528 83.771 726.602 Q78.6147 730.645 70.212 730.645 Q61.8093 730.645 56.6531 726.602 Q51.4968 722.528 51.4968 716.067 Q51.4968 712.12 53.0564 709.319 Q54.5842 706.487 57.7671 704.641 M70.212 724.597 Q76.6732 724.597 80.3653 721.955 Q84.0256 719.282 84.0256 714.635 Q84.0256 709.988 80.3653 707.314 Q76.6732 704.641 70.212 704.641 Q63.7508 704.641 60.0905 707.314 Q56.3984 709.988 56.3984 714.635 Q56.3984 719.282 60.0905 721.955 Q63.7508 724.597 70.212 724.597 Z\" fill=\"#000000\" fill-rule=\"evenodd\" fill-opacity=\"1\" /><path clip-path=\"url(#clip7200)\" d=\"M 0 0 M53.4065 669.916 L58.9447 669.916 Q57.6716 672.398 57.035 675.072 Q56.3984 677.746 56.3984 680.61 Q56.3984 684.971 57.7352 687.167 Q59.072 689.331 61.7456 689.331 Q63.7826 689.331 64.9603 687.772 Q66.1061 686.212 67.1565 681.501 L67.6021 679.496 Q68.9389 673.258 71.3897 670.648 Q73.8086 668.006 78.1691 668.006 Q83.1344 668.006 86.0308 671.953 Q88.9272 675.868 88.9272 682.743 Q88.9272 685.607 88.3543 688.726 Q87.8132 691.814 86.6992 695.251 L80.6518 695.251 Q82.3387 692.005 83.198 688.854 Q84.0256 685.703 84.0256 682.615 Q84.0256 678.478 82.6251 676.25 Q81.1929 674.022 78.6147 674.022 Q76.2276 674.022 74.9545 675.645 Q73.6813 677.236 72.5037 682.679 L72.0262 684.716 Q70.8804 690.159 68.5251 692.578 Q66.138 694.997 62.0002 694.997 Q56.9713 694.997 54.2341 691.432 Q51.4968 687.867 51.4968 681.31 Q51.4968 678.064 51.9743 675.199 Q52.4517 672.335 53.4065 669.916 Z\" fill=\"#000000\" fill-rule=\"evenodd\" fill-opacity=\"1\" /><g clip-path=\"url(#clip7202)\">\n",
       "<image width=\"1840\" height=\"1376\" xlink:href=\"data:image/png;base64,\n",
       "iVBORw0KGgoAAAANSUhEUgAABzAAAAVgCAYAAAAgj8tUAAAgAElEQVR4nOzbMYoUQQCG0emeCjYQ\n",
       "jTQUwRuYGBh5DY/pNTyKYCKC4k63kbCKCgZLfTv93gl+mk6Kr2p5/+rdfgIAAGCKN68/zJ5w1Z68\n",
       "/Th7wtW7vHg5e0LW92e+ze+2x89nT0hYb57OnvAgjPFo9oQHYV1vZk9IW5bz7AlckWUdsyfAYayz\n",
       "BwAAAAAAAAD8JGACAAAAAAAAGQImAAAAAAAAkCFgAgAAAAAAABkCJgAAAAAAAJAhYAIAAAAAAAAZ\n",
       "AiYAAAAAAACQIWACAAAAAAAAGQImAAAAAAAAkCFgAgAAAAAAABkCJgAAAAAAAJAhYAIAAAAAAAAZ\n",
       "AiYAAAAAAACQIWACAAAAAAAAGQImAAAAAAAAkCFgAgAAAAAAABkCJgAAAAAAAJAhYAIAAAAAAAAZ\n",
       "AiYAAAAAAACQIWACAAAAAAAAGQImAAAAAAAAkCFgAgAAAAAAABkCJgAAAAAAAJAhYAIAAAAAAAAZ\n",
       "AiYAAAAAAACQIWACAAAAAAAAGQImAAAAAAAAkCFgAgAAAAAAABkCJgAAAAAAAJAhYAIAAAAAAAAZ\n",
       "AiYAAAAAAACQIWACAAAAAAAAGQImAAAAAAAAkCFgAgAAAAAAABkCJgAAAAAAAJAhYAIAAAAAAAAZ\n",
       "AiYAAAAAAACQIWACAAAAAAAAGQImAAAAAAAAkCFgAgAAAAAAABkCJgAAAAAAAJAhYAIAAAAAAAAZ\n",
       "AiYAAAAAAACQIWACAAAAAAAAGQImAAAAAAAAkCFgAgAAAAAAABkCJgAAAAAAAJAhYAIAAAAAAAAZ\n",
       "AiYAAAAAAACQIWACAAAAAAAAGQImAAAAAAAAkCFgAgAAAAAAABkCJgAAAAAAAJAhYAIAAAAAAAAZ\n",
       "AiYAAAAAAACQMfbZCwAAAA5s35bZEwAAACDFC0wAAAAAAAAgQ8AEAAAAAAAAMgRMAAAAAAAAIEPA\n",
       "BAAAAAAAADIETAAAAAAAACBDwAQAAAAAAAAyBEwAAAAAAAAgQ8AEAAAAAAAAMgRMAAAAAAAAIEPA\n",
       "BAAAAAAAADIETAAAAAAAACBDwAQAAAAAAAAyBEwAAAAAAAAgQ8AEAAAAAAAAMgRMAAAAAAAAIEPA\n",
       "BAAAAAAAADIETAAAAAAAACBDwAQAAAAAAAAyBEwAAAAAAAAgQ8AEAAAAAAAAMgRMAAAAAAAAIEPA\n",
       "BAAAAAAAADIETAAAAAAAACBDwAQAAAAAAAAyBEwAAAAAAAAgQ8AEAAAAAAAAMgRMAAAAAAAAIEPA\n",
       "BAAAAAAAADIETAAAAAAAACBDwAQAAAAAAAAyBEwAAAAAAAAgQ8AEAAAAAAAAMgRMAAAAAAAAIEPA\n",
       "BAAAAAAAADIETAAAAAAAACBDwAQAAAAAAAAyBEwAAAAAAAAgQ8AEAAAAAAAAMgRMAAAAAAAAIEPA\n",
       "BAAAAAAAADIETAAAAAAAACBDwAQAAAAAAAAyBEwAAAAAAAAgQ8AEAAAAAAAAMgRMAAAAAAAAIEPA\n",
       "BAAAAAAAADIETAAAAAAAACBDwAQAAAAAAAAyBEwAAAAAAAAgQ8AEAAAAAAAAMgRMAAAAAAAAIEPA\n",
       "BAAAAAAAADIETAAAAAAAACBDwAQAAAAAAAAyxrYvszcAAAAAAAAAnE4nLzABAAAAAACAEAETAAAA\n",
       "AAAAyBAwAQAAAAAAgAwBEwAAAAAAAMgQMAEAAAAAAIAMARMAAAAAAADIEDABAAAAAACADAETAAAA\n",
       "AAAAyBAwAQAAAAAAgAwBEwAAAAAAAMgQMAEAAAAAAIAMARMAAAAAAADIEDABAAAAAACADAETAAAA\n",
       "AAAAyBAwAQAAAAAAgAwBEwAAAAAAAMgQMAEAAAAAAIAMARMAAAAAAADIEDABAAAAAACADAETAAAA\n",
       "AAAAyBAwAQAAAAAAgAwBEwAAAAAAAMgQMAEAAAAAAIAMARMAAAAAAADIEDABAAAAAACADAETAAAA\n",
       "AAAAyBAwAQAAAAAAgAwBEwAAAAAAAMgQMAEAAAAAAIAMARMAAAAAAADIEDABAAAAAACADAETAAAA\n",
       "AAAAyBAwAQAAAAAAgAwBEwAAAAAAAMgQMAEAAAAAAIAMARMAAAAAAADIEDABAAAAAACADAETAAAA\n",
       "AAAAyBAwAQAAAAAAgAwBEwAAAAAAAMgQMAEAAAAAAIAMARMAAAAAAADIEDABAAAAAACADAETAAAA\n",
       "AAAAyBAwAQAAAAAAgAwBEwAAAAAAAMgQMAEAAAAAAIAMARMAAAAAAADIEDABAAAAAACADAETAAAA\n",
       "AAAAyBAwAQAAAAAAgAwBEwAAAAAAAMgQMAEAAAAAAIAMARMAAAAAAADIGPu+zN4AAABwWPvuXikA\n",
       "AADc5aQMAAAAAAAAZAiYAAAAAAAAQIaACQAAAAAAAGQImAAAAAAAAECGgAkAAAAAAABkCJgAAAAA\n",
       "AABAhoAJAAAAAAAAZAiYAAAAAAAAQIaACQAAAAAAAGQImAAAAAAAAECGgAkAAAAAAABkCJgAAAAA\n",
       "AABAhoAJAAAAAAAAZAiYAAAAAAAAQIaACQAAAAAAAGQImAAAAAAAAECGgAkAAAAAAABkCJgAAAAA\n",
       "AABAhoAJAAAAAAAAZAiYAAAAAAAAQIaACQAAAAAAAGQImAAAAAAAAECGgAkAAAAAAABkCJgAAAAA\n",
       "AABAhoAJAAAAAAAAZAiYAAAAAAAAQIaACQAAAAAAAGQImAAAAAAAAECGgAkAAAAAAABkCJgAAAAA\n",
       "AABAhoAJAAAAAAAAZAiYAAAAAAAAQIaACQAAAAAAAGQImAAAAAAAAECGgAkAAAAAAABkCJgAAAAA\n",
       "AABAhoAJAAAAAAAAZAiYAAAAAAAAQIaACQAAAAAAAGQImAAAAAAAAECGgAkAAAAAAABkCJgAAAAA\n",
       "AABAhoAJAAAAAAAAZAiYAAAAAAAAQIaACQAAAAAAAGQImAAAAAAAAECGgAkAAAAAAABkCJgAAAAA\n",
       "AABAhoAJAAAAAAAAZAiYAAAAAAAAQIaACQAAAAAAAGQImAAAAAAAAECGgAkAAAAAAABkCJgAAAAA\n",
       "AABAxrjsGiYAAAAAAADQoF4CAAAAAAAAGQImAAAAAAAAkCFgAgAAAAAAABkCJgAAAAAAAJAhYAIA\n",
       "AAAAAAAZAiYAAAAAAACQIWACAAAAAAAAGQImAAAAAAAAkCFgAgAAAAAAABkCJgAAAAAAAJAhYAIA\n",
       "AAAAAAAZAiYAAAAAAACQIWACAAAAAAAAGQImAAAAAAAAkCFgAgAAAAAAABkCJgAAAAAAAJAhYAIA\n",
       "AAAAAAAZAiYAAAAAAACQIWACAAAAAAAAGQImAAAAAAAAkCFgAgAAAAAAABkCJgAAAAAAAJAhYAIA\n",
       "AAAAAAAZAiYAAAAAAACQIWACAAAAAAAAGQImAAAAAAAAkCFgAgAAAAAAABkCJgAAAAAAAJAhYAIA\n",
       "AAAAAAAZAiYAAAAAAACQIWACAAAAAAAAGQImAAAAAAAAkCFgAgAAAAAAABkCJgAAAAAAAJAhYAIA\n",
       "AAAAAAAZAiYAAAAAAACQIWACAAAAAAAAGQImAAAAAAAAkCFgAgAAAAAAABkCJgAAAAAAAJAhYAIA\n",
       "AAAAAAAZAiYAAAAAAACQIWACAAAAAAAAGQImAAAAAAAAkCFgAgAAAAAAABkCJgAAAAAAAJAhYAIA\n",
       "AAAAAAAZAiYAAAAAAACQIWACAAAAAAAAGQImAAAAAAAAkCFgAgAAAAAAABkCJgAAAAAAAJAhYAIA\n",
       "AAAAAAAZAiYAAAAAAACQMb5vGiYAAMA02zJ7wXXbttkLAAAA+E/qJQAAAAAAAJAhYAIAAAAAAAAZ\n",
       "AiYAAAAAAACQIWACAAAAAAAAGQImAAAAAAAAkCFgAgAAAAAAABkCJgAAAAAAAJAhYAIAAAAAAAAZ\n",
       "AiYAAAAAAACQIWACAAAAAAAAGQImAAAAAAAAkCFgAgAAAAAAABkCJgAAAAAAAJAhYAIAAAAAAAAZ\n",
       "AiYAAAAAAACQIWACAAAAAAAAGQImAAAAAAAAkCFgAgAAAAAAABkCJgAAAAAAAJAhYAIAAAAAAAAZ\n",
       "AiYAAAAAAACQIWACAAAAAAAAGQImAAAAAAAAkCFgAgAAAAAAABkCJgAAAAAAAJAhYAIAAAAAAAAZ\n",
       "AiYAAAAAAACQIWACAAAAAAAAGQImAAAAAAAAkCFgAgAAAAAAABkCJgAAAAAAAJAhYAIAAAAAAAAZ\n",
       "AiYAAAAAAACQIWACAAAAAAAAGQImAAAAAAAAkCFgAgAAAAAAABkCJgAAAAAAAJAhYAIAAAAAAAAZ\n",
       "AiYAAAAAAACQIWACAAAAAAAAGQImAAAAAAAAkCFgAgAAAAAAABkCJgAAAAAAAJAhYAIAAAAAAAAZ\n",
       "AiYAAAAAAACQIWACAAAAAAAAGQImAAAAAAAAkCFgAgAAAAAAABkCJgAAAAAAAJAhYAIAAAAAAAAZ\n",
       "AiYAAAAAAACQIWACAAAAAAAAGQImAAAAAAAAkCFgAgAAAAAAABnjdtMwAQAAZtn3ZfYEAAAASFEv\n",
       "AQAAAAAAgAwBEwAAAAAAAMgQMAEAAAAAAIAMARMAAAAAAADIEDABAAAAAACADAETAAAAAAAAyBAw\n",
       "AQAAAAAAgAwBEwAAAAAAAMgQMAEAAAAAAIAMARMAAAAAAADIEDABAAAAAACADAETAAAAAAAAyBAw\n",
       "AQAAAAAAgAwBEwAAAAAAAMgQMAEAAAAAAIAMARMAAAAAAADIEDABAAAAAACADAETAAAAAAAAyBAw\n",
       "AQAAAAAAgAwBEwAAAAAAAMgQMAEAAAAAAIAMARMAAAAAAADIEDABAAAAAACADAETAAAAAAAAyBAw\n",
       "AQAAAAAAgAwBEwAAAAAAAMgQMAEAAAAAAIAMARMAAAAAAADIEDABAAAAAACADAETAAAAAAAAyBAw\n",
       "AQAAAAAAgAwBEwAAAAAAAMgQMAEAAAAAAIAMARMAAAAAAADIEDABAAAAAACADAETAAAAAAAAyBAw\n",
       "AQAAAAAAgAwBEwAAAAAAAMgQMAEAAAAAAIAMARMAAAAAAADIEDABAAAAAACADAETAAAAAAAAyBAw\n",
       "AQAAAAAAgAwBEwAAAAAAAMgQMAEAAAAAAIAMARMAAAAAAADIEDABAAAAAACADAETAAAAAAAAyBAw\n",
       "AQAAAAAAgAwBEwAAAAAAAMgQMAEAAAAAAIAMARMAAAAAAADIEDABAAAAAACAjPH1cp69AQAA4LA2\n",
       "ZzIAAAD4hReYAAAAAAAAQIaACQAAAAAAAGQImAAAAAAAAECGgAkAAAAAAABkCJgAAAAAAABAhoAJ\n",
       "AAAAAAAAZAiYAAAAAAAAQIaACQAAAAAAAGQImAAAAAAAAECGgAkAAAAAAABkCJgAAAAAAABAhoAJ\n",
       "AAAAAAAAZAiYAAAAAAAAQIaACQAAAAAAAGQImAAAAAAAAECGgAkAAAAAAABkCJgAAAAAAABAhoAJ\n",
       "AAAAAAAAZAiYAAAAAAAAQIaACQAAAAAAAGQImAAAAAAAAECGgAkAAAAAAABkCJgAAAAAAABAhoAJ\n",
       "AAAAAAAAZAiYAAAAAAAAQIaACQAAAAAAAGQImAAAAAAAAECGgAkAAAAAAABkCJgAAAAAAABAhoAJ\n",
       "AAAAAAAAZAiYAAAAAAAAQIaACQAAAAAAAGQImAAAAAAAAECGgAkAAAAAAABkCJgAAAAAAABAhoAJ\n",
       "AAAAAAAAZAiYAAAAAAAAQIaACQAAAAAAAGQImAAAAAAAAECGgAkAAAAAAABkCJgAAAAAAABAhoAJ\n",
       "AAAAAAAAZAiYAAAAAAAAQIaACQAAAAAAAGQImAAAAAAAAECGgAkAAAAAAABkCJgAAAAAAABAhoAJ\n",
       "AAAAAAAAZAiYAAAAAAAAQIaACQAAAAAAAGQImAAAAAAAAECGgAkAAAAAAABkCJgAAAAAAABAhoAJ\n",
       "AAAAAAAAZAiYAAAAAAAAQMb4cnuevQEAAOCwtot7pQAAAHCXkzIAAAAAAACQIWACAAAAAAAAGQIm\n",
       "AAAAAAAAkCFgAgAAAAAAABkCJgAAAAAAAJAhYAIAAAAAAAAZAiYAAAAAAACQIWACAAAAAAAAGQIm\n",
       "AAAAAAAAkCFgAgAAAAAAABkCJgAAAAAAAJAhYAIAAAAAAAAZAiYAAAAAAACQIWACAAAAAAAAGQIm\n",
       "AAAAAAAAkCFgAgAAAAAAABkCJgAAAAAAAJAhYAIAAAAAAAAZAiYAAAAAAACQIWACAAAAAAAAGQIm\n",
       "AAAAAAAAkCFgAgAAAAAAABkCJgAAAAAAAJAhYAIAAAAAAAAZAiYAAAAAAACQIWACAAAAAAAAGQIm\n",
       "AAAAAAAAkCFgAgAAAAAAABkCJgAAAAAAAJAhYAIAAAAAAAAZAiYAAAAAAACQIWACAAAAAAAAGQIm\n",
       "AAAAAAAAkCFgAgAAAAAAABkCJgAAAAAAAJAhYAIAAAAAAAAZAiYAAAAAAACQIWACAAAAAAAAGQIm\n",
       "AAAAAAAAkCFgAgAAAAAAABkCJgAAAAAAAJAhYAIAAAAAAAAZAiYAAAAAAACQIWACAAAAAAAAGQIm\n",
       "AAAAAAAAkCFgAgAAAAAAABkCJgAAAAAAAJAhYAIAAAAAAAAZAiYAAAAAAACQIWACAAAAAAAAGQIm\n",
       "AAAAAAAAkCFgAgAAAAAAABnj8+159gYAAIDD2rdl9gQAAABI8QITAAAAAAAAyBAwAQAAAAAAgAwB\n",
       "EwAAAAAAAMgQMAEAAAAAAIAMARMAAAAAAADIEDABAAAAAACADAETAAAAAAAAyBAwAQAAAAAAgAwB\n",
       "EwAAAAAAAMgQMAEAAAAAAIAMARMAAAAAAADIEDABAAAAAACADAETAAAAAAAAyBAwAQAAAAAAgAwB\n",
       "EwAAAAAAAMgQMAEAAAAAAIAMARMAAAAAAADIEDABAAAAAACADAETAAAAAAAAyBAwAQAAAAAAgAwB\n",
       "EwAAAAAAAMgQMAEAAAAAAIAMARMAAAAAAADIEDABAAAAAACADAETAAAAAAAAyBAwAQAAAAAAgAwB\n",
       "EwAAAAAAAMgQMAEAAAAAAIAMARMAAAAAAADIEDABAAAAAACADAETAAAAAAAAyBAwAQAAAAAAgAwB\n",
       "EwAAAAAAAMgQMAEAAAAAAIAMARMAAAAAAADIEDABAAAAAACADAETAAAAAAAAyBAwAQAAAAAAgAwB\n",
       "EwAAAAAAAMgQMAEAAAAAAIAMARMAAAAAAADIEDABAAAAAACADAETAAAAAAAAyBAwAQAAAAAAgAwB\n",
       "EwAAAAAAAMgQMAEAAAAAAIAMARMAAAAAAADIEDABAAAAAACADAETAAAAAAAAyBAwAQAAAAAAgAwB\n",
       "EwAAAAAAAMgQMAEAAAAAAIAMARMAAAAAAADIEDABAAAAAACADAETAAAAAAAAyBAwAQAAAAAAgIzx\n",
       "6dt59gYAAIDD2i7OZPdqdW/3vu2rf/hvfJs/WMfsBQnL4jsAAPyLkxwAAAAAAACQIWACAAAAAAAA\n",
       "GQImAAAAAAAAkCFgAgAAAAAAABkCJgAAAAAAAJAhYAIAAAAAAAAZAiYAAAAAAACQIWACAAAAAAAA\n",
       "GQImAAAAAPCDfbtLkasKwyjMPnWqf9IdDUquVfDCWTgG5z8Bg2JQg8Qm6XYAivSF8q2cep4RvGxO\n",
       "1c3iAwDIEDABAAAAAACADAETAAAAAAAAyBAwAQAAAAAAgAwBEwAAAAAAAMgQMAEAAAAAAIAMARMA\n",
       "AAAAAADIEDABAAAAAACADAETAAAAAAAAyBAwAQAAAAAAgAwBEwAAAAAAAMgQMAEAAAAAAIAMARMA\n",
       "AAAAAADIEDABAAAAAACADAETAAAAAAAAyBAwAQAAAAAAgAwBEwAAAAAAAMgQMAEAAAAAAIAMARMA\n",
       "AAAAAADIEDABAAAAAACADAETAAAAAAAAyBAwAQAAAAAAgAwBEwAAAAAAAMgQMAEAAAAAAIAMARMA\n",
       "AAAAAADIEDABAAAAAACADAETAAAAAAAAyBAwAQAAAAAAgAwBEwAAAAAAAMgQMAEAAAAAAIAMARMA\n",
       "AAAAAADIEDABAAAAAACADAETAAAAAAAAyBAwAQAAAAAAgAwBEwAAAAAAAMgQMAEAAAAAAIAMARMA\n",
       "AAAAAADIEDABAAAAAACADAETAAAAAAAAyBAwAQAAAAAAgAwBEwAAAAAAAMgQMAEAAAAAAICM/e3D\n",
       "9AQAAAD4n2xresHhPe3n6Qld22l6Qc/yvfB8a+3TEwCAIS4wAQAAAAAAgAwBEwAAAAAAAMgQMAEA\n",
       "AAAAAIAMARMAAAAAAADIEDABAAAAAACADAETAAAAAAAAyBAwAQAAAAAAgAwBEwAAAAAAAMgQMAEA\n",
       "AAAAAIAMARMAAAAAAADIEDABAAAAAACADAETAAAAAAAAyBAwAQAAAAAAgAwBEwAAAAAAAMgQMAEA\n",
       "AAAAAIAMARMAAAAAAADIEDABAAAAAACADAETAAAAAAAAyBAwAQAAAAAAgAwBEwAAAAAAAMgQMAEA\n",
       "AAAAAIAMARMAAAAAAADIEDABAAAAAACADAETAAAAAAAAyBAwAQAAAAAAgAwBEwAAAAAAAMgQMAEA\n",
       "AAAAAIAMARMAAAAAAADIEDABAAAAAACADAETAAAAAAAAyBAwAQAAAAAAgAwBEwAAAAAAAMgQMAEA\n",
       "AAAAAIAMARMAAAAAAADIEDABAAAAAACADAETAAAAAAAAyBAwAQAAAAAAgAwBEwAAAAAAAMgQMAEA\n",
       "AAAAAIAMARMAAAAAAADIEDABAAAAAACADAETAAAAAAAAyBAwAQAAAAAAgAwBEwAAAAAAAMgQMAEA\n",
       "AAAAAIAMARMAAAAAAADIEDABAAAAAACADAETAAAAAAAAyBAwAQAAAAAAgAwBEwAAAAAAAMgQMAEA\n",
       "AAAAAIAMARMAAAAAAADIEDABAAAAAACADAETAAAAAAAAyBAwAQAAAAAAgAwBEwAAAAAAAMgQMAEA\n",
       "AAAAAICM/ec/P05vAAAAuFin84fpCcd2dZ5ecHz71fSCrtPN9IKebZ9ekLCWdwAA+DcuMAEAAAAA\n",
       "AIAMARMAAAAAAADIEDABAAAAAACADAETAAAAAAAAyBAwAQAAAAAAgAwBEwAAAAAAAMgQMAEAAAAA\n",
       "AIAMARMAAAAAAADIEDABAAAAAACADAETAAAAAAAAyBAwAQAAAAAAgAwBEwAAAAAAAMgQMAEAAAAA\n",
       "AIAMARMAAAAAAADIEDABAAAAAACADAETAAAAAAAAyBAwAQAAAAAAgAwBEwAAAAAAAMgQMAEAAAAA\n",
       "AIAMARMAAAAAAADIEDABAAAAAACADAETAAAAAAAAyBAwAQAAAAAAgAwBEwAAAAAAAMgQMAEAAAAA\n",
       "AIAMARMAAAAAAADIEDABAAAAAACADAETAAAAAAAAyBAwAQAAAAAAgAwBEwAAAAAAAMgQMAEAAAAA\n",
       "AIAMARMAAAAAAADIEDABAAAAAACADAETAAAAAAAAyBAwAQAAAAAAgAwBEwAAAAAAAMgQMAEAAAAA\n",
       "AIAMARMAAAAAAADIEDABAAAAAACADAETAAAAAAAAyBAwAQAAAAAAgAwBEwAAAAAAAMgQMAEAAAAA\n",
       "AIAMARMAAAAAAADIEDABAAAAAACADAETAAAAAAAAyBAwAQAAAAAAgAwBEwAAAAAAAMgQMAEAAAAA\n",
       "AIAMARMAAAAAAADI2N88vpveAAAAcLHO1w/TEw7t6cX99ITDezzfTk/IetpvpifkrG2fngDAP/D/\n",
       "DNS4wAQAAAAAAAAyBEwAAAAAAAAgQ8AEAAAAAAAAMgRMAAAAAAAAIEPABAAAAAAAADIETAAAAAAA\n",
       "ACBDwAQAAAAAAAAyBEwAAAAAAAAgQ8AEAAAAAAAAMgRMAAAAAAAAIEPABAAAAAAAADIETAAAAAAA\n",
       "ACBDwAQAAAAAAAAyBEwAAAAAAAAgQ8AEAAAAAAAAMgRMAAAAAAAAIEPABAAAAAAAADIETAAAAAAA\n",
       "ACBDwAQAAAAAAAAyBEwAAAAAAAAgQ8AEAAAAAAAAMgRMAAAAAAAAIEPABAAAAAAAADIETAAAAAAA\n",
       "ACBDwAQAAAAAAAAyBEwAAAAAAAAgQ8AEAAAAAAAAMgRMAAAAAAAAIEPABAAAAAAAADIETAAAAAAA\n",
       "ACBDwAQAAAAAAAAyBEwAAAAAAAAgQ8AEAAAAAAAAMgRMAAAAAAAAIEPABAAAAAAAADIETAAAAAAA\n",
       "ACBDwAQAAAAAAAAyBEwAAAAAAAAgQ8AEAAAAAAAAMgRMAAAAAAAAIEPABAAAAAAAADIETAAAAAAA\n",
       "ACBDwAQAAAAAAAAyBEwAAAAAAAAgQ8AEAAAAAAAAMgRMAAAAAAAAIEPABAAAAAAAADL2n7YfpzcA\n",
       "AABcrKuXf0xPOLTHF59PTzi8p+v76Qldp5vpBTlr7dMTErbNOzyH7+V51jpNTwCA/5wLTAAAAAAA\n",
       "ACBDwAQAAAAAAAAyBEwAAAAAAAAgQ8AEAAAAAAAAMgRMAAAAAAAAIEPABAAAAAAAADIETAAAAAAA\n",
       "ACBDwAQAAAAAAAAyBEwAAAAAAAAgQ8AEAAAAAAAAMgRMAAAAAAAAIEPABAAAAAAAADIETAAAAAAA\n",
       "ACBDwAQAAAAAAAAyBEwAAAAAAAAgQ8AEAAAAAAAAMgRMAAAAAAAAIEPABAAAAAAAADIETAAAAAAA\n",
       "ACBDwAQAAAAAAAAyBEwAAAAAAAAgQ8AEAAAAAAAAMgRMAAAAAAAAIEPABAAAAAAAADIETAAAAAAA\n",
       "ACBDwAQAAAAAAAAyBEwAAAAAAAAgQ8AEAAAAAAAAMgRMAAAAAAAAIEPABAAAAAAAADIETAAAAAAA\n",
       "ACBDwAQAAAAAAAAyBEwAAAAAAAAgQ8AEAAAAAAAAMgRMAAAAAAAAIEPABAAAAAAAADIETAAAAAAA\n",
       "ACBDwAQAAAAAAAAyBEwAAAAAAAAgQ8AEAAAAAAAAMgRMAAAAAAAAIEPABAAAAAAAADIETAAAAAAA\n",
       "ACBDwAQAAAAAAAAyBEwAAAAAAAAgQ8AEAAAAAAAAMgRMAAAAAAAAIEPABAAAAAAAADIETAAAAAAA\n",
       "ACBj/+3xzfQGAACAi3X15a/TEw7t8f6r6QmH93T92fSErtPt9IKcbbuZnpCw1j49AQAgzQUmAAAA\n",
       "AAAAkCFgAgAAAAAAABkCJgAAAAAAAJAhYOLpmxAAABVqSURBVAIAAAAAAAAZAiYAAAAAAACQIWAC\n",
       "AAAAAAAAGQImAAAAAAAAkCFgAgAAAAAAABkCJgAAAAAAAJAhYAIAAAAAAAAZAiYAAAAAAACQIWAC\n",
       "AAAAAAAAGQImAAAAAAAAkCFgAgAAAAAAABkCJgAAAAAAAJAhYAIAAAAAAAAZAiYAAAAAAACQIWAC\n",
       "AAAAAAAAGQImAAAAAAAAkCFgAgAAAAAAABkCJgAAAAAAAJAhYAIAAAAAAAAZAiYAAAAAAACQIWAC\n",
       "AAAAAAAAGQImAAAAAAAAkCFgAgAAAAAAABkCJgAAAAAAAJAhYAIAAAAAAAAZAiYAAAAAAACQIWAC\n",
       "AAAAAAAAGQImAAAAAAAAkCFgAgAAAAAAABkCJgAAAAAAAJAhYAIAAAAAAAAZAiYAAAAAAACQIWAC\n",
       "AAAAAAAAGQImAAAAAAAAkCFgAgAAAAAAABkCJgAAAAAAAJAhYAIAAAAAAAAZAiYAAAAAAACQIWAC\n",
       "AAAAAAAAGQImAAAAAAAAkCFgAgAAAAAAABkCJgAAAAAAAJAhYAIAAAAAAAAZ+/sPv0xvAAAAuFj7\n",
       "6/fTEw7t4e6L6QmH93S+n56QtXmbv9m2fXpCwlre4TnWOk1P4ACW/x2AT5ILTAAAAAAAACBDwAQA\n",
       "AAAAAAAyBEwAAAAAAAAgQ8AEAAAAAAAAMgRMAAAAAAAAIEPABAAAAAAAADIETAAAAAAAACBDwAQA\n",
       "AAAAAAAyBEwAAAAAAAAgQ8AEAAAAAAAAMgRMAAAAAAAAIEPABAAAAAAAADIETAAAAAAAACBDwAQA\n",
       "AAAAAAAyBEwAAAAAAAAgQ8AEAAAAAAAAMgRMAAAAAAAAIEPABAAAAAAAADIETAAAAAAAACBDwAQA\n",
       "AAAAAAAyBEwAAAAAAAAgQ8AEAAAAAAAAMgRMAAAAAAAAIEPABAAAAAAAADIETAAAAAAAACBDwAQA\n",
       "AAAAAAAyBEwAAAAAAAAgQ8AEAAAAAAAAMgRMAAAAAAAAIEPABAAAAAAAADIETAAAAAAAACBDwAQA\n",
       "AAAAAAAyBEwAAAAAAAAgQ8AEAAAAAAAAMgRMAAAAAAAAIEPABAAAAAAAADIETAAAAAAAACBDwAQA\n",
       "AAAAAAAyBEwAAAAAAAAgQ8AEAAAAAAAAMgRMAAAAAAAAIEPABAAAAAAAADIETAAAAAAAACBDwAQA\n",
       "AAAAAAAyBEwAAAAAAAAgQ8AEAAAAAAAAMgRMAAAAAAAAIEPABAAAAAAAADIETAAAAAAAACBDwAQA\n",
       "AAAAAAAyBEwAAAAAAAAgQ8AEAAAAAAAAMgRMAAAAAAAAIEPABAAAAAAAADIETAAAAAAAACBDwAQA\n",
       "AAAAAAAyBEwAAAAAAAAgQ8AEAAAAAAAAMgRMAAAAAAAAIEPABAAAAAAAADIETAAAAAAAACBDwAQA\n",
       "AAAAAAAyBEwAAAAAAAAgQ8AEAAAAAAAAMgRMAAAAAAAAIEPABAAAAAAAADIETAAAAAAAACBDwAQA\n",
       "AAAAAAAyBEwAAAAAAAAgQ8AEAAAAAAAAMvaHj79PbwAAALhY6/Xd9IRDe7x9NT3h+M4vpxdkrbVP\n",
       "T8jxJgAAPIcLTAAAAAAAACBDwAQAAAAAAAAyBEwAAAAAAAAgQ8AEAAAAAAAAMgRMAAAAAAAAIEPA\n",
       "BAAAAAAAADIETAAAAAAAACBDwAQAAAAAAAAyBEwAAAAAAAAgQ8AEAAAAAAAAMgRMAAAAAAAAIEPA\n",
       "BAAAAAAAADIETAAAAAAAACBDwAQAAAAAAAAyBEwAAAAAAAAgQ8AEAAAAAAAAMgRMAAAAAAAAIEPA\n",
       "BAAAAAAAADIETAAAAAAAACBDwAQAAAAAAAAyBEwAAAAAAAAgQ8AEAAAAAAAAMgRMAAAAAAAAIEPA\n",
       "BAAAAAAAADIETAAAAAAAACBDwAQAAAAAAAAyBEwAAAAAAAAgQ8AEAAAAAAAAMgRMAAAAAAAAIEPA\n",
       "BAAAAAAAADIETAAAAAAAACBDwAQAAAAAAAAyBEwAAAAAAAAgQ8AEAAAAAAAAMgRMAAAAAAAAIEPA\n",
       "BAAAAAAAADIETAAAAAAAACBDwAQAAAAAAAAyBEwAAAAAAAAgQ8AEAAAAAAAAMgRMAAAAAAAAIEPA\n",
       "BAAAAAAAADIETAAAAAAAACBDwAQAAAAAAAAyBEwAAAAAAAAgQ8AEAAAAAAAAMgRMAAAAAAAAIEPA\n",
       "BAAAAAAAADIETAAAAAAAACBDwAQAAAAAAAAyBEwAAAAAAAAgQ8AEAAAAAAAAMgRMAAAAAAAAIEPA\n",
       "BAAAAAAAADL2x4/vpjcAAABcrIfvvp+ecGhPL7+ZnnB4+/nV9ISs0+lmekLOWvv0hIS1TtMTOJC1\n",
       "+V0BcDwuMAEAAAAAAIAMARMAAAAAAADIEDABAAAAAACADAETAAAAAAAAyBAwAQAAAAAAgAwBEwAA\n",
       "AAAAAMgQMAEAAAAAAIAMARMAAAAAAADIEDABAAAAAACADAETAAAAAAAAyBAwAQAAAAAAgAwBEwAA\n",
       "AAAAAMgQMAEAAAAAAIAMARMAAAAAAADIEDABAAAAAACADAETAAAAAAAAyBAwAQAAAAAAgAwBEwAA\n",
       "AAAAAMgQMAEAAAAAAIAMARMAAAAAAADIEDABAAAAAACADAETAAAAAAAAyBAwAQAAAAAAgAwBEwAA\n",
       "AAAAAMgQMAEAAAAAAIAMARMAAAAAAADIEDABAAAAAACADAETAAAAAAAAyBAwAQAAAAAAgAwBEwAA\n",
       "AAAAAMgQMAEAAAAAAIAMARMAAAAAAADIEDABAAAAAACADAETAAAAAAAAyBAwAQAAAAAAgAwBEwAA\n",
       "AAAAAMgQMAEAAAAAAIAMARMAAAAAAADIEDABAAAAAACADAETAAAAAAAAyBAwAQAAAAAAgAwBEwAA\n",
       "AAAAAMgQMAEAAAAAAIAMARMAAAAAAADIEDABAAAAAACADAETAAAAAAAAyBAwAQAAAAAAgAwBEwAA\n",
       "AAAAAMgQMAEAAAAAAIAMARMAAAAAAADIEDABAAAAAACADAETAAAAAAAAyBAwAQAAAAAAgAwBEwAA\n",
       "AAAAAMgQMAEAAAAAAIAMARMAAAAAAADIEDABAAAAAACADAETAAAAAAAAyBAwAQAAAAAAgAwBEwAA\n",
       "AAAAAMgQMAEAAAAAAIAMARMAAAAAAADIEDABAAAAAACADAETAAAAAAAAyBAwAQAAAAAAgAwBEwAA\n",
       "AAAAAMgQMAEAAAAAAIAMARMAAAAAAADIEDABAAAAAACADAETAAAAAAAAyBAwAQAAAAAAgAwBEwAA\n",
       "AAAAAMgQMAEAAAAAAIAMARMAAAAAAADIEDABAAAAAACADAETAAAAAAAAyBAwAQAAAAAAgAwBEwAA\n",
       "AAAAAMgQMAEAAAAAAIAMARMAAAAAAADIEDABAAAAAACADAETAAAAAAAAyBAwAQAAAAAAgAwBEwAA\n",
       "AAAAAMgQMAEAAAAAAIAMARMAAAAAAADIEDABAAAAAACADAETAAAAAAAAyBAwAQAAAAAAgIz97vrr\n",
       "6Q0AAAAXa/v2h+kJh3Z7upuewAVb2z49AQAAPkkuMAEAAAAAAIAMARMAAAAAAADIEDABAAAAAACA\n",
       "DAETAAAAAAAAyBAwAQAAAAAAgAwBEwAAAAAAAMgQMAEAAAAAAIAMARMAAAAAAADIEDABAAAAAACA\n",
       "DAETAAAAAAAAyBAwAQAAAAAAgAwBEwAAAAAAAMgQMAEAAAAAAIAMARMAAAAAAADIEDABAAAAAACA\n",
       "DAETAAAAAAAAyBAwAQAAAAAAgAwBEwAAAAAAAMgQMAEAAAAAAIAMARMAAAAAAADIEDABAAAAAACA\n",
       "DAETAAAAAAAAyBAwAQAAAAAAgAwBEwAAAAAAAMgQMAEAAAAAAIAMARMAAAAAAADIEDABAAAAAACA\n",
       "DAETAAAAAAAAyBAwAQAAAAAAgAwBEwAAAAAAAMgQMAEAAAAAAIAMARMAAAAAAADIEDABAAAAAACA\n",
       "DAETAAAAAAAAyBAwAQAAAAAAgAwBEwAAAAAAAMgQMAEAAAAAAIAMARMAAAAAAADIEDABAAAAAACA\n",
       "DAETAAAAAAAAyBAwAQAAAAAAgAwBEwAAAAAAAMgQMAEAAAAAAIAMARMAAAAAAADIEDABAAAAAACA\n",
       "DAETAPirPTsWAAAAABjkbz2NHaURAAAAAMCGwAQAAAAAAAA2BCYAAAAAAACwITABAAAAAACADYEJ\n",
       "AAAAAAAAbAhMAAAAAAAAYENgAgAAAAAAABsCEwAAAAAAANgQmAAAAAAAAMCGwAQAAAAAAAA2BCYA\n",
       "AAAAAACwITABAAAAAACADYEJAAAAAAAAbAhMAAAAAAAAYENgAgAAAAAAABsCEwAAAAAAANgQmAAA\n",
       "AAAAAMCGwAQAAAAAAAA2BCYAAAAAAACwITABAAAAAACADYEJAAAAAAAAbAhMAAAAAAAAYENgAgAA\n",
       "AAAAABsCEwAAAAAAANgQmAAAAAAAAMCGwAQAAAAAAAA2BCYAAAAAAACwITABAAAAAACADYEJAAAA\n",
       "AAAAbAhMAAAAAAAAYENgAgAAAAAAABsCEwAAAAAAANgQmAAAAAAAAMCGwAQAAAAAAAA2BCYAAAAA\n",
       "AACwITABAAAAAACADYEJAAAAAAAAbAhMAAAAAAAAYENgAgAAAAAAABsCEwAAAAAAANgQmAAAAAAA\n",
       "AMCGwAQAAAAAAAA2BCYAAAAAAACwITABAAAAAACADYEJAAAAAAAAbAhMAAAAAAAAYENgAgAAAAAA\n",
       "ABsCEwAAAAAAANgQmAAAAAAAAMCGwAQAAAAAAAA2BCYAAAAAAACwITABAAAAAACADYEJAAAAAAAA\n",
       "bAhMAAAAAAAAYENgAgAAAAAAABsCEwAAAAAAANgQmAAAAAAAAMCGwAQAAAAAAAA2BCYAAAAAAACw\n",
       "ITABAAAAAACADYEJAAAAAAAAbAhMAAAAAAAAYENgAgAAAAAAABsCEwAAAAAAANgQmAAAAAAAAMCG\n",
       "wAQAAAAAAAA2BCYAAAAAAACwITABAAAAAACADYEJAAAAAAAAbAhMAAAAAAAAYENgAgAAAAAAABsC\n",
       "EwAAAAAAANgQmAAAAAAAAMCGwAQAAAAAAAA2BCYAAAAAAACwITABAAAAAACADYEJAAAAAAAAbAhM\n",
       "AAAAAAAAYENgAgAAAAAAABsCEwAAAAAAANgQmAAAAAAAAMCGwAQAAAAAAAA2BCYAAAAAAACwITAB\n",
       "AAAAAACADYEJAAAAAAAAbAhMAAAAAAAAYENgAgAAAAAAABsCEwAAAAAAANgQmAAAAAAAAMCGwAQA\n",
       "AAAAAAA2BCYAAAAAAACwITABAAAAAACADYEJAAAAAAAAbAhMAAAAAAAAYENgAgAAAAAAABsCEwAA\n",
       "AAAAANgQmAAAAAAAAMCGwAQAAAAAAAA2BCYAAAAAAACwITABAAAAAACADYEJAAAAAAAAbAhMAAAA\n",
       "AAAAYENgAgAAAAAAABsCEwAAAAAAANgQmAAAAAAAAMCGwAQAAAAAAAA2BCYAAAAAAACwITABAAAA\n",
       "AACADYEJAAAAAAAAbAhMAAAAAAAAYENgAgAAAAAAABsCEwAAAAAAANgQmAAAAAAAAMCGwAQAAAAA\n",
       "AAA2BCYAAAAAAACwITABAAAAAACADYEJAAAAAAAAbAhMAAAAAAAAYENgAgAAAAAAABsCEwAAAAAA\n",
       "ANgQmAAAAAAAAMCGwAQAAAAAAAA2BCYAAAAAAACwITABAAAAAACADYEJAAAAAAAAbAhMAAAAAAAA\n",
       "YENgAgAAAAAAABsCEwAAAAAAANgQmAAAAAAAAMCGwAQAAAAAAAA2BCYAAAAAAACwITABAAAAAACA\n",
       "DYEJAAAAAAAAbAhMAAAAAAAAYENgAgAAAAAAABsCEwAAAAAAANgQmAAAAAAAAMCGwAQAAAAAAAA2\n",
       "BCYAAAAAAACwITABAAAAAACADYEJAAAAAAAAbAhMAAAAAAAAYENgAgAAAAAAABsCEwAAAAAAANgQ\n",
       "mAAAAAAAAMCGwAQAAAAAAAA2BCYAAAAAAACwITABAAAAAACADYEJAAAAAAAAbAhMAAAAAAAAYENg\n",
       "AgAAAAAAABsCEwAAAAAAANgQmAAAAAAAAMCGwAQAAAAAAAA2BCYAAAAAAACwITABAAAAAACADYEJ\n",
       "AAAAAAAAbAhMAAAAAAAAYENgAgAAAAAAABsCEwAAAAAAANgQmAAAAAAAAMCGwAQAAAAAAAA2BCYA\n",
       "AAAAAACwITABAAAAAACADYEJAAAAAAAAbAhMAAAAAAAAYENgAgAAAAAAABsCEwAAAAAAANgQmAAA\n",
       "AAAAAMCGwAQAAAAAAAA2BCYAAAAAAACwITABAAAAAACADYEJAAAAAAAAbAhMAAAAAAAAYENgAgAA\n",
       "AAAAABsCEwAAAAAAANgQmAAAAAAAAMCGwAQAAAAAAAA2BCYAAAAAAACwITABAAAAAACADYEJAAAA\n",
       "AAAAbAhMAAAAAAAAYENgAgAAAAAAABsCEwAAAAAAANgQmAAAAAAAAMCGwAQAAAAAAAA2BCYAAAAA\n",
       "AACwITABAAAAAACADYEJAAAAAAAAbAhMAAAAAAAAYENgAgAAAAAAABsCEwAAAAAAANgQmAAAAAAA\n",
       "AMCGwAQAAAAAAAA2BCYAAAAAAACwITABAAAAAACADYEJAAAAAAAAbAhMAAAAAAAAYENgAgAAAAAA\n",
       "ABsCEwAAAAAAANgQmAAAAAAAAMCGwAQAAAAAAAA2BCYAAAAAAACwITABAAAAAACADYEJAAAAAAAA\n",
       "bAhMAAAAAAAAYENgAgAAAAAAABsCEwAAAAAAANgQmAAAAAAAAMCGwAQAAAAAAAA2BCYAAAAAAACw\n",
       "ITABAAAAAACADYEJAAAAAAAAbAhMAAAAAAAAYENgAgAAAAAAABsCEwAAAAAAANgQmAAAAAAAAMCG\n",
       "wAQAAAAAAAA2BCYAAAAAAACwITABAAAAAACADYEJAAAAAAAAbAhMAAAAAAAAYENgAgAAAAAAABsC\n",
       "EwAAAAAAANgQmAAAAAAAAMCGwAQAAAAAAAA2BCYAAAAAAACwITABAAAAAACADYEJAAAAAAAAbAhM\n",
       "AAAAAAAAYENgAgAAAAAAABsCEwAAAAAAANgQmAAAAAAAAMCGwAQAAAAAAAA2BCYAAAAAAACwITAB\n",
       "AAAAAACADYEJAAAAAAAAbAhMAAAAAAAAYENgAgAAAAAAABsCEwAAAAAAANgQmAAAAAAAAMCGwAQA\n",
       "AAAAAAA2BCYAAAAAAACwITABAAAAAACADYEJAAAAAAAAbAhMAAAAAAAAYENgAgAAAAAAABsCEwAA\n",
       "AAAAANgQmAAAAAAAAMCGwAQAAAAAAAA2BCYAAAAAAACwITABAAAAAACADYEJAAAAAAAAbAhMAAAA\n",
       "AAAAYENgAgAAAAAAABsCEwAAAAAAANgQmAAAAAAAAMCGwAQAAAAAAAA2AuEhY+N1GWbdAAAAAElF\n",
       "TkSuQmCC\n",
       "\" transform=\"translate(273, 47)\"/>\n",
       "</g>\n",
       "<defs>\n",
       "  <clipPath id=\"clip7203\">\n",
       "    <rect x=\"2160\" y=\"47\" width=\"73\" height=\"1377\"/>\n",
       "  </clipPath>\n",
       "</defs>\n",
       "<g clip-path=\"url(#clip7203)\">\n",
       "<image width=\"72\" height=\"1376\" xlink:href=\"data:image/png;base64,\n",
       "iVBORw0KGgoAAAANSUhEUgAAAEgAAAVgCAYAAADsKhu7AAAL3UlEQVR4nO3dwXErRxAFwYWi/bdC\n",
       "Xkp/Rhao67h7yLSAUfFigRmA5O/f8/d9+F9/vf0DfJ1AQaAgUBAozLn/vv0zfJoFBYGCQEGgMNdD\n",
       "emVBQaAgUBAoCBTmHq9iGwsKAgWBgkDBUSNYUBAoCBQECh7SwYKCQEGgIFAQKHgVCxYUBAoCBYGC\n",
       "S/tgQUGgIFAQKHgnHSwoCBQECgIFgYJXsWBBQaAgUBAozOM+aGVBQaAgUBAoCBS8igULCgIFgYJA\n",
       "YR73QSsLCgIFgYJAwTvpYEFBoCBQECgIFLyKBQsKAgWBgkBhnvPP2z/Dp1lQECgIFAQKLu2DBQWB\n",
       "gkBBoCBQcB8ULCgIFAQKAgUP6WBBQaAgUBAoCBTmd/+8/TN8mgUFgYJAQaAwz/GQ3lhQECgIFAQK\n",
       "8/OQXllQECgIFAQKAgVHjWBBQaAgUBAozOPSfmVBQaAgUBAouA8KFhQECgIFgYJAwX1QsKAgUBAo\n",
       "CBQcNYIFBYGCQEGgIFBw1AgWFAQKAgWBwvzOeftn+DQLCgIFgYJAwTvpYEFBoCBQECgIFLyKBQsK\n",
       "AgWBgkDBR8/BgoJAQaAgUJjHpf3KgoJAQaAgUBAoOGoECwoCBYGCQMGlfbCgIFAQKAgUBApexYIF\n",
       "BYGCQEGg4FcRggUFgYJAQaDgo+dgQUGgIFAQKAgU3AcFCwoCBYGCQMFRI1hQECgIFAQKHtLBgoJA\n",
       "QaAgUBAo+Og5WFAQKAgUBAou7YMFBYGCQEGgIFBwYRYsKAgUBAoCBQ/pYEFBoCBQECh4SAcLCgIF\n",
       "gYJAQaAwz7lv/wyfZkFBoCBQECjMcx01NhYUBAoCBYGC+6BgQUGgIFAQKAgU3AcFCwoCBYGCQMFR\n",
       "I1hQECgIFAQKAgWvYsGCgkBBoCBQcB8ULCgIFAQKAgXvpIMFBYGCQEGgIFCYx4vYyoKCQEGgIFDw\n",
       "kA4WFAQKAgWBwvh1sZ0FBYGCQEGgIFBw1AgWFAQKAgWBgod0sKAgUBAoCBQECl7FggUFgYJAQaAw\n",
       "j99EWFlQECgIFAQKc8/v7Z/h0ywoCBQECgIFgYL7oGBBQaAgUBAozOOosbKgIFAQKAgU5l4P6Y0F\n",
       "BYGCQEGgIFBw1AgWFAQKAgWBgod0sKAgUBAoCBQECi7MggUFgYJAQaDgqBEsKAgUBAoChXmORht1\n",
       "gkBBoCBQECi4DwoWFAQKAgWBgvugYEFBoCBQECj40xTBgoJAQaAgUBAozHM12qgTBAoCBYGCo0aw\n",
       "oCBQECgIFAQKXsWCBQWBgkBBoOBbrkGdIFAQKAgUfIkzWFAQKAgUBAoCBd9yDRYUBAoCBYHCXPdB\n",
       "K3WCQEGgIFBwHxQsKAgUBAoCBYGC+6BgQUGgIFAQKLgPCuoEgYJAQaAgUHBhFiwoCBQECgIFvy8W\n",
       "LCgIFAQKAoW5/n7QSp0gUBAoCBQECj56DhYUBAoCBYGC+6BgQUGgIFAQKPhkNVhQECgIFAQKAgXf\n",
       "cg3qBIGCQEGg4KgRLCgIFAQKAgWBgk81ggUFgYJAQaDgqBEsKAgUBAoCBZf2QZ0gUBAoCBQECo4a\n",
       "wYKCQEGgIFBwaR8sKAgUBAoCBe+kgwUFgYJAQaAgUPCpRlAnCBQECgIFR41gQUGgIFAQKAgUvIoF\n",
       "CwoCBYGCQMFDOlhQECgIFAQKvh8ULCgIFAQKAgWBwhz/22elThAoCBQECu6DggUFgYJAQaDgPihY\n",
       "UBAoCBQECgIFR41gQUGgIFAQKHhIBwsKAgWBgkBBoOBVLFhQECgIFAQKHtLBgoJAQaAgUJjjIb2y\n",
       "oCBQECgIFAQKjhrBgoJAQaAgUPCQDhYUBAoCBYGCh3SwoCBQECgIFAQKXsWCBQWBgkBBoOAhHSwo\n",
       "CBQECgIFgYIvUAULCgIFgYJAwVEjWFAQKAgUBAoe0sGCgkBBoCBQECj4rwhBnSBQECgIFBw1ggUF\n",
       "gYJAQaDgk9VgQUGgIFAQKAgUHDWCBQWBgkBBoOCoESwoCBQECgIFgYKjRrCgIFAQKAgUPKSDBQWB\n",
       "gkBBoOA+KFhQECgIFAQKAoW5j1exjQUFgYJAQaDgqBEsKAgUBAoCBZf2wYKCQEGgIFAQKMy5b/8I\n",
       "32ZBQaAgUBAoOGoECwoCBYGCQEGg4FONYEFBoCBQECjM8f2glQUFgYJAQaDgPihYUBAoCBQECgIF\n",
       "90HBgoJAQaAgUHDUCBYUBAoCBYHCnLd/go+zoCBQECgIFAQKjhrBgoJAQaAgUHBpHywoCBQECgIF\n",
       "gYK/ghcsKAgUBAoCBUeNYEFBoCBQECj4+0HBgoJAQaAgUBAouA8KFhQECgIFgYLvBwULCgIFgYJA\n",
       "wa8iBAsKAgWBgkBBoOCoESwoCBQECgIFR41gQUGgIFAQKAgUHDWCBQWBgkBBoOBXEYIFBYGCQEGg\n",
       "MH4TYWdBQaAgUBAoCBQcNYIFBYGCQEGg4KgRLCgIFAQKAgXvpIMFBYGCQEGgIFBw1AgWFAQKAgWB\n",
       "gqNGsKAgUBAoCBQECv6Wa7CgIFAQKAgU/KnSYEFBoCBQECh4Jx0sKAgUBAoCBYHCHEeNlQUFgYJA\n",
       "QaAw11FjZUFBoCBQECj4flCwoCBQECgIFAQKfhUhWFAQKAgUBAo+eg4WFAQKAgWBgkDBR8/BgoJA\n",
       "QaAgUPDRc7CgIFAQKAgU/JfMYEFBoCBQECgIFHyBKlhQECgIFAQK7oOCBQWBgkBBoOA+KFhQECgI\n",
       "FAQKAgVHjWBBQaAgUBAo+BJnsKAgUBAoCBQECn6hLlhQECgIFAQK/jRFsKAgUBAoCBS8kw4WFAQK\n",
       "AgWBgkDBq1iwoCBQECgIFPyXzGBBQaAgUBAoeCcdLCgIFAQKAgWBgo+egwUFgYJAQaDgqBEsKAgU\n",
       "BAoCBYGCV7FgQUGgIFAQKLgPChYUBAoCBYGCd9LBgoJAQaAgUBAo+FuuwYKCQEGgIFDwp0qDBQWB\n",
       "gkBBoOA+KFhQECgIFAQKAgUfPQcLCgIFgYJAwVEjWFAQKAgUBAoChbmPl7GNBQWBgkBBoOCoESwo\n",
       "CBQECgIFl/bBgoJAQaAgUBAoOGoECwoCBYGCQMFRI1hQECgIFAQK3kkHCwoCBYGCQEGg4LeegwUF\n",
       "gYJAQaAwx5c4VxYUBAoCBYGCQMFRI1hQECgIFAQKjhrBgoJAQaAgUPD3pIMFBYGCQEGgIFCY60Jo\n",
       "ZUFBoCBQECg4agQLCgIFgYJAwa8iBAsKAgWBgkBBoOBPlQYLCgIFgYJAwVEjWFAQKAgUBAoCBd9y\n",
       "DRYUBAoCBYGC+6BgQUGgIFAQKHgnHSwoCBQECgIFgYJXsWBBQaAgUBAozPH7YisLCgIFgYJAwaV9\n",
       "sKAgUBAoCBQECu6DggUFgYJAQaDgIR0sKAgUBAoCBYGCV7FgQUGgIFAQKMx9/B28jQUFgYJAQaDg\n",
       "nXSwoCBQECgIFAQKc36OGhsLCgIFgYJAYY77oJUFBYGCQEGg4CEdLCgIFAQKAgWBgo+egwUFgYJA\n",
       "QaAw5+ej540FBYGCQEGgIFBwYRYsKAgUBAoCBQ/pYEFBoCBQECi4tA8WFAQKAgWBgkBhzvPn7Z/h\n",
       "0ywoCBQECgIF90HBgoJAQaAgUJjrnfTKgoJAQaAgUBAoOGoECwoCBYGCQMFDOlhQECgIFAQKAgUX\n",
       "ZsGCgkBBoCBQcNQIFhQECgIFgYJ30sGCgkBBoCBQECj4hbpgQUGgIFAQKMy5HtIbCwoCBYGCQME7\n",
       "6WBBQaAgUBAoCBTmOmqsLCgIFAQKAgVHjWBBQaAgUBAoCBR8gSpYUBAoCBQECj56DhYUBAoCBYGC\n",
       "+6BgQUGgIFAQKAgUfPQcLCgIFAQKAgWX9sGCgkBBoCBQ8E46WFAQKAgUBAoCBZ9qBAsKAgWBgkDB\n",
       "USNYUBAoCBQECgIFn2oECwoCBYGCQMFRI1hQECgIFAQKLu2DBQWBgkBBoCBQmHvdB20sKAgUBAoC\n",
       "BUeNYEFBoCBQECjMc+/bP8OnWVAQKAgUBAoChXkcNVYWFAQKAgWBgu8HBQsKAgWBgkBBoOCoESwo\n",
       "CBQECgIFHz0HCwoCBYGCQGEe90ErCwoCBYGCQEGg4KgRLCgIFAQKAgWX9sGCgkBBoCBQ+A+xBu/P\n",
       "hn95lgAAAABJRU5ErkJggg==\n",
       "\" transform=\"translate(2161, 47)\"/>\n",
       "</g>\n",
       "<path clip-path=\"url(#clip7200)\" d=\"M 0 0 M2268.76 1322.56 L2298.43 1322.56 L2298.43 1326.5 L2268.76 1326.5 L2268.76 1322.56 Z\" fill=\"#000000\" fill-rule=\"evenodd\" fill-opacity=\"1\" /><path clip-path=\"url(#clip7200)\" d=\"M 0 0 M2313.5 1307.91 Q2309.89 1307.91 2308.06 1311.47 Q2306.26 1315.02 2306.26 1322.15 Q2306.26 1329.25 2308.06 1332.82 Q2309.89 1336.36 2313.5 1336.36 Q2317.14 1336.36 2318.94 1332.82 Q2320.77 1329.25 2320.77 1322.15 Q2320.77 1315.02 2318.94 1311.47 Q2317.14 1307.91 2313.5 1307.91 M2313.5 1304.21 Q2319.31 1304.21 2322.37 1308.81 Q2325.45 1313.4 2325.45 1322.15 Q2325.45 1330.87 2322.37 1335.48 Q2319.31 1340.06 2313.5 1340.06 Q2307.69 1340.06 2304.61 1335.48 Q2301.56 1330.87 2301.56 1322.15 Q2301.56 1313.4 2304.61 1308.81 Q2307.69 1304.21 2313.5 1304.21 Z\" fill=\"#000000\" fill-rule=\"evenodd\" fill-opacity=\"1\" /><path clip-path=\"url(#clip7200)\" d=\"M 0 0 M2330.51 1333.51 L2335.4 1333.51 L2335.4 1339.39 L2330.51 1339.39 L2330.51 1333.51 Z\" fill=\"#000000\" fill-rule=\"evenodd\" fill-opacity=\"1\" /><path clip-path=\"url(#clip7200)\" d=\"M 0 0 M2350.47 1307.91 Q2346.86 1307.91 2345.03 1311.47 Q2343.22 1315.02 2343.22 1322.15 Q2343.22 1329.25 2345.03 1332.82 Q2346.86 1336.36 2350.47 1336.36 Q2354.1 1336.36 2355.91 1332.82 Q2357.74 1329.25 2357.74 1322.15 Q2357.74 1315.02 2355.91 1311.47 Q2354.1 1307.91 2350.47 1307.91 M2350.47 1304.21 Q2356.28 1304.21 2359.33 1308.81 Q2362.41 1313.4 2362.41 1322.15 Q2362.41 1330.87 2359.33 1335.48 Q2356.28 1340.06 2350.47 1340.06 Q2344.66 1340.06 2341.58 1335.48 Q2338.52 1330.87 2338.52 1322.15 Q2338.52 1313.4 2341.58 1308.81 Q2344.66 1304.21 2350.47 1304.21 Z\" fill=\"#000000\" fill-rule=\"evenodd\" fill-opacity=\"1\" /><path clip-path=\"url(#clip7200)\" d=\"M 0 0 M2377.48 1307.91 Q2373.87 1307.91 2372.04 1311.47 Q2370.24 1315.02 2370.24 1322.15 Q2370.24 1329.25 2372.04 1332.82 Q2373.87 1336.36 2377.48 1336.36 Q2381.12 1336.36 2382.92 1332.82 Q2384.75 1329.25 2384.75 1322.15 Q2384.75 1315.02 2382.92 1311.47 Q2381.12 1307.91 2377.48 1307.91 M2377.48 1304.21 Q2383.29 1304.21 2386.35 1308.81 Q2389.43 1313.4 2389.43 1322.15 Q2389.43 1330.87 2386.35 1335.48 Q2383.29 1340.06 2377.48 1340.06 Q2371.67 1340.06 2368.59 1335.48 Q2365.54 1330.87 2365.54 1322.15 Q2365.54 1313.4 2368.59 1308.81 Q2371.67 1304.21 2377.48 1304.21 Z\" fill=\"#000000\" fill-rule=\"evenodd\" fill-opacity=\"1\" /><path clip-path=\"url(#clip7200)\" d=\"M 0 0 M2393.32 1304.83 L2415.54 1304.83 L2415.54 1306.82 L2402.99 1339.39 L2398.11 1339.39 L2409.91 1308.77 L2393.32 1308.77 L2393.32 1304.83 Z\" fill=\"#000000\" fill-rule=\"evenodd\" fill-opacity=\"1\" /><path clip-path=\"url(#clip7200)\" d=\"M 0 0 M2420.65 1304.83 L2439.01 1304.83 L2439.01 1308.77 L2424.94 1308.77 L2424.94 1317.24 Q2425.95 1316.89 2426.97 1316.73 Q2427.99 1316.54 2429.01 1316.54 Q2434.8 1316.54 2438.18 1319.71 Q2441.56 1322.89 2441.56 1328.3 Q2441.56 1333.88 2438.08 1336.98 Q2434.61 1340.06 2428.29 1340.06 Q2426.12 1340.06 2423.85 1339.69 Q2421.6 1339.32 2419.19 1338.58 L2419.19 1333.88 Q2421.28 1335.02 2423.5 1335.57 Q2425.72 1336.13 2428.2 1336.13 Q2432.2 1336.13 2434.54 1334.02 Q2436.88 1331.91 2436.88 1328.3 Q2436.88 1324.69 2434.54 1322.59 Q2432.2 1320.48 2428.2 1320.48 Q2426.32 1320.48 2424.45 1320.9 Q2422.6 1321.31 2420.65 1322.19 L2420.65 1304.83 Z\" fill=\"#000000\" fill-rule=\"evenodd\" fill-opacity=\"1\" /><path clip-path=\"url(#clip7200)\" d=\"M 0 0 M2268.76 1139.92 L2298.43 1139.92 L2298.43 1143.85 L2268.76 1143.85 L2268.76 1139.92 Z\" fill=\"#000000\" fill-rule=\"evenodd\" fill-opacity=\"1\" /><path clip-path=\"url(#clip7200)\" d=\"M 0 0 M2313.5 1125.27 Q2309.89 1125.27 2308.06 1128.83 Q2306.26 1132.37 2306.26 1139.5 Q2306.26 1146.61 2308.06 1150.17 Q2309.89 1153.71 2313.5 1153.71 Q2317.14 1153.71 2318.94 1150.17 Q2320.77 1146.61 2320.77 1139.5 Q2320.77 1132.37 2318.94 1128.83 Q2317.14 1125.27 2313.5 1125.27 M2313.5 1121.56 Q2319.31 1121.56 2322.37 1126.17 Q2325.45 1130.75 2325.45 1139.5 Q2325.45 1148.23 2322.37 1152.83 Q2319.31 1157.42 2313.5 1157.42 Q2307.69 1157.42 2304.61 1152.83 Q2301.56 1148.23 2301.56 1139.5 Q2301.56 1130.75 2304.61 1126.17 Q2307.69 1121.56 2313.5 1121.56 Z\" fill=\"#000000\" fill-rule=\"evenodd\" fill-opacity=\"1\" /><path clip-path=\"url(#clip7200)\" d=\"M 0 0 M2330.51 1150.87 L2335.4 1150.87 L2335.4 1156.75 L2330.51 1156.75 L2330.51 1150.87 Z\" fill=\"#000000\" fill-rule=\"evenodd\" fill-opacity=\"1\" /><path clip-path=\"url(#clip7200)\" d=\"M 0 0 M2350.47 1125.27 Q2346.86 1125.27 2345.03 1128.83 Q2343.22 1132.37 2343.22 1139.5 Q2343.22 1146.61 2345.03 1150.17 Q2346.86 1153.71 2350.47 1153.71 Q2354.1 1153.71 2355.91 1150.17 Q2357.74 1146.61 2357.74 1139.5 Q2357.74 1132.37 2355.91 1128.83 Q2354.1 1125.27 2350.47 1125.27 M2350.47 1121.56 Q2356.28 1121.56 2359.33 1126.17 Q2362.41 1130.75 2362.41 1139.5 Q2362.41 1148.23 2359.33 1152.83 Q2356.28 1157.42 2350.47 1157.42 Q2344.66 1157.42 2341.58 1152.83 Q2338.52 1148.23 2338.52 1139.5 Q2338.52 1130.75 2341.58 1126.17 Q2344.66 1121.56 2350.47 1121.56 Z\" fill=\"#000000\" fill-rule=\"evenodd\" fill-opacity=\"1\" /><path clip-path=\"url(#clip7200)\" d=\"M 0 0 M2377.48 1125.27 Q2373.87 1125.27 2372.04 1128.83 Q2370.24 1132.37 2370.24 1139.5 Q2370.24 1146.61 2372.04 1150.17 Q2373.87 1153.71 2377.48 1153.71 Q2381.12 1153.71 2382.92 1150.17 Q2384.75 1146.61 2384.75 1139.5 Q2384.75 1132.37 2382.92 1128.83 Q2381.12 1125.27 2377.48 1125.27 M2377.48 1121.56 Q2383.29 1121.56 2386.35 1126.17 Q2389.43 1130.75 2389.43 1139.5 Q2389.43 1148.23 2386.35 1152.83 Q2383.29 1157.42 2377.48 1157.42 Q2371.67 1157.42 2368.59 1152.83 Q2365.54 1148.23 2365.54 1139.5 Q2365.54 1130.75 2368.59 1126.17 Q2371.67 1121.56 2377.48 1121.56 Z\" fill=\"#000000\" fill-rule=\"evenodd\" fill-opacity=\"1\" /><path clip-path=\"url(#clip7200)\" d=\"M 0 0 M2394.54 1122.19 L2412.9 1122.19 L2412.9 1126.12 L2398.82 1126.12 L2398.82 1134.59 Q2399.84 1134.25 2400.86 1134.08 Q2401.88 1133.9 2402.9 1133.9 Q2408.69 1133.9 2412.07 1137.07 Q2415.44 1140.24 2415.44 1145.66 Q2415.44 1151.24 2411.97 1154.34 Q2408.5 1157.42 2402.18 1157.42 Q2400.01 1157.42 2397.74 1157.05 Q2395.49 1156.68 2393.08 1155.94 L2393.08 1151.24 Q2395.17 1152.37 2397.39 1152.93 Q2399.61 1153.48 2402.09 1153.48 Q2406.09 1153.48 2408.43 1151.38 Q2410.77 1149.27 2410.77 1145.66 Q2410.77 1142.05 2408.43 1139.94 Q2406.09 1137.83 2402.09 1137.83 Q2400.21 1137.83 2398.34 1138.25 Q2396.49 1138.67 2394.54 1139.55 L2394.54 1122.19 Z\" fill=\"#000000\" fill-rule=\"evenodd\" fill-opacity=\"1\" /><path clip-path=\"url(#clip7200)\" d=\"M 0 0 M2430.51 1125.27 Q2426.9 1125.27 2425.07 1128.83 Q2423.27 1132.37 2423.27 1139.5 Q2423.27 1146.61 2425.07 1150.17 Q2426.9 1153.71 2430.51 1153.71 Q2434.15 1153.71 2435.95 1150.17 Q2437.78 1146.61 2437.78 1139.5 Q2437.78 1132.37 2435.95 1128.83 Q2434.15 1125.27 2430.51 1125.27 M2430.51 1121.56 Q2436.32 1121.56 2439.38 1126.17 Q2442.46 1130.75 2442.46 1139.5 Q2442.46 1148.23 2439.38 1152.83 Q2436.32 1157.42 2430.51 1157.42 Q2424.7 1157.42 2421.63 1152.83 Q2418.57 1148.23 2418.57 1139.5 Q2418.57 1130.75 2421.63 1126.17 Q2424.7 1121.56 2430.51 1121.56 Z\" fill=\"#000000\" fill-rule=\"evenodd\" fill-opacity=\"1\" /><path clip-path=\"url(#clip7200)\" d=\"M 0 0 M2268.76 957.274 L2298.43 957.274 L2298.43 961.209 L2268.76 961.209 L2268.76 957.274 Z\" fill=\"#000000\" fill-rule=\"evenodd\" fill-opacity=\"1\" /><path clip-path=\"url(#clip7200)\" d=\"M 0 0 M2313.5 942.621 Q2309.89 942.621 2308.06 946.186 Q2306.26 949.727 2306.26 956.857 Q2306.26 963.963 2308.06 967.528 Q2309.89 971.07 2313.5 971.07 Q2317.14 971.07 2318.94 967.528 Q2320.77 963.963 2320.77 956.857 Q2320.77 949.727 2318.94 946.186 Q2317.14 942.621 2313.5 942.621 M2313.5 938.917 Q2319.31 938.917 2322.37 943.524 Q2325.45 948.107 2325.45 956.857 Q2325.45 965.584 2322.37 970.19 Q2319.31 974.774 2313.5 974.774 Q2307.69 974.774 2304.61 970.19 Q2301.56 965.584 2301.56 956.857 Q2301.56 948.107 2304.61 943.524 Q2307.69 938.917 2313.5 938.917 Z\" fill=\"#000000\" fill-rule=\"evenodd\" fill-opacity=\"1\" /><path clip-path=\"url(#clip7200)\" d=\"M 0 0 M2330.51 968.223 L2335.4 968.223 L2335.4 974.102 L2330.51 974.102 L2330.51 968.223 Z\" fill=\"#000000\" fill-rule=\"evenodd\" fill-opacity=\"1\" /><path clip-path=\"url(#clip7200)\" d=\"M 0 0 M2350.47 942.621 Q2346.86 942.621 2345.03 946.186 Q2343.22 949.727 2343.22 956.857 Q2343.22 963.963 2345.03 967.528 Q2346.86 971.07 2350.47 971.07 Q2354.1 971.07 2355.91 967.528 Q2357.74 963.963 2357.74 956.857 Q2357.74 949.727 2355.91 946.186 Q2354.1 942.621 2350.47 942.621 M2350.47 938.917 Q2356.28 938.917 2359.33 943.524 Q2362.41 948.107 2362.41 956.857 Q2362.41 965.584 2359.33 970.19 Q2356.28 974.774 2350.47 974.774 Q2344.66 974.774 2341.58 970.19 Q2338.52 965.584 2338.52 956.857 Q2338.52 948.107 2341.58 943.524 Q2344.66 938.917 2350.47 938.917 Z\" fill=\"#000000\" fill-rule=\"evenodd\" fill-opacity=\"1\" /><path clip-path=\"url(#clip7200)\" d=\"M 0 0 M2377.48 942.621 Q2373.87 942.621 2372.04 946.186 Q2370.24 949.727 2370.24 956.857 Q2370.24 963.963 2372.04 967.528 Q2373.87 971.07 2377.48 971.07 Q2381.12 971.07 2382.92 967.528 Q2384.75 963.963 2384.75 956.857 Q2384.75 949.727 2382.92 946.186 Q2381.12 942.621 2377.48 942.621 M2377.48 938.917 Q2383.29 938.917 2386.35 943.524 Q2389.43 948.107 2389.43 956.857 Q2389.43 965.584 2386.35 970.19 Q2383.29 974.774 2377.48 974.774 Q2371.67 974.774 2368.59 970.19 Q2365.54 965.584 2365.54 956.857 Q2365.54 948.107 2368.59 943.524 Q2371.67 938.917 2377.48 938.917 Z\" fill=\"#000000\" fill-rule=\"evenodd\" fill-opacity=\"1\" /><path clip-path=\"url(#clip7200)\" d=\"M 0 0 M2398.52 970.167 L2414.84 970.167 L2414.84 974.102 L2392.9 974.102 L2392.9 970.167 Q2395.56 967.413 2400.14 962.783 Q2404.75 958.13 2405.93 956.788 Q2408.18 954.264 2409.06 952.528 Q2409.96 950.769 2409.96 949.079 Q2409.96 946.325 2408.01 944.589 Q2406.09 942.852 2402.99 942.852 Q2400.79 942.852 2398.34 943.616 Q2395.91 944.38 2393.13 945.931 L2393.13 941.209 Q2395.95 940.075 2398.41 939.496 Q2400.86 938.917 2402.9 938.917 Q2408.27 938.917 2411.46 941.602 Q2414.66 944.288 2414.66 948.778 Q2414.66 950.908 2413.85 952.829 Q2413.06 954.727 2410.95 957.32 Q2410.38 957.991 2407.27 961.209 Q2404.17 964.403 2398.52 970.167 Z\" fill=\"#000000\" fill-rule=\"evenodd\" fill-opacity=\"1\" /><path clip-path=\"url(#clip7200)\" d=\"M 0 0 M2419.96 939.542 L2438.32 939.542 L2438.32 943.477 L2424.24 943.477 L2424.24 951.95 Q2425.26 951.602 2426.28 951.44 Q2427.3 951.255 2428.32 951.255 Q2434.1 951.255 2437.48 954.426 Q2440.86 957.598 2440.86 963.014 Q2440.86 968.593 2437.39 971.695 Q2433.92 974.774 2427.6 974.774 Q2425.42 974.774 2423.15 974.403 Q2420.91 974.033 2418.5 973.292 L2418.5 968.593 Q2420.58 969.727 2422.81 970.283 Q2425.03 970.838 2427.51 970.838 Q2431.51 970.838 2433.85 968.732 Q2436.19 966.625 2436.19 963.014 Q2436.19 959.403 2433.85 957.297 Q2431.51 955.19 2427.51 955.19 Q2425.63 955.19 2423.76 955.607 Q2421.9 956.024 2419.96 956.903 L2419.96 939.542 Z\" fill=\"#000000\" fill-rule=\"evenodd\" fill-opacity=\"1\" /><path clip-path=\"url(#clip7200)\" d=\"M 0 0 M2280.7 759.977 Q2277.09 759.977 2275.26 763.542 Q2273.45 767.083 2273.45 774.213 Q2273.45 781.319 2275.26 784.884 Q2277.09 788.426 2280.7 788.426 Q2284.33 788.426 2286.14 784.884 Q2287.97 781.319 2287.97 774.213 Q2287.97 767.083 2286.14 763.542 Q2284.33 759.977 2280.7 759.977 M2280.7 756.273 Q2286.51 756.273 2289.57 760.88 Q2292.64 765.463 2292.64 774.213 Q2292.64 782.94 2289.57 787.546 Q2286.51 792.129 2280.7 792.129 Q2274.89 792.129 2271.81 787.546 Q2268.76 782.94 2268.76 774.213 Q2268.76 765.463 2271.81 760.88 Q2274.89 756.273 2280.7 756.273 Z\" fill=\"#000000\" fill-rule=\"evenodd\" fill-opacity=\"1\" /><path clip-path=\"url(#clip7200)\" d=\"M 0 0 M2280.7 577.333 Q2277.09 577.333 2275.26 580.897 Q2273.45 584.439 2273.45 591.569 Q2273.45 598.675 2275.26 602.24 Q2277.09 605.781 2280.7 605.781 Q2284.33 605.781 2286.14 602.24 Q2287.97 598.675 2287.97 591.569 Q2287.97 584.439 2286.14 580.897 Q2284.33 577.333 2280.7 577.333 M2280.7 573.629 Q2286.51 573.629 2289.57 578.235 Q2292.64 582.819 2292.64 591.569 Q2292.64 600.295 2289.57 604.902 Q2286.51 609.485 2280.7 609.485 Q2274.89 609.485 2271.81 604.902 Q2268.76 600.295 2268.76 591.569 Q2268.76 582.819 2271.81 578.235 Q2274.89 573.629 2280.7 573.629 Z\" fill=\"#000000\" fill-rule=\"evenodd\" fill-opacity=\"1\" /><path clip-path=\"url(#clip7200)\" d=\"M 0 0 M2297.71 602.934 L2302.6 602.934 L2302.6 608.814 L2297.71 608.814 L2297.71 602.934 Z\" fill=\"#000000\" fill-rule=\"evenodd\" fill-opacity=\"1\" /><path clip-path=\"url(#clip7200)\" d=\"M 0 0 M2317.67 577.333 Q2314.06 577.333 2312.23 580.897 Q2310.42 584.439 2310.42 591.569 Q2310.42 598.675 2312.23 602.24 Q2314.06 605.781 2317.67 605.781 Q2321.3 605.781 2323.11 602.24 Q2324.94 598.675 2324.94 591.569 Q2324.94 584.439 2323.11 580.897 Q2321.3 577.333 2317.67 577.333 M2317.67 573.629 Q2323.48 573.629 2326.53 578.235 Q2329.61 582.819 2329.61 591.569 Q2329.61 600.295 2326.53 604.902 Q2323.48 609.485 2317.67 609.485 Q2311.86 609.485 2308.78 604.902 Q2305.72 600.295 2305.72 591.569 Q2305.72 582.819 2308.78 578.235 Q2311.86 573.629 2317.67 573.629 Z\" fill=\"#000000\" fill-rule=\"evenodd\" fill-opacity=\"1\" /><path clip-path=\"url(#clip7200)\" d=\"M 0 0 M2344.68 577.333 Q2341.07 577.333 2339.24 580.897 Q2337.44 584.439 2337.44 591.569 Q2337.44 598.675 2339.24 602.24 Q2341.07 605.781 2344.68 605.781 Q2348.32 605.781 2350.12 602.24 Q2351.95 598.675 2351.95 591.569 Q2351.95 584.439 2350.12 580.897 Q2348.32 577.333 2344.68 577.333 M2344.68 573.629 Q2350.49 573.629 2353.55 578.235 Q2356.63 582.819 2356.63 591.569 Q2356.63 600.295 2353.55 604.902 Q2350.49 609.485 2344.68 609.485 Q2338.87 609.485 2335.79 604.902 Q2332.74 600.295 2332.74 591.569 Q2332.74 582.819 2335.79 578.235 Q2338.87 573.629 2344.68 573.629 Z\" fill=\"#000000\" fill-rule=\"evenodd\" fill-opacity=\"1\" /><path clip-path=\"url(#clip7200)\" d=\"M 0 0 M2365.72 604.879 L2382.04 604.879 L2382.04 608.814 L2360.1 608.814 L2360.1 604.879 Q2362.76 602.124 2367.34 597.494 Q2371.95 592.842 2373.13 591.499 Q2375.38 588.976 2376.26 587.24 Q2377.16 585.481 2377.16 583.791 Q2377.16 581.036 2375.21 579.3 Q2373.29 577.564 2370.19 577.564 Q2367.99 577.564 2365.54 578.328 Q2363.11 579.092 2360.33 580.643 L2360.33 575.921 Q2363.15 574.786 2365.61 574.208 Q2368.06 573.629 2370.1 573.629 Q2375.47 573.629 2378.66 576.314 Q2381.86 578.999 2381.86 583.49 Q2381.86 585.62 2381.05 587.541 Q2380.26 589.439 2378.15 592.032 Q2377.57 592.703 2374.47 595.92 Q2371.37 599.115 2365.72 604.879 Z\" fill=\"#000000\" fill-rule=\"evenodd\" fill-opacity=\"1\" /><path clip-path=\"url(#clip7200)\" d=\"M 0 0 M2387.16 574.254 L2405.51 574.254 L2405.51 578.189 L2391.44 578.189 L2391.44 586.661 Q2392.46 586.314 2393.48 586.152 Q2394.5 585.967 2395.51 585.967 Q2401.3 585.967 2404.68 589.138 Q2408.06 592.309 2408.06 597.726 Q2408.06 603.305 2404.59 606.406 Q2401.12 609.485 2394.8 609.485 Q2392.62 609.485 2390.35 609.115 Q2388.11 608.744 2385.7 608.004 L2385.7 603.305 Q2387.78 604.439 2390.01 604.994 Q2392.23 605.55 2394.7 605.55 Q2398.71 605.55 2401.05 603.444 Q2403.38 601.337 2403.38 597.726 Q2403.38 594.115 2401.05 592.008 Q2398.71 589.902 2394.7 589.902 Q2392.83 589.902 2390.95 590.319 Q2389.1 590.735 2387.16 591.615 L2387.16 574.254 Z\" fill=\"#000000\" fill-rule=\"evenodd\" fill-opacity=\"1\" /><path clip-path=\"url(#clip7200)\" d=\"M 0 0 M2280.7 394.688 Q2277.09 394.688 2275.26 398.253 Q2273.45 401.795 2273.45 408.924 Q2273.45 416.031 2275.26 419.596 Q2277.09 423.137 2280.7 423.137 Q2284.33 423.137 2286.14 419.596 Q2287.97 416.031 2287.97 408.924 Q2287.97 401.795 2286.14 398.253 Q2284.33 394.688 2280.7 394.688 M2280.7 390.985 Q2286.51 390.985 2289.57 395.591 Q2292.64 400.174 2292.64 408.924 Q2292.64 417.651 2289.57 422.258 Q2286.51 426.841 2280.7 426.841 Q2274.89 426.841 2271.81 422.258 Q2268.76 417.651 2268.76 408.924 Q2268.76 400.174 2271.81 395.591 Q2274.89 390.985 2280.7 390.985 Z\" fill=\"#000000\" fill-rule=\"evenodd\" fill-opacity=\"1\" /><path clip-path=\"url(#clip7200)\" d=\"M 0 0 M2297.71 420.29 L2302.6 420.29 L2302.6 426.17 L2297.71 426.17 L2297.71 420.29 Z\" fill=\"#000000\" fill-rule=\"evenodd\" fill-opacity=\"1\" /><path clip-path=\"url(#clip7200)\" d=\"M 0 0 M2317.67 394.688 Q2314.06 394.688 2312.23 398.253 Q2310.42 401.795 2310.42 408.924 Q2310.42 416.031 2312.23 419.596 Q2314.06 423.137 2317.67 423.137 Q2321.3 423.137 2323.11 419.596 Q2324.94 416.031 2324.94 408.924 Q2324.94 401.795 2323.11 398.253 Q2321.3 394.688 2317.67 394.688 M2317.67 390.985 Q2323.48 390.985 2326.53 395.591 Q2329.61 400.174 2329.61 408.924 Q2329.61 417.651 2326.53 422.258 Q2323.48 426.841 2317.67 426.841 Q2311.86 426.841 2308.78 422.258 Q2305.72 417.651 2305.72 408.924 Q2305.72 400.174 2308.78 395.591 Q2311.86 390.985 2317.67 390.985 Z\" fill=\"#000000\" fill-rule=\"evenodd\" fill-opacity=\"1\" /><path clip-path=\"url(#clip7200)\" d=\"M 0 0 M2344.68 394.688 Q2341.07 394.688 2339.24 398.253 Q2337.44 401.795 2337.44 408.924 Q2337.44 416.031 2339.24 419.596 Q2341.07 423.137 2344.68 423.137 Q2348.32 423.137 2350.12 419.596 Q2351.95 416.031 2351.95 408.924 Q2351.95 401.795 2350.12 398.253 Q2348.32 394.688 2344.68 394.688 M2344.68 390.985 Q2350.49 390.985 2353.55 395.591 Q2356.63 400.174 2356.63 408.924 Q2356.63 417.651 2353.55 422.258 Q2350.49 426.841 2344.68 426.841 Q2338.87 426.841 2335.79 422.258 Q2332.74 417.651 2332.74 408.924 Q2332.74 400.174 2335.79 395.591 Q2338.87 390.985 2344.68 390.985 Z\" fill=\"#000000\" fill-rule=\"evenodd\" fill-opacity=\"1\" /><path clip-path=\"url(#clip7200)\" d=\"M 0 0 M2361.74 391.61 L2380.1 391.61 L2380.1 395.545 L2366.02 395.545 L2366.02 404.017 Q2367.04 403.67 2368.06 403.508 Q2369.08 403.323 2370.1 403.323 Q2375.88 403.323 2379.26 406.494 Q2382.64 409.665 2382.64 415.082 Q2382.64 420.66 2379.17 423.762 Q2375.7 426.841 2369.38 426.841 Q2367.2 426.841 2364.94 426.471 Q2362.69 426.1 2360.28 425.359 L2360.28 420.66 Q2362.37 421.795 2364.59 422.35 Q2366.81 422.906 2369.29 422.906 Q2373.29 422.906 2375.63 420.799 Q2377.97 418.693 2377.97 415.082 Q2377.97 411.471 2375.63 409.364 Q2373.29 407.258 2369.29 407.258 Q2367.41 407.258 2365.54 407.674 Q2363.69 408.091 2361.74 408.971 L2361.74 391.61 Z\" fill=\"#000000\" fill-rule=\"evenodd\" fill-opacity=\"1\" /><path clip-path=\"url(#clip7200)\" d=\"M 0 0 M2397.71 394.688 Q2394.1 394.688 2392.27 398.253 Q2390.47 401.795 2390.47 408.924 Q2390.47 416.031 2392.27 419.596 Q2394.1 423.137 2397.71 423.137 Q2401.35 423.137 2403.15 419.596 Q2404.98 416.031 2404.98 408.924 Q2404.98 401.795 2403.15 398.253 Q2401.35 394.688 2397.71 394.688 M2397.71 390.985 Q2403.52 390.985 2406.58 395.591 Q2409.66 400.174 2409.66 408.924 Q2409.66 417.651 2406.58 422.258 Q2403.52 426.841 2397.71 426.841 Q2391.9 426.841 2388.82 422.258 Q2385.77 417.651 2385.77 408.924 Q2385.77 400.174 2388.82 395.591 Q2391.9 390.985 2397.71 390.985 Z\" fill=\"#000000\" fill-rule=\"evenodd\" fill-opacity=\"1\" /><path clip-path=\"url(#clip7200)\" d=\"M 0 0 M2280.7 212.044 Q2277.09 212.044 2275.26 215.609 Q2273.45 219.151 2273.45 226.28 Q2273.45 233.387 2275.26 236.951 Q2277.09 240.493 2280.7 240.493 Q2284.33 240.493 2286.14 236.951 Q2287.97 233.387 2287.97 226.28 Q2287.97 219.151 2286.14 215.609 Q2284.33 212.044 2280.7 212.044 M2280.7 208.34 Q2286.51 208.34 2289.57 212.947 Q2292.64 217.53 2292.64 226.28 Q2292.64 235.007 2289.57 239.613 Q2286.51 244.197 2280.7 244.197 Q2274.89 244.197 2271.81 239.613 Q2268.76 235.007 2268.76 226.28 Q2268.76 217.53 2271.81 212.947 Q2274.89 208.34 2280.7 208.34 Z\" fill=\"#000000\" fill-rule=\"evenodd\" fill-opacity=\"1\" /><path clip-path=\"url(#clip7200)\" d=\"M 0 0 M2297.71 237.646 L2302.6 237.646 L2302.6 243.525 L2297.71 243.525 L2297.71 237.646 Z\" fill=\"#000000\" fill-rule=\"evenodd\" fill-opacity=\"1\" /><path clip-path=\"url(#clip7200)\" d=\"M 0 0 M2317.67 212.044 Q2314.06 212.044 2312.23 215.609 Q2310.42 219.151 2310.42 226.28 Q2310.42 233.387 2312.23 236.951 Q2314.06 240.493 2317.67 240.493 Q2321.3 240.493 2323.11 236.951 Q2324.94 233.387 2324.94 226.28 Q2324.94 219.151 2323.11 215.609 Q2321.3 212.044 2317.67 212.044 M2317.67 208.34 Q2323.48 208.34 2326.53 212.947 Q2329.61 217.53 2329.61 226.28 Q2329.61 235.007 2326.53 239.613 Q2323.48 244.197 2317.67 244.197 Q2311.86 244.197 2308.78 239.613 Q2305.72 235.007 2305.72 226.28 Q2305.72 217.53 2308.78 212.947 Q2311.86 208.34 2317.67 208.34 Z\" fill=\"#000000\" fill-rule=\"evenodd\" fill-opacity=\"1\" /><path clip-path=\"url(#clip7200)\" d=\"M 0 0 M2344.68 212.044 Q2341.07 212.044 2339.24 215.609 Q2337.44 219.151 2337.44 226.28 Q2337.44 233.387 2339.24 236.951 Q2341.07 240.493 2344.68 240.493 Q2348.32 240.493 2350.12 236.951 Q2351.95 233.387 2351.95 226.28 Q2351.95 219.151 2350.12 215.609 Q2348.32 212.044 2344.68 212.044 M2344.68 208.34 Q2350.49 208.34 2353.55 212.947 Q2356.63 217.53 2356.63 226.28 Q2356.63 235.007 2353.55 239.613 Q2350.49 244.197 2344.68 244.197 Q2338.87 244.197 2335.79 239.613 Q2332.74 235.007 2332.74 226.28 Q2332.74 217.53 2335.79 212.947 Q2338.87 208.34 2344.68 208.34 Z\" fill=\"#000000\" fill-rule=\"evenodd\" fill-opacity=\"1\" /><path clip-path=\"url(#clip7200)\" d=\"M 0 0 M2360.51 208.965 L2382.74 208.965 L2382.74 210.956 L2370.19 243.525 L2365.31 243.525 L2377.11 212.901 L2360.51 212.901 L2360.51 208.965 Z\" fill=\"#000000\" fill-rule=\"evenodd\" fill-opacity=\"1\" /><path clip-path=\"url(#clip7200)\" d=\"M 0 0 M2387.85 208.965 L2406.21 208.965 L2406.21 212.901 L2392.13 212.901 L2392.13 221.373 Q2393.15 221.026 2394.17 220.864 Q2395.19 220.678 2396.21 220.678 Q2402 220.678 2405.38 223.85 Q2408.76 227.021 2408.76 232.438 Q2408.76 238.016 2405.28 241.118 Q2401.81 244.197 2395.49 244.197 Q2393.32 244.197 2391.05 243.826 Q2388.8 243.456 2386.39 242.715 L2386.39 238.016 Q2388.48 239.15 2390.7 239.706 Q2392.92 240.262 2395.4 240.262 Q2399.4 240.262 2401.74 238.155 Q2404.08 236.049 2404.08 232.438 Q2404.08 228.826 2401.74 226.72 Q2399.4 224.613 2395.4 224.613 Q2393.52 224.613 2391.65 225.03 Q2389.8 225.447 2387.85 226.326 L2387.85 208.965 Z\" fill=\"#000000\" fill-rule=\"evenodd\" fill-opacity=\"1\" /><polyline clip-path=\"url(#clip7200)\" style=\"stroke:#000000; stroke-width:4; stroke-opacity:1; fill:none\" points=\"\n",
       "  2232.76,1423.18 2232.76,1325.74 2256.76,1325.74 2232.76,1325.74 2232.76,1143.1 2256.76,1143.1 2232.76,1143.1 2232.76,960.451 2256.76,960.451 2232.76,960.451 \n",
       "  2232.76,777.807 2256.76,777.807 2232.76,777.807 2232.76,595.163 2256.76,595.163 2232.76,595.163 2232.76,412.518 2256.76,412.518 2232.76,412.518 2232.76,229.874 \n",
       "  2256.76,229.874 2232.76,229.874 2232.76,47.2441 \n",
       "  \"/>\n",
       "</svg>\n"
      ]
     },
     "execution_count": 141,
     "metadata": {},
     "output_type": "execute_result"
    }
   ],
   "source": [
    "heatmap1 = heatmap(measures, odds, gains_grid, xaxis = :log, yaxis = :log, xlabel = \"measure\", ylabel = \"odds\")"
   ]
  },
  {
   "cell_type": "code",
   "execution_count": 142,
   "metadata": {},
   "outputs": [
    {
     "data": {
      "image/svg+xml": [
       "<?xml version=\"1.0\" encoding=\"utf-8\"?>\n",
       "<svg xmlns=\"http://www.w3.org/2000/svg\" xmlns:xlink=\"http://www.w3.org/1999/xlink\" width=\"600\" height=\"400\" viewBox=\"0 0 2400 1600\">\n",
       "<defs>\n",
       "  <clipPath id=\"clip7600\">\n",
       "    <rect x=\"0\" y=\"0\" width=\"2400\" height=\"1600\"/>\n",
       "  </clipPath>\n",
       "</defs>\n",
       "<path clip-path=\"url(#clip7600)\" d=\"\n",
       "M0 1600 L2400 1600 L2400 0 L0 0  Z\n",
       "  \" fill=\"#ffffff\" fill-rule=\"evenodd\" fill-opacity=\"1\"/>\n",
       "<defs>\n",
       "  <clipPath id=\"clip7601\">\n",
       "    <rect x=\"480\" y=\"0\" width=\"1681\" height=\"1600\"/>\n",
       "  </clipPath>\n",
       "</defs>\n",
       "<path clip-path=\"url(#clip7600)\" d=\"\n",
       "M273.13 1423.18 L2112.76 1423.18 L2112.76 47.2441 L273.13 47.2441  Z\n",
       "  \" fill=\"#ffffff\" fill-rule=\"evenodd\" fill-opacity=\"1\"/>\n",
       "<defs>\n",
       "  <clipPath id=\"clip7602\">\n",
       "    <rect x=\"273\" y=\"47\" width=\"1841\" height=\"1377\"/>\n",
       "  </clipPath>\n",
       "</defs>\n",
       "<polyline clip-path=\"url(#clip7602)\" style=\"stroke:#000000; stroke-width:2; stroke-opacity:0.1; fill:none\" points=\"\n",
       "  309.922,1423.18 309.922,47.2441 \n",
       "  \"/>\n",
       "<polyline clip-path=\"url(#clip7602)\" style=\"stroke:#000000; stroke-width:2; stroke-opacity:0.1; fill:none\" points=\"\n",
       "  604.263,1423.18 604.263,47.2441 \n",
       "  \"/>\n",
       "<polyline clip-path=\"url(#clip7602)\" style=\"stroke:#000000; stroke-width:2; stroke-opacity:0.1; fill:none\" points=\"\n",
       "  898.603,1423.18 898.603,47.2441 \n",
       "  \"/>\n",
       "<polyline clip-path=\"url(#clip7602)\" style=\"stroke:#000000; stroke-width:2; stroke-opacity:0.1; fill:none\" points=\"\n",
       "  1192.94,1423.18 1192.94,47.2441 \n",
       "  \"/>\n",
       "<polyline clip-path=\"url(#clip7602)\" style=\"stroke:#000000; stroke-width:2; stroke-opacity:0.1; fill:none\" points=\"\n",
       "  1487.28,1423.18 1487.28,47.2441 \n",
       "  \"/>\n",
       "<polyline clip-path=\"url(#clip7602)\" style=\"stroke:#000000; stroke-width:2; stroke-opacity:0.1; fill:none\" points=\"\n",
       "  1781.62,1423.18 1781.62,47.2441 \n",
       "  \"/>\n",
       "<polyline clip-path=\"url(#clip7602)\" style=\"stroke:#000000; stroke-width:2; stroke-opacity:0.1; fill:none\" points=\"\n",
       "  2075.96,1423.18 2075.96,47.2441 \n",
       "  \"/>\n",
       "<polyline clip-path=\"url(#clip7602)\" style=\"stroke:#000000; stroke-width:2; stroke-opacity:0.1; fill:none\" points=\"\n",
       "  273.13,1395.66 2112.76,1395.66 \n",
       "  \"/>\n",
       "<polyline clip-path=\"url(#clip7602)\" style=\"stroke:#000000; stroke-width:2; stroke-opacity:0.1; fill:none\" points=\"\n",
       "  273.13,1065.44 2112.76,1065.44 \n",
       "  \"/>\n",
       "<polyline clip-path=\"url(#clip7602)\" style=\"stroke:#000000; stroke-width:2; stroke-opacity:0.1; fill:none\" points=\"\n",
       "  273.13,735.212 2112.76,735.212 \n",
       "  \"/>\n",
       "<polyline clip-path=\"url(#clip7602)\" style=\"stroke:#000000; stroke-width:2; stroke-opacity:0.1; fill:none\" points=\"\n",
       "  273.13,404.987 2112.76,404.987 \n",
       "  \"/>\n",
       "<polyline clip-path=\"url(#clip7602)\" style=\"stroke:#000000; stroke-width:2; stroke-opacity:0.1; fill:none\" points=\"\n",
       "  273.13,74.7628 2112.76,74.7628 \n",
       "  \"/>\n",
       "<polyline clip-path=\"url(#clip7600)\" style=\"stroke:#000000; stroke-width:4; stroke-opacity:1; fill:none\" points=\"\n",
       "  273.13,1423.18 2112.76,1423.18 \n",
       "  \"/>\n",
       "<polyline clip-path=\"url(#clip7600)\" style=\"stroke:#000000; stroke-width:4; stroke-opacity:1; fill:none\" points=\"\n",
       "  273.13,1423.18 273.13,47.2441 \n",
       "  \"/>\n",
       "<polyline clip-path=\"url(#clip7600)\" style=\"stroke:#000000; stroke-width:4; stroke-opacity:1; fill:none\" points=\"\n",
       "  309.922,1423.18 309.922,1406.67 \n",
       "  \"/>\n",
       "<polyline clip-path=\"url(#clip7600)\" style=\"stroke:#000000; stroke-width:4; stroke-opacity:1; fill:none\" points=\"\n",
       "  604.263,1423.18 604.263,1406.67 \n",
       "  \"/>\n",
       "<polyline clip-path=\"url(#clip7600)\" style=\"stroke:#000000; stroke-width:4; stroke-opacity:1; fill:none\" points=\"\n",
       "  898.603,1423.18 898.603,1406.67 \n",
       "  \"/>\n",
       "<polyline clip-path=\"url(#clip7600)\" style=\"stroke:#000000; stroke-width:4; stroke-opacity:1; fill:none\" points=\"\n",
       "  1192.94,1423.18 1192.94,1406.67 \n",
       "  \"/>\n",
       "<polyline clip-path=\"url(#clip7600)\" style=\"stroke:#000000; stroke-width:4; stroke-opacity:1; fill:none\" points=\"\n",
       "  1487.28,1423.18 1487.28,1406.67 \n",
       "  \"/>\n",
       "<polyline clip-path=\"url(#clip7600)\" style=\"stroke:#000000; stroke-width:4; stroke-opacity:1; fill:none\" points=\"\n",
       "  1781.62,1423.18 1781.62,1406.67 \n",
       "  \"/>\n",
       "<polyline clip-path=\"url(#clip7600)\" style=\"stroke:#000000; stroke-width:4; stroke-opacity:1; fill:none\" points=\"\n",
       "  2075.96,1423.18 2075.96,1406.67 \n",
       "  \"/>\n",
       "<polyline clip-path=\"url(#clip7600)\" style=\"stroke:#000000; stroke-width:4; stroke-opacity:1; fill:none\" points=\"\n",
       "  273.13,1395.66 295.205,1395.66 \n",
       "  \"/>\n",
       "<polyline clip-path=\"url(#clip7600)\" style=\"stroke:#000000; stroke-width:4; stroke-opacity:1; fill:none\" points=\"\n",
       "  273.13,1065.44 295.205,1065.44 \n",
       "  \"/>\n",
       "<polyline clip-path=\"url(#clip7600)\" style=\"stroke:#000000; stroke-width:4; stroke-opacity:1; fill:none\" points=\"\n",
       "  273.13,735.212 295.205,735.212 \n",
       "  \"/>\n",
       "<polyline clip-path=\"url(#clip7600)\" style=\"stroke:#000000; stroke-width:4; stroke-opacity:1; fill:none\" points=\"\n",
       "  273.13,404.987 295.205,404.987 \n",
       "  \"/>\n",
       "<polyline clip-path=\"url(#clip7600)\" style=\"stroke:#000000; stroke-width:4; stroke-opacity:1; fill:none\" points=\"\n",
       "  273.13,74.7628 295.205,74.7628 \n",
       "  \"/>\n",
       "<path clip-path=\"url(#clip7600)\" d=\"M 0 0 M265.498 1494.25 L273.137 1494.25 L273.137 1467.89 L264.826 1469.55 L264.826 1465.29 L273.09 1463.63 L277.766 1463.63 L277.766 1494.25 L285.405 1494.25 L285.405 1498.19 L265.498 1498.19 L265.498 1494.25 Z\" fill=\"#000000\" fill-rule=\"evenodd\" fill-opacity=\"1\" /><path clip-path=\"url(#clip7600)\" d=\"M 0 0 M300.474 1466.71 Q296.863 1466.71 295.035 1470.27 Q293.229 1473.81 293.229 1480.94 Q293.229 1488.05 295.035 1491.61 Q296.863 1495.15 300.474 1495.15 Q304.109 1495.15 305.914 1491.61 Q307.743 1488.05 307.743 1480.94 Q307.743 1473.81 305.914 1470.27 Q304.109 1466.71 300.474 1466.71 M300.474 1463 Q306.285 1463 309.34 1467.61 Q312.419 1472.19 312.419 1480.94 Q312.419 1489.67 309.34 1494.28 Q306.285 1498.86 300.474 1498.86 Q294.664 1498.86 291.586 1494.28 Q288.53 1489.67 288.53 1480.94 Q288.53 1472.19 291.586 1467.61 Q294.664 1463 300.474 1463 Z\" fill=\"#000000\" fill-rule=\"evenodd\" fill-opacity=\"1\" /><path clip-path=\"url(#clip7600)\" d=\"M 0 0 M312.419 1458.68 L322.556 1458.68 L322.556 1461.77 L312.419 1461.77 L312.419 1458.68 Z\" fill=\"#000000\" fill-rule=\"evenodd\" fill-opacity=\"1\" /><path clip-path=\"url(#clip7600)\" d=\"M 0 0 M349.226 1455.64 Q351.953 1456.22 353.476 1458.06 Q355.018 1459.91 355.018 1462.61 Q355.018 1466.77 352.16 1469.05 Q349.301 1471.32 344.035 1471.32 Q342.267 1471.32 340.386 1470.96 Q338.524 1470.63 336.53 1469.93 L336.53 1466.26 Q338.11 1467.18 339.991 1467.65 Q341.872 1468.12 343.922 1468.12 Q347.495 1468.12 349.357 1466.71 Q351.238 1465.3 351.238 1462.61 Q351.238 1460.13 349.489 1458.74 Q347.759 1457.33 344.655 1457.33 L341.383 1457.33 L341.383 1454.21 L344.806 1454.21 Q347.608 1454.21 349.094 1453.1 Q350.58 1451.97 350.58 1449.86 Q350.58 1447.7 349.037 1446.55 Q347.514 1445.39 344.655 1445.39 Q343.094 1445.39 341.307 1445.72 Q339.521 1446.06 337.377 1446.78 L337.377 1443.39 Q339.54 1442.79 341.42 1442.49 Q343.32 1442.19 344.994 1442.19 Q349.32 1442.19 351.84 1444.16 Q354.36 1446.12 354.36 1449.47 Q354.36 1451.8 353.025 1453.42 Q351.689 1455.02 349.226 1455.64 Z\" fill=\"#000000\" fill-rule=\"evenodd\" fill-opacity=\"1\" /><path clip-path=\"url(#clip7600)\" d=\"M 0 0 M560.167 1494.25 L567.806 1494.25 L567.806 1467.89 L559.496 1469.55 L559.496 1465.29 L567.76 1463.63 L572.435 1463.63 L572.435 1494.25 L580.074 1494.25 L580.074 1498.19 L560.167 1498.19 L560.167 1494.25 Z\" fill=\"#000000\" fill-rule=\"evenodd\" fill-opacity=\"1\" /><path clip-path=\"url(#clip7600)\" d=\"M 0 0 M595.144 1466.71 Q591.533 1466.71 589.704 1470.27 Q587.898 1473.81 587.898 1480.94 Q587.898 1488.05 589.704 1491.61 Q591.533 1495.15 595.144 1495.15 Q598.778 1495.15 600.583 1491.61 Q602.412 1488.05 602.412 1480.94 Q602.412 1473.81 600.583 1470.27 Q598.778 1466.71 595.144 1466.71 M595.144 1463 Q600.954 1463 604.009 1467.61 Q607.088 1472.19 607.088 1480.94 Q607.088 1489.67 604.009 1494.28 Q600.954 1498.86 595.144 1498.86 Q589.334 1498.86 586.255 1494.28 Q583.199 1489.67 583.199 1480.94 Q583.199 1472.19 586.255 1467.61 Q589.334 1463 595.144 1463 Z\" fill=\"#000000\" fill-rule=\"evenodd\" fill-opacity=\"1\" /><path clip-path=\"url(#clip7600)\" d=\"M 0 0 M607.088 1458.68 L617.225 1458.68 L617.225 1461.77 L607.088 1461.77 L607.088 1458.68 Z\" fill=\"#000000\" fill-rule=\"evenodd\" fill-opacity=\"1\" /><path clip-path=\"url(#clip7600)\" d=\"M 0 0 M635.77 1467.58 L649.029 1467.58 L649.029 1470.78 L631.2 1470.78 L631.2 1467.58 Q633.363 1465.34 637.086 1461.58 Q640.829 1457.8 641.788 1456.71 Q643.613 1454.66 644.327 1453.25 Q645.061 1451.82 645.061 1450.45 Q645.061 1448.21 643.481 1446.8 Q641.92 1445.39 639.4 1445.39 Q637.613 1445.39 635.619 1446.01 Q633.645 1446.63 631.388 1447.89 L631.388 1444.05 Q633.682 1443.13 635.676 1442.66 Q637.669 1442.19 639.325 1442.19 Q643.688 1442.19 646.283 1444.37 Q648.879 1446.55 648.879 1450.2 Q648.879 1451.93 648.221 1453.49 Q647.581 1455.03 645.87 1457.14 Q645.399 1457.69 642.879 1460.3 Q640.359 1462.9 635.77 1467.58 Z\" fill=\"#000000\" fill-rule=\"evenodd\" fill-opacity=\"1\" /><path clip-path=\"url(#clip7600)\" d=\"M 0 0 M855.062 1494.25 L862.701 1494.25 L862.701 1467.89 L854.391 1469.55 L854.391 1465.29 L862.655 1463.63 L867.33 1463.63 L867.33 1494.25 L874.969 1494.25 L874.969 1498.19 L855.062 1498.19 L855.062 1494.25 Z\" fill=\"#000000\" fill-rule=\"evenodd\" fill-opacity=\"1\" /><path clip-path=\"url(#clip7600)\" d=\"M 0 0 M890.039 1466.71 Q886.428 1466.71 884.599 1470.27 Q882.793 1473.81 882.793 1480.94 Q882.793 1488.05 884.599 1491.61 Q886.428 1495.15 890.039 1495.15 Q893.673 1495.15 895.478 1491.61 Q897.307 1488.05 897.307 1480.94 Q897.307 1473.81 895.478 1470.27 Q893.673 1466.71 890.039 1466.71 M890.039 1463 Q895.849 1463 898.904 1467.61 Q901.983 1472.19 901.983 1480.94 Q901.983 1489.67 898.904 1494.28 Q895.849 1498.86 890.039 1498.86 Q884.229 1498.86 881.15 1494.28 Q878.094 1489.67 878.094 1480.94 Q878.094 1472.19 881.15 1467.61 Q884.229 1463 890.039 1463 Z\" fill=\"#000000\" fill-rule=\"evenodd\" fill-opacity=\"1\" /><path clip-path=\"url(#clip7600)\" d=\"M 0 0 M901.983 1458.68 L912.12 1458.68 L912.12 1461.77 L901.983 1461.77 L901.983 1458.68 Z\" fill=\"#000000\" fill-rule=\"evenodd\" fill-opacity=\"1\" /><path clip-path=\"url(#clip7600)\" d=\"M 0 0 M926.64 1467.58 L932.847 1467.58 L932.847 1446.16 L926.095 1447.51 L926.095 1444.05 L932.809 1442.7 L936.608 1442.7 L936.608 1467.58 L942.815 1467.58 L942.815 1470.78 L926.64 1470.78 L926.64 1467.58 Z\" fill=\"#000000\" fill-rule=\"evenodd\" fill-opacity=\"1\" /><path clip-path=\"url(#clip7600)\" d=\"M 0 0 M1160.11 1494.25 L1167.75 1494.25 L1167.75 1467.89 L1159.44 1469.55 L1159.44 1465.29 L1167.71 1463.63 L1172.38 1463.63 L1172.38 1494.25 L1180.02 1494.25 L1180.02 1498.19 L1160.11 1498.19 L1160.11 1494.25 Z\" fill=\"#000000\" fill-rule=\"evenodd\" fill-opacity=\"1\" /><path clip-path=\"url(#clip7600)\" d=\"M 0 0 M1195.09 1466.71 Q1191.48 1466.71 1189.65 1470.27 Q1187.84 1473.81 1187.84 1480.94 Q1187.84 1488.05 1189.65 1491.61 Q1191.48 1495.15 1195.09 1495.15 Q1198.72 1495.15 1200.53 1491.61 Q1202.36 1488.05 1202.36 1480.94 Q1202.36 1473.81 1200.53 1470.27 Q1198.72 1466.71 1195.09 1466.71 M1195.09 1463 Q1200.9 1463 1203.96 1467.61 Q1207.03 1472.19 1207.03 1480.94 Q1207.03 1489.67 1203.96 1494.28 Q1200.9 1498.86 1195.09 1498.86 Q1189.28 1498.86 1186.2 1494.28 Q1183.15 1489.67 1183.15 1480.94 Q1183.15 1472.19 1186.2 1467.61 Q1189.28 1463 1195.09 1463 Z\" fill=\"#000000\" fill-rule=\"evenodd\" fill-opacity=\"1\" /><path clip-path=\"url(#clip7600)\" d=\"M 0 0 M1216.74 1445.2 Q1213.81 1445.2 1212.32 1448.09 Q1210.85 1450.97 1210.85 1456.76 Q1210.85 1462.54 1212.32 1465.44 Q1213.81 1468.31 1216.74 1468.31 Q1219.69 1468.31 1221.16 1465.44 Q1222.64 1462.54 1222.64 1456.76 Q1222.64 1450.97 1221.16 1448.09 Q1219.69 1445.2 1216.74 1445.2 M1216.74 1442.19 Q1221.46 1442.19 1223.94 1445.93 Q1226.44 1449.66 1226.44 1456.76 Q1226.44 1463.86 1223.94 1467.6 Q1221.46 1471.32 1216.74 1471.32 Q1212.02 1471.32 1209.52 1467.6 Q1207.03 1463.86 1207.03 1456.76 Q1207.03 1449.66 1209.52 1445.93 Q1212.02 1442.19 1216.74 1442.19 Z\" fill=\"#000000\" fill-rule=\"evenodd\" fill-opacity=\"1\" /><path clip-path=\"url(#clip7600)\" d=\"M 0 0 M1455.8 1494.25 L1463.44 1494.25 L1463.44 1467.89 L1455.13 1469.55 L1455.13 1465.29 L1463.39 1463.63 L1468.07 1463.63 L1468.07 1494.25 L1475.71 1494.25 L1475.71 1498.19 L1455.8 1498.19 L1455.8 1494.25 Z\" fill=\"#000000\" fill-rule=\"evenodd\" fill-opacity=\"1\" /><path clip-path=\"url(#clip7600)\" d=\"M 0 0 M1490.77 1466.71 Q1487.16 1466.71 1485.34 1470.27 Q1483.53 1473.81 1483.53 1480.94 Q1483.53 1488.05 1485.34 1491.61 Q1487.16 1495.15 1490.77 1495.15 Q1494.41 1495.15 1496.21 1491.61 Q1498.04 1488.05 1498.04 1480.94 Q1498.04 1473.81 1496.21 1470.27 Q1494.41 1466.71 1490.77 1466.71 M1490.77 1463 Q1496.58 1463 1499.64 1467.61 Q1502.72 1472.19 1502.72 1480.94 Q1502.72 1489.67 1499.64 1494.28 Q1496.58 1498.86 1490.77 1498.86 Q1484.96 1498.86 1481.89 1494.28 Q1478.83 1489.67 1478.83 1480.94 Q1478.83 1472.19 1481.89 1467.61 Q1484.96 1463 1490.77 1463 Z\" fill=\"#000000\" fill-rule=\"evenodd\" fill-opacity=\"1\" /><path clip-path=\"url(#clip7600)\" d=\"M 0 0 M1503.26 1467.58 L1509.47 1467.58 L1509.47 1446.16 L1502.72 1447.51 L1502.72 1444.05 L1509.43 1442.7 L1513.23 1442.7 L1513.23 1467.58 L1519.44 1467.58 L1519.44 1470.78 L1503.26 1470.78 L1503.26 1467.58 Z\" fill=\"#000000\" fill-rule=\"evenodd\" fill-opacity=\"1\" /><path clip-path=\"url(#clip7600)\" d=\"M 0 0 M1749.58 1494.25 L1757.22 1494.25 L1757.22 1467.89 L1748.91 1469.55 L1748.91 1465.29 L1757.18 1463.63 L1761.85 1463.63 L1761.85 1494.25 L1769.49 1494.25 L1769.49 1498.19 L1749.58 1498.19 L1749.58 1494.25 Z\" fill=\"#000000\" fill-rule=\"evenodd\" fill-opacity=\"1\" /><path clip-path=\"url(#clip7600)\" d=\"M 0 0 M1784.56 1466.71 Q1780.95 1466.71 1779.12 1470.27 Q1777.31 1473.81 1777.31 1480.94 Q1777.31 1488.05 1779.12 1491.61 Q1780.95 1495.15 1784.56 1495.15 Q1788.19 1495.15 1790 1491.61 Q1791.83 1488.05 1791.83 1480.94 Q1791.83 1473.81 1790 1470.27 Q1788.19 1466.71 1784.56 1466.71 M1784.56 1463 Q1790.37 1463 1793.43 1467.61 Q1796.5 1472.19 1796.5 1480.94 Q1796.5 1489.67 1793.43 1494.28 Q1790.37 1498.86 1784.56 1498.86 Q1778.75 1498.86 1775.67 1494.28 Q1772.62 1489.67 1772.62 1480.94 Q1772.62 1472.19 1775.67 1467.61 Q1778.75 1463 1784.56 1463 Z\" fill=\"#000000\" fill-rule=\"evenodd\" fill-opacity=\"1\" /><path clip-path=\"url(#clip7600)\" d=\"M 0 0 M1801.07 1467.58 L1814.33 1467.58 L1814.33 1470.78 L1796.5 1470.78 L1796.5 1467.58 Q1798.67 1465.34 1802.39 1461.58 Q1806.13 1457.8 1807.09 1456.71 Q1808.92 1454.66 1809.63 1453.25 Q1810.37 1451.82 1810.37 1450.45 Q1810.37 1448.21 1808.79 1446.8 Q1807.22 1445.39 1804.7 1445.39 Q1802.92 1445.39 1800.92 1446.01 Q1798.95 1446.63 1796.69 1447.89 L1796.69 1444.05 Q1798.99 1443.13 1800.98 1442.66 Q1802.97 1442.19 1804.63 1442.19 Q1808.99 1442.19 1811.59 1444.37 Q1814.18 1446.55 1814.18 1450.2 Q1814.18 1451.93 1813.53 1453.49 Q1812.89 1455.03 1811.17 1457.14 Q1810.7 1457.69 1808.18 1460.3 Q1805.66 1462.9 1801.07 1467.58 Z\" fill=\"#000000\" fill-rule=\"evenodd\" fill-opacity=\"1\" /><path clip-path=\"url(#clip7600)\" d=\"M 0 0 M2043.59 1494.25 L2051.23 1494.25 L2051.23 1467.89 L2042.92 1469.55 L2042.92 1465.29 L2051.19 1463.63 L2055.86 1463.63 L2055.86 1494.25 L2063.5 1494.25 L2063.5 1498.19 L2043.59 1498.19 L2043.59 1494.25 Z\" fill=\"#000000\" fill-rule=\"evenodd\" fill-opacity=\"1\" /><path clip-path=\"url(#clip7600)\" d=\"M 0 0 M2078.57 1466.71 Q2074.96 1466.71 2073.13 1470.27 Q2071.33 1473.81 2071.33 1480.94 Q2071.33 1488.05 2073.13 1491.61 Q2074.96 1495.15 2078.57 1495.15 Q2082.21 1495.15 2084.01 1491.61 Q2085.84 1488.05 2085.84 1480.94 Q2085.84 1473.81 2084.01 1470.27 Q2082.21 1466.71 2078.57 1466.71 M2078.57 1463 Q2084.38 1463 2087.44 1467.61 Q2090.52 1472.19 2090.52 1480.94 Q2090.52 1489.67 2087.44 1494.28 Q2084.38 1498.86 2078.57 1498.86 Q2072.76 1498.86 2069.68 1494.28 Q2066.63 1489.67 2066.63 1480.94 Q2066.63 1472.19 2069.68 1467.61 Q2072.76 1463 2078.57 1463 Z\" fill=\"#000000\" fill-rule=\"evenodd\" fill-opacity=\"1\" /><path clip-path=\"url(#clip7600)\" d=\"M 0 0 M2103.21 1455.64 Q2105.94 1456.22 2107.46 1458.06 Q2109 1459.91 2109 1462.61 Q2109 1466.77 2106.14 1469.05 Q2103.29 1471.32 2098.02 1471.32 Q2096.25 1471.32 2094.37 1470.96 Q2092.51 1470.63 2090.52 1469.93 L2090.52 1466.26 Q2092.1 1467.18 2093.98 1467.65 Q2095.86 1468.12 2097.91 1468.12 Q2101.48 1468.12 2103.34 1466.71 Q2105.22 1465.3 2105.22 1462.61 Q2105.22 1460.13 2103.47 1458.74 Q2101.74 1457.33 2098.64 1457.33 L2095.37 1457.33 L2095.37 1454.21 L2098.79 1454.21 Q2101.59 1454.21 2103.08 1453.1 Q2104.56 1451.97 2104.56 1449.86 Q2104.56 1447.7 2103.02 1446.55 Q2101.5 1445.39 2098.64 1445.39 Q2097.08 1445.39 2095.29 1445.72 Q2093.51 1446.06 2091.36 1446.78 L2091.36 1443.39 Q2093.52 1442.79 2095.41 1442.49 Q2097.31 1442.19 2098.98 1442.19 Q2103.3 1442.19 2105.83 1444.16 Q2108.35 1446.12 2108.35 1449.47 Q2108.35 1451.8 2107.01 1453.42 Q2105.67 1455.02 2103.21 1455.64 Z\" fill=\"#000000\" fill-rule=\"evenodd\" fill-opacity=\"1\" /><path clip-path=\"url(#clip7600)\" d=\"M 0 0 M160.267 1415.45 L167.906 1415.45 L167.906 1389.09 L159.596 1390.75 L159.596 1386.5 L167.86 1384.83 L172.536 1384.83 L172.536 1415.45 L180.175 1415.45 L180.175 1419.39 L160.267 1419.39 L160.267 1415.45 Z\" fill=\"#000000\" fill-rule=\"evenodd\" fill-opacity=\"1\" /><path clip-path=\"url(#clip7600)\" d=\"M 0 0 M195.244 1387.91 Q191.633 1387.91 189.804 1391.47 Q187.999 1395.01 187.999 1402.14 Q187.999 1409.25 189.804 1412.81 Q191.633 1416.36 195.244 1416.36 Q198.878 1416.36 200.684 1412.81 Q202.513 1409.25 202.513 1402.14 Q202.513 1395.01 200.684 1391.47 Q198.878 1387.91 195.244 1387.91 M195.244 1384.2 Q201.054 1384.2 204.11 1388.81 Q207.189 1393.39 207.189 1402.14 Q207.189 1410.87 204.11 1415.48 Q201.054 1420.06 195.244 1420.06 Q189.434 1420.06 186.355 1415.48 Q183.3 1410.87 183.3 1402.14 Q183.3 1393.39 186.355 1388.81 Q189.434 1384.2 195.244 1384.2 Z\" fill=\"#000000\" fill-rule=\"evenodd\" fill-opacity=\"1\" /><path clip-path=\"url(#clip7600)\" d=\"M 0 0 M207.189 1379.88 L217.326 1379.88 L217.326 1382.97 L207.189 1382.97 L207.189 1379.88 Z\" fill=\"#000000\" fill-rule=\"evenodd\" fill-opacity=\"1\" /><path clip-path=\"url(#clip7600)\" d=\"M 0 0 M235.87 1388.78 L249.13 1388.78 L249.13 1391.98 L231.3 1391.98 L231.3 1388.78 Q233.463 1386.54 237.187 1382.78 Q240.93 1379 241.889 1377.91 Q243.713 1375.86 244.428 1374.45 Q245.161 1373.02 245.161 1371.65 Q245.161 1369.41 243.582 1368 Q242.021 1366.59 239.5 1366.59 Q237.714 1366.59 235.72 1367.21 Q233.745 1367.83 231.488 1369.09 L231.488 1365.25 Q233.783 1364.33 235.776 1363.86 Q237.77 1363.39 239.425 1363.39 Q243.788 1363.39 246.384 1365.57 Q248.979 1367.75 248.979 1371.4 Q248.979 1373.13 248.321 1374.69 Q247.682 1376.24 245.97 1378.34 Q245.5 1378.89 242.98 1381.5 Q240.459 1384.1 235.87 1388.78 Z\" fill=\"#000000\" fill-rule=\"evenodd\" fill-opacity=\"1\" /><path clip-path=\"url(#clip7600)\" d=\"M 0 0 M161.377 1085.23 L169.016 1085.23 L169.016 1058.86 L160.706 1060.53 L160.706 1056.27 L168.97 1054.6 L173.646 1054.6 L173.646 1085.23 L181.284 1085.23 L181.284 1089.16 L161.377 1089.16 L161.377 1085.23 Z\" fill=\"#000000\" fill-rule=\"evenodd\" fill-opacity=\"1\" /><path clip-path=\"url(#clip7600)\" d=\"M 0 0 M196.354 1057.68 Q192.743 1057.68 190.914 1061.25 Q189.108 1064.79 189.108 1071.92 Q189.108 1079.03 190.914 1082.59 Q192.743 1086.13 196.354 1086.13 Q199.988 1086.13 201.794 1082.59 Q203.622 1079.03 203.622 1071.92 Q203.622 1064.79 201.794 1061.25 Q199.988 1057.68 196.354 1057.68 M196.354 1053.98 Q202.164 1053.98 205.22 1058.59 Q208.298 1063.17 208.298 1071.92 Q208.298 1080.65 205.22 1085.25 Q202.164 1089.84 196.354 1089.84 Q190.544 1089.84 187.465 1085.25 Q184.409 1080.65 184.409 1071.92 Q184.409 1063.17 187.465 1058.59 Q190.544 1053.98 196.354 1053.98 Z\" fill=\"#000000\" fill-rule=\"evenodd\" fill-opacity=\"1\" /><path clip-path=\"url(#clip7600)\" d=\"M 0 0 M208.298 1049.66 L218.436 1049.66 L218.436 1052.74 L208.298 1052.74 L208.298 1049.66 Z\" fill=\"#000000\" fill-rule=\"evenodd\" fill-opacity=\"1\" /><path clip-path=\"url(#clip7600)\" d=\"M 0 0 M232.955 1058.56 L239.162 1058.56 L239.162 1037.13 L232.41 1038.49 L232.41 1035.03 L239.124 1033.67 L242.923 1033.67 L242.923 1058.56 L249.13 1058.56 L249.13 1061.75 L232.955 1061.75 L232.955 1058.56 Z\" fill=\"#000000\" fill-rule=\"evenodd\" fill-opacity=\"1\" /><path clip-path=\"url(#clip7600)\" d=\"M 0 0 M182.799 755.004 L190.438 755.004 L190.438 728.639 L182.128 730.305 L182.128 726.046 L190.392 724.38 L195.068 724.38 L195.068 755.004 L202.707 755.004 L202.707 758.94 L182.799 758.94 L182.799 755.004 Z\" fill=\"#000000\" fill-rule=\"evenodd\" fill-opacity=\"1\" /><path clip-path=\"url(#clip7600)\" d=\"M 0 0 M217.776 727.458 Q214.165 727.458 212.336 731.023 Q210.531 734.565 210.531 741.694 Q210.531 748.801 212.336 752.366 Q214.165 755.907 217.776 755.907 Q221.41 755.907 223.216 752.366 Q225.044 748.801 225.044 741.694 Q225.044 734.565 223.216 731.023 Q221.41 727.458 217.776 727.458 M217.776 723.755 Q223.586 723.755 226.642 728.361 Q229.72 732.944 229.72 741.694 Q229.72 750.421 226.642 755.028 Q223.586 759.611 217.776 759.611 Q211.966 759.611 208.887 755.028 Q205.831 750.421 205.831 741.694 Q205.831 732.944 208.887 728.361 Q211.966 723.755 217.776 723.755 Z\" fill=\"#000000\" fill-rule=\"evenodd\" fill-opacity=\"1\" /><path clip-path=\"url(#clip7600)\" d=\"M 0 0 M239.425 705.951 Q236.491 705.951 235.005 708.847 Q233.538 711.725 233.538 717.517 Q233.538 723.291 235.005 726.188 Q236.491 729.065 239.425 729.065 Q242.378 729.065 243.845 726.188 Q245.331 723.291 245.331 717.517 Q245.331 711.725 243.845 708.847 Q242.378 705.951 239.425 705.951 M239.425 702.941 Q244.146 702.941 246.628 706.684 Q249.13 710.408 249.13 717.517 Q249.13 724.608 246.628 728.351 Q244.146 732.075 239.425 732.075 Q234.704 732.075 232.203 728.351 Q229.72 724.608 229.72 717.517 Q229.72 710.408 232.203 706.684 Q234.704 702.941 239.425 702.941 Z\" fill=\"#000000\" fill-rule=\"evenodd\" fill-opacity=\"1\" /><path clip-path=\"url(#clip7600)\" d=\"M 0 0 M185.489 424.78 L193.128 424.78 L193.128 398.414 L184.817 400.081 L184.817 395.822 L193.081 394.155 L197.757 394.155 L197.757 424.78 L205.396 424.78 L205.396 428.715 L185.489 428.715 L185.489 424.78 Z\" fill=\"#000000\" fill-rule=\"evenodd\" fill-opacity=\"1\" /><path clip-path=\"url(#clip7600)\" d=\"M 0 0 M220.465 397.234 Q216.854 397.234 215.026 400.798 Q213.22 404.34 213.22 411.47 Q213.22 418.576 215.026 422.141 Q216.854 425.683 220.465 425.683 Q224.1 425.683 225.905 422.141 Q227.734 418.576 227.734 411.47 Q227.734 404.34 225.905 400.798 Q224.1 397.234 220.465 397.234 M220.465 393.53 Q226.276 393.53 229.331 398.136 Q232.41 402.72 232.41 411.47 Q232.41 420.197 229.331 424.803 Q226.276 429.386 220.465 429.386 Q214.655 429.386 211.577 424.803 Q208.521 420.197 208.521 411.47 Q208.521 402.72 211.577 398.136 Q214.655 393.53 220.465 393.53 Z\" fill=\"#000000\" fill-rule=\"evenodd\" fill-opacity=\"1\" /><path clip-path=\"url(#clip7600)\" d=\"M 0 0 M232.955 398.107 L239.162 398.107 L239.162 376.685 L232.41 378.039 L232.41 374.579 L239.124 373.225 L242.923 373.225 L242.923 398.107 L249.13 398.107 L249.13 401.305 L232.955 401.305 L232.955 398.107 Z\" fill=\"#000000\" fill-rule=\"evenodd\" fill-opacity=\"1\" /><path clip-path=\"url(#clip7600)\" d=\"M 0 0 M184.379 94.5552 L192.018 94.5552 L192.018 68.1896 L183.708 69.8563 L183.708 65.5971 L191.972 63.9304 L196.648 63.9304 L196.648 94.5552 L204.286 94.5552 L204.286 98.4904 L184.379 98.4904 L184.379 94.5552 Z\" fill=\"#000000\" fill-rule=\"evenodd\" fill-opacity=\"1\" /><path clip-path=\"url(#clip7600)\" d=\"M 0 0 M219.356 67.0091 Q215.745 67.0091 213.916 70.5739 Q212.11 74.1155 212.11 81.2451 Q212.11 88.3516 213.916 91.9164 Q215.745 95.458 219.356 95.458 Q222.99 95.458 224.796 91.9164 Q226.624 88.3516 226.624 81.2451 Q226.624 74.1155 224.796 70.5739 Q222.99 67.0091 219.356 67.0091 M219.356 63.3054 Q225.166 63.3054 228.221 67.9119 Q231.3 72.4952 231.3 81.2451 Q231.3 89.9719 228.221 94.5784 Q225.166 99.1617 219.356 99.1617 Q213.546 99.1617 210.467 94.5784 Q207.411 89.9719 207.411 81.2451 Q207.411 72.4952 210.467 67.9119 Q213.546 63.3054 219.356 63.3054 Z\" fill=\"#000000\" fill-rule=\"evenodd\" fill-opacity=\"1\" /><path clip-path=\"url(#clip7600)\" d=\"M 0 0 M235.87 67.8827 L249.13 67.8827 L249.13 71.08 L231.3 71.08 L231.3 67.8827 Q233.463 65.6446 237.187 61.883 Q240.93 58.1026 241.889 57.0118 Q243.713 54.9618 244.428 53.5512 Q245.161 52.1218 245.161 50.7488 Q245.161 48.5107 243.582 47.1001 Q242.021 45.6895 239.5 45.6895 Q237.714 45.6895 235.72 46.3102 Q233.745 46.9308 231.488 48.191 L231.488 44.3542 Q233.783 43.4326 235.776 42.9624 Q237.77 42.4922 239.425 42.4922 Q243.788 42.4922 246.384 44.6739 Q248.979 46.8556 248.979 50.5043 Q248.979 52.2346 248.321 53.7957 Q247.682 55.3379 245.97 57.4444 Q245.5 57.9898 242.98 60.6041 Q240.459 63.1996 235.87 67.8827 Z\" fill=\"#000000\" fill-rule=\"evenodd\" fill-opacity=\"1\" /><path clip-path=\"url(#clip7600)\" d=\"M 0 0 M1095.48 1527.24 Q1097.68 1523.29 1100.74 1521.41 Q1103.79 1519.54 1107.93 1519.54 Q1113.5 1519.54 1116.52 1523.45 Q1119.55 1527.33 1119.55 1534.53 L1119.55 1556.04 L1113.66 1556.04 L1113.66 1534.72 Q1113.66 1529.59 1111.84 1527.11 Q1110.03 1524.63 1106.31 1524.63 Q1101.75 1524.63 1099.11 1527.65 Q1096.47 1530.68 1096.47 1535.9 L1096.47 1556.04 L1090.58 1556.04 L1090.58 1534.72 Q1090.58 1529.56 1088.77 1527.11 Q1086.95 1524.63 1083.17 1524.63 Q1078.68 1524.63 1076.04 1527.68 Q1073.39 1530.71 1073.39 1535.9 L1073.39 1556.04 L1067.51 1556.04 L1067.51 1520.4 L1073.39 1520.4 L1073.39 1525.93 Q1075.4 1522.66 1078.2 1521.1 Q1081 1519.54 1084.85 1519.54 Q1088.74 1519.54 1091.44 1521.51 Q1094.18 1523.48 1095.48 1527.24 Z\" fill=\"#000000\" fill-rule=\"evenodd\" fill-opacity=\"1\" /><path clip-path=\"url(#clip7600)\" d=\"M 0 0 M1156.18 1536.76 L1156.18 1539.62 L1129.25 1539.62 Q1129.64 1545.67 1132.88 1548.85 Q1136.16 1552 1141.99 1552 Q1145.36 1552 1148.51 1551.17 Q1151.69 1550.35 1154.81 1548.69 L1154.81 1554.23 Q1151.66 1555.57 1148.35 1556.27 Q1145.04 1556.97 1141.64 1556.97 Q1133.11 1556.97 1128.11 1552 Q1123.14 1547.04 1123.14 1538.57 Q1123.14 1529.82 1127.85 1524.69 Q1132.6 1519.54 1140.62 1519.54 Q1147.81 1519.54 1151.98 1524.18 Q1156.18 1528.8 1156.18 1536.76 M1150.32 1535.04 Q1150.26 1530.23 1147.62 1527.37 Q1145.01 1524.5 1140.68 1524.5 Q1135.78 1524.5 1132.82 1527.27 Q1129.89 1530.04 1129.44 1535.07 L1150.32 1535.04 Z\" fill=\"#000000\" fill-rule=\"evenodd\" fill-opacity=\"1\" /><path clip-path=\"url(#clip7600)\" d=\"M 0 0 M1178.52 1538.12 Q1171.43 1538.12 1168.69 1539.75 Q1165.95 1541.37 1165.95 1545.29 Q1165.95 1548.4 1167.99 1550.25 Q1170.06 1552.07 1173.59 1552.07 Q1178.46 1552.07 1181.39 1548.63 Q1184.35 1545.16 1184.35 1539.43 L1184.35 1538.12 L1178.52 1538.12 M1190.21 1535.71 L1190.21 1556.04 L1184.35 1556.04 L1184.35 1550.63 Q1182.34 1553.88 1179.35 1555.44 Q1176.36 1556.97 1172.03 1556.97 Q1166.56 1556.97 1163.31 1553.91 Q1160.1 1550.82 1160.1 1545.67 Q1160.1 1539.65 1164.11 1536.6 Q1168.15 1533.54 1176.14 1533.54 L1184.35 1533.54 L1184.35 1532.97 Q1184.35 1528.93 1181.68 1526.73 Q1179.03 1524.5 1174.23 1524.5 Q1171.17 1524.5 1168.28 1525.23 Q1165.38 1525.97 1162.71 1527.43 L1162.71 1522.02 Q1165.92 1520.78 1168.94 1520.17 Q1171.97 1519.54 1174.83 1519.54 Q1182.57 1519.54 1186.39 1523.55 Q1190.21 1527.56 1190.21 1535.71 Z\" fill=\"#000000\" fill-rule=\"evenodd\" fill-opacity=\"1\" /><path clip-path=\"url(#clip7600)\" d=\"M 0 0 M1219.07 1521.45 L1219.07 1526.98 Q1216.59 1525.71 1213.92 1525.07 Q1211.24 1524.44 1208.38 1524.44 Q1204.02 1524.44 1201.82 1525.77 Q1199.66 1527.11 1199.66 1529.79 Q1199.66 1531.82 1201.22 1533 Q1202.78 1534.15 1207.49 1535.2 L1209.49 1535.64 Q1215.73 1536.98 1218.34 1539.43 Q1220.98 1541.85 1220.98 1546.21 Q1220.98 1551.17 1217.04 1554.07 Q1213.12 1556.97 1206.25 1556.97 Q1203.38 1556.97 1200.26 1556.39 Q1197.18 1555.85 1193.74 1554.74 L1193.74 1548.69 Q1196.99 1550.38 1200.14 1551.24 Q1203.29 1552.07 1206.37 1552.07 Q1210.51 1552.07 1212.74 1550.66 Q1214.97 1549.23 1214.97 1546.65 Q1214.97 1544.27 1213.34 1542.99 Q1211.75 1541.72 1206.31 1540.54 L1204.27 1540.07 Q1198.83 1538.92 1196.41 1536.56 Q1193.99 1534.18 1193.99 1530.04 Q1193.99 1525.01 1197.56 1522.27 Q1201.12 1519.54 1207.68 1519.54 Q1210.93 1519.54 1213.79 1520.01 Q1216.66 1520.49 1219.07 1521.45 Z\" fill=\"#000000\" fill-rule=\"evenodd\" fill-opacity=\"1\" /><path clip-path=\"url(#clip7600)\" d=\"M 0 0 M1226.52 1541.98 L1226.52 1520.4 L1232.38 1520.4 L1232.38 1541.75 Q1232.38 1546.81 1234.35 1549.36 Q1236.33 1551.87 1240.27 1551.87 Q1245.01 1551.87 1247.75 1548.85 Q1250.52 1545.83 1250.52 1540.61 L1250.52 1520.4 L1256.38 1520.4 L1256.38 1556.04 L1250.52 1556.04 L1250.52 1550.57 Q1248.39 1553.82 1245.56 1555.41 Q1242.75 1556.97 1239.03 1556.97 Q1232.89 1556.97 1229.7 1553.15 Q1226.52 1549.33 1226.52 1541.98 M1241.26 1519.54 L1241.26 1519.54 Z\" fill=\"#000000\" fill-rule=\"evenodd\" fill-opacity=\"1\" /><path clip-path=\"url(#clip7600)\" d=\"M 0 0 M1283.18 1525.87 Q1282.19 1525.3 1281.01 1525.04 Q1279.87 1524.76 1278.47 1524.76 Q1273.5 1524.76 1270.83 1528 Q1268.19 1531.22 1268.19 1537.27 L1268.19 1556.04 L1262.3 1556.04 L1262.3 1520.4 L1268.19 1520.4 L1268.19 1525.93 Q1270.03 1522.69 1272.99 1521.13 Q1275.95 1519.54 1280.18 1519.54 Q1280.79 1519.54 1281.52 1519.63 Q1282.25 1519.7 1283.14 1519.85 L1283.18 1525.87 Z\" fill=\"#000000\" fill-rule=\"evenodd\" fill-opacity=\"1\" /><path clip-path=\"url(#clip7600)\" d=\"M 0 0 M1318.38 1536.76 L1318.38 1539.62 L1291.45 1539.62 Q1291.83 1545.67 1295.08 1548.85 Q1298.36 1552 1304.18 1552 Q1307.56 1552 1310.71 1551.17 Q1313.89 1550.35 1317.01 1548.69 L1317.01 1554.23 Q1313.86 1555.57 1310.55 1556.27 Q1307.24 1556.97 1303.83 1556.97 Q1295.3 1556.97 1290.31 1552 Q1285.34 1547.04 1285.34 1538.57 Q1285.34 1529.82 1290.05 1524.69 Q1294.79 1519.54 1302.81 1519.54 Q1310.01 1519.54 1314.18 1524.18 Q1318.38 1528.8 1318.38 1536.76 M1312.52 1535.04 Q1312.46 1530.23 1309.82 1527.37 Q1307.21 1524.5 1302.88 1524.5 Q1297.98 1524.5 1295.02 1527.27 Q1292.09 1530.04 1291.64 1535.07 L1312.52 1535.04 Z\" fill=\"#000000\" fill-rule=\"evenodd\" fill-opacity=\"1\" /><path clip-path=\"url(#clip7600)\" d=\"M 0 0 M56.4621 786.058 Q56.4621 790.769 60.1542 793.506 Q63.8145 796.243 70.212 796.243 Q76.6095 796.243 80.3017 793.538 Q83.9619 790.801 83.9619 786.058 Q83.9619 781.379 80.2698 778.642 Q76.5777 775.905 70.212 775.905 Q63.8781 775.905 60.186 778.642 Q56.4621 781.379 56.4621 786.058 M51.4968 786.058 Q51.4968 778.419 56.4621 774.059 Q61.4273 769.698 70.212 769.698 Q78.9649 769.698 83.9619 774.059 Q88.9272 778.419 88.9272 786.058 Q88.9272 793.729 83.9619 798.089 Q78.9649 802.418 70.212 802.418 Q61.4273 802.418 56.4621 798.089 Q51.4968 793.729 51.4968 786.058 Z\" fill=\"#000000\" fill-rule=\"evenodd\" fill-opacity=\"1\" /><path clip-path=\"url(#clip7600)\" d=\"M 0 0 M57.7671 740.098 L38.479 740.098 L38.479 734.241 L88.0042 734.241 L88.0042 740.098 L82.657 740.098 Q85.8398 741.944 87.3994 744.776 Q88.9272 747.577 88.9272 751.524 Q88.9272 757.985 83.771 762.059 Q78.6147 766.102 70.212 766.102 Q61.8093 766.102 56.6531 762.059 Q51.4968 757.985 51.4968 751.524 Q51.4968 747.577 53.0564 744.776 Q54.5842 741.944 57.7671 740.098 M70.212 760.054 Q76.6732 760.054 80.3653 757.412 Q84.0256 754.739 84.0256 750.092 Q84.0256 745.445 80.3653 742.771 Q76.6732 740.098 70.212 740.098 Q63.7508 740.098 60.0905 742.771 Q56.3984 745.445 56.3984 750.092 Q56.3984 754.739 60.0905 757.412 Q63.7508 760.054 70.212 760.054 Z\" fill=\"#000000\" fill-rule=\"evenodd\" fill-opacity=\"1\" /><path clip-path=\"url(#clip7600)\" d=\"M 0 0 M57.7671 704.641 L38.479 704.641 L38.479 698.784 L88.0042 698.784 L88.0042 704.641 L82.657 704.641 Q85.8398 706.487 87.3994 709.319 Q88.9272 712.12 88.9272 716.067 Q88.9272 722.528 83.771 726.602 Q78.6147 730.645 70.212 730.645 Q61.8093 730.645 56.6531 726.602 Q51.4968 722.528 51.4968 716.067 Q51.4968 712.12 53.0564 709.319 Q54.5842 706.487 57.7671 704.641 M70.212 724.597 Q76.6732 724.597 80.3653 721.955 Q84.0256 719.282 84.0256 714.635 Q84.0256 709.988 80.3653 707.314 Q76.6732 704.641 70.212 704.641 Q63.7508 704.641 60.0905 707.314 Q56.3984 709.988 56.3984 714.635 Q56.3984 719.282 60.0905 721.955 Q63.7508 724.597 70.212 724.597 Z\" fill=\"#000000\" fill-rule=\"evenodd\" fill-opacity=\"1\" /><path clip-path=\"url(#clip7600)\" d=\"M 0 0 M53.4065 669.916 L58.9447 669.916 Q57.6716 672.398 57.035 675.072 Q56.3984 677.746 56.3984 680.61 Q56.3984 684.971 57.7352 687.167 Q59.072 689.331 61.7456 689.331 Q63.7826 689.331 64.9603 687.772 Q66.1061 686.212 67.1565 681.501 L67.6021 679.496 Q68.9389 673.258 71.3897 670.648 Q73.8086 668.006 78.1691 668.006 Q83.1344 668.006 86.0308 671.953 Q88.9272 675.868 88.9272 682.743 Q88.9272 685.607 88.3543 688.726 Q87.8132 691.814 86.6992 695.251 L80.6518 695.251 Q82.3387 692.005 83.198 688.854 Q84.0256 685.703 84.0256 682.615 Q84.0256 678.478 82.6251 676.25 Q81.1929 674.022 78.6147 674.022 Q76.2276 674.022 74.9545 675.645 Q73.6813 677.236 72.5037 682.679 L72.0262 684.716 Q70.8804 690.159 68.5251 692.578 Q66.138 694.997 62.0002 694.997 Q56.9713 694.997 54.2341 691.432 Q51.4968 687.867 51.4968 681.31 Q51.4968 678.064 51.9743 675.199 Q52.4517 672.335 53.4065 669.916 Z\" fill=\"#000000\" fill-rule=\"evenodd\" fill-opacity=\"1\" /><g clip-path=\"url(#clip7602)\">\n",
       "<image width=\"1840\" height=\"1376\" xlink:href=\"data:image/png;base64,\n",
       "iVBORw0KGgoAAAANSUhEUgAABzAAAAVgCAYAAAAgj8tUAAAgAElEQVR4nOzbTcocBRSG0arqCuYH\n",
       "xEB0YoSAo5CZK3AruhcX5kJcSPjoLic6jJAEvE9Xn7OCl4KG7n7qrtv64lgAAAAY8ce736YnnNrv\n",
       "v/45PeH0Xv/y1/SErg9vpxfkPP30fnpCwvX1z9MT7sL64vvpCXfh2bPvpiekbdvz6Ql3YV0v0xM4\n",
       "iXXbpydwEtv0AAAAAAAAAIB/CZgAAAAAAABAhoAJAAAAAAAAZAiYAAAAAAAAQIaACQAAAAAAAGQI\n",
       "mAAAAAAAAECGgAkAAAAAAABkCJgAAAAAAABAhoAJAAAAAAAAZAiYAAAAAAAAQIaACQAAAAAAAGQI\n",
       "mAAAAAAAAECGgAkAAAAAAABkCJgAAAAAAABAhoAJAAAAAAAAZAiYAAAAAAAAQIaACQAAAAAAAGQI\n",
       "mAAAAAAAAECGgAkAAAAAAABkCJgAAAAAAABAhoAJAAAAAAAAZAiYAAAAAAAAQIaACQAAAAAAAGQI\n",
       "mAAAAAAAAECGgAkAAAAAAABkCJgAAAAAAABAhoAJAAAAAAAAZAiYAAAAAAAAQIaACQAAAAAAAGQI\n",
       "mAAAAAAAAECGgAkAAAAAAABkCJgAAAAAAABAhoAJAAAAAAAAZAiYAAAAAAAAQIaACQAAAAAAAGQI\n",
       "mAAAAAAAAECGgAkAAAAAAABkCJgAAAAAAABAhoAJAAAAAAAAZAiYAAAAAAAAQIaACQAAAAAAAGQI\n",
       "mAAAAAAAAECGgAkAAAAAAABkCJgAAAAAAABAhoAJAAAAAAAAZAiYAAAAAAAAQIaACQAAAAAAAGQI\n",
       "mAAAAAAAAECGgAkAAAAAAABkCJgAAAAAAABAhoAJAAAAAAAAZAiYAAAAAAAAQIaACQAAAAAAAGQI\n",
       "mAAAAAAAAECGgAkAAAAAAABk7Mdym94AAADwsG7LOj3h1I7De7sAAAD3xi85AAAAAAAAIEPABAAA\n",
       "AAAAADIETAAAAAAAACBDwAQAAAAAAAAyBEwAAAAAAAAgQ8AEAAAAAAAAMgRMAAAAAAAAIEPABAAA\n",
       "AAAAADIETAAAAAAAACBDwAQAAAAAAAAyBEwAAAAAAAAgQ8AEAAAAAAAAMgRMAAAAAAAAIEPABAAA\n",
       "AAAAADIETAAAAAAAACBDwAQAAAAAAAAyBEwAAAAAAAAgQ8AEAAAAAAAAMgRMAAAAAAAAIEPABAAA\n",
       "AAAAADIETAAAAAAAACBDwAQAAAAAAAAyBEwAAAAAAAAgQ8AEAAAAAAAAMgRMAAAAAAAAIEPABAAA\n",
       "AAAAADIETAAAAAAAACBDwAQAAAAAAAAyBEwAAAAAAAAgQ8AEAAAAAAAAMgRMAAAAAAAAIEPABAAA\n",
       "AAAAADIETAAAAAAAACBDwAQAAAAAAAAyBEwAAAAAAAAgQ8AEAAAAAAAAMgRMAAAAAAAAIEPABAAA\n",
       "AAAAADIETAAAAAAAACBDwAQAAAAAAAAyBEwAAAAAAAAgQ8AEAAAAAAAAMgRMAAAAAAAAIEPABAAA\n",
       "AAAAADIETAAAAAAAACBDwAQAAAAAAAAyBEwAAAAAAAAgQ8AEAAAAAAAAMgRMAAAAAAAAIEPABAAA\n",
       "AAAAADIETAAAAAAAACBDwAQAAAAAAAAyBEwAAAAAAAAgQ8AEAAAAAAAAMvbjuE5vAAAAAAAAAFiW\n",
       "xQUmAAAAAAAAECJgAgAAAAAAABkCJgAAAAAAAJAhYAIAAAAAAAAZAiYAAAAAAACQIWACAAAAAAAA\n",
       "GQImAAAAAAAAkCFgAgAAAAAAABkCJgAAAAAAAJAhYAIAAAAAAAAZAiYAAAAAAACQIWACAAAAAAAA\n",
       "GQImAAAAAAAAkCFgAgAAAAAAABkCJgAAAAAAAJAhYAIAAAAAAAAZAiYAAAAAAACQIWACAAAAAAAA\n",
       "GQImAAAAAAAAkCFgAgAAAAAAABkCJgAAAAAAAJAhYAIAAAAAAAAZAiYAAAAAAACQIWACAAAAAAAA\n",
       "GQImAAAAAAAAkCFgAgAAAAAAABkCJgAAAAAAAJAhYAIAAAAAAAAZAiYAAAAAAACQIWACAAAAAAAA\n",
       "GQImAAAAAAAAkCFgAgAAAAAAABkCJgAAAAAAAJAhYAIAAAAAAAAZAiYAAAAAAACQIWACAAAAAAAA\n",
       "GQImAAAAAAAAkCFgAgAAAAAAABkCJgAAAAAAAJAhYAIAAAAAAAAZAiYAAAAAAACQIWACAAAAAAAA\n",
       "GQImAAAAAAAAkCFgAgAAAAAAABkCJgAAAAAAAJAhYAIAAAAAAAAZAiYAAAAAAACQIWACAAAAAAAA\n",
       "GQImAAAAAAAAkCFgAgAAAAAAABkCJgAAAAAAAJAhYAIAAAAAAAAZAiYAAAAAAACQIWACAAAAAAAA\n",
       "Gfu6rNMbAAAAHtZxTC+Ar3SbHgAAAJyNC0wAAAAAAAAgQ8AEAAAAAAAAMgRMAAAAAAAAIEPABAAA\n",
       "AAAAADIETAAAAAAAACBDwAQAAAAAAAAyBEwAAAAAAAAgQ8AEAAAAAAAAMgRMAAAAAAAAIEPABAAA\n",
       "AAAAADIETAAAAAAAACBDwAQAAAAAAAAyBEwAAAAAAAAgQ8AEAAAAAAAAMgRMAAAAAAAAIEPABAAA\n",
       "AAAAADIETAAAAAAAACBDwAQAAAAAAAAyBEwAAAAAAAAgQ8AEAAAAAAAAMgRMAAAAAAAAIEPABAAA\n",
       "AAAAADIETAAAAAAAACBDwAQAAAAAAAAyBEwAAAAAAAAgQ8AEAAAAAAAAMgRMAAAAAAAAIEPABAAA\n",
       "AAAAADIETAAAAAAAACBDwAQAAAAAAAAyBEwAAAAAAAAgQ8AEAAAAAAAAMgRMAAAAAAAAIEPABAAA\n",
       "AAAAADIETAAAAAAAACBDwAQAAAAAAAAyBEwAAAAAAAAgQ8AEAAAAAAAAMgRMAAAAAAAAIEPABAAA\n",
       "AAAAADIETAAAAAAAACBDwAQAAAAAAAAyBEwAAAAAAAAgQ8AEAAAAAAAAMgRMAAAAAAAAIEPABAAA\n",
       "AAAAADIETAAAAAAAACBDwAQAAAAAAAAyBEwAAAAAAAAgQ8AEAAAAAAAAMgRMAAAAAAAAIEPABAAA\n",
       "AAAAADIETAAAAAAAACBDwAQAAAAAAAAy9m17Pr0BAADgYV2PdXoCAAAApLjABAAAAAAAADIETAAA\n",
       "AAAAACBDwAQAAAAAAAAyBEwAAAAAAAAgQ8AEAAAAAAAAMgRMAAAAAAAAIEPABAAAAAAAADIETAAA\n",
       "AAAAACBDwAQAAAAAAAAyBEwAAAAAAAAgQ8AEAAAAAAAAMgRMAAAAAAAAIEPABAAAAAAAADIETAAA\n",
       "AAAAACBDwAQAAAAAAAAyBEwAAAAAAAAgQ8AEAAAAAAAAMgRMAAAAAAAAIEPABAAAAAAAADIETAAA\n",
       "AAAAACBDwAQAAAAAAAAyBEwAAAAAAAAgQ8AEAAAAAAAAMgRMAAAAAAAAIEPABAAAAAAAADIETAAA\n",
       "AAAAACBDwAQAAAAAAAAyBEwAAAAAAAAgQ8AEAAAAAAAAMgRMAAAAAAAAIEPABAAAAAAAADIETAAA\n",
       "AAAAACBDwAQAAAAAAAAyBEwAAAAAAAAgQ8AEAAAAAAAAMgRMAAAAAAAAIEPABAAAAAAAADIETAAA\n",
       "AAAAACBDwAQAAAAAAAAyBEwAAAAAAAAgQ8AEAAAAAAAAMgRMAAAAAAAAIEPABAAAAAAAADIETAAA\n",
       "AAAAACBDwAQAAAAAAAAyBEwAAAAAAAAgQ8AEAAAAAAAAMgRMAAAAAAAAIEPABAAAAAAAADIETAAA\n",
       "AAAAACBDwAQAAAAAAAAyBEwAAAAAAAAgQ8AEAAAAAAAAMgRMAAAAAAAAIGPftpfTGwAAAB7W7Zhe\n",
       "cG7HbZ2eAAAAwGdygQkAAAAAAABkCJgAAAAAAABAhoAJAAAAAAAAZAiYAAAAAAAAQIaACQAAAAAA\n",
       "AGQImAAAAAAAAECGgAkAAAAAAABkCJgAAAAAAABAhoAJAAAAAAAAZAiYAAAAAAAAQIaACQAAAAAA\n",
       "AGQImAAAAAAAAECGgAkAAAAAAABkCJgAAAAAAABAhoAJAAAAAAAAZAiYAAAAAAAAQIaACQAAAAAA\n",
       "AGQImAAAAAAAAECGgAkAAAAAAABkCJgAAAAAAABAhoAJAAAAAAAAZAiYAAAAAAAAQIaACQAAAAAA\n",
       "AGQImAAAAAAAAECGgAkAAAAAAABkCJgAAAAAAABAhoAJAAAAAAAAZAiYAAAAAAAAQIaACQAAAAAA\n",
       "AGQImAAAAAAAAECGgAkAAAAAAABkCJgAAAAAAABAhoAJAAAAAAAAZAiYAAAAAAAAQIaACQAAAAAA\n",
       "AGQImAAAAAAAAECGgAkAAAAAAABkCJgAAAAAAABAhoAJAAAAAAAAZAiYAAAAAAAAQIaACQAAAAAA\n",
       "AGQImAAAAAAAAECGgAkAAAAAAABkCJgAAAAAAABAhoAJAAAAAAAAZAiYAAAAAAAAQIaACQAAAAAA\n",
       "AGQImAAAAAAAAECGgAkAAAAAAABkCJgAAAAAAABAhoAJAAAAAAAAZAiYAAAAAAAAQIaACQAAAAAA\n",
       "AGQImAAAAAAAAEDG/s3l2+kNAAAAD+vpWKcnAAAAQIoLTAAAAAAAACBDwAQAAAAAAAAyBEwAAAAA\n",
       "AAAgQ8AEAAAAAAAAMgRMAAAAAAAAIEPABAAAAAAAADIETAAAAAAAACBDwAQAAAAAAAAyBEwAAAAA\n",
       "AAAgQ8AEAAAAAAAAMgRMAAAAAAAAIEPABAAAAAAAADIETAAAAAAAACBDwAQAAAAAAAAyBEwAAAAA\n",
       "AAAgQ8AEAAAAAAAAMgRMAAAAAAAAIEPABAAAAAAAADIETAAAAAAAACBDwAQAAAAAAAAyBEwAAAAA\n",
       "AAAgQ8AEAAAAAAAAMgRMAAAAAAAAIEPABAAAAAAAADIETAAAAAAAACBDwAQAAAAAAAAyBEwAAAAA\n",
       "AAAgQ8AEAAAAAAAAMgRMAAAAAAAAIEPABAAAAAAAADIETAAAAAAAACBDwAQAAAAAAAAyBEwAAAAA\n",
       "AAAgQ8AEAAAAAAAAMgRMAAAAAAAAIEPABAAAAAAAADIETAAAAAAAACBDwAQAAAAAAAAyBEwAAAAA\n",
       "AAAgQ8AEAAAAAAAAMgRMAAAAAAAAIEPABAAAAAAAADIETAAAAAAAACBDwAQAAAAAAAAyBEwAAAAA\n",
       "AAAgQ8AEAAAAAAAAMgRMAAAAAAAAIEPABAAAAAAAADIETAAAAAAAACBDwAQAAAAAAAAyBEwAAAAA\n",
       "AAAgQ8AEAAAAAAAAMgRMAAAAAAAAIGN/tf8wvQEAAOBhXY/pBed2HOv0BAAAAD6TC0wAAAAAAAAg\n",
       "Q8AEAAAAAAAAMgRMAAAAAAAAIEPABAAAAAAAADIETAAAAAAAACBDwAQAAAAAAAAyBEwAAAAAAAAg\n",
       "Q8AEAAAAAAAAMgRMAAAAAAAAIEPABAAAAAAAADIETAAAAAAAACBDwAQAAAAAAAAyBEwAAAAAAAAg\n",
       "Q8AEAAAAAAAAMgRMAAAAAAAAIEPABAAAAAAAADIETAAAAAAAACBDwAQAAAAAAAAyBEwAAAAAAAAg\n",
       "Q8AEAAAAAAAAMgRMAAAAAAAAIEPABAAAAAAAADIETAAAAAAAACBDwAQAAAAAAAAyBEwAAAAAAAAg\n",
       "Q8AEAAAAAAAAMgRMAAAAAAAAIEPABAAAAAAAADIETAAAAAAAACBDwAQAAAAAAAAyBEwAAAAAAAAg\n",
       "Q8AEAAAAAAAAMgRMAAAAAAAAIEPABAAAAAAAADIETAAAAAAAACBDwAQAAAAAAAAyBEwAAAAAAAAg\n",
       "Q8AEAAAAAAAAMgRMAAAAAAAAIEPABAAAAAAAADIETAAAAAAAACBDwAQAAAAAAAAyBEwAAAAAAAAg\n",
       "Q8AEAAAAAAAAMgRMAAAAAAAAIEPABAAAAAAAADIETAAAAAAAACBDwAQAAAAAAAAyBEwAAAAAAAAg\n",
       "Q8AEAAAAAAAAMgRMAAAAAAAAIEPABAAAAAAAADIETAAAAAAAACBDwAQAAAAAAAAyBEwAAAAAAAAg\n",
       "Y3+z/Di9AQAA4GF9vK7TEwD+P9tlegF3ZF336QkAwBAXmAAAAAAAAECGgAkAAAAAAABkCJgAAAAA\n",
       "AABAhoAJAAAAAAAAZAiYAAAAAAAAQIaACQAAAAAAAGQImAAAAAAAAECGgAkAAAAAAABkCJgAAAAA\n",
       "AABAhoAJAAAAAAAAZAiYAAAAAAAAQIaACQAAAAAAAGQImAAAAAAAAECGgAkAAAAAAABkCJgAAAAA\n",
       "AABAhoAJAAAAAAAAZAiYAAAAAAAAQIaACQAAAAAAAGQImAAAAAAAAECGgAkAAAAAAABkCJgAAAAA\n",
       "AABAhoAJAAAAAAAAZAiYAAAAAAAAQIaACQAAAAAAAGQImAAAAAAAAECGgAkAAAAAAABkCJgAAAAA\n",
       "AABAhoAJAAAAAAAAZAiYAAAAAAAAQIaACQAAAAAAAGQImAAAAAAAAECGgAkAAAAAAABkCJgAAAAA\n",
       "AABAhoAJAAAAAAAAZAiYAAAAAAAAQIaACQAAAAAAAGQImAAAAAAAAECGgAkAAAAAAABkCJgAAAAA\n",
       "AABAhoAJAAAAAAAAZAiYAAAAAAAAQIaACQAAAAAAAGQImAAAAAAAAECGgAkAAAAAAABkCJgAAAAA\n",
       "AABAhoAJAAAAAAAAZAiYAAAAAAAAQIaACQAAAAAAAGQImAAAAAAAAECGgAkAAAAAAABkCJgAAAAA\n",
       "AABAhoAJAAAAAAAAZOxvlzfTGwAAAB7W0216AXwlr0Z/2ubhAADAl/BNGgAAAAAAAMgQMAEAAAAA\n",
       "AIAMARMAAAAAAADIEDABAAAAAACADAETAAAAAAAAyBAwAQAAAAAAgAwBEwAAAAAAAMgQMAEAAAAA\n",
       "AIAMARMAAAAAAADIEDABAAAAAACADAETAAAAAAAAyBAwAQAAAAAAgAwBEwAAAAAAAMgQMAEAAAAA\n",
       "AIAMARMAAAAAAADIEDABAAAAAACADAETAAAAAAAAyBAwAQAAAAAAgAwBEwAAAAAAAMgQMAEAAAAA\n",
       "AIAMARMAAAAAAADIEDABAAAAAACADAETAAAAAAAAyBAwAQAAAAAAgAwBEwAAAAAAAMgQMAEAAAAA\n",
       "AIAMARMAAAAAAADIEDABAAAAAACADAETAAAAAAAAyBAwAQAAAAAAgAwBEwAAAAAAAMgQMAEAAAAA\n",
       "AIAMARMAAAAAAADIEDABAAAAAACADAETAAAAAAAAyBAwAQAAAAAAgAwBEwAAAAAAAMgQMAEAAAAA\n",
       "AIAMARMAAAAAAADIEDABAAAAAACADAETAAAAAAAAyBAwAQAAAAAAgAwBEwAAAAAAAMgQMAEAAAAA\n",
       "AIAMARMAAAAAAADIEDABAAAAAACADAETAAAAAAAAyBAwAQAAAAAAgAwBEwAAAAAAAMgQMAEAAAAA\n",
       "AIAMARMAAAAAAADIEDABAAAAAACADAETAAAAAAAAyBAwAQAAAAAAgAwBEwAAAAAAAMgQMAEAAAAA\n",
       "AICM/d2rfXoDAADAw7oe0wvObbvcpiec3upvhU86tsv0hBzP5B+bDw4AwH9xgQkAAAAAAABkCJgA\n",
       "AAAAAABAhoAJAAAAAAAAZAiYAAAAAAAAQIaACQAAAAAAAGQImAAAAAAAAECGgAkAAAAAAABkCJgA\n",
       "AADwN/v2jiNXFYZRVKfu7Xb50caPtjEWxhIWkyBjLkyD4ZEDERESgUEOCHiawO4iBslAYDi7bq01\n",
       "gk9HVS11bf0AAABkCJgAAAAAAABAhoAJAAAAAAAAZAiYAAAAAAAAQIaACQAAAAAAAGQImAAAAAAA\n",
       "AECGgAkAAAAAAABkCJgAAAAAAABAhoAJAAAAAAAAZAiYAAAAAAAAQIaACQAAAAAAAGQImAAAAAAA\n",
       "AECGgAkAAAAAAABkCJgAAAAAAABAhoAJAAAAAAAAZAiYAAAAAAAAQIaACQAAAAAAAGQImAAAAAAA\n",
       "AECGgAkAAAAAAABkCJgAAAAAAABAhoAJAAAAAAAAZAiYAAAAAAAAQIaACQAAAAAAAGQImAAAAAAA\n",
       "AECGgAkAAAAAAABkCJgAAAAAAABAhoAJAAAAAAAAZAiYAAAAAAAAQIaACQAAAAAAAGQImAAAAAAA\n",
       "AECGgAkAAAAAAABkCJgAAAAAAABAhoAJAAAAAAAAZAiYAAAAAAAAQIaACQAAAAAAAGQImAAAAAAA\n",
       "AECGgAkAAAAAAABkCJgAAAAAAABAhoAJAAAAAAAAZAiYAAAAAAAAQIaACQAAAAAAAGQImAAAAAAA\n",
       "AECGgAkAAAAAAABkrM8uXs3eAAAAcLK++XmdPWHTltX/vP85H+E3Oqxnsyf0jGX2goadL86/MYZ3\n",
       "AoBT5QITAAAAAAAAyBAwAQAAAAAAgAwBEwAAAAAAAMgQMAEAAAAAAIAMARMAAAAAAADIEDABAAAA\n",
       "AACADAETAAAAAAAAyBAwAQAAAAAAgAwBEwAAAAAAAMgQMAEAAAAAAIAMARMAAAAAAADIEDABAAAA\n",
       "AACADAETAAAAAAAAyBAwAQAAAAAAgAwBEwAAAAAAAMgQMAEAAAAAAIAMARMAAAAAAADIEDABAAAA\n",
       "AACADAETAAAAAAAAyBAwAQAAAAAAgAwBEwAAAAAAAMgQMAEAAAAAAIAMARMAAAAAAADIEDABAAAA\n",
       "AACADAETAAAAAAAAyBAwAQAAAAAAgAwBEwAAAAAAAMgQMAEAAAAAAIAMARMAAAAAAADIEDABAAAA\n",
       "AACADAETAAAAAAAAyBAwAQAAAAAAgAwBEwAAAAAAAMgQMAEAAAAAAIAMARMAAAAAAADIEDABAAAA\n",
       "AACADAETAAAAAAAAyBAwAQAAAAAAgAwBEwAAAAAAAMgQMAEAAAAAAIAMARMAAAAAAADIEDABAAAA\n",
       "AACADAETAAAAAAAAyBAwAQAAAAAAgAwBEwAAAAAAAMgQMAEAAAAAAIAMARMAAAAAAADIEDABAAAA\n",
       "AACADAETAAAAAAAAyBAwAQAAAAAAgAwBEwAAAAAAAMgQMAEAAAAAAIAMARMAAAAAAADIEDABAAAA\n",
       "AACADAETAAAAAAAAyBAwAQAAAAAAgAwBEwAAAAAAAMhYP7r94+wNAAAAJ+v5b/dnT9i09cbvsyds\n",
       "3ri+zJ6QdTjfz56Qc1jPZ09oGGezF7AhY6yzJwDAW+cCEwAAAAAAAMgQMAEAAAAAAIAMARMAAAAA\n",
       "AADIEDABAAAAAACADAETAAAAAAAAyBAwAQAAAAAAgAwBEwAAAAAAAMgQMAEAAAAAAIAMARMAAAAA\n",
       "AADIEDABAAAAAACADAETAAAAAAAAyBAwAQAAAAAAgAwBEwAAAAAAAMgQMAEAAAAAAIAMARMAAAAA\n",
       "AADIEDABAAAAAACADAETAAAAAAAAyBAwAQAAAAAAgAwBEwAAAAAAAMgQMAEAAAAAAIAMARMAAAAA\n",
       "AADIEDABAAAAAACADAETAAAAAAAAyBAwAQAAAAAAgAwBEwAAAAAAAMgQMAEAAAAAAIAMARMAAAAA\n",
       "AADIEDABAAAAAACADAETAAAAAAAAyBAwAQAAAAAAgAwBEwAAAAAAAMgQMAEAAAAAAIAMARMAAAAA\n",
       "AADIEDABAAAAAACADAETAAAAAAAAyBAwAQAAAAAAgAwBEwAAAAAAAMgQMAEAAAAAAIAMARMAAAAA\n",
       "AADIEDABAAAAAACADAETAAAAAAAAyBAwAQAAAAAAgAwBEwAAAAAAAMgQMAEAAAAAAIAMARMAAAAA\n",
       "AADIEDABAAAAAACADAETAAAAAAAAyBAwAQAAAAAAgAwBEwAAAAAAAMgQMAEAAAAAAICM9dmDF7M3\n",
       "AAAAnKwvfrg7e8KmnV/8OnvC9t26MXtB1mF/c/aEnmU/e0HDbp294CiM4Z0A4FS5wAQAAAAAAAAy\n",
       "BEwAAAAAAAAgQ8AEAAAAAAAAMgRMAAAAAAAAIEPABAAAAAAAADIETAAAAAAAACBDwAQAAAAAAAAy\n",
       "BEwAAAAAAAAgQ8AEAAAAAAAAMgRMAAAAAAAAIEPABAAAAAAAADIETAAAAAAAACBDwAQAAAAAAAAy\n",
       "BEwAAAAAAAAgQ8AEAAAAAAAAMgRMAAAAAAAAIEPABAAAAAAAADIETAAAAAAAACBDwAQAAAAAAAAy\n",
       "BEwAAAAAAAAgQ8AEAAAAAAAAMgRMAAAAAAAAIEPABAAAAAAAADIETAAAAAAAACBDwAQAAAAAAAAy\n",
       "BEwAAAAAAAAgQ8AEAAAAAAAAMgRMAAAAAAAAIEPABAAAAAAAADIETAAAAAAAACBDwAQAAAAAAAAy\n",
       "BEwAAAAAAAAgQ8AEAAAAAAAAMgRMAAAAAAAAIEPABAAAAAAAADIETAAAAAAAACBDwAQAAAAAAAAy\n",
       "BEwAAAAAAAAgQ8AEAAAAAAAAMgRMAAAAAAAAIEPABAAAAAAAADIETAAAAAAAACBDwAQAAAAAAAAy\n",
       "BEwAAAAAAAAgQ8AEAAAAAAAAMgRMAAAAAAAAIEPABAAAAAAAADLWR0++m70BAADgZD369sPZEzZt\n",
       "vf/L7Ambd3X78ewJWVfX35k9Iedwdmv2hITdsp894SjsduvsCUdhDO/0d8ZYZk9gQ4a/S/C/cYEJ\n",
       "AAAAAAAAZAiYAAAAAAAAQIaACQAAAAAAAGQImAAAAAAAAECGgAkAAAAAAABkCJgAAAAAAABAhoAJ\n",
       "AAAAAAAAZAiYAAAAAAAAQIaACQAAAAAAAGQImAAAAAAAAECGgAkAAAAAAABkCJgAAAAAAABAhoAJ\n",
       "AAAAAAAAZAiYAAAAAAAAQIaACQAAAAAAAGQImAAAAAAAAECGgAkAAAAAAABkCJgAAAAAAABAhoAJ\n",
       "AAAAAAAAZAiYAAAAAAAAQIaACQAAAAAAAGQImAAAAAAAAECGgAkAAAAAAABkCJgAAAAAAABAhoAJ\n",
       "AAAAAAAAZAiYAAAAAAAAQIaACQAAAAAAAGQImAAAAAAAAECGgAkAAAAAAABkCJgAAAAAAABAhoAJ\n",
       "AAAAAAAAZAiYAAAAAAAAQIaACQAAAAAAAGQImAAAAAAAAECGgAkAAAAAAABkCJgAAAAAAABAhoAJ\n",
       "AAAAAAAAZAiYAAAAAAAAQIaACQAAAAAAAGQImAAAAAAAAECGgAkAAAAAAABkCJgAAAAAAABAhoAJ\n",
       "AAAAAAAAZAiYAAAAAAAAQIaACQAAAAAAAHigFG0AABYHSURBVGQImAAAAAAAAECGgAkAAAAAAABk\n",
       "CJgAAAAAAABAhoAJAAAAAAAAZKwXT7+fvQEAAOBkPf3yp9kTNm25PMyesHmvbt+bPSHr6tqt2RN6\n",
       "zi5mL0gYY5094Sh4JwA4XS4wAQAAAAAAgAwBEwAAAAAAAMgQMAEAAAAAAIAMARMAAAAAAADIEDAB\n",
       "AAAAAACADAETAAAAAAAAyBAwAQAAAAAAgAwBEwAAAAAAAMgQMAEAAAAAAIAMARMAAAAAAADIEDAB\n",
       "AAAAAACADAETAAAAAAAAyBAwAQAAAAAAgAwBEwAAAAAAAMgQMAEAAAAAAIAMARMAAAAAAADIEDAB\n",
       "AAAAAACADAETAAAAAAAAyBAwAQAAAAAAgAwBEwAAAAAAAMgQMAEAAAAAAIAMARMAAAAAAADIEDAB\n",
       "AAAAAACADAETAAAAAAAAyBAwAQAAAAAAgAwBEwAAAAAAAMgQMAEAAAAAAIAMARMAAAAAAADIEDAB\n",
       "AAAAAACADAETAAAAAAAAyBAwAQAAAAAAgAwBEwAAAAAAAMgQMAEAAAAAAIAMARMAAAAAAADIEDAB\n",
       "AAAAAACADAETAAAAAAAAyBAwAQAAAAAAgAwBEwAAAAAAAMgQMAEAAAAAAIAMARMAAAAAAADIEDAB\n",
       "AAAAAACADAETAAAAAAAAyBAwAQAAAAAAgAwBEwAAAAAAAMgQMAEAAAAAAIAMARMAAAAAAADIWNf3\n",
       "X87eAAAAcLKePngxe8KmHR5ezp6wea8vvPGbHK7dmT0hZ6z72RMSlsU78PaMscyewAaM3Tp7AsCf\n",
       "uMAEAAAAAAAAMgRMAAAAAAAAIEPABAAAAAAAADIETAAAAAAAACBDwAQAAAAAAAAyBEwAAAAAAAAg\n",
       "Q8AEAAAAAAAAMgRMAAAAAAAAIEPABAAAAAAAADIETAAAAAAAACBDwAQAAAAAAAAyBEwAAAAAAAAg\n",
       "Q8AEAAAAAAAAMgRMAAAAAAAAIEPABAAAAAAAADIETAAAAAAAACBDwAQAAAAAAAAyBEwAAAAAAAAg\n",
       "Q8AEAAAAAAAAMgRMAAAAAAAAIEPABAAAAAAAADIETAAAAAAAACBDwAQAAAAAAAAyBEwAAAAAAAAg\n",
       "Q8AEAAAAAAAAMgRMAAAAAAAAIEPABAAAAAAAADIETAAAAAAAACBDwAQAAAAAAAAyBEwAAAAAAAAg\n",
       "Q8AEAAAAAAAAMgRMAAAAAAAAIEPABAAAAAAAADIETAAAAAAAACBDwAQAAAAAAAAyBEwAAAAAAAAg\n",
       "Q8AEAAAAAAAAMgRMAAAAAAAAIEPABAAAAAAAADIETAAAAAAAACBDwAQAAAAAAAAyBEwAAAAAAAAg\n",
       "Q8AEAAAAAAAAMgRMAAAAAAAAIEPABAAAAAAAADIETAAAAAAAACBDwAQAAAAAAAAyBEwAAAAAAAAg\n",
       "Q8AEAAAAAAAAMgRMAAAAAAAAIEPABAAAAAAAADIETAAAAAAAACBDwAQAAAAAAAAyBEwAAAAAAAAg\n",
       "Q8AEAAAAAAAAMgRMAAAAAAAAIEPABAAAAAAAADIETAAAAAAAACBDwAQAAAAAAAAyBEwAAAAAAAAg\n",
       "Q8AEAAAAAAAAMgRMAAAAAAAAIEPABAAAAAAAADIETAAAAAAAACBDwAQAAAAAAAAyBEwAAAAAAAAg\n",
       "Q8AEAAAAAAAAMgRMAAAAAAAAIEPABAAAAAAAADIETAAAAAAAACBjHQ/vzt4AAABwst794PnsCZv2\n",
       "+vK92RM27+rmvdkTus795vJXu91+9oSEMdbZE46CdwKA0+UCEwAAAAAAAMgQMAEAAAAAAIAMARMA\n",
       "AAAAAADIEDABAAAAAACADAETAAAAAAAAyBAwAQAAAAAAgAwBEwAAAAAAAMgQMAEAAAAAAIAMARMA\n",
       "AAAAAADIEDABAAAAAACADAETAAAAAAAAyBAwAQAAAAAAgAwBEwAAAAAAAMgQMAEAAAAAAIAMARMA\n",
       "AAAAAADIEDABAAAAAACADAETAAAAAAAAyBAwAQAAAAAAgAwBEwAAAAAAAMgQMAEAAAAAAIAMARMA\n",
       "AAAAAADIEDABAAAAAACADAETAAAAAAAAyBAwAQAAAAAAgAwBEwAAAAAAAMgQMAEAAAAAAIAMARMA\n",
       "AAAAAADIEDABAAAAAACADAETAAAAAAAAyBAwAQAAAAAAgAwBEwAAAAAAAMgQMAEAAAAAAIAMARMA\n",
       "AAAAAADIEDABAAAAAACADAETAAAAAAAAyBAwAQAAAAAAgAwBEwAAAAAAAMgQMAEAAAAAAIAMARMA\n",
       "AAAAAADIEDABAAAAAACADAETAAAAAAAAyBAwAQAAAAAAgAwBEwAAAAAAAMgQMAEAAAAAAIAMARMA\n",
       "AAAAAADIEDABAAAAAACADAETAAAAAAAAyBAwAQAAAAAAgAwBEwAAAAAAAMgQMAEAAAAAAIAMARMA\n",
       "AAAAAADIEDABAAAAAACADAETAAAAAAAAyBAwAQAAAAAAgIz11aMnszcAAACcrDuffD17wqa9fPzx\n",
       "7Ambd7jpd4U3Wa9dzp6Qsyz72RMSxlhnTzgKYyyzJ7ABY+f7BnCMXGACAAAAAAAAGQImAAAAAAAA\n",
       "kCFgAgAAAAAAABkCJgAAAAAAAJAhYAIAAAAAAAAZAiYAAAAAAACQIWACAAAAAAAAGQImAAAAAAAA\n",
       "kCFgAgAAAAAAABkCJgAAAAAAAJAhYAIAAAAAAAAZAiYAAAAAAACQIWACAAAAAAAAGQImAAAAAAAA\n",
       "kCFgAgAAAAAAABkCJgAAAAAAAJAhYAIAAAAAAAAZAiYAAAAAAACQIWACAAAAAAAAGQImAAAAAAAA\n",
       "kCFgAgAAAAAAABkCJgAAAAAAAJAhYAIAAAAAAAAZAiYAAAAAAACQIWACAAAAAAAAGQImAAAAAAAA\n",
       "kCFgAgAAAAAAABkCJgAAAAAAAJAhYAIAAAAAAAAZAiYAAAAAAACQIWACAAAAAAAAGQImAAAAAAAA\n",
       "kCFgAgAAAAAAABkCJgAAAAAAAJAhYAIAAAAAAAAZAiYAAAAAAACQIWACAAAAAAAAGQImAAAAAAAA\n",
       "kCFgAgAAAAAAABkCJgAAAAAAAJAhYAIAAAAAAAAZAiYAAAAAAACQIWACAAAAAAAAGQImAAAAAAAA\n",
       "kCFgAgAAAAAAABkCJgAAAAAAAJAhYAIAAAAAAAAZAiYAAAAAAACQIWACAAAAAAAAGQImAAAAAAAA\n",
       "kCFgAgAAAAAAABkCJgAAAAAAAJAhYAIAAAAAAAAZAiYAAAAAAACQIWACAAAAAAAAGQImAAAAAAAA\n",
       "kCFgAgAAAAAAABkCJgAAAAAAAJAhYAIAAAAAAAAZAiYAAAAAAACQIWACAAAAAAAAGQImAAAAAAAA\n",
       "kCFgAgAAAAAAABkCJgAAAAAAAJAhYAIAAAAAAAAZAiYAAAAAAACQIWACAAAAAAAAGQImAAAAAAAA\n",
       "kCFgAgAAAAAAABkCJgAAAAAAAJAhYAIAAAAAAAAZAiYAAAAAAACQIWACAAAAAAAAGQImAAAAAAAA\n",
       "kCFgAgAAAAAAABkCJgAAAAAAAJAhYAIAAAAAAAAZAiYAAAAAAACQIWACAAAAAAAAGQImAAAAAAAA\n",
       "kCFgAgAAAAAAABkCJgAAAAAAAJAhYAIAAAAAAAAZAiYAAAAAAACQIWACAAAAAAAAGQImAAAAAAAA\n",
       "kCFgAgAAAAAAABkCJgAAAAAAAJAhYAIAAAAAAAAZ6+7zr2ZvAAAAOFkvP/1s9oRNOz+/nD1h88ZY\n",
       "Z0/IGmOZPSFn7HxeAAD4Zy4wAQAAAAAAgAwBEwAAAAAAAMgQMAEAAAAAAIAMARMAAAAAAADIEDAB\n",
       "AAAAAACADAETAAAAAAAAyBAwAQAAAAAAgAwBEwAAAAAAAMgQMAEAAAAAAIAMARMAAAAAAADIEDAB\n",
       "AAAAAACADAETAAAAAAAAyBAwAQAAAAAAgAwBEwAAAAAAAMgQMAEAAAAAAIAMARMAAAAAAADIEDAB\n",
       "AAAAAACADAETAAAAAAAAyBAwAQAAAAAAgAwBEwAAAAAAAMgQMAEAAAAAAIAMARMAAAAAAADIEDAB\n",
       "AAAAAACADAETAAAAAAAAyBAwAQAAAAAAgAwBEwAAAAAAAMgQMAEAAAAAAIAMARMAAAAAAADIEDAB\n",
       "AAAAAACADAETAAAAAAAAyBAwAQAAAAAAgAwBEwAAAAAAAMgQMAEAAAAAAIAMARMAAAAAAADIEDAB\n",
       "AAAAAACADAETAAAAAAAAyBAwAQAAAAAAgAwBEwAAAAAAAMgQMAEAAAAAAIAMARMAAAAAAADIEDAB\n",
       "AAAAAACADAETAAAAAAAAyBAwAQAAAOCP9uxYAAAAAGCQv/U0dpRGAABsCEwAAAAAAABgQ2ACAAAA\n",
       "AAAAGwITAAAAAAAA2BCYAAAAAAAAwIbABAAAAAAAADYEJgAAAAAAALAhMAEAAAAAAIANgQkAAAAA\n",
       "AABsCEwAAAAAAABgQ2ACAAAAAAAAGwITAAAAAAAA2BCYAAAAAAAAwIbABAAAAAAAADYEJgAAAAAA\n",
       "ALAhMAEAAAAAAIANgQkAAAAAAABsCEwAAAAAAABgQ2ACAAAAAAAAGwITAAAAAAAA2BCYAAAAAAAA\n",
       "wIbABAAAAAAAADYEJgAAAAAAALAhMAEAAAAAAIANgQkAAAAAAABsCEwAAAAAAABgQ2ACAAAAAAAA\n",
       "GwITAAAAAAAA2BCYAAAAAAAAwIbABAAAAAAAADYEJgAAAAAAALAhMAEAAAAAAIANgQkAAAAAAABs\n",
       "CEwAAAAAAABgQ2ACAAAAAAAAGwITAAAAAAAA2BCYAAAAAAAAwIbABAAAAAAAADYEJgAAAAAAALAh\n",
       "MAEAAAAAAIANgQkAAAAAAABsCEwAAAAAAABgQ2ACAAAAAAAAGwITAAAAAAAA2BCYAAAAAAAAwIbA\n",
       "BAAAAAAAADYEJgAAAAAAALAhMAEAAAAAAIANgQkAAAAAAABsCEwAAAAAAABgQ2ACAAAAAAAAGwIT\n",
       "AAAAAAAA2BCYAAAAAAAAwIbABAAAAAAAADYEJgAAAAAAALAhMAEAAAAAAIANgQkAAAAAAABsCEwA\n",
       "AAAAAABgQ2ACAAAAAAAAGwITAAAAAAAA2BCYAAAAAAAAwIbABAAAAAAAADYEJgAAAAAAALAhMAEA\n",
       "AAAAAIANgQkAAAAAAABsCEwAAAAAAABgQ2ACAAAAAAAAGwITAAAAAAAA2BCYAAAAAAAAwIbABAAA\n",
       "AAAAADYEJgAAAAAAALAhMAEAAAAAAIANgQkAAAAAAABsCEwAAAAAAABgQ2ACAAAAAAAAGwITAAAA\n",
       "AAAA2BCYAAAAAAAAwIbABAAAAAAAADYEJgAAAAAAALAhMAEAAAAAAIANgQkAAAAAAABsCEwAAAAA\n",
       "AABgQ2ACAAAAAAAAGwITAAAAAAAA2BCYAAAAAAAAwIbABAAAAAAAADYEJgAAAAAAALAhMAEAAAAA\n",
       "AIANgQkAAAAAAABsCEwAAAAAAABgQ2ACAAAAAAAAGwITAAAAAAAA2BCYAAAAAAAAwIbABAAAAAAA\n",
       "ADYEJgAAAAAAALAhMAEAAAAAAIANgQkAAAAAAABsCEwAAAAAAABgQ2ACAAAAAAAAGwITAAAAAAAA\n",
       "2BCYAAAAAAAAwIbABAAAAAAAADYEJgAAAAAAALAhMAEAAAAAAIANgQkAAAAAAABsCEwAAAAAAABg\n",
       "Q2ACAAAAAAAAGwITAAAAAAAA2BCYAAAAAAAAwIbABAAAAAAAADYEJgAAAAAAALAhMAEAAAAAAIAN\n",
       "gQkAAAAAAABsCEwAAAAAAABgQ2ACAAAAAAAAGwITAAAAAAAA2BCYAAAAAAAAwIbABAAAAAAAADYE\n",
       "JgAAAAAAALAhMAEAAAAAAIANgQkAAAAAAABsCEwAAAAAAABgQ2ACAAAAAAAAGwITAAAAAAAA2BCY\n",
       "AAAAAAAAwIbABAAAAAAAADYEJgAAAAAAALAhMAEAAAAAAIANgQkAAAAAAABsCEwAAAAAAABgQ2AC\n",
       "AAAAAAAAGwITAAAAAAAA2BCYAAAAAAAAwIbABAAAAAAAADYEJgAAAAAAALAhMAEAAAAAAIANgQkA\n",
       "AAAAAABsCEwAAAAAAABgQ2ACAAAAAAAAGwITAAAAAAAA2BCYAAAAAAAAwIbABAAAAAAAADYEJgAA\n",
       "AAAAALAhMAEAAAAAAIANgQkAAAAAAABsCEwAAAAAAABgQ2ACAAAAAAAAGwITAAAAAAAA2BCYAAAA\n",
       "AAAAwIbABAAAAAAAADYEJgAAAAAAALAhMAEAAAAAAIANgQkAAAAAAABsCEwAAAAAAABgQ2ACAAAA\n",
       "AAAAGwITAAAAAAAA2BCYAAAAAAAAwIbABAAAAAAAADYEJgAAAAAAALAhMAEAAAAAAIANgQkAAAAA\n",
       "AABsCEwAAAAAAABgQ2ACAAAAAAAAGwITAAAAAAAA2BCYAAAAAAAAwIbABAAAAAAAADYEJgAAAAAA\n",
       "ALAhMAEAAAAAAIANgQkAAAAAAABsCEwAAAAAAABgQ2ACAAAAAAAAGwITAAAAAAAA2BCYAAAAAAAA\n",
       "wIbABAAAAAAAADYEJgAAAAAAALAhMAEAAAAAAIANgQkAAAAAAABsCEwAAAAAAABgQ2ACAAAAAAAA\n",
       "GwITAAAAAAAA2BCYAAAAAAAAwIbABAAAAAAAADYEJgAAAAAAALAhMAEAAAAAAIANgQkAAAAAAABs\n",
       "CEwAAAAAAABgQ2ACAAAAAAAAGwITAAAAAAAA2BCYAAAAAAAAwIbABAAAAAAAADYEJgAAAAAAALAh\n",
       "MAEAAAAAAIANgQkAAAAAAABsCEwAAAAAAABgQ2ACAAAAAAAAGwITAAAAAAAA2BCYAAAAAAAAwIbA\n",
       "BAAAAAAAADYEJgAAAAAAALAhMAEAAAAAAIANgQkAAAAAAABsCEwAAAAAAABgQ2ACAAAAAAAAGwIT\n",
       "AAAAAAAA2BCYAAAAAAAAwIbABAAAAAAAADYEJgAAAAAAALAhMAEAAAAAAIANgQkAAAAAAABsCEwA\n",
       "AAAAAABgQ2ACAAAAAAAAGwITAAAAAAAA2BCYAAAAAAAAwIbABAAAAAAAADYEJgAAAAAAALAhMAEA\n",
       "AAAAAIANgQkAAAAAAABsCEwAAAAAAABgQ2ACAAAAAAAAGwITAAAAAAAA2BCYAAAAAAAAwIbABAAA\n",
       "AAAAADYEJgAAAAAAALAhMAEAAAAAAIANgQkAAAAAAABsCEwAAAAAAABgQ2ACAAAAAAAAGwITAAAA\n",
       "AAAA2BCYAAAAAAAAwIbABAAAAAAAADYEJgAAAAAAALAhMAEAAAAAAIANgQkAAAAAAABsCEwAAAAA\n",
       "AABgQ2ACAAAAAAAAGwITAAAAAAAA2BCYAAAAAAAAwIbABAAAAAAAADYEJgAAAAAAALAhMAEAAAAA\n",
       "AIANgQkAAAAAAABsCEwAAAAAAABgQ2ACAAAAAAAAGwITAAAAAAAA2BCYAAAAAAAAwIbABAAAAAAA\n",
       "ADYEJgAAAAAAALAhMAEAAAAAAIANgQkAAAAAAABsCEwAAAAAAABgQ2ACAAAAAAAAGwITAAAAAAAA\n",
       "2BCYAAAAAAAAwIbABAAAAAAAADYEJgAAAAAAALAhMAEAAAAAAIANgQkAAAAAAABsCEwAAAAAAABg\n",
       "Q2ACAAAAAAAAGwITAAAAAAAA2BCYAAAAAAAAwEYf1GMiD64x6QAAAABJRU5ErkJggg==\n",
       "\" transform=\"translate(273, 47)\"/>\n",
       "</g>\n",
       "<defs>\n",
       "  <clipPath id=\"clip7603\">\n",
       "    <rect x=\"2160\" y=\"47\" width=\"73\" height=\"1377\"/>\n",
       "  </clipPath>\n",
       "</defs>\n",
       "<g clip-path=\"url(#clip7603)\">\n",
       "<image width=\"72\" height=\"1376\" xlink:href=\"data:image/png;base64,\n",
       "iVBORw0KGgoAAAANSUhEUgAAAEgAAAVgCAYAAADsKhu7AAAL3UlEQVR4nO3dwXErRxAFwYWi/bdC\n",
       "Xkp/Rhao67h7yLSAUfFigRmA5O/f8/d9+F9/vf0DfJ1AQaAgUBAozLn/vv0zfJoFBYGCQEGgMNdD\n",
       "emVBQaAgUBAoCBTmHq9iGwsKAgWBgkDBUSNYUBAoCBQECh7SwYKCQEGgIFAQKHgVCxYUBAoCBYGC\n",
       "S/tgQUGgIFAQKHgnHSwoCBQECgIFgYJXsWBBQaAgUBAozOM+aGVBQaAgUBAoCBS8igULCgIFgYJA\n",
       "YR73QSsLCgIFgYJAwTvpYEFBoCBQECgIFLyKBQsKAgWBgkBhnvPP2z/Dp1lQECgIFAQKLu2DBQWB\n",
       "gkBBoCBQcB8ULCgIFAQKAgUP6WBBQaAgUBAoCBTmd/+8/TN8mgUFgYJAQaAwz/GQ3lhQECgIFAQK\n",
       "8/OQXllQECgIFAQKAgVHjWBBQaAgUBAozOPSfmVBQaAgUBAouA8KFhQECgIFgYJAwX1QsKAgUBAo\n",
       "CBQcNYIFBYGCQEGgIFBw1AgWFAQKAgWBwvzOeftn+DQLCgIFgYJAwTvpYEFBoCBQECgIFLyKBQsK\n",
       "AgWBgkDBR8/BgoJAQaAgUJjHpf3KgoJAQaAgUBAoOGoECwoCBYGCQMGlfbCgIFAQKAgUBApexYIF\n",
       "BYGCQEGg4FcRggUFgYJAQaDgo+dgQUGgIFAQKAgU3AcFCwoCBYGCQMFRI1hQECgIFAQKHtLBgoJA\n",
       "QaAgUBAo+Og5WFAQKAgUBAou7YMFBYGCQEGgIFBwYRYsKAgUBAoCBQ/pYEFBoCBQECh4SAcLCgIF\n",
       "gYJAQaAwz7lv/wyfZkFBoCBQECjMcx01NhYUBAoCBYGC+6BgQUGgIFAQKAgU3AcFCwoCBYGCQMFR\n",
       "I1hQECgIFAQKAgWvYsGCgkBBoCBQcB8ULCgIFAQKAgXvpIMFBYGCQEGgIFCYx4vYyoKCQEGgIFDw\n",
       "kA4WFAQKAgWBwvh1sZ0FBYGCQEGgIFBw1AgWFAQKAgWBgod0sKAgUBAoCBQECl7FggUFgYJAQaAw\n",
       "j99EWFlQECgIFAQKc8/v7Z/h0ywoCBQECgIFgYL7oGBBQaAgUBAozOOosbKgIFAQKAgU5l4P6Y0F\n",
       "BYGCQEGgIFBw1AgWFAQKAgWBgod0sKAgUBAoCBQECi7MggUFgYJAQaDgqBEsKAgUBAoChXmORht1\n",
       "gkBBoCBQECi4DwoWFAQKAgWBgvugYEFBoCBQECj40xTBgoJAQaAgUBAozHM12qgTBAoCBYGCo0aw\n",
       "oCBQECgIFAQKXsWCBQWBgkBBoOBbrkGdIFAQKAgUfIkzWFAQKAgUBAoCBd9yDRYUBAoCBYHCXPdB\n",
       "K3WCQEGgIFBwHxQsKAgUBAoCBYGC+6BgQUGgIFAQKLgPCuoEgYJAQaAgUHBhFiwoCBQECgIFvy8W\n",
       "LCgIFAQKAoW5/n7QSp0gUBAoCBQECj56DhYUBAoCBYGC+6BgQUGgIFAQKPhkNVhQECgIFAQKAgXf\n",
       "cg3qBIGCQEGg4KgRLCgIFAQKAgWBgk81ggUFgYJAQaDgqBEsKAgUBAoCBZf2QZ0gUBAoCBQECo4a\n",
       "wYKCQEGgIFBwaR8sKAgUBAoCBe+kgwUFgYJAQaAgUPCpRlAnCBQECgIFR41gQUGgIFAQKAgUvIoF\n",
       "CwoCBYGCQMFDOlhQECgIFAQKvh8ULCgIFAQKAgWBwhz/22elThAoCBQECu6DggUFgYJAQaDgPihY\n",
       "UBAoCBQECgIFR41gQUGgIFAQKHhIBwsKAgWBgkBBoOBVLFhQECgIFAQKHtLBgoJAQaAgUJjjIb2y\n",
       "oCBQECgIFAQKjhrBgoJAQaAgUPCQDhYUBAoCBYGCh3SwoCBQECgIFAQKXsWCBQWBgkBBoOAhHSwo\n",
       "CBQECgIFgYIvUAULCgIFgYJAwVEjWFAQKAgUBAoe0sGCgkBBoCBQECj4rwhBnSBQECgIFBw1ggUF\n",
       "gYJAQaDgk9VgQUGgIFAQKAgUHDWCBQWBgkBBoOCoESwoCBQECgIFgYKjRrCgIFAQKAgUPKSDBQWB\n",
       "gkBBoOA+KFhQECgIFAQKAoW5j1exjQUFgYJAQaDgqBEsKAgUBAoCBZf2wYKCQEGgIFAQKMy5b/8I\n",
       "32ZBQaAgUBAoOGoECwoCBYGCQEGg4FONYEFBoCBQECjM8f2glQUFgYJAQaDgPihYUBAoCBQECgIF\n",
       "90HBgoJAQaAgUHDUCBYUBAoCBYHCnLd/go+zoCBQECgIFAQKjhrBgoJAQaAgUHBpHywoCBQECgIF\n",
       "gYK/ghcsKAgUBAoCBUeNYEFBoCBQECj4+0HBgoJAQaAgUBAouA8KFhQECgIFgYLvBwULCgIFgYJA\n",
       "wa8iBAsKAgWBgkBBoOCoESwoCBQECgIFR41gQUGgIFAQKAgUHDWCBQWBgkBBoOBXEYIFBYGCQEGg\n",
       "MH4TYWdBQaAgUBAoCBQcNYIFBYGCQEGg4KgRLCgIFAQKAgXvpIMFBYGCQEGgIFBw1AgWFAQKAgWB\n",
       "gqNGsKAgUBAoCBQECv6Wa7CgIFAQKAgU/KnSYEFBoCBQECh4Jx0sKAgUBAoCBYHCHEeNlQUFgYJA\n",
       "QaAw11FjZUFBoCBQECj4flCwoCBQECgIFAQKfhUhWFAQKAgUBAo+eg4WFAQKAgWBgkDBR8/BgoJA\n",
       "QaAgUPDRc7CgIFAQKAgU/JfMYEFBoCBQECgIFHyBKlhQECgIFAQK7oOCBQWBgkBBoOA+KFhQECgI\n",
       "FAQKAgVHjWBBQaAgUBAo+BJnsKAgUBAoCBQECn6hLlhQECgIFAQK/jRFsKAgUBAoCBS8kw4WFAQK\n",
       "AgWBgkDBq1iwoCBQECgIFPyXzGBBQaAgUBAoeCcdLCgIFAQKAgWBgo+egwUFgYJAQaDgqBEsKAgU\n",
       "BAoCBYGCV7FgQUGgIFAQKLgPChYUBAoCBYGCd9LBgoJAQaAgUBAo+FuuwYKCQEGgIFDwp0qDBQWB\n",
       "gkBBoOA+KFhQECgIFAQKAgUfPQcLCgIFgYJAwVEjWFAQKAgUBAoChbmPl7GNBQWBgkBBoOCoESwo\n",
       "CBQECgIFl/bBgoJAQaAgUBAoOGoECwoCBYGCQMFRI1hQECgIFAQK3kkHCwoCBYGCQEGg4LeegwUF\n",
       "gYJAQaAwx5c4VxYUBAoCBYGCQMFRI1hQECgIFAQKjhrBgoJAQaAgUPD3pIMFBYGCQEGgIFCY60Jo\n",
       "ZUFBoCBQECg4agQLCgIFgYJAwa8iBAsKAgWBgkBBoOBPlQYLCgIFgYJAwVEjWFAQKAgUBAoCBd9y\n",
       "DRYUBAoCBYGC+6BgQUGgIFAQKHgnHSwoCBQECgIFgYJXsWBBQaAgUBAozPH7YisLCgIFgYJAwaV9\n",
       "sKAgUBAoCBQECu6DggUFgYJAQaDgIR0sKAgUBAoCBYGCV7FgQUGgIFAQKMx9/B28jQUFgYJAQaDg\n",
       "nXSwoCBQECgIFAQKc36OGhsLCgIFgYJAYY77oJUFBYGCQEGg4CEdLCgIFAQKAgWBgo+egwUFgYJA\n",
       "QaAw5+ej540FBYGCQEGgIFBwYRYsKAgUBAoCBQ/pYEFBoCBQECi4tA8WFAQKAgWBgkBhzvPn7Z/h\n",
       "0ywoCBQECgIF90HBgoJAQaAgUJjrnfTKgoJAQaAgUBAoOGoECwoCBYGCQMFDOlhQECgIFAQKAgUX\n",
       "ZsGCgkBBoCBQcNQIFhQECgIFgYJ30sGCgkBBoCBQECj4hbpgQUGgIFAQKMy5HtIbCwoCBYGCQME7\n",
       "6WBBQaAgUBAoCBTmOmqsLCgIFAQKAgVHjWBBQaAgUBAoCBR8gSpYUBAoCBQECj56DhYUBAoCBYGC\n",
       "+6BgQUGgIFAQKAgUfPQcLCgIFAQKAgWX9sGCgkBBoCBQ8E46WFAQKAgUBAoCBZ9qBAsKAgWBgkDB\n",
       "USNYUBAoCBQECgIFn2oECwoCBYGCQMFRI1hQECgIFAQKLu2DBQWBgkBBoCBQmHvdB20sKAgUBAoC\n",
       "BUeNYEFBoCBQECjMc+/bP8OnWVAQKAgUBAoChXkcNVYWFAQKAgWBgu8HBQsKAgWBgkBBoOCoESwo\n",
       "CBQECgIFHz0HCwoCBYGCQGEe90ErCwoCBYGCQEGg4KgRLCgIFAQKAgWX9sGCgkBBoCBQ+A+xBu/P\n",
       "hn95lgAAAABJRU5ErkJggg==\n",
       "\" transform=\"translate(2161, 47)\"/>\n",
       "</g>\n",
       "<path clip-path=\"url(#clip7600)\" d=\"M 0 0 M2280.7 1269.63 Q2277.09 1269.63 2275.26 1273.19 Q2273.45 1276.74 2273.45 1283.87 Q2273.45 1290.97 2275.26 1294.54 Q2277.09 1298.08 2280.7 1298.08 Q2284.33 1298.08 2286.14 1294.54 Q2287.97 1290.97 2287.97 1283.87 Q2287.97 1276.74 2286.14 1273.19 Q2284.33 1269.63 2280.7 1269.63 M2280.7 1265.93 Q2286.51 1265.93 2289.57 1270.53 Q2292.64 1275.12 2292.64 1283.87 Q2292.64 1292.59 2289.57 1297.2 Q2286.51 1301.78 2280.7 1301.78 Q2274.89 1301.78 2271.81 1297.2 Q2268.76 1292.59 2268.76 1283.87 Q2268.76 1275.12 2271.81 1270.53 Q2274.89 1265.93 2280.7 1265.93 Z\" fill=\"#000000\" fill-rule=\"evenodd\" fill-opacity=\"1\" /><path clip-path=\"url(#clip7600)\" d=\"M 0 0 M2297.71 1295.23 L2302.6 1295.23 L2302.6 1301.11 L2297.71 1301.11 L2297.71 1295.23 Z\" fill=\"#000000\" fill-rule=\"evenodd\" fill-opacity=\"1\" /><path clip-path=\"url(#clip7600)\" d=\"M 0 0 M2317.67 1269.63 Q2314.06 1269.63 2312.23 1273.19 Q2310.42 1276.74 2310.42 1283.87 Q2310.42 1290.97 2312.23 1294.54 Q2314.06 1298.08 2317.67 1298.08 Q2321.3 1298.08 2323.11 1294.54 Q2324.94 1290.97 2324.94 1283.87 Q2324.94 1276.74 2323.11 1273.19 Q2321.3 1269.63 2317.67 1269.63 M2317.67 1265.93 Q2323.48 1265.93 2326.53 1270.53 Q2329.61 1275.12 2329.61 1283.87 Q2329.61 1292.59 2326.53 1297.2 Q2323.48 1301.78 2317.67 1301.78 Q2311.86 1301.78 2308.78 1297.2 Q2305.72 1292.59 2305.72 1283.87 Q2305.72 1275.12 2308.78 1270.53 Q2311.86 1265.93 2317.67 1265.93 Z\" fill=\"#000000\" fill-rule=\"evenodd\" fill-opacity=\"1\" /><path clip-path=\"url(#clip7600)\" d=\"M 0 0 M2344.68 1269.63 Q2341.07 1269.63 2339.24 1273.19 Q2337.44 1276.74 2337.44 1283.87 Q2337.44 1290.97 2339.24 1294.54 Q2341.07 1298.08 2344.68 1298.08 Q2348.32 1298.08 2350.12 1294.54 Q2351.95 1290.97 2351.95 1283.87 Q2351.95 1276.74 2350.12 1273.19 Q2348.32 1269.63 2344.68 1269.63 M2344.68 1265.93 Q2350.49 1265.93 2353.55 1270.53 Q2356.63 1275.12 2356.63 1283.87 Q2356.63 1292.59 2353.55 1297.2 Q2350.49 1301.78 2344.68 1301.78 Q2338.87 1301.78 2335.79 1297.2 Q2332.74 1292.59 2332.74 1283.87 Q2332.74 1275.12 2335.79 1270.53 Q2338.87 1265.93 2344.68 1265.93 Z\" fill=\"#000000\" fill-rule=\"evenodd\" fill-opacity=\"1\" /><path clip-path=\"url(#clip7600)\" d=\"M 0 0 M2362.51 1297.18 L2370.14 1297.18 L2370.14 1270.81 L2361.83 1272.48 L2361.83 1268.22 L2370.1 1266.55 L2374.77 1266.55 L2374.77 1297.18 L2382.41 1297.18 L2382.41 1301.11 L2362.51 1301.11 L2362.51 1297.18 Z\" fill=\"#000000\" fill-rule=\"evenodd\" fill-opacity=\"1\" /><path clip-path=\"url(#clip7600)\" d=\"M 0 0 M2280.7 1131.82 Q2277.09 1131.82 2275.26 1135.39 Q2273.45 1138.93 2273.45 1146.06 Q2273.45 1153.17 2275.26 1156.73 Q2277.09 1160.27 2280.7 1160.27 Q2284.33 1160.27 2286.14 1156.73 Q2287.97 1153.17 2287.97 1146.06 Q2287.97 1138.93 2286.14 1135.39 Q2284.33 1131.82 2280.7 1131.82 M2280.7 1128.12 Q2286.51 1128.12 2289.57 1132.73 Q2292.64 1137.31 2292.64 1146.06 Q2292.64 1154.79 2289.57 1159.39 Q2286.51 1163.98 2280.7 1163.98 Q2274.89 1163.98 2271.81 1159.39 Q2268.76 1154.79 2268.76 1146.06 Q2268.76 1137.31 2271.81 1132.73 Q2274.89 1128.12 2280.7 1128.12 Z\" fill=\"#000000\" fill-rule=\"evenodd\" fill-opacity=\"1\" /><path clip-path=\"url(#clip7600)\" d=\"M 0 0 M2297.71 1157.43 L2302.6 1157.43 L2302.6 1163.31 L2297.71 1163.31 L2297.71 1157.43 Z\" fill=\"#000000\" fill-rule=\"evenodd\" fill-opacity=\"1\" /><path clip-path=\"url(#clip7600)\" d=\"M 0 0 M2317.67 1131.82 Q2314.06 1131.82 2312.23 1135.39 Q2310.42 1138.93 2310.42 1146.06 Q2310.42 1153.17 2312.23 1156.73 Q2314.06 1160.27 2317.67 1160.27 Q2321.3 1160.27 2323.11 1156.73 Q2324.94 1153.17 2324.94 1146.06 Q2324.94 1138.93 2323.11 1135.39 Q2321.3 1131.82 2317.67 1131.82 M2317.67 1128.12 Q2323.48 1128.12 2326.53 1132.73 Q2329.61 1137.31 2329.61 1146.06 Q2329.61 1154.79 2326.53 1159.39 Q2323.48 1163.98 2317.67 1163.98 Q2311.86 1163.98 2308.78 1159.39 Q2305.72 1154.79 2305.72 1146.06 Q2305.72 1137.31 2308.78 1132.73 Q2311.86 1128.12 2317.67 1128.12 Z\" fill=\"#000000\" fill-rule=\"evenodd\" fill-opacity=\"1\" /><path clip-path=\"url(#clip7600)\" d=\"M 0 0 M2344.68 1131.82 Q2341.07 1131.82 2339.24 1135.39 Q2337.44 1138.93 2337.44 1146.06 Q2337.44 1153.17 2339.24 1156.73 Q2341.07 1160.27 2344.68 1160.27 Q2348.32 1160.27 2350.12 1156.73 Q2351.95 1153.17 2351.95 1146.06 Q2351.95 1138.93 2350.12 1135.39 Q2348.32 1131.82 2344.68 1131.82 M2344.68 1128.12 Q2350.49 1128.12 2353.55 1132.73 Q2356.63 1137.31 2356.63 1146.06 Q2356.63 1154.79 2353.55 1159.39 Q2350.49 1163.98 2344.68 1163.98 Q2338.87 1163.98 2335.79 1159.39 Q2332.74 1154.79 2332.74 1146.06 Q2332.74 1137.31 2335.79 1132.73 Q2338.87 1128.12 2344.68 1128.12 Z\" fill=\"#000000\" fill-rule=\"evenodd\" fill-opacity=\"1\" /><path clip-path=\"url(#clip7600)\" d=\"M 0 0 M2365.72 1159.37 L2382.04 1159.37 L2382.04 1163.31 L2360.1 1163.31 L2360.1 1159.37 Q2362.76 1156.62 2367.34 1151.99 Q2371.95 1147.33 2373.13 1145.99 Q2375.38 1143.47 2376.26 1141.73 Q2377.16 1139.97 2377.16 1138.28 Q2377.16 1135.53 2375.21 1133.79 Q2373.29 1132.06 2370.19 1132.06 Q2367.99 1132.06 2365.54 1132.82 Q2363.11 1133.58 2360.33 1135.13 L2360.33 1130.41 Q2363.15 1129.28 2365.61 1128.7 Q2368.06 1128.12 2370.1 1128.12 Q2375.47 1128.12 2378.66 1130.81 Q2381.86 1133.49 2381.86 1137.98 Q2381.86 1140.11 2381.05 1142.03 Q2380.26 1143.93 2378.15 1146.52 Q2377.57 1147.19 2374.47 1150.41 Q2371.37 1153.61 2365.72 1159.37 Z\" fill=\"#000000\" fill-rule=\"evenodd\" fill-opacity=\"1\" /><path clip-path=\"url(#clip7600)\" d=\"M 0 0 M2280.7 994.02 Q2277.09 994.02 2275.26 997.585 Q2273.45 1001.13 2273.45 1008.26 Q2273.45 1015.36 2275.26 1018.93 Q2277.09 1022.47 2280.7 1022.47 Q2284.33 1022.47 2286.14 1018.93 Q2287.97 1015.36 2287.97 1008.26 Q2287.97 1001.13 2286.14 997.585 Q2284.33 994.02 2280.7 994.02 M2280.7 990.316 Q2286.51 990.316 2289.57 994.923 Q2292.64 999.506 2292.64 1008.26 Q2292.64 1016.98 2289.57 1021.59 Q2286.51 1026.17 2280.7 1026.17 Q2274.89 1026.17 2271.81 1021.59 Q2268.76 1016.98 2268.76 1008.26 Q2268.76 999.506 2271.81 994.923 Q2274.89 990.316 2280.7 990.316 Z\" fill=\"#000000\" fill-rule=\"evenodd\" fill-opacity=\"1\" /><path clip-path=\"url(#clip7600)\" d=\"M 0 0 M2297.71 1019.62 L2302.6 1019.62 L2302.6 1025.5 L2297.71 1025.5 L2297.71 1019.62 Z\" fill=\"#000000\" fill-rule=\"evenodd\" fill-opacity=\"1\" /><path clip-path=\"url(#clip7600)\" d=\"M 0 0 M2317.67 994.02 Q2314.06 994.02 2312.23 997.585 Q2310.42 1001.13 2310.42 1008.26 Q2310.42 1015.36 2312.23 1018.93 Q2314.06 1022.47 2317.67 1022.47 Q2321.3 1022.47 2323.11 1018.93 Q2324.94 1015.36 2324.94 1008.26 Q2324.94 1001.13 2323.11 997.585 Q2321.3 994.02 2317.67 994.02 M2317.67 990.316 Q2323.48 990.316 2326.53 994.923 Q2329.61 999.506 2329.61 1008.26 Q2329.61 1016.98 2326.53 1021.59 Q2323.48 1026.17 2317.67 1026.17 Q2311.86 1026.17 2308.78 1021.59 Q2305.72 1016.98 2305.72 1008.26 Q2305.72 999.506 2308.78 994.923 Q2311.86 990.316 2317.67 990.316 Z\" fill=\"#000000\" fill-rule=\"evenodd\" fill-opacity=\"1\" /><path clip-path=\"url(#clip7600)\" d=\"M 0 0 M2344.68 994.02 Q2341.07 994.02 2339.24 997.585 Q2337.44 1001.13 2337.44 1008.26 Q2337.44 1015.36 2339.24 1018.93 Q2341.07 1022.47 2344.68 1022.47 Q2348.32 1022.47 2350.12 1018.93 Q2351.95 1015.36 2351.95 1008.26 Q2351.95 1001.13 2350.12 997.585 Q2348.32 994.02 2344.68 994.02 M2344.68 990.316 Q2350.49 990.316 2353.55 994.923 Q2356.63 999.506 2356.63 1008.26 Q2356.63 1016.98 2353.55 1021.59 Q2350.49 1026.17 2344.68 1026.17 Q2338.87 1026.17 2335.79 1021.59 Q2332.74 1016.98 2332.74 1008.26 Q2332.74 999.506 2335.79 994.923 Q2338.87 990.316 2344.68 990.316 Z\" fill=\"#000000\" fill-rule=\"evenodd\" fill-opacity=\"1\" /><path clip-path=\"url(#clip7600)\" d=\"M 0 0 M2375.86 1006.87 Q2379.22 1007.58 2381.09 1009.85 Q2382.99 1012.12 2382.99 1015.45 Q2382.99 1020.57 2379.47 1023.37 Q2375.95 1026.17 2369.47 1026.17 Q2367.3 1026.17 2364.98 1025.73 Q2362.69 1025.32 2360.24 1024.46 L2360.24 1019.95 Q2362.18 1021.08 2364.5 1021.66 Q2366.81 1022.24 2369.33 1022.24 Q2373.73 1022.24 2376.02 1020.5 Q2378.34 1018.77 2378.34 1015.45 Q2378.34 1012.4 2376.19 1010.69 Q2374.06 1008.95 2370.24 1008.95 L2366.21 1008.95 L2366.21 1005.11 L2370.42 1005.11 Q2373.87 1005.11 2375.7 1003.74 Q2377.53 1002.35 2377.53 999.761 Q2377.53 997.099 2375.63 995.686 Q2373.76 994.251 2370.24 994.251 Q2368.32 994.251 2366.12 994.668 Q2363.92 995.085 2361.28 995.964 L2361.28 991.798 Q2363.94 991.057 2366.26 990.687 Q2368.59 990.316 2370.65 990.316 Q2375.98 990.316 2379.08 992.747 Q2382.18 995.154 2382.18 999.274 Q2382.18 1002.14 2380.54 1004.14 Q2378.89 1006.1 2375.86 1006.87 Z\" fill=\"#000000\" fill-rule=\"evenodd\" fill-opacity=\"1\" /><path clip-path=\"url(#clip7600)\" d=\"M 0 0 M2280.7 856.215 Q2277.09 856.215 2275.26 859.78 Q2273.45 863.322 2273.45 870.451 Q2273.45 877.558 2275.26 881.122 Q2277.09 884.664 2280.7 884.664 Q2284.33 884.664 2286.14 881.122 Q2287.97 877.558 2287.97 870.451 Q2287.97 863.322 2286.14 859.78 Q2284.33 856.215 2280.7 856.215 M2280.7 852.512 Q2286.51 852.512 2289.57 857.118 Q2292.64 861.701 2292.64 870.451 Q2292.64 879.178 2289.57 883.784 Q2286.51 888.368 2280.7 888.368 Q2274.89 888.368 2271.81 883.784 Q2268.76 879.178 2268.76 870.451 Q2268.76 861.701 2271.81 857.118 Q2274.89 852.512 2280.7 852.512 Z\" fill=\"#000000\" fill-rule=\"evenodd\" fill-opacity=\"1\" /><path clip-path=\"url(#clip7600)\" d=\"M 0 0 M2297.71 881.817 L2302.6 881.817 L2302.6 887.697 L2297.71 887.697 L2297.71 881.817 Z\" fill=\"#000000\" fill-rule=\"evenodd\" fill-opacity=\"1\" /><path clip-path=\"url(#clip7600)\" d=\"M 0 0 M2317.67 856.215 Q2314.06 856.215 2312.23 859.78 Q2310.42 863.322 2310.42 870.451 Q2310.42 877.558 2312.23 881.122 Q2314.06 884.664 2317.67 884.664 Q2321.3 884.664 2323.11 881.122 Q2324.94 877.558 2324.94 870.451 Q2324.94 863.322 2323.11 859.78 Q2321.3 856.215 2317.67 856.215 M2317.67 852.512 Q2323.48 852.512 2326.53 857.118 Q2329.61 861.701 2329.61 870.451 Q2329.61 879.178 2326.53 883.784 Q2323.48 888.368 2317.67 888.368 Q2311.86 888.368 2308.78 883.784 Q2305.72 879.178 2305.72 870.451 Q2305.72 861.701 2308.78 857.118 Q2311.86 852.512 2317.67 852.512 Z\" fill=\"#000000\" fill-rule=\"evenodd\" fill-opacity=\"1\" /><path clip-path=\"url(#clip7600)\" d=\"M 0 0 M2344.68 856.215 Q2341.07 856.215 2339.24 859.78 Q2337.44 863.322 2337.44 870.451 Q2337.44 877.558 2339.24 881.122 Q2341.07 884.664 2344.68 884.664 Q2348.32 884.664 2350.12 881.122 Q2351.95 877.558 2351.95 870.451 Q2351.95 863.322 2350.12 859.78 Q2348.32 856.215 2344.68 856.215 M2344.68 852.512 Q2350.49 852.512 2353.55 857.118 Q2356.63 861.701 2356.63 870.451 Q2356.63 879.178 2353.55 883.784 Q2350.49 888.368 2344.68 888.368 Q2338.87 888.368 2335.79 883.784 Q2332.74 879.178 2332.74 870.451 Q2332.74 861.701 2335.79 857.118 Q2338.87 852.512 2344.68 852.512 Z\" fill=\"#000000\" fill-rule=\"evenodd\" fill-opacity=\"1\" /><path clip-path=\"url(#clip7600)\" d=\"M 0 0 M2374.54 857.211 L2362.74 875.66 L2374.54 875.66 L2374.54 857.211 M2373.32 853.137 L2379.2 853.137 L2379.2 875.66 L2384.13 875.66 L2384.13 879.548 L2379.2 879.548 L2379.2 887.697 L2374.54 887.697 L2374.54 879.548 L2358.94 879.548 L2358.94 875.035 L2373.32 853.137 Z\" fill=\"#000000\" fill-rule=\"evenodd\" fill-opacity=\"1\" /><path clip-path=\"url(#clip7600)\" d=\"M 0 0 M2280.7 718.411 Q2277.09 718.411 2275.26 721.975 Q2273.45 725.517 2273.45 732.647 Q2273.45 739.753 2275.26 743.318 Q2277.09 746.859 2280.7 746.859 Q2284.33 746.859 2286.14 743.318 Q2287.97 739.753 2287.97 732.647 Q2287.97 725.517 2286.14 721.975 Q2284.33 718.411 2280.7 718.411 M2280.7 714.707 Q2286.51 714.707 2289.57 719.313 Q2292.64 723.897 2292.64 732.647 Q2292.64 741.373 2289.57 745.98 Q2286.51 750.563 2280.7 750.563 Q2274.89 750.563 2271.81 745.98 Q2268.76 741.373 2268.76 732.647 Q2268.76 723.897 2271.81 719.313 Q2274.89 714.707 2280.7 714.707 Z\" fill=\"#000000\" fill-rule=\"evenodd\" fill-opacity=\"1\" /><path clip-path=\"url(#clip7600)\" d=\"M 0 0 M2297.71 744.012 L2302.6 744.012 L2302.6 749.892 L2297.71 749.892 L2297.71 744.012 Z\" fill=\"#000000\" fill-rule=\"evenodd\" fill-opacity=\"1\" /><path clip-path=\"url(#clip7600)\" d=\"M 0 0 M2317.67 718.411 Q2314.06 718.411 2312.23 721.975 Q2310.42 725.517 2310.42 732.647 Q2310.42 739.753 2312.23 743.318 Q2314.06 746.859 2317.67 746.859 Q2321.3 746.859 2323.11 743.318 Q2324.94 739.753 2324.94 732.647 Q2324.94 725.517 2323.11 721.975 Q2321.3 718.411 2317.67 718.411 M2317.67 714.707 Q2323.48 714.707 2326.53 719.313 Q2329.61 723.897 2329.61 732.647 Q2329.61 741.373 2326.53 745.98 Q2323.48 750.563 2317.67 750.563 Q2311.86 750.563 2308.78 745.98 Q2305.72 741.373 2305.72 732.647 Q2305.72 723.897 2308.78 719.313 Q2311.86 714.707 2317.67 714.707 Z\" fill=\"#000000\" fill-rule=\"evenodd\" fill-opacity=\"1\" /><path clip-path=\"url(#clip7600)\" d=\"M 0 0 M2344.68 718.411 Q2341.07 718.411 2339.24 721.975 Q2337.44 725.517 2337.44 732.647 Q2337.44 739.753 2339.24 743.318 Q2341.07 746.859 2344.68 746.859 Q2348.32 746.859 2350.12 743.318 Q2351.95 739.753 2351.95 732.647 Q2351.95 725.517 2350.12 721.975 Q2348.32 718.411 2344.68 718.411 M2344.68 714.707 Q2350.49 714.707 2353.55 719.313 Q2356.63 723.897 2356.63 732.647 Q2356.63 741.373 2353.55 745.98 Q2350.49 750.563 2344.68 750.563 Q2338.87 750.563 2335.79 745.98 Q2332.74 741.373 2332.74 732.647 Q2332.74 723.897 2335.79 719.313 Q2338.87 714.707 2344.68 714.707 Z\" fill=\"#000000\" fill-rule=\"evenodd\" fill-opacity=\"1\" /><path clip-path=\"url(#clip7600)\" d=\"M 0 0 M2361.74 715.332 L2380.1 715.332 L2380.1 719.267 L2366.02 719.267 L2366.02 727.739 Q2367.04 727.392 2368.06 727.23 Q2369.08 727.045 2370.1 727.045 Q2375.88 727.045 2379.26 730.216 Q2382.64 733.387 2382.64 738.804 Q2382.64 744.383 2379.17 747.484 Q2375.7 750.563 2369.38 750.563 Q2367.2 750.563 2364.94 750.193 Q2362.69 749.822 2360.28 749.082 L2360.28 744.383 Q2362.37 745.517 2364.59 746.072 Q2366.81 746.628 2369.29 746.628 Q2373.29 746.628 2375.63 744.522 Q2377.97 742.415 2377.97 738.804 Q2377.97 735.193 2375.63 733.086 Q2373.29 730.98 2369.29 730.98 Q2367.41 730.98 2365.54 731.397 Q2363.69 731.813 2361.74 732.693 L2361.74 715.332 Z\" fill=\"#000000\" fill-rule=\"evenodd\" fill-opacity=\"1\" /><path clip-path=\"url(#clip7600)\" d=\"M 0 0 M2280.7 580.606 Q2277.09 580.606 2275.26 584.171 Q2273.45 587.712 2273.45 594.842 Q2273.45 601.948 2275.26 605.513 Q2277.09 609.055 2280.7 609.055 Q2284.33 609.055 2286.14 605.513 Q2287.97 601.948 2287.97 594.842 Q2287.97 587.712 2286.14 584.171 Q2284.33 580.606 2280.7 580.606 M2280.7 576.902 Q2286.51 576.902 2289.57 581.509 Q2292.64 586.092 2292.64 594.842 Q2292.64 603.569 2289.57 608.175 Q2286.51 612.759 2280.7 612.759 Q2274.89 612.759 2271.81 608.175 Q2268.76 603.569 2268.76 594.842 Q2268.76 586.092 2271.81 581.509 Q2274.89 576.902 2280.7 576.902 Z\" fill=\"#000000\" fill-rule=\"evenodd\" fill-opacity=\"1\" /><path clip-path=\"url(#clip7600)\" d=\"M 0 0 M2297.71 606.208 L2302.6 606.208 L2302.6 612.087 L2297.71 612.087 L2297.71 606.208 Z\" fill=\"#000000\" fill-rule=\"evenodd\" fill-opacity=\"1\" /><path clip-path=\"url(#clip7600)\" d=\"M 0 0 M2317.67 580.606 Q2314.06 580.606 2312.23 584.171 Q2310.42 587.712 2310.42 594.842 Q2310.42 601.948 2312.23 605.513 Q2314.06 609.055 2317.67 609.055 Q2321.3 609.055 2323.11 605.513 Q2324.94 601.948 2324.94 594.842 Q2324.94 587.712 2323.11 584.171 Q2321.3 580.606 2317.67 580.606 M2317.67 576.902 Q2323.48 576.902 2326.53 581.509 Q2329.61 586.092 2329.61 594.842 Q2329.61 603.569 2326.53 608.175 Q2323.48 612.759 2317.67 612.759 Q2311.86 612.759 2308.78 608.175 Q2305.72 603.569 2305.72 594.842 Q2305.72 586.092 2308.78 581.509 Q2311.86 576.902 2317.67 576.902 Z\" fill=\"#000000\" fill-rule=\"evenodd\" fill-opacity=\"1\" /><path clip-path=\"url(#clip7600)\" d=\"M 0 0 M2344.68 580.606 Q2341.07 580.606 2339.24 584.171 Q2337.44 587.712 2337.44 594.842 Q2337.44 601.948 2339.24 605.513 Q2341.07 609.055 2344.68 609.055 Q2348.32 609.055 2350.12 605.513 Q2351.95 601.948 2351.95 594.842 Q2351.95 587.712 2350.12 584.171 Q2348.32 580.606 2344.68 580.606 M2344.68 576.902 Q2350.49 576.902 2353.55 581.509 Q2356.63 586.092 2356.63 594.842 Q2356.63 603.569 2353.55 608.175 Q2350.49 612.759 2344.68 612.759 Q2338.87 612.759 2335.79 608.175 Q2332.74 603.569 2332.74 594.842 Q2332.74 586.092 2335.79 581.509 Q2338.87 576.902 2344.68 576.902 Z\" fill=\"#000000\" fill-rule=\"evenodd\" fill-opacity=\"1\" /><path clip-path=\"url(#clip7600)\" d=\"M 0 0 M2372.27 592.944 Q2369.13 592.944 2367.27 595.097 Q2365.45 597.249 2365.45 600.999 Q2365.45 604.726 2367.27 606.902 Q2369.13 609.055 2372.27 609.055 Q2375.42 609.055 2377.25 606.902 Q2379.1 604.726 2379.1 600.999 Q2379.1 597.249 2377.25 595.097 Q2375.42 592.944 2372.27 592.944 M2381.56 578.291 L2381.56 582.55 Q2379.8 581.717 2377.99 581.277 Q2376.21 580.837 2374.45 580.837 Q2369.82 580.837 2367.37 583.962 Q2364.94 587.087 2364.59 593.407 Q2365.95 591.393 2368.01 590.328 Q2370.07 589.24 2372.55 589.24 Q2377.76 589.24 2380.77 592.411 Q2383.8 595.56 2383.8 600.999 Q2383.8 606.323 2380.65 609.541 Q2377.51 612.759 2372.27 612.759 Q2366.28 612.759 2363.11 608.175 Q2359.94 603.569 2359.94 594.842 Q2359.94 586.648 2363.82 581.786 Q2367.71 576.902 2374.26 576.902 Q2376.02 576.902 2377.81 577.249 Q2379.61 577.597 2381.56 578.291 Z\" fill=\"#000000\" fill-rule=\"evenodd\" fill-opacity=\"1\" /><path clip-path=\"url(#clip7600)\" d=\"M 0 0 M2280.7 442.801 Q2277.09 442.801 2275.26 446.366 Q2273.45 449.908 2273.45 457.037 Q2273.45 464.144 2275.26 467.709 Q2277.09 471.25 2280.7 471.25 Q2284.33 471.25 2286.14 467.709 Q2287.97 464.144 2287.97 457.037 Q2287.97 449.908 2286.14 446.366 Q2284.33 442.801 2280.7 442.801 M2280.7 439.098 Q2286.51 439.098 2289.57 443.704 Q2292.64 448.287 2292.64 457.037 Q2292.64 465.764 2289.57 470.371 Q2286.51 474.954 2280.7 474.954 Q2274.89 474.954 2271.81 470.371 Q2268.76 465.764 2268.76 457.037 Q2268.76 448.287 2271.81 443.704 Q2274.89 439.098 2280.7 439.098 Z\" fill=\"#000000\" fill-rule=\"evenodd\" fill-opacity=\"1\" /><path clip-path=\"url(#clip7600)\" d=\"M 0 0 M2297.71 468.403 L2302.6 468.403 L2302.6 474.283 L2297.71 474.283 L2297.71 468.403 Z\" fill=\"#000000\" fill-rule=\"evenodd\" fill-opacity=\"1\" /><path clip-path=\"url(#clip7600)\" d=\"M 0 0 M2317.67 442.801 Q2314.06 442.801 2312.23 446.366 Q2310.42 449.908 2310.42 457.037 Q2310.42 464.144 2312.23 467.709 Q2314.06 471.25 2317.67 471.25 Q2321.3 471.25 2323.11 467.709 Q2324.94 464.144 2324.94 457.037 Q2324.94 449.908 2323.11 446.366 Q2321.3 442.801 2317.67 442.801 M2317.67 439.098 Q2323.48 439.098 2326.53 443.704 Q2329.61 448.287 2329.61 457.037 Q2329.61 465.764 2326.53 470.371 Q2323.48 474.954 2317.67 474.954 Q2311.86 474.954 2308.78 470.371 Q2305.72 465.764 2305.72 457.037 Q2305.72 448.287 2308.78 443.704 Q2311.86 439.098 2317.67 439.098 Z\" fill=\"#000000\" fill-rule=\"evenodd\" fill-opacity=\"1\" /><path clip-path=\"url(#clip7600)\" d=\"M 0 0 M2344.68 442.801 Q2341.07 442.801 2339.24 446.366 Q2337.44 449.908 2337.44 457.037 Q2337.44 464.144 2339.24 467.709 Q2341.07 471.25 2344.68 471.25 Q2348.32 471.25 2350.12 467.709 Q2351.95 464.144 2351.95 457.037 Q2351.95 449.908 2350.12 446.366 Q2348.32 442.801 2344.68 442.801 M2344.68 439.098 Q2350.49 439.098 2353.55 443.704 Q2356.63 448.287 2356.63 457.037 Q2356.63 465.764 2353.55 470.371 Q2350.49 474.954 2344.68 474.954 Q2338.87 474.954 2335.79 470.371 Q2332.74 465.764 2332.74 457.037 Q2332.74 448.287 2335.79 443.704 Q2338.87 439.098 2344.68 439.098 Z\" fill=\"#000000\" fill-rule=\"evenodd\" fill-opacity=\"1\" /><path clip-path=\"url(#clip7600)\" d=\"M 0 0 M2360.51 439.723 L2382.74 439.723 L2382.74 441.713 L2370.19 474.283 L2365.31 474.283 L2377.11 443.658 L2360.51 443.658 L2360.51 439.723 Z\" fill=\"#000000\" fill-rule=\"evenodd\" fill-opacity=\"1\" /><path clip-path=\"url(#clip7600)\" d=\"M 0 0 M2280.7 304.997 Q2277.09 304.997 2275.26 308.561 Q2273.45 312.103 2273.45 319.233 Q2273.45 326.339 2275.26 329.904 Q2277.09 333.446 2280.7 333.446 Q2284.33 333.446 2286.14 329.904 Q2287.97 326.339 2287.97 319.233 Q2287.97 312.103 2286.14 308.561 Q2284.33 304.997 2280.7 304.997 M2280.7 301.293 Q2286.51 301.293 2289.57 305.899 Q2292.64 310.483 2292.64 319.233 Q2292.64 327.96 2289.57 332.566 Q2286.51 337.149 2280.7 337.149 Q2274.89 337.149 2271.81 332.566 Q2268.76 327.96 2268.76 319.233 Q2268.76 310.483 2271.81 305.899 Q2274.89 301.293 2280.7 301.293 Z\" fill=\"#000000\" fill-rule=\"evenodd\" fill-opacity=\"1\" /><path clip-path=\"url(#clip7600)\" d=\"M 0 0 M2297.71 330.598 L2302.6 330.598 L2302.6 336.478 L2297.71 336.478 L2297.71 330.598 Z\" fill=\"#000000\" fill-rule=\"evenodd\" fill-opacity=\"1\" /><path clip-path=\"url(#clip7600)\" d=\"M 0 0 M2317.67 304.997 Q2314.06 304.997 2312.23 308.561 Q2310.42 312.103 2310.42 319.233 Q2310.42 326.339 2312.23 329.904 Q2314.06 333.446 2317.67 333.446 Q2321.3 333.446 2323.11 329.904 Q2324.94 326.339 2324.94 319.233 Q2324.94 312.103 2323.11 308.561 Q2321.3 304.997 2317.67 304.997 M2317.67 301.293 Q2323.48 301.293 2326.53 305.899 Q2329.61 310.483 2329.61 319.233 Q2329.61 327.96 2326.53 332.566 Q2323.48 337.149 2317.67 337.149 Q2311.86 337.149 2308.78 332.566 Q2305.72 327.96 2305.72 319.233 Q2305.72 310.483 2308.78 305.899 Q2311.86 301.293 2317.67 301.293 Z\" fill=\"#000000\" fill-rule=\"evenodd\" fill-opacity=\"1\" /><path clip-path=\"url(#clip7600)\" d=\"M 0 0 M2344.68 304.997 Q2341.07 304.997 2339.24 308.561 Q2337.44 312.103 2337.44 319.233 Q2337.44 326.339 2339.24 329.904 Q2341.07 333.446 2344.68 333.446 Q2348.32 333.446 2350.12 329.904 Q2351.95 326.339 2351.95 319.233 Q2351.95 312.103 2350.12 308.561 Q2348.32 304.997 2344.68 304.997 M2344.68 301.293 Q2350.49 301.293 2353.55 305.899 Q2356.63 310.483 2356.63 319.233 Q2356.63 327.96 2353.55 332.566 Q2350.49 337.149 2344.68 337.149 Q2338.87 337.149 2335.79 332.566 Q2332.74 327.96 2332.74 319.233 Q2332.74 310.483 2335.79 305.899 Q2338.87 301.293 2344.68 301.293 Z\" fill=\"#000000\" fill-rule=\"evenodd\" fill-opacity=\"1\" /><path clip-path=\"url(#clip7600)\" d=\"M 0 0 M2371.7 320.066 Q2368.36 320.066 2366.44 321.848 Q2364.54 323.631 2364.54 326.756 Q2364.54 329.881 2366.44 331.663 Q2368.36 333.446 2371.7 333.446 Q2375.03 333.446 2376.95 331.663 Q2378.87 329.858 2378.87 326.756 Q2378.87 323.631 2376.95 321.848 Q2375.05 320.066 2371.7 320.066 M2367.02 318.075 Q2364.01 317.335 2362.32 315.274 Q2360.65 313.214 2360.65 310.251 Q2360.65 306.108 2363.59 303.7 Q2366.56 301.293 2371.7 301.293 Q2376.86 301.293 2379.8 303.7 Q2382.74 306.108 2382.74 310.251 Q2382.74 313.214 2381.05 315.274 Q2379.38 317.335 2376.39 318.075 Q2379.77 318.862 2381.65 321.154 Q2383.55 323.446 2383.55 326.756 Q2383.55 331.779 2380.47 334.464 Q2377.41 337.149 2371.7 337.149 Q2365.98 337.149 2362.9 334.464 Q2359.84 331.779 2359.84 326.756 Q2359.84 323.446 2361.74 321.154 Q2363.64 318.862 2367.02 318.075 M2365.31 310.691 Q2365.31 313.376 2366.97 314.881 Q2368.66 316.386 2371.7 316.386 Q2374.7 316.386 2376.39 314.881 Q2378.11 313.376 2378.11 310.691 Q2378.11 308.006 2376.39 306.501 Q2374.7 304.997 2371.7 304.997 Q2368.66 304.997 2366.97 306.501 Q2365.31 308.006 2365.31 310.691 Z\" fill=\"#000000\" fill-rule=\"evenodd\" fill-opacity=\"1\" /><path clip-path=\"url(#clip7600)\" d=\"M 0 0 M2280.7 167.192 Q2277.09 167.192 2275.26 170.757 Q2273.45 174.299 2273.45 181.428 Q2273.45 188.535 2275.26 192.099 Q2277.09 195.641 2280.7 195.641 Q2284.33 195.641 2286.14 192.099 Q2287.97 188.535 2287.97 181.428 Q2287.97 174.299 2286.14 170.757 Q2284.33 167.192 2280.7 167.192 M2280.7 163.488 Q2286.51 163.488 2289.57 168.095 Q2292.64 172.678 2292.64 181.428 Q2292.64 190.155 2289.57 194.761 Q2286.51 199.345 2280.7 199.345 Q2274.89 199.345 2271.81 194.761 Q2268.76 190.155 2268.76 181.428 Q2268.76 172.678 2271.81 168.095 Q2274.89 163.488 2280.7 163.488 Z\" fill=\"#000000\" fill-rule=\"evenodd\" fill-opacity=\"1\" /><path clip-path=\"url(#clip7600)\" d=\"M 0 0 M2297.71 192.794 L2302.6 192.794 L2302.6 198.673 L2297.71 198.673 L2297.71 192.794 Z\" fill=\"#000000\" fill-rule=\"evenodd\" fill-opacity=\"1\" /><path clip-path=\"url(#clip7600)\" d=\"M 0 0 M2317.67 167.192 Q2314.06 167.192 2312.23 170.757 Q2310.42 174.299 2310.42 181.428 Q2310.42 188.535 2312.23 192.099 Q2314.06 195.641 2317.67 195.641 Q2321.3 195.641 2323.11 192.099 Q2324.94 188.535 2324.94 181.428 Q2324.94 174.299 2323.11 170.757 Q2321.3 167.192 2317.67 167.192 M2317.67 163.488 Q2323.48 163.488 2326.53 168.095 Q2329.61 172.678 2329.61 181.428 Q2329.61 190.155 2326.53 194.761 Q2323.48 199.345 2317.67 199.345 Q2311.86 199.345 2308.78 194.761 Q2305.72 190.155 2305.72 181.428 Q2305.72 172.678 2308.78 168.095 Q2311.86 163.488 2317.67 163.488 Z\" fill=\"#000000\" fill-rule=\"evenodd\" fill-opacity=\"1\" /><path clip-path=\"url(#clip7600)\" d=\"M 0 0 M2344.68 167.192 Q2341.07 167.192 2339.24 170.757 Q2337.44 174.299 2337.44 181.428 Q2337.44 188.535 2339.24 192.099 Q2341.07 195.641 2344.68 195.641 Q2348.32 195.641 2350.12 192.099 Q2351.95 188.535 2351.95 181.428 Q2351.95 174.299 2350.12 170.757 Q2348.32 167.192 2344.68 167.192 M2344.68 163.488 Q2350.49 163.488 2353.55 168.095 Q2356.63 172.678 2356.63 181.428 Q2356.63 190.155 2353.55 194.761 Q2350.49 199.345 2344.68 199.345 Q2338.87 199.345 2335.79 194.761 Q2332.74 190.155 2332.74 181.428 Q2332.74 172.678 2335.79 168.095 Q2338.87 163.488 2344.68 163.488 Z\" fill=\"#000000\" fill-rule=\"evenodd\" fill-opacity=\"1\" /><path clip-path=\"url(#clip7600)\" d=\"M 0 0 M2361.83 197.956 L2361.83 193.697 Q2363.59 194.53 2365.4 194.97 Q2367.2 195.409 2368.94 195.409 Q2373.57 195.409 2376 192.308 Q2378.45 189.183 2378.8 182.84 Q2377.46 184.831 2375.4 185.896 Q2373.34 186.96 2370.84 186.96 Q2365.65 186.96 2362.62 183.835 Q2359.61 180.687 2359.61 175.248 Q2359.61 169.924 2362.76 166.706 Q2365.91 163.488 2371.14 163.488 Q2377.13 163.488 2380.28 168.095 Q2383.45 172.678 2383.45 181.428 Q2383.45 189.599 2379.57 194.484 Q2375.7 199.345 2369.15 199.345 Q2367.39 199.345 2365.58 198.997 Q2363.78 198.65 2361.83 197.956 M2371.14 183.303 Q2374.29 183.303 2376.12 181.15 Q2377.97 178.998 2377.97 175.248 Q2377.97 171.521 2376.12 169.368 Q2374.29 167.192 2371.14 167.192 Q2367.99 167.192 2366.14 169.368 Q2364.31 171.521 2364.31 175.248 Q2364.31 178.998 2366.14 181.15 Q2367.99 183.303 2371.14 183.303 Z\" fill=\"#000000\" fill-rule=\"evenodd\" fill-opacity=\"1\" /><polyline clip-path=\"url(#clip7600)\" style=\"stroke:#000000; stroke-width:4; stroke-opacity:1; fill:none\" points=\"\n",
       "  2232.76,1423.18 2232.76,1287.46 2256.76,1287.46 2232.76,1287.46 2232.76,1149.65 2256.76,1149.65 2232.76,1149.65 2232.76,1011.85 2256.76,1011.85 2232.76,1011.85 \n",
       "  2232.76,874.045 2256.76,874.045 2232.76,874.045 2232.76,736.241 2256.76,736.241 2232.76,736.241 2232.76,598.436 2256.76,598.436 2232.76,598.436 2232.76,460.631 \n",
       "  2256.76,460.631 2232.76,460.631 2232.76,322.827 2256.76,322.827 2232.76,322.827 2232.76,185.022 2256.76,185.022 2232.76,185.022 2232.76,47.2441 \n",
       "  \"/>\n",
       "</svg>\n"
      ]
     },
     "execution_count": 142,
     "metadata": {},
     "output_type": "execute_result"
    }
   ],
   "source": [
    "heatmap1_abs = heatmap(measures, odds, abs.(gains_grid), xaxis = :log, yaxis = :log, xlabel = \"measure\", ylabel = \"odds\")"
   ]
  },
  {
   "cell_type": "code",
   "execution_count": 143,
   "metadata": {},
   "outputs": [
    {
     "data": {
      "image/svg+xml": [
       "<?xml version=\"1.0\" encoding=\"utf-8\"?>\n",
       "<svg xmlns=\"http://www.w3.org/2000/svg\" xmlns:xlink=\"http://www.w3.org/1999/xlink\" width=\"600\" height=\"400\" viewBox=\"0 0 2400 1600\">\n",
       "<defs>\n",
       "  <clipPath id=\"clip8000\">\n",
       "    <rect x=\"0\" y=\"0\" width=\"2400\" height=\"1600\"/>\n",
       "  </clipPath>\n",
       "</defs>\n",
       "<path clip-path=\"url(#clip8000)\" d=\"\n",
       "M0 1600 L2400 1600 L2400 0 L0 0  Z\n",
       "  \" fill=\"#ffffff\" fill-rule=\"evenodd\" fill-opacity=\"1\"/>\n",
       "<defs>\n",
       "  <clipPath id=\"clip8001\">\n",
       "    <rect x=\"480\" y=\"0\" width=\"1681\" height=\"1600\"/>\n",
       "  </clipPath>\n",
       "</defs>\n",
       "<path clip-path=\"url(#clip8000)\" d=\"\n",
       "M209.862 1486.45 L2112.76 1486.45 L2112.76 47.2441 L209.862 47.2441  Z\n",
       "  \" fill=\"#ffffff\" fill-rule=\"evenodd\" fill-opacity=\"1\"/>\n",
       "<defs>\n",
       "  <clipPath id=\"clip8002\">\n",
       "    <rect x=\"209\" y=\"47\" width=\"1904\" height=\"1440\"/>\n",
       "  </clipPath>\n",
       "</defs>\n",
       "<polyline clip-path=\"url(#clip8002)\" style=\"stroke:#000000; stroke-width:2; stroke-opacity:0.1; fill:none\" points=\"\n",
       "  247.92,1486.45 247.92,47.2441 \n",
       "  \"/>\n",
       "<polyline clip-path=\"url(#clip8002)\" style=\"stroke:#000000; stroke-width:2; stroke-opacity:0.1; fill:none\" points=\"\n",
       "  552.383,1486.45 552.383,47.2441 \n",
       "  \"/>\n",
       "<polyline clip-path=\"url(#clip8002)\" style=\"stroke:#000000; stroke-width:2; stroke-opacity:0.1; fill:none\" points=\"\n",
       "  856.846,1486.45 856.846,47.2441 \n",
       "  \"/>\n",
       "<polyline clip-path=\"url(#clip8002)\" style=\"stroke:#000000; stroke-width:2; stroke-opacity:0.1; fill:none\" points=\"\n",
       "  1161.31,1486.45 1161.31,47.2441 \n",
       "  \"/>\n",
       "<polyline clip-path=\"url(#clip8002)\" style=\"stroke:#000000; stroke-width:2; stroke-opacity:0.1; fill:none\" points=\"\n",
       "  1465.77,1486.45 1465.77,47.2441 \n",
       "  \"/>\n",
       "<polyline clip-path=\"url(#clip8002)\" style=\"stroke:#000000; stroke-width:2; stroke-opacity:0.1; fill:none\" points=\"\n",
       "  1770.23,1486.45 1770.23,47.2441 \n",
       "  \"/>\n",
       "<polyline clip-path=\"url(#clip8002)\" style=\"stroke:#000000; stroke-width:2; stroke-opacity:0.1; fill:none\" points=\"\n",
       "  2074.7,1486.45 2074.7,47.2441 \n",
       "  \"/>\n",
       "<polyline clip-path=\"url(#clip8002)\" style=\"stroke:#000000; stroke-width:2; stroke-opacity:0.1; fill:none\" points=\"\n",
       "  209.862,1457.66 2112.76,1457.66 \n",
       "  \"/>\n",
       "<polyline clip-path=\"url(#clip8002)\" style=\"stroke:#000000; stroke-width:2; stroke-opacity:0.1; fill:none\" points=\"\n",
       "  209.862,1112.25 2112.76,1112.25 \n",
       "  \"/>\n",
       "<polyline clip-path=\"url(#clip8002)\" style=\"stroke:#000000; stroke-width:2; stroke-opacity:0.1; fill:none\" points=\"\n",
       "  209.862,766.846 2112.76,766.846 \n",
       "  \"/>\n",
       "<polyline clip-path=\"url(#clip8002)\" style=\"stroke:#000000; stroke-width:2; stroke-opacity:0.1; fill:none\" points=\"\n",
       "  209.862,421.437 2112.76,421.437 \n",
       "  \"/>\n",
       "<polyline clip-path=\"url(#clip8002)\" style=\"stroke:#000000; stroke-width:2; stroke-opacity:0.1; fill:none\" points=\"\n",
       "  209.862,76.0282 2112.76,76.0282 \n",
       "  \"/>\n",
       "<polyline clip-path=\"url(#clip8000)\" style=\"stroke:#000000; stroke-width:4; stroke-opacity:1; fill:none\" points=\"\n",
       "  209.862,1486.45 2112.76,1486.45 \n",
       "  \"/>\n",
       "<polyline clip-path=\"url(#clip8000)\" style=\"stroke:#000000; stroke-width:4; stroke-opacity:1; fill:none\" points=\"\n",
       "  209.862,1486.45 209.862,47.2441 \n",
       "  \"/>\n",
       "<polyline clip-path=\"url(#clip8000)\" style=\"stroke:#000000; stroke-width:4; stroke-opacity:1; fill:none\" points=\"\n",
       "  247.92,1486.45 247.92,1469.18 \n",
       "  \"/>\n",
       "<polyline clip-path=\"url(#clip8000)\" style=\"stroke:#000000; stroke-width:4; stroke-opacity:1; fill:none\" points=\"\n",
       "  552.383,1486.45 552.383,1469.18 \n",
       "  \"/>\n",
       "<polyline clip-path=\"url(#clip8000)\" style=\"stroke:#000000; stroke-width:4; stroke-opacity:1; fill:none\" points=\"\n",
       "  856.846,1486.45 856.846,1469.18 \n",
       "  \"/>\n",
       "<polyline clip-path=\"url(#clip8000)\" style=\"stroke:#000000; stroke-width:4; stroke-opacity:1; fill:none\" points=\"\n",
       "  1161.31,1486.45 1161.31,1469.18 \n",
       "  \"/>\n",
       "<polyline clip-path=\"url(#clip8000)\" style=\"stroke:#000000; stroke-width:4; stroke-opacity:1; fill:none\" points=\"\n",
       "  1465.77,1486.45 1465.77,1469.18 \n",
       "  \"/>\n",
       "<polyline clip-path=\"url(#clip8000)\" style=\"stroke:#000000; stroke-width:4; stroke-opacity:1; fill:none\" points=\"\n",
       "  1770.23,1486.45 1770.23,1469.18 \n",
       "  \"/>\n",
       "<polyline clip-path=\"url(#clip8000)\" style=\"stroke:#000000; stroke-width:4; stroke-opacity:1; fill:none\" points=\"\n",
       "  2074.7,1486.45 2074.7,1469.18 \n",
       "  \"/>\n",
       "<polyline clip-path=\"url(#clip8000)\" style=\"stroke:#000000; stroke-width:4; stroke-opacity:1; fill:none\" points=\"\n",
       "  209.862,1457.66 232.697,1457.66 \n",
       "  \"/>\n",
       "<polyline clip-path=\"url(#clip8000)\" style=\"stroke:#000000; stroke-width:4; stroke-opacity:1; fill:none\" points=\"\n",
       "  209.862,1112.25 232.697,1112.25 \n",
       "  \"/>\n",
       "<polyline clip-path=\"url(#clip8000)\" style=\"stroke:#000000; stroke-width:4; stroke-opacity:1; fill:none\" points=\"\n",
       "  209.862,766.846 232.697,766.846 \n",
       "  \"/>\n",
       "<polyline clip-path=\"url(#clip8000)\" style=\"stroke:#000000; stroke-width:4; stroke-opacity:1; fill:none\" points=\"\n",
       "  209.862,421.437 232.697,421.437 \n",
       "  \"/>\n",
       "<polyline clip-path=\"url(#clip8000)\" style=\"stroke:#000000; stroke-width:4; stroke-opacity:1; fill:none\" points=\"\n",
       "  209.862,76.0282 232.697,76.0282 \n",
       "  \"/>\n",
       "<path clip-path=\"url(#clip8000)\" d=\"M 0 0 M203.495 1557.52 L211.134 1557.52 L211.134 1531.15 L202.824 1532.82 L202.824 1528.56 L211.088 1526.9 L215.763 1526.9 L215.763 1557.52 L223.402 1557.52 L223.402 1561.46 L203.495 1561.46 L203.495 1557.52 Z\" fill=\"#000000\" fill-rule=\"evenodd\" fill-opacity=\"1\" /><path clip-path=\"url(#clip8000)\" d=\"M 0 0 M238.472 1529.97 Q234.861 1529.97 233.032 1533.54 Q231.226 1537.08 231.226 1544.21 Q231.226 1551.32 233.032 1554.88 Q234.861 1558.42 238.472 1558.42 Q242.106 1558.42 243.911 1554.88 Q245.74 1551.32 245.74 1544.21 Q245.74 1537.08 243.911 1533.54 Q242.106 1529.97 238.472 1529.97 M238.472 1526.27 Q244.282 1526.27 247.337 1530.88 Q250.416 1535.46 250.416 1544.21 Q250.416 1552.94 247.337 1557.54 Q244.282 1562.13 238.472 1562.13 Q232.662 1562.13 229.583 1557.54 Q226.527 1552.94 226.527 1544.21 Q226.527 1535.46 229.583 1530.88 Q232.662 1526.27 238.472 1526.27 Z\" fill=\"#000000\" fill-rule=\"evenodd\" fill-opacity=\"1\" /><path clip-path=\"url(#clip8000)\" d=\"M 0 0 M250.416 1521.95 L260.553 1521.95 L260.553 1525.04 L250.416 1525.04 L250.416 1521.95 Z\" fill=\"#000000\" fill-rule=\"evenodd\" fill-opacity=\"1\" /><path clip-path=\"url(#clip8000)\" d=\"M 0 0 M287.223 1518.9 Q289.95 1519.49 291.473 1521.33 Q293.016 1523.17 293.016 1525.88 Q293.016 1530.04 290.157 1532.31 Q287.298 1534.59 282.032 1534.59 Q280.264 1534.59 278.383 1534.23 Q276.521 1533.89 274.528 1533.2 L274.528 1529.53 Q276.108 1530.45 277.988 1530.92 Q279.869 1531.39 281.919 1531.39 Q285.493 1531.39 287.355 1529.98 Q289.235 1528.57 289.235 1525.88 Q289.235 1523.4 287.486 1522.01 Q285.756 1520.6 282.653 1520.6 L279.38 1520.6 L279.38 1517.48 L282.803 1517.48 Q285.605 1517.48 287.091 1516.37 Q288.577 1515.24 288.577 1513.13 Q288.577 1510.97 287.035 1509.82 Q285.511 1508.65 282.653 1508.65 Q281.092 1508.65 279.305 1508.99 Q277.518 1509.33 275.374 1510.05 L275.374 1506.66 Q277.537 1506.06 279.418 1505.76 Q281.317 1505.46 282.991 1505.46 Q287.317 1505.46 289.837 1507.43 Q292.357 1509.39 292.357 1512.74 Q292.357 1515.07 291.022 1516.69 Q289.687 1518.28 287.223 1518.9 Z\" fill=\"#000000\" fill-rule=\"evenodd\" fill-opacity=\"1\" /><path clip-path=\"url(#clip8000)\" d=\"M 0 0 M508.287 1557.52 L515.926 1557.52 L515.926 1531.15 L507.616 1532.82 L507.616 1528.56 L515.88 1526.9 L520.556 1526.9 L520.556 1557.52 L528.195 1557.52 L528.195 1561.46 L508.287 1561.46 L508.287 1557.52 Z\" fill=\"#000000\" fill-rule=\"evenodd\" fill-opacity=\"1\" /><path clip-path=\"url(#clip8000)\" d=\"M 0 0 M543.264 1529.97 Q539.653 1529.97 537.824 1533.54 Q536.019 1537.08 536.019 1544.21 Q536.019 1551.32 537.824 1554.88 Q539.653 1558.42 543.264 1558.42 Q546.898 1558.42 548.704 1554.88 Q550.532 1551.32 550.532 1544.21 Q550.532 1537.08 548.704 1533.54 Q546.898 1529.97 543.264 1529.97 M543.264 1526.27 Q549.074 1526.27 552.13 1530.88 Q555.208 1535.46 555.208 1544.21 Q555.208 1552.94 552.13 1557.54 Q549.074 1562.13 543.264 1562.13 Q537.454 1562.13 534.375 1557.54 Q531.32 1552.94 531.32 1544.21 Q531.32 1535.46 534.375 1530.88 Q537.454 1526.27 543.264 1526.27 Z\" fill=\"#000000\" fill-rule=\"evenodd\" fill-opacity=\"1\" /><path clip-path=\"url(#clip8000)\" d=\"M 0 0 M555.208 1521.95 L565.346 1521.95 L565.346 1525.04 L555.208 1525.04 L555.208 1521.95 Z\" fill=\"#000000\" fill-rule=\"evenodd\" fill-opacity=\"1\" /><path clip-path=\"url(#clip8000)\" d=\"M 0 0 M583.89 1530.85 L597.15 1530.85 L597.15 1534.04 L579.32 1534.04 L579.32 1530.85 Q581.483 1528.61 585.207 1524.85 Q588.949 1521.07 589.909 1519.98 Q591.733 1517.93 592.448 1516.52 Q593.181 1515.09 593.181 1513.71 Q593.181 1511.48 591.601 1510.06 Q590.04 1508.65 587.52 1508.65 Q585.733 1508.65 583.74 1509.27 Q581.765 1509.9 579.508 1511.16 L579.508 1507.32 Q581.802 1506.4 583.796 1505.93 Q585.79 1505.46 587.445 1505.46 Q591.808 1505.46 594.404 1507.64 Q596.999 1509.82 596.999 1513.47 Q596.999 1515.2 596.341 1516.76 Q595.701 1518.3 593.99 1520.41 Q593.52 1520.95 590.999 1523.57 Q588.479 1526.16 583.89 1530.85 Z\" fill=\"#000000\" fill-rule=\"evenodd\" fill-opacity=\"1\" /><path clip-path=\"url(#clip8000)\" d=\"M 0 0 M813.305 1557.52 L820.944 1557.52 L820.944 1531.15 L812.634 1532.82 L812.634 1528.56 L820.898 1526.9 L825.574 1526.9 L825.574 1557.52 L833.212 1557.52 L833.212 1561.46 L813.305 1561.46 L813.305 1557.52 Z\" fill=\"#000000\" fill-rule=\"evenodd\" fill-opacity=\"1\" /><path clip-path=\"url(#clip8000)\" d=\"M 0 0 M848.282 1529.97 Q844.671 1529.97 842.842 1533.54 Q841.036 1537.08 841.036 1544.21 Q841.036 1551.32 842.842 1554.88 Q844.671 1558.42 848.282 1558.42 Q851.916 1558.42 853.722 1554.88 Q855.55 1551.32 855.55 1544.21 Q855.55 1537.08 853.722 1533.54 Q851.916 1529.97 848.282 1529.97 M848.282 1526.27 Q854.092 1526.27 857.147 1530.88 Q860.226 1535.46 860.226 1544.21 Q860.226 1552.94 857.147 1557.54 Q854.092 1562.13 848.282 1562.13 Q842.472 1562.13 839.393 1557.54 Q836.337 1552.94 836.337 1544.21 Q836.337 1535.46 839.393 1530.88 Q842.472 1526.27 848.282 1526.27 Z\" fill=\"#000000\" fill-rule=\"evenodd\" fill-opacity=\"1\" /><path clip-path=\"url(#clip8000)\" d=\"M 0 0 M860.226 1521.95 L870.364 1521.95 L870.364 1525.04 L860.226 1525.04 L860.226 1521.95 Z\" fill=\"#000000\" fill-rule=\"evenodd\" fill-opacity=\"1\" /><path clip-path=\"url(#clip8000)\" d=\"M 0 0 M884.883 1530.85 L891.09 1530.85 L891.09 1509.43 L884.338 1510.78 L884.338 1507.32 L891.052 1505.96 L894.851 1505.96 L894.851 1530.85 L901.058 1530.85 L901.058 1534.04 L884.883 1534.04 L884.883 1530.85 Z\" fill=\"#000000\" fill-rule=\"evenodd\" fill-opacity=\"1\" /><path clip-path=\"url(#clip8000)\" d=\"M 0 0 M1128.48 1557.52 L1136.12 1557.52 L1136.12 1531.15 L1127.81 1532.82 L1127.81 1528.56 L1136.07 1526.9 L1140.75 1526.9 L1140.75 1557.52 L1148.39 1557.52 L1148.39 1561.46 L1128.48 1561.46 L1128.48 1557.52 Z\" fill=\"#000000\" fill-rule=\"evenodd\" fill-opacity=\"1\" /><path clip-path=\"url(#clip8000)\" d=\"M 0 0 M1163.46 1529.97 Q1159.84 1529.97 1158.02 1533.54 Q1156.21 1537.08 1156.21 1544.21 Q1156.21 1551.32 1158.02 1554.88 Q1159.84 1558.42 1163.46 1558.42 Q1167.09 1558.42 1168.9 1554.88 Q1170.72 1551.32 1170.72 1544.21 Q1170.72 1537.08 1168.9 1533.54 Q1167.09 1529.97 1163.46 1529.97 M1163.46 1526.27 Q1169.27 1526.27 1172.32 1530.88 Q1175.4 1535.46 1175.4 1544.21 Q1175.4 1552.94 1172.32 1557.54 Q1169.27 1562.13 1163.46 1562.13 Q1157.65 1562.13 1154.57 1557.54 Q1151.51 1552.94 1151.51 1544.21 Q1151.51 1535.46 1154.57 1530.88 Q1157.65 1526.27 1163.46 1526.27 Z\" fill=\"#000000\" fill-rule=\"evenodd\" fill-opacity=\"1\" /><path clip-path=\"url(#clip8000)\" d=\"M 0 0 M1185.11 1508.47 Q1182.17 1508.47 1180.69 1511.36 Q1179.22 1514.24 1179.22 1520.03 Q1179.22 1525.81 1180.69 1528.7 Q1182.17 1531.58 1185.11 1531.58 Q1188.06 1531.58 1189.52 1528.7 Q1191.01 1525.81 1191.01 1520.03 Q1191.01 1514.24 1189.52 1511.36 Q1188.06 1508.47 1185.11 1508.47 M1185.11 1505.46 Q1189.83 1505.46 1192.31 1509.2 Q1194.81 1512.92 1194.81 1520.03 Q1194.81 1527.12 1192.31 1530.87 Q1189.83 1534.59 1185.11 1534.59 Q1180.38 1534.59 1177.88 1530.87 Q1175.4 1527.12 1175.4 1520.03 Q1175.4 1512.92 1177.88 1509.2 Q1180.38 1505.46 1185.11 1505.46 Z\" fill=\"#000000\" fill-rule=\"evenodd\" fill-opacity=\"1\" /><path clip-path=\"url(#clip8000)\" d=\"M 0 0 M1434.29 1557.52 L1441.93 1557.52 L1441.93 1531.15 L1433.62 1532.82 L1433.62 1528.56 L1441.88 1526.9 L1446.56 1526.9 L1446.56 1557.52 L1454.19 1557.52 L1454.19 1561.46 L1434.29 1561.46 L1434.29 1557.52 Z\" fill=\"#000000\" fill-rule=\"evenodd\" fill-opacity=\"1\" /><path clip-path=\"url(#clip8000)\" d=\"M 0 0 M1469.26 1529.97 Q1465.65 1529.97 1463.82 1533.54 Q1462.02 1537.08 1462.02 1544.21 Q1462.02 1551.32 1463.82 1554.88 Q1465.65 1558.42 1469.26 1558.42 Q1472.9 1558.42 1474.7 1554.88 Q1476.53 1551.32 1476.53 1544.21 Q1476.53 1537.08 1474.7 1533.54 Q1472.9 1529.97 1469.26 1529.97 M1469.26 1526.27 Q1475.07 1526.27 1478.13 1530.88 Q1481.21 1535.46 1481.21 1544.21 Q1481.21 1552.94 1478.13 1557.54 Q1475.07 1562.13 1469.26 1562.13 Q1463.45 1562.13 1460.37 1557.54 Q1457.32 1552.94 1457.32 1544.21 Q1457.32 1535.46 1460.37 1530.88 Q1463.45 1526.27 1469.26 1526.27 Z\" fill=\"#000000\" fill-rule=\"evenodd\" fill-opacity=\"1\" /><path clip-path=\"url(#clip8000)\" d=\"M 0 0 M1481.75 1530.85 L1487.96 1530.85 L1487.96 1509.43 L1481.21 1510.78 L1481.21 1507.32 L1487.92 1505.96 L1491.72 1505.96 L1491.72 1530.85 L1497.93 1530.85 L1497.93 1534.04 L1481.75 1534.04 L1481.75 1530.85 Z\" fill=\"#000000\" fill-rule=\"evenodd\" fill-opacity=\"1\" /><path clip-path=\"url(#clip8000)\" d=\"M 0 0 M1738.2 1557.52 L1745.83 1557.52 L1745.83 1531.15 L1737.52 1532.82 L1737.52 1528.56 L1745.79 1526.9 L1750.46 1526.9 L1750.46 1557.52 L1758.1 1557.52 L1758.1 1561.46 L1738.2 1561.46 L1738.2 1557.52 Z\" fill=\"#000000\" fill-rule=\"evenodd\" fill-opacity=\"1\" /><path clip-path=\"url(#clip8000)\" d=\"M 0 0 M1773.17 1529.97 Q1769.56 1529.97 1767.73 1533.54 Q1765.93 1537.08 1765.93 1544.21 Q1765.93 1551.32 1767.73 1554.88 Q1769.56 1558.42 1773.17 1558.42 Q1776.81 1558.42 1778.61 1554.88 Q1780.44 1551.32 1780.44 1544.21 Q1780.44 1537.08 1778.61 1533.54 Q1776.81 1529.97 1773.17 1529.97 M1773.17 1526.27 Q1778.98 1526.27 1782.04 1530.88 Q1785.12 1535.46 1785.12 1544.21 Q1785.12 1552.94 1782.04 1557.54 Q1778.98 1562.13 1773.17 1562.13 Q1767.36 1562.13 1764.28 1557.54 Q1761.23 1552.94 1761.23 1544.21 Q1761.23 1535.46 1764.28 1530.88 Q1767.36 1526.27 1773.17 1526.27 Z\" fill=\"#000000\" fill-rule=\"evenodd\" fill-opacity=\"1\" /><path clip-path=\"url(#clip8000)\" d=\"M 0 0 M1789.69 1530.85 L1802.95 1530.85 L1802.95 1534.04 L1785.12 1534.04 L1785.12 1530.85 Q1787.28 1528.61 1791 1524.85 Q1794.75 1521.07 1795.71 1519.98 Q1797.53 1517.93 1798.24 1516.52 Q1798.98 1515.09 1798.98 1513.71 Q1798.98 1511.48 1797.4 1510.06 Q1795.84 1508.65 1793.32 1508.65 Q1791.53 1508.65 1789.54 1509.27 Q1787.56 1509.9 1785.3 1511.16 L1785.3 1507.32 Q1787.6 1506.4 1789.59 1505.93 Q1791.59 1505.46 1793.24 1505.46 Q1797.6 1505.46 1800.2 1507.64 Q1802.8 1509.82 1802.8 1513.47 Q1802.8 1515.2 1802.14 1516.76 Q1801.5 1518.3 1799.79 1520.41 Q1799.32 1520.95 1796.8 1523.57 Q1794.28 1526.16 1789.69 1530.85 Z\" fill=\"#000000\" fill-rule=\"evenodd\" fill-opacity=\"1\" /><path clip-path=\"url(#clip8000)\" d=\"M 0 0 M2042.33 1557.52 L2049.97 1557.52 L2049.97 1531.15 L2041.66 1532.82 L2041.66 1528.56 L2049.92 1526.9 L2054.6 1526.9 L2054.6 1557.52 L2062.24 1557.52 L2062.24 1561.46 L2042.33 1561.46 L2042.33 1557.52 Z\" fill=\"#000000\" fill-rule=\"evenodd\" fill-opacity=\"1\" /><path clip-path=\"url(#clip8000)\" d=\"M 0 0 M2077.31 1529.97 Q2073.69 1529.97 2071.87 1533.54 Q2070.06 1537.08 2070.06 1544.21 Q2070.06 1551.32 2071.87 1554.88 Q2073.69 1558.42 2077.31 1558.42 Q2080.94 1558.42 2082.75 1554.88 Q2084.57 1551.32 2084.57 1544.21 Q2084.57 1537.08 2082.75 1533.54 Q2080.94 1529.97 2077.31 1529.97 M2077.31 1526.27 Q2083.12 1526.27 2086.17 1530.88 Q2089.25 1535.46 2089.25 1544.21 Q2089.25 1552.94 2086.17 1557.54 Q2083.12 1562.13 2077.31 1562.13 Q2071.5 1562.13 2068.42 1557.54 Q2065.36 1552.94 2065.36 1544.21 Q2065.36 1535.46 2068.42 1530.88 Q2071.5 1526.27 2077.31 1526.27 Z\" fill=\"#000000\" fill-rule=\"evenodd\" fill-opacity=\"1\" /><path clip-path=\"url(#clip8000)\" d=\"M 0 0 M2101.95 1518.9 Q2104.67 1519.49 2106.2 1521.33 Q2107.74 1523.17 2107.74 1525.88 Q2107.74 1530.04 2104.88 1532.31 Q2102.02 1534.59 2096.75 1534.59 Q2094.99 1534.59 2093.11 1534.23 Q2091.24 1533.89 2089.25 1533.2 L2089.25 1529.53 Q2090.83 1530.45 2092.71 1530.92 Q2094.59 1531.39 2096.64 1531.39 Q2100.22 1531.39 2102.08 1529.98 Q2103.96 1528.57 2103.96 1525.88 Q2103.96 1523.4 2102.21 1522.01 Q2100.48 1520.6 2097.38 1520.6 L2094.1 1520.6 L2094.1 1517.48 L2097.53 1517.48 Q2100.33 1517.48 2101.81 1516.37 Q2103.3 1515.24 2103.3 1513.13 Q2103.3 1510.97 2101.76 1509.82 Q2100.23 1508.65 2097.38 1508.65 Q2095.81 1508.65 2094.03 1508.99 Q2092.24 1509.33 2090.1 1510.05 L2090.1 1506.66 Q2092.26 1506.06 2094.14 1505.76 Q2096.04 1505.46 2097.71 1505.46 Q2102.04 1505.46 2104.56 1507.43 Q2107.08 1509.39 2107.08 1512.74 Q2107.08 1515.07 2105.74 1516.69 Q2104.41 1518.28 2101.95 1518.9 Z\" fill=\"#000000\" fill-rule=\"evenodd\" fill-opacity=\"1\" /><path clip-path=\"url(#clip8000)\" d=\"M 0 0 M96.9995 1477.46 L104.638 1477.46 L104.638 1451.09 L96.3282 1452.76 L96.3282 1448.5 L104.592 1446.83 L109.268 1446.83 L109.268 1477.46 L116.907 1477.46 L116.907 1481.39 L96.9995 1481.39 L96.9995 1477.46 Z\" fill=\"#000000\" fill-rule=\"evenodd\" fill-opacity=\"1\" /><path clip-path=\"url(#clip8000)\" d=\"M 0 0 M131.976 1449.91 Q128.365 1449.91 126.536 1453.47 Q124.731 1457.02 124.731 1464.15 Q124.731 1471.25 126.536 1474.82 Q128.365 1478.36 131.976 1478.36 Q135.61 1478.36 137.416 1474.82 Q139.245 1471.25 139.245 1464.15 Q139.245 1457.02 137.416 1453.47 Q135.61 1449.91 131.976 1449.91 M131.976 1446.21 Q137.786 1446.21 140.842 1450.81 Q143.921 1455.4 143.921 1464.15 Q143.921 1472.87 140.842 1477.48 Q137.786 1482.06 131.976 1482.06 Q126.166 1482.06 123.087 1477.48 Q120.032 1472.87 120.032 1464.15 Q120.032 1455.4 123.087 1450.81 Q126.166 1446.21 131.976 1446.21 Z\" fill=\"#000000\" fill-rule=\"evenodd\" fill-opacity=\"1\" /><path clip-path=\"url(#clip8000)\" d=\"M 0 0 M143.921 1441.89 L154.058 1441.89 L154.058 1444.97 L143.921 1444.97 L143.921 1441.89 Z\" fill=\"#000000\" fill-rule=\"evenodd\" fill-opacity=\"1\" /><path clip-path=\"url(#clip8000)\" d=\"M 0 0 M172.602 1450.78 L185.862 1450.78 L185.862 1453.98 L168.032 1453.98 L168.032 1450.78 Q170.195 1448.55 173.919 1444.78 Q177.662 1441 178.621 1439.91 Q180.445 1437.86 181.16 1436.45 Q181.893 1435.02 181.893 1433.65 Q181.893 1431.41 180.314 1430 Q178.753 1428.59 176.232 1428.59 Q174.446 1428.59 172.452 1429.21 Q170.477 1429.83 168.22 1431.09 L168.22 1427.26 Q170.515 1426.33 172.508 1425.86 Q174.502 1425.39 176.157 1425.39 Q180.52 1425.39 183.116 1427.57 Q185.711 1429.76 185.711 1433.41 Q185.711 1435.14 185.053 1436.7 Q184.414 1438.24 182.702 1440.35 Q182.232 1440.89 179.712 1443.51 Q177.191 1446.1 172.602 1450.78 Z\" fill=\"#000000\" fill-rule=\"evenodd\" fill-opacity=\"1\" /><path clip-path=\"url(#clip8000)\" d=\"M 0 0 M98.1091 1132.05 L105.748 1132.05 L105.748 1105.68 L97.4378 1107.35 L97.4378 1103.09 L105.702 1101.42 L110.378 1101.42 L110.378 1132.05 L118.016 1132.05 L118.016 1135.98 L98.1091 1135.98 L98.1091 1132.05 Z\" fill=\"#000000\" fill-rule=\"evenodd\" fill-opacity=\"1\" /><path clip-path=\"url(#clip8000)\" d=\"M 0 0 M133.086 1104.5 Q129.475 1104.5 127.646 1108.07 Q125.84 1111.61 125.84 1118.74 Q125.84 1125.84 127.646 1129.41 Q129.475 1132.95 133.086 1132.95 Q136.72 1132.95 138.526 1129.41 Q140.354 1125.84 140.354 1118.74 Q140.354 1111.61 138.526 1108.07 Q136.72 1104.5 133.086 1104.5 M133.086 1100.8 Q138.896 1100.8 141.951 1105.4 Q145.03 1109.99 145.03 1118.74 Q145.03 1127.46 141.951 1132.07 Q138.896 1136.65 133.086 1136.65 Q127.276 1136.65 124.197 1132.07 Q121.141 1127.46 121.141 1118.74 Q121.141 1109.99 124.197 1105.4 Q127.276 1100.8 133.086 1100.8 Z\" fill=\"#000000\" fill-rule=\"evenodd\" fill-opacity=\"1\" /><path clip-path=\"url(#clip8000)\" d=\"M 0 0 M145.03 1096.48 L155.168 1096.48 L155.168 1099.56 L145.03 1099.56 L145.03 1096.48 Z\" fill=\"#000000\" fill-rule=\"evenodd\" fill-opacity=\"1\" /><path clip-path=\"url(#clip8000)\" d=\"M 0 0 M169.687 1105.37 L175.894 1105.37 L175.894 1083.95 L169.142 1085.31 L169.142 1081.85 L175.856 1080.49 L179.655 1080.49 L179.655 1105.37 L185.862 1105.37 L185.862 1108.57 L169.687 1108.57 L169.687 1105.37 Z\" fill=\"#000000\" fill-rule=\"evenodd\" fill-opacity=\"1\" /><path clip-path=\"url(#clip8000)\" d=\"M 0 0 M119.531 786.638 L127.17 786.638 L127.17 760.273 L118.86 761.939 L118.86 757.68 L127.124 756.014 L131.8 756.014 L131.8 786.638 L139.438 786.638 L139.438 790.574 L119.531 790.574 L119.531 786.638 Z\" fill=\"#000000\" fill-rule=\"evenodd\" fill-opacity=\"1\" /><path clip-path=\"url(#clip8000)\" d=\"M 0 0 M154.508 759.092 Q150.897 759.092 149.068 762.657 Q147.263 766.199 147.263 773.328 Q147.263 780.435 149.068 784 Q150.897 787.541 154.508 787.541 Q158.142 787.541 159.948 784 Q161.776 780.435 161.776 773.328 Q161.776 766.199 159.948 762.657 Q158.142 759.092 154.508 759.092 M154.508 755.389 Q160.318 755.389 163.374 759.995 Q166.452 764.578 166.452 773.328 Q166.452 782.055 163.374 786.662 Q160.318 791.245 154.508 791.245 Q148.698 791.245 145.619 786.662 Q142.563 782.055 142.563 773.328 Q142.563 764.578 145.619 759.995 Q148.698 755.389 154.508 755.389 Z\" fill=\"#000000\" fill-rule=\"evenodd\" fill-opacity=\"1\" /><path clip-path=\"url(#clip8000)\" d=\"M 0 0 M176.157 737.585 Q173.223 737.585 171.737 740.481 Q170.27 743.359 170.27 749.151 Q170.27 754.925 171.737 757.822 Q173.223 760.699 176.157 760.699 Q179.11 760.699 180.577 757.822 Q182.063 754.925 182.063 749.151 Q182.063 743.359 180.577 740.481 Q179.11 737.585 176.157 737.585 M176.157 734.575 Q180.878 734.575 183.36 738.318 Q185.862 742.042 185.862 749.151 Q185.862 756.242 183.36 759.985 Q180.878 763.709 176.157 763.709 Q171.436 763.709 168.935 759.985 Q166.452 756.242 166.452 749.151 Q166.452 742.042 168.935 738.318 Q171.436 734.575 176.157 734.575 Z\" fill=\"#000000\" fill-rule=\"evenodd\" fill-opacity=\"1\" /><path clip-path=\"url(#clip8000)\" d=\"M 0 0 M122.221 441.23 L129.86 441.23 L129.86 414.864 L121.549 416.531 L121.549 412.271 L129.813 410.605 L134.489 410.605 L134.489 441.23 L142.128 441.23 L142.128 445.165 L122.221 445.165 L122.221 441.23 Z\" fill=\"#000000\" fill-rule=\"evenodd\" fill-opacity=\"1\" /><path clip-path=\"url(#clip8000)\" d=\"M 0 0 M157.197 413.683 Q153.586 413.683 151.758 417.248 Q149.952 420.79 149.952 427.919 Q149.952 435.026 151.758 438.591 Q153.586 442.132 157.197 442.132 Q160.832 442.132 162.637 438.591 Q164.466 435.026 164.466 427.919 Q164.466 420.79 162.637 417.248 Q160.832 413.683 157.197 413.683 M157.197 409.98 Q163.008 409.98 166.063 414.586 Q169.142 419.169 169.142 427.919 Q169.142 436.646 166.063 441.253 Q163.008 445.836 157.197 445.836 Q151.387 445.836 148.309 441.253 Q145.253 436.646 145.253 427.919 Q145.253 419.169 148.309 414.586 Q151.387 409.98 157.197 409.98 Z\" fill=\"#000000\" fill-rule=\"evenodd\" fill-opacity=\"1\" /><path clip-path=\"url(#clip8000)\" d=\"M 0 0 M169.687 414.557 L175.894 414.557 L175.894 393.135 L169.142 394.489 L169.142 391.028 L175.856 389.674 L179.655 389.674 L179.655 414.557 L185.862 414.557 L185.862 417.754 L169.687 417.754 L169.687 414.557 Z\" fill=\"#000000\" fill-rule=\"evenodd\" fill-opacity=\"1\" /><path clip-path=\"url(#clip8000)\" d=\"M 0 0 M121.111 95.8206 L128.75 95.8206 L128.75 69.455 L120.44 71.1217 L120.44 66.8624 L128.704 65.1958 L133.379 65.1958 L133.379 95.8206 L141.018 95.8206 L141.018 99.7558 L121.111 99.7558 L121.111 95.8206 Z\" fill=\"#000000\" fill-rule=\"evenodd\" fill-opacity=\"1\" /><path clip-path=\"url(#clip8000)\" d=\"M 0 0 M156.088 68.2745 Q152.477 68.2745 150.648 71.8393 Q148.842 75.3809 148.842 82.5105 Q148.842 89.6169 150.648 93.1817 Q152.477 96.7234 156.088 96.7234 Q159.722 96.7234 161.527 93.1817 Q163.356 89.6169 163.356 82.5105 Q163.356 75.3809 161.527 71.8393 Q159.722 68.2745 156.088 68.2745 M156.088 64.5708 Q161.898 64.5708 164.953 69.1772 Q168.032 73.7605 168.032 82.5105 Q168.032 91.2373 164.953 95.8438 Q161.898 100.427 156.088 100.427 Q150.278 100.427 147.199 95.8438 Q144.143 91.2373 144.143 82.5105 Q144.143 73.7605 147.199 69.1772 Q150.278 64.5708 156.088 64.5708 Z\" fill=\"#000000\" fill-rule=\"evenodd\" fill-opacity=\"1\" /><path clip-path=\"url(#clip8000)\" d=\"M 0 0 M172.602 69.148 L185.862 69.148 L185.862 72.3454 L168.032 72.3454 L168.032 69.148 Q170.195 66.9099 173.919 63.1484 Q177.662 59.368 178.621 58.2772 Q180.445 56.2271 181.16 54.8165 Q181.893 53.3871 181.893 52.0142 Q181.893 49.776 180.314 48.3655 Q178.753 46.9549 176.232 46.9549 Q174.446 46.9549 172.452 47.5755 Q170.477 48.1962 168.22 49.4563 L168.22 45.6195 Q170.515 44.6979 172.508 44.2278 Q174.502 43.7576 176.157 43.7576 Q180.52 43.7576 183.116 45.9393 Q185.711 48.121 185.711 51.7697 Q185.711 53.5 185.053 55.061 Q184.414 56.6033 182.702 58.7097 Q182.232 59.2552 179.712 61.8694 Q177.191 64.4649 172.602 69.148 Z\" fill=\"#000000\" fill-rule=\"evenodd\" fill-opacity=\"1\" /><g clip-path=\"url(#clip8002)\">\n",
       "<image width=\"1903\" height=\"1439\" xlink:href=\"data:image/png;base64,\n",
       "iVBORw0KGgoAAAANSUhEUgAAB28AAAWfCAYAAACMVL1dAAAgAElEQVR4nOzbsUlGMRiG0RsJWmhh\n",
       "aW0l4gJu86/pIo7jtRXsRMkTOWeCl1SBh28cxzwPAAAA4E+MY6yeAN+Nq9ULssbhbb4aY66esJ0x\n",
       "rldP2MrNvF89YRt382H1hK08nk+rJ2zl9f529YStXF7eV0/YyvPbZfWErfiNAgAAAAAAAASItwAA\n",
       "AAAAAAAB4i0AAAAAAABAgHgLAAAAAAAAECDeAgAAAAAAAASItwAAAAAAAAAB4i0AAAAAAABAgHgL\n",
       "AAAAAAAAECDeAgAAAAAAAASItwAAAAAAAAAB4i0AAAAAAABAgHgLAAAAAAAAECDeAgAAAAAAAASI\n",
       "twAAAAAAAAAB4i0AAAAAAABAgHgLAAAAAAAAECDeAgAAAAAAAASItwAAAAAAAAAB4i0AAAAAAABA\n",
       "gHgLAAAAAAAAECDeAgAAAAAAAASItwAAAAAAAAAB4i0AAAAAAABAgHgLAAAAAAAAECDeAgAAAAAA\n",
       "AASItwAAAAAAAAAB4i0AAAAAAABAgHgLAAAAAAAAECDeAgAAAAAAAASItwAAAAAAAAAB4i0AAAAA\n",
       "AABAgHgLAAAAAAAAECDeAgAAAAAAAASItwAAAAAAAAAB4i0AAAAAAABAgHgLAAAAAAAAECDeAgAA\n",
       "AAAAAASItwAAAAAAAAAB4i0AAAAAAABAgHgLAAAAAAAAECDeAgAAAAAAAASItwAAAAAAAAAB4i0A\n",
       "AAAAAABAgHgLAAAAAAAAECDeAgAAAAAAAASItwAAAAAAAAAB4i0AAAAAAABAgHgLAAAAAAAAECDe\n",
       "AgAAAAAAAASItwAAAAAAAAAB4i0AAAAAAABAgHgLAAAAAAAAECDeAgAAAAAAAASItwAAAAAAAAAB\n",
       "4i0AAAAAAABAgHgLAAAAAAAAECDeAgAAAAAAAASItwAAAAAAAAAB4i0AAAAAAABAgHgLAAAAAAAA\n",
       "ECDeAgAAAAAAAASItwAAAAAAAAAB4i0AAAAAAABAgHgLAAAAAAAAECDeAgAAAAAAAASItwAAAAAA\n",
       "AAAB4i0AAAAAAABAgHgLAAAAAAAAECDeAgAAAAAAAASItwAAAAAAAAAB4i0AAAAAAABAgHgLAAAA\n",
       "AAAAECDeAgAAAAAAAASItwAAAAAAAAAB4i0AAAAAAABAgHgLAAAAAAAAECDeAgAAAAAAAASItwAA\n",
       "AAAAAAAB4i0AAAAAAABAgHgLAAAAAAAAECDeAgAAAAAAAASItwAAAAAAAAAB4i0AAAAAAABAgHgL\n",
       "AAAAAAAAECDeAgAAAAAAAASItwAAAAAAAAAB4i0AAAAAAABAgHgLAAAAAAAAECDeAgAAAAAAAASI\n",
       "twAAAAAAAAAB4i0AAAAAAABAgHgLAAAAAAAAECDeAgAAAAAAAASItwAAAAAAAAAB4i0AAAAAAABA\n",
       "gHgLAAAAAAAAECDeAgAAAAAAAASItwAAAAAAAAAB4i0AAAAAAABAgHgLAAAAAAAAECDeAgAAAAAA\n",
       "AASItwAAAAAAAAAB4i0AAAAAAABAgHgLAAAAAAAAECDeAgAAAAAAAASItwAAAAAAAAAB4i0AAAAA\n",
       "AABAgHgLAAAAAAAAECDeAgAAAAAAAASItwAAAAAAAAAB4i0AAAAAAABAgHgLAAAAAAAAECDeAgAA\n",
       "AAAAAASItwAAAAAAAAAB4i0AAAAAAABAgHgLAAAAAAAAECDeAgAAAAAAAASItwAAAAAAAAAB4i0A\n",
       "AAAAAABAgHgLAAAAAAAAECDeAgAAAAAAAASItwAAAAAAAAAB4i0AAAAAAABAgHgLAAAAAAAAECDe\n",
       "AgAAAAAAAASItwAAAAAAAAAB4i0AAAAAAABAgHgLAAAAAAAAECDeAgAAAAAAAASItwAAAAAAAAAB\n",
       "4i0AAAAAAABAgHgLAAAAAAAAECDeAgAAAAAAAASItwAAAAAAAAAB4i0AAAAAAABAgHgLAAAAAAAA\n",
       "ECDeAgAAAAAAAASItwAAAAAAAAAB4i0AAAAAAABAgHgLAAAAAAAAECDeAgAAAAAAAASItwAAAAAA\n",
       "AAAB4i0AAAAAAABAgHgLAAAAAAAAECDeAgAAAAAAAASItwAAAAAAAAAB4i0AAAAAAABAgHgLAAAA\n",
       "AAAAECDeAgAAAAAAAASItwAAAAAAAAAB4i0AAAAAAABAgHgLAAAAAAAAECDeAgAAAAAAAASItwAA\n",
       "AAAAAAAB4i0AAAAAAABAgHgLAAAAAAAAECDeAgAAAAAAAASItwAAAAAAAAAB4i0AAAAAAABAgHgL\n",
       "AAAAAAAAECDeAgAAAAAAAASItwAAAAAAAAAB4i0AAAAAAABAgHgLAAAAAAAAECDeAgAAAAAAAASI\n",
       "twAAAAAAAAAB4i0AAAAAAABAgHgLAAAAAAAAECDeAgAAAAAAAASItwAAAAAAAAAB4i0AAAAAAABA\n",
       "gHgLAAAAAAAAEDBXDwAAAAAAAIBdfJxj9QT+MZe3AAAAAAAAAAHiLQAAAAAAAECAeAsAAAAAAAAQ\n",
       "IN4CAAAAAAAABIi3AAAAAAAAAAHiLQAAAAAAAECAeAsAAAAAAAAQIN4CAAAAAAAABIi3AAAAAAAA\n",
       "AAHiLQAAAAAAAECAeAsAAAAAAAAQIN4CAAAAAAAABIi3AAAAAAAAAAHiLQAAAAAAAECAeAsAAAAA\n",
       "AAAQIN4CAAAAAAAABIi3AAAAAAAAAAHiLQAAAAAAAECAeAsAAAAAAAAQIN4CAAAAAAAABIi3AAAA\n",
       "AAAAAAHiLQAAAAAAAECAeAsAAAAAAAAQIN4CAAAAAAAABIi3AAAAAAAAAAHiLQAAAAAAAECAeAsA\n",
       "AAAAAAAQIN4CAAAAAAAABIi3AAAAAAAAAAHiLQAAAAAAAECAeAsAAAAAAAAQIN4CAAAAAAAABIi3\n",
       "AAAAAAAAAAHiLQAAAAAAAECAeAsAAAAAAAAQIN4CAAAAAAAABIi3AAAAAAAAAAHiLQAAAAAAAECA\n",
       "eAsAAAAAAAAQIN4CAAAAAAAABIi3AAAAAAAAAAHiLQAAAAAAAECAeAsAAAAAAAAQIN4CAAAAAAAA\n",
       "BIi3AAAAAAAAAAHiLQAAAAAAAECAeAsAAAAAAAAQIN4CAAAAAAAABIi3AAAAAAAAAAHiLQAAAAAA\n",
       "AECAeAsAAAAAAAAQIN4CAAAAAAAABIi3AAAAAAAAAAHiLQAAAAAAAECAeAsAAAAAAAAQIN4CAAAA\n",
       "AAAABIi3AAAAAAAAAAHiLQAAAAAAAECAeAsAAAAAAAAQIN4CAAAAAAAABIi3AAAAAAAAAAHiLQAA\n",
       "AAAAAECAeAsAAAAAAAAQIN4CAAAAAAAABIi3AAAAAAAAAAHiLQAAAAAAAECAeAsAAAAAAAAQIN4C\n",
       "AAAAAAAABIi3AAAAAAAAAAHiLQAAAAAAAECAeAsAAAAAAAAQIN4CAAAAAAAABIi3AAAAAAAAAAHi\n",
       "LQAAAAAAAECAeAsAAAAAAAAQIN4CAAAAAAAABIi3AAAAAAAAAAHiLQAAAAAAAECAeAsAAAAAAAAQ\n",
       "IN4CAAAAAAAABIi3AAAAAAAAAAHiLQAAAAAAAECAeAsAAAAAAAAQIN4CAAAAAAAABIi3AAAAAAAA\n",
       "AAHiLQAAAAAAAECAeAsAAAAAAAAQIN4CAAAAAAAABIi3AAAAAAAAAAHiLQAAAAAAAECAeAsAAAAA\n",
       "AAAQIN4CAAAAAAAABIi3AAAAAAAAAAHiLQAAAAAAAECAeAsAAAAAAAAQIN4CAAAAAAAABIi3AAAA\n",
       "AAAAAAHiLQAAAAAAAECAeAsAAAAAAAAQIN4CAAAAAAAABIi3AAAAAAAAAAHiLQAAAAAAAECAeAsA\n",
       "AAAAAAAQIN4CAAAAAAAABIi3AAAAAAAAAAHiLQAAAAAAAECAeAsAAAAAAAAQIN4CAAAAAAAABIi3\n",
       "AAAAAAAAAAHiLQAAAAAAAECAeAsAAAAAAAAQIN4CAAAAAAAABIi3AAAAAAAAAAHiLQAAAAAAAECA\n",
       "eAsAAAAAAAAQIN4CAAAAAAAABIi3AAAAAAAAAAHiLQAAAAAAAECAeAsAAAAAAAAQIN4CAAAAAAAA\n",
       "BIi3AAAAAAAAAAHiLQAAAAAAAECAeAsAAAAAAAAQIN4CAAAAAAAABIi3AAAAAAAAAAHiLQAAAAAA\n",
       "AECAeAsAAAAAAAAQIN4CAAAAAAAABIi3AAAAAAAAAAHiLQAAAAAAAECAeAsAAAAAAAAQIN4CAAAA\n",
       "AAAABIi3AAAAAAAAAAHiLQAAAAAAAECAeAsAAAAAAAAQIN4CAAAAAAAABIi3AAAAAAAAAAHiLQAA\n",
       "AAAAAECAeAsAAAAAAAAQIN4CAAAAAAAABIi3AAAAAAAAAAHiLQAAAAAAAECAeAsAAAAAAAAQIN4C\n",
       "AAAAAAAABIi3AAAAAAAAAAHiLQAAAAAAAECAeAsAAAAAAAAQIN4CAAAAAAAABIi3AAAAAAAAAAHi\n",
       "LQAAAAAAAECAeAsAAAAAAAAQIN4CAAAAAAAABIi3AAAAAAAAAAHiLQAAAAAAAECAeAsAAAAAAAAQ\n",
       "IN4CAAAAAAAABIi3AAAAAAAAAAHiLQAAAAAAAECAeAsAAAAAAAAQIN4CAAAAAAAABIi3AAAAAAAA\n",
       "AAHiLQAAAAAAAECAeAsAAAAAAAAQIN4CAAAAAAAABIi3AAAAAAAAAAHiLQAAAAAAAECAeAsAAAAA\n",
       "AAAQIN4CAAAAAAAABIi3AAAAAAAAAAHiLQAAAAAAAECAeAsAAAAAAAAQIN4CAAAAAAAABIi3AAAA\n",
       "AAAAAAHiLQAAAAAAAECAeAsAAAAAAAAQIN4CAAAAAAAABIi3AAAAAAAAAAHiLQAAAAAAAECAeAsA\n",
       "AAAAAAAQIN4CAAAAAAAABIi3AAAAAAAAAAHiLQAAAAAAAECAeAsAAAAAAAAQIN4CAAAAAAAABIi3\n",
       "AAAAAAAAAAHiLQAAAAAAAECAeAsAAAAAAAAQIN4CAAAAAAAABIi3AAAAAAAAAAHiLQAAAAAAAECA\n",
       "eAsAAAAAAAAQIN4CAAAAAAAABIi3AAAAAAAAAAHiLQAAAAAAAECAeAsAAAAAAAAQIN4CAAAAAAAA\n",
       "BIi3AAAAAAAAAAHiLQAAAAAAAECAeAsAAAAAAAAQIN4CAAAAAAAABIi3AAAAAAAAAAHiLQAAAAAA\n",
       "AECAeAsAAAAAAAAQIN4CAAAAAAAABIi3AAAAAAAAAAHiLQAAAAAAAECAeAsAAAAAAAAQIN4CAAAA\n",
       "AAAABIi3AAAAAAAAAAHiLQAAAAAAAECAeAsAAAAAAAAQIN4CAAAAAAAABIi3AAAAAAAAAAHiLQAA\n",
       "AAAAAECAeAsAAAAAAAAQIN4CAAAAAAAABIi3AAAAAAAAAAHiLQAAAAAAAECAeAsAAAAAAAAQIN4C\n",
       "AAAAAAAABIi3AAAAAAAAAAHiLQAAAAAAAECAeAsAAAAAAAAQIN4CAAAAAAAABIi3AAAAAAAAAAHi\n",
       "LQAAAAAAAECAeAsAAAAAAAAQIN4CAAAAAAAABIi3AAAAAAAAAAHiLQAAAAAAAECAeAsAAAAAAAAQ\n",
       "IN4CAAAAAAAABIi3AAAAAAAAAAHiLQAAAAAAAECAeAsAAAAAAAAQIN4CAAAAAAAABIi3AAAAAAAA\n",
       "AAHiLQAAAAAAAECAeAsAAAAAAAAQIN4CAAAAAAAABIi3AAAAAAAAAAHiLQAAAAAAAECAeAsAAAAA\n",
       "AAAQIN4CAAAAAAAABIi3AAAAAAAAAAHiLQAAAAAAAECAeAsAAAAAAAAQIN4CAAAAAAAABIi3AAAA\n",
       "AAAAAAHiLQAAAAAAAECAeAsAAAAAAAAQIN4CAAAAAAAABIi3AAAAAAAAAAHiLQAAAAAAAECAeAsA\n",
       "AAAAAAAQIN4CAAAAAAAABIi3AAAAAAAAAAHiLQAAAAAAAECAeAsAAAAAAAAQIN4CAAAAAAAABIi3\n",
       "AAAAAAAAAAHiLQAAAAAAAECAeAsAAAAAAAAQIN4CAAAAAAAABIi3AAAAAAAAAAHiLQAAAAAAAECA\n",
       "eAsAAAAAAAAQIN4CAAAAAAAABIi3AAAAAAAAAAHiLQAAAAAAAECAeAsAAAAAAAAQIN4CAAAAAAAA\n",
       "BIi3AAAAAAAAAAHiLQAAAAAAAECAeAsAAAAAAAAQIN4CAAAAAAAABIi3AAAAAAAAAAHiLQAAAAAA\n",
       "AECAeAsAAAAAAAAQIN4CAAAAAAAABIi3AAAAAAAAAAHiLQAAAAAAAECAeAsAAAAAAAAQIN4CAAAA\n",
       "AAAABIi3AAAAAAAAAAHiLQAAAAAAAECAeAsAAAAAAAAQIN4CAAAAAAAABIi3AAAAAAAAAAHiLQAA\n",
       "AAAAAECAeAsAAAAAAAAQIN4CAAAAAAAABIi3AAAAAAAAAAHiLQAAAAAAAECAeAsAAAAAAAAQIN4C\n",
       "AAAAAAAABIi3AAAAAAAAAAHiLQAAAAAAAECAeAsAAAAAAAAQIN4CAAAAAAAABIi3AAAAAAAAAAHi\n",
       "LQAAAAAAAECAeAsAAAAAAAAQIN4CAAAAAAAABIi3AAAAAAAAAAHiLQAAAAAAAECAeAsAAAAAAAAQ\n",
       "IN4CAAAAAAAABIi3AAAAAAAAAAHiLQAAAAAAAECAeAsAAAAAAAAQIN4CAAAAAAAABIi3AAAAAAAA\n",
       "AAHiLQAAAAAAAECAeAsAAAAAAAAQIN4CAAAAAAAABIi3AAAAAAAAAAHiLQAAAAAAAECAeAsAAAAA\n",
       "AAAQIN4CAAAAAAAABIi3AAAAAAAAAAHiLQAAAAAAAECAeAsAAAAAAAAQIN4CAAAAAAAABIi3AAAA\n",
       "AAAAAAHiLQAAAAAAAECAeAsAAAAAAAAQIN4CAAAAAAAABIi3AAAAAAAAAAHiLQAAAAAAAECAeAsA\n",
       "AAAAAAAQIN4CAAAAAAAABIi3AAAAAAAAAAHiLQAAAAAAAECAeAsAAAAAAAAQIN4CAAAAAAAABIi3\n",
       "AAAAAAAAAAHiLQAAAAAAAECAeAsAAAAAAAAQIN4CAAAAAAAABIi3AAAAAAAAAAHiLQAAAAAAAEDA\n",
       "XD0AAAAAAADgN53HuXoCwI+4vAUAAAAAAAAIEG8BAAAAAAAAAsRbAAAAAAAAgADxFgAAAAAAACBA\n",
       "vAUAAAAAAAAIEG8BAAAAAAAAAsRbAAAAAAAAgADxFgAAAAAAACBAvAUAAAAAAAAIEG8BAAAAAAAA\n",
       "AsRbAAAAAAAAgADxFgAAAAAAACBAvAUAAAAAAAAIEG8BAAAAAAAAAsRbAAAAAAAAgADxFgAAAAAA\n",
       "ACBAvAUAAAAAAAAIEG8BAAAAAAAAAsRbAAAAAAAAgADxFgAAAAAAACBAvAUAAAAAAAAIEG8BAAAA\n",
       "AAAAAsRbAAAAAAAAgADxFgAAAAAAACBAvAUAAAAAAAAIEG8BAAAAAAAAAsRbAAAAAAAAgADxFuCT\n",
       "fTs4YRgIgiAoweWfsXXOQB+DtrGqIpjnQrMAAAAAAAAB4i0AAAAAAABAgHgLAAAAAAAAECDeAgAA\n",
       "AAAAAASItwAAAAAAAAAB4i0AAAAAAABAgHgLAAAAAAAAECDeAgAAAAAAAASItwAAAAAAAAAB4i0A\n",
       "AAAAAABAgHgLAAAAAAAAECDeAgAAAAAAAASItwAAAAAAAAAB4i0AAAAAAABAgHgLAAAAAAAAECDe\n",
       "AgAAAAAAAASItwAAAAAAAAAB4i0AAAAAAABAgHgLAAAAAAAAECDeAgAAAAAAAASItwAAAAAAAAAB\n",
       "4i0AAAAAAABAgHgLAAAAAAAAECDeAgAAAAAAAASItwAAAAAAAAAB4i0AAAAAAABAgHgLAAAAAAAA\n",
       "ECDeAgAAAAAAAASItwAAAAAAAAAB4i0AAAAAAABAgHgLAAAAAAAAECDeAgAAAAAAAASs6QEAAAAA\n",
       "ALzT3p/pCQCQ4vMWAAAAAAAAIEC8BQAAAAAAAAgQbwEAAAAAAAACxFsAAAAAAACAAPEWAAAAAAAA\n",
       "IEC8BQAAAAAAAAgQbwEAAAAAAAACxFsAAAAAAACAAPEWAAAAAAAAIEC8BQAAAAAAAAgQbwEAAAAA\n",
       "AAACxFsAAAAAAACAAPEWAAAAAAAAIEC8BQAAAAAAAAgQbwEAAAAAAAACxFsAAAAAAACAAPEWAAAA\n",
       "AAAAIEC8BQAAAAAAAAgQbwEAAAAAAAACxFsAAAAAAACAAPEWAAAAAAAAIEC8BQAAAAAAAAgQbwEA\n",
       "AAAAAAACxFsAAAAAAACAAPEWAAAAAAAAIEC8BQAAAAAAAAgQbwEAAAAAAAACxFsAAAAAAACAAPEW\n",
       "AAAAAAAAIEC8BQAAAAAAAAgQbwEAAAAAAAACxFsAAAAAAACAAPEWAAAAAAAAIEC8BQAAAAAAAAgQ\n",
       "bwEAAAAAAAACxFsAAAAAAACAAPEWAAAAAAAAIEC8BQAAAAAAAAgQbwEAAAAAAAACxFsAAAAAAACA\n",
       "APEWAAAAAAAAIEC8BQAAAAAAAAgQbwEAAAAAAAACxFsAAAAAAACAAPEWAAAAAAAAIEC8BQAAAAAA\n",
       "AAgQbwEAAAAAAAACxFsAAAAAAACAAPEWAAAAAAAAIEC8BQAAAAAAAAgQbwEAAAAAAAACxFsAAAAA\n",
       "AACAAPEWAAAAAAAAIEC8BQAAAAAAAAgQbwEAAAAAAAACxFsAAAAAAACAAPEWAAAAAAAAIEC8BQAA\n",
       "AAAAAAgQbwEAAAAAAAACxFsAAAAAAACAAPEWAAAAAAAAIEC8BQAAAAAAAAgQbwEAAAAAAAACxFsA\n",
       "AAAAAACAAPEWAAAAAAAAIEC8BQAAAAAAAAgQbwEAAAAAAAACxFsAAAAAAACAAPEWAAAAAAAAIEC8\n",
       "BQAAAAAAAAgQbwEAAAAAAAACxFsAAAAAAACAAPEWAAAAAAAAIEC8BQAAAAAAAAgQbwEAAAAAAAAC\n",
       "xFsAAAAAAACAAPEWAAAAAAAAIEC8BQAAAAAAAAgQbwEAAAAAAAACxFsAAAAAAACAAPEWAAAAAAAA\n",
       "IEC8BQAAAAAAAAgQbwEAAAAAAAACxFsAAAAAAACAAPEWAAAAAAAAIEC8BQAAAAAAAAgQbwEAAAAA\n",
       "AAACxFsAAAAAAACAAPEWAAAAAAAAIEC8BQAAAAAAAAgQbwEAAAAAAAACxFsAAAAAAACAAPEWAAAA\n",
       "AAAAIEC8BQAAAAAAAAgQbwEAAAAAAAACxFsAAAAAAACAAPEWAAAAAAAAIEC8BQAAAAAAAAgQbwEA\n",
       "AAAAAAACxFsAAAAAAACAAPEWAAAAAAAAIEC8BQAAAAAAAAgQbwEAAAAAAAACxFsAAAAAAACAAPEW\n",
       "AAAAAAAAIEC8BQAAAAAAAAgQbwEAAAAAAAACxFsAAAAAAACAAPEWAAAAAAAAIEC8BQAAAAAAAAgQ\n",
       "bwEAAAAAAAACxFsAAAAAAACAAPEWAAAAAAAAIEC8BQAAAAAAAAgQbwEAAAAAAAACxFsAAAAAAACA\n",
       "APEWAAAAAAAAIEC8BQAAAAAAAAgQbwEAAAAAAAACxFsAAAAAAACAAPEWAAAAAAAAIEC8BQAAAAAA\n",
       "AAgQbwEAAAAAAAACxFsAAAAAAACAAPEWAAAAAAAAIEC8BQAAAAAAAAgQbwEAAAAAAAACxFsAAAAA\n",
       "AACAAPEWAAAAAAAAIEC8BQAAAAAAAAgQbwEAAAAAAAACxFsAAAAAAACAAPEWAAAAAAAAIEC8BQAA\n",
       "AAAAAAgQbwEAAAAAAAACxFsAAAAAAACAAPEWAAAAAAAAIEC8BQAAAAAAAAgQbwEAAAAAAAACxFsA\n",
       "AAAAAACAAPEWAAAAAAAAIEC8BQAAAAAAAAgQbwEAAAAAAAACxFsAAAAAAACAAPEWAAAAAAAAIEC8\n",
       "BQAAAAAAAAgQbwEAAAAAAAACxFsAAAAAAACAAPEWAAAAAAAAIEC8BQAAAAAAAAgQbwEAAAAAAAAC\n",
       "xFsAAAAAAACAAPEWAAAAAAAAIEC8BQAAAAAAAAgQbwEAAAAAAAACxFsAAAAAAACAAPEWAAAAAAAA\n",
       "IEC8BQAAAAAAAAgQbwEAAAAAAAACxFsAAAAAAACAAPEWAAAAAAAAIEC8BQAAAAAAAAgQbwEAAAAA\n",
       "AAACxFsAAAAAAACAAPEWAAAAAAAAIEC8BQAAAAAAAAgQbwEAAAAAAAACxFsAAAAAAACAAPEWAAAA\n",
       "AAAAIEC8BQAAAAAAAAgQbwEAAAAAAAACxFsAAAAAAACAAPEWAAAAAAAAIEC8BQAAAAAAAAgQbwEA\n",
       "AAAAAAACxFsAAAAAAACAAPEWAAAAAAAAIEC8BQAAAAAAAAgQbwEAAAAAAAACxFsAAAAAAACAAPEW\n",
       "AAAAAAAAIEC8BQAAAAAAAAgQbwEAAAAAAAACxFsAAAAAAACAAPEWAAAAAAAAIEC8BQAAAAAAAAgQ\n",
       "bwEAAAAAAAACxFsAAAAAAACAAPEWAAAAAAAAIEC8BQAAAAAAAAgQbwEAAAAAAAACxFsAAAAAAACA\n",
       "APEWAAAAAAAAIEC8BQAAAAAAAAgQbwEAAAAAAAACxFsAAAAAAACAAPEWAAAAAAAAIEC8BQAAAAAA\n",
       "AAgQbwEAAAAAAAACxFsAAAAAAACAAPEWAAAAAAAAIEC8BQAAAAAAAAgQbwEAAAAAAAACxFsAAAAA\n",
       "AACAAPEWAAAAAAAAIEC8BQAAAAAAAAgQbwEAAAAAAAACxFsAAAAAAACAAPEWAAAAAAAAIEC8BQAA\n",
       "AAAAAAgQbwEAAAAAAAACxFsAAAAAAACAAPEWAAAAAAAAIEC8BQAAAAAAAAgQbwEAAAAAAAACxFsA\n",
       "AAAAAACAAPEWAAAAAAAAIEC8BQAAAAAAAAgQbwEAAAAAAAACxFsAAAAAAACAAPEWAAAAAAAAIEC8\n",
       "BQAAAAAAAAgQbwEAAAAAAAACxFsAAAAAAACAAPEWAAAAAAAAIEC8BQAAAAAAAAgQbwEAAAAAAAAC\n",
       "xFsAAAAAAACAAPEWAAAAAAAAIEC8BQAAAAAAAAgQbwEAAAAAAAACxFsAAAAAAACAAPEWAAAAAAAA\n",
       "IEC8BQAAAAAAAAgQbwEAAAAAAAACxFsAAAAAAACAAPEWAAAAAAAAIEC8BQAAAAAAAAgQbwEAAAAA\n",
       "AAACxFsAAAAAAACAAPEWAAAAAAAAIEC8BQAAAAAAAAgQbwEAAAAAAAACxFsAAAAAAACAAPEWAAAA\n",
       "AAAAIEC8BQAAAAAAAAgQbwEAAAAAAAACxJ2Rg5QAABdySURBVFsAAAAAAACAAPEWAAAAAAAAIEC8\n",
       "BQAAAAAAAAgQbwEAAAAAAAACxFsAAAAAAACAAPEWAAAAAAAAIEC8BQAAAAAAAAgQbwEAAAAAAAAC\n",
       "xFsAAAAAAACAAPEWAAAAAAAAIEC8BQAAAAAAAAgQbwEAAAAAAAACxFsAAAAAAACAAPEWAAAAAAAA\n",
       "IEC8BQAAAAAAAAgQbwEAAAAAAAACxFsAAAAAAACAAPEWAAAAAAAAIEC8BQAAAAAAAAgQbwEAAAAA\n",
       "AAACxFsAAAAAAACAAPEWAAAAAAAAIGBNDwAAAADgYfuaXtB1+nUAAGCOaxQAAAAAAAAgQLwFAAAA\n",
       "AAAACBBvAQAAAAAAAALEWwAAAAAAAIAA8RYAAAAAAAAgQLwFAAAAAAAACBBvAQAAAAAAAALEWwAA\n",
       "AAAAAIAA8RYAAAAAAAAgQLwFAAAAAAAACBBvAQAAAAAAAALEWwAAAAAAAIAA8RYAAAAAAAAgQLwF\n",
       "AAAAAAAACBBvAQAAAAAAAALEWwAAAAAAAIAA8RYAAAAAAAAgQLwFAAAAAAAACBBvAQAAAAAAAALE\n",
       "WwAAAAAAAIAA8RYAAAAAAAAgQLwFAAAAAAAACBBvAQAAAAAAAALEWwAAAAAAAIAA8RYAAAAAAAAg\n",
       "QLwFAAAAAAAACBBvAQAAAAAAAALEWwAAAAAAAIAA8RYAAAAAAAAgQLwFAAAAAAAACBBvAQAAAAAA\n",
       "AALEWwAAAAAAAIAA8RYAAAAAAAAgQLwFAAAAAAAACBBvAQAAAAAAAALEWwAAAAAAAIAA8RYAAAAA\n",
       "AAAgQLwFAAAAAAAACBBvAQAAAAAAAALEWwAAAAAAAIAA8RYAAAAAAAAgQLwFAAAAAAAACBBvAQAA\n",
       "AAAAAALEWwAAAAAAAIAA8RYAAAAAAAAgQLwFAAAAAAAACBBvAQAAAAAAAALEWwAAAAAAAICANT0A\n",
       "AAAA/tk+9vSE1ziPc3oCAADAT3zeAgAAAAAAAASItwAAAAAAAAAB4i0AAAAAAABAgHgLAAAAAAAA\n",
       "ECDeAgAAAAAAAASItwAAAAAAAAAB4i0AAAAAAABAgHgLAAAAAAAAECDeAgAAAAAAAASItwAAAAAA\n",
       "AAAB4i0AAAAAAABAgHgLAAAAAAAAECDeAgAAAAAAAASItwAAAAAAAAAB4i0AAAAAAABAgHgLAAAA\n",
       "AAAAECDeAgAAAAAAAASItwAAAAAAAAAB4i0AAAAAAABAgHgLAAAAAAAAECDeAgAAAAAAAASItwAA\n",
       "AAAAAAAB4i0AAAAAAABAgHgLAAAAAAAAECDeAgAAAAAAAASItwAAAAAAAAAB4i0AAAAAAABAgHgL\n",
       "AAAAAAAAECDeAgAAAAAAAASItwAAAAAAAAAB4i0AAAAAAABAgHgLAAAAAAAAECDeAgAAAAAAAASI\n",
       "twAAAAAAAAAB4i0AAAAAAABAgHgLAAAAAAAAECDeAgAAAAAAAASItwAAAAAAAAAB4i0AAAAAAABA\n",
       "gHgLAAAAAAAAECDeAgAAAAAAAASItwAAAAAAAAAB4i0AAAAAAABAgHgLAAAAAAAAECDeAgAAAAAA\n",
       "AASItwAAAAAAAAAB4i0AAAAAAABAgHgLAAAAAAAAECDeAgAAAAAAAASItwAAAAAAAAAB4i0AAAAA\n",
       "AABAgHgLAAAAAAAAECDeAgAAAAAAAASItwAAAAAAAAAB4i0AAAAAAABAgHgLAAAAAAAAECDeAgAA\n",
       "AAAAAASItwAAAAAAAAAB4i0AAAAAAABAgHgLAAAAAAAAECDeAgAAAAAAAASItwAAAAAAAAAB4i0A\n",
       "AAAAAABAgHgLAAAAAAAAECDeAgAAAAAAAASItwAAAAAAAAAB4i0AAAAAAABAgHgLAAAAAAAAECDe\n",
       "AgAAAAAAAASItwAAAAAAAAAB4i0AAAAAAABAgHgLAAAAAAAAECDeAgAAAAAAAASItwAAAAAAAAAB\n",
       "4i0AAAAAAABAgHgLAAAAAAAAECDeAgAAAAAAAASItwAAAAAAAAAB4i0AAAAAAABAgHgLAAAAAAAA\n",
       "ECDeAgAAAAAAAASItwAAAAAAAAAB4i0AAAAAAABAgHgLAAAAAAAAECDeAgAAAAAAAASItwAAAAAA\n",
       "AAAB4i0AAAAAAABAgHgLAAAAAAAAECDeAgAAAAAAAASItwAAAAAAAAAB4i0AAAAAAABAgHgLAAAA\n",
       "AAAAECDeAgAAAAAAAASItwAAAAAAAAAB4i0AAAAAAABAgHgLAAAAAAAAECDeAgAAAAAAAASItwAA\n",
       "AAAAAAAB4i0AAAAAAABAgHgLAAAAAAAAECDeAgAAAAAAAASItwAAAAAAAAAB4i0AAAAAAABAgHgL\n",
       "AAAAAAAAECDeAgAAAAAAAASItwAAAAAAAAAB4i0AAAAAAABAgHgLAAAAAAAAECDeAgAAAAAAAASI\n",
       "twAAAAAAAAAB4i0AAAAAAABAgHgLAAAAAAAAECDeAgAAAAAAAASItwAAAAAAAAAB4i0AAAAAAABA\n",
       "gHgLAAAAAAAAECDeAgAAAAAAAASItwAAAAAAAAAB4i0AAAAAAABAgHgLAAAAAAAAECDeAgAAAAAA\n",
       "AASItwAAAAAAAAAB4i0AAAAAAABAgHgLAAAAAAAAECDeAgAAAAAAAASItwAAAAAAAAAB4i0AAAAA\n",
       "AABAgHgLAAAAAAAAECDeAgAAAAAAAASItwAAAAAAAAAB4i0AAAAAAABAwJoeAAAAAAAA3NvHNT0B\n",
       "gAf4vAUAAAAAAAAIEG8BAAAAAAAAAsRbAAAAAAAAgADxFgAAAAAAACBAvAUAAAAAAAAIEG8BAAAA\n",
       "AAAAAsRbAAAAAAAAgADxFgAAAAAAACBAvAUAAAAAAAAIEG8BAAAAAAAAAsRbAAAAAAAAgADxFgAA\n",
       "AAAAACBAvAUAAAAAAAAIEG8BAAAAAAAAAsRbAAAAAAAAgADxFgAAAAAAACBAvAUAAAAAAAAIEG8B\n",
       "AAAAAAAAAsRbAAAAAAAAgADxFgAAAAAAACBAvAUAAAAAAAAIEG8BAAAAAAAAAsRbAAAAAAAAgADx\n",
       "FgAAAAAAACBAvAUAAAAAAAAIEG8BAAAAAAAAAsRbAAAAAAAAgADxFgAAAAAAACBAvAUAAAAAAAAI\n",
       "EG8BAAAAAAAAAsRbAAAAAAAAgADxFgAAAAAAACBAvAUAAAAAAAAIEG8BAAAAAAAAAsRbAAAAAAAA\n",
       "gADxFgAAAAAAACBAvAUAAAAAAAAIEG8BAAAAAAAAAsRbAAAAAAAAgADxFgAAAAAAACBAvAUAAAAA\n",
       "AAAIEG8BAAAAAAAAAsRbAAAAAAAAgADxFgAAAAAAACBAvAUAAAAAAAAIEG8BAAAAAAAAAsRbAAAA\n",
       "AAAAgADxFgAAAAAAACBAvAUAAAAAAAAIEG8BAAAAAAAAAsRbAAAAAAAAgADxFgAAAAAAACBAvAUA\n",
       "AAAAAAAIEG8BAAAAAAAAAsRbAAAAAAAAgADxFgAAAAAAACBAvAUAAAAAAAAIEG8BAAAAAAAAAsRb\n",
       "AAAAAAAAgADxFgAAAAAAACBAvAUAAAAAAAAIEG8BAIBve3YsAAAAADDI33oaO0ojAAAAAAbkLQAA\n",
       "AAAAAMCAvAUAAAAAAAAYkLcAAAAAAAAAA/IWAAAAAAAAYEDeAgAAAAAAAAzIWwAAAAAAAIABeQsA\n",
       "AAAAAAAwIG8BAAAAAAAABuQtAAAAAAAAwIC8BQAAAAAAABiQtwAAAAAAAAAD8hYAAAAAAABgQN4C\n",
       "AAAAAAAADMhbAAAAAAAAgAF5CwAAAAAAADAgbwEAAAAAAAAG5C0AAAAAAADAgLwFAAAAAAAAGJC3\n",
       "AAAAAAAAAAPyFgAAAAAAAGBA3gIAAAAAAAAMyFsAAAAAAACAAXkLAAAAAAAAMCBvAQAAAAAAAAbk\n",
       "LQAAAAAAAMCAvAUAAAAAAAAYkLcAAAAAAAAAA/IWAAAAAAAAYEDeAgAAAAAAAAzIWwAAAAAAAIAB\n",
       "eQsAAAAAAAAwIG8BAAAAAAAABuQtAAAAAAAAwIC8BQAAAAAAABiQtwAAAAAAAAAD8hYAAAAAAABg\n",
       "QN4CAAAAAAAADMhbAAAAAAAAgAF5CwAAAAAAADAgbwEAAAAAAAAG5C0AAAAAAADAgLwFAAAAAAAA\n",
       "GJC3AAAAAAAAAAPyFgAAAAAAAGBA3gIAAAAAAAAMyFsAAAAAAACAAXkLAAAAAAAAMCBvAQAAAAAA\n",
       "AAbkLQAAAAAAAMCAvAUAAAAAAAAYkLcAAAAAAAAAA/IWAAAAAAAAYEDeAgAAAAAAAAzIWwAAAAAA\n",
       "AIABeQsAAAAAAAAwIG8BAAAAAAAABuQtAAAAAAAAwIC8BQAAAAAAABiQtwAAAAAAAAAD8hYAAAAA\n",
       "AABgQN4CAAAAAAAADMhbAAAAAAAAgAF5CwAAAAAAADAgbwEAAAAAAAAG5C0AAAAAAADAgLwFAAAA\n",
       "AAAAGJC3AAAAAAAAAAPyFgAAAAAAAGBA3gIAAAAAAAAMyFsAAAAAAACAAXkLAAAAAAAAMCBvAQAA\n",
       "AAAAAAbkLQAAAAAAAMCAvAUAAAAAAAAYkLcAAAAAAAAAA/IWAAAAAAAAYEDeAgAAAAAAAAzIWwAA\n",
       "AAAAAIABeQsAAAAAAAAwIG8BAAAAAAAABuQtAAAAAAAAwIC8BQAAAAAAABiQtwAAAAAAAAAD8hYA\n",
       "AAAAAABgQN4CAAAAAAAADMhbAAAAAAAAgAF5CwAAAAAAADAgbwEAAAAAAAAG5C0AAAAAAADAgLwF\n",
       "AAAAAAAAGJC3AAAAAAAAAAPyFgAAAAAAAGBA3gIAAAAAAAAMyFsAAAAAAACAAXkLAAAAAAAAMCBv\n",
       "AQAAAAAAAAbkLQAAAAAAAMCAvAUAAAAAAAAYkLcAAAAAAAAAA/IWAAAAAAAAYEDeAgAAAAAAAAzI\n",
       "WwAAAAAAAIABeQsAAAAAAAAwIG8BAAAAAAAABuQtAAAAAAAAwIC8BQAAAAAAABiQtwAAAAAAAAAD\n",
       "8hYAAAAAAABgQN4CAAAAAAAADMhbAAAAAAAAgAF5CwAAAAAAADAgbwEAAAAAAAAG5C0AAAAAAADA\n",
       "gLwFAAAAAAAAGJC3AAAAAAAAAAPyFgAAAAAAAGBA3gIAAAAAAAAMyFsAAAAAAACAAXkLAAAAAAAA\n",
       "MCBvAQAAAAAAAAbkLQAAAAAAAMCAvAUAAAAAAAAYkLcAAAAAAAAAA/IWAAAAAAAAYEDeAgAAAAAA\n",
       "AAzIWwAAAAAAAIABeQsAAAAAAAAwIG8BAAAAAAAABuQtAAAAAAAAwIC8BQAAAAAAABiQtwAAAAAA\n",
       "AAAD8hYAAAAAAABgQN4CAAAAAAAADMhbAAAAAAAAgAF5CwAAAAAAADAgbwEAAAAAAAAG5C0AAAAA\n",
       "AADAgLwFAAAAAAAAGJC3AAAAAAAAAAPyFgAAAAAAAGBA3gIAAAAAAAAMyFsAAAAAAACAAXkLAAAA\n",
       "AAAAMCBvAQAAAAAAAAbkLQAAAAAAAMCAvAUAAAAAAAAYkLcAAAAAAAAAA/IWAAAAAAAAYEDeAgAA\n",
       "AAAAAAzIWwAAAAAAAIABeQsAAAAAAAAwIG8BAAAAAAAABuQtAAAAAAAAwIC8BQAAAAAAABiQtwAA\n",
       "AAAAAAAD8hYAAAAAAABgQN4CAAAAAAAADMhbAAAAAAAAgAF5CwAAAAAAADAgbwEAAAAAAAAG5C0A\n",
       "AAAAAADAgLwFAAAAAAAAGJC3AAAAAAAAAAPyFgAAAAAAAGBA3gIAAAAAAAAMyFsAAAAAAACAAXkL\n",
       "AAAAAAAAMCBvAQAAAAAAAAbkLQAAAAAAAMCAvAUAAAAAAAAYkLcAAAAAAAAAA/IWAAAAAAAAYEDe\n",
       "AgAAAAAAAAzIWwAAAAAAAIABeQsAAAAAAAAwIG8BAAAAAAAABuQtAAAAAAAAwIC8BQAAAAAAABiQ\n",
       "twAAAAAAAAAD8hYAAAAAAABgQN4CAAAAAAAADMhbAAAAAAAAgAF5CwAAAAAAADAgbwEAAAAAAAAG\n",
       "5C0AAAAAAADAgLwFAAAAAAAAGJC3AAAAAAAAAAPyFgAAAAAAAGBA3gIAAAAAAAAMyFsAAAAAAACA\n",
       "AXkLAAAAAAAAMCBvAQAAAAAAAAbkLQAAAAAAAMCAvAUAAAAAAAAYkLcAAAAAAAAAA/IWAAAAAAAA\n",
       "YEDeAgAAAAAAAAzIWwAAAAAAAIABeQsAAAAAAAAwIG8BAAAAAAAABuQtAAAAAAAAwIC8BQAAAAAA\n",
       "ABiQtwAAAAAAAAAD8hYAAAAAAABgQN4CAAAAAAAADMhbAAAAAAAAgAF5CwAAAAAAADAgbwEAAAAA\n",
       "AAAG5C0AAAAAAADAgLwFAAAAAAAAGJC3AAAAAAAAAAPyFgAAAAAAAGBA3gIAAAAAAAAMyFsAAAAA\n",
       "AACAAXkLAAAAAAAAMCBvAQAAAAAAAAbkLQAAAAAAAMCAvAUAAAAAAAAYkLcAAAAAAAAAA/IWAAAA\n",
       "AAAAYEDeAgAAAAAAAAzIWwAAAAAAAIABeQsAAAAAAAAwIG8BAAAAAAAABuQtAAAAAAAAwIC8BQAA\n",
       "AAAAABiQtwAAAAAAAAAD8hYAAAAAAABgQN4CAAAAAAAADMhbAAAAAAAAgAF5CwAAAAAAADAgbwEA\n",
       "AAAAAAAG5C0AAAAAAADAgLwFAAAAAAAAGJC3AAAAAAAAAAPyFgAAAAAAAGBA3gIAAAAAAAAMyFsA\n",
       "AAAAAACAAXkLAAAAAAAAMCBvAQAAAAAAAAbkLQAAAAAAAMCAvAUAAAAAAAAYkLcAAAAAAAAAA/IW\n",
       "AAAAAAAAYEDeAgAAAAAAAAzIWwAAAAAAAIABeQsAAAAAAAAwIG8BAAAAAAAABuQtAAAAAAAAwIC8\n",
       "BQAAAAAAABiQtwAAAAAAAAAD8hYAAAAAAABgQN4CAAAAAAAADMhbAAAAAAAAgAF5CwAAAAAAADAg\n",
       "bwEAAAAAAAAG5C0AAAAAAADAgLwFAAAAAAAAGJC3AAAAAAAAAAPyFgAAAAAAAGBA3gIAAAAAAAAM\n",
       "yFsAAAAAAACAAXkLAAAAAAAAMCBvAQAAAAAAAAbkLQAAAAAAAMCAvAUAAAAAAAAYkLcAAAAAAAAA\n",
       "A/IWAAAAAAAAYEDeAgAAAAAAAAzIWwAAAAAAAIABeQsAAAAAAAAwIG8BAAAAAAAABuQtAAAAAAAA\n",
       "wIC8BQAAAAAAABiQtwAAAAAAAAAD8hYAAAAAAABgQN4CAAAAAAAADMhbAAAAAAAAgAF5CwAAAAAA\n",
       "ADAgbwEAAAAAAAAG5C0AAAAAAADAgLwFAAAAAAAAGJC3AAAAAAAAAAPyFgAAAAAAAGBA3gIAAAAA\n",
       "AAAMyFsAAAAAAACAAXkLAAAAAAAAMCBvAQAAAAAAAAbkLQAAAAAAAMCAvAUAAAAAAAAYkLcAAAAA\n",
       "AAAAA/IWAAAAAAAAYEDeAgAAAAAAAAzIWwAAAAAAAIABeQsAAAAAAAAwIG8BAAAAAAAABuQtAAAA\n",
       "AAAAwIC8BQAAAAAAABiQtwAAAAAAAAAD8hYAAAAAAABgQN4CAAAAAAAADMhbAAAAAAAAgAF5CwAA\n",
       "AAAAADAgbwEAAAAAAAAG5C0AAAAAAADAgLwFAAAAAAAAGJC3AAAAAAAAAAPyFgAAAAAAAGBA3gIA\n",
       "AAAAAAAMyFsAAAAAAACAAXkLAAAAAAAAMCBvAQAAAAAAAAbkLQAAAAAAAMCAvAUAAAAAAAAYkLcA\n",
       "AAAAAAAAA/IWAAAAAAAAYEDeAgAAAAAAAAzIWwAAAAAAAIABeQsAAAAAAAAwIG8BAAAAAAAABuQt\n",
       "AAAAAAAAwIC8BQAAAAAAABiQtwAAAAAAAAAD8hYAAAAAAABgQN4CAAAAAAAADMhbAAAAAAAAgAF5\n",
       "CwAAAAAAADAgbwEAAAAAAAAG5C0AAAAAAADAgLwFAAAAAAAAGJC3AAAAAAAAAAPyFgAAAAAAAGBA\n",
       "3gIAAAAAAAAMyFsAAAAAAACAAXkLAAAAAAAAMCBvAQAAAAAAAAbkLQAAAAAAAMCAvAUAAAAAAAAY\n",
       "kLcAAAAAAAAAA/IWAAAAAAAAYEDeAgAAAAAAAAzIWwAAAAAAAIABeQsAAAAAAAAwIG8BAAAAAAAA\n",
       "BuQtAAAAAAAAwIC8BQAAAAAAABiQtwAAAAAAAAAD8hYAAAAAAABgQN4CAAAAAAAADASNjR3cXb7O\n",
       "YQAAAABJRU5ErkJggg==\n",
       "\" transform=\"translate(210, 47)\"/>\n",
       "</g>\n",
       "<defs>\n",
       "  <clipPath id=\"clip8003\">\n",
       "    <rect x=\"2160\" y=\"47\" width=\"73\" height=\"1440\"/>\n",
       "  </clipPath>\n",
       "</defs>\n",
       "<g clip-path=\"url(#clip8003)\">\n",
       "<image width=\"72\" height=\"1439\" xlink:href=\"data:image/png;base64,\n",
       "iVBORw0KGgoAAAANSUhEUgAAAEgAAAWfCAYAAAAI7rB3AAAMTUlEQVR4nO3dwY3sRhAFQY5Q/lsh\n",
       "L6XfLQtUeSQPERYsEg8kmpyZ/f17/r4P/+uvt/+ArxMoCBQECgKFOffft/+GT7OgIFAQKAgUBApz\n",
       "3cVWFhQECgIFgcLc4yK9saAgUBAoCBQECo4awYKCQEGgIFAQKLiLBQsKAgWBgkDBRTpYUBAoCBQE\n",
       "CgIFr32CBQWBgkBBoOCoESwoCBQECgIFgYK7WLCgIFAQKAgUBArzeGC2sqAgUBAoCBRcpIMFBYGC\n",
       "QEGgIFCYxwOzlQUFgYJAQaAgUHAWCxYUBAoCBYGCi3SwoCBQECgIFAQK85x/3v4bPs2CgkBBoCBQ\n",
       "8FYjWFAQKAgUBAoCBQ/MggUFgYJAQaAgUHAXCxYUBAoCBYHC/O6ft/+GT7OgIFAQKAgUBArzHHex\n",
       "jQUFgYJAQaAgUJifu9jKgoJAQaAgUHDUCBYUBAoCBYGCQGEer31WFhQECgIFgYLnQcGCgkBBoCBQ\n",
       "ECh4YBYsKAgUBAoCBYGCs1iwoCBQECgIFBw1ggUFgYJAQaAgUJjfOW//DZ9mQUGgIFAQKAgUnMWC\n",
       "BQWBgkBBoOAiHSwoCBQECgIFgYJ388GCgkBBoCBQmMdbjZUFBYGCQEGgIFBw1AgWFAQKAgWBgkDB\n",
       "a59gQUGgIFAQKLhIBwsKAgWBgkBBoODLLMGCgkBBoCBQ8G4+WFAQKAgUBAoCBQ/MggUFgYJAQaAg\n",
       "UHAWCxYUBAoCBYGCi3SwoCBQECgIFAQK3s0HCwoCBYGCQEGg4LVPsKAgUBAoCBQ8MAsWFAQKAgWB\n",
       "gkDBXSxYUBAoCBQECi7SwYKCQEGgIFAQKMxz7tt/w6dZUBAoCBQECgKFea6z2MaCgkBBoCBQ8MAs\n",
       "WFAQKAgUBAoCBQ/MggUFgYJAQaAgUHAWCxYUBAoCBYGCi3SwoCBQECgIFAQKHpgFCwoCBYGCQMFR\n",
       "I1hQECgIFAQKAoV53MRWFhQECgIFgYJAwV0sWFAQKAgUBArjC4c7CwoCBYGCQEGg4KgRLCgIFAQK\n",
       "AgWBgrtYsKAgUBAoCBRcpIMFBYGCQEGgIFCYx3dZVhYUBAoCBYHC3PN7+2/4NAsKAgWBgkBBoOCB\n",
       "WbCgIFAQKAgUBArzOIutLCgIFAQKAoW510V6Y0FBoCBQECgIFBw1ggUFgYJAQaDgIh0sKAgUBAoC\n",
       "BYGCB2bBgoJAQaAgUBAoOIsFCwoCBYGCQGGeo9FGnSBQECgIFAQKHpgFCwoCBYGCQEGg4IFZsKAg\n",
       "UBAoCBT8+kuwoCBQECgIFAQK81yNNuoEgYJAQaDgqBEsKAgUBAoCBYGCu1iwoCBQECgIFAQKPicd\n",
       "1AkCBYGCQMHHgIMFBYGCQEGgIFDwMeBgQUGgIFAQKAgU5npgtlInCBQECgIFD8yCBQWBgkBBoCBQ\n",
       "8MAsWFAQKAgUBAqeBwV1gkBBoCBQECh4YBYsKAgUBAoCBYGCr2QGCwoCBYGCQGGun+haqRMECgIF\n",
       "gYJAwbv5YEFBoCBQECgIFDwwCxYUBAoCBYGCd/PBgoJAQaAgUBAo+Jx0UCcIFAQKAgVHjWBBQaAg\n",
       "UBAoCBS81QgWFAQKAgWBgkDBWSxYUBAoCBQECt5qBHWCQEGgIFAQKDhqBAsKAgWBgkBBoOC1T7Cg\n",
       "IFAQKAgUHDWCBQWBgkBBoCBQ8NonqBMECgIFgYKjRrCgIFAQKAgUBAruYsGCgkBBoCBQECi4iwUL\n",
       "CgIFgYJAwQeoggUFgYJAQaAgUJjj/4ut1AkCBYGCQMHzoGBBQaAgUBAoCBQ8MAsWFAQKAgWBgkDB\n",
       "WSxYUBAoCBQECi7SwYKCQEGgIFAQKLiLBQsKAgWBgkBBoOAuFiwoCBQECgKFOS7SKwsKAgWBgkBB\n",
       "oOCoESwoCBQECgIFF+lgQUGgIFAQKAgU3MWCBQWBgkBBoCBQcBcLFhQECgIFgYKLdLCgIFAQKAgU\n",
       "BAo+YRYsKAgUBAoCBYGCs1iwoCBQECgIFFykgwUFgYJAQaAgUPCfWYI6QaAgUBAoOGoECwoCBYGC\n",
       "QEGg4N18sKAgUBAoCBQECs5iwYKCQEGgIFBw1AgWFAQKAgWBgkDBUSNYUBAoCBQECgIFd7FgQUGg\n",
       "IFAQKHhgFiwoCBQECgIFgcLcx11sY0FBoCBQECg4agQLCgIFgYJAQaDgrUawoCBQECgIFAQKc+7b\n",
       "f8K3WVAQKAgUBAqOGsGCgkBBoCBQECh47RMsKAgUBAoChTk+QLWyoCBQECgIFAQKHpgFCwoCBYGC\n",
       "QEGg4IFZsKAgUBAoCBQcNYIFBYGCQEGgIFCY8/Zf8HEWFAQKAgWBgkDBWSxYUBAoCBQECt5qBAsK\n",
       "AgWBgkBBoOCHJoMFBYGCQEGg4KgRLCgIFAQKAgWBgp/oChYUBAoCBYGCQMEDs2BBQaAgUBAo+ABV\n",
       "sKAgUBAoCBQECr7MEiwoCBQECgIFgYKzWLCgIFAQKAgUHDWCBQWBgkBBoCBQcNQIFhQECgIFgYIv\n",
       "swQLCgIFgYJAQaAwvsuys6AgUBAoCBQECs5iwYKCQEGgIFBw1AgWFAQKAgWBgkDBUSNYUBAoCBQE\n",
       "CgIFZ7FgQUGgIFAQKDhqBAsKAgWBgkBBoODnkoMFBYGCQEGg4NeAgwUFgYJAQaAgUHDUCBYUBAoC\n",
       "BYGCQGGOs9jKgoJAQaAgUJjrqLGyoCBQECgIFAQKPmEWLCgIFAQKAgXf1QgWFAQKAgWBgkDBu/lg\n",
       "QUGgIFAQKAgUvJsPFhQECgIFgYJ388GCgkBBoCBQECj4V8bBgoJAQaAgUBAo+IRZsKAgUBAoCBQ8\n",
       "MAsWFAQKAgWBgkDBA7NgQUGgIFAQKDhqBAsKAgWBgkBBoOBjwMGCgkBBoCBQECj4SmawoCBQECgI\n",
       "FPz6S7CgIFAQKAgUBAqOGsGCgkBBoCBQECi4iwULCgIFgYJAwb8yDhYUBAoCBYGCQMFRI1hQECgI\n",
       "FAQK3s0HCwoCBYGCQEGg4KgRLCgIFAQKAgWBgrtYsKAgUBAoCBQ8MAsWFAQKAgWBgkDBUSNYUBAo\n",
       "CBQECgIFP5ccLCgIFAQKAgU/lxwsKAgUBAoCBYGCB2bBgoJAQaAgUPBuPlhQECgIFAQKAgVHjWBB\n",
       "QaAgUBAoCBTmPm5jGwsKAgWBgkDBUSNYUBAoCBQECgIFr32CBQWBgkBBoCBQcBYLFhQECgIFgYKj\n",
       "RrCgIFAQKAgUBAqOGsGCgkBBoCBQ8L35YEFBoCBQECgIFOb4GPDKgoJAQaAgUBAoOIsFCwoCBYGC\n",
       "QMFRI1hQECgIFAQKAgW/aR8sKAgUBAoChbkeCK0sKAgUBAoCBYGCo0awoCBQECgIFAQKvswSLCgI\n",
       "FAQKAgW/BhwsKAgUBAoCBYGCo0awoCBQECgIFAQKPicdLCgIFAQKAgUPzIIFBYGCQEGgIFBw1AgW\n",
       "FAQKAgWBgot0sKAgUBAoCBQECnN8JXNlQUGgIFAQKAgUvPYJFhQECgIFgYIHZsGCgkBBoCBQECi4\n",
       "iwULCgIFgYJAQaDgLhYsKAgUBAoChbmPn5rcWFAQKAgUBAoCBUeNYEFBoCBQECjM+TlqbCwoCBQE\n",
       "CgIFgcIcD8xWFhQECgIFgYJAwV0sWFAQKAgUBArezQcLCgIFgYJAQaAw5+fd/MaCgkBBoCBQECh4\n",
       "YBYsKAgUBAoCBRfpYEFBoCBQECgIFLz2CRYUBAoCBYHCnOfP23/Dp1lQECgIFAQKAgUPzIIFBYGC\n",
       "QEGgIFCY6yy2sqAgUBAoCBQcNYIFBYGCQEGgIFBwFwsWFAQKAgWBgudBwYKCQEGgIFAQKDhqBAsK\n",
       "AgWBgkBBoOAsFiwoCBQECgIF3zgMFhQECgIFgYJAYc51F9tYUBAoCBQECgIFZ7FgQUGgIFAQKMx1\n",
       "1FhZUBAoCBQECgIFR41gQUGgIFAQKPgAVbCgIFAQKAgUBArezQcLCgIFgYJAQaDggVmwoCBQECgI\n",
       "FLybDxYUBAoCBYGCQMFrn2BBQaAgUBAoCBScxYIFBYGCQEGg4K1GsKAgUBAoCBQECo4awYKCQEGg\n",
       "IFDwViNYUBAoCBQECgIFR41gQUGgIFAQKAgUvPYJFhQECgIFgcLc64HZxoKCQEGgIFAQKDhqBAsK\n",
       "AgWBgkBBoDDPvW//DZ9mQUGgIFAQKMzjqLGyoCBQECgIFAQKPmEWLCgIFAQKAgVHjWBBQaAgUBAo\n",
       "CBS8mw8WFAQKAgWBgkBhHg/MVhYUBAoCBYGCo0awoCBQECgIFAQKXvsECwoCBYGCQOE/A73wTbrr\n",
       "u5UAAAAASUVORK5CYII=\n",
       "\" transform=\"translate(2161, 47)\"/>\n",
       "</g>\n",
       "<path clip-path=\"url(#clip8000)\" d=\"M 0 0 M2274.38 1332.79 L2290.7 1332.79 L2290.7 1336.72 L2268.76 1336.72 L2268.76 1332.79 Q2271.42 1330.03 2276 1325.4 Q2280.61 1320.75 2281.79 1319.41 Q2284.03 1316.89 2284.91 1315.15 Q2285.82 1313.39 2285.82 1311.7 Q2285.82 1308.95 2283.87 1307.21 Q2281.95 1305.47 2278.85 1305.47 Q2276.65 1305.47 2274.2 1306.24 Q2271.77 1307 2268.99 1308.55 L2268.99 1303.83 Q2271.81 1302.7 2274.27 1302.12 Q2276.72 1301.54 2278.76 1301.54 Q2284.13 1301.54 2287.32 1304.22 Q2290.52 1306.91 2290.52 1311.4 Q2290.52 1313.53 2289.7 1315.45 Q2288.92 1317.35 2286.81 1319.94 Q2286.23 1320.61 2283.13 1323.83 Q2280.03 1327.02 2274.38 1332.79 Z\" fill=\"#000000\" fill-rule=\"evenodd\" fill-opacity=\"1\" /><path clip-path=\"url(#clip8000)\" d=\"M 0 0 M2295.82 1302.16 L2314.17 1302.16 L2314.17 1306.1 L2300.1 1306.1 L2300.1 1314.57 Q2301.12 1314.22 2302.14 1314.06 Q2303.15 1313.88 2304.17 1313.88 Q2309.96 1313.88 2313.34 1317.05 Q2316.72 1320.22 2316.72 1325.64 Q2316.72 1331.21 2313.25 1334.32 Q2309.77 1337.39 2303.45 1337.39 Q2301.28 1337.39 2299.01 1337.02 Q2296.77 1336.65 2294.36 1335.91 L2294.36 1331.21 Q2296.44 1332.35 2298.66 1332.9 Q2300.89 1333.46 2303.36 1333.46 Q2307.37 1333.46 2309.7 1331.35 Q2312.04 1329.25 2312.04 1325.64 Q2312.04 1322.02 2309.7 1319.92 Q2307.37 1317.81 2303.36 1317.81 Q2301.49 1317.81 2299.61 1318.23 Q2297.76 1318.64 2295.82 1319.52 L2295.82 1302.16 Z\" fill=\"#000000\" fill-rule=\"evenodd\" fill-opacity=\"1\" /><path clip-path=\"url(#clip8000)\" d=\"M 0 0 M2331.79 1305.24 Q2328.18 1305.24 2326.35 1308.81 Q2324.54 1312.35 2324.54 1319.48 Q2324.54 1326.58 2326.35 1330.15 Q2328.18 1333.69 2331.79 1333.69 Q2335.42 1333.69 2337.23 1330.15 Q2339.06 1326.58 2339.06 1319.48 Q2339.06 1312.35 2337.23 1308.81 Q2335.42 1305.24 2331.79 1305.24 M2331.79 1301.54 Q2337.6 1301.54 2340.65 1306.15 Q2343.73 1310.73 2343.73 1319.48 Q2343.73 1328.21 2340.65 1332.81 Q2337.6 1337.39 2331.79 1337.39 Q2325.98 1337.39 2322.9 1332.81 Q2319.84 1328.21 2319.84 1319.48 Q2319.84 1310.73 2322.9 1306.15 Q2325.98 1301.54 2331.79 1301.54 Z\" fill=\"#000000\" fill-rule=\"evenodd\" fill-opacity=\"1\" /><path clip-path=\"url(#clip8000)\" d=\"M 0 0 M2358.8 1305.24 Q2355.19 1305.24 2353.36 1308.81 Q2351.56 1312.35 2351.56 1319.48 Q2351.56 1326.58 2353.36 1330.15 Q2355.19 1333.69 2358.8 1333.69 Q2362.44 1333.69 2364.24 1330.15 Q2366.07 1326.58 2366.07 1319.48 Q2366.07 1312.35 2364.24 1308.81 Q2362.44 1305.24 2358.8 1305.24 M2358.8 1301.54 Q2364.61 1301.54 2367.67 1306.15 Q2370.75 1310.73 2370.75 1319.48 Q2370.75 1328.21 2367.67 1332.81 Q2364.61 1337.39 2358.8 1337.39 Q2352.99 1337.39 2349.91 1332.81 Q2346.86 1328.21 2346.86 1319.48 Q2346.86 1310.73 2349.91 1306.15 Q2352.99 1301.54 2358.8 1301.54 Z\" fill=\"#000000\" fill-rule=\"evenodd\" fill-opacity=\"1\" /><path clip-path=\"url(#clip8000)\" d=\"M 0 0 M2270.21 1138.77 L2288.57 1138.77 L2288.57 1142.71 L2274.5 1142.71 L2274.5 1151.18 Q2275.52 1150.83 2276.53 1150.67 Q2277.55 1150.49 2278.57 1150.49 Q2284.36 1150.49 2287.74 1153.66 Q2291.12 1156.83 2291.12 1162.25 Q2291.12 1167.83 2287.64 1170.93 Q2284.17 1174.01 2277.85 1174.01 Q2275.68 1174.01 2273.41 1173.64 Q2271.16 1173.26 2268.76 1172.52 L2268.76 1167.83 Q2270.84 1168.96 2273.06 1169.51 Q2275.28 1170.07 2277.76 1170.07 Q2281.77 1170.07 2284.1 1167.96 Q2286.44 1165.86 2286.44 1162.25 Q2286.44 1158.64 2284.1 1156.53 Q2281.77 1154.42 2277.76 1154.42 Q2275.89 1154.42 2274.01 1154.84 Q2272.16 1155.26 2270.21 1156.14 L2270.21 1138.77 Z\" fill=\"#000000\" fill-rule=\"evenodd\" fill-opacity=\"1\" /><path clip-path=\"url(#clip8000)\" d=\"M 0 0 M2306.19 1141.85 Q2302.58 1141.85 2300.75 1145.42 Q2298.94 1148.96 2298.94 1156.09 Q2298.94 1163.2 2300.75 1166.76 Q2302.58 1170.3 2306.19 1170.3 Q2309.82 1170.3 2311.63 1166.76 Q2313.45 1163.2 2313.45 1156.09 Q2313.45 1148.96 2311.63 1145.42 Q2309.82 1141.85 2306.19 1141.85 M2306.19 1138.15 Q2312 1138.15 2315.05 1142.76 Q2318.13 1147.34 2318.13 1156.09 Q2318.13 1164.82 2315.05 1169.42 Q2312 1174.01 2306.19 1174.01 Q2300.38 1174.01 2297.3 1169.42 Q2294.24 1164.82 2294.24 1156.09 Q2294.24 1147.34 2297.3 1142.76 Q2300.38 1138.15 2306.19 1138.15 Z\" fill=\"#000000\" fill-rule=\"evenodd\" fill-opacity=\"1\" /><path clip-path=\"url(#clip8000)\" d=\"M 0 0 M2333.2 1141.85 Q2329.59 1141.85 2327.76 1145.42 Q2325.95 1148.96 2325.95 1156.09 Q2325.95 1163.2 2327.76 1166.76 Q2329.59 1170.3 2333.2 1170.3 Q2336.83 1170.3 2338.64 1166.76 Q2340.47 1163.2 2340.47 1156.09 Q2340.47 1148.96 2338.64 1145.42 Q2336.83 1141.85 2333.2 1141.85 M2333.2 1138.15 Q2339.01 1138.15 2342.07 1142.76 Q2345.14 1147.34 2345.14 1156.09 Q2345.14 1164.82 2342.07 1169.42 Q2339.01 1174.01 2333.2 1174.01 Q2327.39 1174.01 2324.31 1169.42 Q2321.26 1164.82 2321.26 1156.09 Q2321.26 1147.34 2324.31 1142.76 Q2327.39 1138.15 2333.2 1138.15 Z\" fill=\"#000000\" fill-rule=\"evenodd\" fill-opacity=\"1\" /><path clip-path=\"url(#clip8000)\" d=\"M 0 0 M2360.21 1141.85 Q2356.6 1141.85 2354.77 1145.42 Q2352.97 1148.96 2352.97 1156.09 Q2352.97 1163.2 2354.77 1166.76 Q2356.6 1170.3 2360.21 1170.3 Q2363.85 1170.3 2365.65 1166.76 Q2367.48 1163.2 2367.48 1156.09 Q2367.48 1148.96 2365.65 1145.42 Q2363.85 1141.85 2360.21 1141.85 M2360.21 1138.15 Q2366.02 1138.15 2369.08 1142.76 Q2372.16 1147.34 2372.16 1156.09 Q2372.16 1164.82 2369.08 1169.42 Q2366.02 1174.01 2360.21 1174.01 Q2354.4 1174.01 2351.32 1169.42 Q2348.27 1164.82 2348.27 1156.09 Q2348.27 1147.34 2351.32 1142.76 Q2354.4 1138.15 2360.21 1138.15 Z\" fill=\"#000000\" fill-rule=\"evenodd\" fill-opacity=\"1\" /><path clip-path=\"url(#clip8000)\" d=\"M 0 0 M2268.76 975.385 L2290.98 975.385 L2290.98 977.376 L2278.43 1009.94 L2273.55 1009.94 L2285.35 979.32 L2268.76 979.32 L2268.76 975.385 Z\" fill=\"#000000\" fill-rule=\"evenodd\" fill-opacity=\"1\" /><path clip-path=\"url(#clip8000)\" d=\"M 0 0 M2296.09 975.385 L2314.45 975.385 L2314.45 979.32 L2300.38 979.32 L2300.38 987.792 Q2301.39 987.445 2302.41 987.283 Q2303.43 987.098 2304.45 987.098 Q2310.24 987.098 2313.62 990.269 Q2317 993.44 2317 998.857 Q2317 1004.44 2313.52 1007.54 Q2310.05 1010.62 2303.73 1010.62 Q2301.56 1010.62 2299.29 1010.25 Q2297.04 1009.88 2294.64 1009.13 L2294.64 1004.44 Q2296.72 1005.57 2298.94 1006.13 Q2301.16 1006.68 2303.64 1006.68 Q2307.64 1006.68 2309.98 1004.57 Q2312.32 1002.47 2312.32 998.857 Q2312.32 995.246 2309.98 993.14 Q2307.64 991.033 2303.64 991.033 Q2301.76 991.033 2299.89 991.45 Q2298.04 991.866 2296.09 992.746 L2296.09 975.385 Z\" fill=\"#000000\" fill-rule=\"evenodd\" fill-opacity=\"1\" /><path clip-path=\"url(#clip8000)\" d=\"M 0 0 M2332.07 978.464 Q2328.45 978.464 2326.63 982.028 Q2324.82 985.57 2324.82 992.7 Q2324.82 999.806 2326.63 1003.37 Q2328.45 1006.91 2332.07 1006.91 Q2335.7 1006.91 2337.51 1003.37 Q2339.33 999.806 2339.33 992.7 Q2339.33 985.57 2337.51 982.028 Q2335.7 978.464 2332.07 978.464 M2332.07 974.76 Q2337.88 974.76 2340.93 979.366 Q2344.01 983.95 2344.01 992.7 Q2344.01 1001.43 2340.93 1006.03 Q2337.88 1010.62 2332.07 1010.62 Q2326.26 1010.62 2323.18 1006.03 Q2320.12 1001.43 2320.12 992.7 Q2320.12 983.95 2323.18 979.366 Q2326.26 974.76 2332.07 974.76 Z\" fill=\"#000000\" fill-rule=\"evenodd\" fill-opacity=\"1\" /><path clip-path=\"url(#clip8000)\" d=\"M 0 0 M2359.08 978.464 Q2355.47 978.464 2353.64 982.028 Q2351.83 985.57 2351.83 992.7 Q2351.83 999.806 2353.64 1003.37 Q2355.47 1006.91 2359.08 1006.91 Q2362.71 1006.91 2364.52 1003.37 Q2366.35 999.806 2366.35 992.7 Q2366.35 985.57 2364.52 982.028 Q2362.71 978.464 2359.08 978.464 M2359.08 974.76 Q2364.89 974.76 2367.95 979.366 Q2371.02 983.95 2371.02 992.7 Q2371.02 1001.43 2367.95 1006.03 Q2364.89 1010.62 2359.08 1010.62 Q2353.27 1010.62 2350.19 1006.03 Q2347.14 1001.43 2347.14 992.7 Q2347.14 983.95 2350.19 979.366 Q2353.27 974.76 2359.08 974.76 Z\" fill=\"#000000\" fill-rule=\"evenodd\" fill-opacity=\"1\" /><path clip-path=\"url(#clip8000)\" d=\"M 0 0 M2269.43 842.621 L2277.07 842.621 L2277.07 816.255 L2268.76 817.922 L2268.76 813.662 L2277.02 811.996 L2281.7 811.996 L2281.7 842.621 L2289.33 842.621 L2289.33 846.556 L2269.43 846.556 L2269.43 842.621 Z\" fill=\"#000000\" fill-rule=\"evenodd\" fill-opacity=\"1\" /><path clip-path=\"url(#clip8000)\" d=\"M 0 0 M2304.4 815.074 Q2300.79 815.074 2298.96 818.639 Q2297.16 822.181 2297.16 829.31 Q2297.16 836.417 2298.96 839.982 Q2300.79 843.523 2304.4 843.523 Q2308.04 843.523 2309.84 839.982 Q2311.67 836.417 2311.67 829.31 Q2311.67 822.181 2309.84 818.639 Q2308.04 815.074 2304.4 815.074 M2304.4 811.371 Q2310.21 811.371 2313.27 815.977 Q2316.35 820.56 2316.35 829.31 Q2316.35 838.037 2313.27 842.644 Q2310.21 847.227 2304.4 847.227 Q2298.59 847.227 2295.52 842.644 Q2292.46 838.037 2292.46 829.31 Q2292.46 820.56 2295.52 815.977 Q2298.59 811.371 2304.4 811.371 Z\" fill=\"#000000\" fill-rule=\"evenodd\" fill-opacity=\"1\" /><path clip-path=\"url(#clip8000)\" d=\"M 0 0 M2331.42 815.074 Q2327.81 815.074 2325.98 818.639 Q2324.17 822.181 2324.17 829.31 Q2324.17 836.417 2325.98 839.982 Q2327.81 843.523 2331.42 843.523 Q2335.05 843.523 2336.86 839.982 Q2338.69 836.417 2338.69 829.31 Q2338.69 822.181 2336.86 818.639 Q2335.05 815.074 2331.42 815.074 M2331.42 811.371 Q2337.23 811.371 2340.28 815.977 Q2343.36 820.56 2343.36 829.31 Q2343.36 838.037 2340.28 842.644 Q2337.23 847.227 2331.42 847.227 Q2325.61 847.227 2322.53 842.644 Q2319.47 838.037 2319.47 829.31 Q2319.47 820.56 2322.53 815.977 Q2325.61 811.371 2331.42 811.371 Z\" fill=\"#000000\" fill-rule=\"evenodd\" fill-opacity=\"1\" /><path clip-path=\"url(#clip8000)\" d=\"M 0 0 M2358.43 815.074 Q2354.82 815.074 2352.99 818.639 Q2351.19 822.181 2351.19 829.31 Q2351.19 836.417 2352.99 839.982 Q2354.82 843.523 2358.43 843.523 Q2362.07 843.523 2363.87 839.982 Q2365.7 836.417 2365.7 829.31 Q2365.7 822.181 2363.87 818.639 Q2362.07 815.074 2358.43 815.074 M2358.43 811.371 Q2364.24 811.371 2367.3 815.977 Q2370.38 820.56 2370.38 829.31 Q2370.38 838.037 2367.3 842.644 Q2364.24 847.227 2358.43 847.227 Q2352.62 847.227 2349.54 842.644 Q2346.49 838.037 2346.49 829.31 Q2346.49 820.56 2349.54 815.977 Q2352.62 811.371 2358.43 811.371 Z\" fill=\"#000000\" fill-rule=\"evenodd\" fill-opacity=\"1\" /><path clip-path=\"url(#clip8000)\" d=\"M 0 0 M2385.45 815.074 Q2381.83 815.074 2380.01 818.639 Q2378.2 822.181 2378.2 829.31 Q2378.2 836.417 2380.01 839.982 Q2381.83 843.523 2385.45 843.523 Q2389.08 843.523 2390.88 839.982 Q2392.71 836.417 2392.71 829.31 Q2392.71 822.181 2390.88 818.639 Q2389.08 815.074 2385.45 815.074 M2385.45 811.371 Q2391.26 811.371 2394.31 815.977 Q2397.39 820.56 2397.39 829.31 Q2397.39 838.037 2394.31 842.644 Q2391.26 847.227 2385.45 847.227 Q2379.63 847.227 2376.56 842.644 Q2373.5 838.037 2373.5 829.31 Q2373.5 820.56 2376.56 815.977 Q2379.63 811.371 2385.45 811.371 Z\" fill=\"#000000\" fill-rule=\"evenodd\" fill-opacity=\"1\" /><path clip-path=\"url(#clip8000)\" d=\"M 0 0 M2269.43 679.231 L2277.07 679.231 L2277.07 652.866 L2268.76 654.532 L2268.76 650.273 L2277.02 648.606 L2281.7 648.606 L2281.7 679.231 L2289.33 679.231 L2289.33 683.166 L2269.43 683.166 L2269.43 679.231 Z\" fill=\"#000000\" fill-rule=\"evenodd\" fill-opacity=\"1\" /><path clip-path=\"url(#clip8000)\" d=\"M 0 0 M2298.43 679.231 L2314.75 679.231 L2314.75 683.166 L2292.81 683.166 L2292.81 679.231 Q2295.47 676.477 2300.05 671.847 Q2304.66 667.194 2305.84 665.852 Q2308.08 663.329 2308.96 661.592 Q2309.87 659.833 2309.87 658.143 Q2309.87 655.389 2307.92 653.653 Q2306 651.917 2302.9 651.917 Q2300.7 651.917 2298.25 652.68 Q2295.82 653.444 2293.04 654.995 L2293.04 650.273 Q2295.86 649.139 2298.32 648.56 Q2300.77 647.981 2302.81 647.981 Q2308.18 647.981 2311.37 650.667 Q2314.57 653.352 2314.57 657.842 Q2314.57 659.972 2313.76 661.893 Q2312.97 663.792 2310.86 666.384 Q2310.28 667.055 2307.18 670.273 Q2304.08 673.467 2298.43 679.231 Z\" fill=\"#000000\" fill-rule=\"evenodd\" fill-opacity=\"1\" /><path clip-path=\"url(#clip8000)\" d=\"M 0 0 M2319.87 648.606 L2338.22 648.606 L2338.22 652.542 L2324.15 652.542 L2324.15 661.014 Q2325.17 660.667 2326.19 660.505 Q2327.2 660.319 2328.22 660.319 Q2334.01 660.319 2337.39 663.491 Q2340.77 666.662 2340.77 672.079 Q2340.77 677.657 2337.3 680.759 Q2333.83 683.838 2327.51 683.838 Q2325.33 683.838 2323.06 683.467 Q2320.82 683.097 2318.41 682.356 L2318.41 677.657 Q2320.49 678.791 2322.71 679.347 Q2324.94 679.903 2327.41 679.903 Q2331.42 679.903 2333.76 677.796 Q2336.09 675.69 2336.09 672.079 Q2336.09 668.467 2333.76 666.361 Q2331.42 664.254 2327.41 664.254 Q2325.54 664.254 2323.66 664.671 Q2321.81 665.088 2319.87 665.967 L2319.87 648.606 Z\" fill=\"#000000\" fill-rule=\"evenodd\" fill-opacity=\"1\" /><path clip-path=\"url(#clip8000)\" d=\"M 0 0 M2355.84 651.685 Q2352.23 651.685 2350.4 655.25 Q2348.59 658.792 2348.59 665.921 Q2348.59 673.028 2350.4 676.592 Q2352.23 680.134 2355.84 680.134 Q2359.47 680.134 2361.28 676.592 Q2363.11 673.028 2363.11 665.921 Q2363.11 658.792 2361.28 655.25 Q2359.47 651.685 2355.84 651.685 M2355.84 647.981 Q2361.65 647.981 2364.7 652.588 Q2367.78 657.171 2367.78 665.921 Q2367.78 674.648 2364.7 679.254 Q2361.65 683.838 2355.84 683.838 Q2350.03 683.838 2346.95 679.254 Q2343.89 674.648 2343.89 665.921 Q2343.89 657.171 2346.95 652.588 Q2350.03 647.981 2355.84 647.981 Z\" fill=\"#000000\" fill-rule=\"evenodd\" fill-opacity=\"1\" /><path clip-path=\"url(#clip8000)\" d=\"M 0 0 M2382.85 651.685 Q2379.24 651.685 2377.41 655.25 Q2375.61 658.792 2375.61 665.921 Q2375.61 673.028 2377.41 676.592 Q2379.24 680.134 2382.85 680.134 Q2386.49 680.134 2388.29 676.592 Q2390.12 673.028 2390.12 665.921 Q2390.12 658.792 2388.29 655.25 Q2386.49 651.685 2382.85 651.685 M2382.85 647.981 Q2388.66 647.981 2391.72 652.588 Q2394.8 657.171 2394.8 665.921 Q2394.8 674.648 2391.72 679.254 Q2388.66 683.838 2382.85 683.838 Q2377.04 683.838 2373.96 679.254 Q2370.91 674.648 2370.91 665.921 Q2370.91 657.171 2373.96 652.588 Q2377.04 647.981 2382.85 647.981 Z\" fill=\"#000000\" fill-rule=\"evenodd\" fill-opacity=\"1\" /><path clip-path=\"url(#clip8000)\" d=\"M 0 0 M2269.43 515.842 L2277.07 515.842 L2277.07 489.476 L2268.76 491.143 L2268.76 486.884 L2277.02 485.217 L2281.7 485.217 L2281.7 515.842 L2289.33 515.842 L2289.33 519.777 L2269.43 519.777 L2269.43 515.842 Z\" fill=\"#000000\" fill-rule=\"evenodd\" fill-opacity=\"1\" /><path clip-path=\"url(#clip8000)\" d=\"M 0 0 M2294.45 485.217 L2312.81 485.217 L2312.81 489.152 L2298.73 489.152 L2298.73 497.624 Q2299.75 497.277 2300.77 497.115 Q2301.79 496.93 2302.81 496.93 Q2308.59 496.93 2311.97 500.101 Q2315.35 503.273 2315.35 508.689 Q2315.35 514.268 2311.88 517.37 Q2308.41 520.448 2302.09 520.448 Q2299.91 520.448 2297.64 520.078 Q2295.4 519.708 2292.99 518.967 L2292.99 514.268 Q2295.08 515.402 2297.3 515.958 Q2299.52 516.513 2302 516.513 Q2306 516.513 2308.34 514.407 Q2310.68 512.3 2310.68 508.689 Q2310.68 505.078 2308.34 502.972 Q2306 500.865 2302 500.865 Q2300.12 500.865 2298.25 501.282 Q2296.39 501.699 2294.45 502.578 L2294.45 485.217 Z\" fill=\"#000000\" fill-rule=\"evenodd\" fill-opacity=\"1\" /><path clip-path=\"url(#clip8000)\" d=\"M 0 0 M2330.42 488.296 Q2326.81 488.296 2324.98 491.861 Q2323.18 495.402 2323.18 502.532 Q2323.18 509.638 2324.98 513.203 Q2326.81 516.745 2330.42 516.745 Q2334.06 516.745 2335.86 513.203 Q2337.69 509.638 2337.69 502.532 Q2337.69 495.402 2335.86 491.861 Q2334.06 488.296 2330.42 488.296 M2330.42 484.592 Q2336.23 484.592 2339.29 489.199 Q2342.37 493.782 2342.37 502.532 Q2342.37 511.259 2339.29 515.865 Q2336.23 520.448 2330.42 520.448 Q2324.61 520.448 2321.53 515.865 Q2318.48 511.259 2318.48 502.532 Q2318.48 493.782 2321.53 489.199 Q2324.61 484.592 2330.42 484.592 Z\" fill=\"#000000\" fill-rule=\"evenodd\" fill-opacity=\"1\" /><path clip-path=\"url(#clip8000)\" d=\"M 0 0 M2357.44 488.296 Q2353.82 488.296 2352 491.861 Q2350.19 495.402 2350.19 502.532 Q2350.19 509.638 2352 513.203 Q2353.82 516.745 2357.44 516.745 Q2361.07 516.745 2362.88 513.203 Q2364.7 509.638 2364.7 502.532 Q2364.7 495.402 2362.88 491.861 Q2361.07 488.296 2357.44 488.296 M2357.44 484.592 Q2363.25 484.592 2366.3 489.199 Q2369.38 493.782 2369.38 502.532 Q2369.38 511.259 2366.3 515.865 Q2363.25 520.448 2357.44 520.448 Q2351.63 520.448 2348.55 515.865 Q2345.49 511.259 2345.49 502.532 Q2345.49 493.782 2348.55 489.199 Q2351.63 484.592 2357.44 484.592 Z\" fill=\"#000000\" fill-rule=\"evenodd\" fill-opacity=\"1\" /><path clip-path=\"url(#clip8000)\" d=\"M 0 0 M2384.45 488.296 Q2380.84 488.296 2379.01 491.861 Q2377.2 495.402 2377.2 502.532 Q2377.2 509.638 2379.01 513.203 Q2380.84 516.745 2384.45 516.745 Q2388.08 516.745 2389.89 513.203 Q2391.72 509.638 2391.72 502.532 Q2391.72 495.402 2389.89 491.861 Q2388.08 488.296 2384.45 488.296 M2384.45 484.592 Q2390.26 484.592 2393.32 489.199 Q2396.39 493.782 2396.39 502.532 Q2396.39 511.259 2393.32 515.865 Q2390.26 520.448 2384.45 520.448 Q2378.64 520.448 2375.56 515.865 Q2372.51 511.259 2372.51 502.532 Q2372.51 493.782 2375.56 489.199 Q2378.64 484.592 2384.45 484.592 Z\" fill=\"#000000\" fill-rule=\"evenodd\" fill-opacity=\"1\" /><path clip-path=\"url(#clip8000)\" d=\"M 0 0 M2269.43 352.453 L2277.07 352.453 L2277.07 326.087 L2268.76 327.754 L2268.76 323.495 L2277.02 321.828 L2281.7 321.828 L2281.7 352.453 L2289.33 352.453 L2289.33 356.388 L2269.43 356.388 L2269.43 352.453 Z\" fill=\"#000000\" fill-rule=\"evenodd\" fill-opacity=\"1\" /><path clip-path=\"url(#clip8000)\" d=\"M 0 0 M2293.22 321.828 L2315.45 321.828 L2315.45 323.819 L2302.9 356.388 L2298.02 356.388 L2309.82 325.763 L2293.22 325.763 L2293.22 321.828 Z\" fill=\"#000000\" fill-rule=\"evenodd\" fill-opacity=\"1\" /><path clip-path=\"url(#clip8000)\" d=\"M 0 0 M2320.56 321.828 L2338.92 321.828 L2338.92 325.763 L2324.84 325.763 L2324.84 334.235 Q2325.86 333.888 2326.88 333.726 Q2327.9 333.541 2328.92 333.541 Q2334.7 333.541 2338.08 336.712 Q2341.46 339.883 2341.46 345.3 Q2341.46 350.879 2337.99 353.98 Q2334.52 357.059 2328.2 357.059 Q2326.02 357.059 2323.76 356.689 Q2321.51 356.318 2319.1 355.578 L2319.1 350.879 Q2321.19 352.013 2323.41 352.568 Q2325.63 353.124 2328.11 353.124 Q2332.11 353.124 2334.45 351.018 Q2336.79 348.911 2336.79 345.3 Q2336.79 341.689 2334.45 339.582 Q2332.11 337.476 2328.11 337.476 Q2326.23 337.476 2324.36 337.893 Q2322.51 338.309 2320.56 339.189 L2320.56 321.828 Z\" fill=\"#000000\" fill-rule=\"evenodd\" fill-opacity=\"1\" /><path clip-path=\"url(#clip8000)\" d=\"M 0 0 M2356.53 324.907 Q2352.92 324.907 2351.09 328.471 Q2349.29 332.013 2349.29 339.143 Q2349.29 346.249 2351.09 349.814 Q2352.92 353.355 2356.53 353.355 Q2360.17 353.355 2361.97 349.814 Q2363.8 346.249 2363.8 339.143 Q2363.8 332.013 2361.97 328.471 Q2360.17 324.907 2356.53 324.907 M2356.53 321.203 Q2362.34 321.203 2365.4 325.809 Q2368.48 330.393 2368.48 339.143 Q2368.48 347.869 2365.4 352.476 Q2362.34 357.059 2356.53 357.059 Q2350.72 357.059 2347.64 352.476 Q2344.59 347.869 2344.59 339.143 Q2344.59 330.393 2347.64 325.809 Q2350.72 321.203 2356.53 321.203 Z\" fill=\"#000000\" fill-rule=\"evenodd\" fill-opacity=\"1\" /><path clip-path=\"url(#clip8000)\" d=\"M 0 0 M2383.55 324.907 Q2379.94 324.907 2378.11 328.471 Q2376.3 332.013 2376.3 339.143 Q2376.3 346.249 2378.11 349.814 Q2379.94 353.355 2383.55 353.355 Q2387.18 353.355 2388.99 349.814 Q2390.82 346.249 2390.82 339.143 Q2390.82 332.013 2388.99 328.471 Q2387.18 324.907 2383.55 324.907 M2383.55 321.203 Q2389.36 321.203 2392.41 325.809 Q2395.49 330.393 2395.49 339.143 Q2395.49 347.869 2392.41 352.476 Q2389.36 357.059 2383.55 357.059 Q2377.74 357.059 2374.66 352.476 Q2371.6 347.869 2371.6 339.143 Q2371.6 330.393 2374.66 325.809 Q2377.74 321.203 2383.55 321.203 Z\" fill=\"#000000\" fill-rule=\"evenodd\" fill-opacity=\"1\" /><path clip-path=\"url(#clip8000)\" d=\"M 0 0 M2274.38 189.063 L2290.7 189.063 L2290.7 192.999 L2268.76 192.999 L2268.76 189.063 Q2271.42 186.309 2276 181.679 Q2280.61 177.026 2281.79 175.684 Q2284.03 173.161 2284.91 171.425 Q2285.82 169.665 2285.82 167.976 Q2285.82 165.221 2283.87 163.485 Q2281.95 161.749 2278.85 161.749 Q2276.65 161.749 2274.2 162.513 Q2271.77 163.277 2268.99 164.827 L2268.99 160.105 Q2271.81 158.971 2274.27 158.392 Q2276.72 157.814 2278.76 157.814 Q2284.13 157.814 2287.32 160.499 Q2290.52 163.184 2290.52 167.675 Q2290.52 169.804 2289.7 171.726 Q2288.92 173.624 2286.81 176.216 Q2286.23 176.888 2283.13 180.105 Q2280.03 183.3 2274.38 189.063 Z\" fill=\"#000000\" fill-rule=\"evenodd\" fill-opacity=\"1\" /><path clip-path=\"url(#clip8000)\" d=\"M 0 0 M2305.77 161.517 Q2302.16 161.517 2300.33 165.082 Q2298.52 168.624 2298.52 175.753 Q2298.52 182.86 2300.33 186.425 Q2302.16 189.966 2305.77 189.966 Q2309.4 189.966 2311.21 186.425 Q2313.04 182.86 2313.04 175.753 Q2313.04 168.624 2311.21 165.082 Q2309.4 161.517 2305.77 161.517 M2305.77 157.814 Q2311.58 157.814 2314.64 162.42 Q2317.71 167.003 2317.71 175.753 Q2317.71 184.48 2314.64 189.087 Q2311.58 193.67 2305.77 193.67 Q2299.96 193.67 2296.88 189.087 Q2293.83 184.48 2293.83 175.753 Q2293.83 167.003 2296.88 162.42 Q2299.96 157.814 2305.77 157.814 Z\" fill=\"#000000\" fill-rule=\"evenodd\" fill-opacity=\"1\" /><path clip-path=\"url(#clip8000)\" d=\"M 0 0 M2332.78 161.517 Q2329.17 161.517 2327.34 165.082 Q2325.54 168.624 2325.54 175.753 Q2325.54 182.86 2327.34 186.425 Q2329.17 189.966 2332.78 189.966 Q2336.42 189.966 2338.22 186.425 Q2340.05 182.86 2340.05 175.753 Q2340.05 168.624 2338.22 165.082 Q2336.42 161.517 2332.78 161.517 M2332.78 157.814 Q2338.59 157.814 2341.65 162.42 Q2344.73 167.003 2344.73 175.753 Q2344.73 184.48 2341.65 189.087 Q2338.59 193.67 2332.78 193.67 Q2326.97 193.67 2323.89 189.087 Q2320.84 184.48 2320.84 175.753 Q2320.84 167.003 2323.89 162.42 Q2326.97 157.814 2332.78 157.814 Z\" fill=\"#000000\" fill-rule=\"evenodd\" fill-opacity=\"1\" /><path clip-path=\"url(#clip8000)\" d=\"M 0 0 M2359.8 161.517 Q2356.19 161.517 2354.36 165.082 Q2352.55 168.624 2352.55 175.753 Q2352.55 182.86 2354.36 186.425 Q2356.19 189.966 2359.8 189.966 Q2363.43 189.966 2365.24 186.425 Q2367.07 182.86 2367.07 175.753 Q2367.07 168.624 2365.24 165.082 Q2363.43 161.517 2359.8 161.517 M2359.8 157.814 Q2365.61 157.814 2368.66 162.42 Q2371.74 167.003 2371.74 175.753 Q2371.74 184.48 2368.66 189.087 Q2365.61 193.67 2359.8 193.67 Q2353.99 193.67 2350.91 189.087 Q2347.85 184.48 2347.85 175.753 Q2347.85 167.003 2350.91 162.42 Q2353.99 157.814 2359.8 157.814 Z\" fill=\"#000000\" fill-rule=\"evenodd\" fill-opacity=\"1\" /><path clip-path=\"url(#clip8000)\" d=\"M 0 0 M2386.81 161.517 Q2383.2 161.517 2381.37 165.082 Q2379.57 168.624 2379.57 175.753 Q2379.57 182.86 2381.37 186.425 Q2383.2 189.966 2386.81 189.966 Q2390.45 189.966 2392.25 186.425 Q2394.08 182.86 2394.08 175.753 Q2394.08 168.624 2392.25 165.082 Q2390.45 161.517 2386.81 161.517 M2386.81 157.814 Q2392.62 157.814 2395.68 162.42 Q2398.76 167.003 2398.76 175.753 Q2398.76 184.48 2395.68 189.087 Q2392.62 193.67 2386.81 193.67 Q2381 193.67 2377.92 189.087 Q2374.87 184.48 2374.87 175.753 Q2374.87 167.003 2377.92 162.42 Q2381 157.814 2386.81 157.814 Z\" fill=\"#000000\" fill-rule=\"evenodd\" fill-opacity=\"1\" /><polyline clip-path=\"url(#clip8000)\" style=\"stroke:#000000; stroke-width:4; stroke-opacity:1; fill:none\" points=\"\n",
       "  2232.76,1486.45 2232.76,1323.07 2256.76,1323.07 2232.76,1323.07 2232.76,1159.68 2256.76,1159.68 2232.76,1159.68 2232.76,996.294 2256.76,996.294 2232.76,996.294 \n",
       "  2232.76,832.905 2256.76,832.905 2232.76,832.905 2232.76,669.515 2256.76,669.515 2232.76,669.515 2232.76,506.126 2256.76,506.126 2232.76,506.126 2232.76,342.737 \n",
       "  2256.76,342.737 2232.76,342.737 2232.76,179.347 2256.76,179.347 2232.76,179.347 2232.76,47.2441 \n",
       "  \"/>\n",
       "</svg>\n"
      ]
     },
     "execution_count": 143,
     "metadata": {},
     "output_type": "execute_result"
    }
   ],
   "source": [
    "heatmap2 = heatmap(measures, odds, utilities_grid, yaxis = :log10, xaxis = :log10)"
   ]
  },
  {
   "cell_type": "code",
   "execution_count": null,
   "metadata": {},
   "outputs": [],
   "source": []
  },
  {
   "cell_type": "code",
   "execution_count": null,
   "metadata": {},
   "outputs": [],
   "source": []
  }
 ],
 "metadata": {
  "kernelspec": {
   "display_name": "Julia 1.5.3",
   "language": "julia",
   "name": "julia-1.5"
  },
  "language_info": {
   "file_extension": ".jl",
   "mimetype": "application/julia",
   "name": "julia",
   "version": "1.5.3"
  }
 },
 "nbformat": 4,
 "nbformat_minor": 4
}

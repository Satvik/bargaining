{
 "cells": [
  {
   "cell_type": "code",
   "execution_count": 1,
   "metadata": {},
   "outputs": [],
   "source": [
    "using DataFrames\n",
    "using Underscores"
   ]
  },
  {
   "cell_type": "code",
   "execution_count": 2,
   "metadata": {},
   "outputs": [],
   "source": [
    "using Pkg\n",
    "using Chain"
   ]
  },
  {
   "cell_type": "code",
   "execution_count": 24,
   "metadata": {},
   "outputs": [
    {
     "data": {
      "text/plain": [
       "Plots.GRBackend()"
      ]
     },
     "execution_count": 24,
     "metadata": {},
     "output_type": "execute_result"
    }
   ],
   "source": [
    "using Plots\n",
    "gr()"
   ]
  },
  {
   "cell_type": "code",
   "execution_count": 25,
   "metadata": {},
   "outputs": [],
   "source": [
    "abstract type Team end\n",
    "struct Aligned <: Team end\n",
    "struct Unaligned <: Team end"
   ]
  },
  {
   "cell_type": "code",
   "execution_count": 26,
   "metadata": {},
   "outputs": [
    {
     "data": {
      "text/plain": [
       "Unaligned()"
      ]
     },
     "execution_count": 26,
     "metadata": {},
     "output_type": "execute_result"
    }
   ],
   "source": [
    "aligned = Aligned()\n",
    "unaligned = Unaligned()"
   ]
  },
  {
   "cell_type": "code",
   "execution_count": 27,
   "metadata": {},
   "outputs": [
    {
     "data": {
      "text/plain": [
       "2"
      ]
     },
     "execution_count": 27,
     "metadata": {},
     "output_type": "execute_result"
    }
   ],
   "source": [
    "world1 = 1\n",
    "world2 = 2"
   ]
  },
  {
   "cell_type": "code",
   "execution_count": 28,
   "metadata": {},
   "outputs": [
    {
     "data": {
      "text/plain": [
       "2-element Array{Int64,1}:\n",
       " 1\n",
       " 2"
      ]
     },
     "execution_count": 28,
     "metadata": {},
     "output_type": "execute_result"
    }
   ],
   "source": [
    "worlds = [world1, world2]"
   ]
  },
  {
   "cell_type": "code",
   "execution_count": 29,
   "metadata": {},
   "outputs": [
    {
     "data": {
      "text/plain": [
       "2-element Array{Team,1}:\n",
       " Aligned()\n",
       " Unaligned()"
      ]
     },
     "execution_count": 29,
     "metadata": {},
     "output_type": "execute_result"
    }
   ],
   "source": [
    "teams = [aligned, unaligned]"
   ]
  },
  {
   "cell_type": "code",
   "execution_count": 30,
   "metadata": {},
   "outputs": [
    {
     "data": {
      "text/plain": [
       "make_rows (generic function with 1 method)"
      ]
     },
     "execution_count": 30,
     "metadata": {},
     "output_type": "execute_result"
    }
   ],
   "source": [
    "function make_rows(teams, worlds, aligned_measure, starting_resources)\n",
    "    rows = []\n",
    "    for i in eachindex(teams), j in eachindex(worlds)\n",
    "        team = teams[i]\n",
    "        world = worlds[j]\n",
    "        if team == aligned\n",
    "            measure = aligned_measure\n",
    "        else\n",
    "            measure = 1.0\n",
    "        end\n",
    "        if i == j\n",
    "            resource = starting_resources\n",
    "        else\n",
    "            resource = 0.0\n",
    "        end\n",
    "        \n",
    "        row = (team = team, world = world, measure = measure, resource = resource)\n",
    "        push!(rows, row)\n",
    "    end\n",
    "    return rows\n",
    "end\n",
    "                \n"
   ]
  },
  {
   "cell_type": "code",
   "execution_count": 42,
   "metadata": {},
   "outputs": [
    {
     "data": {
      "text/plain": [
       "get_utility (generic function with 1 method)"
      ]
     },
     "execution_count": 42,
     "metadata": {},
     "output_type": "execute_result"
    }
   ],
   "source": [
    "function get_utility(data; resource_col = \"resource\")\n",
    "    return data.measure .* log10.(data[!, resource_col] .+ 1.0)\n",
    "end"
   ]
  },
  {
   "cell_type": "code",
   "execution_count": 43,
   "metadata": {},
   "outputs": [
    {
     "data": {
      "text/plain": [
       "equal_split_bargaining_strategy (generic function with 1 method)"
      ]
     },
     "execution_count": 43,
     "metadata": {},
     "output_type": "execute_result"
    }
   ],
   "source": [
    "function equal_split_bargaining_strategy(data)\n",
    "    # A simple bargaining strategy where we assume a successful negotiation\n",
    "    # results in splitting resources evenly across each world. \n",
    "    resources_df = @chain data begin\n",
    "    groupby(_, :world)\n",
    "    combine(_, :resource => sum)\n",
    "    end\n",
    "    \n",
    "    num_teams = length(unique(data.team))\n",
    "    resources_df.resource_sum /= 2\n",
    "    rename!(resources_df, (\"resource_sum\" => \"bargain_resource\")) \n",
    "    return innerjoin(data, resources_df, on=:world)\n",
    "end\n",
    "    \n",
    "    \n",
    "    \n",
    "    \n",
    "   "
   ]
  },
  {
   "cell_type": "code",
   "execution_count": 44,
   "metadata": {},
   "outputs": [
    {
     "data": {
      "text/plain": [
       "standard_failure (generic function with 1 method)"
      ]
     },
     "execution_count": 44,
     "metadata": {},
     "output_type": "execute_result"
    }
   ],
   "source": [
    "function standard_failure(data)\n",
    "    return get_utility(data, resource_col=\"resource\")\n",
    "end"
   ]
  },
  {
   "cell_type": "code",
   "execution_count": 48,
   "metadata": {},
   "outputs": [
    {
     "data": {
      "text/plain": [
       "expected_utilities (generic function with 1 method)"
      ]
     },
     "execution_count": 48,
     "metadata": {},
     "output_type": "execute_result"
    }
   ],
   "source": [
    "function expected_utilities(data, utility_fn, bargaining_strategy, bargain_failure_utility, p_bargaining_success)\n",
    "    # Get expected utility grouped by team, based on the utility, bargaining strategy, and probability\n",
    "    # that bargaining succeeds\n",
    "    data_with_bargain_resources = bargaining_strategy(data)\n",
    "    bargain_success_utility = utility_fn(data_with_bargain_resources, resource_col=\"bargain_resource\")\n",
    "    bargain_fail_utility = bargain_failure_utility(data_with_bargain_resources)\n",
    "    data_with_bargain_resources[!, \"expected_utility\"] = p_bargaining_success .* bargain_success_utility + (1 - p_bargaining_success) .* bargain_fail_utility\n",
    "    return data_with_bargain_resources\n",
    "end\n",
    "    \n",
    "    "
   ]
  },
  {
   "cell_type": "code",
   "execution_count": 49,
   "metadata": {},
   "outputs": [
    {
     "data": {
      "text/plain": [
       "aligned_utility (generic function with 1 method)"
      ]
     },
     "execution_count": 49,
     "metadata": {},
     "output_type": "execute_result"
    }
   ],
   "source": [
    "function aligned_utility(teams, worlds, get_utility, bargaining_strategy, bargain_failure_utility, p_bargaining_success, aligned_measure, initial_resource)\n",
    "    df = make_rows(teams, worlds, aligned_measure, initial_resource) |> DataFrame\n",
    "    eu = expected_utilities(df, get_utility, bargaining_strategy, bargain_failure_utility, p_bargaining_success)\n",
    "    return @_ eu |> filter(_.team == aligned, __) |> sum(__.expected_utility)\n",
    "end"
   ]
  },
  {
   "cell_type": "code",
   "execution_count": 50,
   "metadata": {},
   "outputs": [
    {
     "data": {
      "text/plain": [
       "2.523979400086721"
      ]
     },
     "execution_count": 50,
     "metadata": {},
     "output_type": "execute_result"
    }
   ],
   "source": [
    "aligned_utility(teams, worlds, get_utility, equal_split_bargaining_strategy, standard_failure, .1, .1, 10e22)"
   ]
  },
  {
   "cell_type": "code",
   "execution_count": 51,
   "metadata": {},
   "outputs": [
    {
     "data": {
      "text/plain": [
       "5-element Array{Float64,1}:\n",
       "   0.01\n",
       "   0.1\n",
       "   1.0\n",
       "  10.0\n",
       " 100.0"
      ]
     },
     "execution_count": 51,
     "metadata": {},
     "output_type": "execute_result"
    }
   ],
   "source": [
    "measures = [10.0^n for n in -2:2]"
   ]
  },
  {
   "cell_type": "code",
   "execution_count": 52,
   "metadata": {},
   "outputs": [
    {
     "data": {
      "text/plain": [
       "5-element LinRange{Float64}:\n",
       " 0.001,0.2505,0.5,0.7495,0.999"
      ]
     },
     "execution_count": 52,
     "metadata": {},
     "output_type": "execute_result"
    }
   ],
   "source": [
    "probabilities = LinRange(1e-3, 1 - 1e-3, 5)"
   ]
  },
  {
   "cell_type": "code",
   "execution_count": null,
   "metadata": {},
   "outputs": [],
   "source": []
  },
  {
   "cell_type": "code",
   "execution_count": 53,
   "metadata": {},
   "outputs": [
    {
     "data": {
      "text/plain": [
       "utility_from_measure_and_probability (generic function with 1 method)"
      ]
     },
     "execution_count": 53,
     "metadata": {},
     "output_type": "execute_result"
    }
   ],
   "source": [
    "function utility_from_measure_and_probability((probability, measure))\n",
    "    return aligned_utility(teams, worlds, get_utility, equal_split_bargaining_strategy, standard_failure, probability, measure, 1e22)\n",
    "end"
   ]
  },
  {
   "cell_type": "code",
   "execution_count": 54,
   "metadata": {},
   "outputs": [
    {
     "data": {
      "text/plain": [
       "5×5 Array{Tuple{Float64,Float64},2}:\n",
       " (0.001, 0.01)   (0.001, 0.1)   …  (0.001, 10.0)   (0.001, 100.0)\n",
       " (0.2505, 0.01)  (0.2505, 0.1)     (0.2505, 10.0)  (0.2505, 100.0)\n",
       " (0.5, 0.01)     (0.5, 0.1)        (0.5, 10.0)     (0.5, 100.0)\n",
       " (0.7495, 0.01)  (0.7495, 0.1)     (0.7495, 10.0)  (0.7495, 100.0)\n",
       " (0.999, 0.01)   (0.999, 0.1)      (0.999, 10.0)   (0.999, 100.0)"
      ]
     },
     "execution_count": 54,
     "metadata": {},
     "output_type": "execute_result"
    }
   ],
   "source": [
    "mat = Base.product(probabilities, measures) |> collect"
   ]
  },
  {
   "cell_type": "code",
   "execution_count": 55,
   "metadata": {},
   "outputs": [
    {
     "data": {
      "text/plain": [
       "5×5 Array{Float64,2}:\n",
       " 0.220214  2.20214  22.0214  220.214  2202.14\n",
       " 0.273602  2.73602  27.3602  273.602  2736.02\n",
       " 0.32699   3.2699   32.699   326.99   3269.9\n",
       " 0.380378  3.80378  38.0378  380.378  3803.78\n",
       " 0.433765  4.33765  43.3765  433.765  4337.65"
      ]
     },
     "execution_count": 55,
     "metadata": {},
     "output_type": "execute_result"
    }
   ],
   "source": [
    "utilities_grid = map(utility_from_measure_and_probability, mat)"
   ]
  },
  {
   "cell_type": "code",
   "execution_count": 56,
   "metadata": {},
   "outputs": [
    {
     "data": {
      "image/svg+xml": [
       "<?xml version=\"1.0\" encoding=\"utf-8\"?>\n",
       "<svg xmlns=\"http://www.w3.org/2000/svg\" xmlns:xlink=\"http://www.w3.org/1999/xlink\" width=\"600\" height=\"400\" viewBox=\"0 0 2400 1600\">\n",
       "<defs>\n",
       "  <clipPath id=\"clip650\">\n",
       "    <rect x=\"0\" y=\"0\" width=\"2400\" height=\"1600\"/>\n",
       "  </clipPath>\n",
       "</defs>\n",
       "<path clip-path=\"url(#clip650)\" d=\"\n",
       "M0 1600 L2400 1600 L2400 0 L0 0  Z\n",
       "  \" fill=\"#ffffff\" fill-rule=\"evenodd\" fill-opacity=\"1\"/>\n",
       "<defs>\n",
       "  <clipPath id=\"clip651\">\n",
       "    <rect x=\"480\" y=\"0\" width=\"1681\" height=\"1600\"/>\n",
       "  </clipPath>\n",
       "</defs>\n",
       "<path clip-path=\"url(#clip650)\" d=\"\n",
       "M174.862 1486.45 L2112.76 1486.45 L2112.76 47.2441 L174.862 47.2441  Z\n",
       "  \" fill=\"#ffffff\" fill-rule=\"evenodd\" fill-opacity=\"1\"/>\n",
       "<defs>\n",
       "  <clipPath id=\"clip652\">\n",
       "    <rect x=\"174\" y=\"47\" width=\"1939\" height=\"1440\"/>\n",
       "  </clipPath>\n",
       "</defs>\n",
       "<polyline clip-path=\"url(#clip652)\" style=\"stroke:#000000; stroke-width:2; stroke-opacity:0.1; fill:none\" points=\"\n",
       "  175.33,1486.45 175.33,47.2441 \n",
       "  \"/>\n",
       "<polyline clip-path=\"url(#clip652)\" style=\"stroke:#000000; stroke-width:2; stroke-opacity:0.1; fill:none\" points=\"\n",
       "  509.369,1486.45 509.369,47.2441 \n",
       "  \"/>\n",
       "<polyline clip-path=\"url(#clip652)\" style=\"stroke:#000000; stroke-width:2; stroke-opacity:0.1; fill:none\" points=\"\n",
       "  843.408,1486.45 843.408,47.2441 \n",
       "  \"/>\n",
       "<polyline clip-path=\"url(#clip652)\" style=\"stroke:#000000; stroke-width:2; stroke-opacity:0.1; fill:none\" points=\"\n",
       "  1177.45,1486.45 1177.45,47.2441 \n",
       "  \"/>\n",
       "<polyline clip-path=\"url(#clip652)\" style=\"stroke:#000000; stroke-width:2; stroke-opacity:0.1; fill:none\" points=\"\n",
       "  1511.49,1486.45 1511.49,47.2441 \n",
       "  \"/>\n",
       "<polyline clip-path=\"url(#clip652)\" style=\"stroke:#000000; stroke-width:2; stroke-opacity:0.1; fill:none\" points=\"\n",
       "  1845.52,1486.45 1845.52,47.2441 \n",
       "  \"/>\n",
       "<polyline clip-path=\"url(#clip650)\" style=\"stroke:#000000; stroke-width:4; stroke-opacity:1; fill:none\" points=\"\n",
       "  174.862,1486.45 2112.76,1486.45 \n",
       "  \"/>\n",
       "<polyline clip-path=\"url(#clip650)\" style=\"stroke:#000000; stroke-width:4; stroke-opacity:1; fill:none\" points=\"\n",
       "  175.33,1486.45 175.33,1469.18 \n",
       "  \"/>\n",
       "<polyline clip-path=\"url(#clip650)\" style=\"stroke:#000000; stroke-width:4; stroke-opacity:1; fill:none\" points=\"\n",
       "  509.369,1486.45 509.369,1469.18 \n",
       "  \"/>\n",
       "<polyline clip-path=\"url(#clip650)\" style=\"stroke:#000000; stroke-width:4; stroke-opacity:1; fill:none\" points=\"\n",
       "  843.408,1486.45 843.408,1469.18 \n",
       "  \"/>\n",
       "<polyline clip-path=\"url(#clip650)\" style=\"stroke:#000000; stroke-width:4; stroke-opacity:1; fill:none\" points=\"\n",
       "  1177.45,1486.45 1177.45,1469.18 \n",
       "  \"/>\n",
       "<polyline clip-path=\"url(#clip650)\" style=\"stroke:#000000; stroke-width:4; stroke-opacity:1; fill:none\" points=\"\n",
       "  1511.49,1486.45 1511.49,1469.18 \n",
       "  \"/>\n",
       "<polyline clip-path=\"url(#clip650)\" style=\"stroke:#000000; stroke-width:4; stroke-opacity:1; fill:none\" points=\"\n",
       "  1845.52,1486.45 1845.52,1469.18 \n",
       "  \"/>\n",
       "<path clip-path=\"url(#clip650)\" d=\"M 0 0 M175.33 1515.64 Q171.719 1515.64 169.89 1519.2 Q168.084 1522.75 168.084 1529.87 Q168.084 1536.98 169.89 1540.55 Q171.719 1544.09 175.33 1544.09 Q178.964 1544.09 180.769 1540.55 Q182.598 1536.98 182.598 1529.87 Q182.598 1522.75 180.769 1519.2 Q178.964 1515.64 175.33 1515.64 M175.33 1511.93 Q181.14 1511.93 184.195 1516.54 Q187.274 1521.12 187.274 1529.87 Q187.274 1538.6 184.195 1543.21 Q181.14 1547.79 175.33 1547.79 Q169.52 1547.79 166.441 1543.21 Q163.385 1538.6 163.385 1529.87 Q163.385 1521.12 166.441 1516.54 Q169.52 1511.93 175.33 1511.93 Z\" fill=\"#000000\" fill-rule=\"evenodd\" fill-opacity=\"1\" /><path clip-path=\"url(#clip650)\" d=\"M 0 0 M491.012 1543.18 L507.332 1543.18 L507.332 1547.12 L485.387 1547.12 L485.387 1543.18 Q488.049 1540.43 492.633 1535.8 Q497.239 1531.15 498.42 1529.81 Q500.665 1527.28 501.545 1525.55 Q502.447 1523.79 502.447 1522.1 Q502.447 1519.34 500.503 1517.61 Q498.582 1515.87 495.48 1515.87 Q493.281 1515.87 490.827 1516.63 Q488.397 1517.4 485.619 1518.95 L485.619 1514.23 Q488.443 1513.09 490.897 1512.51 Q493.35 1511.93 495.387 1511.93 Q500.758 1511.93 503.952 1514.62 Q507.146 1517.31 507.146 1521.8 Q507.146 1523.93 506.336 1525.85 Q505.549 1527.74 503.443 1530.34 Q502.864 1531.01 499.762 1534.23 Q496.66 1537.42 491.012 1543.18 Z\" fill=\"#000000\" fill-rule=\"evenodd\" fill-opacity=\"1\" /><path clip-path=\"url(#clip650)\" d=\"M 0 0 M512.447 1512.56 L530.804 1512.56 L530.804 1516.5 L516.73 1516.5 L516.73 1524.97 Q517.748 1524.62 518.767 1524.46 Q519.785 1524.27 520.804 1524.27 Q526.591 1524.27 529.97 1527.44 Q533.35 1530.62 533.35 1536.03 Q533.35 1541.61 529.878 1544.71 Q526.406 1547.79 520.086 1547.79 Q517.91 1547.79 515.642 1547.42 Q513.396 1547.05 510.989 1546.31 L510.989 1541.61 Q513.072 1542.74 515.295 1543.3 Q517.517 1543.86 519.994 1543.86 Q523.998 1543.86 526.336 1541.75 Q528.674 1539.64 528.674 1536.03 Q528.674 1532.42 526.336 1530.31 Q523.998 1528.21 519.994 1528.21 Q518.119 1528.21 516.244 1528.62 Q514.392 1529.04 512.447 1529.92 L512.447 1512.56 Z\" fill=\"#000000\" fill-rule=\"evenodd\" fill-opacity=\"1\" /><path clip-path=\"url(#clip650)\" d=\"M 0 0 M820.179 1512.56 L838.535 1512.56 L838.535 1516.5 L824.461 1516.5 L824.461 1524.97 Q825.48 1524.62 826.498 1524.46 Q827.517 1524.27 828.535 1524.27 Q834.322 1524.27 837.702 1527.44 Q841.081 1530.62 841.081 1536.03 Q841.081 1541.61 837.609 1544.71 Q834.137 1547.79 827.817 1547.79 Q825.642 1547.79 823.373 1547.42 Q821.128 1547.05 818.72 1546.31 L818.72 1541.61 Q820.804 1542.74 823.026 1543.3 Q825.248 1543.86 827.725 1543.86 Q831.73 1543.86 834.067 1541.75 Q836.405 1539.64 836.405 1536.03 Q836.405 1532.42 834.067 1530.31 Q831.73 1528.21 827.725 1528.21 Q825.85 1528.21 823.975 1528.62 Q822.123 1529.04 820.179 1529.92 L820.179 1512.56 Z\" fill=\"#000000\" fill-rule=\"evenodd\" fill-opacity=\"1\" /><path clip-path=\"url(#clip650)\" d=\"M 0 0 M856.151 1515.64 Q852.54 1515.64 850.711 1519.2 Q848.905 1522.75 848.905 1529.87 Q848.905 1536.98 850.711 1540.55 Q852.54 1544.09 856.151 1544.09 Q859.785 1544.09 861.59 1540.55 Q863.419 1536.98 863.419 1529.87 Q863.419 1522.75 861.59 1519.2 Q859.785 1515.64 856.151 1515.64 M856.151 1511.93 Q861.961 1511.93 865.016 1516.54 Q868.095 1521.12 868.095 1529.87 Q868.095 1538.6 865.016 1543.21 Q861.961 1547.79 856.151 1547.79 Q850.341 1547.79 847.262 1543.21 Q844.206 1538.6 844.206 1529.87 Q844.206 1521.12 847.262 1516.54 Q850.341 1511.93 856.151 1511.93 Z\" fill=\"#000000\" fill-rule=\"evenodd\" fill-opacity=\"1\" /><path clip-path=\"url(#clip650)\" d=\"M 0 0 M1153.33 1512.56 L1175.55 1512.56 L1175.55 1514.55 L1163 1547.12 L1158.12 1547.12 L1169.92 1516.5 L1153.33 1516.5 L1153.33 1512.56 Z\" fill=\"#000000\" fill-rule=\"evenodd\" fill-opacity=\"1\" /><path clip-path=\"url(#clip650)\" d=\"M 0 0 M1180.66 1512.56 L1199.02 1512.56 L1199.02 1516.5 L1184.95 1516.5 L1184.95 1524.97 Q1185.97 1524.62 1186.98 1524.46 Q1188 1524.27 1189.02 1524.27 Q1194.81 1524.27 1198.19 1527.44 Q1201.57 1530.62 1201.57 1536.03 Q1201.57 1541.61 1198.09 1544.71 Q1194.62 1547.79 1188.3 1547.79 Q1186.13 1547.79 1183.86 1547.42 Q1181.61 1547.05 1179.21 1546.31 L1179.21 1541.61 Q1181.29 1542.74 1183.51 1543.3 Q1185.73 1543.86 1188.21 1543.86 Q1192.22 1543.86 1194.55 1541.75 Q1196.89 1539.64 1196.89 1536.03 Q1196.89 1532.42 1194.55 1530.31 Q1192.22 1528.21 1188.21 1528.21 Q1186.34 1528.21 1184.46 1528.62 Q1182.61 1529.04 1180.66 1529.92 L1180.66 1512.56 Z\" fill=\"#000000\" fill-rule=\"evenodd\" fill-opacity=\"1\" /><path clip-path=\"url(#clip650)\" d=\"M 0 0 M1474.85 1543.18 L1482.49 1543.18 L1482.49 1516.82 L1474.18 1518.49 L1474.18 1514.23 L1482.45 1512.56 L1487.12 1512.56 L1487.12 1543.18 L1494.76 1543.18 L1494.76 1547.12 L1474.85 1547.12 L1474.85 1543.18 Z\" fill=\"#000000\" fill-rule=\"evenodd\" fill-opacity=\"1\" /><path clip-path=\"url(#clip650)\" d=\"M 0 0 M1509.83 1515.64 Q1506.22 1515.64 1504.39 1519.2 Q1502.59 1522.75 1502.59 1529.87 Q1502.59 1536.98 1504.39 1540.55 Q1506.22 1544.09 1509.83 1544.09 Q1513.46 1544.09 1515.27 1540.55 Q1517.1 1536.98 1517.1 1529.87 Q1517.1 1522.75 1515.27 1519.2 Q1513.46 1515.64 1509.83 1515.64 M1509.83 1511.93 Q1515.64 1511.93 1518.7 1516.54 Q1521.77 1521.12 1521.77 1529.87 Q1521.77 1538.6 1518.7 1543.21 Q1515.64 1547.79 1509.83 1547.79 Q1504.02 1547.79 1500.94 1543.21 Q1497.89 1538.6 1497.89 1529.87 Q1497.89 1521.12 1500.94 1516.54 Q1504.02 1511.93 1509.83 1511.93 Z\" fill=\"#000000\" fill-rule=\"evenodd\" fill-opacity=\"1\" /><path clip-path=\"url(#clip650)\" d=\"M 0 0 M1536.84 1515.64 Q1533.23 1515.64 1531.4 1519.2 Q1529.6 1522.75 1529.6 1529.87 Q1529.6 1536.98 1531.4 1540.55 Q1533.23 1544.09 1536.84 1544.09 Q1540.48 1544.09 1542.28 1540.55 Q1544.11 1536.98 1544.11 1529.87 Q1544.11 1522.75 1542.28 1519.2 Q1540.48 1515.64 1536.84 1515.64 M1536.84 1511.93 Q1542.65 1511.93 1545.71 1516.54 Q1548.79 1521.12 1548.79 1529.87 Q1548.79 1538.6 1545.71 1543.21 Q1542.65 1547.79 1536.84 1547.79 Q1531.03 1547.79 1527.96 1543.21 Q1524.9 1538.6 1524.9 1529.87 Q1524.9 1521.12 1527.96 1516.54 Q1531.03 1511.93 1536.84 1511.93 Z\" fill=\"#000000\" fill-rule=\"evenodd\" fill-opacity=\"1\" /><path clip-path=\"url(#clip650)\" d=\"M 0 0 M1810.19 1543.18 L1817.83 1543.18 L1817.83 1516.82 L1809.52 1518.49 L1809.52 1514.23 L1817.78 1512.56 L1822.46 1512.56 L1822.46 1543.18 L1830.1 1543.18 L1830.1 1547.12 L1810.19 1547.12 L1810.19 1543.18 Z\" fill=\"#000000\" fill-rule=\"evenodd\" fill-opacity=\"1\" /><path clip-path=\"url(#clip650)\" d=\"M 0 0 M1839.19 1543.18 L1855.51 1543.18 L1855.51 1547.12 L1833.57 1547.12 L1833.57 1543.18 Q1836.23 1540.43 1840.81 1535.8 Q1845.42 1531.15 1846.6 1529.81 Q1848.85 1527.28 1849.73 1525.55 Q1850.63 1523.79 1850.63 1522.1 Q1850.63 1519.34 1848.68 1517.61 Q1846.76 1515.87 1843.66 1515.87 Q1841.46 1515.87 1839.01 1516.63 Q1836.58 1517.4 1833.8 1518.95 L1833.8 1514.23 Q1836.62 1513.09 1839.08 1512.51 Q1841.53 1511.93 1843.57 1511.93 Q1848.94 1511.93 1852.13 1514.62 Q1855.33 1517.31 1855.33 1521.8 Q1855.33 1523.93 1854.52 1525.85 Q1853.73 1527.74 1851.62 1530.34 Q1851.05 1531.01 1847.94 1534.23 Q1844.84 1537.42 1839.19 1543.18 Z\" fill=\"#000000\" fill-rule=\"evenodd\" fill-opacity=\"1\" /><path clip-path=\"url(#clip650)\" d=\"M 0 0 M1860.63 1512.56 L1878.99 1512.56 L1878.99 1516.5 L1864.91 1516.5 L1864.91 1524.97 Q1865.93 1524.62 1866.95 1524.46 Q1867.97 1524.27 1868.99 1524.27 Q1874.77 1524.27 1878.15 1527.44 Q1881.53 1530.62 1881.53 1536.03 Q1881.53 1541.61 1878.06 1544.71 Q1874.59 1547.79 1868.27 1547.79 Q1866.09 1547.79 1863.82 1547.42 Q1861.58 1547.05 1859.17 1546.31 L1859.17 1541.61 Q1861.25 1542.74 1863.48 1543.3 Q1865.7 1543.86 1868.18 1543.86 Q1872.18 1543.86 1874.52 1541.75 Q1876.86 1539.64 1876.86 1536.03 Q1876.86 1532.42 1874.52 1530.31 Q1872.18 1528.21 1868.18 1528.21 Q1866.3 1528.21 1864.43 1528.62 Q1862.57 1529.04 1860.63 1529.92 L1860.63 1512.56 Z\" fill=\"#000000\" fill-rule=\"evenodd\" fill-opacity=\"1\" /><polyline clip-path=\"url(#clip652)\" style=\"stroke:#000000; stroke-width:2; stroke-opacity:0.1; fill:none\" points=\"\n",
       "  174.862,1343.68 2112.76,1343.68 \n",
       "  \"/>\n",
       "<polyline clip-path=\"url(#clip652)\" style=\"stroke:#000000; stroke-width:2; stroke-opacity:0.1; fill:none\" points=\"\n",
       "  174.862,1055.26 2112.76,1055.26 \n",
       "  \"/>\n",
       "<polyline clip-path=\"url(#clip652)\" style=\"stroke:#000000; stroke-width:2; stroke-opacity:0.1; fill:none\" points=\"\n",
       "  174.862,766.846 2112.76,766.846 \n",
       "  \"/>\n",
       "<polyline clip-path=\"url(#clip652)\" style=\"stroke:#000000; stroke-width:2; stroke-opacity:0.1; fill:none\" points=\"\n",
       "  174.862,478.428 2112.76,478.428 \n",
       "  \"/>\n",
       "<polyline clip-path=\"url(#clip652)\" style=\"stroke:#000000; stroke-width:2; stroke-opacity:0.1; fill:none\" points=\"\n",
       "  174.862,190.011 2112.76,190.011 \n",
       "  \"/>\n",
       "<polyline clip-path=\"url(#clip650)\" style=\"stroke:#000000; stroke-width:4; stroke-opacity:1; fill:none\" points=\"\n",
       "  174.862,1486.45 174.862,47.2441 \n",
       "  \"/>\n",
       "<polyline clip-path=\"url(#clip650)\" style=\"stroke:#000000; stroke-width:4; stroke-opacity:1; fill:none\" points=\"\n",
       "  174.862,1343.68 198.117,1343.68 \n",
       "  \"/>\n",
       "<polyline clip-path=\"url(#clip650)\" style=\"stroke:#000000; stroke-width:4; stroke-opacity:1; fill:none\" points=\"\n",
       "  174.862,1055.26 198.117,1055.26 \n",
       "  \"/>\n",
       "<polyline clip-path=\"url(#clip650)\" style=\"stroke:#000000; stroke-width:4; stroke-opacity:1; fill:none\" points=\"\n",
       "  174.862,766.846 198.117,766.846 \n",
       "  \"/>\n",
       "<polyline clip-path=\"url(#clip650)\" style=\"stroke:#000000; stroke-width:4; stroke-opacity:1; fill:none\" points=\"\n",
       "  174.862,478.428 198.117,478.428 \n",
       "  \"/>\n",
       "<polyline clip-path=\"url(#clip650)\" style=\"stroke:#000000; stroke-width:4; stroke-opacity:1; fill:none\" points=\"\n",
       "  174.862,190.011 198.117,190.011 \n",
       "  \"/>\n",
       "<path clip-path=\"url(#clip650)\" d=\"M 0 0 M62.9365 1329.48 Q59.3254 1329.48 57.4967 1333.04 Q55.6912 1336.59 55.6912 1343.72 Q55.6912 1350.82 57.4967 1354.39 Q59.3254 1357.93 62.9365 1357.93 Q66.5707 1357.93 68.3763 1354.39 Q70.205 1350.82 70.205 1343.72 Q70.205 1336.59 68.3763 1333.04 Q66.5707 1329.48 62.9365 1329.48 M62.9365 1325.78 Q68.7467 1325.78 71.8022 1330.38 Q74.8809 1334.97 74.8809 1343.72 Q74.8809 1352.44 71.8022 1357.05 Q68.7467 1361.63 62.9365 1361.63 Q57.1264 1361.63 54.0477 1357.05 Q50.9921 1352.44 50.9921 1343.72 Q50.9921 1334.97 54.0477 1330.38 Q57.1264 1325.78 62.9365 1325.78 Z\" fill=\"#000000\" fill-rule=\"evenodd\" fill-opacity=\"1\" /><path clip-path=\"url(#clip650)\" d=\"M 0 0 M79.9503 1355.08 L84.8345 1355.08 L84.8345 1360.96 L79.9503 1360.96 L79.9503 1355.08 Z\" fill=\"#000000\" fill-rule=\"evenodd\" fill-opacity=\"1\" /><path clip-path=\"url(#clip650)\" d=\"M 0 0 M99.9039 1329.48 Q96.2928 1329.48 94.4641 1333.04 Q92.6586 1336.59 92.6586 1343.72 Q92.6586 1350.82 94.4641 1354.39 Q96.2928 1357.93 99.9039 1357.93 Q103.538 1357.93 105.344 1354.39 Q107.172 1350.82 107.172 1343.72 Q107.172 1336.59 105.344 1333.04 Q103.538 1329.48 99.9039 1329.48 M99.9039 1325.78 Q105.714 1325.78 108.77 1330.38 Q111.848 1334.97 111.848 1343.72 Q111.848 1352.44 108.77 1357.05 Q105.714 1361.63 99.9039 1361.63 Q94.0937 1361.63 91.0151 1357.05 Q87.9595 1352.44 87.9595 1343.72 Q87.9595 1334.97 91.0151 1330.38 Q94.0937 1325.78 99.9039 1325.78 Z\" fill=\"#000000\" fill-rule=\"evenodd\" fill-opacity=\"1\" /><path clip-path=\"url(#clip650)\" d=\"M 0 0 M126.918 1329.48 Q123.307 1329.48 121.478 1333.04 Q119.672 1336.59 119.672 1343.72 Q119.672 1350.82 121.478 1354.39 Q123.307 1357.93 126.918 1357.93 Q130.552 1357.93 132.357 1354.39 Q134.186 1350.82 134.186 1343.72 Q134.186 1336.59 132.357 1333.04 Q130.552 1329.48 126.918 1329.48 M126.918 1325.78 Q132.728 1325.78 135.783 1330.38 Q138.862 1334.97 138.862 1343.72 Q138.862 1352.44 135.783 1357.05 Q132.728 1361.63 126.918 1361.63 Q121.107 1361.63 118.029 1357.05 Q114.973 1352.44 114.973 1343.72 Q114.973 1334.97 118.029 1330.38 Q121.107 1325.78 126.918 1325.78 Z\" fill=\"#000000\" fill-rule=\"evenodd\" fill-opacity=\"1\" /><path clip-path=\"url(#clip650)\" d=\"M 0 0 M65.5291 1041.06 Q61.918 1041.06 60.0893 1044.63 Q58.2838 1048.17 58.2838 1055.3 Q58.2838 1062.4 60.0893 1065.97 Q61.918 1069.51 65.5291 1069.51 Q69.1633 1069.51 70.9689 1065.97 Q72.7976 1062.4 72.7976 1055.3 Q72.7976 1048.17 70.9689 1044.63 Q69.1633 1041.06 65.5291 1041.06 M65.5291 1037.36 Q71.3392 1037.36 74.3948 1041.97 Q77.4735 1046.55 77.4735 1055.3 Q77.4735 1064.03 74.3948 1068.63 Q71.3392 1073.21 65.5291 1073.21 Q59.7189 1073.21 56.6402 1068.63 Q53.5847 1064.03 53.5847 1055.3 Q53.5847 1046.55 56.6402 1041.97 Q59.7189 1037.36 65.5291 1037.36 Z\" fill=\"#000000\" fill-rule=\"evenodd\" fill-opacity=\"1\" /><path clip-path=\"url(#clip650)\" d=\"M 0 0 M82.5429 1066.66 L87.4271 1066.66 L87.4271 1072.54 L82.5429 1072.54 L82.5429 1066.66 Z\" fill=\"#000000\" fill-rule=\"evenodd\" fill-opacity=\"1\" /><path clip-path=\"url(#clip650)\" d=\"M 0 0 M96.5243 1068.61 L112.844 1068.61 L112.844 1072.54 L90.8993 1072.54 L90.8993 1068.61 Q93.5613 1065.85 98.1447 1061.22 Q102.751 1056.57 103.932 1055.23 Q106.177 1052.71 107.057 1050.97 Q107.959 1049.21 107.959 1047.52 Q107.959 1044.77 106.015 1043.03 Q104.094 1041.29 100.992 1041.29 Q98.7928 1041.29 96.3391 1042.06 Q93.9086 1042.82 91.1308 1044.37 L91.1308 1039.65 Q93.9549 1038.52 96.4085 1037.94 Q98.8622 1037.36 100.899 1037.36 Q106.27 1037.36 109.464 1040.04 Q112.658 1042.73 112.658 1047.22 Q112.658 1049.35 111.848 1051.27 Q111.061 1053.17 108.955 1055.76 Q108.376 1056.43 105.274 1059.65 Q102.172 1062.84 96.5243 1068.61 Z\" fill=\"#000000\" fill-rule=\"evenodd\" fill-opacity=\"1\" /><path clip-path=\"url(#clip650)\" d=\"M 0 0 M117.959 1037.98 L136.316 1037.98 L136.316 1041.92 L122.242 1041.92 L122.242 1050.39 Q123.26 1050.04 124.279 1049.88 Q125.297 1049.7 126.316 1049.7 Q132.103 1049.7 135.482 1052.87 Q138.862 1056.04 138.862 1061.46 Q138.862 1067.03 135.39 1070.14 Q131.918 1073.21 125.598 1073.21 Q123.422 1073.21 121.154 1072.84 Q118.908 1072.47 116.501 1071.73 L116.501 1067.03 Q118.584 1068.17 120.807 1068.72 Q123.029 1069.28 125.506 1069.28 Q129.51 1069.28 131.848 1067.17 Q134.186 1065.07 134.186 1061.46 Q134.186 1057.84 131.848 1055.74 Q129.51 1053.63 125.506 1053.63 Q123.631 1053.63 121.756 1054.05 Q119.904 1054.46 117.959 1055.34 L117.959 1037.98 Z\" fill=\"#000000\" fill-rule=\"evenodd\" fill-opacity=\"1\" /><path clip-path=\"url(#clip650)\" d=\"M 0 0 M63.9319 752.645 Q60.3208 752.645 58.4921 756.209 Q56.6865 759.751 56.6865 766.881 Q56.6865 773.987 58.4921 777.552 Q60.3208 781.094 63.9319 781.094 Q67.5661 781.094 69.3717 777.552 Q71.2004 773.987 71.2004 766.881 Q71.2004 759.751 69.3717 756.209 Q67.5661 752.645 63.9319 752.645 M63.9319 748.941 Q69.742 748.941 72.7976 753.547 Q75.8763 758.131 75.8763 766.881 Q75.8763 775.608 72.7976 780.214 Q69.742 784.797 63.9319 784.797 Q58.1217 784.797 55.043 780.214 Q51.9875 775.608 51.9875 766.881 Q51.9875 758.131 55.043 753.547 Q58.1217 748.941 63.9319 748.941 Z\" fill=\"#000000\" fill-rule=\"evenodd\" fill-opacity=\"1\" /><path clip-path=\"url(#clip650)\" d=\"M 0 0 M80.9457 778.246 L85.8299 778.246 L85.8299 784.126 L80.9457 784.126 L80.9457 778.246 Z\" fill=\"#000000\" fill-rule=\"evenodd\" fill-opacity=\"1\" /><path clip-path=\"url(#clip650)\" d=\"M 0 0 M90.9456 749.566 L109.302 749.566 L109.302 753.501 L95.228 753.501 L95.228 761.973 Q96.2465 761.626 97.265 761.464 Q98.2835 761.279 99.3021 761.279 Q105.089 761.279 108.469 764.45 Q111.848 767.621 111.848 773.038 Q111.848 778.617 108.376 781.719 Q104.904 784.797 98.5845 784.797 Q96.4085 784.797 94.14 784.427 Q91.8947 784.057 89.4873 783.316 L89.4873 778.617 Q91.5706 779.751 93.7928 780.307 Q96.015 780.862 98.4919 780.862 Q102.496 780.862 104.834 778.756 Q107.172 776.649 107.172 773.038 Q107.172 769.427 104.834 767.321 Q102.496 765.214 98.4919 765.214 Q96.6169 765.214 94.7419 765.631 Q92.89 766.047 90.9456 766.927 L90.9456 749.566 Z\" fill=\"#000000\" fill-rule=\"evenodd\" fill-opacity=\"1\" /><path clip-path=\"url(#clip650)\" d=\"M 0 0 M126.918 752.645 Q123.307 752.645 121.478 756.209 Q119.672 759.751 119.672 766.881 Q119.672 773.987 121.478 777.552 Q123.307 781.094 126.918 781.094 Q130.552 781.094 132.357 777.552 Q134.186 773.987 134.186 766.881 Q134.186 759.751 132.357 756.209 Q130.552 752.645 126.918 752.645 M126.918 748.941 Q132.728 748.941 135.783 753.547 Q138.862 758.131 138.862 766.881 Q138.862 775.608 135.783 780.214 Q132.728 784.797 126.918 784.797 Q121.107 784.797 118.029 780.214 Q114.973 775.608 114.973 766.881 Q114.973 758.131 118.029 753.547 Q121.107 748.941 126.918 748.941 Z\" fill=\"#000000\" fill-rule=\"evenodd\" fill-opacity=\"1\" /><path clip-path=\"url(#clip650)\" d=\"M 0 0 M64.8346 464.227 Q61.2236 464.227 59.3949 467.792 Q57.5893 471.334 57.5893 478.463 Q57.5893 485.57 59.3949 489.134 Q61.2236 492.676 64.8346 492.676 Q68.4689 492.676 70.2744 489.134 Q72.1031 485.57 72.1031 478.463 Q72.1031 471.334 70.2744 467.792 Q68.4689 464.227 64.8346 464.227 M64.8346 460.523 Q70.6448 460.523 73.7003 465.13 Q76.779 469.713 76.779 478.463 Q76.779 487.19 73.7003 491.796 Q70.6448 496.38 64.8346 496.38 Q59.0245 496.38 55.9458 491.796 Q52.8903 487.19 52.8903 478.463 Q52.8903 469.713 55.9458 465.13 Q59.0245 460.523 64.8346 460.523 Z\" fill=\"#000000\" fill-rule=\"evenodd\" fill-opacity=\"1\" /><path clip-path=\"url(#clip650)\" d=\"M 0 0 M81.8484 489.829 L86.7327 489.829 L86.7327 495.708 L81.8484 495.708 L81.8484 489.829 Z\" fill=\"#000000\" fill-rule=\"evenodd\" fill-opacity=\"1\" /><path clip-path=\"url(#clip650)\" d=\"M 0 0 M90.6215 461.148 L112.844 461.148 L112.844 463.139 L100.297 495.708 L95.4132 495.708 L107.219 465.084 L90.6215 465.084 L90.6215 461.148 Z\" fill=\"#000000\" fill-rule=\"evenodd\" fill-opacity=\"1\" /><path clip-path=\"url(#clip650)\" d=\"M 0 0 M117.959 461.148 L136.316 461.148 L136.316 465.084 L122.242 465.084 L122.242 473.556 Q123.26 473.209 124.279 473.046 Q125.297 472.861 126.316 472.861 Q132.103 472.861 135.482 476.033 Q138.862 479.204 138.862 484.62 Q138.862 490.199 135.39 493.301 Q131.918 496.38 125.598 496.38 Q123.422 496.38 121.154 496.009 Q118.908 495.639 116.501 494.898 L116.501 490.199 Q118.584 491.333 120.807 491.889 Q123.029 492.445 125.506 492.445 Q129.51 492.445 131.848 490.338 Q134.186 488.232 134.186 484.62 Q134.186 481.009 131.848 478.903 Q129.51 476.796 125.506 476.796 Q123.631 476.796 121.756 477.213 Q119.904 477.63 117.959 478.509 L117.959 461.148 Z\" fill=\"#000000\" fill-rule=\"evenodd\" fill-opacity=\"1\" /><path clip-path=\"url(#clip650)\" d=\"M 0 0 M54.9736 203.356 L62.6124 203.356 L62.6124 176.99 L54.3023 178.657 L54.3023 174.397 L62.5661 172.731 L67.242 172.731 L67.242 203.356 L74.8809 203.356 L74.8809 207.291 L54.9736 207.291 L54.9736 203.356 Z\" fill=\"#000000\" fill-rule=\"evenodd\" fill-opacity=\"1\" /><path clip-path=\"url(#clip650)\" d=\"M 0 0 M79.9503 201.411 L84.8345 201.411 L84.8345 207.291 L79.9503 207.291 L79.9503 201.411 Z\" fill=\"#000000\" fill-rule=\"evenodd\" fill-opacity=\"1\" /><path clip-path=\"url(#clip650)\" d=\"M 0 0 M99.9039 175.809 Q96.2928 175.809 94.4641 179.374 Q92.6586 182.916 92.6586 190.046 Q92.6586 197.152 94.4641 200.717 Q96.2928 204.258 99.9039 204.258 Q103.538 204.258 105.344 200.717 Q107.172 197.152 107.172 190.046 Q107.172 182.916 105.344 179.374 Q103.538 175.809 99.9039 175.809 M99.9039 172.106 Q105.714 172.106 108.77 176.712 Q111.848 181.296 111.848 190.046 Q111.848 198.772 108.77 203.379 Q105.714 207.962 99.9039 207.962 Q94.0937 207.962 91.0151 203.379 Q87.9595 198.772 87.9595 190.046 Q87.9595 181.296 91.0151 176.712 Q94.0937 172.106 99.9039 172.106 Z\" fill=\"#000000\" fill-rule=\"evenodd\" fill-opacity=\"1\" /><path clip-path=\"url(#clip650)\" d=\"M 0 0 M126.918 175.809 Q123.307 175.809 121.478 179.374 Q119.672 182.916 119.672 190.046 Q119.672 197.152 121.478 200.717 Q123.307 204.258 126.918 204.258 Q130.552 204.258 132.357 200.717 Q134.186 197.152 134.186 190.046 Q134.186 182.916 132.357 179.374 Q130.552 175.809 126.918 175.809 M126.918 172.106 Q132.728 172.106 135.783 176.712 Q138.862 181.296 138.862 190.046 Q138.862 198.772 135.783 203.379 Q132.728 207.962 126.918 207.962 Q121.107 207.962 118.029 203.379 Q114.973 198.772 114.973 190.046 Q114.973 181.296 118.029 176.712 Q121.107 172.106 126.918 172.106 Z\" fill=\"#000000\" fill-rule=\"evenodd\" fill-opacity=\"1\" /><g clip-path=\"url(#clip652)\">\n",
       "<image width=\"1938\" height=\"1439\" xlink:href=\"data:image/png;base64,\n",
       "iVBORw0KGgoAAAANSUhEUgAAB5IAAAWfCAYAAABp5rp0AAAgAElEQVR4nOzZoVVEQRREwTfwDTgE\n",
       "WWCIiyhJBhLAL/qqkcMeqnSL9nfNXLfZWOvaTf6F1+f30xcAALhzXz8fpy8AAAAAwNbD6QMAAAAA\n",
       "AAAA/C1CMgAAAAAAAAAhJAMAAAAAAAAQQjIAAAAAAAAAISQDAAAAAAAAEEIyAAAAAAAAACEkAwAA\n",
       "AAAAABBCMgAAAAAAAAAhJAMAAAAAAAAQQjIAAAAAAAAAISQDAAAAAAAAEEIyAAAAAAAAACEkAwAA\n",
       "AAAAABBCMgAAAAAAAAAhJAMAAAAAAAAQQjIAAAAAAAAAISQDAAAAAAAAEEIyAAAAAAAAACEkAwAA\n",
       "AAAAABBCMgAAAAAAAAAhJAMAAAAAAAAQQjIAAAAAAAAAISQDAAAAAAAAEEIyAAAAAAAAACEkAwAA\n",
       "AAAAABBCMgAAAAAAAAAhJAMAAAAAAAAQQjIAAAAAAAAAISQDAAAAAAAAEEIyAAAAAAAAACEkAwAA\n",
       "AAAAABBCMgAAAAAAAAAhJAMAAAAAAAAQQjIAAAAAAAAAISQDAAAAAAAAEEIyAAAAAAAAACEkAwAA\n",
       "AAAAABBCMgAAAAAAAAAhJAMAAAAAAAAQQjIAAAAAAAAAISQDAAAAAAAAEEIyAAAAAAAAACEkAwAA\n",
       "AAAAABBCMgAAAAAAAAAhJAMAAAAAAAAQQjIAAAAAAAAAISQDAAAAAAAAEEIyAAAAAAAAACEkAwAA\n",
       "AAAAABBCMgAAAAAAAAAhJAMAAAAAAAAQQjIAAAAAAAAAISQDAAAAAAAAEEIyAAAAAAAAACEkAwAA\n",
       "AAAAABBCMgAAAAAAAAAhJAMAAAAAAAAQQjIAAAAAAAAAISQDAAAAAAAAEEIyAAAAAAAAACEkAwAA\n",
       "AAAAABBCMgAAAAAAAAAhJAMAAAAAAAAQQjIAAAAAAAAAISQDAAAAAAAAEEIyAAAAAAAAACEkAwAA\n",
       "AAAAABBCMgAAAAAAAAAhJAMAAAAAAAAQQjIAAAAAAAAAISQDAAAAAAAAEEIyAAAAAAAAACEkAwAA\n",
       "AAAAABBCMgAAAAAAAAAhJAMAAAAAAAAQQjIAAAAAAAAAISQDAAAAAAAAEEIyAAAAAAAAACEkAwAA\n",
       "AAAAABBCMgAAAAAAAAAhJAMAAAAAAAAQQjIAAAAAAAAAISQDAAAAAAAAEEIyAAAAAAAAACEkAwAA\n",
       "AAAAABBCMgAAAAAAAAAhJAMAAAAAAAAQQjIAAAAAAAAAISQDAAAAAAAAEEIyAAAAAAAAACEkAwAA\n",
       "AAAAABBCMgAAAAAAAAAhJAMAAAAAAAAQQjIAAAAAAAAAISQDAAAAAAAAEEIyAAAAAAAAACEkAwAA\n",
       "AAAAABBCMgAAAAAAAAAhJAMAAAAAAAAQQjIAAAAAAAAAISQDAAAAAAAAEEIyAAAAAAAAACEkAwAA\n",
       "AAAAABBCMgAAAAAAAAAhJAMAAAAAAAAQQjIAAAAAAAAAISQDAAAAAAAAEEIyAAAAAAAAACEkAwAA\n",
       "AAAAABBCMgAAAAAAAAAhJAMAAAAAAAAQQjIAAAAAAAAAISQDAAAAAAAAEEIyAAAAAAAAACEkAwAA\n",
       "AAAAABBCMgAAAAAAAAAhJAMAAAAAAAAQQjIAAAAAAAAAISQDAAAAAAAAEEIyAAAAAAAAACEkAwAA\n",
       "AAAAABBCMgAAAAAAAAAhJAMAAAAAAAAQQjIAAAAAAAAAISQDAAAAAAAAEEIyAAAAAAAAACEkAwAA\n",
       "AAAAABBCMgAAAAAAAAAhJAMAAAAAAAAQQjIAAAAAAAAAISQDAAAAAAAAEEIyAAAAAAAAACEkAwAA\n",
       "AAAAABBCMgAAAAAAAAAhJAMAAAAAAAAQQjIAAAAAAAAAISQDAAAAAAAAEEIyAAAAAAAAACEkAwAA\n",
       "AAAAABBCMgAAAAAAAAAhJAMAAAAAAAAQQjIAAAAAAAAAISQDAAAAAAAAEEIyAAAAAAAAACEkAwAA\n",
       "AAAAABBCMgAAAAAAAAAhJAMAAAAAAAAQQjIAAAAAAAAAISQDAAAAAAAAEEIyAAAAAAAAACEkAwAA\n",
       "AAAAABBCMgAAAAAAAAAhJAMAAAAAAAAQQjIAAAAAAAAAISQDAAAAAAAAEEIyAAAAAAAAACEkAwAA\n",
       "AAAAABBCMgAAAAAAAAAhJAMAAAAAAAAQQjIAAAAAAAAAISQDAAAAAAAAEEIyAAAAAAAAACEkAwAA\n",
       "AAAAABBCMgAAAAAAAAAhJAMAAAAAAAAQQjIAAAAAAAAAISQDAAAAAAAAEEIyAAAAAAAAACEkAwAA\n",
       "AAAAABBCMgAAAAAAAAAhJAMAAAAAAAAQQjIAAAAAAAAAISQDAAAAAAAAEEIyAAAAAAAAACEkAwAA\n",
       "AAAAABBCMgAAAAAAAAAhJAMAAAAAAAAQQjIAAAAAAAAAISQDAAAAAAAAEEIyAAAAAAAAACEkAwAA\n",
       "AAAAABBCMgAAAAAAAAAhJAMAAAAAAAAQQjIAAAAAAAAAISQDAAAAAAAAEEIyAAAAAAAAACEkAwAA\n",
       "AAAAABBCMgAAAAAAAAAhJAMAAAAAAAAQQjIAAAAAAAAAISQDAAAAAAAAEEIyAAAAAAAAACEkAwAA\n",
       "AAAAABBCMgAAAAAAAAAhJAMAAAAAAAAQQjIAAAAAAAAAISQDAAAAAAAAEEIyAAAAAAAAACEkAwAA\n",
       "AAAAABBCMgAAAAAAAAAhJAMAAAAAAAAQQjIAAAAAAAAAISQDAAAAAAAAEEIyAAAAAAAAACEkAwAA\n",
       "AAAAABBCMgAAAAAAAAAhJAMAAAAAAAAQQjIAAAAAAAAAISQDAAAAAAAAEEIyAAAAAAAAACEkAwAA\n",
       "AAAAABBCMgAAAAAAAAAhJAMAAAAAAAAQQjIAAAAAAAAAISQDAAAAAAAAEEIyAAAAAAAAACEkAwAA\n",
       "AAAAABBCMgAAAAAAAAAhJAMAAAAAAAAQQjIAAAAAAAAAISQDAAAAAAAAEEIyAAAAAAAAACEkAwAA\n",
       "AAAAABBCMgAAAAAAAAAhJAMAAAAAAAAQQjIAAAAAAAAAISQDAAAAAAAAEEIyAAAAAAAAACEkAwAA\n",
       "AAAAABBCMgAAAAAAAAAhJAMAAAAAAAAQQjIAAAAAAAAAISQDAAAAAAAAEEIyAAAAAAAAACEkAwAA\n",
       "AAAAABBCMgAAAAAAAAAhJAMAAAAAAAAQQjIAAAAAAAAAISQDAAAAAAAAEEIyAAAAAAAAACEkAwAA\n",
       "AAAAABBCMgAAAAAAAAAhJAMAAAAAAAAQQjIAAAAAAAAAISQDAAAAAAAAEEIyAAAAAAAAACEkAwAA\n",
       "AAAAABBCMgAAAAAAAAAhJAMAAAAAAAAQQjIAAAAAAAAAISQDAAAAAAAAEEIyAAAAAAAAACEkAwAA\n",
       "AAAAABBCMgAAAAAAAAAhJAMAAAAAAAAQQjIAAAAAAAAAISQDAAAAAAAAEEIyAAAAAAAAACEkAwAA\n",
       "AAAAABBCMgAAAAAAAAAhJAMAAAAAAAAQQjIAAAAAAAAAISQDAAAAAAAAEEIyAAAAAAAAACEkAwAA\n",
       "AAAAABBCMgAAAAAAAAAhJAMAAAAAAAAQQjIAAAAAAAAAISQDAAAAAAAAEEIyAAAAAAAAACEkAwAA\n",
       "AAAAABBCMgAAAAAAAAAhJAMAAAAAAAAQQjIAAAAAAAAAISQDAAAAAAAAEEIyAAAAAAAAACEkAwAA\n",
       "AAAAABBCMgAAAAAAAAAhJAMAAAAAAAAQQjIAAAAAAAAAISQDAAAAAAAAEEIyAAAAAAAAACEkAwAA\n",
       "AAAAABBCMgAAAAAAAAAhJAMAAAAAAAAQQjIAAAAAAAAAISQDAAAAAAAAEGvmum1HS2+emXl5ejt9\n",
       "AQCAO/f9+Xj6AgAAAABsKcQAAAAAAAAAhJAMAAAAAAAAQAjJAAAAAAAAAISQDAAAAAAAAEAIyQAA\n",
       "AAAAAACEkAwAAAAAAABACMkAAAAAAAAAhJAMAAAAAAAAQAjJAAAAAAAAAISQDAAAAAAAAEAIyQAA\n",
       "AAAAAACEkAwAAAAAAABACMkAAAAAAAAAhJAMAAAAAAAAQAjJAAAAAAAAAISQDAAAAAAAAEAIyQAA\n",
       "AAAAAACEkAwAAAAAAABACMkAAAAAAAAAhJAMAAAAAAAAQAjJAAAAAAAAAISQDAAAAAAAAEAIyQAA\n",
       "AAAAAACEkAwAAAAAAABACMkAAAAAAAAAhJAMAAAAAAAAQAjJAAAAAAAAAISQDAAAAAAAAEAIyQAA\n",
       "AAAAAACEkAwAAAAAAABACMkAAAAAAAAAhJAMAAAAAAAAQAjJAAAAAAAAAISQDAAAAAAAAEAIyQAA\n",
       "AAAAAACEkAwAAAAAAABACMkAAAAAAAAAhJAMAAAAAAAAQAjJAAAAAAAAAISQDAAAAAAAAEAIyQAA\n",
       "AAAAAACEkAwAAAAAAABACMkAAAAAAAAAhJAMAAAAAAAAQAjJAAAAAAAAAISQDAAAAAAAAEAIyQAA\n",
       "AAAAAACEkAwAAAAAAABACMkAAAAAAAAAhJAMAAAAAAAAQAjJAAAAAAAAAISQDAAAAAAAAEAIyQAA\n",
       "AAAAAACEkAwAAAAAAABACMkAAAAAAAAAhJAMAAAAAAAAQAjJAAAAAAAAAISQDAAAAAAAAEAIyQAA\n",
       "AAAAAACEkAwAAAAAAABACMkAAAAAAAAAhJAMAAAAAAAAQAjJAAAAAAAAAISQDAAAAAAAAEAIyQAA\n",
       "AAAAAACEkAwAAAAAAABACMkAAAAAAAAAhJAMAAAAAAAAQAjJAAAAAAAAAISQDAAAAAAAAEAIyQAA\n",
       "AAAAAACEkAwAAAAAAABACMkAAAAAAAAAhJAMAAAAAAAAQAjJAAAAAAAAAISQDAAAAAAAAEAIyQAA\n",
       "AAAAAACEkAwAAAAAAABACMkAAAAAAAAAhJAMAAAAAAAAQAjJAAAAAAAAAISQDAAAAAAAAEAIyQAA\n",
       "AAAAAACEkAwAAAAAAABACMkAAAAAAAAAhJAMAAAAAAAAQAjJAAAAAAAAAISQDAAAAAAAAEAIyQAA\n",
       "AAAAAACEkAwAAAAAAABACMkAAAAAAAAAhJAMAAAAAAAAQAjJAAAAAAAAAISQDAAAAAAAAEAIyQAA\n",
       "AAAAAACEkAwAAAAAAABACMkAAAAAAAAAhJAMAAAAAAAAQAjJAAAAAAAAAISQDAAAAAAAAEAIyQAA\n",
       "AAAAAACEkAwAAAAAAABACMkAAAAAAAAAhJAMAAAAAAAAQAjJAAAAAAAAAISQDAAAAAAAAEAIyQAA\n",
       "AAAAAACEkAwAAAAAAABACMkAAAAAAAAAhJAMAAAAAAAAQAjJAAAAAAAAAISQDAAAAAAAAEAIyQAA\n",
       "AAAAAACEkAwAAAAAAABACMkAAAAAAAAAhJAMAAAAAAAAQAjJAAAAAAAAAISQDAAAAAAAAEAIyQAA\n",
       "AAAAAACEkAwAAAAAAABACMkAAAAAAAAAhJAMAAAAAAAAQAjJAAAAAAAAAISQDAAAAAAAAEAIyQAA\n",
       "AAAAAACEkAwAAAAAAABACMkAAAAAAAAAhJAMAAAAAAAAQAjJAAAAAAAAAISQDAAAAAAAAEAIyQAA\n",
       "AAAAAACEkAwAAAAAAABACMkAAAAAAAAAhJAMAAAAAAAAQAjJAAAAAAAAAISQDAAAAAAAAEAIyQAA\n",
       "AAAAAACEkAwAAAAAAABACMkAAAAAAAAAhJAMAAAAAAAAQAjJAAAAAAAAAISQDAAAAAAAAEAIyQAA\n",
       "AAAAAACEkAwAAAAAAABACMkAAAAAAAAAhJAMAAAAAAAAQAjJAAAAAAAAAISQDAAAAAAAAEAIyQAA\n",
       "AAAAAACEkAwAAAAAAABACMkAAAAAAAAAhJAMAAAAAAAAQAjJAAAAAAAAAISQDAAAAAAAAEAIyQAA\n",
       "AAAAAACEkAwAAAAAAABACMkAAAAAAAAAhJAMAAAAAAAAQAjJAAAAAAAAAISQDAAAAAAAAEAIyQAA\n",
       "AAAAAACEkAwAAAAAAABACMkAAAAAAAAAhJAMAAAAAAAAQAjJAAAAAAAAAISQDAAAAAAAAEAIyQAA\n",
       "AAAAAACEkAwAAAAAAABACMkAAAAAAAAAhJAMAAAAAAAAQAjJAAAAAAAAAISQDAAAAAAAAEAIyQAA\n",
       "AAAAAACEkAwAAAAAAABACMkAAAAAAAAAhJAMAAAAAAAAQAjJAAAAAAAAAISQDAAAAAAAAEAIyQAA\n",
       "AAAAAACEkAwAAAAAAABACMkAAAAAAAAAhJAMAAAAAAAAQAjJAAAAAAAAAISQDAAAAAAAAEAIyQAA\n",
       "AAAAAACEkAwAAAAAAABACMkAAAAAAAAAhJAMAAAAAAAAQAjJAAAAAAAAAISQDAAAAAAAAEAIyQAA\n",
       "AAAAAACEkAwAAAAAAABACMkAAAAAAAAAhJAMAAAAAAAAQAjJAAAAAAAAAISQDAAAAAAAAEAIyQAA\n",
       "AAAAAACEkAwAAAAAAABACMkAAAAAAAAAhJAMAAAAAAAAQAjJAAAAAAAAAISQDAAAAAAAAEAIyQAA\n",
       "AAAAAACEkAwAAAAAAABACMkAAAAAAAAAhJAMAAAAAAAAQAjJAAAAAAAAAISQDAAAAAAAAEAIyQAA\n",
       "AAAAAACEkAwAAAAAAABACMkAAAAAAAAAhJAMAAAAAAAAQAjJAAAAAAAAAISQDAAAAAAAAEAIyQAA\n",
       "AAAAAACEkAwAAAAAAABACMkAAAAAAAAAhJAMAAAAAAAAQAjJAAAAAAAAAISQDAAAAAAAAEAIyQAA\n",
       "AAAAAACEkAwAAAAAAABACMkAAAAAAAAAhJAMAAAAAAAAQAjJAAAAAAAAAISQDAAAAAAAAEAIyQAA\n",
       "AAAAAACEkAwAAAAAAABACMkAAAAAAAAAhJAMAAAAAAAAQAjJAAAAAAAAAISQDAAAAAAAAEAIyQAA\n",
       "AAAAAACEkAwAAAAAAABACMkAAAAAAAAAhJAMAAAAAAAAQAjJAAAAAAAAAISQDAAAAAAAAEAIyQAA\n",
       "v+zbsQ2DUBQEwYRe6L8G55TgCtwAko2JNyJ8+tJMBZevDgAAAACAEJIBAAAAAAAACCEZAAAAAAAA\n",
       "gBCSAQAAAAAAAAghGQAAAAAAAIAQkgEAAAAAAAAIIRkAAAAAAACAEJIBAAAAAAAACCEZAAAAAAAA\n",
       "gBCSAQAAAAAAAAghGQAAAAAAAIAQkgEAAAAAAAAIIRkAAAAAAACAEJIBAAAAAAAACCEZAAAAAAAA\n",
       "gBCSAQAAAAAAAAghGQAAAAAAAIAQkgEAAAAAAAAIIRkAAAAAAACAEJIBAAAAAAAACCEZAAAAAAAA\n",
       "gBCSAQAAAAAAAAghGQAAAAAAAIAQkgEAAAAAAAAIIRkAAAAAAACAEJIBAAAAAAAACCEZAAAAAAAA\n",
       "gBCSAQAAAAAAAAghGQAAAAAAAIAQkgEAAAAAAAAIIRkAAAAAAACAEJIBAAAAAAAACCEZAAAAAAAA\n",
       "gBCSAQAAAAAAAAghGQAAAAAAAIAQkgEAAAAAAAAIIRkAAAAAAACAEJIBAAAAAAAACCEZAAAAAAAA\n",
       "gBCSAQAAAAAAAAghGQAAAAAAAIAQkgEAAAAAAAAIIRkAAAAAAACAEJIBAAAAAAAACCEZAAAAAAAA\n",
       "gBCSAQAAAAAAAAghGQAAAAAAAIAQkgEAAAAAAAAIIRkAAAAAAACA2KYHrOT7P6cnAACwutd7egEA\n",
       "AAAAPPJIBgAAAAAAACCEZAAAAAAAAABCSAYAAAAAAAAghGQAAAAAAAAAQkgGAAAAAAAAIIRkAAAA\n",
       "AAAAAEJIBgAAAAAAACCEZAAAAAAAAABCSAYAAAAAAAAghGQAAAAAAAAAQkgGAAAAAAAAIIRkAAAA\n",
       "AAAAAEJIBgAAAAAAACCEZAAAAAAAAABCSAYAAAAAAAAghGQAAAAAAAAAQkgGAAAAAAAAIIRkAAAA\n",
       "AAAAAEJIBgAAAAAAACCEZAAAAAAAAABCSAYAAAAAAAAghGQAAAAAAAAAQkgGAAAAAAAAIIRkAAAA\n",
       "AAAAAEJIBgAAAAAAACCEZAAAAAAAAABCSAYAAAAAAAAghGQAAAAAAAAAQkgGAAAAAAAAIIRkAAAA\n",
       "AAAAAEJIBgAAAAAAACCEZAAAAAAAAABCSAYAAAAAAAAghGQAAAAAAAAAQkgGAAAAAAAAIIRkAAAA\n",
       "AAAAAEJIBgAAAAAAACCEZAAAAAAAAABCSAYAAAAAAAAghGQAAAAAAAAAQkgGAAAAAAAAIIRkAAAA\n",
       "AAAAAEJIBgAAAAAAACCEZAAAAAAAAABCSAYAAAAAAAAghGQAAAAAAAAAQkgGAAAAAAAAIIRkAAAA\n",
       "AAAAAEJIBgAAAAAAACCEZAAAAAAAAABCSAYAAAAAAAAghGQAAAAAAAAAQkgGAAAAAAAAIIRkAAAA\n",
       "AAAAAEJIBgAAAAAAACCEZAAAAAAAAABCSAYAAAAAAAAghGQAAAAAAAAAQkgGAAAAAAAAIIRkAAAA\n",
       "AAAAAEJIBgAAAAAAACCEZAAAAAAAAABCSAYAAAAAAAAghGQAAAAAAAAAQkgGAAAAAAAAIIRkAAAA\n",
       "AAAAAEJIBgAAAAAAACCEZAAAAAAAAABCSAYAAAAAAAAghGQAAAAAAAAAQkgGAAAAAAAAIIRkAAAA\n",
       "AAAAAEJIBgAAAAAAACCEZAAAAAAAAABCSAYAAAAAAAAghGQAAAAAAAAAQkgGAAAAAAAAIIRkAAAA\n",
       "AAAAAEJIBgAAAAAAACCEZAAAAAAAAABCSAYAAAAAAAAghGQAAAAAAAAAQkgGAAAAAAAAIIRkAAAA\n",
       "AAAAAEJIBgAAAAAAACCEZAAAAAAAAABCSAYAAAAAAAAghGQAAAAAAAAAQkgGAAAAAAAAIIRkAAAA\n",
       "AAAAAEJIBgAAAAAAACCEZAAAAAAAAABCSAYAAAAAAAAghGQAAAAAAAAAQkgGAAAAAAAAIIRkAAAA\n",
       "AAAAAEJIBgAAAAAAACCEZAAAAAAAAABCSAYAAAAAAAAghGQAAAAAAAAAQkgGAAAAAAAAIIRkAAAA\n",
       "AAAAAEJIBgAAAAAAACCEZAAAAAAAAABCSAYAAAAAAAAghGQAAAAAAAAAQkgGAAAAAAAAIIRkAAAA\n",
       "AAAAAEJIBgAAAAAAACCEZAAAAAAAAABCSAYAAAAAAAAghGQAAAAAAAAAQkgGAAAAAAAAIIRkAAAA\n",
       "AAAAAEJIBgAAAAAAACCEZAAAAAAAAABCSAYAAAAAAAAghGQAAAAAAAAAQkgGAAAAAAAAIIRkAAAA\n",
       "AAAAAEJIBgAAAAAAACCEZAAAAAAAAABCSAYAAAAAAAAghGQAAAAAAAAAQkgGAAAAAAAAIIRkAAAA\n",
       "AAAAAEJIBgAAAAAAACCEZAAAAAAAAABCSAYAAAAAAAAghGQAAAAAAAAAQkgGAAAAAAAAIIRkAAAA\n",
       "AAAAAEJIBgAAAAAAACCEZAAAAAAAAABCSAYAAAAAAAAghGQAAAAAAAAAQkgGAAAAAAAAIIRkAAAA\n",
       "AAAAAEJIBgAAAAAAACCEZAAAAAAAAABCSAYAAAAAAAAghGQAAAAAAAAAQkgGAAAAAAAAIIRkAAAA\n",
       "AAAAAEJIBgAAAAAAACCEZAAAAAAAAABCSAYAAAAAAAAghGQAAAAAAAAAQkgGAAAAAAAAIIRkAAAA\n",
       "AAAAAEJIBgAAAAAAACCEZAAAAAAAAABCSAYAAAAAAAAghGQAAAAAAAAAQkgGAAAAAAAAIIRkAAAA\n",
       "AAAAAEJIBgAAAAAAACCEZAAAAAAAAABCSAYAAAAAAAAghGQAAAAAAAAAQkgGAAAAAAAAIIRkAAAA\n",
       "AAAAAEJIBgAAAAAAACCEZAAAAAAAAABCSAYAAAAAAAAghGQAAAAAAAAAQkgGAAAAAAAAIIRkAAAA\n",
       "AAAAAEJIBgAAAAAAACCEZAAAAAAAAABCSAYAAAAAAAAghGQAAAAAAAAAQkgGAAAAAAAAIIRkAAAA\n",
       "AAAAAEJIBgAAAAAAACCEZAAAAAAAAABCSAYAAAAAAAAghGQAAAAAAAAAQkgGAAAAAAAAIIRkAAAA\n",
       "AAAAAEJIBgAAAAAAACCEZAAAAAAAAABCSAYAAAAAAAAghGQAAAAAAAAAQkgGAAAAAAAAIIRkAAAA\n",
       "AAAAAEJIBgAAAAAAACCEZAAAAAAAAABCSAYAAAAAAAAghGQAAAAAAAAAQkgGAAAAAAAAIIRkAAAA\n",
       "AAAAAEJIBgAAAAAAACCEZAAAAAAAAABCSAYAAAAAAAAghGQAAAAAAAAAQkgGAAAAAAAAIIRkAAAA\n",
       "AAAAAEJIBgAAAAAAACCEZAAAAAAAAABCSAYAAAAAAAAghGQAAAAAAAAAQkgGAAAAAAAAIIRkAAAA\n",
       "AAAAAEJIBgAAAAAAACCEZAAAAAAAAABCSAYAAAAAAAAghGQAAAAAAAAAQkgGAAAAAAAAIIRkAAAA\n",
       "AAAAAEJIBgAAAAAAACCEZAAAAAAAAABCSAYAAAAAAAAghGQAAAAAAAAAQkgGAAAAAAAAIIRkAAAA\n",
       "AAAAAEJIBgAAAAAAACCEZAAAAAAAAABCSAYAAAAAAAAghGQAAAAAAAAAQkgGAAAAAAAAIIRkAAAA\n",
       "AAAAAEJIBgAAAAAAACCEZAAAAAAAAABCSAYAAAAAAAAghGQAAAAAAAAAQkgGAAAAAAAAIIRkAAAA\n",
       "AAAAAEJIBgAAAAAAACCEZAAAAAAAAABCSAYAAAAAAAAghGQAAAAAAAAAQkgGAAAAAAAAIIRkAAAA\n",
       "AAAAAEJIBgAAAAAAACCEZAAAAAAAAABCSAYAAAAAAAAghGQAAAAAAAAAQkgGAAAAAAAAIIRkAAAA\n",
       "AAAAAEJIBgAAAAAAACCEZAAAAAAAAABCSAYAAAAAAAAghGQAAAAAAAAAQkgGAAAAAAAAIIRkAAAA\n",
       "AAAAAEJIBgAAAAAAACCEZAAAAAAAAABCSAYAAAAAAAAghGQAAAAAAAAAQkgGAAAAAAAAIIRkAAAA\n",
       "AAAAAEJIBgAAAAAAACCEZAAAAAAAAABCSAYAAAAAAAAghGQAAAAAAAAAQkgGAAAAAAAAIIRkAAAA\n",
       "AAAAAEJIBgAAAAAAACCEZAAAAAAAAABCSAYAAAAAAAAghGQAAAAAAAAAQkgGAAAAAAAAIIRkAAAA\n",
       "AAAAAEJIBgAAAAAAACCEZAAAAAAAAABCSAYAAAAAAAAghGQAAAAAAAAAQkgGAAAAAAAAIIRkAAAA\n",
       "AAAAAEJIBgAAAAAAACCEZAAAAAAAAABCSKAzHpIAABYlSURBVAYAAAAAAAAghGQAAAAAAAAAQkgG\n",
       "AAAAAAAAIIRkAAAAAAAAAEJIBgAAAAAAACCEZAAAAAAAAABCSAYAAAAAAAAghGQAAAAAAAAAQkgG\n",
       "AAAAAAAAIIRkAAAAAAAAAEJIBgAAAAAAACCEZAAAAAAAAABCSAYAAAAAAAAghGQAAAAAAAAAQkgG\n",
       "AAAAAAAAILbpASv5Xef0BAAAFvc59ukJAAAAAPDIIxkAAAAAAACAEJIBAAAAAAAACCEZAAAAAAAA\n",
       "gBCSAQAAAAAAAAghGQAAAAAAAIAQkgEAAAAAAAAIIRkAAAAAAACAEJIBAAAAAAAACCEZAAAAAAAA\n",
       "gBCSAQAAAAAAAAghGQAAAAAAAIAQkgEAAAAAAAAIIRkAAAAAAACAEJIBAAAAAAAACCEZAAAAAAAA\n",
       "gBCSAQAAAAAAAAghGQAAAAAAAIAQkgEAAAAAAAAIIRkAAAAAAACAEJIBAAAAAAAACCEZAAAAAAAA\n",
       "gBCSAQAAAAAAAAghGQAAAAAAAIAQkgEAAAAAAAAIIRkAAAAAAACAEJIBAAAAAAAACCEZAAAAAAAA\n",
       "gBCSAQAAAAAAAAghGQAAAAAAAIAQkgEAAAAAAAAIIRkAAAAAAACAEJIBAAAAAAAACCEZAAAAAAAA\n",
       "gBCSAQAAAAAAAAghGQAAAAAAAIAQkgEAAAAAAAAIIRkAAAAAAACAEJIBAAAAAAAACCEZAAAAAAAA\n",
       "gBCSAQAAAAAAAAghGQAAAAAAAIAQkgEAAAAAAAAIIRkAAAAAAACAEJIBAAAAAAAACCEZAAAAAAAA\n",
       "gBCSAQAAAAAAAAghGQAAAAAAAIAQkgEAAAAAAAAIIRkAAAAAAACAEJIBAAAAAAAACCEZAAAAAAAA\n",
       "gBCSAQAAAAAAAAghGQAAAAAAAIAQkgEAAAAAAAAIIRkAAAAAAACAEJIBAAAAAAAACCEZAAAAAAAA\n",
       "gBCSAQAAAAAAAAghGQAAAAAAAIAQkgEAAAAAAAAIIRkAAAAAAACAEJIBAAAAAAAACCEZAAAAAAAA\n",
       "gBCSAQAAAAAAAAghGQAAAAAAAIAQkgEAAAAAAAAIIRkAAAAAAACAEJIBAAAAAAAACCEZAAAAAAAA\n",
       "gBCSAQAAAAAAAAghGQAAAAAAAIAQkgEAAAAAAAAIIRkAAAAAAACAEJIBAAAAAAAACCEZAAAAAAAA\n",
       "gBCSAQAAAAAAAAghGQAAAAAAAIAQkgEAAAAAAAAIIRkAAAAAAACAEJIBAAAAAAAACCEZAAAAAAAA\n",
       "gBCSAQAAAAAAAAghGQAAAAAAAIAQkgEAAAAAAAAIIRkAAAAAAACAEJIBAAAAAAAACCEZAAAAAAAA\n",
       "gBCSAQAAAAAAAAghGQAAAAAAAIAQkgEAAAAAAAAIIRkAAAAAAACAEJIBAAAAAAAACCEZAAAAAAAA\n",
       "gBCSAQAAAAAAAAghGQAAAAAAAIAQkgEAAAAAAAAIIRkAAAAAAACAEJIBAAAAAAAACCEZAAAAAAAA\n",
       "gBCSAQAAAAAAAAghGQAAAAAAAIAQkgEAAAAAAAAIIRkAAAAAAACAEJIBAAAAAAAACCEZAAAAAAAA\n",
       "gBCSAQAAAAAAAAghGQAAAAAAAIAQkgEAAAAAAAAIIRkAAAAAAACAEJIBAAAAAAAACCEZAAAAAAAA\n",
       "gBCSAQAAAAAAAAghGQAAAAAAAIAQkgEAAAAAAAAIIRkAAAAAAACAEJIBAAAAAAAACCEZAAAAAAAA\n",
       "gBCSAQAAAAAAAAghGQAAAAAAAIAQkgEAAAAAAAAIIRkAAAAAAACAEJIBAAAAAAAACCEZAAAAAAAA\n",
       "gBCSAQAAAAAAAAghGQAAAAAAAIAQkgEAAAAAAAAIIRkAAAAAAACAEJIBAAAAAAAACCEZAAAAAAAA\n",
       "gBCSAQAAAAAAAAghGQAAAAAAAIAQkgEAAAAAAAAIIRkAAAAAAACAEJIBAAAAAAAACCEZAAAAAAAA\n",
       "gBCSAQAAAAAAAAghGQAAAAAAAIAQkgEAAAAAAAAIIRkAAAAAAACAEJIBAAAAAAAACCEZAAAAAAAA\n",
       "gBCSAQAAAAAAAAghGQAAAAAAAIAQkgEAAAAAAAAIIRkAAAAAAACAEJIBAAAAAAAACCEZAAAAAAAA\n",
       "gBCSAQAAAAAAAAghGQAAAAAAAIAQkgEAAAAAAAAIIRkAAAAAAACAEJIBAAAAAAAACCEZAAAAAAAA\n",
       "gBCSAQAAAAAAAAghGQAAAAAAAIAQkgEAAAAAAAAIIRkAAAAAAACAEJIBAAAAAAAACCEZAAAAAAAA\n",
       "gBCSAQAAAAAAAAghGQAAAAAAAIAQkgEAAAAAAAAIIRkAAAAAAACAEJIBAAAAAAAACCEZAAAAAAAA\n",
       "gBCSAQAAAAAAAAghGQAAAAAAAIAQkgEAAAAAAAAIIRkAAAAAAACAEJIBAAAAAAAACCEZAAAAAAAA\n",
       "gBCSAQAAAAAAAAghGQAAAAAAAIAQkgEAAAAAAAAIIRkAAAAAAACAEJIBAAAAAAAACCEZAAAAAAAA\n",
       "gBCSAQAAAAAAAAghGQAAAAAAAIAQkgEAAAAAAAAIIRkAAAAAAACAEJIBAAAAAAAACCEZAAAAAAAA\n",
       "gBCSAQAAAAAAAAghGQAAAAAAAIAQkgEAAAAAAAAIIRkAAAAAAACAEJIBAAAAAAAACCEZAAAAAAAA\n",
       "gBCSAQAAAAAAAAghGQDu9u3QBkAgiKKgoR/67wRBIwg49FNgCLlkRq/4/mUBAAAAAIAQkgEAAAAA\n",
       "AAAIIRkAAAAAAACAEJIBAAAAAAAACCEZAAAAAAAAgBCSAQAAAAAAAAghGQAAAAAAAIAQkgEAAAAA\n",
       "AAAIIRkAAAAAAACAEJIBAAAAAAAACCEZAAAAAAAAgBCSAQAAAAAAAAghGQAAAAAAAIAQkgEAAAAA\n",
       "AAAIIRkAAAAAAACAEJIBAAAAAAAACCEZAAAAAAAAgBCSAQAAAAAAAAghGQAAAAAAAIAQkgEAAAAA\n",
       "AAAIIRkAAAAAAACAEJIBAAAAAAAACCEZAAAAAAAAgBCSAQAAAAAAAAghGQAAAAAAAIAQkgEAAAAA\n",
       "AAAIIRkAAAAAAACAEJIBAAAAAAAACCEZAAAAAAAAgBCSAQAAAAAAAAghGQAAAAAAAIAQkgEAAAAA\n",
       "AAAIIRkAAAAAAACAEJIBAAAAAAAACCEZAAAAAAAAgBCSAQAAAAAAAAghGQAAAAAAAIAQkgEAAAAA\n",
       "AAAIIRkAAAAAAACAEJIBAAAAAAAACCEZAAAAAAAAgBCSAQAAAAAAAAghGQAAAAAAAIAQkgEAAAAA\n",
       "AAAIIRkAAAAAAACAEJIBAAAAAAAACCEZAAAAAAAAgBCSAQAAAAAAAAghGQAAAAAAAIAQkgEAAAAA\n",
       "AAAIIRkAAAAAAACAEJIBAAAAAAAACCEZAAAAAAAAgBCSAQAAAAAAAAghGQAAAAAAAIAQkgEAAAAA\n",
       "AAAIIRkAAAAAAACAEJIBAAAAAAAACCEZAAAAAAAAgBCSAQAAAAAAAAghGQAAAAAAAIAQkgEAAAAA\n",
       "AAAIIRkAAAAAAACAEJIBAAAAAAAACCEZAAAAAAAAgBCSAQAAAAAAAAghGQAAAAAAAIAQkgEAAAAA\n",
       "AAAIIRkAAAAAAACAEJIBAAAAAAAACCEZAAAAAAAAgBCSAQAAAAAAAAghGQAAAAAAAIAQkgEAAAAA\n",
       "AAAIIRkAAAAAAACAEJIBAAAAAAAACCEZAAAAAAAAgBCSAQAAAAAAAAghGQAAAAAAAIAQkgEAAAAA\n",
       "AAAIIRkAAAAAAACAEJIBAAAAAAAACCEZAAAAAAAAgBCSAQAAAAAAAAghGQAAAAAAAIAQkgEAAAAA\n",
       "AAAIIRkAAAAAAACAEJIBAAAAAAAACCEZAAAAAAAAgBCSAQAAAAAAAAghGQAAAAAAAIAQkgEAAAAA\n",
       "AAAIIRkAAAAAAACAEJIBAAAAAAAACCEZAAAAAAAAgBCSAQAAAAAAAAghGQAAAAAAAIBYXl2N8fGM\n",
       "OZzX8fcEAAAmt+3r3xMAAAAA4JGPZAAAAAAAAABCSAYAAAAAAAAghGQAAAAAAAAAQkgGAAAAAAAA\n",
       "IIRkAAAAAAAAAEJIBgAAAAAAACCEZAAAAAAAAABCSAYAAAAAAAAghGQAAAAAAAAAQkgGAAAAAAAA\n",
       "IIRkAAAAAAAAAEJIBgAAAAAAACCEZAAAAAAAAABCSAYAAAAAAAAghGQAAAAAAAAAQkgGAAAAAAAA\n",
       "IIRkAAAAAAAAAEJIBgAAAAAAACCEZAAAAAAAAABCSAYAAAAAAAAghGQAAAAAAAAAQkgGAAAAAAAA\n",
       "IIRkAAAAAAAAAEJIBgAAAAAAACCEZAAAAAAAAABCSAYAAAAAAAAghGQAAAAAAAAAQkgGAAAAAAAA\n",
       "IIRkAAAAAAAAAEJIBgAAAAAAACCEZAAAAAAAAABCSAYAAAAAAAAghGQAAAAAAAAAQkgGAAAAAAAA\n",
       "IIRkAAAAAAAAAEJIBgAAAAAAACCEZAAAAAAAAABCSAYAAAAAAAAghGQAAAAAAAAAQkgGAAAAAAAA\n",
       "IIRkAAAAAAAAAEJIBgAAAAAAACCEZAAAAAAAAABCSAYAAAAAAAAghGQAAAAAAAAAQkgGAAAAAAAA\n",
       "IIRkAAAAAAAAAEJIBgAAAAAAACCEZAAAAAAAAABCSAYAAAAAAAAghGQAAAAAAAAAQkgGAAAAAAAA\n",
       "IIRkAAAAAAAAAEJIBgAAAAAAACCEZAAAAAAAAABCSAYAAAAAAAAghGQAAAAAAAAAQkgGAAAAAAAA\n",
       "IIRkAAAAAAAAAEJIBgAAAAAAACCEZAAAAAAAAABCSAYAAAAAAAAghGQAAAAAAAAAQkgGAAAAAAAA\n",
       "IIRkAAAAAAAAAEJIBgAAAAAAACCEZAAAAAAAAABCSAYAAAAAAAAghGQAAAAAAAAAQkgGAAAAAAAA\n",
       "IIRkAAAAAAAAAEJIBgAAAAAAACCEZAAAAAAAAABCSAYAAAAAAAAghGQAAAAAAAAAQkgGAAAAAAAA\n",
       "IIRkAAAAAAAAAEJIBgAAAAAAACCEZAAAAAAAAABCSAYAAAAAAAAghGQAAAAAAAAAQkgGAAAAAAAA\n",
       "IIRkAAAAAAAAAEJIBgAAAAAAACCEZAAAAAAAAABCSAYAAAAAAAAghGQAAAAAAAAAQkgGAAAAAAAA\n",
       "IIRkAAAAAAAAAEJIBgAAAAAAACCEZAAAAAAAAABCSAYAAAAAAAAghGQAAAAAAAAAQkgGAAAAAAAA\n",
       "IIRkAAAAAAAAAEJIBgAAAAAAACCEZAAAAAAAAABCSAYAAAAAAAAghGQAAAAAAAAAQkgGAAAAAAAA\n",
       "IIRkAAAAAAAAAEJIBgAAAAAAACCEZAAAAAAAAABCSAYAAAAAAAAghGQAAAAAAAAAQkgGAAAAAAAA\n",
       "IIRkAAAAAAAAAEJIBgAAAAAAACCEZAAAAAAAAABCSAYAAAAAAAAghGQAAAAAAAAAQkgGAAAAAAAA\n",
       "IIRkAAAAAAAAAEJIBgAAAAAAACCEZAAAAAAAAABCSAYAAAAAAAAghGQAAAAAAAAAQkgGAAAAAAAA\n",
       "IIRkAAAAAAAAAEJIBgAAAAAAACCEZAAAAAAAAABCSAYAAAAAAAAghGQAAAAAAAAAQkgGAAAAAAAA\n",
       "IIRkAAAAAAAAAEJIBgAAAAAAACCEZAAAAAAAAABCSAYAAAAAAAAghGQAAAAAAAAAQkgGAAAAAAAA\n",
       "IIRkAAAAAAAAAEJIBgAAAAAAACCEZAAAAAAAAABCSAYAAAAAAAAghGQAAAAAAAAAQkgGAAAAAAAA\n",
       "IIRkAAAAAAAAAEJIBgAAAAAAACCEZAAAAAAAAABCSAYAAAAAAAAghGQAAAAAAAAAQkgGAAAAAAAA\n",
       "IIRkAAAAAAAAAEJIBgAAAAAAACCEZAAAAAAAAABCSAYAAAAAAAAghGQAAAAAAAAAQkgGAAAAAAAA\n",
       "IIRkAAAAAAAAAEJIBgAAAAAAACCEZAAAAAAAAABCSAYAAAAAAAAghGQAAAAAAAAAQkgGAAAAAAAA\n",
       "IIRkAAAAAAAAAEJIBgAAAAAAACCEZAAAAAAAAABCSAYAAAAAAAAghGQAAAAAAAAAQkgGAAAAAAAA\n",
       "IIRkAAAAAAAAAEJIBgAAAAAAACCEZAAAAAAAAABCSAYAAAAAAAAghGQAAAAAAAAAQkgGAAAAAAAA\n",
       "IIRkAAAAAAAAAEJIBgAAAAAAACCEZAAAAAAAAABCSAYAAAAAAAAghGQAAAAAAAAAQkgGAAAAAAAA\n",
       "IIRkAAAAAAAAAEJIBgAAAAAAACCEZAAAAAAAAABCSAYAAAAAAAAghGQAAAAAAAAAQkgGAAAAAAAA\n",
       "IIRkAAAAAAAAAEJIBgAAAAAAACCEZAAAAAAAAABCSAYAAAAAAAAghGQAAAAAAAAAQkgGAAAAAAAA\n",
       "IIRkAAAAAAAAAEJIBgAAAAAAACCEZAAAAAAAAABCSAYAAAAAAAAghGQAAAAAAAAAQkgGAAAAAAAA\n",
       "IIRkAAAAAAAAAEJIBgAAAAAAACCEZAAAAAAAAABCSAYAAAAAAAAghGQAAAAAAAAAQkgGAAAAAAAA\n",
       "IIRkAAAAAAAAAEJIBgAAAAAAACCEZAAAAAAAAABCSAYAAAAAAAAghGQAAAAAAAAAQkgGAAAAAAAA\n",
       "IIRkAAAAAAAAAEJIBgAAAAAAACCEZAAAAAAAAABCSAYAAAAAAAAghGQAAAAAAAAAQkgGAAAAAAAA\n",
       "IIRkAAAAAAAAAEJIBgAAAAAAACCEZAAAAAAAAABCSAYAAAAAAAAghGQAAAAAAAAAQkgGAAAAAAAA\n",
       "IIRkAAAAAAAAAEJIBgAAAAAAACCEZAAAAAAAAABCSAYAAAAAAAAghGQAAAAAAAAAQkgGAAAAAAAA\n",
       "IIRkAAAAAAAAAEJIBgAAAAAAACCEZAAAAAAAAABCSAYAAAAAAAAghGQAAAAAAAAAQkgGAAAAAAAA\n",
       "IIRkAAAAAAAAAEJIBgAAAAAAACCEZAAAAAAAAABCSAYAAAAAAAAghGQAAAAAAAAAQkgGAAAAAAAA\n",
       "IIRkAAAAAAAAAEJIBgAAAAAAACCEZAAAAAAAAABCSAYAAAAAAAAghGQAAAAAAAAAQkgGAAAAAAAA\n",
       "IIRkAAAAAAAAAEJIBgAAAAAAACCEZAAAAAAAAABCSAYAAAAAAAAghGQAAAAAAAAAQkgGAAAAAAAA\n",
       "IIRkAAAAAAAAAEJIBgAAAAAAACCEZAAAAAAAAABCSAYAAAAAAAAghGQAAAAAAAAAQkgGAAAAAAAA\n",
       "IIRkAAAAAAAAAEJIBgAAAAAAACCEZAAAAAAAAABCSAYAAAAAAAAghGQAAAAAAAAAQkgGAAAAAAAA\n",
       "IIRkAAAAAAAAAEJIBgAAAAAAACCEZAAAAAAAAABCSAYAAAAAAAAghGQAAAAAAAAAQkgGAAAAAAAA\n",
       "IIRkAAAAAAAAAEJIBgAAAAAAACCEZAAAAAAAAABCSAYAAAAAAAAghGQAAAAAAAAAQkgGAAAAAAAA\n",
       "IIRkAAAAAAAAAEJIBgAAAAAAACCEZAAAAAAAAABCSAYAAAAAAAAghGQAAAAAAAAAQkgGAAAAAAAA\n",
       "IIRkAAAAAAAAAEJIBgAAAAAAACCEZAAAAAAAAABCSAYAAAAAAAAghGQAAAAAAAAAQkgGAAAAAAAA\n",
       "IIRkAAAAAAAAAEJIBgAAAAAAACCEZAAAAAAAAABCSAYAAAAAAAAghGQAAAAAAAAAQkgGAAAAAAAA\n",
       "IG5xfCIYIEZiCwAAAABJRU5ErkJggg==\n",
       "\" transform=\"translate(175, 47)\"/>\n",
       "</g>\n",
       "<defs>\n",
       "  <clipPath id=\"clip653\">\n",
       "    <rect x=\"2160\" y=\"47\" width=\"73\" height=\"1440\"/>\n",
       "  </clipPath>\n",
       "</defs>\n",
       "<g clip-path=\"url(#clip653)\">\n",
       "<image width=\"72\" height=\"1439\" xlink:href=\"data:image/png;base64,\n",
       "iVBORw0KGgoAAAANSUhEUgAAAEgAAAWfCAYAAAAI7rB3AAAMWUlEQVR4nO3dwY0rRxAFwaZQ/lsh\n",
       "L6XfLQtUeSQPERYsEg8c9MyQ+/n3/v0O/+uvb/8Bv06gIFAQKAgU5r5/v/03/DQLCgIFgYJAQaAw\n",
       "7/359t/w0ywoCBQECgIFR41gQUGgIFAQKAgU5rmKrSwoCBQECgIFgcK86yq2saAgUBAoCBQcNYIF\n",
       "BYGCQEGgIFBwFQsWFAQKAgWBgvtBwYKCQEGgIFAQKMxx1FhZUBAoCBQECgIFN8yCBQWBgkBBoDDH\n",
       "DbOVBQWBgkBBoCBQmHP/+fbf8NMsKAgUBAoCBYGCxz7BgoJAQaAgUHDDLFhQECgIFAQKAgVXsWBB\n",
       "QaAgUBAouB8ULCgIFAQKAgWBwnwcNVYWFAQKAgWBgkBhzvWfWTYWFAQKAgWBgqNGsKAgUBAoCBQE\n",
       "Co4awYKCQEGgIFAQKHjDLFhQECgIFAQK83HUWFlQECgIFAQKAgXvSQcLCgIFgYJAwVEjWFAQKAgU\n",
       "BAoCBc/mgwUFgYJAQaAgUHAWCxYUBAoCBYGCo0awoCBQECgIFAQKjhrBgoJAQaAgUBAozLn323/D\n",
       "T7OgIFAQKAgUHDWCBQWBgkBBoCBQ8NgnWFAQKAgUBAo+pIMFBYGCQEGgIFCYj6caKwsKAgWBgkBB\n",
       "oOAsFiwoCBQECgIFL1AFCwoCBYGCQEGg4IZZsKAgUBAoCBTcDwoWFAQKAgWBgkDBDbNgQUGgIFAQ\n",
       "KAgUXMWCBQWBgkBBoOB788GCgkBBoCBQECg4agQLCgIFgYJAQaDgKhYsKAgUBAoCBR/SwYKCQEGg\n",
       "IFAQKLiKBQsKAgWBgkBhzvMhvbGgIFAQKAgUBAqOGsGCgkBBoCBQECi4igULCgIFgYJAwYd0sKAg\n",
       "UBAoCBQECnPu+/bf8NMsKAgUBAoCBYGCs1iwoCBQECgIFBw1ggUFgYJAQaAgUHDUCBYUBAoCBYGC\n",
       "o0awoCBQECgIFAQKc5w0VhYUBAoCBYGCQGHOcxbbWFAQKAgUBAqOGsGCgkBBoCBQECi4igULCgIF\n",
       "gYJAQaAwfohzZ0FBoCBQECg4agQLCgIFgYJAQaDgKhYsKAgUBAoChTn38+2/4adZUBAoCBQECgKF\n",
       "ec9VbGNBQaAgUBAoCBTcMAsWFAQKAgWBghtmwYKCQEGgIFAQKMy7Gm3UCQIFgYJAwVEjWFAQKAgU\n",
       "BAoChTmeza8sKAgUBAoCBYHCPGexlQUFgYJAQaAwx1ONlTpBoCBQECgIFBw1ggUFgYJAQaAgUPDY\n",
       "J1hQECgIFAQKXgMO6gSBgkBBoCBQ8J50sKAgUBAoCBQ81QgWFAQKAgWBgkBh3tNoo04QKAgUBAoC\n",
       "BTfMggUFgYJAQaDghlmwoCBQECgIFAQKc9wwW6kTBAoCBYGCQMFZLFhQECgIFAQKPqSDBQWBgkBB\n",
       "oCBQ8L35YEFBoCBQECj43nxQJwgUBAoCBYHCPEeNlQUFgYJAQaAgUPDYJ1hQECgIFAQK/jNLUCcI\n",
       "FAQKAgWBghtmwYKCQEGgIFAQKLhhFiwoCBQECgIFR41gQUGgIFAQKAgUvCcd1AkCBYGCQMFRI1hQ\n",
       "ECgIFAQKAgVPNYIFBYGCQEGgIFBwFgsWFAQKAgWBgn+fFSwoCBQECgIFgYJ/ZRzUCQIFgYJAQaDg\n",
       "hlmwoCBQECgIFDybDxYUBAoCBYGCQMFRI1hQECgIFAQKc31IrywoCBQECgIFgYLvzQd1gkBBoCBQ\n",
       "ECi4YRYsKAgUBAoCBR/SwYKCQEGgIFAQKHjDLFhQECgIFAQKjhrBgoJAQaAgUBAouIoFCwoCBYGC\n",
       "QEGg4NdfgjpBoCBQECjM9VRjZUFBoCBQECgIFNwwCxYUBAoCBYGCQMFVLFhQECgIFAQKPqSDBQWB\n",
       "gkBBoCBQ8BtmwYKCQEGgIFBw1AgWFAQKAgWBgkDBVSxYUBAoCBQECgIFX2YJ6gSBgkBBoODLLMGC\n",
       "gkBBoCBQECi4YRYsKAgUBAoCBYGCq1iwoCBQECgIFLwGHCwoCBQECgIFgYKjRrCgIFAQKAgU5h0f\n",
       "0hsLCgIFgYJAQaDghlmwoCBQECgIFAQKbpgFCwoCBYGCQMFRI1hQECgIFAQKAgVHjWBBQaAgUBAo\n",
       "CBScxYIFBYGCQEGg4KgRLCgIFAQKAgWBgqtYsKAgUBAoCBTm+jLLyoKCQEGgIFAQKDhqBAsKAgWB\n",
       "gkBBoODZfLCgIFAQKAgU5r1v/wm/zYKCQEGgIFAQKDhqBAsKAgWBgkDBD00GCwoCBYGCQEGg4KgR\n",
       "LCgIFAQKAgWBgjfMggUFgYJAQaDgyyzBgoJAQaAgUBAoeMMsWFAQKAgUBAoCBY99ggUFgYJAQaDg\n",
       "qUawoCBQECgIFAQKHvsECwoCBYGCQMH9oGBBQaAgUBAoCBQ8mw8WFAQKAgWBgkDBDbNgQUGgIFAQ\n",
       "KHg2HywoCBQECgIFgcLcb/8FP86CgkBBoCBQECg4iwULCgIFgYJAwRtmwYKCQEGgIFAQKLhhFiwo\n",
       "CBQECgIF94OCBQWBgkBBoCBQcNQIFhQECgIFgYJAwVksWFAQKAgUBAqezQcLCgIFgYJAQaAwfvxl\n",
       "Z0FBoCBQECgIFJzFggUFgYJAQaDg2XywoCBQECgIFAQKns0HCwoCBYGCQMFRI1hQECgIFAQKAgVH\n",
       "jWBBQaAgUBAoCBTmesVsZUFBoCBQECi4YRYsKAgUBAoCBYGCG2bBgoJAQaAgUHDUCBYUBAoCBYGC\n",
       "QGGepxorCwoCBYGCQEGgMPe4YbaxoCBQECgIFLxAFSwoCBQECgIFgYIfmgwWFAQKAgWBgkDBD00G\n",
       "CwoCBYGCQMGz+WBBQaAgUBAoCBS8Jx0sKAgUBAoCBd84DBYUBAoCBYGCQMFRI1hQECgIFAQKAgXv\n",
       "SQcLCgIFgYJAwWvAwYKCQEGgIFAQKDhqBAsKAgWBgkBBoOA96WBBQaAgUBAo+ImuYEFBoCBQECgI\n",
       "FNwwCxYUBAoCBYGCZ/PBgoJAQaAgUBAoOGoECwoCBYGCQEGg4CwWLCgIFAQKAgVHjWBBQaAgUBAo\n",
       "CBRcxYIFBYGCQEGgIFBwwyxYUBAoCBQECo4awYKCQEGgIFAQKDhqBAsKAgWBgkDBUSNYUBAoCBQE\n",
       "CgIFP9EVLCgIFAQKAgWBgv8vFiwoCBQECgIFN8yCBQWBgkBBoCBQmHdcxjYWFAQKAgWBgkDBWSxY\n",
       "UBAoCBQECp7NBwsKAgWBgkBBoODZfLCgIFAQKAgU3A8KFhQECgIFgYJAwbP5YEFBoCBQECgIFJzF\n",
       "ggUFgYJAQaDgJ7qCBQWBgkBBoCBQmOsVs5UFBYGCQEGg4AWqYEFBoCBQECgIFOY5aqwsKAgUBAoC\n",
       "BYGCs1iwoCBQECgIFDzVCBYUBAoCBYGCQMEbZsGCgkBBoCBQECjM9ZXMlQUFgYJAQaDghlmwoCBQ\n",
       "ECgIFAQKfv0lWFAQKAgUBApeoAoWFAQKAgWBgkDBU41gQUGgIFAQKAgU3DALFhQECgIFgcLc45bZ\n",
       "xoKCQEGgIFAQKLhhFiwoCBQECgIFgYKrWLCgIFAQKAgUPNUIFhQECgIFgYJAwWOfYEFBoCBQECjM\n",
       "/ThqbCwoCBQECgIFgYKjRrCgIFAQKAgUBArzXMVWFhQECgIFgYKjRrCgIFAQKAgUBApzP65iGwsK\n",
       "AgWBgkBBoOAsFiwoCBQECgIFTzWCBQWBgkBBoCBQcNQIFhQECgIFgYIP6WBBQaAgUBAoCBQ8mw8W\n",
       "FAQKAgWBgkBh3vnz7b/hp1lQECgIFAQKbpgFCwoCBYGCQEGg4A2zYEFBoCBQECjMfe4HbSwoCBQE\n",
       "CgIFgYKjRrCgIFAQKAgUBApzPZtfWVAQKAgUBAqOGsGCgkBBoCBQECg4agQLCgIFgYJAQaAw7zmL\n",
       "bSwoCBQECgIFN8yCBQWBgkBBoCBQ8J50sKAgUBAoCBQcNYIFBYGCQEGgIFCY56ixsqAgUBAoCBQE\n",
       "Cs5iwYKCQEGgIFCY6wWqlQUFgYJAQaAgUPCb9sGCgkBBoCBQECj4MkuwoCBQECgIFDzVCBYUBAoC\n",
       "BYGCQMFRI1hQECgIFAQKPqSDBQWBgkBBoCBQ8Gw+WFAQKAgUBAoCBWexYEFBoCBQECjM8Wx+ZUFB\n",
       "oCBQECgIFBw1ggUFgYJAQaAgUPCedLCgIFAQKAgU5jhqrCwoCBQECgIFgYI3zIIFBYGCQEGg4Nl8\n",
       "sKAgUBAoCBQECm6YBQsKAgWBgkBBoDDvvG//DT/NgoJAQaAgUHDDLFhQECgIFAQKAoU5jhorCwoC\n",
       "BYGCQOE/LrLuTX/wFc8AAAAASUVORK5CYII=\n",
       "\" transform=\"translate(2161, 47)\"/>\n",
       "</g>\n",
       "<path clip-path=\"url(#clip650)\" d=\"M 0 0 M2270.21 1299.71 L2288.57 1299.71 L2288.57 1303.64 L2274.5 1303.64 L2274.5 1312.11 Q2275.52 1311.77 2276.53 1311.61 Q2277.55 1311.42 2278.57 1311.42 Q2284.36 1311.42 2287.74 1314.59 Q2291.12 1317.76 2291.12 1323.18 Q2291.12 1328.76 2287.64 1331.86 Q2284.17 1334.94 2277.85 1334.94 Q2275.68 1334.94 2273.41 1334.57 Q2271.16 1334.2 2268.76 1333.46 L2268.76 1328.76 Q2270.84 1329.89 2273.06 1330.45 Q2275.28 1331 2277.76 1331 Q2281.77 1331 2284.1 1328.9 Q2286.44 1326.79 2286.44 1323.18 Q2286.44 1319.57 2284.1 1317.46 Q2281.77 1315.36 2277.76 1315.36 Q2275.89 1315.36 2274.01 1315.77 Q2272.16 1316.19 2270.21 1317.07 L2270.21 1299.71 Z\" fill=\"#000000\" fill-rule=\"evenodd\" fill-opacity=\"1\" /><path clip-path=\"url(#clip650)\" d=\"M 0 0 M2306.19 1302.79 Q2302.58 1302.79 2300.75 1306.35 Q2298.94 1309.89 2298.94 1317.02 Q2298.94 1324.13 2300.75 1327.69 Q2302.58 1331.23 2306.19 1331.23 Q2309.82 1331.23 2311.63 1327.69 Q2313.45 1324.13 2313.45 1317.02 Q2313.45 1309.89 2311.63 1306.35 Q2309.82 1302.79 2306.19 1302.79 M2306.19 1299.08 Q2312 1299.08 2315.05 1303.69 Q2318.13 1308.27 2318.13 1317.02 Q2318.13 1325.75 2315.05 1330.36 Q2312 1334.94 2306.19 1334.94 Q2300.38 1334.94 2297.3 1330.36 Q2294.24 1325.75 2294.24 1317.02 Q2294.24 1308.27 2297.3 1303.69 Q2300.38 1299.08 2306.19 1299.08 Z\" fill=\"#000000\" fill-rule=\"evenodd\" fill-opacity=\"1\" /><path clip-path=\"url(#clip650)\" d=\"M 0 0 M2333.2 1302.79 Q2329.59 1302.79 2327.76 1306.35 Q2325.95 1309.89 2325.95 1317.02 Q2325.95 1324.13 2327.76 1327.69 Q2329.59 1331.23 2333.2 1331.23 Q2336.83 1331.23 2338.64 1327.69 Q2340.47 1324.13 2340.47 1317.02 Q2340.47 1309.89 2338.64 1306.35 Q2336.83 1302.79 2333.2 1302.79 M2333.2 1299.08 Q2339.01 1299.08 2342.07 1303.69 Q2345.14 1308.27 2345.14 1317.02 Q2345.14 1325.75 2342.07 1330.36 Q2339.01 1334.94 2333.2 1334.94 Q2327.39 1334.94 2324.31 1330.36 Q2321.26 1325.75 2321.26 1317.02 Q2321.26 1308.27 2324.31 1303.69 Q2327.39 1299.08 2333.2 1299.08 Z\" fill=\"#000000\" fill-rule=\"evenodd\" fill-opacity=\"1\" /><path clip-path=\"url(#clip650)\" d=\"M 0 0 M2269.43 1164.43 L2277.07 1164.43 L2277.07 1138.06 L2268.76 1139.73 L2268.76 1135.47 L2277.02 1133.8 L2281.7 1133.8 L2281.7 1164.43 L2289.33 1164.43 L2289.33 1168.36 L2269.43 1168.36 L2269.43 1164.43 Z\" fill=\"#000000\" fill-rule=\"evenodd\" fill-opacity=\"1\" /><path clip-path=\"url(#clip650)\" d=\"M 0 0 M2304.4 1136.88 Q2300.79 1136.88 2298.96 1140.45 Q2297.16 1143.99 2297.16 1151.12 Q2297.16 1158.22 2298.96 1161.79 Q2300.79 1165.33 2304.4 1165.33 Q2308.04 1165.33 2309.84 1161.79 Q2311.67 1158.22 2311.67 1151.12 Q2311.67 1143.99 2309.84 1140.45 Q2308.04 1136.88 2304.4 1136.88 M2304.4 1133.18 Q2310.21 1133.18 2313.27 1137.78 Q2316.35 1142.37 2316.35 1151.12 Q2316.35 1159.84 2313.27 1164.45 Q2310.21 1169.03 2304.4 1169.03 Q2298.59 1169.03 2295.52 1164.45 Q2292.46 1159.84 2292.46 1151.12 Q2292.46 1142.37 2295.52 1137.78 Q2298.59 1133.18 2304.4 1133.18 Z\" fill=\"#000000\" fill-rule=\"evenodd\" fill-opacity=\"1\" /><path clip-path=\"url(#clip650)\" d=\"M 0 0 M2331.42 1136.88 Q2327.81 1136.88 2325.98 1140.45 Q2324.17 1143.99 2324.17 1151.12 Q2324.17 1158.22 2325.98 1161.79 Q2327.81 1165.33 2331.42 1165.33 Q2335.05 1165.33 2336.86 1161.79 Q2338.69 1158.22 2338.69 1151.12 Q2338.69 1143.99 2336.86 1140.45 Q2335.05 1136.88 2331.42 1136.88 M2331.42 1133.18 Q2337.23 1133.18 2340.28 1137.78 Q2343.36 1142.37 2343.36 1151.12 Q2343.36 1159.84 2340.28 1164.45 Q2337.23 1169.03 2331.42 1169.03 Q2325.61 1169.03 2322.53 1164.45 Q2319.47 1159.84 2319.47 1151.12 Q2319.47 1142.37 2322.53 1137.78 Q2325.61 1133.18 2331.42 1133.18 Z\" fill=\"#000000\" fill-rule=\"evenodd\" fill-opacity=\"1\" /><path clip-path=\"url(#clip650)\" d=\"M 0 0 M2358.43 1136.88 Q2354.82 1136.88 2352.99 1140.45 Q2351.19 1143.99 2351.19 1151.12 Q2351.19 1158.22 2352.99 1161.79 Q2354.82 1165.33 2358.43 1165.33 Q2362.07 1165.33 2363.87 1161.79 Q2365.7 1158.22 2365.7 1151.12 Q2365.7 1143.99 2363.87 1140.45 Q2362.07 1136.88 2358.43 1136.88 M2358.43 1133.18 Q2364.24 1133.18 2367.3 1137.78 Q2370.38 1142.37 2370.38 1151.12 Q2370.38 1159.84 2367.3 1164.45 Q2364.24 1169.03 2358.43 1169.03 Q2352.62 1169.03 2349.54 1164.45 Q2346.49 1159.84 2346.49 1151.12 Q2346.49 1142.37 2349.54 1137.78 Q2352.62 1133.18 2358.43 1133.18 Z\" fill=\"#000000\" fill-rule=\"evenodd\" fill-opacity=\"1\" /><path clip-path=\"url(#clip650)\" d=\"M 0 0 M2269.43 998.522 L2277.07 998.522 L2277.07 972.156 L2268.76 973.823 L2268.76 969.564 L2277.02 967.897 L2281.7 967.897 L2281.7 998.522 L2289.33 998.522 L2289.33 1002.46 L2269.43 1002.46 L2269.43 998.522 Z\" fill=\"#000000\" fill-rule=\"evenodd\" fill-opacity=\"1\" /><path clip-path=\"url(#clip650)\" d=\"M 0 0 M2294.45 967.897 L2312.81 967.897 L2312.81 971.832 L2298.73 971.832 L2298.73 980.305 Q2299.75 979.957 2300.77 979.795 Q2301.79 979.61 2302.81 979.61 Q2308.59 979.61 2311.97 982.781 Q2315.35 985.953 2315.35 991.369 Q2315.35 996.948 2311.88 1000.05 Q2308.41 1003.13 2302.09 1003.13 Q2299.91 1003.13 2297.64 1002.76 Q2295.4 1002.39 2292.99 1001.65 L2292.99 996.948 Q2295.08 998.082 2297.3 998.638 Q2299.52 999.193 2302 999.193 Q2306 999.193 2308.34 997.087 Q2310.68 994.98 2310.68 991.369 Q2310.68 987.758 2308.34 985.652 Q2306 983.545 2302 983.545 Q2300.12 983.545 2298.25 983.962 Q2296.39 984.379 2294.45 985.258 L2294.45 967.897 Z\" fill=\"#000000\" fill-rule=\"evenodd\" fill-opacity=\"1\" /><path clip-path=\"url(#clip650)\" d=\"M 0 0 M2330.42 970.976 Q2326.81 970.976 2324.98 974.541 Q2323.18 978.082 2323.18 985.212 Q2323.18 992.318 2324.98 995.883 Q2326.81 999.425 2330.42 999.425 Q2334.06 999.425 2335.86 995.883 Q2337.69 992.318 2337.69 985.212 Q2337.69 978.082 2335.86 974.541 Q2334.06 970.976 2330.42 970.976 M2330.42 967.272 Q2336.23 967.272 2339.29 971.879 Q2342.37 976.462 2342.37 985.212 Q2342.37 993.939 2339.29 998.545 Q2336.23 1003.13 2330.42 1003.13 Q2324.61 1003.13 2321.53 998.545 Q2318.48 993.939 2318.48 985.212 Q2318.48 976.462 2321.53 971.879 Q2324.61 967.272 2330.42 967.272 Z\" fill=\"#000000\" fill-rule=\"evenodd\" fill-opacity=\"1\" /><path clip-path=\"url(#clip650)\" d=\"M 0 0 M2357.44 970.976 Q2353.82 970.976 2352 974.541 Q2350.19 978.082 2350.19 985.212 Q2350.19 992.318 2352 995.883 Q2353.82 999.425 2357.44 999.425 Q2361.07 999.425 2362.88 995.883 Q2364.7 992.318 2364.7 985.212 Q2364.7 978.082 2362.88 974.541 Q2361.07 970.976 2357.44 970.976 M2357.44 967.272 Q2363.25 967.272 2366.3 971.879 Q2369.38 976.462 2369.38 985.212 Q2369.38 993.939 2366.3 998.545 Q2363.25 1003.13 2357.44 1003.13 Q2351.63 1003.13 2348.55 998.545 Q2345.49 993.939 2345.49 985.212 Q2345.49 976.462 2348.55 971.879 Q2351.63 967.272 2357.44 967.272 Z\" fill=\"#000000\" fill-rule=\"evenodd\" fill-opacity=\"1\" /><path clip-path=\"url(#clip650)\" d=\"M 0 0 M2274.38 832.617 L2290.7 832.617 L2290.7 836.552 L2268.76 836.552 L2268.76 832.617 Q2271.42 829.862 2276 825.233 Q2280.61 820.58 2281.79 819.238 Q2284.03 816.714 2284.91 814.978 Q2285.82 813.219 2285.82 811.529 Q2285.82 808.775 2283.87 807.039 Q2281.95 805.302 2278.85 805.302 Q2276.65 805.302 2274.2 806.066 Q2271.77 806.83 2268.99 808.381 L2268.99 803.659 Q2271.81 802.525 2274.27 801.946 Q2276.72 801.367 2278.76 801.367 Q2284.13 801.367 2287.32 804.052 Q2290.52 806.738 2290.52 811.228 Q2290.52 813.358 2289.7 815.279 Q2288.92 817.177 2286.81 819.77 Q2286.23 820.441 2283.13 823.659 Q2280.03 826.853 2274.38 832.617 Z\" fill=\"#000000\" fill-rule=\"evenodd\" fill-opacity=\"1\" /><path clip-path=\"url(#clip650)\" d=\"M 0 0 M2305.77 805.071 Q2302.16 805.071 2300.33 808.636 Q2298.52 812.177 2298.52 819.307 Q2298.52 826.413 2300.33 829.978 Q2302.16 833.52 2305.77 833.52 Q2309.4 833.52 2311.21 829.978 Q2313.04 826.413 2313.04 819.307 Q2313.04 812.177 2311.21 808.636 Q2309.4 805.071 2305.77 805.071 M2305.77 801.367 Q2311.58 801.367 2314.64 805.974 Q2317.71 810.557 2317.71 819.307 Q2317.71 828.034 2314.64 832.64 Q2311.58 837.224 2305.77 837.224 Q2299.96 837.224 2296.88 832.64 Q2293.83 828.034 2293.83 819.307 Q2293.83 810.557 2296.88 805.974 Q2299.96 801.367 2305.77 801.367 Z\" fill=\"#000000\" fill-rule=\"evenodd\" fill-opacity=\"1\" /><path clip-path=\"url(#clip650)\" d=\"M 0 0 M2332.78 805.071 Q2329.17 805.071 2327.34 808.636 Q2325.54 812.177 2325.54 819.307 Q2325.54 826.413 2327.34 829.978 Q2329.17 833.52 2332.78 833.52 Q2336.42 833.52 2338.22 829.978 Q2340.05 826.413 2340.05 819.307 Q2340.05 812.177 2338.22 808.636 Q2336.42 805.071 2332.78 805.071 M2332.78 801.367 Q2338.59 801.367 2341.65 805.974 Q2344.73 810.557 2344.73 819.307 Q2344.73 828.034 2341.65 832.64 Q2338.59 837.224 2332.78 837.224 Q2326.97 837.224 2323.89 832.64 Q2320.84 828.034 2320.84 819.307 Q2320.84 810.557 2323.89 805.974 Q2326.97 801.367 2332.78 801.367 Z\" fill=\"#000000\" fill-rule=\"evenodd\" fill-opacity=\"1\" /><path clip-path=\"url(#clip650)\" d=\"M 0 0 M2359.8 805.071 Q2356.19 805.071 2354.36 808.636 Q2352.55 812.177 2352.55 819.307 Q2352.55 826.413 2354.36 829.978 Q2356.19 833.52 2359.8 833.52 Q2363.43 833.52 2365.24 829.978 Q2367.07 826.413 2367.07 819.307 Q2367.07 812.177 2365.24 808.636 Q2363.43 805.071 2359.8 805.071 M2359.8 801.367 Q2365.61 801.367 2368.66 805.974 Q2371.74 810.557 2371.74 819.307 Q2371.74 828.034 2368.66 832.64 Q2365.61 837.224 2359.8 837.224 Q2353.99 837.224 2350.91 832.64 Q2347.85 828.034 2347.85 819.307 Q2347.85 810.557 2350.91 805.974 Q2353.99 801.367 2359.8 801.367 Z\" fill=\"#000000\" fill-rule=\"evenodd\" fill-opacity=\"1\" /><path clip-path=\"url(#clip650)\" d=\"M 0 0 M2274.38 666.712 L2290.7 666.712 L2290.7 670.647 L2268.76 670.647 L2268.76 666.712 Q2271.42 663.957 2276 659.328 Q2280.61 654.675 2281.79 653.333 Q2284.03 650.809 2284.91 649.073 Q2285.82 647.314 2285.82 645.624 Q2285.82 642.87 2283.87 641.134 Q2281.95 639.397 2278.85 639.397 Q2276.65 639.397 2274.2 640.161 Q2271.77 640.925 2268.99 642.476 L2268.99 637.754 Q2271.81 636.62 2274.27 636.041 Q2276.72 635.462 2278.76 635.462 Q2284.13 635.462 2287.32 638.147 Q2290.52 640.833 2290.52 645.323 Q2290.52 647.453 2289.7 649.374 Q2288.92 651.272 2286.81 653.865 Q2286.23 654.536 2283.13 657.754 Q2280.03 660.948 2274.38 666.712 Z\" fill=\"#000000\" fill-rule=\"evenodd\" fill-opacity=\"1\" /><path clip-path=\"url(#clip650)\" d=\"M 0 0 M2295.82 636.087 L2314.17 636.087 L2314.17 640.022 L2300.1 640.022 L2300.1 648.495 Q2301.12 648.147 2302.14 647.985 Q2303.15 647.8 2304.17 647.8 Q2309.96 647.8 2313.34 650.971 Q2316.72 654.143 2316.72 659.559 Q2316.72 665.138 2313.25 668.24 Q2309.77 671.319 2303.45 671.319 Q2301.28 671.319 2299.01 670.948 Q2296.77 670.578 2294.36 669.837 L2294.36 665.138 Q2296.44 666.272 2298.66 666.828 Q2300.89 667.383 2303.36 667.383 Q2307.37 667.383 2309.7 665.277 Q2312.04 663.17 2312.04 659.559 Q2312.04 655.948 2309.7 653.842 Q2307.37 651.735 2303.36 651.735 Q2301.49 651.735 2299.61 652.152 Q2297.76 652.569 2295.82 653.448 L2295.82 636.087 Z\" fill=\"#000000\" fill-rule=\"evenodd\" fill-opacity=\"1\" /><path clip-path=\"url(#clip650)\" d=\"M 0 0 M2331.79 639.166 Q2328.18 639.166 2326.35 642.731 Q2324.54 646.272 2324.54 653.402 Q2324.54 660.508 2326.35 664.073 Q2328.18 667.615 2331.79 667.615 Q2335.42 667.615 2337.23 664.073 Q2339.06 660.508 2339.06 653.402 Q2339.06 646.272 2337.23 642.731 Q2335.42 639.166 2331.79 639.166 M2331.79 635.462 Q2337.6 635.462 2340.65 640.069 Q2343.73 644.652 2343.73 653.402 Q2343.73 662.129 2340.65 666.735 Q2337.6 671.319 2331.79 671.319 Q2325.98 671.319 2322.9 666.735 Q2319.84 662.129 2319.84 653.402 Q2319.84 644.652 2322.9 640.069 Q2325.98 635.462 2331.79 635.462 Z\" fill=\"#000000\" fill-rule=\"evenodd\" fill-opacity=\"1\" /><path clip-path=\"url(#clip650)\" d=\"M 0 0 M2358.8 639.166 Q2355.19 639.166 2353.36 642.731 Q2351.56 646.272 2351.56 653.402 Q2351.56 660.508 2353.36 664.073 Q2355.19 667.615 2358.8 667.615 Q2362.44 667.615 2364.24 664.073 Q2366.07 660.508 2366.07 653.402 Q2366.07 646.272 2364.24 642.731 Q2362.44 639.166 2358.8 639.166 M2358.8 635.462 Q2364.61 635.462 2367.67 640.069 Q2370.75 644.652 2370.75 653.402 Q2370.75 662.129 2367.67 666.735 Q2364.61 671.319 2358.8 671.319 Q2352.99 671.319 2349.91 666.735 Q2346.86 662.129 2346.86 653.402 Q2346.86 644.652 2349.91 640.069 Q2352.99 635.462 2358.8 635.462 Z\" fill=\"#000000\" fill-rule=\"evenodd\" fill-opacity=\"1\" /><path clip-path=\"url(#clip650)\" d=\"M 0 0 M2284.38 486.108 Q2287.74 486.826 2289.61 489.094 Q2291.51 491.363 2291.51 494.696 Q2291.51 499.812 2287.99 502.613 Q2284.47 505.414 2277.99 505.414 Q2275.82 505.414 2273.5 504.974 Q2271.21 504.557 2268.76 503.701 L2268.76 499.187 Q2270.7 500.321 2273.02 500.9 Q2275.33 501.478 2277.85 501.478 Q2282.25 501.478 2284.54 499.742 Q2286.86 498.006 2286.86 494.696 Q2286.86 491.64 2284.7 489.928 Q2282.58 488.191 2278.76 488.191 L2274.73 488.191 L2274.73 484.349 L2278.94 484.349 Q2282.39 484.349 2284.22 482.983 Q2286.05 481.594 2286.05 479.002 Q2286.05 476.34 2284.15 474.928 Q2282.27 473.492 2278.76 473.492 Q2276.83 473.492 2274.64 473.909 Q2272.44 474.326 2269.8 475.205 L2269.8 471.039 Q2272.46 470.298 2274.77 469.928 Q2277.11 469.557 2279.17 469.557 Q2284.5 469.557 2287.6 471.988 Q2290.7 474.395 2290.7 478.516 Q2290.7 481.386 2289.06 483.377 Q2287.41 485.344 2284.38 486.108 Z\" fill=\"#000000\" fill-rule=\"evenodd\" fill-opacity=\"1\" /><path clip-path=\"url(#clip650)\" d=\"M 0 0 M2306.58 473.261 Q2302.97 473.261 2301.14 476.826 Q2299.33 480.367 2299.33 487.497 Q2299.33 494.603 2301.14 498.168 Q2302.97 501.71 2306.58 501.71 Q2310.21 501.71 2312.02 498.168 Q2313.85 494.603 2313.85 487.497 Q2313.85 480.367 2312.02 476.826 Q2310.21 473.261 2306.58 473.261 M2306.58 469.557 Q2312.39 469.557 2315.45 474.164 Q2318.52 478.747 2318.52 487.497 Q2318.52 496.224 2315.45 500.83 Q2312.39 505.414 2306.58 505.414 Q2300.77 505.414 2297.69 500.83 Q2294.64 496.224 2294.64 487.497 Q2294.64 478.747 2297.69 474.164 Q2300.77 469.557 2306.58 469.557 Z\" fill=\"#000000\" fill-rule=\"evenodd\" fill-opacity=\"1\" /><path clip-path=\"url(#clip650)\" d=\"M 0 0 M2333.59 473.261 Q2329.98 473.261 2328.15 476.826 Q2326.35 480.367 2326.35 487.497 Q2326.35 494.603 2328.15 498.168 Q2329.98 501.71 2333.59 501.71 Q2337.23 501.71 2339.03 498.168 Q2340.86 494.603 2340.86 487.497 Q2340.86 480.367 2339.03 476.826 Q2337.23 473.261 2333.59 473.261 M2333.59 469.557 Q2339.4 469.557 2342.46 474.164 Q2345.54 478.747 2345.54 487.497 Q2345.54 496.224 2342.46 500.83 Q2339.4 505.414 2333.59 505.414 Q2327.78 505.414 2324.7 500.83 Q2321.65 496.224 2321.65 487.497 Q2321.65 478.747 2324.7 474.164 Q2327.78 469.557 2333.59 469.557 Z\" fill=\"#000000\" fill-rule=\"evenodd\" fill-opacity=\"1\" /><path clip-path=\"url(#clip650)\" d=\"M 0 0 M2360.61 473.261 Q2357 473.261 2355.17 476.826 Q2353.36 480.367 2353.36 487.497 Q2353.36 494.603 2355.17 498.168 Q2357 501.71 2360.61 501.71 Q2364.24 501.71 2366.05 498.168 Q2367.88 494.603 2367.88 487.497 Q2367.88 480.367 2366.05 476.826 Q2364.24 473.261 2360.61 473.261 M2360.61 469.557 Q2366.42 469.557 2369.47 474.164 Q2372.55 478.747 2372.55 487.497 Q2372.55 496.224 2369.47 500.83 Q2366.42 505.414 2360.61 505.414 Q2354.8 505.414 2351.72 500.83 Q2348.66 496.224 2348.66 487.497 Q2348.66 478.747 2351.72 474.164 Q2354.8 469.557 2360.61 469.557 Z\" fill=\"#000000\" fill-rule=\"evenodd\" fill-opacity=\"1\" /><path clip-path=\"url(#clip650)\" d=\"M 0 0 M2284.38 320.203 Q2287.74 320.921 2289.61 323.189 Q2291.51 325.458 2291.51 328.791 Q2291.51 333.907 2287.99 336.708 Q2284.47 339.509 2277.99 339.509 Q2275.82 339.509 2273.5 339.069 Q2271.21 338.652 2268.76 337.796 L2268.76 333.282 Q2270.7 334.416 2273.02 334.995 Q2275.33 335.573 2277.85 335.573 Q2282.25 335.573 2284.54 333.837 Q2286.86 332.101 2286.86 328.791 Q2286.86 325.736 2284.7 324.023 Q2282.58 322.286 2278.76 322.286 L2274.73 322.286 L2274.73 318.444 L2278.94 318.444 Q2282.39 318.444 2284.22 317.078 Q2286.05 315.689 2286.05 313.097 Q2286.05 310.435 2284.15 309.023 Q2282.27 307.587 2278.76 307.587 Q2276.83 307.587 2274.64 308.004 Q2272.44 308.421 2269.8 309.3 L2269.8 305.134 Q2272.46 304.393 2274.77 304.023 Q2277.11 303.652 2279.17 303.652 Q2284.5 303.652 2287.6 306.083 Q2290.7 308.49 2290.7 312.611 Q2290.7 315.481 2289.06 317.472 Q2287.41 319.439 2284.38 320.203 Z\" fill=\"#000000\" fill-rule=\"evenodd\" fill-opacity=\"1\" /><path clip-path=\"url(#clip650)\" d=\"M 0 0 M2296.63 304.277 L2314.98 304.277 L2314.98 308.212 L2300.91 308.212 L2300.91 316.685 Q2301.93 316.337 2302.95 316.175 Q2303.96 315.99 2304.98 315.99 Q2310.77 315.99 2314.15 319.161 Q2317.53 322.333 2317.53 327.749 Q2317.53 333.328 2314.06 336.43 Q2310.58 339.509 2304.26 339.509 Q2302.09 339.509 2299.82 339.138 Q2297.58 338.768 2295.17 338.027 L2295.17 333.328 Q2297.25 334.462 2299.47 335.018 Q2301.7 335.573 2304.17 335.573 Q2308.18 335.573 2310.51 333.467 Q2312.85 331.36 2312.85 327.749 Q2312.85 324.138 2310.51 322.032 Q2308.18 319.925 2304.17 319.925 Q2302.3 319.925 2300.42 320.342 Q2298.57 320.759 2296.63 321.638 L2296.63 304.277 Z\" fill=\"#000000\" fill-rule=\"evenodd\" fill-opacity=\"1\" /><path clip-path=\"url(#clip650)\" d=\"M 0 0 M2332.6 307.356 Q2328.99 307.356 2327.16 310.921 Q2325.35 314.462 2325.35 321.592 Q2325.35 328.698 2327.16 332.263 Q2328.99 335.805 2332.6 335.805 Q2336.23 335.805 2338.04 332.263 Q2339.87 328.698 2339.87 321.592 Q2339.87 314.462 2338.04 310.921 Q2336.23 307.356 2332.6 307.356 M2332.6 303.652 Q2338.41 303.652 2341.46 308.259 Q2344.54 312.842 2344.54 321.592 Q2344.54 330.319 2341.46 334.925 Q2338.41 339.509 2332.6 339.509 Q2326.79 339.509 2323.71 334.925 Q2320.65 330.319 2320.65 321.592 Q2320.65 312.842 2323.71 308.259 Q2326.79 303.652 2332.6 303.652 Z\" fill=\"#000000\" fill-rule=\"evenodd\" fill-opacity=\"1\" /><path clip-path=\"url(#clip650)\" d=\"M 0 0 M2359.61 307.356 Q2356 307.356 2354.17 310.921 Q2352.37 314.462 2352.37 321.592 Q2352.37 328.698 2354.17 332.263 Q2356 335.805 2359.61 335.805 Q2363.25 335.805 2365.05 332.263 Q2366.88 328.698 2366.88 321.592 Q2366.88 314.462 2365.05 310.921 Q2363.25 307.356 2359.61 307.356 M2359.61 303.652 Q2365.42 303.652 2368.48 308.259 Q2371.56 312.842 2371.56 321.592 Q2371.56 330.319 2368.48 334.925 Q2365.42 339.509 2359.61 339.509 Q2353.8 339.509 2350.72 334.925 Q2347.67 330.319 2347.67 321.592 Q2347.67 312.842 2350.72 308.259 Q2353.8 303.652 2359.61 303.652 Z\" fill=\"#000000\" fill-rule=\"evenodd\" fill-opacity=\"1\" /><path clip-path=\"url(#clip650)\" d=\"M 0 0 M2284.36 142.446 L2272.55 160.895 L2284.36 160.895 L2284.36 142.446 M2283.13 138.372 L2289.01 138.372 L2289.01 160.895 L2293.94 160.895 L2293.94 164.784 L2289.01 164.784 L2289.01 172.932 L2284.36 172.932 L2284.36 164.784 L2268.76 164.784 L2268.76 160.27 L2283.13 138.372 Z\" fill=\"#000000\" fill-rule=\"evenodd\" fill-opacity=\"1\" /><path clip-path=\"url(#clip650)\" d=\"M 0 0 M2309.01 141.451 Q2305.4 141.451 2303.57 145.016 Q2301.76 148.557 2301.76 155.687 Q2301.76 162.793 2303.57 166.358 Q2305.4 169.9 2309.01 169.9 Q2312.64 169.9 2314.45 166.358 Q2316.28 162.793 2316.28 155.687 Q2316.28 148.557 2314.45 145.016 Q2312.64 141.451 2309.01 141.451 M2309.01 137.747 Q2314.82 137.747 2317.88 142.354 Q2320.95 146.937 2320.95 155.687 Q2320.95 164.414 2317.88 169.02 Q2314.82 173.604 2309.01 173.604 Q2303.2 173.604 2300.12 169.02 Q2297.07 164.414 2297.07 155.687 Q2297.07 146.937 2300.12 142.354 Q2303.2 137.747 2309.01 137.747 Z\" fill=\"#000000\" fill-rule=\"evenodd\" fill-opacity=\"1\" /><path clip-path=\"url(#clip650)\" d=\"M 0 0 M2336.02 141.451 Q2332.41 141.451 2330.58 145.016 Q2328.78 148.557 2328.78 155.687 Q2328.78 162.793 2330.58 166.358 Q2332.41 169.9 2336.02 169.9 Q2339.66 169.9 2341.46 166.358 Q2343.29 162.793 2343.29 155.687 Q2343.29 148.557 2341.46 145.016 Q2339.66 141.451 2336.02 141.451 M2336.02 137.747 Q2341.83 137.747 2344.89 142.354 Q2347.97 146.937 2347.97 155.687 Q2347.97 164.414 2344.89 169.02 Q2341.83 173.604 2336.02 173.604 Q2330.21 173.604 2327.14 169.02 Q2324.08 164.414 2324.08 155.687 Q2324.08 146.937 2327.14 142.354 Q2330.21 137.747 2336.02 137.747 Z\" fill=\"#000000\" fill-rule=\"evenodd\" fill-opacity=\"1\" /><path clip-path=\"url(#clip650)\" d=\"M 0 0 M2363.04 141.451 Q2359.43 141.451 2357.6 145.016 Q2355.79 148.557 2355.79 155.687 Q2355.79 162.793 2357.6 166.358 Q2359.43 169.9 2363.04 169.9 Q2366.67 169.9 2368.48 166.358 Q2370.31 162.793 2370.31 155.687 Q2370.31 148.557 2368.48 145.016 Q2366.67 141.451 2363.04 141.451 M2363.04 137.747 Q2368.85 137.747 2371.9 142.354 Q2374.98 146.937 2374.98 155.687 Q2374.98 164.414 2371.9 169.02 Q2368.85 173.604 2363.04 173.604 Q2357.23 173.604 2354.15 169.02 Q2351.09 164.414 2351.09 155.687 Q2351.09 146.937 2354.15 142.354 Q2357.23 137.747 2363.04 137.747 Z\" fill=\"#000000\" fill-rule=\"evenodd\" fill-opacity=\"1\" /><polyline clip-path=\"url(#clip650)\" style=\"stroke:#000000; stroke-width:4; stroke-opacity:1; fill:none\" points=\"\n",
       "  2232.76,1486.45 2232.76,1320.62 2256.76,1320.62 2232.76,1320.62 2232.76,1154.71 2256.76,1154.71 2232.76,1154.71 2232.76,988.806 2256.76,988.806 2232.76,988.806 \n",
       "  2232.76,822.901 2256.76,822.901 2232.76,822.901 2232.76,656.996 2256.76,656.996 2232.76,656.996 2232.76,491.091 2256.76,491.091 2232.76,491.091 2232.76,325.186 \n",
       "  2256.76,325.186 2232.76,325.186 2232.76,159.281 2256.76,159.281 2232.76,159.281 2232.76,47.2441 \n",
       "  \"/>\n",
       "</svg>\n"
      ]
     },
     "execution_count": 56,
     "metadata": {},
     "output_type": "execute_result"
    }
   ],
   "source": [
    "h = heatmap(measures, probabilities, utilities_grid)"
   ]
  },
  {
   "cell_type": "code",
   "execution_count": null,
   "metadata": {},
   "outputs": [],
   "source": []
  },
  {
   "cell_type": "code",
   "execution_count": null,
   "metadata": {},
   "outputs": [],
   "source": []
  }
 ],
 "metadata": {
  "kernelspec": {
   "display_name": "Julia 1.5.3",
   "language": "julia",
   "name": "julia-1.5"
  },
  "language_info": {
   "file_extension": ".jl",
   "mimetype": "application/julia",
   "name": "julia",
   "version": "1.5.3"
  }
 },
 "nbformat": 4,
 "nbformat_minor": 4
}

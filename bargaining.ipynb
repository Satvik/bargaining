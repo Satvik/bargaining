{
 "cells": [
  {
   "cell_type": "code",
   "execution_count": 1,
   "metadata": {},
   "outputs": [],
   "source": [
    "using DataFrames\n",
    "using Underscores"
   ]
  },
  {
   "cell_type": "code",
   "execution_count": 26,
   "metadata": {},
   "outputs": [],
   "source": [
    "using Pkg\n",
    "using Chain"
   ]
  },
  {
   "cell_type": "code",
   "execution_count": 27,
   "metadata": {},
   "outputs": [
    {
     "name": "stderr",
     "output_type": "stream",
     "text": [
      "\u001b[32m\u001b[1m  Resolving\u001b[22m\u001b[39m package versions...\n",
      "\u001b[32m\u001b[1m  Installed\u001b[22m\u001b[39m PyPlot ─ v2.9.0\n",
      "\u001b[32m\u001b[1mUpdating\u001b[22m\u001b[39m `~/git/euler/Project.toml`\n",
      " \u001b[90m [d330b81b] \u001b[39m\u001b[92m+ PyPlot v2.9.0\u001b[39m\n",
      "\u001b[32m\u001b[1mUpdating\u001b[22m\u001b[39m `~/git/euler/Manifest.toml`\n",
      " \u001b[90m [438e738f] \u001b[39m\u001b[92m+ PyCall v1.92.2\u001b[39m\n",
      " \u001b[90m [d330b81b] \u001b[39m\u001b[92m+ PyPlot v2.9.0\u001b[39m\n"
     ]
    }
   ],
   "source": [
    "Pkg.add(\"PyPlot\")"
   ]
  },
  {
   "cell_type": "code",
   "execution_count": 28,
   "metadata": {},
   "outputs": [
    {
     "name": "stderr",
     "output_type": "stream",
     "text": [
      "┌ Info: Precompiling PyPlot [d330b81b-6aea-500a-939a-2ce795aea3ee]\n",
      "└ @ Base loading.jl:1278\n"
     ]
    },
    {
     "data": {
      "text/plain": [
       "Plots.PyPlotBackend()"
      ]
     },
     "execution_count": 28,
     "metadata": {},
     "output_type": "execute_result"
    }
   ],
   "source": [
    "using Plots\n",
    "pyplot()"
   ]
  },
  {
   "cell_type": "code",
   "execution_count": 29,
   "metadata": {},
   "outputs": [],
   "source": [
    "abstract type Team end\n",
    "struct Aligned <: Team end\n",
    "struct Unaligned <: Team end"
   ]
  },
  {
   "cell_type": "code",
   "execution_count": 30,
   "metadata": {},
   "outputs": [
    {
     "data": {
      "text/plain": [
       "Unaligned()"
      ]
     },
     "execution_count": 30,
     "metadata": {},
     "output_type": "execute_result"
    }
   ],
   "source": [
    "aligned = Aligned()\n",
    "unaligned = Unaligned()"
   ]
  },
  {
   "cell_type": "code",
   "execution_count": 31,
   "metadata": {},
   "outputs": [
    {
     "data": {
      "text/plain": [
       "2"
      ]
     },
     "execution_count": 31,
     "metadata": {},
     "output_type": "execute_result"
    }
   ],
   "source": [
    "world1 = 1\n",
    "world2 = 2"
   ]
  },
  {
   "cell_type": "code",
   "execution_count": 32,
   "metadata": {},
   "outputs": [
    {
     "data": {
      "text/plain": [
       "2-element Array{Int64,1}:\n",
       " 1\n",
       " 2"
      ]
     },
     "execution_count": 32,
     "metadata": {},
     "output_type": "execute_result"
    }
   ],
   "source": [
    "worlds = [world1, world2]"
   ]
  },
  {
   "cell_type": "code",
   "execution_count": 33,
   "metadata": {},
   "outputs": [
    {
     "data": {
      "text/plain": [
       "2-element Array{Team,1}:\n",
       " Aligned()\n",
       " Unaligned()"
      ]
     },
     "execution_count": 33,
     "metadata": {},
     "output_type": "execute_result"
    }
   ],
   "source": [
    "teams = [aligned, unaligned]"
   ]
  },
  {
   "cell_type": "code",
   "execution_count": 34,
   "metadata": {},
   "outputs": [
    {
     "data": {
      "text/plain": [
       "make_rows (generic function with 1 method)"
      ]
     },
     "execution_count": 34,
     "metadata": {},
     "output_type": "execute_result"
    }
   ],
   "source": [
    "function make_rows(teams, worlds, aligned_measure, starting_resources)\n",
    "    rows = []\n",
    "    for i in eachindex(teams), j in eachindex(worlds)\n",
    "        team = teams[i]\n",
    "        world = worlds[j]\n",
    "        if team == aligned\n",
    "            measure = aligned_measure\n",
    "        else\n",
    "            measure = 1.0\n",
    "        end\n",
    "        if i == j\n",
    "            resource = starting_resources\n",
    "        else\n",
    "            resource = 0.0\n",
    "        end\n",
    "        \n",
    "        row = (team = team, world = world, measure = measure, resource = resource)\n",
    "        push!(rows, row)\n",
    "    end\n",
    "    return rows\n",
    "end\n",
    "                \n"
   ]
  },
  {
   "cell_type": "code",
   "execution_count": 35,
   "metadata": {},
   "outputs": [
    {
     "data": {
      "text/plain": [
       "get_utility (generic function with 1 method)"
      ]
     },
     "execution_count": 35,
     "metadata": {},
     "output_type": "execute_result"
    }
   ],
   "source": [
    "function get_utility(data; resource_col = \"resource\")\n",
    "    return data.measure .* log10.(data[resource_col] .+ 1.0)\n",
    "end"
   ]
  },
  {
   "cell_type": "code",
   "execution_count": 36,
   "metadata": {},
   "outputs": [
    {
     "data": {
      "text/plain": [
       "equal_split_bargaining_strategy (generic function with 1 method)"
      ]
     },
     "execution_count": 36,
     "metadata": {},
     "output_type": "execute_result"
    }
   ],
   "source": [
    "function equal_split_bargaining_strategy(data)\n",
    "    # A simple bargaining strategy where we assume a successful negotiation\n",
    "    # results in splitting resources evenly across each world. \n",
    "    resources_df = @chain data begin\n",
    "    groupby(_, :world)\n",
    "    combine(_, :resource => sum)\n",
    "    end\n",
    "    \n",
    "    num_teams = length(unique(data.team))\n",
    "    resources_df.resource_sum /= 2\n",
    "    rename!(resources_df, (\"resource_sum\" => \"bargain_resource\")) \n",
    "    return join(data, resources_df, on=:world)\n",
    "end\n",
    "    \n",
    "    \n",
    "    \n",
    "    \n",
    "   "
   ]
  },
  {
   "cell_type": "code",
   "execution_count": 37,
   "metadata": {},
   "outputs": [
    {
     "data": {
      "text/plain": [
       "standard_failure (generic function with 1 method)"
      ]
     },
     "execution_count": 37,
     "metadata": {},
     "output_type": "execute_result"
    }
   ],
   "source": [
    "function standard_failure(data)\n",
    "    return get_utility(data, resource_col=\"resource\")\n",
    "end"
   ]
  },
  {
   "cell_type": "code",
   "execution_count": 38,
   "metadata": {},
   "outputs": [
    {
     "data": {
      "text/plain": [
       "expected_utilities (generic function with 1 method)"
      ]
     },
     "execution_count": 38,
     "metadata": {},
     "output_type": "execute_result"
    }
   ],
   "source": [
    "function expected_utilities(data, utility_fn, bargaining_strategy, bargain_failure_utility, p_bargaining_success)\n",
    "    # Get expected utility grouped by team, based on the utility, bargaining strategy, and probability\n",
    "    # that bargaining succeeds\n",
    "    data_with_bargain_resources = bargaining_strategy(data)\n",
    "    bargain_success_utility = utility_fn(data_with_bargain_resources, resource_col=\"bargain_resource\")\n",
    "    bargain_fail_utility = bargain_failure_utility(data_with_bargain_resources)\n",
    "    data_with_bargain_resources[\"expected_utility\"] = p_bargaining_success .* bargain_success_utility + (1 - p_bargaining_success) .* bargain_fail_utility\n",
    "    return data_with_bargain_resources\n",
    "end\n",
    "    \n",
    "    "
   ]
  },
  {
   "cell_type": "code",
   "execution_count": 39,
   "metadata": {},
   "outputs": [
    {
     "data": {
      "text/plain": [
       "aligned_utility (generic function with 1 method)"
      ]
     },
     "execution_count": 39,
     "metadata": {},
     "output_type": "execute_result"
    }
   ],
   "source": [
    "function aligned_utility(teams, worlds, get_utility, bargaining_strategy, bargain_failure_utility, p_bargaining_success, aligned_measure, initial_resource)\n",
    "    df = make_rows(teams, worlds, aligned_measure, initial_resource) |> DataFrame\n",
    "    eu = expected_utilities(df, get_utility, bargaining_strategy, bargain_failure_utility, p_bargaining_success)\n",
    "    return @_ eu |> filter(_.team == aligned, __) |> sum(__.expected_utility)\n",
    "end"
   ]
  },
  {
   "cell_type": "code",
   "execution_count": 40,
   "metadata": {},
   "outputs": [
    {
     "data": {
      "text/plain": [
       "2.523979400086721"
      ]
     },
     "execution_count": 40,
     "metadata": {},
     "output_type": "execute_result"
    }
   ],
   "source": [
    "aligned_utility(teams, worlds, get_utility, equal_split_bargaining_strategy, standard_failure, .1, .1, 10e22)"
   ]
  },
  {
   "cell_type": "code",
   "execution_count": 41,
   "metadata": {},
   "outputs": [
    {
     "data": {
      "text/plain": [
       "5-element Array{Float64,1}:\n",
       "   0.01\n",
       "   0.1\n",
       "   1.0\n",
       "  10.0\n",
       " 100.0"
      ]
     },
     "execution_count": 41,
     "metadata": {},
     "output_type": "execute_result"
    }
   ],
   "source": [
    "measures = [10.0^n for n in -2:2]"
   ]
  },
  {
   "cell_type": "code",
   "execution_count": 42,
   "metadata": {},
   "outputs": [
    {
     "data": {
      "text/plain": [
       "5-element LinRange{Float64}:\n",
       " 0.001,0.2505,0.5,0.7495,0.999"
      ]
     },
     "execution_count": 42,
     "metadata": {},
     "output_type": "execute_result"
    }
   ],
   "source": [
    "probabilities = LinRange(1e-3, 1 - 1e-3, 5)"
   ]
  },
  {
   "cell_type": "code",
   "execution_count": null,
   "metadata": {},
   "outputs": [],
   "source": []
  },
  {
   "cell_type": "code",
   "execution_count": 43,
   "metadata": {},
   "outputs": [
    {
     "data": {
      "text/plain": [
       "utility_from_measure_and_probability (generic function with 1 method)"
      ]
     },
     "execution_count": 43,
     "metadata": {},
     "output_type": "execute_result"
    }
   ],
   "source": [
    "function utility_from_measure_and_probability((probability, measure))\n",
    "    return aligned_utility(teams, worlds, get_utility, equal_split_bargaining_strategy, standard_failure, probability, measure, 1e22)\n",
    "end"
   ]
  },
  {
   "cell_type": "code",
   "execution_count": 44,
   "metadata": {},
   "outputs": [
    {
     "data": {
      "text/plain": [
       "5×5 Array{Tuple{Float64,Float64},2}:\n",
       " (0.001, 0.01)   (0.001, 0.1)   …  (0.001, 10.0)   (0.001, 100.0)\n",
       " (0.2505, 0.01)  (0.2505, 0.1)     (0.2505, 10.0)  (0.2505, 100.0)\n",
       " (0.5, 0.01)     (0.5, 0.1)        (0.5, 10.0)     (0.5, 100.0)\n",
       " (0.7495, 0.01)  (0.7495, 0.1)     (0.7495, 10.0)  (0.7495, 100.0)\n",
       " (0.999, 0.01)   (0.999, 0.1)      (0.999, 10.0)   (0.999, 100.0)"
      ]
     },
     "execution_count": 44,
     "metadata": {},
     "output_type": "execute_result"
    }
   ],
   "source": [
    "mat = Base.product(probabilities, measures) |> collect"
   ]
  },
  {
   "cell_type": "code",
   "execution_count": 45,
   "metadata": {},
   "outputs": [
    {
     "data": {
      "text/plain": [
       "5×5 Array{Float64,2}:\n",
       " 0.220214  2.20214  22.0214  220.214  2202.14\n",
       " 0.273602  2.73602  27.3602  273.602  2736.02\n",
       " 0.32699   3.2699   32.699   326.99   3269.9\n",
       " 0.380378  3.80378  38.0378  380.378  3803.78\n",
       " 0.433765  4.33765  43.3765  433.765  4337.65"
      ]
     },
     "execution_count": 45,
     "metadata": {},
     "output_type": "execute_result"
    }
   ],
   "source": [
    "utilities_grid = map(utility_from_measure_and_probability, mat)"
   ]
  },
  {
   "cell_type": "code",
   "execution_count": 46,
   "metadata": {},
   "outputs": [
    {
     "data": {
      "image/png": "[encoded data removed]"
     },
     "execution_count": 46,
     "metadata": {},
     "output_type": "execute_result"
    }
   ],
   "source": [
    "h = heatmap(measures, probabilities, utilities_grid)"
   ]
  },
  {
   "cell_type": "code",
   "execution_count": 47,
   "metadata": {},
   "outputs": [],
   "source": [
    "savefig(\"heatmap2.png\")"
   ]
  },
  {
   "cell_type": "code",
   "execution_count": null,
   "metadata": {},
   "outputs": [],
   "source": []
  },
  {
   "cell_type": "code",
   "execution_count": null,
   "metadata": {},
   "outputs": [],
   "source": []
  }
 ],
 "metadata": {
  "kernelspec": {
   "display_name": "Julia 1.5.3",
   "language": "julia",
   "name": "julia-1.5"
  },
  "language_info": {
   "file_extension": ".jl",
   "mimetype": "application/julia",
   "name": "julia",
   "version": "1.5.3"
  }
 },
 "nbformat": 4,
 "nbformat_minor": 4
}
